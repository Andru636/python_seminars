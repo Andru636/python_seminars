{
 "cells": [
  {
   "cell_type": "markdown",
   "metadata": {
    "id": "LlmAifELkU13"
   },
   "source": [
    "# Занятие 15. Символьные вычисления. SymPy"
   ]
  },
  {
   "cell_type": "markdown",
   "metadata": {
    "id": "Bf2WfE4hk39d"
   },
   "source": [
    "# Полезные материалы"
   ]
  },
  {
   "cell_type": "markdown",
   "metadata": {
    "id": "edeqM8ZX5Y-X"
   },
   "source": [
    "- [Документация по SymPy](https://docs.sympy.org/latest/index.html)\n",
    "- [Установка SymPy](https://docs.sympy.org/latest/install.html)\n",
    "- [github](https://github.com/sympy) \n",
    "- [Левый туториал с ютуба (для любителей английского)](https://www.youtube.com/watch?v=VKOYjemQRqw&list=PLSE7WKf_qqo1T5VV1nqXTj2iNiSpFk72T&ab_channel=TMQuest)\n",
    "- [Для общего развития, доклад(2013 год)](https://www.youtube.com/watch?v=Jtt9hexk93o&list=RDQMpIx5sgZrsA0&start_radio=1&ab_channel=Enthought)\n",
    "- [мемные видосики](https://www.youtube.com/playlist?list=PLkdGijFCNuVmu35l6EJxdvsvf7xj4EQVf)"
   ]
  },
  {
   "cell_type": "code",
   "execution_count": 2,
   "metadata": {
    "id": "e95xynwBUeGq"
   },
   "outputs": [],
   "source": [
    "# Imports\n",
    "import numpy as np\n",
    "import matplotlib.pyplot as plt\n",
    "import math\n",
    "import sympy as sp\n",
    "\n",
    "%matplotlib inline"
   ]
  },
  {
   "cell_type": "markdown",
   "metadata": {
    "id": "NYrCjFloTdBX"
   },
   "source": [
    "# 1. Введение\n"
   ]
  },
  {
   "cell_type": "markdown",
   "metadata": {
    "id": "sqUcP7ZKbulu"
   },
   "source": [
    "**Что такое символьные вычисления?**\n",
    "\n",
    "Символьные вычисления имеют дело с вычислением математических объектов символически. Это означает, что математические объекты представляются точно, а не приблизительно, а математические выражения с невычисленными переменными оставляются в символьной форме.\n",
    "\n",
    "**Несколько примеров:**\n",
    "\n",
    " Вычислим\n",
    " - $\\sqrt{9}$\n",
    " - $\\sqrt{8}$\n",
    " - $\\log_{2}{4}$\n",
    " - $\\log_{2}{6}$"
   ]
  },
  {
   "cell_type": "code",
   "execution_count": 4,
   "metadata": {
    "colab": {
     "base_uri": "https://localhost:8080/"
    },
    "id": "RHQVPQAPTTpm",
    "outputId": "a6d220a3-e0af-4381-8ac5-23b7080aa422"
   },
   "outputs": [
    {
     "name": "stdout",
     "output_type": "stream",
     "text": [
      "числовое вычисление: 3.0\t\t символьное вычисление: 3\n",
      "числовое вычисление: 2.8284271247461903\t символьное вычисление: 2*sqrt(2)\n",
      "числовое вычисление: 2.0\t\t символьное вычисление: 2\n",
      "числовое вычисление: 0.3868528072345416\t символьное вычисление: log(2)/log(6)\n"
     ]
    }
   ],
   "source": [
    "# пример 1\n",
    "print(f'числовое вычисление: {math.sqrt(9)}\\t\\t символьное вычисление: {sp.sqrt(9)}')\n",
    "\n",
    "# пример 2\n",
    "print(f'числовое вычисление: {math.sqrt(8)}\\t символьное вычисление: {sp.sqrt(8)}')\n",
    "\n",
    "# пример 3\n",
    "print(f'числовое вычисление: {math.log(4, 2)}\\t\\t символьное вычисление: {sp.log(4, 2)}')\n",
    "\n",
    "# пример 4\n",
    "print(f'числовое вычисление: {math.log(2, 6)}\\t символьное вычисление: {sp.log(2, 6)}')"
   ]
  },
  {
   "cell_type": "markdown",
   "metadata": {
    "id": "RJDDcBsJWy-u"
   },
   "source": [
    ">**Что точнее?**\n",
    ">\n",
    ">Точнее то, что не прибегалось к числовому счёту в типах с плавающей точкой.\n",
    ">\n",
    ">Отсюда и название..."
   ]
  },
  {
   "cell_type": "markdown",
   "metadata": {
    "id": "Au-KIlWhbpsi"
   },
   "source": [
    "Посмотрим ещё примеры, только теперь рассмотрим выражение:\n",
    "\n",
    "$$ x^2y + 2xy^2 + (1-x)^2 + 4\\sin x\\cos x, $$\n",
    "\n",
    "Видим зависимость от двух переменных $x, y$.\n",
    "\n",
    "**Задача:** упростите данное выражение.\n",
    "\n",
    "Упростили на листочке? Вам должно быть лень, ведь мы физтехи. Упростим халявно - с помощью SymPy. Но для этого нам нужно объявить переменные - вот мы и дошли до первого пункта плана."
   ]
  },
  {
   "cell_type": "markdown",
   "metadata": {
    "id": "uen5yOrM8zb1"
   },
   "source": [
    "# 2. Объявление математических переменных, константы, комплексные числа"
   ]
  },
  {
   "cell_type": "markdown",
   "metadata": {
    "id": "_Pc2EkoYR3iX"
   },
   "source": [
    "## 2.1. Объявление математических переменных, константы, комплексные числа"
   ]
  },
  {
   "cell_type": "markdown",
   "metadata": {
    "id": "pRLb_zQ3-u4w"
   },
   "source": [
    "В данном случае нам нужна математическая переменная, поэтому возьмём её из SymPy:"
   ]
  },
  {
   "cell_type": "code",
   "execution_count": 6,
   "metadata": {
    "colab": {
     "base_uri": "https://localhost:8080/"
    },
    "id": "kjK16KNPUj-h",
    "outputId": "d6bbda39-f135-4f3a-8439-3e5377efbc1c"
   },
   "outputs": [
    {
     "data": {
      "text/plain": [
       "sympy.core.symbol.Symbol"
      ]
     },
     "execution_count": 6,
     "metadata": {},
     "output_type": "execute_result"
    }
   ],
   "source": [
    "# объявление переменной 'x'\n",
    "x = sp.symbols('x')\n",
    "\n",
    "# объявление переменной 'y'\n",
    "y = sp.symbols('y')\n",
    "\n",
    "type(x)"
   ]
  },
  {
   "cell_type": "markdown",
   "metadata": {
    "id": "OSKcQlUz_bD0"
   },
   "source": [
    "Про типы поговорим позже. Обозначим выражение, теперь уже отказавшись от функций `math`. Используем только SymPy:"
   ]
  },
  {
   "cell_type": "code",
   "execution_count": 8,
   "metadata": {
    "colab": {
     "base_uri": "https://localhost:8080/",
     "height": 39
    },
    "id": "eXIrjkeQ_Zx9",
    "outputId": "79706af6-a7c6-4539-bb23-1aefd95c203f"
   },
   "outputs": [
    {
     "data": {
      "text/latex": [
       "$\\displaystyle x^{2} y + 2 x y - y^{2} + \\left(x - y\\right)^{2} + 4 \\sin{\\left(x \\right)} \\cos{\\left(x \\right)}$"
      ],
      "text/plain": [
       "x**2*y + 2*x*y - y**2 + (x - y)**2 + 4*sin(x)*cos(x)"
      ]
     },
     "execution_count": 8,
     "metadata": {},
     "output_type": "execute_result"
    }
   ],
   "source": [
    "expr = x**2*y - y**2 + 2*x*y + (x-y)**2 + 4*sp.sin(x)*sp.cos(x)\n",
    "expr"
   ]
  },
  {
   "cell_type": "code",
   "execution_count": 10,
   "metadata": {
    "colab": {
     "base_uri": "https://localhost:8080/",
     "height": 38
    },
    "id": "9QSo7_NRALkQ",
    "outputId": "a5b2832e-de24-499b-c287-97c4b980d5f4"
   },
   "outputs": [
    {
     "data": {
      "text/latex": [
       "$\\displaystyle x^{2} y + x^{2} + 2 \\sin{\\left(2 x \\right)}$"
      ],
      "text/plain": [
       "x**2*y + x**2 + 2*sin(2*x)"
      ]
     },
     "execution_count": 10,
     "metadata": {},
     "output_type": "execute_result"
    }
   ],
   "source": [
    "sp.simplify(expr)"
   ]
  },
  {
   "cell_type": "markdown",
   "metadata": {},
   "source": [
    "$$\\frac{2}{4}$$"
   ]
  },
  {
   "cell_type": "markdown",
   "metadata": {
    "id": "PTp7cgvlAUIc"
   },
   "source": [
    "**Что за магия произошла выше?**\n",
    "\n",
    "Мы познакомились с первым инструментом в наших руках - `simplify`, используется для упрощения выражений, каждый инструмент имеет огромный набор применений и особенностей, чтобы познакомиться с ними идём в документацию (или Яндекс в помощь).\n",
    "\n",
    "Теперь посмотрим на удобные способы объявления переменных, допустим через $','$, тут ещё можно писать греческие символы! (как в $\\LaTeX$)"
   ]
  },
  {
   "cell_type": "code",
   "execution_count": 14,
   "metadata": {
    "colab": {
     "base_uri": "https://localhost:8080/",
     "height": 37
    },
    "id": "6v3o_Eu4BT0d",
    "outputId": "0a844c38-225a-431b-a855-cb1ee57dc5c9"
   },
   "outputs": [
    {
     "data": {
      "text/latex": [
       "$\\displaystyle \\Sigma^{3}_{123}$"
      ],
      "text/plain": [
       "Sigma_123^3"
      ]
     },
     "execution_count": 14,
     "metadata": {},
     "output_type": "execute_result"
    }
   ],
   "source": [
    "# С точки зрения кодстайла так НЕ ДЕЛАЕМ.\n",
    "# Объявления должны быть читаемы\n",
    "# и иногда полезно комментировать, какую смысловую нагрузку несёт переменная\n",
    "a, b, c, d, n, z, alpha, beta, Sigma = sp.symbols('a b c d n z alpha beta Sigma_123^3')\n",
    "Sigma # это переменная!"
   ]
  },
  {
   "cell_type": "code",
   "execution_count": 16,
   "metadata": {
    "colab": {
     "base_uri": "https://localhost:8080/",
     "height": 38
    },
    "id": "DrNEfoREAiNT",
    "outputId": "406708cd-e0b3-43c9-9584-47b865568737"
   },
   "outputs": [
    {
     "data": {
      "text/latex": [
       "$\\displaystyle \\alpha$"
      ],
      "text/plain": [
       "alpha"
      ]
     },
     "execution_count": 16,
     "metadata": {},
     "output_type": "execute_result"
    }
   ],
   "source": [
    "alpha"
   ]
  },
  {
   "cell_type": "markdown",
   "metadata": {
    "id": "O2M7HrAvP1d8"
   },
   "source": [
    "**Важный момент**"
   ]
  },
  {
   "cell_type": "code",
   "execution_count": 19,
   "metadata": {
    "colab": {
     "base_uri": "https://localhost:8080/"
    },
    "id": "WvFkwHyjP5Gp",
    "outputId": "9f74c89d-7b74-4c07-c032-169bdf8bcf20"
   },
   "outputs": [
    {
     "name": "stdout",
     "output_type": "stream",
     "text": [
      "Sigma_123^3\n"
     ]
    }
   ],
   "source": [
    "print(Sigma)"
   ]
  },
  {
   "cell_type": "markdown",
   "metadata": {
    "id": "eKDzsCtCQB2u"
   },
   "source": [
    "Как мы видим выше `print` не отображает переменные SymPy, поэтому пользуемся отображением через передачу объекта интерпретатору."
   ]
  },
  {
   "cell_type": "markdown",
   "metadata": {
    "id": "jA6MmUaygw5L"
   },
   "source": [
    "Так же символы могут иметь некоторые свойства, допустим быть положительными или иметь какой-то конкретный тип"
   ]
  },
  {
   "cell_type": "code",
   "execution_count": 21,
   "metadata": {
    "id": "s3L34flbg6qP"
   },
   "outputs": [],
   "source": [
    "y = sp.symbols('y', positive=True)"
   ]
  },
  {
   "cell_type": "markdown",
   "metadata": {
    "id": "dHOxROiKO_Bi"
   },
   "source": [
    "Ещё один интересный способ задать набор переменных"
   ]
  },
  {
   "cell_type": "code",
   "execution_count": 24,
   "metadata": {
    "colab": {
     "base_uri": "https://localhost:8080/"
    },
    "id": "Wi8Sut7QO-0p",
    "outputId": "79b56f8b-f15a-4724-e0ba-73626382ab64"
   },
   "outputs": [
    {
     "data": {
      "text/plain": [
       "(x0, x1, x2, x3, x4, x5, x6, x7, x8, x9)"
      ]
     },
     "execution_count": 24,
     "metadata": {},
     "output_type": "execute_result"
    }
   ],
   "source": [
    "x_v = sp.symbols(\"x0:10\")\n",
    "x_v"
   ]
  },
  {
   "cell_type": "code",
   "execution_count": 26,
   "metadata": {
    "colab": {
     "base_uri": "https://localhost:8080/",
     "height": 38
    },
    "id": "lxAulJRLPNte",
    "outputId": "f318243f-f737-4152-80ca-a672698e73ce"
   },
   "outputs": [
    {
     "data": {
      "text/latex": [
       "$\\displaystyle x_{1}$"
      ],
      "text/plain": [
       "x1"
      ]
     },
     "execution_count": 26,
     "metadata": {},
     "output_type": "execute_result"
    }
   ],
   "source": [
    "# обращение к элементу из набора по обычной индексации\n",
    "x_v[1]"
   ]
  },
  {
   "cell_type": "markdown",
   "metadata": {
    "id": "G9CwaHgeCp1N"
   },
   "source": [
    "Поговорим немного о константах в SymPy.\n",
    "Основные:\n"
   ]
  },
  {
   "cell_type": "code",
   "execution_count": 29,
   "metadata": {
    "colab": {
     "base_uri": "https://localhost:8080/",
     "height": 38
    },
    "id": "Bzs3zmHdBfYe",
    "outputId": "a2845344-1861-460e-d296-37e505a72ff7"
   },
   "outputs": [
    {
     "data": {
      "text/latex": [
       "$\\displaystyle \\pi$"
      ],
      "text/plain": [
       "pi"
      ]
     },
     "execution_count": 29,
     "metadata": {},
     "output_type": "execute_result"
    }
   ],
   "source": [
    "sp.pi"
   ]
  },
  {
   "cell_type": "code",
   "execution_count": 31,
   "metadata": {
    "colab": {
     "base_uri": "https://localhost:8080/",
     "height": 38
    },
    "id": "fcL9htPsDkB5",
    "outputId": "ad9ee976-a6a7-486a-e558-c4e88aaf871c"
   },
   "outputs": [
    {
     "data": {
      "text/latex": [
       "$\\displaystyle e$"
      ],
      "text/plain": [
       "E"
      ]
     },
     "execution_count": 31,
     "metadata": {},
     "output_type": "execute_result"
    }
   ],
   "source": [
    "sp.E"
   ]
  },
  {
   "cell_type": "code",
   "execution_count": 33,
   "metadata": {
    "colab": {
     "base_uri": "https://localhost:8080/",
     "height": 167
    },
    "id": "FmSGl0gYRb09",
    "outputId": "51b944e1-641b-493b-d9cd-5541ab8154c5"
   },
   "outputs": [
    {
     "data": {
      "text/latex": [
       "$\\displaystyle \\infty$"
      ],
      "text/plain": [
       "oo"
      ]
     },
     "execution_count": 33,
     "metadata": {},
     "output_type": "execute_result"
    }
   ],
   "source": [
    "sp.oo"
   ]
  },
  {
   "cell_type": "markdown",
   "metadata": {
    "id": "PgYxQh1EQwIw"
   },
   "source": [
    "Ну и по традиции:"
   ]
  },
  {
   "cell_type": "code",
   "execution_count": 36,
   "metadata": {
    "colab": {
     "base_uri": "https://localhost:8080/",
     "height": 37
    },
    "id": "5qO4z_SQRf0r",
    "outputId": "7c09d01a-60fb-44a6-d86a-e776a76b7674"
   },
   "outputs": [
    {
     "data": {
      "text/latex": [
       "$\\displaystyle \\text{NaN}$"
      ],
      "text/plain": [
       "nan"
      ]
     },
     "execution_count": 36,
     "metadata": {},
     "output_type": "execute_result"
    }
   ],
   "source": [
    "sp.oo - sp.oo"
   ]
  },
  {
   "cell_type": "markdown",
   "metadata": {
    "id": "STHLugWcPQjH"
   },
   "source": [
    "В SymPy можно работать в комплексных числах для этого используем ```sp.im() sp.re()```"
   ]
  },
  {
   "cell_type": "code",
   "execution_count": 39,
   "metadata": {
    "colab": {
     "base_uri": "https://localhost:8080/",
     "height": 38
    },
    "id": "pqA-1R2HRj49",
    "outputId": "dc57a58b-21bd-4391-e8aa-38aef9c13361"
   },
   "outputs": [
    {
     "data": {
      "text/latex": [
       "$\\displaystyle i$"
      ],
      "text/plain": [
       "I"
      ]
     },
     "execution_count": 39,
     "metadata": {},
     "output_type": "execute_result"
    }
   ],
   "source": [
    "sp.I"
   ]
  },
  {
   "cell_type": "markdown",
   "metadata": {
    "id": "jTndwUmMEW29"
   },
   "source": [
    "Уточняем кол-во цифр через ```evalf```"
   ]
  },
  {
   "cell_type": "code",
   "execution_count": 42,
   "metadata": {
    "colab": {
     "base_uri": "https://localhost:8080/",
     "height": 37
    },
    "id": "L1lAq9bTEOYn",
    "outputId": "453cf1b4-0260-4c89-9d6b-538e17a9cb17"
   },
   "outputs": [
    {
     "data": {
      "text/latex": [
       "$\\displaystyle 3.141592653589793238462643383279502884197169399375105820974944592307816406286208998628034825342117068$"
      ],
      "text/plain": [
       "3.141592653589793238462643383279502884197169399375105820974944592307816406286208998628034825342117068"
      ]
     },
     "execution_count": 42,
     "metadata": {},
     "output_type": "execute_result"
    }
   ],
   "source": [
    "sp.pi.evalf(100)"
   ]
  },
  {
   "cell_type": "markdown",
   "metadata": {
    "id": "2-3YLNgFEssd"
   },
   "source": [
    "SymPy умеет ещё круче, он может точно считать целые, рациональные и иррациональные числа. Для этого существуют соответсвующие классы:"
   ]
  },
  {
   "cell_type": "code",
   "execution_count": 44,
   "metadata": {
    "colab": {
     "base_uri": "https://localhost:8080/",
     "height": 51
    },
    "id": "-yskbnttEeMK",
    "outputId": "d0ae9460-2719-4b65-d06d-c02452f08726"
   },
   "outputs": [
    {
     "data": {
      "text/latex": [
       "$\\displaystyle \\frac{5}{7}$"
      ],
      "text/plain": [
       "5/7"
      ]
     },
     "execution_count": 44,
     "metadata": {},
     "output_type": "execute_result"
    }
   ],
   "source": [
    "# первый аргумент - числитель, второй - знаменатель\n",
    "sp.Rational(5, 7)"
   ]
  },
  {
   "cell_type": "code",
   "execution_count": 46,
   "metadata": {
    "colab": {
     "base_uri": "https://localhost:8080/",
     "height": 51
    },
    "id": "vTSWzT28FM9g",
    "outputId": "e79bc253-6f5b-406d-bedd-4d64004f6703"
   },
   "outputs": [
    {
     "data": {
      "text/latex": [
       "$\\displaystyle \\frac{34}{9}$"
      ],
      "text/plain": [
       "34/9"
      ]
     },
     "execution_count": 46,
     "metadata": {},
     "output_type": "execute_result"
    }
   ],
   "source": [
    "sp.Rational(10, 9) + sp.Rational(8, 3)"
   ]
  },
  {
   "cell_type": "code",
   "execution_count": 48,
   "metadata": {
    "colab": {
     "base_uri": "https://localhost:8080/",
     "height": 37
    },
    "id": "hnsvLooLFuc9",
    "outputId": "db394725-7670-496f-ec31-315b7294b4c5"
   },
   "outputs": [
    {
     "data": {
      "text/latex": [
       "$\\displaystyle 0$"
      ],
      "text/plain": [
       "0"
      ]
     },
     "execution_count": 48,
     "metadata": {},
     "output_type": "execute_result"
    }
   ],
   "source": [
    "x = sp.Rational(5, 7)\n",
    "\n",
    "# если привести 5 / 7 к integer это 0, т.к. целая часть 0.\n",
    "sp.Integer(x)"
   ]
  },
  {
   "cell_type": "code",
   "execution_count": 50,
   "metadata": {
    "colab": {
     "base_uri": "https://localhost:8080/",
     "height": 37
    },
    "id": "i0-zO5vyFSkr",
    "outputId": "dfb45595-4f96-4ce8-ebf7-24391101a86c"
   },
   "outputs": [
    {
     "data": {
      "text/latex": [
       "$\\displaystyle 3$"
      ],
      "text/plain": [
       "3"
      ]
     },
     "execution_count": 50,
     "metadata": {},
     "output_type": "execute_result"
    }
   ],
   "source": [
    "x = sp.Rational(10, 9) + sp.Rational(8, 3)\n",
    "\n",
    "# целая часть от деления будет 3\n",
    "sp.Integer(x)"
   ]
  },
  {
   "cell_type": "markdown",
   "metadata": {
    "id": "pawHRXrw8YWj"
   },
   "source": [
    "## 2.2. Равенство двух выражений"
   ]
  },
  {
   "cell_type": "markdown",
   "metadata": {
    "id": "wSS0hw3HPrWe"
   },
   "source": [
    "Знак `==` соответствует полному совпадению выражений:"
   ]
  },
  {
   "cell_type": "code",
   "execution_count": 52,
   "metadata": {
    "colab": {
     "base_uri": "https://localhost:8080/"
    },
    "id": "vPHW7YUE8YWj",
    "outputId": "1727eca1-6178-4f98-c5ec-6401de727c7f"
   },
   "outputs": [
    {
     "data": {
      "text/plain": [
       "True"
      ]
     },
     "execution_count": 52,
     "metadata": {},
     "output_type": "execute_result"
    }
   ],
   "source": [
    "x = sp.symbols('x')\n",
    "\n",
    "# равенство с точностью до символа\n",
    "(x + 2) ** 2 == (x + 2) ** 2"
   ]
  },
  {
   "cell_type": "markdown",
   "metadata": {
    "id": "rrVoGfxr8YWj"
   },
   "source": [
    "Однако:"
   ]
  },
  {
   "cell_type": "code",
   "execution_count": 55,
   "metadata": {
    "colab": {
     "base_uri": "https://localhost:8080/"
    },
    "id": "diQ9m_NN8YWj",
    "outputId": "b53d1954-f010-4e03-f8be-9900d1ca337d"
   },
   "outputs": [
    {
     "data": {
      "text/plain": [
       "False"
      ]
     },
     "execution_count": 55,
     "metadata": {},
     "output_type": "execute_result"
    }
   ],
   "source": [
    "# не преобразовывает для сравнения\n",
    "(x+2)**2 == x ** 2 + 4 * x + 4"
   ]
  },
  {
   "cell_type": "markdown",
   "metadata": {
    "id": "j2YAocaX8YWj"
   },
   "source": [
    "Чтобы сравнить два выражения на равенство надо воспользоваться методом `equals`:"
   ]
  },
  {
   "cell_type": "code",
   "execution_count": 58,
   "metadata": {
    "id": "EQkk40d38YWj"
   },
   "outputs": [],
   "source": [
    "f1 = (x + 2) ** 2\n",
    "f2 = x ** 2 + 4 * x + 4"
   ]
  },
  {
   "cell_type": "code",
   "execution_count": 60,
   "metadata": {
    "colab": {
     "base_uri": "https://localhost:8080/"
    },
    "id": "TvcFqpxI8YWj",
    "outputId": "80feebe0-ec55-46e4-dc98-36e9e61d4a90"
   },
   "outputs": [
    {
     "data": {
      "text/plain": [
       "True"
      ]
     },
     "execution_count": 60,
     "metadata": {},
     "output_type": "execute_result"
    }
   ],
   "source": [
    "f1.equals(f2)"
   ]
  },
  {
   "cell_type": "markdown",
   "metadata": {
    "id": "T1xWOI3THobz"
   },
   "source": [
    " Ещё немного об ```evalf```, он используется, чтобы вычислять иррациональности до $n$-ой цифры."
   ]
  },
  {
   "cell_type": "code",
   "execution_count": 63,
   "metadata": {
    "colab": {
     "base_uri": "https://localhost:8080/",
     "height": 39
    },
    "id": "zIdZfVEDHhJX",
    "outputId": "67f5095d-cf51-4175-baaa-4ea12845b2bb"
   },
   "outputs": [
    {
     "data": {
      "text/latex": [
       "$\\displaystyle 4.0 \\left(0.5 x + 1\\right)^{2}$"
      ],
      "text/plain": [
       "4.0*(0.5*x + 1)**2"
      ]
     },
     "execution_count": 63,
     "metadata": {},
     "output_type": "execute_result"
    }
   ],
   "source": [
    " # он вычислил все возможные числа, которые он нашел в выражении\n",
    "f1.evalf(4)"
   ]
  },
  {
   "cell_type": "markdown",
   "metadata": {
    "id": "YkGD7kA48YWm"
   },
   "source": [
    "## 2.3. Подстановка `subs`"
   ]
  },
  {
   "cell_type": "markdown",
   "metadata": {
    "id": "EfXsPo5vQrzu"
   },
   "source": [
    "Вместо любой символьной переменной и даже вместо выражения можно подставить другое выражение:"
   ]
  },
  {
   "cell_type": "code",
   "execution_count": 65,
   "metadata": {
    "id": "pA5iOAhuSAuJ"
   },
   "outputs": [],
   "source": [
    "y, x = sp.symbols('y x')"
   ]
  },
  {
   "cell_type": "code",
   "execution_count": 67,
   "metadata": {
    "colab": {
     "base_uri": "https://localhost:8080/",
     "height": 37
    },
    "id": "auaRDX4q8YWm",
    "outputId": "273d3e3b-3957-4ffa-e923-b8a81de5f382"
   },
   "outputs": [
    {
     "data": {
      "text/latex": [
       "$\\displaystyle 0$"
      ],
      "text/plain": [
       "0"
      ]
     },
     "execution_count": 67,
     "metadata": {},
     "output_type": "execute_result"
    }
   ],
   "source": [
    "# вместо x подставим 0\n",
    "sp.sin(2*x).subs(x, 0)"
   ]
  },
  {
   "cell_type": "code",
   "execution_count": 69,
   "metadata": {
    "colab": {
     "base_uri": "https://localhost:8080/",
     "height": 38
    },
    "id": "8_PIfxb58YWm",
    "outputId": "e371e4fd-d2ab-4957-e3b1-a6b387110077"
   },
   "outputs": [
    {
     "data": {
      "text/latex": [
       "$\\displaystyle \\sin{\\left(4 y \\right)}$"
      ],
      "text/plain": [
       "sin(4*y)"
      ]
     },
     "execution_count": 69,
     "metadata": {},
     "output_type": "execute_result"
    }
   ],
   "source": [
    "# вместо x подставим 2y\n",
    "sp.sin(2*x).subs(x, 2*y)"
   ]
  },
  {
   "cell_type": "code",
   "execution_count": 71,
   "metadata": {
    "colab": {
     "base_uri": "https://localhost:8080/",
     "height": 37
    },
    "id": "-ZjYZLAn8YWm",
    "outputId": "a8cf8d84-5dc1-4281-e196-564751dfd4ff"
   },
   "outputs": [
    {
     "data": {
      "text/latex": [
       "$\\displaystyle 7$"
      ],
      "text/plain": [
       "7"
      ]
     },
     "execution_count": 71,
     "metadata": {},
     "output_type": "execute_result"
    }
   ],
   "source": [
    "# можно подставлять числа вместо выражений\n",
    "(x + y).subs(x + y, 7)"
   ]
  },
  {
   "cell_type": "code",
   "execution_count": 73,
   "metadata": {
    "colab": {
     "base_uri": "https://localhost:8080/",
     "height": 37
    },
    "id": "wNBRFj898YWm",
    "outputId": "8bdc2c8d-8bc1-4ca7-cf55-db0d1ef27f39"
   },
   "outputs": [
    {
     "data": {
      "text/latex": [
       "$\\displaystyle 3$"
      ],
      "text/plain": [
       "3"
      ]
     },
     "execution_count": 73,
     "metadata": {},
     "output_type": "execute_result"
    }
   ],
   "source": [
    "# можно задавать замены dict'ом\n",
    "(x + y).subs({x: 1, y: 2})"
   ]
  },
  {
   "cell_type": "markdown",
   "metadata": {
    "id": "gay7s-IrJPX8"
   },
   "source": [
    "## 2.4. Конвертация"
   ]
  },
  {
   "cell_type": "markdown",
   "metadata": {
    "id": "twaRgaUzRBHK"
   },
   "source": [
    "Для быстрой конвертации выражения в виде текста в объект SymPy используем `sympify`:"
   ]
  },
  {
   "cell_type": "code",
   "execution_count": 77,
   "metadata": {
    "colab": {
     "base_uri": "https://localhost:8080/",
     "height": 51
    },
    "id": "FJmLmMLtJdBT",
    "outputId": "698e43fb-2778-4a51-ec08-086b35209bf2"
   },
   "outputs": [
    {
     "data": {
      "text/latex": [
       "$\\displaystyle 2 x y - z + \\frac{1}{3} + \\sqrt{2}$"
      ],
      "text/plain": [
       "2*x*y - z + 1/3 + sqrt(2)"
      ]
     },
     "execution_count": 77,
     "metadata": {},
     "output_type": "execute_result"
    }
   ],
   "source": [
    "sp.sympify('2*x*y + sqrt(2) + 1/3 - z')"
   ]
  },
  {
   "cell_type": "markdown",
   "metadata": {
    "id": "8mDPBmcsJ9LM"
   },
   "source": [
    "## 2.5. Вычисление `evalf` и `N`"
   ]
  },
  {
   "cell_type": "markdown",
   "metadata": {
    "id": "JNLN99gkRLyV"
   },
   "source": [
    "Для быстрого вычисления приблизительного результата используем `evalf`:"
   ]
  },
  {
   "cell_type": "code",
   "execution_count": null,
   "metadata": {
    "colab": {
     "base_uri": "https://localhost:8080/",
     "height": 37
    },
    "id": "Yc65-S34KIUg",
    "outputId": "aa23ad2f-43a0-49dd-a859-b16ce753a6b4"
   },
   "outputs": [
    {
     "data": {
      "text/latex": [
       "$\\displaystyle 1.6180339887498948482045868343656381177203091798058$"
      ],
      "text/plain": [
       "1.6180339887498948482045868343656381177203091798058"
      ]
     },
     "execution_count": 38,
     "metadata": {},
     "output_type": "execute_result"
    }
   ],
   "source": [
    "((sp.sqrt(5) + 1) / 2).evalf(50)"
   ]
  },
  {
   "cell_type": "code",
   "execution_count": 5,
   "metadata": {
    "colab": {
     "base_uri": "https://localhost:8080/",
     "height": 38
    },
    "id": "OOgGEDzuWwRU",
    "outputId": "beb03198-662a-4be2-a4af-09e2a7983ea3"
   },
   "outputs": [
    {
     "data": {
      "text/latex": [
       "$\\displaystyle x^{2} + \\pi$"
      ],
      "text/plain": [
       "x**2 + pi"
      ]
     },
     "execution_count": 5,
     "metadata": {},
     "output_type": "execute_result"
    }
   ],
   "source": [
    "expr = x**2 + sp.pi\n",
    "expr"
   ]
  },
  {
   "cell_type": "code",
   "execution_count": 6,
   "metadata": {
    "colab": {
     "base_uri": "https://localhost:8080/",
     "height": 38
    },
    "id": "cqpbT28CW3Ig",
    "outputId": "87bc19a2-9f59-4610-ad23-f388c94f484a"
   },
   "outputs": [
    {
     "data": {
      "text/latex": [
       "$\\displaystyle x^{2} + 3.14$"
      ],
      "text/plain": [
       "x**2 + 3.14"
      ]
     },
     "execution_count": 6,
     "metadata": {},
     "output_type": "execute_result"
    }
   ],
   "source": [
    "# функция аналогичная evalf\n",
    "sp.N(expr,3)"
   ]
  },
  {
   "cell_type": "markdown",
   "metadata": {
    "id": "ZlwGBO-8L-Qb"
   },
   "source": [
    "# 3. Операции над выражениями"
   ]
  },
  {
   "cell_type": "markdown",
   "metadata": {
    "id": "_JtnokvGM4Kd"
   },
   "source": [
    "SymPy упрощает выражения везде и всегда:"
   ]
  },
  {
   "cell_type": "code",
   "execution_count": null,
   "metadata": {
    "colab": {
     "base_uri": "https://localhost:8080/",
     "height": 38
    },
    "id": "4NIPCD-zJe1l",
    "outputId": "bca5488c-736f-4cd0-89f9-f50b6e520057"
   },
   "outputs": [
    {
     "data": {
      "text/latex": [
       "$\\displaystyle y + 5$"
      ],
      "text/plain": [
       "y + 5"
      ]
     },
     "execution_count": 41,
     "metadata": {},
     "output_type": "execute_result"
    }
   ],
   "source": [
    "2*y - y + 5"
   ]
  },
  {
   "cell_type": "code",
   "execution_count": null,
   "metadata": {
    "colab": {
     "base_uri": "https://localhost:8080/",
     "height": 47
    },
    "id": "N51eiXE_Mpzk",
    "outputId": "db454c0a-f6be-47e6-9a51-bf8f9dbdcb65"
   },
   "outputs": [
    {
     "data": {
      "text/latex": [
       "$\\displaystyle \\frac{y}{3}$"
      ],
      "text/plain": [
       "y/3"
      ]
     },
     "execution_count": 42,
     "metadata": {},
     "output_type": "execute_result"
    }
   ],
   "source": [
    "2*y / 6"
   ]
  },
  {
   "cell_type": "code",
   "execution_count": null,
   "metadata": {
    "colab": {
     "base_uri": "https://localhost:8080/",
     "height": 37
    },
    "id": "ohN99PRNNIAT",
    "outputId": "be7c0b0b-4518-480f-d2f3-36610ba246ac"
   },
   "outputs": [
    {
     "data": {
      "text/latex": [
       "$\\displaystyle 1$"
      ],
      "text/plain": [
       "1"
      ]
     },
     "execution_count": 43,
     "metadata": {},
     "output_type": "execute_result"
    }
   ],
   "source": [
    "y/y"
   ]
  },
  {
   "cell_type": "markdown",
   "metadata": {
    "id": "Jk66tZcBNey2"
   },
   "source": [
    "Предположим у нас было выражение вида: "
   ]
  },
  {
   "cell_type": "code",
   "execution_count": 5,
   "metadata": {
    "colab": {
     "base_uri": "https://localhost:8080/",
     "height": 38
    },
    "id": "KF8Ks7MMNL27",
    "outputId": "e292c911-1539-4c0e-b8a3-11e6d7e380e2"
   },
   "outputs": [
    {
     "data": {
      "text/latex": [
       "$\\displaystyle x \\left(x + 2\\right)$"
      ],
      "text/plain": [
       "x*(x + 2)"
      ]
     },
     "execution_count": 5,
     "metadata": {},
     "output_type": "execute_result"
    }
   ],
   "source": [
    "x = sp.symbols('x')\n",
    "expr = x**2 + 2*x\n",
    "expr.simplify()"
   ]
  },
  {
   "cell_type": "markdown",
   "metadata": {
    "id": "2O9j7UHOOElJ"
   },
   "source": [
    "Если хотим раскрыть скобки, получив изначальную форму, то можем воспользоваться методом `expand`(полная противоположность `simplify`):"
   ]
  },
  {
   "cell_type": "code",
   "execution_count": null,
   "metadata": {
    "colab": {
     "base_uri": "https://localhost:8080/",
     "height": 38
    },
    "id": "P7-pmcsNNrNT",
    "outputId": "bfaf0c0a-e5bd-41d3-f30e-8e8c03466366"
   },
   "outputs": [
    {
     "data": {
      "text/latex": [
       "$\\displaystyle x^{2} + 2 x$"
      ],
      "text/plain": [
       "x**2 + 2*x"
      ]
     },
     "execution_count": 45,
     "metadata": {},
     "output_type": "execute_result"
    }
   ],
   "source": [
    "expr.expand()"
   ]
  },
  {
   "cell_type": "markdown",
   "metadata": {
    "id": "Y3VFEyltOb0R"
   },
   "source": [
    "Ещё один полезный метод - `factor`:"
   ]
  },
  {
   "cell_type": "code",
   "execution_count": 14,
   "metadata": {
    "colab": {
     "base_uri": "https://localhost:8080/",
     "height": 38
    },
    "id": "-w7Aki6qN1Nc",
    "outputId": "4b39ceb5-3136-428f-8b68-0ff64c275b70"
   },
   "outputs": [
    {
     "data": {
      "text/latex": [
       "$\\displaystyle x^{2} + 2 x - 15$"
      ],
      "text/plain": [
       "x**2 + 2*x - 15"
      ]
     },
     "execution_count": 14,
     "metadata": {},
     "output_type": "execute_result"
    }
   ],
   "source": [
    "expr = x**2 + 2*x - 15\n",
    "expr"
   ]
  },
  {
   "cell_type": "code",
   "execution_count": 15,
   "metadata": {},
   "outputs": [
    {
     "data": {
      "text/latex": [
       "$\\displaystyle \\left(x - 3\\right) \\left(x + 5\\right)$"
      ],
      "text/plain": [
       "(x - 3)*(x + 5)"
      ]
     },
     "execution_count": 15,
     "metadata": {},
     "output_type": "execute_result"
    }
   ],
   "source": [
    "expr.factor()"
   ]
  },
  {
   "cell_type": "code",
   "execution_count": 10,
   "metadata": {},
   "outputs": [
    {
     "data": {
      "text/latex": [
       "$\\displaystyle x^{4} - x^{2} + x + 1$"
      ],
      "text/plain": [
       "x**4 - x**2 + x + 1"
      ]
     },
     "execution_count": 10,
     "metadata": {},
     "output_type": "execute_result"
    }
   ],
   "source": [
    "expr = x**4 - x**2+x+1\n",
    "expr"
   ]
  },
  {
   "cell_type": "code",
   "execution_count": 11,
   "metadata": {},
   "outputs": [
    {
     "data": {
      "text/latex": [
       "$\\displaystyle \\left(x + 1\\right) \\left(x^{3} - x^{2} + 1\\right)$"
      ],
      "text/plain": [
       "(x + 1)*(x**3 - x**2 + 1)"
      ]
     },
     "execution_count": 11,
     "metadata": {},
     "output_type": "execute_result"
    }
   ],
   "source": [
    "expr.factor()"
   ]
  },
  {
   "cell_type": "markdown",
   "metadata": {
    "id": "4g6riOBoOvAC"
   },
   "source": [
    "Правда же полезная штука?)"
   ]
  },
  {
   "cell_type": "markdown",
   "metadata": {
    "id": "F-8oWULpeY31"
   },
   "source": [
    "Еще можем узнать степень многочлена `expr` по `x`:"
   ]
  },
  {
   "cell_type": "code",
   "execution_count": null,
   "metadata": {
    "colab": {
     "base_uri": "https://localhost:8080/",
     "height": 37
    },
    "id": "b3KltZnVeP5-",
    "outputId": "5e535af5-21ed-44a5-f89b-88211f37f6de"
   },
   "outputs": [
    {
     "data": {
      "text/latex": [
       "$\\displaystyle 2$"
      ],
      "text/plain": [
       "2"
      ]
     },
     "execution_count": 52,
     "metadata": {},
     "output_type": "execute_result"
    }
   ],
   "source": [
    "sp.degree(expr, x)"
   ]
  },
  {
   "cell_type": "markdown",
   "metadata": {
    "id": "R3IsnM0EfBJh"
   },
   "source": [
    "Рассмотрим выражение большей степени:"
   ]
  },
  {
   "cell_type": "code",
   "execution_count": null,
   "metadata": {
    "colab": {
     "base_uri": "https://localhost:8080/",
     "height": 39
    },
    "id": "G2vyL12wfFqo",
    "outputId": "9dc9620e-33be-4ecd-e437-1e1ccb172a6e"
   },
   "outputs": [
    {
     "data": {
      "text/latex": [
       "$\\displaystyle \\left(x + y - z\\right)^{6}$"
      ],
      "text/plain": [
       "(x + y - z)**6"
      ]
     },
     "execution_count": 53,
     "metadata": {},
     "output_type": "execute_result"
    }
   ],
   "source": [
    "expr = (x + y - z)**6\n",
    "expr"
   ]
  },
  {
   "cell_type": "code",
   "execution_count": null,
   "metadata": {
    "colab": {
     "base_uri": "https://localhost:8080/",
     "height": 60
    },
    "id": "1MP089PGfOA9",
    "outputId": "cb90df00-3474-4733-8d13-4d84454f3dc3"
   },
   "outputs": [
    {
     "data": {
      "text/latex": [
       "$\\displaystyle x^{6} + 6 x^{5} y - 6 x^{5} z + 15 x^{4} y^{2} - 30 x^{4} y z + 15 x^{4} z^{2} + 20 x^{3} y^{3} - 60 x^{3} y^{2} z + 60 x^{3} y z^{2} - 20 x^{3} z^{3} + 15 x^{2} y^{4} - 60 x^{2} y^{3} z + 90 x^{2} y^{2} z^{2} - 60 x^{2} y z^{3} + 15 x^{2} z^{4} + 6 x y^{5} - 30 x y^{4} z + 60 x y^{3} z^{2} - 60 x y^{2} z^{3} + 30 x y z^{4} - 6 x z^{5} + y^{6} - 6 y^{5} z + 15 y^{4} z^{2} - 20 y^{3} z^{3} + 15 y^{2} z^{4} - 6 y z^{5} + z^{6}$"
      ],
      "text/plain": [
       "x**6 + 6*x**5*y - 6*x**5*z + 15*x**4*y**2 - 30*x**4*y*z + 15*x**4*z**2 + 20*x**3*y**3 - 60*x**3*y**2*z + 60*x**3*y*z**2 - 20*x**3*z**3 + 15*x**2*y**4 - 60*x**2*y**3*z + 90*x**2*y**2*z**2 - 60*x**2*y*z**3 + 15*x**2*z**4 + 6*x*y**5 - 30*x*y**4*z + 60*x*y**3*z**2 - 60*x*y**2*z**3 + 30*x*y*z**4 - 6*x*z**5 + y**6 - 6*y**5*z + 15*y**4*z**2 - 20*y**3*z**3 + 15*y**2*z**4 - 6*y*z**5 + z**6"
      ]
     },
     "execution_count": 54,
     "metadata": {},
     "output_type": "execute_result"
    }
   ],
   "source": [
    "expr = sp.expand(expr)\n",
    "expr"
   ]
  },
  {
   "cell_type": "markdown",
   "metadata": {
    "id": "P9TUeJyhfepp"
   },
   "source": [
    "Можем собрать в выражении члены с определенными степенями `x` с помощью функции `collect`:"
   ]
  },
  {
   "cell_type": "code",
   "execution_count": null,
   "metadata": {
    "colab": {
     "base_uri": "https://localhost:8080/",
     "height": 60
    },
    "id": "EYTyxMhSfXnQ",
    "outputId": "e72a8822-497e-4493-e963-b56f71d84507"
   },
   "outputs": [
    {
     "data": {
      "text/latex": [
       "$\\displaystyle x^{6} + x^{5} \\left(6 y - 6 z\\right) + x^{4} \\left(15 y^{2} - 30 y z + 15 z^{2}\\right) + x^{3} \\left(20 y^{3} - 60 y^{2} z + 60 y z^{2} - 20 z^{3}\\right) + x^{2} \\left(15 y^{4} - 60 y^{3} z + 90 y^{2} z^{2} - 60 y z^{3} + 15 z^{4}\\right) + x \\left(6 y^{5} - 30 y^{4} z + 60 y^{3} z^{2} - 60 y^{2} z^{3} + 30 y z^{4} - 6 z^{5}\\right) + y^{6} - 6 y^{5} z + 15 y^{4} z^{2} - 20 y^{3} z^{3} + 15 y^{2} z^{4} - 6 y z^{5} + z^{6}$"
      ],
      "text/plain": [
       "x**6 + x**5*(6*y - 6*z) + x**4*(15*y**2 - 30*y*z + 15*z**2) + x**3*(20*y**3 - 60*y**2*z + 60*y*z**2 - 20*z**3) + x**2*(15*y**4 - 60*y**3*z + 90*y**2*z**2 - 60*y*z**3 + 15*z**4) + x*(6*y**5 - 30*y**4*z + 60*y**3*z**2 - 60*y**2*z**3 + 30*y*z**4 - 6*z**5) + y**6 - 6*y**5*z + 15*y**4*z**2 - 20*y**3*z**3 + 15*y**2*z**4 - 6*y*z**5 + z**6"
      ]
     },
     "execution_count": 55,
     "metadata": {},
     "output_type": "execute_result"
    }
   ],
   "source": [
    "sp.collect(expr, x)"
   ]
  },
  {
   "cell_type": "markdown",
   "metadata": {
    "id": "jtxRBL79Vn2j"
   },
   "source": [
    "Пусть у нас есть большая дробь, где числитель и знаменатель многочелны."
   ]
  },
  {
   "cell_type": "code",
   "execution_count": null,
   "metadata": {
    "colab": {
     "base_uri": "https://localhost:8080/",
     "height": 55
    },
    "id": "kuG-zrDJVzwL",
    "outputId": "b8d3c893-1977-4134-cf0c-fb6756cade68"
   },
   "outputs": [
    {
     "data": {
      "text/latex": [
       "$\\displaystyle \\frac{x^{3} + 10 x^{2} + 31 x + 30}{x^{2} + 12 x + 35}$"
      ],
      "text/plain": [
       "(x**3 + 10*x**2 + 31*x + 30)/(x**2 + 12*x + 35)"
      ]
     },
     "execution_count": 56,
     "metadata": {},
     "output_type": "execute_result"
    }
   ],
   "source": [
    "p = x**3 + 10*x**2 + 31*x + 30\n",
    "q = x**2 + 12*x + 35\n",
    "fraction = p / q\n",
    "fraction"
   ]
  },
  {
   "cell_type": "markdown",
   "metadata": {
    "id": "ECXV66bfSSCV"
   },
   "source": [
    "С помощью метода `cancel` можем сократить такую дробь:"
   ]
  },
  {
   "cell_type": "code",
   "execution_count": null,
   "metadata": {
    "colab": {
     "base_uri": "https://localhost:8080/",
     "height": 55
    },
    "id": "4s3NRcreWBvs",
    "outputId": "86ce4549-21e0-49b6-cd8f-644bb9d2f61e"
   },
   "outputs": [
    {
     "data": {
      "text/latex": [
       "$\\displaystyle \\frac{x^{2} + 5 x + 6}{x + 7}$"
      ],
      "text/plain": [
       "(x**2 + 5*x + 6)/(x + 7)"
      ]
     },
     "execution_count": 57,
     "metadata": {},
     "output_type": "execute_result"
    }
   ],
   "source": [
    "fraction.cancel()"
   ]
  },
  {
   "cell_type": "markdown",
   "metadata": {
    "id": "dt0qsI0_T8Xl"
   },
   "source": [
    "А затем выделим целую часть с помощью метода `apart`:"
   ]
  },
  {
   "cell_type": "code",
   "execution_count": null,
   "metadata": {
    "colab": {
     "base_uri": "https://localhost:8080/",
     "height": 52
    },
    "id": "wzfC5XASWE_v",
    "outputId": "5c571040-a7e9-4d6b-aa66-bb4164dfcca4"
   },
   "outputs": [
    {
     "data": {
      "text/latex": [
       "$\\displaystyle x - 2 + \\frac{20}{x + 7}$"
      ],
      "text/plain": [
       "x - 2 + 20/(x + 7)"
      ]
     },
     "execution_count": 49,
     "metadata": {},
     "output_type": "execute_result"
    }
   ],
   "source": [
    "fraction.apart()"
   ]
  },
  {
   "cell_type": "markdown",
   "metadata": {
    "id": "3dBFf-f6WHzS"
   },
   "source": [
    "Теперь рассмотрим такое выражение:"
   ]
  },
  {
   "cell_type": "code",
   "execution_count": null,
   "metadata": {
    "colab": {
     "base_uri": "https://localhost:8080/",
     "height": 51
    },
    "id": "6vXMqkDifv9M",
    "outputId": "9b39c9c5-ab61-49f6-e6d7-62ae1323edf5"
   },
   "outputs": [
    {
     "data": {
      "text/latex": [
       "$\\displaystyle \\frac{x}{x + y} + \\frac{y}{x - y}$"
      ],
      "text/plain": [
       "x/(x + y) + y/(x - y)"
      ]
     },
     "execution_count": 58,
     "metadata": {},
     "output_type": "execute_result"
    }
   ],
   "source": [
    "a = y / (x - y) + x / (x + y)\n",
    "a"
   ]
  },
  {
   "cell_type": "markdown",
   "metadata": {
    "id": "guKOsB7Ef3kv"
   },
   "source": [
    "Чтобы привести их к общему знаменателю используем функцию `together`:"
   ]
  },
  {
   "cell_type": "code",
   "execution_count": null,
   "metadata": {
    "colab": {
     "base_uri": "https://localhost:8080/",
     "height": 57
    },
    "id": "yDBZZMtTf-4g",
    "outputId": "6e0c5ed0-d3c9-4e91-db09-a2e81dd69c06"
   },
   "outputs": [
    {
     "data": {
      "text/latex": [
       "$\\displaystyle \\frac{x \\left(x - y\\right) + y \\left(x + y\\right)}{\\left(x - y\\right) \\left(x + y\\right)}$"
      ],
      "text/plain": [
       "(x*(x - y) + y*(x + y))/((x - y)*(x + y))"
      ]
     },
     "execution_count": 59,
     "metadata": {},
     "output_type": "execute_result"
    }
   ],
   "source": [
    "sp.together(a)"
   ]
  },
  {
   "cell_type": "markdown",
   "metadata": {
    "id": "sBhFL0U7hIJE"
   },
   "source": [
    "Функция `trigsimp` пытается успростить тригонометрическое выражение:"
   ]
  },
  {
   "cell_type": "code",
   "execution_count": null,
   "metadata": {
    "colab": {
     "base_uri": "https://localhost:8080/",
     "height": 38
    },
    "id": "ic1pvyZphVQS",
    "outputId": "0cf44224-91d8-452c-bf1b-70376aea8c0a"
   },
   "outputs": [
    {
     "data": {
      "text/latex": [
       "$\\displaystyle 2 \\sin^{2}{\\left(x \\right)} + 3 \\cos^{2}{\\left(x \\right)}$"
      ],
      "text/plain": [
       "2*sin(x)**2 + 3*cos(x)**2"
      ]
     },
     "execution_count": 60,
     "metadata": {},
     "output_type": "execute_result"
    }
   ],
   "source": [
    "expr = 2 * sp.sin(x) ** 2 + 3 * sp.cos(x) ** 2\n",
    "expr"
   ]
  },
  {
   "cell_type": "code",
   "execution_count": null,
   "metadata": {
    "colab": {
     "base_uri": "https://localhost:8080/",
     "height": 38
    },
    "id": "1az9b-FxhS1G",
    "outputId": "c9e90a10-181e-4894-f9eb-96bcded337d8"
   },
   "outputs": [
    {
     "data": {
      "text/latex": [
       "$\\displaystyle \\cos^{2}{\\left(x \\right)} + 2$"
      ],
      "text/plain": [
       "cos(x)**2 + 2"
      ]
     },
     "execution_count": 61,
     "metadata": {},
     "output_type": "execute_result"
    }
   ],
   "source": [
    "sp.trigsimp(expr)"
   ]
  },
  {
   "cell_type": "code",
   "execution_count": null,
   "metadata": {
    "colab": {
     "base_uri": "https://localhost:8080/",
     "height": 38
    },
    "id": "SiOqaCUJhg_m",
    "outputId": "4a18c208-2eb8-43fc-b442-e7ba9b7c1978"
   },
   "outputs": [
    {
     "data": {
      "text/latex": [
       "$\\displaystyle 2 \\sin^{2}{\\left(x \\right)} + 3 \\cos^{2}{\\left(x \\right)}$"
      ],
      "text/plain": [
       "2*sin(x)**2 + 3*cos(x)**2"
      ]
     },
     "execution_count": 62,
     "metadata": {},
     "output_type": "execute_result"
    }
   ],
   "source": [
    "sp.expand_trig(expr)"
   ]
  },
  {
   "cell_type": "markdown",
   "metadata": {
    "id": "L9UcTIsqj4hb"
   },
   "source": [
    "Так же мы можем поменять x и y местами, использовав simultaneous в subs, это ключевой параметр для одновременной подстановки."
   ]
  },
  {
   "cell_type": "code",
   "execution_count": null,
   "metadata": {
    "colab": {
     "base_uri": "https://localhost:8080/",
     "height": 38
    },
    "id": "cgBM0kGNkNbi",
    "outputId": "51ee6536-f7e3-4b57-952c-fa45ba6f93cf"
   },
   "outputs": [
    {
     "data": {
      "text/latex": [
       "$\\displaystyle 2 x y^{2}$"
      ],
      "text/plain": [
       "2*x*y**2"
      ]
     },
     "execution_count": 63,
     "metadata": {},
     "output_type": "execute_result"
    }
   ],
   "source": [
    "a = 2 * x * y ** 2\n",
    "a"
   ]
  },
  {
   "cell_type": "code",
   "execution_count": null,
   "metadata": {
    "colab": {
     "base_uri": "https://localhost:8080/",
     "height": 38
    },
    "id": "966cqk9CkJGZ",
    "outputId": "4be1a2f5-e20f-4ccb-e2f8-e4e4b86d8a8b"
   },
   "outputs": [
    {
     "data": {
      "text/latex": [
       "$\\displaystyle 2 x^{2} y$"
      ],
      "text/plain": [
       "2*x**2*y"
      ]
     },
     "execution_count": 60,
     "metadata": {},
     "output_type": "execute_result"
    }
   ],
   "source": [
    "a.subs([(x, y), (y, x)], simultaneous=True)"
   ]
  },
  {
   "cell_type": "markdown",
   "metadata": {
    "id": "k5dnmKiPPiaK"
   },
   "source": [
    "# 4. Типы данных в SymPy "
   ]
  },
  {
   "cell_type": "code",
   "execution_count": null,
   "metadata": {
    "colab": {
     "base_uri": "https://localhost:8080/",
     "height": 38
    },
    "id": "nkWLLKZ-PxMZ",
    "outputId": "b12f0af8-d05f-47fc-b0c1-7a0127d33083"
   },
   "outputs": [
    {
     "data": {
      "text/latex": [
       "$\\displaystyle x^{0.333333333333333}$"
      ],
      "text/plain": [
       "x**0.333333333333333"
      ]
     },
     "execution_count": 61,
     "metadata": {},
     "output_type": "execute_result"
    }
   ],
   "source": [
    "x = sp.Symbol('x')\n",
    "expr = x**(1/3)\n",
    "expr"
   ]
  },
  {
   "cell_type": "markdown",
   "metadata": {
    "id": "MURtwSs4QJ6V"
   },
   "source": [
    "Вроде вычисления символьные, а степень нет!\n",
    "\n",
    "Как исправить? Использовать специальные типы данных - `sp.Integer`, `sp.Rational` и т. д."
   ]
  },
  {
   "cell_type": "code",
   "execution_count": null,
   "metadata": {
    "colab": {
     "base_uri": "https://localhost:8080/",
     "height": 37
    },
    "id": "8wdDwjl5P6Jn",
    "outputId": "4ba17f7f-f48c-48ef-e629-d474bcaf3696"
   },
   "outputs": [
    {
     "data": {
      "text/latex": [
       "$\\displaystyle \\sqrt[3]{x}$"
      ],
      "text/plain": [
       "x**(1/3)"
      ]
     },
     "execution_count": 64,
     "metadata": {},
     "output_type": "execute_result"
    }
   ],
   "source": [
    "x = sp.Symbol('x')\n",
    "expr = x**(sp.Integer(1)/sp.Integer(3))\n",
    "expr"
   ]
  },
  {
   "cell_type": "markdown",
   "metadata": {
    "id": "vnsXh0EJTlM7"
   },
   "source": [
    "Но сработает и такой вариант:"
   ]
  },
  {
   "cell_type": "code",
   "execution_count": null,
   "metadata": {
    "colab": {
     "base_uri": "https://localhost:8080/",
     "height": 37
    },
    "id": "LQYg3ARIQkVX",
    "outputId": "8982dd66-b650-494b-feb9-966c1357fbd0"
   },
   "outputs": [
    {
     "data": {
      "text/latex": [
       "$\\displaystyle \\sqrt[3]{x}$"
      ],
      "text/plain": [
       "x**(1/3)"
      ]
     },
     "execution_count": 65,
     "metadata": {},
     "output_type": "execute_result"
    }
   ],
   "source": [
    "x = sp.Symbol('x')\n",
    "expr = x**(sp.Integer(1)/3)\n",
    "expr"
   ]
  },
  {
   "cell_type": "markdown",
   "metadata": {
    "id": "yHsFSWTXQ6j1"
   },
   "source": [
    "Сработало приведение типов."
   ]
  },
  {
   "cell_type": "code",
   "execution_count": null,
   "metadata": {
    "colab": {
     "base_uri": "https://localhost:8080/"
    },
    "id": "Xcur3iSfQ52h",
    "outputId": "cf75bce2-402f-44fe-bf94-962d4024050c"
   },
   "outputs": [
    {
     "data": {
      "text/plain": [
       "sympy.core.numbers.Rational"
      ]
     },
     "execution_count": 66,
     "metadata": {},
     "output_type": "execute_result"
    }
   ],
   "source": [
    "type(sp.Integer(1)/3)"
   ]
  },
  {
   "cell_type": "markdown",
   "metadata": {
    "id": "q5CGONqnUI2C"
   },
   "source": [
    "Иногда полезно посмотреть тип объекта через ```type()```, чтобы понять, что с ним можно делать"
   ]
  },
  {
   "cell_type": "markdown",
   "metadata": {
    "id": "Vx0BbBiWRH1C"
   },
   "source": [
    "Рациональные числа мы рассматривали ранее и как с ними работать тоже"
   ]
  },
  {
   "cell_type": "markdown",
   "metadata": {
    "id": "OetZvUA3SGpv"
   },
   "source": [
    "# 5. Решение простых уравнений"
   ]
  },
  {
   "cell_type": "markdown",
   "metadata": {
    "id": "UpZxfmqnSWCF"
   },
   "source": [
    "Рассмотрим создание и решение уравнений в SymPy. К сожалению, знак равенства не используется для создания уравнений, вместо этого используем функцию `Eq`:"
   ]
  },
  {
   "cell_type": "code",
   "execution_count": null,
   "metadata": {
    "id": "5cbb5shPk1yQ"
   },
   "outputs": [],
   "source": [
    "a, b, c, d, e, f = sp.symbols('a b c d e f')"
   ]
  },
  {
   "cell_type": "code",
   "execution_count": null,
   "metadata": {
    "colab": {
     "base_uri": "https://localhost:8080/",
     "height": 38
    },
    "id": "tc6zPnBpST4h",
    "outputId": "0b85d6d9-f9ee-4176-99ca-38aac07d137e"
   },
   "outputs": [
    {
     "data": {
      "text/latex": [
       "$\\displaystyle x^{2} = 5$"
      ],
      "text/plain": [
       "Eq(x**2, 5)"
      ]
     },
     "execution_count": 67,
     "metadata": {},
     "output_type": "execute_result"
    }
   ],
   "source": [
    "# для задания как таковых \"символьных\" равенств используем 'Eq'\n",
    "eq = sp.Eq(x**2, 5)\n",
    "eq"
   ]
  },
  {
   "cell_type": "code",
   "execution_count": null,
   "metadata": {
    "colab": {
     "base_uri": "https://localhost:8080/"
    },
    "id": "7YZuXV6ESnGA",
    "outputId": "f9e888bf-aea1-4358-d91b-f04aca430b96"
   },
   "outputs": [
    {
     "data": {
      "text/plain": [
       "sympy.core.relational.Equality"
      ]
     },
     "execution_count": 68,
     "metadata": {},
     "output_type": "execute_result"
    }
   ],
   "source": [
    "type(eq)"
   ]
  },
  {
   "cell_type": "markdown",
   "metadata": {
    "id": "IAFzBd-GS9CH"
   },
   "source": [
    "Как видим выше пользуемся ```Eq```"
   ]
  },
  {
   "cell_type": "markdown",
   "metadata": {
    "id": "4nrxrIGzTCmY"
   },
   "source": [
    "Теперь решаем это уравнение. Для этого воспользуемся функцией `solveset`:"
   ]
  },
  {
   "cell_type": "code",
   "execution_count": null,
   "metadata": {
    "colab": {
     "base_uri": "https://localhost:8080/",
     "height": 47
    },
    "id": "-kd9Y9ecSzBx",
    "outputId": "7edf94f8-e78e-4389-8fe5-bf93a0222dc0"
   },
   "outputs": [
    {
     "data": {
      "text/latex": [
       "$\\displaystyle \\left\\{- \\sqrt{5}, \\sqrt{5}\\right\\}$"
      ],
      "text/plain": [
       "FiniteSet(sqrt(5), -sqrt(5))"
      ]
     },
     "execution_count": 69,
     "metadata": {},
     "output_type": "execute_result"
    }
   ],
   "source": [
    "sp.solveset(eq)"
   ]
  },
  {
   "cell_type": "code",
   "execution_count": null,
   "metadata": {
    "colab": {
     "base_uri": "https://localhost:8080/"
    },
    "id": "Wx8yEniITLpa",
    "outputId": "b76a4315-ab5c-48f1-c3fa-a6e939ebfaeb"
   },
   "outputs": [
    {
     "data": {
      "text/plain": [
       "sympy.sets.sets.FiniteSet"
      ]
     },
     "execution_count": 70,
     "metadata": {},
     "output_type": "execute_result"
    }
   ],
   "source": [
    "type(sp.solveset(eq))"
   ]
  },
  {
   "cell_type": "code",
   "execution_count": null,
   "metadata": {
    "colab": {
     "base_uri": "https://localhost:8080/"
    },
    "id": "Z6PFN1drTRce",
    "outputId": "61ebbe66-d0c8-4263-ca74-9e0ab59cba4b"
   },
   "outputs": [
    {
     "data": {
      "text/plain": [
       "[sqrt(5), -sqrt(5)]"
      ]
     },
     "execution_count": 71,
     "metadata": {},
     "output_type": "execute_result"
    }
   ],
   "source": [
    "list(sp.solveset(eq))"
   ]
  },
  {
   "cell_type": "markdown",
   "metadata": {
    "id": "bJ0KnjgSUOp_"
   },
   "source": [
    "Можем указать по какой переменной хотим решить уравнение:"
   ]
  },
  {
   "cell_type": "code",
   "execution_count": null,
   "metadata": {
    "colab": {
     "base_uri": "https://localhost:8080/",
     "height": 47
    },
    "id": "sTmEhkuDTYSb",
    "outputId": "891f99de-6e08-44b4-8dfa-7e66bb866c7c"
   },
   "outputs": [
    {
     "data": {
      "text/latex": [
       "$\\displaystyle \\left\\{- \\sqrt{5}, \\sqrt{5}\\right\\}$"
      ],
      "text/plain": [
       "FiniteSet(sqrt(5), -sqrt(5))"
      ]
     },
     "execution_count": 72,
     "metadata": {},
     "output_type": "execute_result"
    }
   ],
   "source": [
    "sp.solveset(x ** 2 - 5, x) # второй аргумент задает, относительно чего решаем"
   ]
  },
  {
   "cell_type": "markdown",
   "metadata": {
    "id": "kMblLEziUWTB"
   },
   "source": [
    "Второй пример уравнения:"
   ]
  },
  {
   "cell_type": "code",
   "execution_count": null,
   "metadata": {
    "colab": {
     "base_uri": "https://localhost:8080/",
     "height": 38
    },
    "id": "F2Nw_mMXThMs",
    "outputId": "6f9bb9e3-3ce3-4f9a-9ed1-52591e485052"
   },
   "outputs": [
    {
     "data": {
      "text/latex": [
       "$\\displaystyle - \\sin{\\left(x \\right)} + \\cos{\\left(x \\right)} = 0$"
      ],
      "text/plain": [
       "Eq(-sin(x) + cos(x), 0)"
      ]
     },
     "execution_count": 73,
     "metadata": {},
     "output_type": "execute_result"
    }
   ],
   "source": [
    "eq2 = sp.Eq(sp.cos(x)-sp.sin(x), 0)\n",
    "eq2"
   ]
  },
  {
   "cell_type": "code",
   "execution_count": null,
   "metadata": {
    "colab": {
     "base_uri": "https://localhost:8080/",
     "height": 58
    },
    "id": "F_qp4bd6T1QJ",
    "outputId": "7b16e5f0-1eb5-42c3-9854-ac705f0828f9"
   },
   "outputs": [
    {
     "data": {
      "text/latex": [
       "$\\displaystyle \\left\\{2 n \\pi + \\frac{5 \\pi}{4}\\; |\\; n \\in \\mathbb{Z}\\right\\} \\cup \\left\\{2 n \\pi + \\frac{\\pi}{4}\\; |\\; n \\in \\mathbb{Z}\\right\\}$"
      ],
      "text/plain": [
       "Union(ImageSet(Lambda(_n, 2*_n*pi + 5*pi/4), Integers), ImageSet(Lambda(_n, 2*_n*pi + pi/4), Integers))"
      ]
     },
     "execution_count": 74,
     "metadata": {},
     "output_type": "execute_result"
    }
   ],
   "source": [
    "sp.solveset(eq2)"
   ]
  },
  {
   "cell_type": "code",
   "execution_count": null,
   "metadata": {
    "colab": {
     "base_uri": "https://localhost:8080/"
    },
    "id": "noN9ezJfT3Xk",
    "outputId": "2eff7c13-cc5d-479e-a3c1-7099963530a9"
   },
   "outputs": [
    {
     "data": {
      "text/plain": [
       "sympy.sets.sets.Union"
      ]
     },
     "execution_count": 75,
     "metadata": {},
     "output_type": "execute_result"
    }
   ],
   "source": [
    "type(sp.solveset(eq2))"
   ]
  },
  {
   "cell_type": "markdown",
   "metadata": {
    "id": "tuA5NxFRUaSq"
   },
   "source": [
    "Третий пример:"
   ]
  },
  {
   "cell_type": "code",
   "execution_count": null,
   "metadata": {
    "id": "akhbNw1ET5y-"
   },
   "outputs": [],
   "source": [
    "eq3 = sp.Eq(sp.cos(x), x)"
   ]
  },
  {
   "cell_type": "code",
   "execution_count": null,
   "metadata": {
    "colab": {
     "base_uri": "https://localhost:8080/",
     "height": 38
    },
    "id": "91C1P5CuUg-w",
    "outputId": "e00b112d-badc-4693-eaa5-984eb72a427d"
   },
   "outputs": [
    {
     "data": {
      "text/latex": [
       "$\\displaystyle \\left\\{x \\mid x \\in \\mathbb{C} \\wedge - x + \\cos{\\left(x \\right)} = 0 \\right\\}$"
      ],
      "text/plain": [
       "ConditionSet(x, Eq(-x + cos(x), 0), Complexes)"
      ]
     },
     "execution_count": 77,
     "metadata": {},
     "output_type": "execute_result"
    }
   ],
   "source": [
    "sp.solveset(eq3)"
   ]
  },
  {
   "cell_type": "code",
   "execution_count": null,
   "metadata": {
    "colab": {
     "base_uri": "https://localhost:8080/"
    },
    "id": "qLjLOZ_hUi8r",
    "outputId": "500939ca-77f5-4d52-fdd8-c6bdef894f27"
   },
   "outputs": [
    {
     "data": {
      "text/plain": [
       "sympy.sets.conditionset.ConditionSet"
      ]
     },
     "execution_count": 78,
     "metadata": {},
     "output_type": "execute_result"
    }
   ],
   "source": [
    "type(sp.solveset(eq3))"
   ]
  },
  {
   "cell_type": "markdown",
   "metadata": {
    "id": "f3FZTozoUoY6"
   },
   "source": [
    "Решаем систему линейных уравнений с помощью функции `linsolve`:"
   ]
  },
  {
   "cell_type": "code",
   "execution_count": null,
   "metadata": {
    "colab": {
     "base_uri": "https://localhost:8080/",
     "height": 38
    },
    "id": "GBi4FxY7UmLm",
    "outputId": "d0e6ca9c-b827-45f5-eb21-2a0b3bd52bf4"
   },
   "outputs": [
    {
     "data": {
      "text/latex": [
       "$\\displaystyle x = 3 y + z$"
      ],
      "text/plain": [
       "Eq(x, 3*y + z)"
      ]
     },
     "execution_count": 79,
     "metadata": {},
     "output_type": "execute_result"
    }
   ],
   "source": [
    "eq_lin1 = sp.Eq(x, 3 * y + z)\n",
    "eq_lin1"
   ]
  },
  {
   "cell_type": "code",
   "execution_count": null,
   "metadata": {
    "colab": {
     "base_uri": "https://localhost:8080/",
     "height": 38
    },
    "id": "JGIa4v51U32K",
    "outputId": "479f7a13-0b11-40ec-ed92-e1ab18c58b31"
   },
   "outputs": [
    {
     "data": {
      "text/latex": [
       "$\\displaystyle 5 x - 3 z = y$"
      ],
      "text/plain": [
       "Eq(5*x - 3*z, y)"
      ]
     },
     "execution_count": 80,
     "metadata": {},
     "output_type": "execute_result"
    }
   ],
   "source": [
    "eq_lin2 = sp.Eq(5 * x - 3 * z, y)\n",
    "eq_lin2"
   ]
  },
  {
   "cell_type": "markdown",
   "metadata": {
    "id": "rDovm1QdVXe1"
   },
   "source": [
    "Первый аргумент - система в виде списка, остальные - символы-переменные, по которым решаем уравнение:"
   ]
  },
  {
   "cell_type": "code",
   "execution_count": null,
   "metadata": {
    "colab": {
     "base_uri": "https://localhost:8080/",
     "height": 58
    },
    "id": "bnNBr8IpU8vM",
    "outputId": "b247e727-5f7a-4e19-9226-665fa4eb3225"
   },
   "outputs": [
    {
     "data": {
      "text/latex": [
       "$\\displaystyle \\left\\{\\left( \\frac{4 z}{7}, \\  - \\frac{z}{7}, \\  z\\right)\\right\\}$"
      ],
      "text/plain": [
       "FiniteSet((4*z/7, -z/7, z))"
      ]
     },
     "execution_count": 81,
     "metadata": {},
     "output_type": "execute_result"
    }
   ],
   "source": [
    "sp.linsolve([eq_lin1, eq_lin2], x, y, z)"
   ]
  },
  {
   "cell_type": "markdown",
   "metadata": {
    "id": "iHcp30AUk8So"
   },
   "source": [
    "Можем решить систему линейных уравнений и по-другому:"
   ]
  },
  {
   "cell_type": "code",
   "execution_count": null,
   "metadata": {
    "colab": {
     "base_uri": "https://localhost:8080/"
    },
    "id": "BOk54T8hkn1G",
    "outputId": "023de87b-3ff2-4d7c-9396-a487b8a4374d"
   },
   "outputs": [
    {
     "data": {
      "text/plain": [
       "{x: (-b*f + d*e)/(a*d - b*c), y: (a*f - c*e)/(a*d - b*c)}"
      ]
     },
     "execution_count": 84,
     "metadata": {},
     "output_type": "execute_result"
    }
   ],
   "source": [
    "sp.solve(\n",
    "    [a * x + b * y - e, c * x + d * y - f],\n",
    "    [x, y]\n",
    ")"
   ]
  },
  {
   "cell_type": "markdown",
   "metadata": {
    "id": "09vxiYi2WGOl"
   },
   "source": [
    "В таком случае правая часть уравнений считается равной нулю."
   ]
  },
  {
   "cell_type": "markdown",
   "metadata": {
    "id": "eGXaQyWTlBS6"
   },
   "source": [
    "Функция ```roots()``` возвращает корни многочлена с их множественностями:"
   ]
  },
  {
   "cell_type": "code",
   "execution_count": null,
   "metadata": {
    "colab": {
     "base_uri": "https://localhost:8080/"
    },
    "id": "_fC3E-gElIf_",
    "outputId": "217a728b-bd0c-4b31-c192-fe9095fd713d"
   },
   "outputs": [
    {
     "data": {
      "text/plain": [
       "{-2: 1, 1: 2}"
      ]
     },
     "execution_count": 83,
     "metadata": {},
     "output_type": "execute_result"
    }
   ],
   "source": [
    "sp.roots(x ** 3 - 3 * x + 2, x)"
   ]
  },
  {
   "cell_type": "markdown",
   "metadata": {
    "id": "rL5u2CMTArQY"
   },
   "source": [
    "# 6. Производные"
   ]
  },
  {
   "cell_type": "markdown",
   "metadata": {
    "id": "M62abZD7b7iC"
   },
   "source": [
    "## 6.1. Дифференцирование"
   ]
  },
  {
   "cell_type": "markdown",
   "metadata": {
    "id": "n6A2cs0vU2GI"
   },
   "source": [
    "Пусть у нас есть выражение вида:"
   ]
  },
  {
   "cell_type": "code",
   "execution_count": null,
   "metadata": {
    "colab": {
     "base_uri": "https://localhost:8080/",
     "height": 38
    },
    "id": "yGQ8jWX_VFfD",
    "outputId": "68e39021-86da-4b1e-b759-bf1c304091ec"
   },
   "outputs": [
    {
     "data": {
      "text/latex": [
       "$\\displaystyle e^{2 x} + \\sin{\\left(x \\right)}$"
      ],
      "text/plain": [
       "exp(2*x) + sin(x)"
      ]
     },
     "execution_count": 85,
     "metadata": {},
     "output_type": "execute_result"
    }
   ],
   "source": [
    "expr = sp.exp(2 * x) + sp.sin(x)\n",
    "expr"
   ]
  },
  {
   "cell_type": "markdown",
   "metadata": {
    "id": "imZw1KLlU7RI"
   },
   "source": [
    "Задача продифференцировать его решается так:"
   ]
  },
  {
   "cell_type": "code",
   "execution_count": null,
   "metadata": {
    "colab": {
     "base_uri": "https://localhost:8080/",
     "height": 38
    },
    "id": "JB0511vKBFdU",
    "outputId": "49376723-2a8d-4288-8712-09119626f33a"
   },
   "outputs": [
    {
     "data": {
      "text/latex": [
       "$\\displaystyle 2 e^{2 x} + \\cos{\\left(x \\right)}$"
      ],
      "text/plain": [
       "2*exp(2*x) + cos(x)"
      ]
     },
     "execution_count": 86,
     "metadata": {},
     "output_type": "execute_result"
    }
   ],
   "source": [
    "sp.diff(expr)"
   ]
  },
  {
   "cell_type": "markdown",
   "metadata": {
    "id": "b8IHQV0BVAg0"
   },
   "source": [
    "Можно уточнить переменную дифференцирования:"
   ]
  },
  {
   "cell_type": "code",
   "execution_count": null,
   "metadata": {
    "colab": {
     "base_uri": "https://localhost:8080/",
     "height": 38
    },
    "id": "z2V5uyIxBOlD",
    "outputId": "5aaddd47-eee5-48f5-a9cd-439432dddb6c"
   },
   "outputs": [
    {
     "data": {
      "text/latex": [
       "$\\displaystyle 2 e^{2 x} + \\cos{\\left(x \\right)}$"
      ],
      "text/plain": [
       "2*exp(2*x) + cos(x)"
      ]
     },
     "execution_count": 87,
     "metadata": {},
     "output_type": "execute_result"
    }
   ],
   "source": [
    "sp.diff(expr, x)"
   ]
  },
  {
   "cell_type": "markdown",
   "metadata": {
    "id": "_PYsDDRdVKLX"
   },
   "source": [
    "Можно взять вторую производную несколькими способами:"
   ]
  },
  {
   "cell_type": "code",
   "execution_count": null,
   "metadata": {
    "colab": {
     "base_uri": "https://localhost:8080/",
     "height": 38
    },
    "id": "J_XCaZTZBSHl",
    "outputId": "13268545-f9b2-4660-d80c-ac799314c1b5"
   },
   "outputs": [
    {
     "data": {
      "text/latex": [
       "$\\displaystyle 4 e^{2 x} - \\sin{\\left(x \\right)}$"
      ],
      "text/plain": [
       "4*exp(2*x) - sin(x)"
      ]
     },
     "execution_count": 88,
     "metadata": {},
     "output_type": "execute_result"
    }
   ],
   "source": [
    "sp.diff(sp.diff(expr))"
   ]
  },
  {
   "cell_type": "code",
   "execution_count": null,
   "metadata": {
    "colab": {
     "base_uri": "https://localhost:8080/",
     "height": 38
    },
    "id": "IHqUo6FUBVSQ",
    "outputId": "e1ed915f-99ef-47b3-e3ad-23a9162f6976"
   },
   "outputs": [
    {
     "data": {
      "text/latex": [
       "$\\displaystyle 4 e^{2 x} - \\sin{\\left(x \\right)}$"
      ],
      "text/plain": [
       "4*exp(2*x) - sin(x)"
      ]
     },
     "execution_count": 89,
     "metadata": {},
     "output_type": "execute_result"
    }
   ],
   "source": [
    "sp.diff(expr, x, x)"
   ]
  },
  {
   "cell_type": "markdown",
   "metadata": {
    "id": "1Fnwa1OPVR2w"
   },
   "source": [
    "Но нормальные люди пишут так:"
   ]
  },
  {
   "cell_type": "code",
   "execution_count": null,
   "metadata": {
    "colab": {
     "base_uri": "https://localhost:8080/",
     "height": 38
    },
    "id": "sSTvcy6DBcU7",
    "outputId": "27cf56ea-73a1-4ecd-9b17-846ceac588d1"
   },
   "outputs": [
    {
     "data": {
      "text/latex": [
       "$\\displaystyle 16 e^{2 x} + \\sin{\\left(x \\right)}$"
      ],
      "text/plain": [
       "16*exp(2*x) + sin(x)"
      ]
     },
     "execution_count": 91,
     "metadata": {},
     "output_type": "execute_result"
    }
   ],
   "source": [
    "sp.diff(expr, x, 2, x, 2)"
   ]
  },
  {
   "cell_type": "markdown",
   "metadata": {
    "id": "fmNJLAYSB6L4"
   },
   "source": [
    "## 6.2. Преобразующие функции для упрощения"
   ]
  },
  {
   "cell_type": "code",
   "execution_count": null,
   "metadata": {
    "colab": {
     "base_uri": "https://localhost:8080/",
     "height": 42
    },
    "id": "QzP1DoWPB4cq",
    "outputId": "b8b18660-4485-4750-b0c5-055b7886934c"
   },
   "outputs": [
    {
     "data": {
      "text/latex": [
       "$\\displaystyle e^{- \\frac{e^{x}}{2}} e^{\\sinh{\\left(x \\right)}}$"
      ],
      "text/plain": [
       "exp(-exp(x)/2)*exp(sinh(x))"
      ]
     },
     "execution_count": 93,
     "metadata": {},
     "output_type": "execute_result"
    }
   ],
   "source": [
    "expr = sp.exp(sp.sinh(x)) / sp.exp(sp.exp(x) / 2)\n",
    "expr"
   ]
  },
  {
   "cell_type": "code",
   "execution_count": null,
   "metadata": {
    "colab": {
     "base_uri": "https://localhost:8080/",
     "height": 58
    },
    "id": "A6VdXq5KCBSV",
    "outputId": "35f6e225-2f6f-4cc0-fa0a-c19014258462"
   },
   "outputs": [
    {
     "data": {
      "text/latex": [
       "$\\displaystyle \\left(- \\sinh{\\left(\\frac{\\sinh{\\left(x \\right)}}{2} + \\frac{\\cosh{\\left(x \\right)}}{2} \\right)} + \\cosh{\\left(\\frac{\\sinh{\\left(x \\right)}}{2} + \\frac{\\cosh{\\left(x \\right)}}{2} \\right)}\\right) \\left(\\sinh{\\left(\\sinh{\\left(x \\right)} \\right)} + \\cosh{\\left(\\sinh{\\left(x \\right)} \\right)}\\right)$"
      ],
      "text/plain": [
       "(-sinh(sinh(x)/2 + cosh(x)/2) + cosh(sinh(x)/2 + cosh(x)/2))*(sinh(sinh(x)) + cosh(sinh(x)))"
      ]
     },
     "execution_count": 94,
     "metadata": {},
     "output_type": "execute_result"
    }
   ],
   "source": [
    "expo = expr.rewrite(sp.sin)\n",
    "expo"
   ]
  },
  {
   "cell_type": "code",
   "execution_count": null,
   "metadata": {
    "colab": {
     "base_uri": "https://localhost:8080/",
     "height": 43
    },
    "id": "bs-hEcdTCFW8",
    "outputId": "653dad07-c381-40d6-eceb-bb9073a7b5ed"
   },
   "outputs": [
    {
     "data": {
      "text/latex": [
       "$\\displaystyle e^{\\frac{e^{x}}{2} - \\frac{e^{- x}}{2}} e^{- \\frac{e^{x}}{2}}$"
      ],
      "text/plain": [
       "exp(exp(x)/2 - exp(-x)/2)*exp(-exp(x)/2)"
      ]
     },
     "execution_count": 95,
     "metadata": {},
     "output_type": "execute_result"
    }
   ],
   "source": [
    "expr.rewrite(sp.exp)"
   ]
  },
  {
   "cell_type": "markdown",
   "metadata": {
    "id": "m4ca-Ubcx7Go"
   },
   "source": [
    "Иногда надо переписать по-другому, чтобы упростить:"
   ]
  },
  {
   "cell_type": "code",
   "execution_count": null,
   "metadata": {
    "colab": {
     "base_uri": "https://localhost:8080/",
     "height": 42
    },
    "id": "47TKEJS-CQFf",
    "outputId": "6a31bc24-9d95-4cec-e310-01aec59cd57d"
   },
   "outputs": [
    {
     "data": {
      "text/latex": [
       "$\\displaystyle e^{- \\frac{e^{x}}{2} + \\sinh{\\left(x \\right)}}$"
      ],
      "text/plain": [
       "exp(-exp(x)/2 + sinh(x))"
      ]
     },
     "execution_count": 96,
     "metadata": {},
     "output_type": "execute_result"
    }
   ],
   "source": [
    "expr.simplify()"
   ]
  },
  {
   "cell_type": "code",
   "execution_count": null,
   "metadata": {
    "colab": {
     "base_uri": "https://localhost:8080/",
     "height": 43
    },
    "id": "n_n7OXSrCU6_",
    "outputId": "a34b6fcc-e360-4076-f0bc-21f05261245b"
   },
   "outputs": [
    {
     "data": {
      "text/latex": [
       "$\\displaystyle e^{- \\frac{e^{- x}}{2}}$"
      ],
      "text/plain": [
       "exp(-exp(-x)/2)"
      ]
     },
     "execution_count": 97,
     "metadata": {},
     "output_type": "execute_result"
    }
   ],
   "source": [
    "expo.simplify()"
   ]
  },
  {
   "cell_type": "markdown",
   "metadata": {
    "id": "w12v5IHxCrs3"
   },
   "source": [
    "## 6.3. Частные производные"
   ]
  },
  {
   "cell_type": "code",
   "execution_count": null,
   "metadata": {
    "colab": {
     "base_uri": "https://localhost:8080/",
     "height": 38
    },
    "id": "dArH56MYCZ8l",
    "outputId": "058fc61c-a4ac-46dd-da32-7d37dc81cf2c"
   },
   "outputs": [
    {
     "data": {
      "text/latex": [
       "$\\displaystyle \\cos{\\left(x \\right)} \\cot^{2}{\\left(2 y \\right)}$"
      ],
      "text/plain": [
       "cos(x)*cot(2*y)**2"
      ]
     },
     "execution_count": 98,
     "metadata": {},
     "output_type": "execute_result"
    }
   ],
   "source": [
    "two_var = sp.cos(x) * sp.cot(2 * y) ** 2\n",
    "two_var"
   ]
  },
  {
   "cell_type": "code",
   "execution_count": null,
   "metadata": {
    "colab": {
     "base_uri": "https://localhost:8080/",
     "height": 38
    },
    "id": "BdfhMkmvDeqU",
    "outputId": "b70f32ee-4126-4b10-f248-872685a8eb3b"
   },
   "outputs": [
    {
     "data": {
      "text/latex": [
       "$\\displaystyle \\left(- 4 \\cot^{2}{\\left(2 y \\right)} - 4\\right) \\cos{\\left(x \\right)} \\cot{\\left(2 y \\right)}$"
      ],
      "text/plain": [
       "(-4*cot(2*y)**2 - 4)*cos(x)*cot(2*y)"
      ]
     },
     "execution_count": 99,
     "metadata": {},
     "output_type": "execute_result"
    }
   ],
   "source": [
    "partial_y = two_var.diff(y)\n",
    "partial_y"
   ]
  },
  {
   "cell_type": "code",
   "execution_count": null,
   "metadata": {
    "colab": {
     "base_uri": "https://localhost:8080/",
     "height": 71
    },
    "id": "LnD9Kb9ODzmV",
    "outputId": "3f5a8819-4646-43d9-9137-8dd5f1297ce2"
   },
   "outputs": [
    {
     "data": {
      "text/latex": [
       "$\\displaystyle \\frac{\\left(-4 - \\frac{\\sin^{2}{\\left(4 y \\right)}}{\\sin^{4}{\\left(2 y \\right)}}\\right) \\sin{\\left(4 y \\right)} \\sin{\\left(x + \\frac{\\pi}{2} \\right)}}{2 \\sin^{2}{\\left(2 y \\right)}}$"
      ],
      "text/plain": [
       "(-4 - sin(4*y)**2/sin(2*y)**4)*sin(4*y)*sin(x + pi/2)/(2*sin(2*y)**2)"
      ]
     },
     "execution_count": 100,
     "metadata": {},
     "output_type": "execute_result"
    }
   ],
   "source": [
    "partial_y.rewrite(sp.sin)"
   ]
  },
  {
   "cell_type": "code",
   "execution_count": null,
   "metadata": {
    "colab": {
     "base_uri": "https://localhost:8080/",
     "height": 58
    },
    "id": "d0jsB7G4D7Vr",
    "outputId": "04792396-a97c-498c-baa6-eb05576f64cf"
   },
   "outputs": [
    {
     "data": {
      "text/latex": [
       "$\\displaystyle - \\frac{4 \\cos{\\left(x \\right)} \\cot{\\left(2 y \\right)}}{\\sin^{2}{\\left(2 y \\right)}}$"
      ],
      "text/plain": [
       "-4*cos(x)*cot(2*y)/sin(2*y)**2"
      ]
     },
     "execution_count": 101,
     "metadata": {},
     "output_type": "execute_result"
    }
   ],
   "source": [
    "simplified_y = partial_y.simplify()\n",
    "simplified_y"
   ]
  },
  {
   "cell_type": "code",
   "execution_count": null,
   "metadata": {
    "colab": {
     "base_uri": "https://localhost:8080/",
     "height": 61
    },
    "id": "CeeIHXBvECo3",
    "outputId": "29c465d2-3527-4b21-9d40-8b448b298f30"
   },
   "outputs": [
    {
     "data": {
      "text/latex": [
       "$\\displaystyle - \\frac{2 \\sin{\\left(4 y \\right)} \\sin{\\left(x + \\frac{\\pi}{2} \\right)}}{\\sin^{4}{\\left(2 y \\right)}}$"
      ],
      "text/plain": [
       "-2*sin(4*y)*sin(x + pi/2)/sin(2*y)**4"
      ]
     },
     "execution_count": 102,
     "metadata": {},
     "output_type": "execute_result"
    }
   ],
   "source": [
    "simplified_y.rewrite(sp.sin)"
   ]
  },
  {
   "cell_type": "markdown",
   "metadata": {
    "id": "FVVG6o_gyEvL"
   },
   "source": [
    "Дифференцировать можно с разным порядком и по разным переменным:"
   ]
  },
  {
   "cell_type": "code",
   "execution_count": null,
   "metadata": {
    "colab": {
     "base_uri": "https://localhost:8080/",
     "height": 38
    },
    "id": "jGoPaQfpEGzB",
    "outputId": "07c38283-c23d-45e6-a08a-36526772b164"
   },
   "outputs": [
    {
     "data": {
      "text/latex": [
       "$\\displaystyle 64 \\left(\\cot^{2}{\\left(2 y \\right)} + 1\\right) \\left(3 \\cot^{2}{\\left(2 y \\right)} + 2\\right) \\cos{\\left(x \\right)} \\cot{\\left(2 y \\right)}$"
      ],
      "text/plain": [
       "64*(cot(2*y)**2 + 1)*(3*cot(2*y)**2 + 2)*cos(x)*cot(2*y)"
      ]
     },
     "execution_count": 103,
     "metadata": {},
     "output_type": "execute_result"
    }
   ],
   "source": [
    "two_var.diff(x, x, y, y, y)"
   ]
  },
  {
   "cell_type": "code",
   "execution_count": null,
   "metadata": {
    "colab": {
     "base_uri": "https://localhost:8080/",
     "height": 47
    },
    "id": "XCpiwezGEMVZ",
    "outputId": "312349b5-244f-4bc3-c48a-9b2520b1a7cc"
   },
   "outputs": [
    {
     "data": {
      "text/latex": [
       "$\\displaystyle - 512 \\left(\\cot^{2}{\\left(2 y \\right)} + 1\\right) \\left(17 \\left(\\cot^{2}{\\left(2 y \\right)} + 1\\right)^{2} + 26 \\left(\\cot^{2}{\\left(2 y \\right)} + 1\\right) \\cot^{2}{\\left(2 y \\right)} + 2 \\cot^{4}{\\left(2 y \\right)}\\right) \\cos{\\left(x \\right)} \\cot{\\left(2 y \\right)}$"
      ],
      "text/plain": [
       "-512*(cot(2*y)**2 + 1)*(17*(cot(2*y)**2 + 1)**2 + 26*(cot(2*y)**2 + 1)*cot(2*y)**2 + 2*cot(2*y)**4)*cos(x)*cot(2*y)"
      ]
     },
     "execution_count": 104,
     "metadata": {},
     "output_type": "execute_result"
    }
   ],
   "source": [
    "two_var.diff(x, 4, y, 5)"
   ]
  },
  {
   "cell_type": "markdown",
   "metadata": {
    "id": "WK7zNk3GEbhQ"
   },
   "source": [
    "# 7. Интегралы"
   ]
  },
  {
   "cell_type": "code",
   "execution_count": null,
   "metadata": {
    "id": "iHLV8eLUESO0"
   },
   "outputs": [],
   "source": [
    "x, y, z = sp.symbols('x y z', real=True)\n",
    "C = sp.Symbol('C')"
   ]
  },
  {
   "cell_type": "markdown",
   "metadata": {
    "id": "UUg5gBbAVtKC"
   },
   "source": [
    "Запишем функцию и проинтегрируем её:"
   ]
  },
  {
   "cell_type": "code",
   "execution_count": null,
   "metadata": {
    "colab": {
     "base_uri": "https://localhost:8080/",
     "height": 38
    },
    "id": "7cuYt9ZxFRfz",
    "outputId": "01980c1a-149c-4efa-eaa1-23dcccd37423"
   },
   "outputs": [
    {
     "data": {
      "text/latex": [
       "$\\displaystyle \\sin{\\left(3 x \\right)} \\cos{\\left(2 x \\right)}$"
      ],
      "text/plain": [
       "sin(3*x)*cos(2*x)"
      ]
     },
     "execution_count": 105,
     "metadata": {},
     "output_type": "execute_result"
    }
   ],
   "source": [
    "f = sp.cos(2*x) * sp.sin(3*x)\n",
    "f"
   ]
  },
  {
   "cell_type": "code",
   "execution_count": null,
   "metadata": {
    "colab": {
     "base_uri": "https://localhost:8080/",
     "height": 53
    },
    "id": "cGh-__HqFcwH",
    "outputId": "802d0346-563e-41a3-958a-c98dec96d7a1"
   },
   "outputs": [
    {
     "data": {
      "text/latex": [
       "$\\displaystyle - \\frac{2 \\sin{\\left(2 x \\right)} \\sin{\\left(3 x \\right)}}{5} - \\frac{3 \\cos{\\left(2 x \\right)} \\cos{\\left(3 x \\right)}}{5}$"
      ],
      "text/plain": [
       "-2*sin(2*x)*sin(3*x)/5 - 3*cos(2*x)*cos(3*x)/5"
      ]
     },
     "execution_count": 106,
     "metadata": {},
     "output_type": "execute_result"
    }
   ],
   "source": [
    "sp.integrate(f)"
   ]
  },
  {
   "cell_type": "markdown",
   "metadata": {
    "id": "cKxDW2WUVzzJ"
   },
   "source": [
    "Аналогично дифференцированию можно уточнять переменную интегрирования:"
   ]
  },
  {
   "cell_type": "code",
   "execution_count": null,
   "metadata": {
    "colab": {
     "base_uri": "https://localhost:8080/",
     "height": 53
    },
    "id": "9Cbh5jgfFfcl",
    "outputId": "461fcd25-9e5f-41fe-a927-b49ead7c7e7c"
   },
   "outputs": [
    {
     "data": {
      "text/latex": [
       "$\\displaystyle - \\frac{2 \\sin{\\left(2 x \\right)} \\sin{\\left(3 x \\right)}}{5} - \\frac{3 \\cos{\\left(2 x \\right)} \\cos{\\left(3 x \\right)}}{5}$"
      ],
      "text/plain": [
       "-2*sin(2*x)*sin(3*x)/5 - 3*cos(2*x)*cos(3*x)/5"
      ]
     },
     "execution_count": 107,
     "metadata": {},
     "output_type": "execute_result"
    }
   ],
   "source": [
    "sp.integrate(f, x)"
   ]
  },
  {
   "cell_type": "markdown",
   "metadata": {
    "id": "Gkbp1pVtV-BZ"
   },
   "source": [
    "Разберем необычный кейс"
   ]
  },
  {
   "cell_type": "code",
   "execution_count": null,
   "metadata": {
    "colab": {
     "base_uri": "https://localhost:8080/",
     "height": 38
    },
    "id": "kM8m162jFphx",
    "outputId": "63df9ea3-4c44-4b1b-c337-ede357474ee6"
   },
   "outputs": [
    {
     "data": {
      "text/latex": [
       "$\\displaystyle x^{y}$"
      ],
      "text/plain": [
       "x**y"
      ]
     },
     "execution_count": 108,
     "metadata": {},
     "output_type": "execute_result"
    }
   ],
   "source": [
    "g = x ** y\n",
    "g"
   ]
  },
  {
   "cell_type": "code",
   "execution_count": null,
   "metadata": {
    "colab": {
     "base_uri": "https://localhost:8080/",
     "height": 68
    },
    "id": "g9Bx2xreFrYq",
    "outputId": "4f79c7e4-6266-4f59-8b23-f59c99babf49"
   },
   "outputs": [
    {
     "data": {
      "text/latex": [
       "$\\displaystyle \\begin{cases} \\frac{x^{y + 1}}{y + 1} & \\text{for}\\: y \\neq -1 \\\\\\log{\\left(x \\right)} & \\text{otherwise} \\end{cases}$"
      ],
      "text/plain": [
       "Piecewise((x**(y + 1)/(y + 1), Ne(y, -1)), (log(x), True))"
      ]
     },
     "execution_count": 109,
     "metadata": {},
     "output_type": "execute_result"
    }
   ],
   "source": [
    "h = sp.integrate(g, x)\n",
    "h"
   ]
  },
  {
   "cell_type": "markdown",
   "metadata": {
    "id": "WNWNRYkvWBnD"
   },
   "source": [
    "Впервые получаем систему, как с ней работать?"
   ]
  },
  {
   "cell_type": "code",
   "execution_count": null,
   "metadata": {
    "colab": {
     "base_uri": "https://localhost:8080/"
    },
    "id": "D2_LG5N9FvSR",
    "outputId": "9227546f-c01f-412a-c8ef-3db880333728"
   },
   "outputs": [
    {
     "data": {
      "text/plain": [
       "Piecewise"
      ]
     },
     "execution_count": 110,
     "metadata": {},
     "output_type": "execute_result"
    }
   ],
   "source": [
    "type(h)"
   ]
  },
  {
   "cell_type": "code",
   "execution_count": null,
   "metadata": {
    "colab": {
     "base_uri": "https://localhost:8080/",
     "height": 68
    },
    "id": "P1zONSJrFxut",
    "outputId": "ce9377bb-c2a8-4414-fbfe-233e416f9819"
   },
   "outputs": [
    {
     "data": {
      "text/latex": [
       "$\\displaystyle \\begin{cases} \\frac{x^{y + 1} \\sin{\\left(3 x \\right)} \\cos{\\left(2 x \\right)}}{y + 1} & \\text{for}\\: y \\neq -1 \\\\\\log{\\left(x \\right)} \\sin{\\left(3 x \\right)} \\cos{\\left(2 x \\right)} & \\text{otherwise} \\end{cases}$"
      ],
      "text/plain": [
       "Piecewise((x**(y + 1)*sin(3*x)*cos(2*x)/(y + 1), Ne(y, -1)), (log(x)*sin(3*x)*cos(2*x), True))"
      ]
     },
     "execution_count": 111,
     "metadata": {},
     "output_type": "execute_result"
    }
   ],
   "source": [
    "(h * f).simplify()"
   ]
  },
  {
   "cell_type": "markdown",
   "metadata": {
    "id": "Fjp_lsqIWGeV"
   },
   "source": [
    "Отсюда становится понятно, что теперь все действия происходят одновременно со всей системой."
   ]
  },
  {
   "cell_type": "code",
   "execution_count": null,
   "metadata": {
    "colab": {
     "base_uri": "https://localhost:8080/",
     "height": 38
    },
    "id": "a1OG-49dF0A6",
    "outputId": "162afdf7-6e04-4581-c7ec-391fb1d854d9"
   },
   "outputs": [
    {
     "data": {
      "text/latex": [
       "$\\displaystyle \\sin{\\left(3 x \\right)} \\cos{\\left(2 x \\right)}$"
      ],
      "text/plain": [
       "sin(3*x)*cos(2*x)"
      ]
     },
     "execution_count": 112,
     "metadata": {},
     "output_type": "execute_result"
    }
   ],
   "source": [
    "f"
   ]
  },
  {
   "cell_type": "markdown",
   "metadata": {
    "id": "U5c43i9PWP-J"
   },
   "source": [
    "Рассмотрим интегрирование в некоторых пределах, тогда мы можем вычислить интеграл:"
   ]
  },
  {
   "cell_type": "code",
   "execution_count": null,
   "metadata": {
    "colab": {
     "base_uri": "https://localhost:8080/",
     "height": 51
    },
    "id": "qN-f2U_7F9AO",
    "outputId": "1e0daae1-8f08-41d7-f457-27d63f5d639d"
   },
   "outputs": [
    {
     "data": {
      "text/latex": [
       "$\\displaystyle \\frac{6}{5}$"
      ],
      "text/plain": [
       "6/5"
      ]
     },
     "execution_count": 113,
     "metadata": {},
     "output_type": "execute_result"
    }
   ],
   "source": [
    "sp.integrate(f, (x, 0, sp.pi))"
   ]
  },
  {
   "cell_type": "code",
   "execution_count": null,
   "metadata": {
    "colab": {
     "base_uri": "https://localhost:8080/",
     "height": 38
    },
    "id": "LoKwGKpRGA2R",
    "outputId": "b42db6f1-6409-452d-8c1c-1112cc247e55"
   },
   "outputs": [
    {
     "data": {
      "text/latex": [
       "$\\displaystyle e^{- x}$"
      ],
      "text/plain": [
       "exp(-x)"
      ]
     },
     "execution_count": 114,
     "metadata": {},
     "output_type": "execute_result"
    }
   ],
   "source": [
    "u = sp.exp(-x)\n",
    "u"
   ]
  },
  {
   "cell_type": "code",
   "execution_count": null,
   "metadata": {
    "colab": {
     "base_uri": "https://localhost:8080/",
     "height": 37
    },
    "id": "THWx5VxyGLsO",
    "outputId": "96108854-ec31-4c0c-91d0-be2ea0207a0c"
   },
   "outputs": [
    {
     "data": {
      "text/latex": [
       "$\\displaystyle 1$"
      ],
      "text/plain": [
       "1"
      ]
     },
     "execution_count": 115,
     "metadata": {},
     "output_type": "execute_result"
    }
   ],
   "source": [
    "sp.integrate(u, (x, 0, sp.oo))"
   ]
  },
  {
   "cell_type": "code",
   "execution_count": null,
   "metadata": {
    "colab": {
     "base_uri": "https://localhost:8080/",
     "height": 38
    },
    "id": "E5Tj1MSnGR6c",
    "outputId": "6678e63c-e9c3-49d5-c028-8b6177db81b3"
   },
   "outputs": [
    {
     "data": {
      "text/latex": [
       "$\\displaystyle x y z^{2}$"
      ],
      "text/plain": [
       "x*y*z**2"
      ]
     },
     "execution_count": 116,
     "metadata": {},
     "output_type": "execute_result"
    }
   ],
   "source": [
    "w = x * y * z ** 2\n",
    "w"
   ]
  },
  {
   "cell_type": "markdown",
   "metadata": {
    "id": "Wup-XXzFWZn8"
   },
   "source": [
    "можно интегрировать по разным переменным в том порядке, как хотим:"
   ]
  },
  {
   "cell_type": "code",
   "execution_count": null,
   "metadata": {
    "colab": {
     "base_uri": "https://localhost:8080/",
     "height": 54
    },
    "id": "KJJEt_VZGcQf",
    "outputId": "283d7f3a-c4bf-4993-c16b-ff79562eae8e"
   },
   "outputs": [
    {
     "data": {
      "text/latex": [
       "$\\displaystyle \\frac{x^{2} y^{2} z^{2}}{4}$"
      ],
      "text/plain": [
       "x**2*y**2*z**2/4"
      ]
     },
     "execution_count": 117,
     "metadata": {},
     "output_type": "execute_result"
    }
   ],
   "source": [
    "sp.integrate(w, x, y)"
   ]
  },
  {
   "cell_type": "markdown",
   "metadata": {
    "id": "7KYBtC7KWguE"
   },
   "source": [
    "можно так же задавать пределы интегрирования:"
   ]
  },
  {
   "cell_type": "code",
   "execution_count": null,
   "metadata": {
    "colab": {
     "base_uri": "https://localhost:8080/",
     "height": 37
    },
    "id": "cKpu-KyNGfQp",
    "outputId": "0b1909bf-6a21-4e44-d0ec-689e019ddc12"
   },
   "outputs": [
    {
     "data": {
      "text/latex": [
       "$\\displaystyle 54$"
      ],
      "text/plain": [
       "54"
      ]
     },
     "execution_count": 118,
     "metadata": {},
     "output_type": "execute_result"
    }
   ],
   "source": [
    "sp.integrate(w, (x, 0, 1), (y, 1, 5), (z, 0, 3))"
   ]
  },
  {
   "cell_type": "markdown",
   "metadata": {
    "id": "1Oc9vdkFXGn1"
   },
   "source": [
    "Давайте, как пример, посчитаем интеграл Пуассона:"
   ]
  },
  {
   "cell_type": "code",
   "execution_count": null,
   "metadata": {
    "colab": {
     "base_uri": "https://localhost:8080/",
     "height": 43
    },
    "id": "O1opf6vrWxX0",
    "outputId": "792502dc-1c19-4dd1-da49-e463bef8976f"
   },
   "outputs": [
    {
     "data": {
      "text/latex": [
       "$\\displaystyle e^{- \\frac{x^{2}}{2}}$"
      ],
      "text/plain": [
       "exp(-x**2/2)"
      ]
     },
     "execution_count": 126,
     "metadata": {},
     "output_type": "execute_result"
    }
   ],
   "source": [
    "expr = sp.E ** (-(x**2) / 2)\n",
    "expr"
   ]
  },
  {
   "cell_type": "code",
   "execution_count": null,
   "metadata": {
    "colab": {
     "base_uri": "https://localhost:8080/",
     "height": 66
    },
    "id": "jkKlajH3W-xZ",
    "outputId": "b5bc717a-b8da-4834-c211-5863f75c8e64"
   },
   "outputs": [
    {
     "data": {
      "text/latex": [
       "$\\displaystyle \\frac{\\sqrt{2} \\sqrt{\\pi} \\operatorname{erf}{\\left(\\frac{\\sqrt{2} x}{2} \\right)}}{2}$"
      ],
      "text/plain": [
       "sqrt(2)*sqrt(pi)*erf(sqrt(2)*x/2)/2"
      ]
     },
     "execution_count": 128,
     "metadata": {},
     "output_type": "execute_result"
    }
   ],
   "source": [
    "expr.integrate()"
   ]
  },
  {
   "cell_type": "markdown",
   "metadata": {
    "id": "Hf1eLKFj8YWy"
   },
   "source": [
    "${\\rm erf}\\, x$ - это так называемая *функция ошибок*. По определению, она равна\n",
    "$$\n",
    "{\\rm erf}\\, x =\n",
    "\\frac{2}{\\sqrt{\\pi}}\\int_0^x e^{-t^2} dt.\n",
    "$$"
   ]
  },
  {
   "cell_type": "markdown",
   "metadata": {
    "id": "vg5yofczGu10"
   },
   "source": [
    "# 8. Пределы и ряды"
   ]
  },
  {
   "cell_type": "markdown",
   "metadata": {
    "id": "S09mamqsI-Rh"
   },
   "source": [
    "## 8.1. Пределы"
   ]
  },
  {
   "cell_type": "code",
   "execution_count": null,
   "metadata": {
    "id": "W7CuzgCnGnaT"
   },
   "outputs": [],
   "source": [
    "x = sp.Symbol('x')"
   ]
  },
  {
   "cell_type": "code",
   "execution_count": null,
   "metadata": {
    "colab": {
     "base_uri": "https://localhost:8080/",
     "height": 38
    },
    "id": "J-o0P1MWHEgS",
    "outputId": "21b6ea78-a4cc-4f29-9801-e44eebfc28d5"
   },
   "outputs": [
    {
     "data": {
      "text/latex": [
       "$\\displaystyle x^{2}$"
      ],
      "text/plain": [
       "x**2"
      ]
     },
     "execution_count": 130,
     "metadata": {},
     "output_type": "execute_result"
    }
   ],
   "source": [
    "expr = x ** 2\n",
    "expr"
   ]
  },
  {
   "cell_type": "markdown",
   "metadata": {
    "id": "VYW_VgtoXQ__"
   },
   "source": [
    "Посчитаем предел при $x \\to 1$"
   ]
  },
  {
   "cell_type": "code",
   "execution_count": null,
   "metadata": {
    "colab": {
     "base_uri": "https://localhost:8080/",
     "height": 37
    },
    "id": "3kPAM_47HIP1",
    "outputId": "ee0caff4-6d5e-41eb-cce5-ea0a1e050117"
   },
   "outputs": [
    {
     "data": {
      "text/latex": [
       "$\\displaystyle 1$"
      ],
      "text/plain": [
       "1"
      ]
     },
     "execution_count": 131,
     "metadata": {},
     "output_type": "execute_result"
    }
   ],
   "source": [
    "sp.limit(expr, x, 1)"
   ]
  },
  {
   "cell_type": "markdown",
   "metadata": {
    "id": "TzWn8tAqXayf"
   },
   "source": [
    "Проверим результат явной подстановкой."
   ]
  },
  {
   "cell_type": "code",
   "execution_count": null,
   "metadata": {
    "colab": {
     "base_uri": "https://localhost:8080/",
     "height": 37
    },
    "id": "wTVyETWgHKnJ",
    "outputId": "dd8465dd-120e-4a95-92fe-026aa463047f"
   },
   "outputs": [
    {
     "data": {
      "text/latex": [
       "$\\displaystyle 1$"
      ],
      "text/plain": [
       "1"
      ]
     },
     "execution_count": 132,
     "metadata": {},
     "output_type": "execute_result"
    }
   ],
   "source": [
    "expr.subs(x, 1)"
   ]
  },
  {
   "cell_type": "markdown",
   "metadata": {
    "id": "Pgf9I-eMXf9J"
   },
   "source": [
    "Рассмотрим другое выражение"
   ]
  },
  {
   "cell_type": "code",
   "execution_count": null,
   "metadata": {
    "colab": {
     "base_uri": "https://localhost:8080/",
     "height": 38
    },
    "id": "zpZnV6j3HMtR",
    "outputId": "d2021b20-d6d8-4cac-a5da-8617bf08fe95"
   },
   "outputs": [
    {
     "data": {
      "text/latex": [
       "$\\displaystyle x e^{- x}$"
      ],
      "text/plain": [
       "x*exp(-x)"
      ]
     },
     "execution_count": 133,
     "metadata": {},
     "output_type": "execute_result"
    }
   ],
   "source": [
    " exponent = x / sp.exp(x)\n",
    " exponent"
   ]
  },
  {
   "cell_type": "markdown",
   "metadata": {
    "id": "JG4DClK6XkgC"
   },
   "source": [
    "Иногда может так случаться, что предел существует, а при подстановке всё грустно("
   ]
  },
  {
   "cell_type": "code",
   "execution_count": null,
   "metadata": {
    "colab": {
     "base_uri": "https://localhost:8080/",
     "height": 37
    },
    "id": "mDNiXe3XIAn_",
    "outputId": "91b9771d-5643-42a6-be95-8bd7e1abcd8c"
   },
   "outputs": [
    {
     "data": {
      "text/latex": [
       "$\\displaystyle 0$"
      ],
      "text/plain": [
       "0"
      ]
     },
     "execution_count": 134,
     "metadata": {},
     "output_type": "execute_result"
    }
   ],
   "source": [
    "sp.limit(exponent, x, sp.oo)"
   ]
  },
  {
   "cell_type": "code",
   "execution_count": null,
   "metadata": {
    "colab": {
     "base_uri": "https://localhost:8080/",
     "height": 37
    },
    "id": "tkNnZPLMIGwD",
    "outputId": "0419787b-d93b-4e51-8e62-6d59fb4c6031"
   },
   "outputs": [
    {
     "data": {
      "text/latex": [
       "$\\displaystyle \\text{NaN}$"
      ],
      "text/plain": [
       "nan"
      ]
     },
     "execution_count": 135,
     "metadata": {},
     "output_type": "execute_result"
    }
   ],
   "source": [
    "exponent.subs(x, sp.oo)"
   ]
  },
  {
   "cell_type": "code",
   "execution_count": null,
   "metadata": {
    "colab": {
     "base_uri": "https://localhost:8080/",
     "height": 51
    },
    "id": "ew0nD4ixINWM",
    "outputId": "a800af26-57aa-4ffe-8716-6a1b1b430cc1"
   },
   "outputs": [
    {
     "data": {
      "text/latex": [
       "$\\displaystyle \\frac{1}{x}$"
      ],
      "text/plain": [
       "1/x"
      ]
     },
     "execution_count": 136,
     "metadata": {},
     "output_type": "execute_result"
    }
   ],
   "source": [
    "expr = 1/x\n",
    "expr"
   ]
  },
  {
   "cell_type": "markdown",
   "metadata": {
    "id": "CaUSq79TXvsz"
   },
   "source": [
    "Примите, как факт, что по умолчанию предел берется справа"
   ]
  },
  {
   "cell_type": "code",
   "execution_count": null,
   "metadata": {
    "colab": {
     "base_uri": "https://localhost:8080/",
     "height": 37
    },
    "id": "YKmvIycFITzF",
    "outputId": "ea3d047b-b23f-4f15-83a2-7b41532bfeba"
   },
   "outputs": [
    {
     "data": {
      "text/latex": [
       "$\\displaystyle \\infty$"
      ],
      "text/plain": [
       "oo"
      ]
     },
     "execution_count": 137,
     "metadata": {},
     "output_type": "execute_result"
    }
   ],
   "source": [
    "sp.limit(expr, x, 0)"
   ]
  },
  {
   "cell_type": "markdown",
   "metadata": {
    "id": "NWeNh6kOX1a-"
   },
   "source": [
    "Чтобы задать левый - или правый + пределы нужно через ',' указать знак"
   ]
  },
  {
   "cell_type": "code",
   "execution_count": null,
   "metadata": {
    "colab": {
     "base_uri": "https://localhost:8080/",
     "height": 37
    },
    "id": "2MbHFL6OIYqj",
    "outputId": "581af1af-5078-4dbf-ddea-05914edffd93"
   },
   "outputs": [
    {
     "data": {
      "text/latex": [
       "$\\displaystyle -\\infty$"
      ],
      "text/plain": [
       "-oo"
      ]
     },
     "execution_count": 138,
     "metadata": {},
     "output_type": "execute_result"
    }
   ],
   "source": [
    "sp.limit(expr, x, 0, '-')"
   ]
  },
  {
   "cell_type": "code",
   "execution_count": null,
   "metadata": {
    "colab": {
     "base_uri": "https://localhost:8080/",
     "height": 37
    },
    "id": "-BMcxh5eIcM7",
    "outputId": "02d48274-3a91-46f9-edea-82c76b66b1a2"
   },
   "outputs": [
    {
     "data": {
      "text/latex": [
       "$\\displaystyle \\tilde{\\infty}$"
      ],
      "text/plain": [
       "zoo"
      ]
     },
     "execution_count": 139,
     "metadata": {},
     "output_type": "execute_result"
    }
   ],
   "source": [
    "sp.limit(expr, x, 0, '+-')"
   ]
  },
  {
   "cell_type": "markdown",
   "metadata": {
    "id": "TG73Hu22Ix7w"
   },
   "source": [
    "## 8.2. Ряды"
   ]
  },
  {
   "cell_type": "markdown",
   "metadata": {
    "id": "onoW2bekYFi1"
   },
   "source": [
    "Наше любимое разложение в ряд Маклорена, Тейлора:"
   ]
  },
  {
   "cell_type": "code",
   "execution_count": 79,
   "metadata": {
    "colab": {
     "base_uri": "https://localhost:8080/",
     "height": 63
    },
    "id": "Y7DnG8MfIlE4",
    "outputId": "3e5e373d-dd33-41ad-8f37-ccc9c8664525"
   },
   "outputs": [
    {
     "data": {
      "text/latex": [
       "$\\displaystyle 1 - \\frac{\\left(x - \\frac{\\pi}{2}\\right)^{2}}{2} + \\frac{\\left(x - \\frac{\\pi}{2}\\right)^{4}}{24} + O\\left(\\left(x - \\frac{\\pi}{2}\\right)^{6}; x\\rightarrow \\frac{\\pi}{2}\\right)$"
      ],
      "text/plain": [
       "1 - (x - pi/2)**2/2 + (x - pi/2)**4/24 + O((x - pi/2)**6, (x, pi/2))"
      ]
     },
     "execution_count": 79,
     "metadata": {},
     "output_type": "execute_result"
    }
   ],
   "source": [
    "sp.series(sp.sin(x), x, sp.pi/2)"
   ]
  },
  {
   "cell_type": "code",
   "execution_count": 81,
   "metadata": {
    "colab": {
     "base_uri": "https://localhost:8080/",
     "height": 39
    },
    "id": "pwHMIk2iIts0",
    "outputId": "c12a27b1-de6c-4b01-8e78-0bd06c13eef2"
   },
   "outputs": [
    {
     "data": {
      "text/latex": [
       "$\\displaystyle e^{\\sin{\\left(x \\right)}}$"
      ],
      "text/plain": [
       "exp(sin(x))"
      ]
     },
     "execution_count": 81,
     "metadata": {},
     "output_type": "execute_result"
    }
   ],
   "source": [
    "expr = sp.exp(sp.sin(x))\n",
    "expr"
   ]
  },
  {
   "cell_type": "markdown",
   "metadata": {
    "id": "zsIiWJvzYMVw"
   },
   "source": [
    "Можно указывать до какого члена:"
   ]
  },
  {
   "cell_type": "code",
   "execution_count": null,
   "metadata": {
    "colab": {
     "base_uri": "https://localhost:8080/",
     "height": 54
    },
    "id": "2tNdcCaxJLBd",
    "outputId": "02c31480-013f-4a09-9354-95744001ca10"
   },
   "outputs": [
    {
     "data": {
      "text/latex": [
       "$\\displaystyle 1 + x + \\frac{x^{2}}{2} - \\frac{x^{4}}{8} - \\frac{x^{5}}{15} - \\frac{x^{6}}{240} + \\frac{x^{7}}{90} + O\\left(x^{8}\\right)$"
      ],
      "text/plain": [
       "1 + x + x**2/2 - x**4/8 - x**5/15 - x**6/240 + x**7/90 + O(x**8)"
      ]
     },
     "execution_count": 142,
     "metadata": {},
     "output_type": "execute_result"
    }
   ],
   "source": [
    "sp.series(expr, x, 0, n=8)"
   ]
  },
  {
   "cell_type": "markdown",
   "metadata": {
    "id": "HCiT0F0LYR9b"
   },
   "source": [
    "С рядами разрешены математические операции:"
   ]
  },
  {
   "cell_type": "code",
   "execution_count": null,
   "metadata": {
    "colab": {
     "base_uri": "https://localhost:8080/",
     "height": 54
    },
    "id": "k4jjttJGJPZo",
    "outputId": "36c2b807-5a6b-4c92-ed41-b86b878fd567"
   },
   "outputs": [
    {
     "data": {
      "text/latex": [
       "$\\displaystyle 1 + 2 x + 2 x^{2} + x^{3} - \\frac{23 x^{5}}{60} + O\\left(x^{6}\\right)$"
      ],
      "text/plain": [
       "1 + 2*x + 2*x**2 + x**3 - 23*x**5/60 + O(x**6)"
      ]
     },
     "execution_count": 143,
     "metadata": {},
     "output_type": "execute_result"
    }
   ],
   "source": [
    "(sp.series(expr, x, 0, n=8) * sp.series(expr, x, 0, n=6)).expand()"
   ]
  },
  {
   "cell_type": "markdown",
   "metadata": {
    "id": "ztH7nEHlYVaD"
   },
   "source": [
    "Их так же можно дифференцировать и интегрировать"
   ]
  },
  {
   "cell_type": "code",
   "execution_count": null,
   "metadata": {
    "colab": {
     "base_uri": "https://localhost:8080/",
     "height": 54
    },
    "id": "joeQQ5OpJYmW",
    "outputId": "7097719d-5378-4b95-eb7f-a3cdaca46566"
   },
   "outputs": [
    {
     "data": {
      "text/latex": [
       "$\\displaystyle 1 + x - \\frac{x^{3}}{2} - \\frac{x^{4}}{3} - \\frac{x^{5}}{40} + \\frac{7 x^{6}}{90} + O\\left(x^{7}\\right)$"
      ],
      "text/plain": [
       "1 + x - x**3/2 - x**4/3 - x**5/40 + 7*x**6/90 + O(x**7)"
      ]
     },
     "execution_count": 144,
     "metadata": {},
     "output_type": "execute_result"
    }
   ],
   "source": [
    "sp.diff(sp.series(expr, x, 0, n=8))"
   ]
  },
  {
   "cell_type": "code",
   "execution_count": null,
   "metadata": {
    "colab": {
     "base_uri": "https://localhost:8080/",
     "height": 54
    },
    "id": "2ko8XNEMJgpv",
    "outputId": "70d6159a-1c1e-4309-b75b-5e9de2bbcd6a"
   },
   "outputs": [
    {
     "data": {
      "text/latex": [
       "$\\displaystyle \\frac{x^{8}}{720} - \\frac{x^{7}}{1680} - \\frac{x^{6}}{90} - \\frac{x^{5}}{40} + \\frac{x^{3}}{6} + \\frac{x^{2}}{2} + x$"
      ],
      "text/plain": [
       "x**8/720 - x**7/1680 - x**6/90 - x**5/40 + x**3/6 + x**2/2 + x"
      ]
     },
     "execution_count": 146,
     "metadata": {},
     "output_type": "execute_result"
    }
   ],
   "source": [
    "sp.integrate(sp.series(expr, x, 0, n=8)).removeO()"
   ]
  },
  {
   "cell_type": "markdown",
   "metadata": {
    "id": "UQAgGlHhlel5"
   },
   "source": [
    "Рассмотрим суммирование рядов через `summation`:"
   ]
  },
  {
   "cell_type": "code",
   "execution_count": null,
   "metadata": {
    "colab": {
     "base_uri": "https://localhost:8080/",
     "height": 54
    },
    "id": "ZsSDH8R2lePS",
    "outputId": "38fb3545-72be-4028-b36c-174441bae738"
   },
   "outputs": [
    {
     "data": {
      "text/latex": [
       "$\\displaystyle \\frac{\\pi^{2}}{6}$"
      ],
      "text/plain": [
       "pi**2/6"
      ]
     },
     "execution_count": 147,
     "metadata": {},
     "output_type": "execute_result"
    }
   ],
   "source": [
    "sp.summation(1 / n ** 2, (n, 1, sp.oo))"
   ]
  },
  {
   "cell_type": "code",
   "execution_count": null,
   "metadata": {
    "colab": {
     "base_uri": "https://localhost:8080/",
     "height": 54
    },
    "id": "6bRAW85jlm_p",
    "outputId": "112f2f38-fc4b-4279-b18b-0e709f9ef10e"
   },
   "outputs": [
    {
     "data": {
      "text/latex": [
       "$\\displaystyle - \\frac{\\pi^{2}}{12}$"
      ],
      "text/plain": [
       "-pi**2/12"
      ]
     },
     "execution_count": 148,
     "metadata": {},
     "output_type": "execute_result"
    }
   ],
   "source": [
    "sp.summation((-1) ** n / n ** 2, (n, 1, sp.oo))"
   ]
  },
  {
   "cell_type": "markdown",
   "metadata": {
    "id": "KisG2co5lz82"
   },
   "source": [
    "Невычисленная сумма обозначается Sum:"
   ]
  },
  {
   "cell_type": "code",
   "execution_count": null,
   "metadata": {
    "colab": {
     "base_uri": "https://localhost:8080/",
     "height": 66
    },
    "id": "dbGSm9ZQl1HC",
    "outputId": "0f26b79e-8756-433f-fd55-9d1582bc29ad"
   },
   "outputs": [
    {
     "data": {
      "text/latex": [
       "$\\displaystyle \\sum_{n=0}^{\\infty} \\frac{x^{n}}{n!} = e^{x}$"
      ],
      "text/plain": [
       "Eq(Sum(x**n/factorial(n), (n, 0, oo)), exp(x))"
      ]
     },
     "execution_count": 139,
     "metadata": {},
     "output_type": "execute_result"
    }
   ],
   "source": [
    "a = sp.Sum(x ** n / sp.factorial(n), (n, 0, sp.oo))\n",
    "sp.Eq(a, a.doit())"
   ]
  },
  {
   "cell_type": "markdown",
   "metadata": {
    "id": "XtgDJytuJ02g"
   },
   "source": [
    "# 9. Обыкновенные дифференциальные уравнения"
   ]
  },
  {
   "cell_type": "code",
   "execution_count": 83,
   "metadata": {
    "id": "if7gZpIjJjqt"
   },
   "outputs": [],
   "source": [
    "x = sp.Symbol('x')"
   ]
  },
  {
   "cell_type": "markdown",
   "metadata": {
    "id": "FwJSThrmKjFW"
   },
   "source": [
    "Решим:\n",
    "\n",
    "$x \\cdot f''(x) + f'(x) = x^3$\n",
    "\n",
    "$f(1)=0$\n",
    "\n",
    "$f'(2)=1$"
   ]
  },
  {
   "cell_type": "markdown",
   "metadata": {
    "id": "91AQnErJYeTt"
   },
   "source": [
    "В данном случае изучим ещё один тип в SymPy - функции"
   ]
  },
  {
   "cell_type": "code",
   "execution_count": 85,
   "metadata": {
    "colab": {
     "base_uri": "https://localhost:8080/",
     "height": 38
    },
    "id": "NjnD3We1KiyN",
    "outputId": "acde7893-99d8-4fdc-a5b4-f2d873e0eaf3"
   },
   "outputs": [
    {
     "data": {
      "text/latex": [
       "$\\displaystyle f{\\left(x \\right)}$"
      ],
      "text/plain": [
       "f(x)"
      ]
     },
     "execution_count": 85,
     "metadata": {},
     "output_type": "execute_result"
    }
   ],
   "source": [
    "f = sp.Function(\"f\")(x)\n",
    "f"
   ]
  },
  {
   "cell_type": "code",
   "execution_count": 87,
   "metadata": {
    "colab": {
     "base_uri": "https://localhost:8080/",
     "height": 52
    },
    "id": "BQ2uVgNaLLPC",
    "outputId": "949537f6-1ffc-4848-92c4-42040f80a992"
   },
   "outputs": [
    {
     "data": {
      "text/latex": [
       "$\\displaystyle \\frac{d}{d x} f{\\left(x \\right)}$"
      ],
      "text/plain": [
       "Derivative(f(x), x)"
      ]
     },
     "execution_count": 87,
     "metadata": {},
     "output_type": "execute_result"
    }
   ],
   "source": [
    "f.diff()"
   ]
  },
  {
   "cell_type": "code",
   "execution_count": 89,
   "metadata": {
    "colab": {
     "base_uri": "https://localhost:8080/",
     "height": 55
    },
    "id": "BcmNYWFqLPPb",
    "outputId": "beb1c65f-5006-49b9-eda6-cfaf387dcd58"
   },
   "outputs": [
    {
     "data": {
      "text/latex": [
       "$\\displaystyle \\int f{\\left(x \\right)}\\, dx$"
      ],
      "text/plain": [
       "Integral(f(x), x)"
      ]
     },
     "execution_count": 89,
     "metadata": {},
     "output_type": "execute_result"
    }
   ],
   "source": [
    "f.integrate()"
   ]
  },
  {
   "cell_type": "markdown",
   "metadata": {
    "id": "vlN1kNZUYllt"
   },
   "source": [
    "Как и раньше, задаем равенство:"
   ]
  },
  {
   "cell_type": "code",
   "execution_count": 92,
   "metadata": {
    "colab": {
     "base_uri": "https://localhost:8080/",
     "height": 54
    },
    "id": "4EpnCFnvLQ3N",
    "outputId": "e12725bc-5af5-4564-ec4a-10f86b0864ab"
   },
   "outputs": [
    {
     "data": {
      "text/latex": [
       "$\\displaystyle x \\frac{d^{2}}{d x^{2}} f{\\left(x \\right)} + \\frac{d}{d x} f{\\left(x \\right)} = x^{3}$"
      ],
      "text/plain": [
       "Eq(x*Derivative(f(x), (x, 2)) + Derivative(f(x), x), x**3)"
      ]
     },
     "execution_count": 92,
     "metadata": {},
     "output_type": "execute_result"
    }
   ],
   "source": [
    "diff_eq = sp.Eq(x * f.diff(x, 2) + f.diff(x), x**3)\n",
    "diff_eq"
   ]
  },
  {
   "cell_type": "markdown",
   "metadata": {
    "id": "SJl66tFOYor5"
   },
   "source": [
    "Можно запрашивать как левую, так и правую часть уравнения:"
   ]
  },
  {
   "cell_type": "code",
   "execution_count": 95,
   "metadata": {
    "colab": {
     "base_uri": "https://localhost:8080/",
     "height": 38
    },
    "id": "bJ0ntaDcLlxM",
    "outputId": "58b93fe4-144b-4e23-cea3-c0161b943e1e"
   },
   "outputs": [
    {
     "data": {
      "text/latex": [
       "$\\displaystyle x^{3}$"
      ],
      "text/plain": [
       "x**3"
      ]
     },
     "execution_count": 95,
     "metadata": {},
     "output_type": "execute_result"
    }
   ],
   "source": [
    "diff_eq.rhs"
   ]
  },
  {
   "cell_type": "code",
   "execution_count": 97,
   "metadata": {
    "colab": {
     "base_uri": "https://localhost:8080/",
     "height": 54
    },
    "id": "eJa7s7OWLsCt",
    "outputId": "d83c5494-ab14-4c7d-a826-0c4b14bc5680"
   },
   "outputs": [
    {
     "data": {
      "text/latex": [
       "$\\displaystyle x \\frac{d^{2}}{d x^{2}} f{\\left(x \\right)} + \\frac{d}{d x} f{\\left(x \\right)}$"
      ],
      "text/plain": [
       "x*Derivative(f(x), (x, 2)) + Derivative(f(x), x)"
      ]
     },
     "execution_count": 97,
     "metadata": {},
     "output_type": "execute_result"
    }
   ],
   "source": [
    "diff_eq.lhs"
   ]
  },
  {
   "cell_type": "markdown",
   "metadata": {
    "id": "nG1bSdIOYwYO"
   },
   "source": [
    "Для нахождения решения используется ```dsolve()```"
   ]
  },
  {
   "cell_type": "code",
   "execution_count": 100,
   "metadata": {
    "colab": {
     "base_uri": "https://localhost:8080/",
     "height": 54
    },
    "id": "j-SW-KzVLunU",
    "outputId": "eda8b0b6-6104-49c9-9394-077255a4f995"
   },
   "outputs": [
    {
     "data": {
      "text/latex": [
       "$\\displaystyle f{\\left(x \\right)} = C_{1} + C_{2} \\log{\\left(x \\right)} + \\frac{x^{4}}{16}$"
      ],
      "text/plain": [
       "Eq(f(x), C1 + C2*log(x) + x**4/16)"
      ]
     },
     "execution_count": 100,
     "metadata": {},
     "output_type": "execute_result"
    }
   ],
   "source": [
    "sol = sp.dsolve(diff_eq, f)\n",
    "sol"
   ]
  },
  {
   "cell_type": "code",
   "execution_count": 102,
   "metadata": {
    "colab": {
     "base_uri": "https://localhost:8080/"
    },
    "id": "JZ194rP5L1NP",
    "outputId": "12851c8c-e796-4366-fbe1-c516e418ce50"
   },
   "outputs": [
    {
     "data": {
      "text/plain": [
       "sympy.core.relational.Equality"
      ]
     },
     "execution_count": 102,
     "metadata": {},
     "output_type": "execute_result"
    }
   ],
   "source": [
    "type(sol)"
   ]
  },
  {
   "cell_type": "code",
   "execution_count": 104,
   "metadata": {
    "colab": {
     "base_uri": "https://localhost:8080/",
     "height": 54
    },
    "id": "R5F9RS86L5Eu",
    "outputId": "d45ee27d-361c-4003-d155-1afbe757fa48"
   },
   "outputs": [
    {
     "data": {
      "text/latex": [
       "$\\displaystyle C_{1} + C_{2} \\log{\\left(x \\right)} + \\frac{x^{4}}{16}$"
      ],
      "text/plain": [
       "C1 + C2*log(x) + x**4/16"
      ]
     },
     "execution_count": 104,
     "metadata": {},
     "output_type": "execute_result"
    }
   ],
   "source": [
    "exp = sol.rhs\n",
    "exp"
   ]
  },
  {
   "cell_type": "markdown",
   "metadata": {
    "id": "1_5cB3J3ZWXZ"
   },
   "source": [
    "Для определения свободных переменных можно воспользоваться `free_symbols`:"
   ]
  },
  {
   "cell_type": "code",
   "execution_count": 107,
   "metadata": {
    "colab": {
     "base_uri": "https://localhost:8080/"
    },
    "id": "cAMtD6_XMbjL",
    "outputId": "c5b30e26-6d84-4aeb-c180-b91c6cea2f77"
   },
   "outputs": [
    {
     "data": {
      "text/plain": [
       "{C1, C2, x}"
      ]
     },
     "execution_count": 107,
     "metadata": {},
     "output_type": "execute_result"
    }
   ],
   "source": [
    "exp.free_symbols"
   ]
  },
  {
   "cell_type": "code",
   "execution_count": 109,
   "metadata": {
    "colab": {
     "base_uri": "https://localhost:8080/",
     "height": 38
    },
    "id": "7jCfO7-aL9Lz",
    "outputId": "f79080a0-6abd-4ca4-9341-5ee18973729f"
   },
   "outputs": [
    {
     "data": {
      "text/latex": [
       "$\\displaystyle C_{2}$"
      ],
      "text/plain": [
       "C2"
      ]
     },
     "execution_count": 109,
     "metadata": {},
     "output_type": "execute_result"
    }
   ],
   "source": [
    "_, C1, C2 = exp.free_symbols\n",
    "# то, что произошло выше называется распаковкой элементов\n",
    "C1"
   ]
  },
  {
   "cell_type": "markdown",
   "metadata": {
    "id": "7vRQMEshZpjI"
   },
   "source": [
    "Можно вычислять выражения подставляя в свободные переменные"
   ]
  },
  {
   "cell_type": "code",
   "execution_count": 112,
   "metadata": {
    "colab": {
     "base_uri": "https://localhost:8080/",
     "height": 54
    },
    "id": "DWebj_tZMCfs",
    "outputId": "05cdeb27-ca46-4563-dcc0-d87ce23de8e6"
   },
   "outputs": [
    {
     "data": {
      "text/latex": [
       "$\\displaystyle C_{1} + \\frac{1}{16}$"
      ],
      "text/plain": [
       "C1 + 1/16"
      ]
     },
     "execution_count": 112,
     "metadata": {},
     "output_type": "execute_result"
    }
   ],
   "source": [
    "exp.subs(C1, 0).subs(C2, 1)"
   ]
  },
  {
   "cell_type": "code",
   "execution_count": 114,
   "metadata": {
    "colab": {
     "base_uri": "https://localhost:8080/",
     "height": 54
    },
    "id": "F4zKWAxdMo7h",
    "outputId": "697021e8-6639-4c63-b4bb-3a31a19625af"
   },
   "outputs": [
    {
     "data": {
      "text/latex": [
       "$\\displaystyle C_{1} + \\frac{1}{16}$"
      ],
      "text/plain": [
       "C1 + 1/16"
      ]
     },
     "execution_count": 114,
     "metadata": {},
     "output_type": "execute_result"
    }
   ],
   "source": [
    "exp.subs({C1: 0, C2: 1})"
   ]
  },
  {
   "cell_type": "markdown",
   "metadata": {
    "id": "4H86vecMZ4_6"
   },
   "source": [
    "Зададим начальные условия через специальный синтаксис"
   ]
  },
  {
   "cell_type": "code",
   "execution_count": 117,
   "metadata": {
    "colab": {
     "base_uri": "https://localhost:8080/"
    },
    "id": "XqUACAHTMtNL",
    "outputId": "3bb8fa58-88a4-431f-c8c8-cfed8181c1f7"
   },
   "outputs": [
    {
     "data": {
      "text/plain": [
       "{f(1): 0, Subs(Derivative(f(x), x), x, 2): 1}"
      ]
     },
     "execution_count": 117,
     "metadata": {},
     "output_type": "execute_result"
    }
   ],
   "source": [
    "ics = {\n",
    "    f.subs(x, 1): 0,  # f(1) = 0\n",
    "    f.diff().subs(x, 2): 1  # f'(2) = 1\n",
    "}\n",
    "\n",
    "ics"
   ]
  },
  {
   "cell_type": "markdown",
   "metadata": {
    "id": "OFGBbXWJaCQ_"
   },
   "source": [
    "Теперь мы можем решить уравнение с подстановкой условий"
   ]
  },
  {
   "cell_type": "code",
   "execution_count": 120,
   "metadata": {
    "colab": {
     "base_uri": "https://localhost:8080/",
     "height": 54
    },
    "id": "_fM2lIudM10A",
    "outputId": "de7a04c7-3bbc-4c67-ea2d-615bd3c8baa1"
   },
   "outputs": [
    {
     "data": {
      "text/latex": [
       "$\\displaystyle \\frac{x^{4}}{16} - 2 \\log{\\left(x \\right)} - \\frac{1}{16}$"
      ],
      "text/plain": [
       "x**4/16 - 2*log(x) - 1/16"
      ]
     },
     "execution_count": 120,
     "metadata": {},
     "output_type": "execute_result"
    }
   ],
   "source": [
    "ivp = sp.dsolve(diff_eq, ics=ics).rhs\n",
    "ivp"
   ]
  },
  {
   "cell_type": "markdown",
   "metadata": {
    "id": "TLt-fSZpaJJS"
   },
   "source": [
    "Проверим себя, подставив точки из условия"
   ]
  },
  {
   "cell_type": "code",
   "execution_count": 122,
   "metadata": {
    "colab": {
     "base_uri": "https://localhost:8080/",
     "height": 37
    },
    "id": "azH8eY4cM_jR",
    "outputId": "38625f13-53f4-4a74-82ed-ade9905b0929"
   },
   "outputs": [
    {
     "data": {
      "text/latex": [
       "$\\displaystyle 0$"
      ],
      "text/plain": [
       "0"
      ]
     },
     "execution_count": 122,
     "metadata": {},
     "output_type": "execute_result"
    }
   ],
   "source": [
    "ivp.subs(x, 1)"
   ]
  },
  {
   "cell_type": "code",
   "execution_count": 124,
   "metadata": {
    "colab": {
     "base_uri": "https://localhost:8080/",
     "height": 37
    },
    "id": "7NJoNf7ENCpN",
    "outputId": "ea5de08c-7977-4456-a661-b5508bd6d013"
   },
   "outputs": [
    {
     "data": {
      "text/latex": [
       "$\\displaystyle 1$"
      ],
      "text/plain": [
       "1"
      ]
     },
     "execution_count": 124,
     "metadata": {},
     "output_type": "execute_result"
    }
   ],
   "source": [
    "ivp.diff().subs(x, 2)"
   ]
  },
  {
   "cell_type": "code",
   "execution_count": 126,
   "metadata": {
    "colab": {
     "base_uri": "https://localhost:8080/",
     "height": 38
    },
    "id": "G4UJIe6HNHTw",
    "outputId": "3cd9d834-e6f7-4066-9e8e-2d2d6927a563"
   },
   "outputs": [
    {
     "data": {
      "text/latex": [
       "$\\displaystyle x^{3}$"
      ],
      "text/plain": [
       "x**3"
      ]
     },
     "execution_count": 126,
     "metadata": {},
     "output_type": "execute_result"
    }
   ],
   "source": [
    "(x * ivp.diff(x, 2) + ivp.diff()).simplify()"
   ]
  },
  {
   "cell_type": "markdown",
   "metadata": {
    "id": "tJwK-onCN6PC"
   },
   "source": [
    "# 10. Лямбды и Рисование графиков"
   ]
  },
  {
   "cell_type": "markdown",
   "metadata": {
    "id": "gkFH-opJaRVf"
   },
   "source": [
    "Еще одна прикольная и полезная штука ```lambdified```"
   ]
  },
  {
   "cell_type": "code",
   "execution_count": 128,
   "metadata": {
    "colab": {
     "base_uri": "https://localhost:8080/"
    },
    "id": "Gn3Uv12jNMlM",
    "outputId": "db0e28be-7622-4edc-f77b-f8309b5cfc37"
   },
   "outputs": [
    {
     "data": {
      "text/plain": [
       "<function _lambdifygenerated(x)>"
      ]
     },
     "execution_count": 128,
     "metadata": {},
     "output_type": "execute_result"
    }
   ],
   "source": [
    " expr = sp.pi * x ** 2 + 5 * x + sp.E\n",
    " lambdified_expr = sp.lambdify(x, expr)\n",
    " lambdified_expr "
   ]
  },
  {
   "cell_type": "code",
   "execution_count": 129,
   "metadata": {
    "colab": {
     "base_uri": "https://localhost:8080/",
     "height": 38
    },
    "id": "o0RZolwWazDP",
    "outputId": "5cd37143-abaa-49fd-8b84-fc70d7aa7990"
   },
   "outputs": [
    {
     "data": {
      "text/latex": [
       "$\\displaystyle \\pi x^{2} + 5 x + e$"
      ],
      "text/plain": [
       "pi*x**2 + 5*x + E"
      ]
     },
     "execution_count": 129,
     "metadata": {},
     "output_type": "execute_result"
    }
   ],
   "source": [
    "expr"
   ]
  },
  {
   "cell_type": "markdown",
   "metadata": {
    "id": "8RZeAbeHaXUE"
   },
   "source": [
    "Иначе говоря теперь это вычислимая в не символьных вычислениях функция"
   ]
  },
  {
   "cell_type": "code",
   "execution_count": 132,
   "metadata": {
    "colab": {
     "base_uri": "https://localhost:8080/"
    },
    "id": "wY-iRjBJOakJ",
    "outputId": "abe5946e-7889-4d1b-f9a5-daf06ce9c95f"
   },
   "outputs": [
    {
     "data": {
      "text/plain": [
       "45.99261571076719"
      ]
     },
     "execution_count": 132,
     "metadata": {},
     "output_type": "execute_result"
    }
   ],
   "source": [
    "lambdified_expr(3)"
   ]
  },
  {
   "cell_type": "markdown",
   "metadata": {
    "id": "s9025h_lan-d"
   },
   "source": [
    "Заметим что мы рассмотрели квадратное уравнение, значит парабола, проверим это"
   ]
  },
  {
   "cell_type": "code",
   "execution_count": 135,
   "metadata": {
    "id": "DmfOcmniOf-7"
   },
   "outputs": [],
   "source": [
    "import numpy as np"
   ]
  },
  {
   "cell_type": "markdown",
   "metadata": {
    "id": "0wP5iaLRa3ok"
   },
   "source": [
    "C numpy Вас должны были познакомить ранее. Но если коротко linspace - это апгрейднутый range"
   ]
  },
  {
   "cell_type": "code",
   "execution_count": 138,
   "metadata": {
    "id": "BXBDnUf7Oj2d"
   },
   "outputs": [],
   "source": [
    "points = np.linspace(-20, 20, 1000)"
   ]
  },
  {
   "cell_type": "markdown",
   "metadata": {
    "id": "vVW7PBqxbN6G"
   },
   "source": [
    "Теперь передав множество точек, мы получим значения этих точек после навешивания функции"
   ]
  },
  {
   "cell_type": "code",
   "execution_count": 141,
   "metadata": {
    "colab": {
     "base_uri": "https://localhost:8080/"
    },
    "id": "YY4COUpjOoZz",
    "outputId": "df73475b-e930-4f4e-a43d-b52970ece871"
   },
   "outputs": [
    {
     "data": {
      "text/plain": [
       "array([1159.35534326, 1154.52900026, 1149.71273048, 1144.90653394,\n",
       "       1140.11041063, 1135.32436055, 1130.5483837 , 1125.78248009,\n",
       "       1121.02664971, 1116.28089257, 1111.54520865, 1106.81959797,\n",
       "       1102.10406053, 1097.39859631, 1092.70320533, 1088.01788758,\n",
       "       1083.34264307, 1078.67747178, 1074.02237373, 1069.37734892])"
      ]
     },
     "execution_count": 141,
     "metadata": {},
     "output_type": "execute_result"
    }
   ],
   "source": [
    "lambdified_expr(points)[:20]"
   ]
  },
  {
   "cell_type": "code",
   "execution_count": 143,
   "metadata": {
    "colab": {
     "base_uri": "https://localhost:8080/"
    },
    "id": "6jgYNzxZOrqd",
    "outputId": "27e9511b-e5a9-4cee-90fb-f698c397f0c8"
   },
   "outputs": [
    {
     "data": {
      "text/plain": [
       "numpy.ndarray"
      ]
     },
     "execution_count": 143,
     "metadata": {},
     "output_type": "execute_result"
    }
   ],
   "source": [
    "type(lambdified_expr(points))"
   ]
  },
  {
   "cell_type": "code",
   "execution_count": 145,
   "metadata": {
    "id": "7ziQyEveO_zS"
   },
   "outputs": [],
   "source": [
    "output = lambdified_expr(points)"
   ]
  },
  {
   "cell_type": "markdown",
   "metadata": {
    "id": "-aCj2dDUbYL3"
   },
   "source": [
    "Построим график и убедимся, что это похоже на параболу"
   ]
  },
  {
   "cell_type": "code",
   "execution_count": 148,
   "metadata": {
    "colab": {
     "base_uri": "https://localhost:8080/",
     "height": 298
    },
    "id": "CFONDsTvO1aE",
    "outputId": "c609ffd6-ef2e-4b83-9f63-56eec2bf5e20"
   },
   "outputs": [
    {
     "data": {
      "text/plain": [
       "Text(0.5, 1.0, 'Parabola')"
      ]
     },
     "execution_count": 148,
     "metadata": {},
     "output_type": "execute_result"
    },
    {
     "data": {
      "image/png": "[encoded data removed]",
      "text/plain": [
       "<Figure size 640x480 with 1 Axes>"
      ]
     },
     "metadata": {},
     "output_type": "display_data"
    }
   ],
   "source": [
    "import seaborn as sns\n",
    "sns.lineplot(x=points, y=output)\n",
    "plt.title('Parabola')"
   ]
  },
  {
   "cell_type": "markdown",
   "metadata": {
    "id": "f_QkrCjir0y4"
   },
   "source": [
    "Давайте дальше рисовать!\n",
    "SymPy использует matplotlib. Однако он распределяет точки по  x  адаптивно, а не равномерно."
   ]
  },
  {
   "cell_type": "markdown",
   "metadata": {
    "id": "eOwDYAGjsRPp"
   },
   "source": [
    "Нарисуем одну функцию:"
   ]
  },
  {
   "cell_type": "code",
   "execution_count": 149,
   "metadata": {
    "colab": {
     "base_uri": "https://localhost:8080/",
     "height": 314
    },
    "id": "6K_01qdvr8ex",
    "outputId": "19058711-0a23-4859-f8a6-b6ef5e67a042"
   },
   "outputs": [
    {
     "data": {
      "image/png": "[encoded data removed]",
      "text/plain": [
       "<Figure size 640x480 with 1 Axes>"
      ]
     },
     "metadata": {},
     "output_type": "display_data"
    },
    {
     "data": {
      "text/plain": [
       "<sympy.plotting.plot.Plot at 0x12875223a70>"
      ]
     },
     "execution_count": 149,
     "metadata": {},
     "output_type": "execute_result"
    }
   ],
   "source": [
    "sp.plot(sp.sin(x) / x, (x, -10, 10))"
   ]
  },
  {
   "cell_type": "markdown",
   "metadata": {
    "id": "cfCUsUKTsHz2"
   },
   "source": [
    "Можно нарисовать сразу несколько функций"
   ]
  },
  {
   "cell_type": "code",
   "execution_count": null,
   "metadata": {
    "colab": {
     "base_uri": "https://localhost:8080/",
     "height": 313
    },
    "id": "NO-XW7Q8sDai",
    "outputId": "cc43dbae-5942-423b-a98c-c005a5f99d90"
   },
   "outputs": [
    {
     "data": {
      "image/png": "[encoded data removed]",
      "text/plain": [
       "<Figure size 432x288 with 1 Axes>"
      ]
     },
     "metadata": {
      "needs_background": "light"
     },
     "output_type": "display_data"
    },
    {
     "data": {
      "text/plain": [
       "<sympy.plotting.plot.Plot at 0x7fb60d4b4e20>"
      ]
     },
     "execution_count": 179,
     "metadata": {},
     "output_type": "execute_result"
    }
   ],
   "source": [
    "sp.plot(x, x ** 2, x ** 3, (x, 0, 2))"
   ]
  },
  {
   "cell_type": "markdown",
   "metadata": {
    "id": "YbBJtruriETS"
   },
   "source": [
    "Аппрoксимация $sin(x)$ отрезком ряда Тейлора."
   ]
  },
  {
   "cell_type": "code",
   "execution_count": null,
   "metadata": {
    "colab": {
     "base_uri": "https://localhost:8080/",
     "height": 352
    },
    "id": "wvY_tPIWiETS",
    "outputId": "510133aa-43e2-4d09-8150-a413f11afe39"
   },
   "outputs": [
    {
     "name": "stdout",
     "output_type": "stream",
     "text": [
      "x\n",
      "-x**3/6 + x\n",
      "x**5/120 - x**3/6 + x\n",
      "-x**7/5040 + x**5/120 - x**3/6 + x\n",
      "x**9/362880 - x**7/5040 + x**5/120 - x**3/6 + x\n"
     ]
    },
    {
     "data": {
      "image/png": "[encoded data removed]",
      "text/plain": [
       "<Figure size 432x288 with 1 Axes>"
      ]
     },
     "metadata": {
      "needs_background": "light"
     },
     "output_type": "display_data"
    }
   ],
   "source": [
    "fun = sp.sin(x)\n",
    "fun_lambda = sp.lambdify(x, fun)\n",
    "\n",
    "xx = np.linspace(-10, 10, 200)\n",
    "plt.plot(xx, fun_lambda(xx), label=str(fun))\n",
    "plt.grid()\n",
    "plt.ylim([-5, 5])\n",
    "\n",
    "for n in range(2, 11, 2):\n",
    "    tailor = fun.series(n=n).removeO()\n",
    "    tailor_lambda = sp.lambdify(x, tailor)\n",
    "    print(tailor)\n",
    "    plt.plot(xx, tailor_lambda(xx), label='n='+str(n-1))\n",
    "    \n",
    "plt.legend()  \n",
    "pass"
   ]
  },
  {
   "cell_type": "markdown",
   "metadata": {
    "id": "4A6M_21fsT7_"
   },
   "source": [
    "Другие функции надо импортировать из пакета sympy.plotting. \n",
    "**(ПРОСТО ПОСМОТРЕТЬ НА ЭТУ КРАСОТУ)**"
   ]
  },
  {
   "cell_type": "code",
   "execution_count": null,
   "metadata": {
    "id": "aO_rS6wusZCH"
   },
   "outputs": [],
   "source": [
    "from sympy.plotting import (plot_parametric,plot_implicit,\n",
    "                            plot3d,plot3d_parametric_line,\n",
    "                            plot3d_parametric_surface)"
   ]
  },
  {
   "cell_type": "markdown",
   "metadata": {
    "id": "doVCjbtbsbkP"
   },
   "source": [
    "\n",
    "Параметрический график - фигура Лиссажу."
   ]
  },
  {
   "cell_type": "code",
   "execution_count": null,
   "metadata": {
    "colab": {
     "base_uri": "https://localhost:8080/",
     "height": 314
    },
    "id": "iz1-hVJPsoPX",
    "outputId": "d3124924-5992-4d5e-e408-1ca997c9b296"
   },
   "outputs": [
    {
     "data": {
      "image/png": "[encoded data removed]",
      "text/plain": [
       "<Figure size 432x288 with 1 Axes>"
      ]
     },
     "metadata": {
      "needs_background": "light"
     },
     "output_type": "display_data"
    },
    {
     "data": {
      "text/plain": [
       "<sympy.plotting.plot.Plot at 0x7fb60d49b370>"
      ]
     },
     "execution_count": 183,
     "metadata": {},
     "output_type": "execute_result"
    }
   ],
   "source": [
    "t = sp.Symbol('t')\n",
    "plot_parametric(\n",
    "    sp.sin(2*t),\n",
    "    sp.cos(3*t),\n",
    "    (t, 0, 2*sp.pi),\n",
    "    title='Lissajous',xlabel='x',ylabel='y'\n",
    ")"
   ]
  },
  {
   "cell_type": "markdown",
   "metadata": {
    "id": "mdIBmmHqsyAc"
   },
   "source": [
    "Неявный график - окружность."
   ]
  },
  {
   "cell_type": "code",
   "execution_count": null,
   "metadata": {
    "colab": {
     "base_uri": "https://localhost:8080/",
     "height": 314
    },
    "id": "aMRTViACsy11",
    "outputId": "04ed4099-0214-468d-d1f6-4b651a03f7cb"
   },
   "outputs": [
    {
     "data": {
      "image/png": "[encoded data removed]",
      "text/plain": [
       "<Figure size 432x288 with 1 Axes>"
      ]
     },
     "metadata": {
      "needs_background": "light"
     },
     "output_type": "display_data"
    },
    {
     "data": {
      "text/plain": [
       "<sympy.plotting.plot.Plot at 0x7fb60d36da00>"
      ]
     },
     "execution_count": 184,
     "metadata": {},
     "output_type": "execute_result"
    }
   ],
   "source": [
    "plot_implicit(\n",
    "    x**2+y**2-1,\n",
    "    (x, -1, 1),\n",
    "    (y, -1, 1)\n",
    ")"
   ]
  },
  {
   "cell_type": "markdown",
   "metadata": {
    "id": "zNEiyt_qs3nT"
   },
   "source": [
    "Поверхность. Если она строится не inline, а в отдельном окне, то её можно вертеть мышкой."
   ]
  },
  {
   "cell_type": "code",
   "execution_count": null,
   "metadata": {
    "colab": {
     "base_uri": "https://localhost:8080/",
     "height": 314
    },
    "id": "xYMclZJLs4r9",
    "outputId": "6a05e404-fc7a-4d18-ec9c-d5afaea421dc"
   },
   "outputs": [
    {
     "data": {
      "image/png": "[encoded data removed]",
      "text/plain": [
       "<Figure size 432x288 with 1 Axes>"
      ]
     },
     "metadata": {
      "needs_background": "light"
     },
     "output_type": "display_data"
    },
    {
     "data": {
      "text/plain": [
       "<sympy.plotting.plot.Plot at 0x7fb60d409940>"
      ]
     },
     "execution_count": 185,
     "metadata": {},
     "output_type": "execute_result"
    }
   ],
   "source": [
    "plot3d(x * y, (x, -2, 2), (y, -2, 2))"
   ]
  },
  {
   "cell_type": "markdown",
   "metadata": {
    "id": "X8_s1SM_s8J6"
   },
   "source": [
    "Несколько поверхностей."
   ]
  },
  {
   "cell_type": "code",
   "execution_count": null,
   "metadata": {
    "colab": {
     "base_uri": "https://localhost:8080/",
     "height": 314
    },
    "id": "voF6elCns9-f",
    "outputId": "a9d80250-b24b-431b-915e-7eb20396f00b"
   },
   "outputs": [
    {
     "data": {
      "image/png": "[encoded data removed]",
      "text/plain": [
       "<Figure size 432x288 with 1 Axes>"
      ]
     },
     "metadata": {
      "needs_background": "light"
     },
     "output_type": "display_data"
    },
    {
     "data": {
      "text/plain": [
       "<sympy.plotting.plot.Plot at 0x7fb60cfa46a0>"
      ]
     },
     "execution_count": 186,
     "metadata": {},
     "output_type": "execute_result"
    }
   ],
   "source": [
    "plot3d(\n",
    "    x ** 2 + y ** 2,\n",
    "    x * y,\n",
    "    (x, -2, 2),\n",
    "    (y, -2, 2)\n",
    ")"
   ]
  },
  {
   "cell_type": "markdown",
   "metadata": {
    "id": "xmCa_QBFtA9W"
   },
   "source": [
    "Параметрическая пространственная линия - спираль."
   ]
  },
  {
   "cell_type": "code",
   "execution_count": null,
   "metadata": {
    "colab": {
     "base_uri": "https://localhost:8080/",
     "height": 314
    },
    "id": "miDj68YotCzx",
    "outputId": "e79c0754-6c48-4d75-87ad-6e6ad56ec264"
   },
   "outputs": [
    {
     "data": {
      "image/png": "[encoded data removed]",
      "text/plain": [
       "<Figure size 432x288 with 1 Axes>"
      ]
     },
     "metadata": {
      "needs_background": "light"
     },
     "output_type": "display_data"
    },
    {
     "data": {
      "text/plain": [
       "<sympy.plotting.plot.Plot at 0x7f827bf82160>"
      ]
     },
     "execution_count": 190,
     "metadata": {},
     "output_type": "execute_result"
    }
   ],
   "source": [
    "a = 0.1\n",
    "plot3d_parametric_line(\n",
    "    sp.cos(t),\n",
    "    sp.sin(t),\n",
    "    a * t,\n",
    "    (t, 0, 4*sp.pi)\n",
    ")"
   ]
  },
  {
   "cell_type": "markdown",
   "metadata": {
    "id": "UDKRdaQhtJ7_"
   },
   "source": [
    "Параметрическая поверхность - тор."
   ]
  },
  {
   "cell_type": "code",
   "execution_count": null,
   "metadata": {
    "colab": {
     "base_uri": "https://localhost:8080/",
     "height": 314
    },
    "id": "i77OROn1tK1r",
    "outputId": "2c35c8bd-9257-4ef0-fef4-7416a3f64dd2"
   },
   "outputs": [
    {
     "data": {
      "image/png": "[encoded data removed]",
      "text/plain": [
       "<Figure size 432x288 with 1 Axes>"
      ]
     },
     "metadata": {
      "needs_background": "light"
     },
     "output_type": "display_data"
    },
    {
     "data": {
      "text/plain": [
       "<sympy.plotting.plot.Plot at 0x7fb60b363670>"
      ]
     },
     "execution_count": 187,
     "metadata": {},
     "output_type": "execute_result"
    }
   ],
   "source": [
    "u, v = sp.symbols('u v')\n",
    "a = 0.3\n",
    "plot3d_parametric_surface(\n",
    "    (1 + a * sp.cos(u)) * sp.cos(v),\n",
    "    (1 + a * sp.cos(u)) * sp.sin(v),\n",
    "    a * sp.sin(u),\n",
    "    (u, 0, 2 * sp.pi), (v, 0, 2 * sp.pi)\n",
    ")"
   ]
  },
  {
   "cell_type": "markdown",
   "metadata": {
    "id": "BcHOaNvCi1S0"
   },
   "source": [
    "# 11. Структура выражений, аналогичные операции"
   ]
  },
  {
   "cell_type": "markdown",
   "metadata": {
    "id": "PjgYJfjCjAAT"
   },
   "source": [
    "Внутреннее представление выражения - это дерево. Функция `srepr` возвращает строку, представляющую его:"
   ]
  },
  {
   "cell_type": "code",
   "execution_count": null,
   "metadata": {
    "colab": {
     "base_uri": "https://localhost:8080/",
     "height": 35
    },
    "id": "0QpV8vn9i7Lk",
    "outputId": "0f2be4c6-577c-41e3-fe97-61bf9b9c8773"
   },
   "outputs": [
    {
     "data": {
      "application/vnd.google.colaboratory.intrinsic+json": {
       "type": "string"
      },
      "text/plain": [
       "\"Add(Symbol('x'), Integer(1))\""
      ]
     },
     "execution_count": 193,
     "metadata": {},
     "output_type": "execute_result"
    }
   ],
   "source": [
    "sp.srepr(x+1)"
   ]
  },
  {
   "cell_type": "code",
   "execution_count": null,
   "metadata": {
    "colab": {
     "base_uri": "https://localhost:8080/",
     "height": 35
    },
    "id": "dMYvCM0hjJ2X",
    "outputId": "358e3875-00ef-4eaa-81b7-c1f0531cc603"
   },
   "outputs": [
    {
     "data": {
      "application/vnd.google.colaboratory.intrinsic+json": {
       "type": "string"
      },
      "text/plain": [
       "\"Add(Symbol('x'), Mul(Integer(-1), Symbol('y', real=True)))\""
      ]
     },
     "execution_count": 194,
     "metadata": {},
     "output_type": "execute_result"
    }
   ],
   "source": [
    "sp.srepr(x - y)"
   ]
  },
  {
   "cell_type": "code",
   "execution_count": null,
   "metadata": {
    "colab": {
     "base_uri": "https://localhost:8080/",
     "height": 35
    },
    "id": "8poapF7mjEmT",
    "outputId": "1d2ccf04-5088-40a6-df1a-1644f5c5bf27"
   },
   "outputs": [
    {
     "data": {
      "application/vnd.google.colaboratory.intrinsic+json": {
       "type": "string"
      },
      "text/plain": [
       "\"Mul(Rational(2, 3), Symbol('x'), Symbol('y', real=True))\""
      ]
     },
     "execution_count": 195,
     "metadata": {},
     "output_type": "execute_result"
    }
   ],
   "source": [
    "sp.srepr(2 * x * y / 3)"
   ]
  },
  {
   "cell_type": "code",
   "execution_count": null,
   "metadata": {
    "colab": {
     "base_uri": "https://localhost:8080/",
     "height": 35
    },
    "id": "T0wn4nsfjJSp",
    "outputId": "7cea96fa-109e-42a6-aaa9-1908876009db"
   },
   "outputs": [
    {
     "data": {
      "application/vnd.google.colaboratory.intrinsic+json": {
       "type": "string"
      },
      "text/plain": [
       "\"Mul(Symbol('x'), Pow(Symbol('y', real=True), Integer(-1)))\""
      ]
     },
     "execution_count": 196,
     "metadata": {},
     "output_type": "execute_result"
    }
   ],
   "source": [
    "sp.srepr(x / y)"
   ]
  },
  {
   "cell_type": "markdown",
   "metadata": {
    "id": "H7bCb2JXjTSL"
   },
   "source": [
    "Вместо бинарных операций +, *, ** и т.д. можно использовать функции Add, Mul, Pow и т.д."
   ]
  },
  {
   "cell_type": "code",
   "execution_count": null,
   "metadata": {
    "colab": {
     "base_uri": "https://localhost:8080/",
     "height": 51
    },
    "id": "L3GmOTKEjQnq",
    "outputId": "0df06ea0-7e63-4b5d-9472-6e488fc3b52f"
   },
   "outputs": [
    {
     "data": {
      "text/latex": [
       "$\\displaystyle \\frac{x}{y}$"
      ],
      "text/plain": [
       "x/y"
      ]
     },
     "execution_count": 197,
     "metadata": {},
     "output_type": "execute_result"
    }
   ],
   "source": [
    "sp.Mul(x, sp.Pow(y, -1))"
   ]
  },
  {
   "cell_type": "code",
   "execution_count": null,
   "metadata": {
    "id": "-DxrSBepjjFD"
   },
   "outputs": [],
   "source": [
    "f = sp.Function('f')"
   ]
  },
  {
   "cell_type": "code",
   "execution_count": null,
   "metadata": {
    "colab": {
     "base_uri": "https://localhost:8080/",
     "height": 35
    },
    "id": "l7KlX6WnjVv-",
    "outputId": "abbb3803-86b9-419d-aa40-aca74ad66239"
   },
   "outputs": [
    {
     "data": {
      "application/vnd.google.colaboratory.intrinsic+json": {
       "type": "string"
      },
      "text/plain": [
       "\"Function('f')(Symbol('x'), Symbol('y'))\""
      ]
     },
     "execution_count": 189,
     "metadata": {},
     "output_type": "execute_result"
    }
   ],
   "source": [
    "sp.srepr(f(x, y))"
   ]
  },
  {
   "cell_type": "markdown",
   "metadata": {
    "id": "oxG_EhL3myTn"
   },
   "source": [
    "# 12. Линейная алгебра"
   ]
  },
  {
   "cell_type": "code",
   "execution_count": null,
   "metadata": {
    "id": "fxczyYetm2VP"
   },
   "outputs": [],
   "source": [
    "a, b, c, d, e, f = sp.symbols('a b c d e f')"
   ]
  },
  {
   "cell_type": "markdown",
   "metadata": {
    "id": "U6xHsciRm4vK"
   },
   "source": [
    "Матрицу можно построить из списка списков."
   ]
  },
  {
   "cell_type": "code",
   "execution_count": null,
   "metadata": {
    "colab": {
     "base_uri": "https://localhost:8080/",
     "height": 58
    },
    "id": "dY-Yhb5ijgfP",
    "outputId": "dcb7f2dc-91bc-4d80-acd2-bca7d6988e5e"
   },
   "outputs": [
    {
     "data": {
      "text/latex": [
       "$\\displaystyle \\left[\\begin{matrix}a & b & c\\\\d & e & f\\end{matrix}\\right]$"
      ],
      "text/plain": [
       "Matrix([\n",
       "[a, b, c],\n",
       "[d, e, f]])"
      ]
     },
     "execution_count": 191,
     "metadata": {},
     "output_type": "execute_result"
    }
   ],
   "source": [
    "M = sp.Matrix([[a, b, c], [d, e, f]])\n",
    "M"
   ]
  },
  {
   "cell_type": "code",
   "execution_count": null,
   "metadata": {
    "colab": {
     "base_uri": "https://localhost:8080/"
    },
    "id": "Z62DJwplm95G",
    "outputId": "55012f73-2890-4583-9506-9500bcadd447"
   },
   "outputs": [
    {
     "data": {
      "text/plain": [
       "(2, 3)"
      ]
     },
     "execution_count": 192,
     "metadata": {},
     "output_type": "execute_result"
    }
   ],
   "source": [
    "M.shape"
   ]
  },
  {
   "cell_type": "markdown",
   "metadata": {
    "id": "wLDpIjr5nGW9"
   },
   "source": [
    "Матрица может состоять только из строки:"
   ]
  },
  {
   "cell_type": "code",
   "execution_count": null,
   "metadata": {
    "colab": {
     "base_uri": "https://localhost:8080/",
     "height": 38
    },
    "id": "993Phg1inCgD",
    "outputId": "268eb41f-54aa-49b0-a9f4-c59b8a2937b0"
   },
   "outputs": [
    {
     "data": {
      "text/latex": [
       "$\\displaystyle \\left[\\begin{matrix}1 & 2 & 3\\end{matrix}\\right]$"
      ],
      "text/plain": [
       "Matrix([[1, 2, 3]])"
      ]
     },
     "execution_count": 193,
     "metadata": {},
     "output_type": "execute_result"
    }
   ],
   "source": [
    "sp.Matrix([[1,2,3]])"
   ]
  },
  {
   "cell_type": "markdown",
   "metadata": {
    "id": "FPrh_tcbnLXn"
   },
   "source": [
    "Аналогично со столбцом:"
   ]
  },
  {
   "cell_type": "code",
   "execution_count": null,
   "metadata": {
    "colab": {
     "base_uri": "https://localhost:8080/",
     "height": 78
    },
    "id": "irUo7EhEnE7S",
    "outputId": "6ce5979b-74fc-48a2-dc5f-deb4ddb3ffa1"
   },
   "outputs": [
    {
     "data": {
      "text/latex": [
       "$\\displaystyle \\left[\\begin{matrix}1\\\\2\\\\3\\end{matrix}\\right]$"
      ],
      "text/plain": [
       "Matrix([\n",
       "[1],\n",
       "[2],\n",
       "[3]])"
      ]
     },
     "execution_count": 194,
     "metadata": {},
     "output_type": "execute_result"
    }
   ],
   "source": [
    "sp.Matrix([1,2,3])"
   ]
  },
  {
   "cell_type": "markdown",
   "metadata": {
    "id": "QeVMwQm1nS64"
   },
   "source": [
    "Построим матрицу из функции:"
   ]
  },
  {
   "cell_type": "code",
   "execution_count": null,
   "metadata": {
    "colab": {
     "base_uri": "https://localhost:8080/",
     "height": 78
    },
    "id": "pUyfV7dsnPGT",
    "outputId": "5b09eaa2-3f44-4473-d9f1-383215691ddd"
   },
   "outputs": [
    {
     "data": {
      "text/latex": [
       "$\\displaystyle \\left[\\begin{matrix}1 & \\frac{1}{2} & \\frac{1}{3}\\\\\\frac{1}{2} & \\frac{1}{3} & \\frac{1}{4}\\\\\\frac{1}{3} & \\frac{1}{4} & \\frac{1}{5}\\end{matrix}\\right]$"
      ],
      "text/plain": [
       "Matrix([\n",
       "[  1, 1/2, 1/3],\n",
       "[1/2, 1/3, 1/4],\n",
       "[1/3, 1/4, 1/5]])"
      ]
     },
     "execution_count": 195,
     "metadata": {},
     "output_type": "execute_result"
    }
   ],
   "source": [
    "def g(i, j):\n",
    "    return sp.Rational(1, i + j + 1)\n",
    "\n",
    "\n",
    "sp.Matrix(3, 3, g)"
   ]
  },
  {
   "cell_type": "markdown",
   "metadata": {
    "id": "PrBFTXX8oFkg"
   },
   "source": [
    "Или из неопределённой функции."
   ]
  },
  {
   "cell_type": "code",
   "execution_count": null,
   "metadata": {
    "colab": {
     "base_uri": "https://localhost:8080/",
     "height": 78
    },
    "id": "PJae5auEnXy1",
    "outputId": "b9d5e6fb-bc5b-43d8-fe74-66d59e76187c"
   },
   "outputs": [
    {
     "data": {
      "text/latex": [
       "$\\displaystyle \\left[\\begin{matrix}g{\\left(0,0 \\right)} & g{\\left(0,1 \\right)} & g{\\left(0,2 \\right)}\\\\g{\\left(1,0 \\right)} & g{\\left(1,1 \\right)} & g{\\left(1,2 \\right)}\\\\g{\\left(2,0 \\right)} & g{\\left(2,1 \\right)} & g{\\left(2,2 \\right)}\\end{matrix}\\right]$"
      ],
      "text/plain": [
       "Matrix([\n",
       "[g(0, 0), g(0, 1), g(0, 2)],\n",
       "[g(1, 0), g(1, 1), g(1, 2)],\n",
       "[g(2, 0), g(2, 1), g(2, 2)]])"
      ]
     },
     "execution_count": 196,
     "metadata": {},
     "output_type": "execute_result"
    }
   ],
   "source": [
    "g = sp.Function('g')\n",
    "M = sp.Matrix(3, 3, g)\n",
    "M"
   ]
  },
  {
   "cell_type": "code",
   "execution_count": null,
   "metadata": {
    "colab": {
     "base_uri": "https://localhost:8080/",
     "height": 38
    },
    "id": "GXT5hsDIoIP9",
    "outputId": "586e6bb7-9dc0-4648-f4d7-c7b79bc51c7d"
   },
   "outputs": [
    {
     "data": {
      "text/latex": [
       "$\\displaystyle g{\\left(1,2 \\right)}$"
      ],
      "text/plain": [
       "g(1, 2)"
      ]
     },
     "execution_count": 197,
     "metadata": {},
     "output_type": "execute_result"
    }
   ],
   "source": [
    "M[1, 2]"
   ]
  },
  {
   "cell_type": "code",
   "execution_count": null,
   "metadata": {
    "colab": {
     "base_uri": "https://localhost:8080/",
     "height": 78
    },
    "id": "1KRH_fCwoP3p",
    "outputId": "2bfcc50a-1048-430a-fd4d-696cbbdceddd"
   },
   "outputs": [
    {
     "data": {
      "text/latex": [
       "$\\displaystyle \\left[\\begin{matrix}g{\\left(0,0 \\right)} & g{\\left(0,1 \\right)} & g{\\left(0,2 \\right)}\\\\g{\\left(1,0 \\right)} & g{\\left(1,1 \\right)} & 0\\\\g{\\left(2,0 \\right)} & g{\\left(2,1 \\right)} & g{\\left(2,2 \\right)}\\end{matrix}\\right]$"
      ],
      "text/plain": [
       "Matrix([\n",
       "[g(0, 0), g(0, 1), g(0, 2)],\n",
       "[g(1, 0), g(1, 1),       0],\n",
       "[g(2, 0), g(2, 1), g(2, 2)]])"
      ]
     },
     "execution_count": 198,
     "metadata": {},
     "output_type": "execute_result"
    }
   ],
   "source": [
    "M[1, 2] = 0\n",
    "M"
   ]
  },
  {
   "cell_type": "code",
   "execution_count": null,
   "metadata": {
    "colab": {
     "base_uri": "https://localhost:8080/",
     "height": 38
    },
    "id": "-8jvw7EFoSeP",
    "outputId": "bed94e2c-58ad-45dd-add9-e7e96a369d98"
   },
   "outputs": [
    {
     "data": {
      "text/latex": [
       "$\\displaystyle \\left[\\begin{matrix}g{\\left(2,0 \\right)} & g{\\left(2,1 \\right)} & g{\\left(2,2 \\right)}\\end{matrix}\\right]$"
      ],
      "text/plain": [
       "Matrix([[g(2, 0), g(2, 1), g(2, 2)]])"
      ]
     },
     "execution_count": 199,
     "metadata": {},
     "output_type": "execute_result"
    }
   ],
   "source": [
    "M[2, :]"
   ]
  },
  {
   "cell_type": "code",
   "execution_count": null,
   "metadata": {
    "colab": {
     "base_uri": "https://localhost:8080/",
     "height": 78
    },
    "id": "3DO9BUkNoVot",
    "outputId": "c879b6d4-56e0-49c8-b348-384f54a49a36"
   },
   "outputs": [
    {
     "data": {
      "text/latex": [
       "$\\displaystyle \\left[\\begin{matrix}g{\\left(0,1 \\right)}\\\\g{\\left(1,1 \\right)}\\\\g{\\left(2,1 \\right)}\\end{matrix}\\right]$"
      ],
      "text/plain": [
       "Matrix([\n",
       "[g(0, 1)],\n",
       "[g(1, 1)],\n",
       "[g(2, 1)]])"
      ]
     },
     "execution_count": 200,
     "metadata": {},
     "output_type": "execute_result"
    }
   ],
   "source": [
    "M[:,1]"
   ]
  },
  {
   "cell_type": "code",
   "execution_count": null,
   "metadata": {
    "colab": {
     "base_uri": "https://localhost:8080/",
     "height": 58
    },
    "id": "eHNqwee5oXQp",
    "outputId": "19313f9a-a4f4-48da-9d9f-e5212d2de824"
   },
   "outputs": [
    {
     "data": {
      "text/latex": [
       "$\\displaystyle \\left[\\begin{matrix}g{\\left(0,1 \\right)} & g{\\left(0,2 \\right)}\\\\g{\\left(1,1 \\right)} & 0\\end{matrix}\\right]$"
      ],
      "text/plain": [
       "Matrix([\n",
       "[g(0, 1), g(0, 2)],\n",
       "[g(1, 1),       0]])"
      ]
     },
     "execution_count": 201,
     "metadata": {},
     "output_type": "execute_result"
    }
   ],
   "source": [
    "M[0:2, 1:3]"
   ]
  },
  {
   "cell_type": "markdown",
   "metadata": {
    "id": "ukSV4M67p_6A"
   },
   "source": [
    "Создание базовых матриц:"
   ]
  },
  {
   "cell_type": "code",
   "execution_count": null,
   "metadata": {
    "colab": {
     "base_uri": "https://localhost:8080/",
     "height": 78
    },
    "id": "l4s7hu2ooarV",
    "outputId": "603c6132-71e6-43a6-c1d8-ba8f6f9c605d"
   },
   "outputs": [
    {
     "data": {
      "text/latex": [
       "$\\displaystyle \\left[\\begin{matrix}1 & 0 & 0\\\\0 & 1 & 0\\\\0 & 0 & 1\\end{matrix}\\right]$"
      ],
      "text/plain": [
       "Matrix([\n",
       "[1, 0, 0],\n",
       "[0, 1, 0],\n",
       "[0, 0, 1]])"
      ]
     },
     "execution_count": 202,
     "metadata": {},
     "output_type": "execute_result"
    }
   ],
   "source": [
    "sp.eye(3)"
   ]
  },
  {
   "cell_type": "code",
   "execution_count": null,
   "metadata": {
    "colab": {
     "base_uri": "https://localhost:8080/",
     "height": 78
    },
    "id": "cjr2nzeyotE3",
    "outputId": "5c7f614b-3ce1-4ef7-887c-258c04f7be4b"
   },
   "outputs": [
    {
     "data": {
      "text/latex": [
       "$\\displaystyle \\left[\\begin{matrix}0 & 0 & 0\\\\0 & 0 & 0\\\\0 & 0 & 0\\end{matrix}\\right]$"
      ],
      "text/plain": [
       "Matrix([\n",
       "[0, 0, 0],\n",
       "[0, 0, 0],\n",
       "[0, 0, 0]])"
      ]
     },
     "execution_count": 203,
     "metadata": {},
     "output_type": "execute_result"
    }
   ],
   "source": [
    "sp.zeros(3)"
   ]
  },
  {
   "cell_type": "code",
   "execution_count": null,
   "metadata": {
    "colab": {
     "base_uri": "https://localhost:8080/",
     "height": 58
    },
    "id": "WYBcOTp-o5cK",
    "outputId": "a740032f-2cb4-46c5-b5e2-28d4bf7f0337"
   },
   "outputs": [
    {
     "data": {
      "text/latex": [
       "$\\displaystyle \\left[\\begin{matrix}0 & 0 & 0\\\\0 & 0 & 0\\end{matrix}\\right]$"
      ],
      "text/plain": [
       "Matrix([\n",
       "[0, 0, 0],\n",
       "[0, 0, 0]])"
      ]
     },
     "execution_count": 204,
     "metadata": {},
     "output_type": "execute_result"
    }
   ],
   "source": [
    "sp.zeros(2, 3)"
   ]
  },
  {
   "cell_type": "code",
   "execution_count": null,
   "metadata": {
    "colab": {
     "base_uri": "https://localhost:8080/",
     "height": 78
    },
    "id": "eS2WUacio7uo",
    "outputId": "88722134-4423-45a7-e06f-6333ba49d67b"
   },
   "outputs": [
    {
     "data": {
      "text/latex": [
       "$\\displaystyle \\left[\\begin{matrix}1 & 0 & 0\\\\0 & 2 & 0\\\\0 & 0 & 3\\end{matrix}\\right]$"
      ],
      "text/plain": [
       "Matrix([\n",
       "[1, 0, 0],\n",
       "[0, 2, 0],\n",
       "[0, 0, 3]])"
      ]
     },
     "execution_count": 205,
     "metadata": {},
     "output_type": "execute_result"
    }
   ],
   "source": [
    "sp.diag(1, 2, 3)"
   ]
  },
  {
   "cell_type": "code",
   "execution_count": null,
   "metadata": {
    "colab": {
     "base_uri": "https://localhost:8080/",
     "height": 99
    },
    "id": "Y3r7Q13CpOPo",
    "outputId": "55f088d3-1dc9-4621-993e-61ec8f0d97aa"
   },
   "outputs": [
    {
     "data": {
      "text/latex": [
       "$\\displaystyle \\left[\\begin{matrix}1 & 0 & 0 & 0\\\\0 & a & 1 & 0\\\\0 & 0 & a & 0\\\\0 & 0 & 0 & 2\\end{matrix}\\right]$"
      ],
      "text/plain": [
       "Matrix([\n",
       "[1, 0, 0, 0],\n",
       "[0, a, 1, 0],\n",
       "[0, 0, a, 0],\n",
       "[0, 0, 0, 2]])"
      ]
     },
     "execution_count": 217,
     "metadata": {},
     "output_type": "execute_result"
    }
   ],
   "source": [
    "M = sp.Matrix([[a, 1], [0, a]])\n",
    "sp.diag(1, M, 2)"
   ]
  },
  {
   "cell_type": "markdown",
   "metadata": {
    "id": "Bk2Bu3HAqDqN"
   },
   "source": [
    "Операции над матрицами:"
   ]
  },
  {
   "cell_type": "code",
   "execution_count": null,
   "metadata": {
    "colab": {
     "base_uri": "https://localhost:8080/",
     "height": 58
    },
    "id": "uW24vNJYpdwQ",
    "outputId": "4e873665-3d3b-48ca-be6e-9ab5d3390210"
   },
   "outputs": [
    {
     "data": {
      "text/latex": [
       "$\\displaystyle \\left[\\begin{matrix}a + 1 & b + 2\\\\c + 3 & d + 4\\end{matrix}\\right]$"
      ],
      "text/plain": [
       "Matrix([\n",
       "[a + 1, b + 2],\n",
       "[c + 3, d + 4]])"
      ]
     },
     "execution_count": 208,
     "metadata": {},
     "output_type": "execute_result"
    }
   ],
   "source": [
    "A = sp.Matrix([[a, b], [c, d]])\n",
    "B = sp.Matrix([[1, 2], [3, 4]])\n",
    "A + B"
   ]
  },
  {
   "cell_type": "code",
   "execution_count": null,
   "metadata": {
    "colab": {
     "base_uri": "https://localhost:8080/",
     "height": 58
    },
    "id": "OGe4vis3pjO0",
    "outputId": "1c985684-3eb4-4bc9-adfc-b4a83431191e"
   },
   "outputs": [
    {
     "data": {
      "text/latex": [
       "$\\displaystyle \\left[\\begin{matrix}3 b - 2 c & 2 a + 3 b - 2 d\\\\- 3 a - 3 c + 3 d & - 3 b + 2 c\\end{matrix}\\right]$"
      ],
      "text/plain": [
       "Matrix([\n",
       "[       3*b - 2*c, 2*a + 3*b - 2*d],\n",
       "[-3*a - 3*c + 3*d,      -3*b + 2*c]])"
      ]
     },
     "execution_count": 209,
     "metadata": {},
     "output_type": "execute_result"
    }
   ],
   "source": [
    "A * B - B * A"
   ]
  },
  {
   "cell_type": "code",
   "execution_count": null,
   "metadata": {
    "colab": {
     "base_uri": "https://localhost:8080/",
     "height": 60
    },
    "id": "SBNqELA5pq1L",
    "outputId": "815634bb-1f47-49bd-84b2-db2c52d3459b"
   },
   "outputs": [
    {
     "data": {
      "text/latex": [
       "$\\displaystyle \\left[\\begin{matrix}\\frac{d}{a d - b c} & - \\frac{b}{a d - b c}\\\\- \\frac{c}{a d - b c} & \\frac{a}{a d - b c}\\end{matrix}\\right]$"
      ],
      "text/plain": [
       "Matrix([\n",
       "[ d/(a*d - b*c), -b/(a*d - b*c)],\n",
       "[-c/(a*d - b*c),  a/(a*d - b*c)]])"
      ]
     },
     "execution_count": 210,
     "metadata": {},
     "output_type": "execute_result"
    }
   ],
   "source": [
    "sp.simplify(A ** (-1))"
   ]
  },
  {
   "cell_type": "code",
   "execution_count": null,
   "metadata": {
    "colab": {
     "base_uri": "https://localhost:8080/",
     "height": 38
    },
    "id": "HdqPJAiqpuOU",
    "outputId": "86b88542-6cc2-468e-dab7-c86894009544"
   },
   "outputs": [
    {
     "data": {
      "text/latex": [
       "$\\displaystyle a d - b c$"
      ],
      "text/plain": [
       "a*d - b*c"
      ]
     },
     "execution_count": 211,
     "metadata": {},
     "output_type": "execute_result"
    }
   ],
   "source": [
    "sp.det(A)"
   ]
  },
  {
   "cell_type": "markdown",
   "metadata": {
    "id": "EbTh8n5OqGGu"
   },
   "source": [
    "Собственные значения и векторы"
   ]
  },
  {
   "cell_type": "markdown",
   "metadata": {},
   "source": [
    "$$Ax=\\lambda x$$"
   ]
  },
  {
   "cell_type": "code",
   "execution_count": 152,
   "metadata": {
    "id": "ZVN7emu7pxrR"
   },
   "outputs": [],
   "source": [
    "x = sp.Symbol('x', real=True)"
   ]
  },
  {
   "cell_type": "code",
   "execution_count": 154,
   "metadata": {
    "colab": {
     "base_uri": "https://localhost:8080/",
     "height": 82
    },
    "id": "ZvqV31cYqK0B",
    "outputId": "e3bc0b8f-3255-478d-dfc0-3d9e35f5a09d"
   },
   "outputs": [
    {
     "data": {
      "text/latex": [
       "$\\displaystyle \\left[\\begin{matrix}\\left(1 - x\\right)^{3} \\left(x + 3\\right) & 4 x \\left(1 - x^{2}\\right) & \\left(3 - x\\right) \\left(2 x^{2} - 2\\right)\\\\4 x \\left(1 - x^{2}\\right) & - \\left(3 - x\\right) \\left(x + 1\\right)^{3} & \\left(2 - 2 x^{2}\\right) \\left(x + 3\\right)\\\\\\left(3 - x\\right) \\left(2 x^{2} - 2\\right) & \\left(2 - 2 x^{2}\\right) \\left(x + 3\\right) & 16 x\\end{matrix}\\right]$"
      ],
      "text/plain": [
       "Matrix([\n",
       "[  (1 - x)**3*(x + 3),       4*x*(1 - x**2), (3 - x)*(2*x**2 - 2)],\n",
       "[      4*x*(1 - x**2),  -(3 - x)*(x + 1)**3, (2 - 2*x**2)*(x + 3)],\n",
       "[(3 - x)*(2*x**2 - 2), (2 - 2*x**2)*(x + 3),                 16*x]])"
      ]
     },
     "execution_count": 154,
     "metadata": {},
     "output_type": "execute_result"
    }
   ],
   "source": [
    "M = sp.Matrix([\n",
    "    [(1 - x) ** 3 * (3 + x), 4 * x * (1 - x ** 2), -2 * (1 - x ** 2) * (3 - x)],\n",
    "    [4 * x * (1 - x ** 2), -(1 + x) ** 3 * (3 - x), 2 * (1 - x ** 2) * (3 + x)],\n",
    "    [-2 * (1 - x ** 2) * (3 - x), 2 * (1 - x ** 2) * (3 + x), 16 * x]\n",
    "])\n",
    "\n",
    "M"
   ]
  },
  {
   "cell_type": "markdown",
   "metadata": {
    "id": "KH1j2R_BvoCL"
   },
   "source": [
    "Транспонирование матрицы:"
   ]
  },
  {
   "cell_type": "code",
   "execution_count": 157,
   "metadata": {
    "colab": {
     "base_uri": "https://localhost:8080/",
     "height": 82
    },
    "id": "ZKWgyAWRvtR2",
    "outputId": "c8dfdde4-d3e6-48b4-ceb7-261ee5626b7c"
   },
   "outputs": [
    {
     "data": {
      "text/latex": [
       "$\\displaystyle \\left[\\begin{matrix}\\left(1 - x\\right)^{3} \\left(x + 3\\right) & 4 x \\left(1 - x^{2}\\right) & \\left(3 - x\\right) \\left(2 x^{2} - 2\\right)\\\\4 x \\left(1 - x^{2}\\right) & - \\left(3 - x\\right) \\left(x + 1\\right)^{3} & \\left(2 - 2 x^{2}\\right) \\left(x + 3\\right)\\\\\\left(3 - x\\right) \\left(2 x^{2} - 2\\right) & \\left(2 - 2 x^{2}\\right) \\left(x + 3\\right) & 16 x\\end{matrix}\\right]$"
      ],
      "text/plain": [
       "Matrix([\n",
       "[  (1 - x)**3*(x + 3),       4*x*(1 - x**2), (3 - x)*(2*x**2 - 2)],\n",
       "[      4*x*(1 - x**2),  -(3 - x)*(x + 1)**3, (2 - 2*x**2)*(x + 3)],\n",
       "[(3 - x)*(2*x**2 - 2), (2 - 2*x**2)*(x + 3),                 16*x]])"
      ]
     },
     "execution_count": 157,
     "metadata": {},
     "output_type": "execute_result"
    }
   ],
   "source": [
    "M"
   ]
  },
  {
   "cell_type": "code",
   "execution_count": 159,
   "metadata": {
    "colab": {
     "base_uri": "https://localhost:8080/",
     "height": 82
    },
    "id": "hwafiQ-Yvner",
    "outputId": "cdb8dd89-0d5c-4d32-d0e4-c5cb1d9b9983"
   },
   "outputs": [
    {
     "data": {
      "text/latex": [
       "$\\displaystyle \\left[\\begin{matrix}\\left(1 - x\\right)^{3} \\left(x + 3\\right) & 4 x \\left(1 - x^{2}\\right) & \\left(3 - x\\right) \\left(2 x^{2} - 2\\right)\\\\4 x \\left(1 - x^{2}\\right) & - \\left(3 - x\\right) \\left(x + 1\\right)^{3} & \\left(2 - 2 x^{2}\\right) \\left(x + 3\\right)\\\\\\left(3 - x\\right) \\left(2 x^{2} - 2\\right) & \\left(2 - 2 x^{2}\\right) \\left(x + 3\\right) & 16 x\\end{matrix}\\right]$"
      ],
      "text/plain": [
       "Matrix([\n",
       "[  (1 - x)**3*(x + 3),       4*x*(1 - x**2), (3 - x)*(2*x**2 - 2)],\n",
       "[      4*x*(1 - x**2),  -(3 - x)*(x + 1)**3, (2 - 2*x**2)*(x + 3)],\n",
       "[(3 - x)*(2*x**2 - 2), (2 - 2*x**2)*(x + 3),                 16*x]])"
      ]
     },
     "execution_count": 159,
     "metadata": {},
     "output_type": "execute_result"
    }
   ],
   "source": [
    "M.T"
   ]
  },
  {
   "cell_type": "markdown",
   "metadata": {
    "id": "aZS7kXxfvxnq"
   },
   "source": [
    "Обратная матрица:"
   ]
  },
  {
   "cell_type": "code",
   "execution_count": 162,
   "metadata": {
    "colab": {
     "base_uri": "https://localhost:8080/",
     "height": 313
    },
    "id": "OmUvWheSv04a",
    "outputId": "2e13444b-be2e-44e2-ad36-99f2c06ebb63"
   },
   "outputs": [
    {
     "ename": "NonInvertibleMatrixError",
     "evalue": "Matrix det == 0; not invertible.",
     "output_type": "error",
     "traceback": [
      "\u001b[1;31m---------------------------------------------------------------------------\u001b[0m",
      "\u001b[1;31mNonInvertibleMatrixError\u001b[0m                  Traceback (most recent call last)",
      "Cell \u001b[1;32mIn[162], line 1\u001b[0m\n\u001b[1;32m----> 1\u001b[0m M \u001b[38;5;241m*\u001b[39m\u001b[38;5;241m*\u001b[39m (\u001b[38;5;241m-\u001b[39m\u001b[38;5;241m1\u001b[39m)\n",
      "File \u001b[1;32m~\\anaconda3\\Lib\\site-packages\\sympy\\core\\decorators.py:106\u001b[0m, in \u001b[0;36mcall_highest_priority.<locals>.priority_decorator.<locals>.binary_op_wrapper\u001b[1;34m(self, other)\u001b[0m\n\u001b[0;32m    104\u001b[0m         \u001b[38;5;28;01mif\u001b[39;00m f \u001b[38;5;129;01mis\u001b[39;00m \u001b[38;5;129;01mnot\u001b[39;00m \u001b[38;5;28;01mNone\u001b[39;00m:\n\u001b[0;32m    105\u001b[0m             \u001b[38;5;28;01mreturn\u001b[39;00m f(\u001b[38;5;28mself\u001b[39m)\n\u001b[1;32m--> 106\u001b[0m \u001b[38;5;28;01mreturn\u001b[39;00m func(\u001b[38;5;28mself\u001b[39m, other)\n",
      "File \u001b[1;32m~\\anaconda3\\Lib\\site-packages\\sympy\\matrices\\common.py:2780\u001b[0m, in \u001b[0;36mMatrixArithmetic.__pow__\u001b[1;34m(self, exp)\u001b[0m\n\u001b[0;32m   2776\u001b[0m \u001b[38;5;129m@call_highest_priority\u001b[39m(\u001b[38;5;124m'\u001b[39m\u001b[38;5;124m__rpow__\u001b[39m\u001b[38;5;124m'\u001b[39m)\n\u001b[0;32m   2777\u001b[0m \u001b[38;5;28;01mdef\u001b[39;00m \u001b[38;5;21m__pow__\u001b[39m(\u001b[38;5;28mself\u001b[39m, exp):\n\u001b[0;32m   2778\u001b[0m \u001b[38;5;250m    \u001b[39m\u001b[38;5;124;03m\"\"\"Return self**exp a scalar or symbol.\"\"\"\u001b[39;00m\n\u001b[1;32m-> 2780\u001b[0m     \u001b[38;5;28;01mreturn\u001b[39;00m \u001b[38;5;28mself\u001b[39m\u001b[38;5;241m.\u001b[39mpow(exp)\n",
      "File \u001b[1;32m~\\anaconda3\\Lib\\site-packages\\sympy\\matrices\\common.py:2824\u001b[0m, in \u001b[0;36mMatrixArithmetic.pow\u001b[1;34m(self, exp, method)\u001b[0m\n\u001b[0;32m   2822\u001b[0m     \u001b[38;5;28;01mif\u001b[39;00m exp \u001b[38;5;241m<\u001b[39m \u001b[38;5;241m0\u001b[39m:\n\u001b[0;32m   2823\u001b[0m         exp \u001b[38;5;241m=\u001b[39m \u001b[38;5;241m-\u001b[39mexp\n\u001b[1;32m-> 2824\u001b[0m         a \u001b[38;5;241m=\u001b[39m a\u001b[38;5;241m.\u001b[39minv()\n\u001b[0;32m   2825\u001b[0m \u001b[38;5;66;03m# When certain conditions are met,\u001b[39;00m\n\u001b[0;32m   2826\u001b[0m \u001b[38;5;66;03m# Jordan block algorithm is faster than\u001b[39;00m\n\u001b[0;32m   2827\u001b[0m \u001b[38;5;66;03m# computation by recursion.\u001b[39;00m\n\u001b[0;32m   2828\u001b[0m \u001b[38;5;28;01mif\u001b[39;00m method \u001b[38;5;241m==\u001b[39m \u001b[38;5;124m'\u001b[39m\u001b[38;5;124mjordan\u001b[39m\u001b[38;5;124m'\u001b[39m:\n",
      "File \u001b[1;32m~\\anaconda3\\Lib\\site-packages\\sympy\\matrices\\matrices.py:2177\u001b[0m, in \u001b[0;36mMatrixBase.inv\u001b[1;34m(self, method, iszerofunc, try_block_diag)\u001b[0m\n\u001b[0;32m   2176\u001b[0m \u001b[38;5;28;01mdef\u001b[39;00m \u001b[38;5;21minv\u001b[39m(\u001b[38;5;28mself\u001b[39m, method\u001b[38;5;241m=\u001b[39m\u001b[38;5;28;01mNone\u001b[39;00m, iszerofunc\u001b[38;5;241m=\u001b[39m_iszero, try_block_diag\u001b[38;5;241m=\u001b[39m\u001b[38;5;28;01mFalse\u001b[39;00m):\n\u001b[1;32m-> 2177\u001b[0m     \u001b[38;5;28;01mreturn\u001b[39;00m _inv(\u001b[38;5;28mself\u001b[39m, method\u001b[38;5;241m=\u001b[39mmethod, iszerofunc\u001b[38;5;241m=\u001b[39miszerofunc,\n\u001b[0;32m   2178\u001b[0m             try_block_diag\u001b[38;5;241m=\u001b[39mtry_block_diag)\n",
      "File \u001b[1;32m~\\anaconda3\\Lib\\site-packages\\sympy\\matrices\\inverse.py:459\u001b[0m, in \u001b[0;36m_inv\u001b[1;34m(M, method, iszerofunc, try_block_diag)\u001b[0m\n\u001b[0;32m    456\u001b[0m     \u001b[38;5;28;01mreturn\u001b[39;00m diag(\u001b[38;5;241m*\u001b[39mr)\n\u001b[0;32m    458\u001b[0m \u001b[38;5;28;01mif\u001b[39;00m method \u001b[38;5;241m==\u001b[39m \u001b[38;5;124m\"\u001b[39m\u001b[38;5;124mGE\u001b[39m\u001b[38;5;124m\"\u001b[39m:\n\u001b[1;32m--> 459\u001b[0m     rv \u001b[38;5;241m=\u001b[39m M\u001b[38;5;241m.\u001b[39minverse_GE(iszerofunc\u001b[38;5;241m=\u001b[39miszerofunc)\n\u001b[0;32m    460\u001b[0m \u001b[38;5;28;01melif\u001b[39;00m method \u001b[38;5;241m==\u001b[39m \u001b[38;5;124m\"\u001b[39m\u001b[38;5;124mLU\u001b[39m\u001b[38;5;124m\"\u001b[39m:\n\u001b[0;32m    461\u001b[0m     rv \u001b[38;5;241m=\u001b[39m M\u001b[38;5;241m.\u001b[39minverse_LU(iszerofunc\u001b[38;5;241m=\u001b[39miszerofunc)\n",
      "File \u001b[1;32m~\\anaconda3\\Lib\\site-packages\\sympy\\matrices\\matrices.py:2162\u001b[0m, in \u001b[0;36mMatrixBase.inverse_GE\u001b[1;34m(self, iszerofunc)\u001b[0m\n\u001b[0;32m   2161\u001b[0m \u001b[38;5;28;01mdef\u001b[39;00m \u001b[38;5;21minverse_GE\u001b[39m(\u001b[38;5;28mself\u001b[39m, iszerofunc\u001b[38;5;241m=\u001b[39m_iszero):\n\u001b[1;32m-> 2162\u001b[0m     \u001b[38;5;28;01mreturn\u001b[39;00m _inv_GE(\u001b[38;5;28mself\u001b[39m, iszerofunc\u001b[38;5;241m=\u001b[39miszerofunc)\n",
      "File \u001b[1;32m~\\anaconda3\\Lib\\site-packages\\sympy\\matrices\\inverse.py:245\u001b[0m, in \u001b[0;36m_inv_GE\u001b[1;34m(M, iszerofunc)\u001b[0m\n\u001b[0;32m    242\u001b[0m red \u001b[38;5;241m=\u001b[39m big\u001b[38;5;241m.\u001b[39mrref(iszerofunc\u001b[38;5;241m=\u001b[39miszerofunc, simplify\u001b[38;5;241m=\u001b[39m\u001b[38;5;28;01mTrue\u001b[39;00m)[\u001b[38;5;241m0\u001b[39m]\n\u001b[0;32m    244\u001b[0m \u001b[38;5;28;01mif\u001b[39;00m \u001b[38;5;28many\u001b[39m(iszerofunc(red[j, j]) \u001b[38;5;28;01mfor\u001b[39;00m j \u001b[38;5;129;01min\u001b[39;00m \u001b[38;5;28mrange\u001b[39m(red\u001b[38;5;241m.\u001b[39mrows)):\n\u001b[1;32m--> 245\u001b[0m     \u001b[38;5;28;01mraise\u001b[39;00m NonInvertibleMatrixError(\u001b[38;5;124m\"\u001b[39m\u001b[38;5;124mMatrix det == 0; not invertible.\u001b[39m\u001b[38;5;124m\"\u001b[39m)\n\u001b[0;32m    247\u001b[0m \u001b[38;5;28;01mreturn\u001b[39;00m M\u001b[38;5;241m.\u001b[39m_new(red[:, big\u001b[38;5;241m.\u001b[39mrows:])\n",
      "\u001b[1;31mNonInvertibleMatrixError\u001b[0m: Matrix det == 0; not invertible."
     ]
    }
   ],
   "source": [
    "M ** (-1)"
   ]
  },
  {
   "cell_type": "code",
   "execution_count": 173,
   "metadata": {
    "colab": {
     "base_uri": "https://localhost:8080/",
     "height": 313
    },
    "id": "n8ZU5xdtv304",
    "outputId": "f1a6b0dc-adca-42d5-9d29-c11cc82e9739"
   },
   "outputs": [
    {
     "ename": "NonInvertibleMatrixError",
     "evalue": "Matrix det == 0; not invertible.",
     "output_type": "error",
     "traceback": [
      "\u001b[1;31m---------------------------------------------------------------------------\u001b[0m",
      "\u001b[1;31mNonInvertibleMatrixError\u001b[0m                  Traceback (most recent call last)",
      "Cell \u001b[1;32mIn[173], line 1\u001b[0m\n\u001b[1;32m----> 1\u001b[0m M\u001b[38;5;241m.\u001b[39minv()\n",
      "File \u001b[1;32m~\\anaconda3\\Lib\\site-packages\\sympy\\matrices\\matrices.py:2177\u001b[0m, in \u001b[0;36mMatrixBase.inv\u001b[1;34m(self, method, iszerofunc, try_block_diag)\u001b[0m\n\u001b[0;32m   2176\u001b[0m \u001b[38;5;28;01mdef\u001b[39;00m \u001b[38;5;21minv\u001b[39m(\u001b[38;5;28mself\u001b[39m, method\u001b[38;5;241m=\u001b[39m\u001b[38;5;28;01mNone\u001b[39;00m, iszerofunc\u001b[38;5;241m=\u001b[39m_iszero, try_block_diag\u001b[38;5;241m=\u001b[39m\u001b[38;5;28;01mFalse\u001b[39;00m):\n\u001b[1;32m-> 2177\u001b[0m     \u001b[38;5;28;01mreturn\u001b[39;00m _inv(\u001b[38;5;28mself\u001b[39m, method\u001b[38;5;241m=\u001b[39mmethod, iszerofunc\u001b[38;5;241m=\u001b[39miszerofunc,\n\u001b[0;32m   2178\u001b[0m             try_block_diag\u001b[38;5;241m=\u001b[39mtry_block_diag)\n",
      "File \u001b[1;32m~\\anaconda3\\Lib\\site-packages\\sympy\\matrices\\inverse.py:459\u001b[0m, in \u001b[0;36m_inv\u001b[1;34m(M, method, iszerofunc, try_block_diag)\u001b[0m\n\u001b[0;32m    456\u001b[0m     \u001b[38;5;28;01mreturn\u001b[39;00m diag(\u001b[38;5;241m*\u001b[39mr)\n\u001b[0;32m    458\u001b[0m \u001b[38;5;28;01mif\u001b[39;00m method \u001b[38;5;241m==\u001b[39m \u001b[38;5;124m\"\u001b[39m\u001b[38;5;124mGE\u001b[39m\u001b[38;5;124m\"\u001b[39m:\n\u001b[1;32m--> 459\u001b[0m     rv \u001b[38;5;241m=\u001b[39m M\u001b[38;5;241m.\u001b[39minverse_GE(iszerofunc\u001b[38;5;241m=\u001b[39miszerofunc)\n\u001b[0;32m    460\u001b[0m \u001b[38;5;28;01melif\u001b[39;00m method \u001b[38;5;241m==\u001b[39m \u001b[38;5;124m\"\u001b[39m\u001b[38;5;124mLU\u001b[39m\u001b[38;5;124m\"\u001b[39m:\n\u001b[0;32m    461\u001b[0m     rv \u001b[38;5;241m=\u001b[39m M\u001b[38;5;241m.\u001b[39minverse_LU(iszerofunc\u001b[38;5;241m=\u001b[39miszerofunc)\n",
      "File \u001b[1;32m~\\anaconda3\\Lib\\site-packages\\sympy\\matrices\\matrices.py:2162\u001b[0m, in \u001b[0;36mMatrixBase.inverse_GE\u001b[1;34m(self, iszerofunc)\u001b[0m\n\u001b[0;32m   2161\u001b[0m \u001b[38;5;28;01mdef\u001b[39;00m \u001b[38;5;21minverse_GE\u001b[39m(\u001b[38;5;28mself\u001b[39m, iszerofunc\u001b[38;5;241m=\u001b[39m_iszero):\n\u001b[1;32m-> 2162\u001b[0m     \u001b[38;5;28;01mreturn\u001b[39;00m _inv_GE(\u001b[38;5;28mself\u001b[39m, iszerofunc\u001b[38;5;241m=\u001b[39miszerofunc)\n",
      "File \u001b[1;32m~\\anaconda3\\Lib\\site-packages\\sympy\\matrices\\inverse.py:245\u001b[0m, in \u001b[0;36m_inv_GE\u001b[1;34m(M, iszerofunc)\u001b[0m\n\u001b[0;32m    242\u001b[0m red \u001b[38;5;241m=\u001b[39m big\u001b[38;5;241m.\u001b[39mrref(iszerofunc\u001b[38;5;241m=\u001b[39miszerofunc, simplify\u001b[38;5;241m=\u001b[39m\u001b[38;5;28;01mTrue\u001b[39;00m)[\u001b[38;5;241m0\u001b[39m]\n\u001b[0;32m    244\u001b[0m \u001b[38;5;28;01mif\u001b[39;00m \u001b[38;5;28many\u001b[39m(iszerofunc(red[j, j]) \u001b[38;5;28;01mfor\u001b[39;00m j \u001b[38;5;129;01min\u001b[39;00m \u001b[38;5;28mrange\u001b[39m(red\u001b[38;5;241m.\u001b[39mrows)):\n\u001b[1;32m--> 245\u001b[0m     \u001b[38;5;28;01mraise\u001b[39;00m NonInvertibleMatrixError(\u001b[38;5;124m\"\u001b[39m\u001b[38;5;124mMatrix det == 0; not invertible.\u001b[39m\u001b[38;5;124m\"\u001b[39m)\n\u001b[0;32m    247\u001b[0m \u001b[38;5;28;01mreturn\u001b[39;00m M\u001b[38;5;241m.\u001b[39m_new(red[:, big\u001b[38;5;241m.\u001b[39mrows:])\n",
      "\u001b[1;31mNonInvertibleMatrixError\u001b[0m: Matrix det == 0; not invertible."
     ]
    }
   ],
   "source": [
    "M.inv()"
   ]
  },
  {
   "cell_type": "code",
   "execution_count": 202,
   "metadata": {
    "colab": {
     "base_uri": "https://localhost:8080/",
     "height": 98
    },
    "id": "de7ne3tbv7WZ",
    "outputId": "9007bcfb-652d-40b2-e66a-81cf36e6a0e3"
   },
   "outputs": [
    {
     "data": {
      "text/latex": [
       "$\\displaystyle \\left[\\begin{matrix}x^{8} + 8 x^{6} - 8 x^{5} + 26 x^{4} - 48 x^{3} + 48 x^{2} - 72 x + 45 & 4 x^{6} + 20 x^{4} + 12 x^{2} - 36 & 2 x^{7} + 2 x^{6} + 10 x^{5} + 10 x^{4} + 6 x^{3} + 6 x^{2} - 18 x - 18\\\\4 x^{6} + 20 x^{4} + 12 x^{2} - 36 & x^{8} + 8 x^{6} + 8 x^{5} + 26 x^{4} + 48 x^{3} + 48 x^{2} + 72 x + 45 & - 2 x^{7} + 2 x^{6} - 10 x^{5} + 10 x^{4} - 6 x^{3} + 6 x^{2} + 18 x - 18\\\\2 x^{7} + 2 x^{6} + 10 x^{5} + 10 x^{4} + 6 x^{3} + 6 x^{2} - 18 x - 18 & - 2 x^{7} + 2 x^{6} - 10 x^{5} + 10 x^{4} - 6 x^{3} + 6 x^{2} + 18 x - 18 & 8 x^{6} + 56 x^{4} + 120 x^{2} + 72\\end{matrix}\\right]$"
      ],
      "text/plain": [
       "Matrix([\n",
       "[ x**8 + 8*x**6 - 8*x**5 + 26*x**4 - 48*x**3 + 48*x**2 - 72*x + 45,                                    4*x**6 + 20*x**4 + 12*x**2 - 36,  2*x**7 + 2*x**6 + 10*x**5 + 10*x**4 + 6*x**3 + 6*x**2 - 18*x - 18],\n",
       "[                                  4*x**6 + 20*x**4 + 12*x**2 - 36,   x**8 + 8*x**6 + 8*x**5 + 26*x**4 + 48*x**3 + 48*x**2 + 72*x + 45, -2*x**7 + 2*x**6 - 10*x**5 + 10*x**4 - 6*x**3 + 6*x**2 + 18*x - 18],\n",
       "[2*x**7 + 2*x**6 + 10*x**5 + 10*x**4 + 6*x**3 + 6*x**2 - 18*x - 18, -2*x**7 + 2*x**6 - 10*x**5 + 10*x**4 - 6*x**3 + 6*x**2 + 18*x - 18,                                   8*x**6 + 56*x**4 + 120*x**2 + 72]])"
      ]
     },
     "execution_count": 202,
     "metadata": {},
     "output_type": "execute_result"
    }
   ],
   "source": [
    "M**2"
   ]
  },
  {
   "cell_type": "code",
   "execution_count": 204,
   "metadata": {
    "colab": {
     "base_uri": "https://localhost:8080/",
     "height": 37
    },
    "id": "d-iHKNLwqQpU",
    "outputId": "0b936368-b1db-40d9-b797-e043b6015b39"
   },
   "outputs": [
    {
     "data": {
      "text/latex": [
       "$\\displaystyle 0$"
      ],
      "text/plain": [
       "0"
      ]
     },
     "execution_count": 204,
     "metadata": {},
     "output_type": "execute_result"
    }
   ],
   "source": [
    "sp.det(M)"
   ]
  },
  {
   "cell_type": "markdown",
   "metadata": {
    "id": "X4-gLI6Jqch4"
   },
   "source": [
    "Значит, у этой матрицы есть нулевое подпространство (она обращает векторы из этого подпространства в 0). Базис этого подпространства."
   ]
  },
  {
   "cell_type": "code",
   "execution_count": 192,
   "metadata": {
    "colab": {
     "base_uri": "https://localhost:8080/"
    },
    "id": "IWqXab8lqSO_",
    "outputId": "a234c8fb-36f2-4ea4-c39c-20e2f2b46b9d"
   },
   "outputs": [
    {
     "data": {
      "text/plain": [
       "1"
      ]
     },
     "execution_count": 192,
     "metadata": {},
     "output_type": "execute_result"
    }
   ],
   "source": [
    "v = M.nullspace()\n",
    "len(v)"
   ]
  },
  {
   "cell_type": "markdown",
   "metadata": {
    "id": "XadL6k8_quG4"
   },
   "source": [
    "Собственные значения и их кратности:"
   ]
  },
  {
   "cell_type": "code",
   "execution_count": 194,
   "metadata": {
    "colab": {
     "base_uri": "https://localhost:8080/"
    },
    "id": "rHe_Q0VmqqI2",
    "outputId": "3396e8cc-bd1e-424e-e029-4b8e5237196d"
   },
   "outputs": [
    {
     "data": {
      "text/plain": [
       "{-(x**2 + 3)**2: 1, (x**2 + 3)**2: 1, 0: 1}"
      ]
     },
     "execution_count": 194,
     "metadata": {},
     "output_type": "execute_result"
    }
   ],
   "source": [
    "M.eigenvals()"
   ]
  },
  {
   "cell_type": "markdown",
   "metadata": {
    "id": "4Pu2cplZq1co"
   },
   "source": [
    "Если нужны не только собственные значения, но и собственные векторы, то нужно использовать метод eigenvects. Он возвращает список кортежей. В каждом из них нулевой элемент - собственное значение, первый - его кратность, и последний - список собственных векторов, образующих базис (их столько, какова кратность)."
   ]
  },
  {
   "cell_type": "code",
   "execution_count": 196,
   "metadata": {
    "colab": {
     "base_uri": "https://localhost:8080/"
    },
    "id": "6UrDQJibqwSW",
    "outputId": "0f827bdc-e90d-4b86-8363-770ed3b4b95e"
   },
   "outputs": [
    {
     "data": {
      "text/plain": [
       "3"
      ]
     },
     "execution_count": 196,
     "metadata": {},
     "output_type": "execute_result"
    }
   ],
   "source": [
    "v = M.eigenvects()\n",
    "len(v)"
   ]
  },
  {
   "cell_type": "code",
   "execution_count": 200,
   "metadata": {
    "colab": {
     "base_uri": "https://localhost:8080/"
    },
    "id": "lgry7FVFq3cF",
    "outputId": "e37a1cb1-cc67-49f6-cb09-c098dc96ec83"
   },
   "outputs": [
    {
     "name": "stdout",
     "output_type": "stream",
     "text": [
      "Matrix([[-2/(x - 1)], [2/(x + 1)], [1]])\n",
      "Matrix([[x/2 + 1/2], [(x + 1)/(x - 1)], [1]])\n",
      "Matrix([[(x - 1)/(x + 1)], [1/2 - x/2], [1]])\n"
     ]
    },
    {
     "data": {
      "text/plain": [
       "[(0,\n",
       "  1,\n",
       "  [Matrix([\n",
       "   [-2/(x - 1)],\n",
       "   [ 2/(x + 1)],\n",
       "   [         1]])]),\n",
       " (-x**4 - 6*x**2 - 9,\n",
       "  1,\n",
       "  [Matrix([\n",
       "   [      x/2 + 1/2],\n",
       "   [(x + 1)/(x - 1)],\n",
       "   [              1]])]),\n",
       " (x**4 + 6*x**2 + 9,\n",
       "  1,\n",
       "  [Matrix([\n",
       "   [(x - 1)/(x + 1)],\n",
       "   [      1/2 - x/2],\n",
       "   [              1]])])]"
      ]
     },
     "execution_count": 200,
     "metadata": {},
     "output_type": "execute_result"
    }
   ],
   "source": [
    "for i in range(len(v)):\n",
    "    v[i][2][0] = sp.simplify(v[i][2][0])\n",
    "\n",
    "v"
   ]
  },
  {
   "cell_type": "markdown",
   "metadata": {
    "id": "VoVmPiAErCcO"
   },
   "source": [
    "Проверка:"
   ]
  },
  {
   "cell_type": "code",
   "execution_count": null,
   "metadata": {
    "colab": {
     "base_uri": "https://localhost:8080/"
    },
    "id": "97Q2yeQBq5-T",
    "outputId": "c05d034d-b77b-46e5-87c3-513e761d9f60"
   },
   "outputs": [
    {
     "name": "stdout",
     "output_type": "stream",
     "text": [
      "Matrix([[0], [0], [0]])\n",
      "Matrix([[0], [0], [0]])\n",
      "Matrix([[0], [0], [0]])\n"
     ]
    }
   ],
   "source": [
    "for i in range(len(v)):\n",
    "    z = M * v[i][2][0] - v[i][0] * v[i][2][0]\n",
    "    print(sp.simplify(z))"
   ]
  },
  {
   "cell_type": "markdown",
   "metadata": {
    "id": "u6qTgg8XrFEI"
   },
   "source": [
    "ЖНФ - Жорданова нормальная форма"
   ]
  },
  {
   "cell_type": "code",
   "execution_count": null,
   "metadata": {
    "colab": {
     "base_uri": "https://localhost:8080/",
     "height": 119
    },
    "id": "JZ2rYLu2q_01",
    "outputId": "dad84ae1-4a38-4743-aa9c-f0f61c8e85a8"
   },
   "outputs": [
    {
     "data": {
      "text/latex": [
       "$\\displaystyle \\left[\\begin{matrix}\\frac{13}{9} & - \\frac{2}{9} & \\frac{1}{3} & \\frac{4}{9} & \\frac{2}{3}\\\\- \\frac{2}{9} & \\frac{10}{9} & \\frac{2}{15} & - \\frac{2}{9} & - \\frac{11}{15}\\\\\\frac{1}{5} & - \\frac{2}{5} & \\frac{41}{25} & - \\frac{2}{5} & \\frac{12}{25}\\\\\\frac{4}{9} & - \\frac{2}{9} & \\frac{14}{15} & \\frac{13}{9} & - \\frac{2}{15}\\\\- \\frac{4}{15} & \\frac{8}{15} & \\frac{12}{25} & \\frac{8}{15} & \\frac{34}{25}\\end{matrix}\\right]$"
      ],
      "text/plain": [
       "Matrix([\n",
       "[ 13/9, -2/9,   1/3,  4/9,    2/3],\n",
       "[ -2/9, 10/9,  2/15, -2/9, -11/15],\n",
       "[  1/5, -2/5, 41/25, -2/5,  12/25],\n",
       "[  4/9, -2/9, 14/15, 13/9,  -2/15],\n",
       "[-4/15, 8/15, 12/25, 8/15,  34/25]])"
      ]
     },
     "execution_count": 225,
     "metadata": {},
     "output_type": "execute_result"
    }
   ],
   "source": [
    "M = sp.Matrix([\n",
    "    [sp.Rational(13,9),-sp.Rational(2,9),sp.Rational(1,3),sp.Rational(4,9),sp.Rational(2,3)],\n",
    "    [-sp.Rational(2,9),sp.Rational(10,9),sp.Rational(2,15),-sp.Rational(2,9),-sp.Rational(11,15)],\n",
    "    [sp.Rational(1,5),-sp.Rational(2,5),sp.Rational(41,25),-sp.Rational(2,5),sp.Rational(12,25)],\n",
    "    [sp.Rational(4,9),-sp.Rational(2,9),sp.Rational(14,15),sp.Rational(13,9),-sp.Rational(2,15)],\n",
    "    [-sp.Rational(4,15),sp.Rational(8,15),sp.Rational(12,25),sp.Rational(8,15),sp.Rational(34,25)]])\n",
    "M"
   ]
  },
  {
   "cell_type": "markdown",
   "metadata": {
    "id": "wqlusid0raz0"
   },
   "source": [
    "Метод `jordan_form` возвращает пару матриц, матрицу преобразования $P$ и собственно жорданову форму $J$: $M=PJP^{−1}$ ."
   ]
  },
  {
   "cell_type": "code",
   "execution_count": null,
   "metadata": {
    "colab": {
     "base_uri": "https://localhost:8080/",
     "height": 119
    },
    "id": "xpr3NbV-rKc7",
    "outputId": "6a6ec890-b02c-4983-933b-a6ffed6f98f2"
   },
   "outputs": [
    {
     "data": {
      "text/latex": [
       "$\\displaystyle \\left[\\begin{matrix}1 & 0 & 0 & 0 & 0\\\\0 & 2 & 1 & 0 & 0\\\\0 & 0 & 2 & 0 & 0\\\\0 & 0 & 0 & 1 - i & 0\\\\0 & 0 & 0 & 0 & 1 + i\\end{matrix}\\right]$"
      ],
      "text/plain": [
       "Matrix([\n",
       "[1, 0, 0,     0,     0],\n",
       "[0, 2, 1,     0,     0],\n",
       "[0, 0, 2,     0,     0],\n",
       "[0, 0, 0, 1 - I,     0],\n",
       "[0, 0, 0,     0, 1 + I]])"
      ]
     },
     "execution_count": 226,
     "metadata": {},
     "output_type": "execute_result"
    }
   ],
   "source": [
    "P, J = M.jordan_form()\n",
    "J"
   ]
  },
  {
   "cell_type": "code",
   "execution_count": null,
   "metadata": {
    "colab": {
     "base_uri": "https://localhost:8080/",
     "height": 120
    },
    "id": "3aiwxYtmrd3S",
    "outputId": "59617167-499c-4011-a1a3-342b0e7d6181"
   },
   "outputs": [
    {
     "data": {
      "text/latex": [
       "$\\displaystyle \\left[\\begin{matrix}-2 & \\frac{10}{9} & 0 & \\frac{5 i}{12} & - \\frac{5 i}{12}\\\\-2 & - \\frac{5}{9} & 0 & - \\frac{5 i}{6} & \\frac{5 i}{6}\\\\0 & 0 & \\frac{4}{3} & - \\frac{3}{4} & - \\frac{3}{4}\\\\1 & \\frac{10}{9} & 0 & - \\frac{5 i}{6} & \\frac{5 i}{6}\\\\0 & 0 & 1 & 1 & 1\\end{matrix}\\right]$"
      ],
      "text/plain": [
       "Matrix([\n",
       "[-2, 10/9,   0, 5*I/12, -5*I/12],\n",
       "[-2, -5/9,   0, -5*I/6,   5*I/6],\n",
       "[ 0,    0, 4/3,   -3/4,    -3/4],\n",
       "[ 1, 10/9,   0, -5*I/6,   5*I/6],\n",
       "[ 0,    0,   1,      1,       1]])"
      ]
     },
     "execution_count": 227,
     "metadata": {},
     "output_type": "execute_result"
    }
   ],
   "source": [
    "P = sp.simplify(P)\n",
    "P"
   ]
  },
  {
   "cell_type": "markdown",
   "metadata": {
    "id": "SGTjL-Suria2"
   },
   "source": [
    "Проверим:"
   ]
  },
  {
   "cell_type": "code",
   "execution_count": null,
   "metadata": {
    "colab": {
     "base_uri": "https://localhost:8080/",
     "height": 119
    },
    "id": "NHu6_TYOrfc4",
    "outputId": "5ec9177b-69d7-4790-a320-b37d7bfa0a08"
   },
   "outputs": [
    {
     "data": {
      "text/latex": [
       "$\\displaystyle \\left[\\begin{matrix}0 & 0 & 0 & 0 & 0\\\\0 & 0 & 0 & 0 & 0\\\\0 & 0 & 0 & 0 & 0\\\\0 & 0 & 0 & 0 & 0\\\\0 & 0 & 0 & 0 & 0\\end{matrix}\\right]$"
      ],
      "text/plain": [
       "Matrix([\n",
       "[0, 0, 0, 0, 0],\n",
       "[0, 0, 0, 0, 0],\n",
       "[0, 0, 0, 0, 0],\n",
       "[0, 0, 0, 0, 0],\n",
       "[0, 0, 0, 0, 0]])"
      ]
     },
     "execution_count": 228,
     "metadata": {},
     "output_type": "execute_result"
    }
   ],
   "source": [
    "Z = P * J * P ** (-1) - M\n",
    "sp.simplify(Z)"
   ]
  },
  {
   "cell_type": "markdown",
   "metadata": {
    "id": "GiQNO2su8YW8"
   },
   "source": [
    "**Пример. Определитель Вандермонда**"
   ]
  },
  {
   "cell_type": "code",
   "execution_count": null,
   "metadata": {
    "id": "341dOCe38YW8"
   },
   "outputs": [],
   "source": [
    "x0, x1, x2, x3 = sp.symbols('x0, x1, x2, x3')"
   ]
  },
  {
   "cell_type": "code",
   "execution_count": null,
   "metadata": {
    "colab": {
     "base_uri": "https://localhost:8080/",
     "height": 78
    },
    "id": "cY8Bf0de8YW8",
    "outputId": "8ca7abf2-8449-4ccc-ba6a-000076901e91"
   },
   "outputs": [
    {
     "data": {
      "text/latex": [
       "$\\displaystyle \\left[\\begin{matrix}1 & x_{0} & x_{0}^{2}\\\\1 & x_{1} & x_{1}^{2}\\\\1 & x_{2} & x_{2}^{2}\\end{matrix}\\right]$"
      ],
      "text/plain": [
       "Matrix([\n",
       "[1, x0, x0**2],\n",
       "[1, x1, x1**2],\n",
       "[1, x2, x2**2]])"
      ]
     },
     "execution_count": 230,
     "metadata": {},
     "output_type": "execute_result"
    }
   ],
   "source": [
    "W = sp.Matrix([\n",
    "    [1, x0, x0**2],\n",
    "    [1, x1, x1**2],\n",
    "    [1, x2, x2**2]])\n",
    "W"
   ]
  },
  {
   "cell_type": "code",
   "execution_count": null,
   "metadata": {
    "colab": {
     "base_uri": "https://localhost:8080/",
     "height": 38
    },
    "id": "y2neg8UC8YW8",
    "outputId": "8f6eff72-8e6a-425d-ee34-b96cee4002fd"
   },
   "outputs": [
    {
     "data": {
      "text/latex": [
       "$\\displaystyle - x_{0}^{2} x_{1} + x_{0}^{2} x_{2} + x_{0} x_{1}^{2} - x_{0} x_{2}^{2} - x_{1}^{2} x_{2} + x_{1} x_{2}^{2}$"
      ],
      "text/plain": [
       "-x0**2*x1 + x0**2*x2 + x0*x1**2 - x0*x2**2 - x1**2*x2 + x1*x2**2"
      ]
     },
     "execution_count": 231,
     "metadata": {},
     "output_type": "execute_result"
    }
   ],
   "source": [
    "W.det()"
   ]
  },
  {
   "cell_type": "code",
   "execution_count": null,
   "metadata": {
    "colab": {
     "base_uri": "https://localhost:8080/",
     "height": 38
    },
    "id": "bvFn-_Ij8YW8",
    "outputId": "301d868c-2a89-47da-a4ad-3cfbda670d35"
   },
   "outputs": [
    {
     "data": {
      "text/latex": [
       "$\\displaystyle - \\left(x_{0} - x_{1}\\right) \\left(x_{0} - x_{2}\\right) \\left(x_{1} - x_{2}\\right)$"
      ],
      "text/plain": [
       "-(x0 - x1)*(x0 - x2)*(x1 - x2)"
      ]
     },
     "execution_count": 232,
     "metadata": {},
     "output_type": "execute_result"
    }
   ],
   "source": [
    "W.det().factor()"
   ]
  },
  {
   "cell_type": "code",
   "execution_count": null,
   "metadata": {
    "colab": {
     "base_uri": "https://localhost:8080/",
     "height": 99
    },
    "id": "RY4Uq5CM8YW9",
    "outputId": "470e8268-0c17-4e54-8ac6-4340b6eebfbc"
   },
   "outputs": [
    {
     "data": {
      "text/latex": [
       "$\\displaystyle \\left[\\begin{matrix}1 & x_{0} & x_{0}^{2} & x_{0}^{3}\\\\1 & x_{1} & x_{1}^{2} & x_{1}^{3}\\\\1 & x_{2} & x_{2}^{2} & x_{2}^{3}\\\\1 & x_{3} & x_{3}^{2} & x_{3}^{3}\\end{matrix}\\right]$"
      ],
      "text/plain": [
       "Matrix([\n",
       "[1, x0, x0**2, x0**3],\n",
       "[1, x1, x1**2, x1**3],\n",
       "[1, x2, x2**2, x2**3],\n",
       "[1, x3, x3**2, x3**3]])"
      ]
     },
     "execution_count": 233,
     "metadata": {},
     "output_type": "execute_result"
    }
   ],
   "source": [
    "W = sp.Matrix([\n",
    "    [1, x0, x0 ** 2, x0 ** 3],\n",
    "    [1, x1, x1 ** 2, x1 ** 3],\n",
    "    [1, x2, x2 ** 2, x2 ** 3],\n",
    "    [1, x3, x3 ** 2, x3 ** 3]])\n",
    "W"
   ]
  },
  {
   "cell_type": "code",
   "execution_count": null,
   "metadata": {
    "colab": {
     "base_uri": "https://localhost:8080/",
     "height": 38
    },
    "id": "9kJ6LeXg8YW9",
    "outputId": "b8c69fe3-0e6f-4259-9534-08dc69128532"
   },
   "outputs": [
    {
     "data": {
      "text/latex": [
       "$\\displaystyle \\left(x_{0} - x_{1}\\right) \\left(x_{0} - x_{2}\\right) \\left(x_{0} - x_{3}\\right) \\left(x_{1} - x_{2}\\right) \\left(x_{1} - x_{3}\\right) \\left(x_{2} - x_{3}\\right)$"
      ],
      "text/plain": [
       "(x0 - x1)*(x0 - x2)*(x0 - x3)*(x1 - x2)*(x1 - x3)*(x2 - x3)"
      ]
     },
     "execution_count": 234,
     "metadata": {},
     "output_type": "execute_result"
    }
   ],
   "source": [
    "W.det().factor()"
   ]
  },
  {
   "cell_type": "markdown",
   "metadata": {
    "id": "nAjOnZrUwJQt"
   },
   "source": [
    "# 13. Немного физики, посмотрите может интересно "
   ]
  },
  {
   "cell_type": "markdown",
   "metadata": {
    "id": "ZOS9sLAI8YW4"
   },
   "source": [
    "**Пример. Уравнение осциллятора**"
   ]
  },
  {
   "cell_type": "code",
   "execution_count": null,
   "metadata": {
    "colab": {
     "base_uri": "https://localhost:8080/"
    },
    "id": "JddoXQMrzhnu",
    "outputId": "dc8ec858-8c97-4a07-863a-0f65ee0faaa6"
   },
   "outputs": [
    {
     "data": {
      "text/plain": [
       "y"
      ]
     },
     "execution_count": 235,
     "metadata": {},
     "output_type": "execute_result"
    }
   ],
   "source": [
    "y = sp.Function('y')\n",
    "y"
   ]
  },
  {
   "cell_type": "markdown",
   "metadata": {
    "id": "BPoeLYRa8YW4"
   },
   "source": [
    "*Осциллятор* - это название математической модели, описывающей ряд физических процессов:\n",
    "колебание математического маятника с малыми углами отклонения, колебания груза на пружине (оба: с учетом силы трения), LC-цепь и др. Процесс описывается уравнением:\n",
    "$$\n",
    "m \\frac{d^2 y(t)}{dt^2} + \\alpha\\frac{d y(t)}{dt} + k y(t) = 0.\n",
    "$$"
   ]
  },
  {
   "cell_type": "code",
   "execution_count": null,
   "metadata": {
    "colab": {
     "base_uri": "https://localhost:8080/",
     "height": 54
    },
    "id": "6nWDHCH98YW4",
    "outputId": "78bac5d9-0ac2-4569-e1f7-ca6fecb50422"
   },
   "outputs": [
    {
     "data": {
      "text/latex": [
       "$\\displaystyle \\alpha \\frac{d}{d t} y{\\left(t \\right)} + k y{\\left(t \\right)} + m \\frac{d^{2}}{d t^{2}} y{\\left(t \\right)} = 0$"
      ],
      "text/plain": [
       "Eq(alpha*Derivative(y(t), t) + k*y(t) + m*Derivative(y(t), (t, 2)), 0)"
      ]
     },
     "execution_count": 236,
     "metadata": {},
     "output_type": "execute_result"
    }
   ],
   "source": [
    "m, alpha, k = sp.symbols('m, alpha, k')\n",
    "diff_eq = m * y(t).diff(t, 2) + alpha * y(t).diff(t) + k * y(t)\n",
    "sp.Eq(diff_eq, 0)"
   ]
  },
  {
   "cell_type": "code",
   "execution_count": null,
   "metadata": {
    "colab": {
     "base_uri": "https://localhost:8080/",
     "height": 51
    },
    "id": "hWBpBfEu8YW4",
    "outputId": "9bb20091-b1ac-495a-dbd8-83e84f444793"
   },
   "outputs": [
    {
     "data": {
      "text/latex": [
       "$\\displaystyle y{\\left(t \\right)} = C_{1} e^{\\frac{t \\left(- \\alpha - \\sqrt{\\alpha^{2} - 4 k m}\\right)}{2 m}} + C_{2} e^{\\frac{t \\left(- \\alpha + \\sqrt{\\alpha^{2} - 4 k m}\\right)}{2 m}}$"
      ],
      "text/plain": [
       "Eq(y(t), C1*exp(t*(-alpha - sqrt(alpha**2 - 4*k*m))/(2*m)) + C2*exp(t*(-alpha + sqrt(alpha**2 - 4*k*m))/(2*m)))"
      ]
     },
     "execution_count": 237,
     "metadata": {},
     "output_type": "execute_result"
    }
   ],
   "source": [
    "y_sol = sp.dsolve(diff_eq)\n",
    "y_sol"
   ]
  },
  {
   "cell_type": "markdown",
   "metadata": {
    "id": "E2eoES-p8YW4"
   },
   "source": [
    "Возьмем начальное условие $y(0)=1$, $y'(0)=0$:"
   ]
  },
  {
   "cell_type": "code",
   "execution_count": null,
   "metadata": {
    "colab": {
     "base_uri": "https://localhost:8080/",
     "height": 61
    },
    "id": "20ysvHEO8YW4",
    "outputId": "bb089157-40d5-43b8-fd11-eb72af1d312d"
   },
   "outputs": [
    {
     "data": {
      "text/latex": [
       "$\\displaystyle y{\\left(t \\right)} = \\left(- \\frac{\\alpha}{2 \\sqrt{\\alpha^{2} - 4 k m}} + \\frac{1}{2}\\right) e^{\\frac{t \\left(- \\alpha - \\sqrt{\\alpha^{2} - 4 k m}\\right)}{2 m}} + \\left(\\frac{\\alpha}{2 \\sqrt{\\alpha^{2} - 4 k m}} + \\frac{1}{2}\\right) e^{\\frac{t \\left(- \\alpha + \\sqrt{\\alpha^{2} - 4 k m}\\right)}{2 m}}$"
      ],
      "text/plain": [
       "Eq(y(t), (-alpha/(2*sqrt(alpha**2 - 4*k*m)) + 1/2)*exp(t*(-alpha - sqrt(alpha**2 - 4*k*m))/(2*m)) + (alpha/(2*sqrt(alpha**2 - 4*k*m)) + 1/2)*exp(t*(-alpha + sqrt(alpha**2 - 4*k*m))/(2*m)))"
      ]
     },
     "execution_count": 238,
     "metadata": {},
     "output_type": "execute_result"
    }
   ],
   "source": [
    "y_sol = sp.dsolve(diff_eq, ics={y(0): 1, sp.diff(y(t), t).subs(t,0): 0})\n",
    "y_sol"
   ]
  },
  {
   "cell_type": "code",
   "execution_count": null,
   "metadata": {
    "colab": {
     "base_uri": "https://localhost:8080/",
     "height": 61
    },
    "id": "t53gxpNU8YW4",
    "outputId": "9ab85ff4-334f-43e1-a0c2-e4435d6cb151"
   },
   "outputs": [
    {
     "data": {
      "text/latex": [
       "$\\displaystyle \\left(- \\frac{\\alpha}{2 \\sqrt{\\alpha^{2} - 4 k m}} + \\frac{1}{2}\\right) e^{\\frac{t \\left(- \\alpha - \\sqrt{\\alpha^{2} - 4 k m}\\right)}{2 m}} + \\left(\\frac{\\alpha}{2 \\sqrt{\\alpha^{2} - 4 k m}} + \\frac{1}{2}\\right) e^{\\frac{t \\left(- \\alpha + \\sqrt{\\alpha^{2} - 4 k m}\\right)}{2 m}}$"
      ],
      "text/plain": [
       "(-alpha/(2*sqrt(alpha**2 - 4*k*m)) + 1/2)*exp(t*(-alpha - sqrt(alpha**2 - 4*k*m))/(2*m)) + (alpha/(2*sqrt(alpha**2 - 4*k*m)) + 1/2)*exp(t*(-alpha + sqrt(alpha**2 - 4*k*m))/(2*m))"
      ]
     },
     "execution_count": 261,
     "metadata": {},
     "output_type": "execute_result"
    }
   ],
   "source": [
    "y_sol.rhs"
   ]
  },
  {
   "cell_type": "markdown",
   "metadata": {
    "id": "lB0mvMDH8YW4"
   },
   "source": [
    "Обратите внимание, что значение подкоренного выражения в $\\sqrt{\\alpha^2 - 4km}$ может быть отрицательным. В этом случае сам корень чисто мнимый, однако результат всего выражения для $y(t)$ будет вещественным (мнимые части уничтожаются)."
   ]
  },
  {
   "cell_type": "markdown",
   "metadata": {
    "id": "GXWErvr4lyzj"
   },
   "source": [
    "Построим график $y(t)$ для разных значения параметров $m$, $\\alpha$, $k$:"
   ]
  },
  {
   "cell_type": "code",
   "execution_count": null,
   "metadata": {
    "colab": {
     "base_uri": "https://localhost:8080/",
     "height": 424
    },
    "id": "fv2k_m4y8YW5",
    "outputId": "bb8b7e9d-d41a-4a4d-cff5-9a6d0e9e0ba4"
   },
   "outputs": [
    {
     "name": "stderr",
     "output_type": "stream",
     "text": [
      "<lambdifygenerated-9>:2: RuntimeWarning: invalid value encountered in sqrt\n",
      "  return ((-1/2*alpha/sqrt(alpha**2 - 4*k*m) + 1/2)*exp((1/2)*t*(-alpha - sqrt(alpha**2 - 4*k*m))/m) + ((1/2)*alpha/sqrt(alpha**2 - 4*k*m) + 1/2)*exp((1/2)*t*(-alpha + sqrt(alpha**2 - 4*k*m))/m))\n",
      "<lambdifygenerated-9>:2: RuntimeWarning: invalid value encountered in sqrt\n",
      "  return ((-1/2*alpha/sqrt(alpha**2 - 4*k*m) + 1/2)*exp((1/2)*t*(-alpha - sqrt(alpha**2 - 4*k*m))/m) + ((1/2)*alpha/sqrt(alpha**2 - 4*k*m) + 1/2)*exp((1/2)*t*(-alpha + sqrt(alpha**2 - 4*k*m))/m))\n",
      "<lambdifygenerated-9>:2: RuntimeWarning: invalid value encountered in sqrt\n",
      "  return ((-1/2*alpha/sqrt(alpha**2 - 4*k*m) + 1/2)*exp((1/2)*t*(-alpha - sqrt(alpha**2 - 4*k*m))/m) + ((1/2)*alpha/sqrt(alpha**2 - 4*k*m) + 1/2)*exp((1/2)*t*(-alpha + sqrt(alpha**2 - 4*k*m))/m))\n",
      "<lambdifygenerated-9>:2: RuntimeWarning: invalid value encountered in sqrt\n",
      "  return ((-1/2*alpha/sqrt(alpha**2 - 4*k*m) + 1/2)*exp((1/2)*t*(-alpha - sqrt(alpha**2 - 4*k*m))/m) + ((1/2)*alpha/sqrt(alpha**2 - 4*k*m) + 1/2)*exp((1/2)*t*(-alpha + sqrt(alpha**2 - 4*k*m))/m))\n"
     ]
    },
    {
     "data": {
      "image/png": "[encoded data removed]",
      "text/plain": [
       "<Figure size 432x288 with 1 Axes>"
      ]
     },
     "metadata": {
      "needs_background": "light"
     },
     "output_type": "display_data"
    }
   ],
   "source": [
    "y_lambda = sp.lambdify((t, m, alpha, k), y_sol.rhs)\n",
    "\n",
    "tt = np.linspace(0, 20, 500)\n",
    "plt.plot(tt, y_lambda(tt, m=1, k=1, alpha=0))\n",
    "plt.plot(tt, y_lambda(tt, m=1, k=1, alpha=.07))\n",
    "plt.plot(tt, y_lambda(tt, m=1, k=1, alpha=.25))\n",
    "plt.plot(tt, y_lambda(tt, m=1, k=1, alpha=1))\n",
    "plt.plot(tt, y_lambda(tt, m=1, k=1, alpha=2.01))\n",
    "plt.plot(tt, y_lambda(tt, m=1, k=1, alpha=4))\n",
    "plt.plot(tt, y_lambda(tt, m=1, k=1, alpha=40))\n",
    "plt.plot(tt, y_lambda(tt, m=1, k=1, alpha=400))\n",
    "pass"
   ]
  },
  {
   "cell_type": "markdown",
   "metadata": {
    "id": "s2OTCGUURMVd"
   },
   "source": [
    "##### 1\n",
    "\n",
    "Найдите значение выражения:\n",
    "    \n",
    "$$\\frac{(\\sqrt{13}+\\sqrt{7})^{2}}{10+\\sqrt{91}}$$"
   ]
  },
  {
   "cell_type": "markdown",
   "metadata": {},
   "source": [
    "###### 2 \n",
    "\n",
    "Найдите значение выражения.\n",
    "$$\\frac{g(2-x)}{g(2+x)},$$ если $$\\;g(x)=\\sqrt[3]{x(4-x)} \\;$$ при $$\\mid x\\mid \\neq2$$"
   ]
  }
 ],
 "metadata": {
  "colab": {
   "provenance": []
  },
  "kernelspec": {
   "display_name": "Python 3 (ipykernel)",
   "language": "python",
   "name": "python3"
  },
  "language_info": {
   "codemirror_mode": {
    "name": "ipython",
    "version": 3
   },
   "file_extension": ".py",
   "mimetype": "text/x-python",
   "name": "python",
   "nbconvert_exporter": "python",
   "pygments_lexer": "ipython3",
   "version": "3.12.4"
  }
 },
 "nbformat": 4,
 "nbformat_minor": 4
}
