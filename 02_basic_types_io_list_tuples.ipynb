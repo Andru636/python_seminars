{
 "cells": [
  {
   "cell_type": "markdown",
   "metadata": {
    "id": "JtCReEUVM-XA"
   },
   "source": [
    "# Основы Python. Базовые типы данных. Ввод-вывод данных. Списки и кортежи."
   ]
  },
  {
   "cell_type": "markdown",
   "metadata": {
    "id": "zCGkAkOyNNJ3"
   },
   "source": [
    "## Основы Python"
   ]
  },
  {
   "cell_type": "markdown",
   "metadata": {
    "id": "Zy8OUxzwNjJp"
   },
   "source": [
    "Перед началом работы поймем, с какой версией Python мы работаем:"
   ]
  },
  {
   "cell_type": "code",
   "execution_count": null,
   "metadata": {
    "colab": {
     "base_uri": "https://localhost:8080/"
    },
    "id": "LcWUkUzTK6HJ",
    "outputId": "838fe1ad-18b9-4786-f932-47ba596f0071"
   },
   "outputs": [
    {
     "name": "stdout",
     "output_type": "stream",
     "text": [
      "Python 3.10.12\n"
     ]
    }
   ],
   "source": [
    "%%python --version"
   ]
  },
  {
   "cell_type": "markdown",
   "metadata": {
    "id": "fB3NDe1aQvTo"
   },
   "source": [
    "### Первая программа"
   ]
  },
  {
   "cell_type": "markdown",
   "metadata": {
    "id": "j8HeJ0RROBEe"
   },
   "source": [
    "Данный ноутбук разработан на версии Python 3.10.12\n",
    "\n",
    "Версионирование в Python - обширная тема, подробнее о нем можно почитать [тут](https://packaging.python.org/en/latest/discussions/versioning/)"
   ]
  },
  {
   "cell_type": "markdown",
   "metadata": {
    "id": "s5SEp8YoPmUW"
   },
   "source": [
    "По традиции, первая программа на Python - \"Привет, мир!\":"
   ]
  },
  {
   "cell_type": "code",
   "execution_count": null,
   "metadata": {
    "colab": {
     "base_uri": "https://localhost:8080/"
    },
    "id": "sFCjshXQKrpE",
    "outputId": "f307cf97-e87d-4aec-f371-0d06fb38fc0a"
   },
   "outputs": [
    {
     "name": "stdout",
     "output_type": "stream",
     "text": [
      "Hello, World!\n"
     ]
    }
   ],
   "source": [
    "print(\"Hello, World!\")"
   ]
  },
  {
   "cell_type": "markdown",
   "metadata": {
    "id": "jfyfAUbnP-vm"
   },
   "source": [
    "Здесь была использована функция - `print`, она позволяет выводить на экран строки и различные значения"
   ]
  },
  {
   "cell_type": "markdown",
   "metadata": {
    "id": "SeQR1hkCQy6o"
   },
   "source": [
    "### Переменные в Python"
   ]
  },
  {
   "cell_type": "markdown",
   "metadata": {
    "id": "GjIcpJSEQ5GO"
   },
   "source": [
    "Создать переменную можно следующим образом:"
   ]
  },
  {
   "cell_type": "code",
   "execution_count": 61,
   "metadata": {
    "id": "y-rh6H9yP9Em"
   },
   "outputs": [],
   "source": [
    "a = 10"
   ]
  },
  {
   "cell_type": "markdown",
   "metadata": {
    "id": "pIgdtZEdRLTB"
   },
   "source": [
    "Вывести значение переменной можно в интерактивном режиме(в colab):"
   ]
  },
  {
   "cell_type": "code",
   "execution_count": 64,
   "metadata": {
    "colab": {
     "base_uri": "https://localhost:8080/"
    },
    "id": "ZKjUkxv2RFYn",
    "outputId": "471cbc46-4cca-47e8-d14a-036599a46236"
   },
   "outputs": [
    {
     "data": {
      "text/plain": [
       "10"
      ]
     },
     "execution_count": 64,
     "metadata": {},
     "output_type": "execute_result"
    }
   ],
   "source": [
    "a"
   ]
  },
  {
   "cell_type": "code",
   "execution_count": 66,
   "metadata": {},
   "outputs": [],
   "source": [
    "a\n",
    "a=10"
   ]
  },
  {
   "cell_type": "markdown",
   "metadata": {
    "id": "d1252J52Rn6y"
   },
   "source": [
    "Или при помощи функции `print`:"
   ]
  },
  {
   "cell_type": "code",
   "execution_count": null,
   "metadata": {
    "colab": {
     "base_uri": "https://localhost:8080/"
    },
    "id": "xQFCRw6rRmHI",
    "outputId": "3a0e22e0-54eb-4201-a334-28b4af7fe429"
   },
   "outputs": [
    {
     "name": "stdout",
     "output_type": "stream",
     "text": [
      "10\n"
     ]
    }
   ],
   "source": [
    "print(a)"
   ]
  },
  {
   "cell_type": "markdown",
   "metadata": {
    "id": "8nK0DTk6SOmO"
   },
   "source": [
    "### Какие имена переменных допустимы?"
   ]
  },
  {
   "cell_type": "markdown",
   "metadata": {
    "id": "YUUs8E-VSd9R"
   },
   "source": [
    "Имена переменных удовлетворяют следующим правилам:\n",
    "\n",
    "- имя должно содержать только буквы, цифры и знаки нижнего подчеркивания (`_`)\n",
    "- имя должно начинаться только с буквы или нижнего подчеркивания"
   ]
  },
  {
   "cell_type": "markdown",
   "metadata": {
    "id": "8uKO8OsfSomg"
   },
   "source": [
    "**Примечания:**\n",
    "\n",
    "1. Имена переменных чувствительны к регистру(case-sensetive) - `age`, `Age` и `AGE` являются тремя разными именами\n",
    "2. Технически у вас есть возможность использовать не только буквы английского алфавита, но и русские, однако, так категорически не рекомендуется делать из-за возможных проблем с кодировкой\n",
    "3. Советую называть переменные осмысленно, чтобы другой программист смог понять за что именно отвечает та или иная переменная"
   ]
  },
  {
   "cell_type": "markdown",
   "metadata": {
    "id": "fHKO8gthTINK"
   },
   "source": [
    "Попробуем создать переменные с разными именами и посмотрим на результат:"
   ]
  },
  {
   "cell_type": "code",
   "execution_count": null,
   "metadata": {
    "colab": {
     "base_uri": "https://localhost:8080/"
    },
    "id": "3QwQWTqGLKLh",
    "outputId": "14baa9c6-7139-4cad-cad7-c6b864482af0"
   },
   "outputs": [
    {
     "data": {
      "text/plain": [
       "(10, 11, 12, 13, 14, 15)"
      ]
     },
     "execution_count": 20,
     "metadata": {},
     "output_type": "execute_result"
    }
   ],
   "source": [
    "a = 10\n",
    "A = 11\n",
    "_a = 12\n",
    "__a = 13\n",
    "___ = 14\n",
    "_a1 = 15\n",
    "\n",
    "a, A, _a, __a, ___, _a1"
   ]
  },
  {
   "cell_type": "code",
   "execution_count": null,
   "metadata": {
    "colab": {
     "base_uri": "https://localhost:8080/",
     "height": 108
    },
    "id": "-DUAZ5_BTpmn",
    "outputId": "bcc576e4-1f28-46bd-8756-08a2098a657f"
   },
   "outputs": [
    {
     "ename": "SyntaxError",
     "evalue": "invalid decimal literal (<ipython-input-26-1be9f8edb7cd>, line 1)",
     "output_type": "error",
     "traceback": [
      "\u001b[0;36m  File \u001b[0;32m\"<ipython-input-26-1be9f8edb7cd>\"\u001b[0;36m, line \u001b[0;32m1\u001b[0m\n\u001b[0;31m    1a = 10\u001b[0m\n\u001b[0m    ^\u001b[0m\n\u001b[0;31mSyntaxError\u001b[0m\u001b[0;31m:\u001b[0m invalid decimal literal\n"
     ]
    }
   ],
   "source": [
    "1a = 10"
   ]
  },
  {
   "cell_type": "code",
   "execution_count": null,
   "metadata": {
    "colab": {
     "base_uri": "https://localhost:8080/",
     "height": 108
    },
    "id": "FJxo_1dsTwXK",
    "outputId": "1f0e5826-f67f-460a-d3f8-9ef9f9bba007"
   },
   "outputs": [
    {
     "ename": "SyntaxError",
     "evalue": "invalid syntax (<ipython-input-28-6ee3cb6f8e42>, line 1)",
     "output_type": "error",
     "traceback": [
      "\u001b[0;36m  File \u001b[0;32m\"<ipython-input-28-6ee3cb6f8e42>\"\u001b[0;36m, line \u001b[0;32m1\u001b[0m\n\u001b[0;31m    &a = 10\u001b[0m\n\u001b[0m    ^\u001b[0m\n\u001b[0;31mSyntaxError\u001b[0m\u001b[0;31m:\u001b[0m invalid syntax\n"
     ]
    }
   ],
   "source": [
    "&a = 10"
   ]
  },
  {
   "cell_type": "code",
   "execution_count": null,
   "metadata": {
    "colab": {
     "base_uri": "https://localhost:8080/",
     "height": 108
    },
    "id": "UIkj0EppTy9T",
    "outputId": "5f433523-d46f-4a07-e391-2436e3f4f9d2"
   },
   "outputs": [
    {
     "ename": "SyntaxError",
     "evalue": "invalid syntax (<ipython-input-29-6ccfd8e185c9>, line 1)",
     "output_type": "error",
     "traceback": [
      "\u001b[0;36m  File \u001b[0;32m\"<ipython-input-29-6ccfd8e185c9>\"\u001b[0;36m, line \u001b[0;32m1\u001b[0m\n\u001b[0;31m    $a = 10\u001b[0m\n\u001b[0m    ^\u001b[0m\n\u001b[0;31mSyntaxError\u001b[0m\u001b[0;31m:\u001b[0m invalid syntax\n"
     ]
    }
   ],
   "source": [
    "$a = 10"
   ]
  },
  {
   "cell_type": "code",
   "execution_count": null,
   "metadata": {
    "colab": {
     "base_uri": "https://localhost:8080/"
    },
    "id": "FUutLtm6UClE",
    "outputId": "321297ca-64f1-49b0-c130-6817224759fe"
   },
   "outputs": [
    {
     "data": {
      "text/plain": [
       "10"
      ]
     },
     "execution_count": 30,
     "metadata": {},
     "output_type": "execute_result"
    }
   ],
   "source": [
    "переменная = 10\n",
    "переменная"
   ]
  },
  {
   "cell_type": "markdown",
   "metadata": {
    "id": "6pjhs3x0UNqM"
   },
   "source": [
    "### Множественное присваивание переменных"
   ]
  },
  {
   "cell_type": "markdown",
   "metadata": {
    "id": "8MNEiu2_Uk58"
   },
   "source": [
    "В Python добавлено очень много вещей, которые облегчают жизнь программисту, хоть и не являются критичными (можно обойтись и без них) - **синтаксический сахар**."
   ]
  },
  {
   "cell_type": "markdown",
   "metadata": {
    "id": "YT93FlTSUr9g"
   },
   "source": [
    "В Python можно одновременно присваивать двум переменным одно значение:"
   ]
  },
  {
   "cell_type": "code",
   "execution_count": null,
   "metadata": {
    "colab": {
     "base_uri": "https://localhost:8080/"
    },
    "id": "fWND12R8Uj0I",
    "outputId": "3389d2ba-db73-4448-ef16-8db51f19f2a0"
   },
   "outputs": [
    {
     "data": {
      "text/plain": [
       "(100, 100)"
      ]
     },
     "execution_count": 31,
     "metadata": {},
     "output_type": "execute_result"
    }
   ],
   "source": [
    "a = b = 100\n",
    "a, b"
   ]
  },
  {
   "cell_type": "code",
   "execution_count": null,
   "metadata": {
    "colab": {
     "base_uri": "https://localhost:8080/"
    },
    "id": "6hpD-cUaUxrq",
    "outputId": "2fb2b7ca-8878-4501-db81-1d8c2210d6f5"
   },
   "outputs": [
    {
     "data": {
      "text/plain": [
       "(101, 100)"
      ]
     },
     "execution_count": 32,
     "metadata": {},
     "output_type": "execute_result"
    }
   ],
   "source": [
    "a = 101\n",
    "a, b"
   ]
  },
  {
   "cell_type": "markdown",
   "metadata": {
    "id": "YgLs_J9HU5Xi"
   },
   "source": [
    "Также можно присваивать в одной строке нескольким переменным значения:"
   ]
  },
  {
   "cell_type": "code",
   "execution_count": null,
   "metadata": {
    "colab": {
     "base_uri": "https://localhost:8080/"
    },
    "id": "zwNS-XcDU41M",
    "outputId": "d4c0af0a-8545-4636-f8af-5e680fabe9ca"
   },
   "outputs": [
    {
     "data": {
      "text/plain": [
       "(100, 101)"
      ]
     },
     "execution_count": 33,
     "metadata": {},
     "output_type": "execute_result"
    }
   ],
   "source": [
    "a, b = 100, 101\n",
    "a, b"
   ]
  },
  {
   "cell_type": "markdown",
   "metadata": {
    "id": "1k2urlYcVDZx"
   },
   "source": [
    "Можно поменять значения переменных:"
   ]
  },
  {
   "cell_type": "code",
   "execution_count": null,
   "metadata": {
    "colab": {
     "base_uri": "https://localhost:8080/"
    },
    "id": "YEx8hDWjVHQ5",
    "outputId": "8201a49a-3c3a-4dcf-8532-6b130b32ca96"
   },
   "outputs": [
    {
     "data": {
      "text/plain": [
       "(101, 100)"
      ]
     },
     "execution_count": 34,
     "metadata": {},
     "output_type": "execute_result"
    }
   ],
   "source": [
    "a, b = b, a\n",
    "a, b"
   ]
  },
  {
   "cell_type": "markdown",
   "metadata": {
    "id": "Fu-eq0c4VVSx"
   },
   "source": [
    "Без возможности такого присваивания смена значений 2ух переменных выглядела бы сложнее, необходимо создать еще одну переменную:"
   ]
  },
  {
   "cell_type": "code",
   "execution_count": null,
   "metadata": {
    "colab": {
     "base_uri": "https://localhost:8080/"
    },
    "id": "SEaivWnhVjRF",
    "outputId": "8a1f0f5a-53ed-4e27-90cd-c5fb665e6f57"
   },
   "outputs": [
    {
     "data": {
      "text/plain": [
       "(101, 100)"
      ]
     },
     "execution_count": 36,
     "metadata": {},
     "output_type": "execute_result"
    }
   ],
   "source": [
    "a, b = 100, 101\n",
    "c = a\n",
    "a = b\n",
    "b = c\n",
    "a, b"
   ]
  },
  {
   "cell_type": "markdown",
   "metadata": {
    "id": "06A8UYauVy54"
   },
   "source": [
    "### Функция `help`"
   ]
  },
  {
   "cell_type": "markdown",
   "metadata": {
    "id": "TXH7GwmEV3F3"
   },
   "source": [
    "Ранее мы познакомились с функцией `print`, теперь рассмотрим функцию `help`.\n",
    "\n",
    "Эта функция крайне полезна, она позволяет получить информацию о разных объектах, например, для функции `print` справка:"
   ]
  },
  {
   "cell_type": "code",
   "execution_count": null,
   "metadata": {
    "colab": {
     "base_uri": "https://localhost:8080/"
    },
    "id": "8_YCF1y8V2n6",
    "outputId": "6e4f522a-a495-4743-f1ff-949a366f0b77"
   },
   "outputs": [
    {
     "name": "stdout",
     "output_type": "stream",
     "text": [
      "Help on built-in function print in module builtins:\n",
      "\n",
      "print(...)\n",
      "    print(value, ..., sep=' ', end='\\n', file=sys.stdout, flush=False)\n",
      "    \n",
      "    Prints the values to a stream, or to sys.stdout by default.\n",
      "    Optional keyword arguments:\n",
      "    file:  a file-like object (stream); defaults to the current sys.stdout.\n",
      "    sep:   string inserted between values, default a space.\n",
      "    end:   string appended after the last value, default a newline.\n",
      "    flush: whether to forcibly flush the stream.\n",
      "\n"
     ]
    }
   ],
   "source": [
    "help(print)"
   ]
  },
  {
   "cell_type": "markdown",
   "metadata": {
    "id": "m1_3BMM7WbBX"
   },
   "source": [
    "Попробуем использовать функцию `print` вместе с заданием аргументов sep и end:"
   ]
  },
  {
   "cell_type": "code",
   "execution_count": null,
   "metadata": {
    "colab": {
     "base_uri": "https://localhost:8080/"
    },
    "id": "lQO3ihorWYxc",
    "outputId": "2b227383-66c7-47cc-b65f-e68f1d13982a"
   },
   "outputs": [
    {
     "name": "stdout",
     "output_type": "stream",
     "text": [
      "Hello, world!"
     ]
    }
   ],
   "source": [
    "x = \"Hello\"\n",
    "y = \"world\"\n",
    "print(x, y, sep=\", \", end=\"!\")"
   ]
  },
  {
   "cell_type": "markdown",
   "metadata": {
    "id": "FTADXDljXqy2"
   },
   "source": [
    "### Базовая арифметика"
   ]
  },
  {
   "cell_type": "markdown",
   "metadata": {
    "id": "f-5FEMahYPkA"
   },
   "source": [
    "Одна из основных задач языка программирования - выполнять арифметические операции над переменными. Само собой, Python тоже позволяет это делать:"
   ]
  },
  {
   "cell_type": "markdown",
   "metadata": {
    "id": "7WifWWHBYWkN"
   },
   "source": [
    "`+`, `-`, `*`, `/` - простейшие операции\n"
   ]
  },
  {
   "cell_type": "code",
   "execution_count": null,
   "metadata": {
    "colab": {
     "base_uri": "https://localhost:8080/"
    },
    "id": "d3ivQgX8YV_f",
    "outputId": "8a65ae55-6d65-431d-bee9-ab949d6b2fb3"
   },
   "outputs": [
    {
     "data": {
      "text/plain": [
       "-3.75"
      ]
     },
     "execution_count": 45,
     "metadata": {},
     "output_type": "execute_result"
    }
   ],
   "source": [
    "(1 + 8) / 4 - 2 * 3"
   ]
  },
  {
   "cell_type": "markdown",
   "metadata": {
    "id": "TqgWwkiGYf2O"
   },
   "source": [
    "`//`, `%` - целочисленное деление и остаток от деления"
   ]
  },
  {
   "cell_type": "code",
   "execution_count": null,
   "metadata": {
    "colab": {
     "base_uri": "https://localhost:8080/"
    },
    "id": "J0y1Wsl9YTzX",
    "outputId": "71b45ef0-26e0-4b6c-b933-539daa84e7da"
   },
   "outputs": [
    {
     "data": {
      "text/plain": [
       "(7, 3)"
      ]
     },
     "execution_count": 46,
     "metadata": {},
     "output_type": "execute_result"
    }
   ],
   "source": [
    "45 // 6, 45 % 6"
   ]
  },
  {
   "cell_type": "markdown",
   "metadata": {
    "id": "cZD64TS0YlOv"
   },
   "source": [
    "`**` - возведение в степень"
   ]
  },
  {
   "cell_type": "code",
   "execution_count": null,
   "metadata": {
    "colab": {
     "base_uri": "https://localhost:8080/"
    },
    "id": "3CkwdbwAYo8x",
    "outputId": "d143f2b7-dd6a-466f-cab1-1075872e4d7e"
   },
   "outputs": [
    {
     "data": {
      "text/plain": [
       "1024"
      ]
     },
     "execution_count": 47,
     "metadata": {},
     "output_type": "execute_result"
    }
   ],
   "source": [
    "2 ** 10"
   ]
  },
  {
   "cell_type": "markdown",
   "metadata": {
    "id": "84sK8lgXYoNo"
   },
   "source": [
    "Помимо стандартного оператора присваивания(`=`), в Python есть вспомогательные операторы, которые перед присваиванием выполняют арифметическую операцию:"
   ]
  },
  {
   "cell_type": "code",
   "execution_count": null,
   "metadata": {
    "id": "8vRNX0TMY7c5"
   },
   "outputs": [],
   "source": [
    "a = 1900\n",
    "a += 1   # a = a + 1\n",
    "a -= 2   # a = a - 2\n",
    "a *= 3   # a = a * 3\n",
    "a /= 4   # a = a / 4\n",
    "a //= 2  # a = a // 2\n",
    "a **= 2  # a = a ** 2\n",
    "a %= 6   # a = a % 6"
   ]
  },
  {
   "cell_type": "markdown",
   "metadata": {
    "id": "quJTKC7YNO3g"
   },
   "source": [
    "## Базовые типы данных"
   ]
  },
  {
   "cell_type": "markdown",
   "metadata": {
    "id": "Jw61UZq8L0iF"
   },
   "source": [
    "В Python существует несколько групп типов, в данной части ноутбука будут рассмотрены следующие группы:\n",
    "* Text Type:\tstr\n",
    "* Numeric Types:\tint, float, complex\n",
    "* Boolean Type:\tbool\n",
    "* None Type:\tNoneType\n",
    "\n",
    "Помимо перечисленных выше есть и другие группы типов данных, о них вы узнаете позднее в курсе:\n",
    "* Sequence Types:\tlist, tuple, range\n",
    "* Mapping Type:\tdict\n",
    "* Set Types:\tset, frozenset\n",
    "* Binary Types:\tbytes, bytearray, memoryview\n"
   ]
  },
  {
   "cell_type": "markdown",
   "metadata": {
    "id": "3TVyfq1i96A9"
   },
   "source": [
    "### Тип данных `int`"
   ]
  },
  {
   "cell_type": "markdown",
   "metadata": {
    "id": "LZEcuSnN-Bus"
   },
   "source": [
    "`int` - целочисленный тип данных:"
   ]
  },
  {
   "cell_type": "code",
   "execution_count": null,
   "metadata": {
    "colab": {
     "base_uri": "https://localhost:8080/"
    },
    "id": "O6kP_jvFZw5N",
    "outputId": "e9f615d0-1bac-4efb-8bbd-1929f9201072"
   },
   "outputs": [
    {
     "data": {
      "text/plain": [
       "(42, int)"
      ]
     },
     "execution_count": 2,
     "metadata": {},
     "output_type": "execute_result"
    }
   ],
   "source": [
    "a = 42\n",
    "a, type(a)"
   ]
  },
  {
   "cell_type": "markdown",
   "metadata": {
    "id": "5e5hCgam-NZl"
   },
   "source": [
    "Данный тип поддерживает длинную арифметику (подробнее [тут](https://www.codementor.io/@arpitbhayani/how-python-implements-super-long-integers-12icwon5vk)):"
   ]
  },
  {
   "cell_type": "code",
   "execution_count": null,
   "metadata": {
    "colab": {
     "base_uri": "https://localhost:8080/"
    },
    "id": "uREIXUjw-QBC",
    "outputId": "b891fd55-e67c-4d3f-9f46-11c5a2ad674a"
   },
   "outputs": [
    {
     "data": {
      "text/plain": [
       "10000000000000000000000000000000000000000000000000000000000000000000000000000000000000000000000000000000000000000000000000000000000000000000000000000000000000000000000000000000000000000000000000000000000000000000000000000000000000000000000000000000000000000000000000000000000000000000000000000000000000000000000000000000000000000000000000000000000000000000000000000000000000000000000000000000000000000000000000000000000000000000000000000000000000000000000000000000000000000000000000000000000000000000000000000000000000000000000000000000000000000000000000000000000000000000000000000000000000000000000000000000000000000000000000000000000000000000000000000000000000000000000000000000000000000000000000000000000000000000000000000000000000000000000000000000000000000000000000000000000000000000000000000000000000000000000000000000000000000000000000000000000000000000000000000000000000000000000000000000000000000000000000000000000000000000000000000000000000000000000000000000000000000000000000000000000000000"
      ]
     },
     "execution_count": 3,
     "metadata": {},
     "output_type": "execute_result"
    }
   ],
   "source": [
    "a = 10 ** 1000\n",
    "a"
   ]
  },
  {
   "cell_type": "markdown",
   "metadata": {
    "id": "NHHPspIF-ibb"
   },
   "source": [
    "Удобная форма записи длинных целых чисел:"
   ]
  },
  {
   "cell_type": "code",
   "execution_count": null,
   "metadata": {
    "colab": {
     "base_uri": "https://localhost:8080/"
    },
    "id": "ff4wPqTj-jQi",
    "outputId": "1f670684-541a-4b55-bfb7-fddf5c4d9fba"
   },
   "outputs": [
    {
     "data": {
      "text/plain": [
       "100000000"
      ]
     },
     "execution_count": 4,
     "metadata": {},
     "output_type": "execute_result"
    }
   ],
   "source": [
    "a = 100_000_000\n",
    "a"
   ]
  },
  {
   "cell_type": "markdown",
   "metadata": {
    "id": "Xmfezb_g-pgi"
   },
   "source": [
    "### Тип данных `float`"
   ]
  },
  {
   "cell_type": "markdown",
   "metadata": {
    "id": "8QREhhk5-t6V"
   },
   "source": [
    "`float` - тип данных, хранящий число с плавающей точкой (дробное число). В качестве разделителя используется только точка `.`:"
   ]
  },
  {
   "cell_type": "code",
   "execution_count": null,
   "metadata": {
    "colab": {
     "base_uri": "https://localhost:8080/"
    },
    "id": "KZq7Sbmg-r1Q",
    "outputId": "a55bf2f5-f72f-477f-a76e-030019f8b873"
   },
   "outputs": [
    {
     "data": {
      "text/plain": [
       "(42.42, float)"
      ]
     },
     "execution_count": 6,
     "metadata": {},
     "output_type": "execute_result"
    }
   ],
   "source": [
    "a = 42.42\n",
    "a, type(a)"
   ]
  },
  {
   "cell_type": "markdown",
   "metadata": {
    "id": "mjR0Z0dp-4W0"
   },
   "source": [
    "Имеется удобная форма записи - экспоненциальная:"
   ]
  },
  {
   "cell_type": "code",
   "execution_count": null,
   "metadata": {
    "colab": {
     "base_uri": "https://localhost:8080/"
    },
    "id": "wiy3Xm3A-16z",
    "outputId": "3584cc4b-4598-45d7-94ac-d2772afdae6b"
   },
   "outputs": [
    {
     "data": {
      "text/plain": [
       "0.00015"
      ]
     },
     "execution_count": 7,
     "metadata": {},
     "output_type": "execute_result"
    }
   ],
   "source": [
    "1.5e-4"
   ]
  },
  {
   "cell_type": "markdown",
   "metadata": {
    "id": "Or1WE1Mw_AVB"
   },
   "source": [
    "Также в Python имеются специальные значения для бесконечностей и значения \"not a number\" (`nan`):"
   ]
  },
  {
   "cell_type": "code",
   "execution_count": null,
   "metadata": {
    "colab": {
     "base_uri": "https://localhost:8080/"
    },
    "id": "S66lO7go_Bfc",
    "outputId": "034b275b-802f-41d7-dee6-1d2d46b15ca3"
   },
   "outputs": [
    {
     "data": {
      "text/plain": [
       "(inf, inf, inf, nan)"
      ]
     },
     "execution_count": 13,
     "metadata": {},
     "output_type": "execute_result"
    }
   ],
   "source": [
    "float('inf'), 2 * float('inf'), float('inf') + 1000000, float('inf') - float('Inf')"
   ]
  },
  {
   "cell_type": "code",
   "execution_count": null,
   "metadata": {
    "colab": {
     "base_uri": "https://localhost:8080/"
    },
    "id": "YGRVvBQL_Dph",
    "outputId": "89ad279a-9312-4b36-819e-f1ce1aa0260f"
   },
   "outputs": [
    {
     "data": {
      "text/plain": [
       "float"
      ]
     },
     "execution_count": 11,
     "metadata": {},
     "output_type": "execute_result"
    }
   ],
   "source": [
    "type(float('inf'))"
   ]
  },
  {
   "cell_type": "markdown",
   "metadata": {
    "id": "U-LuGlUT_UwB"
   },
   "source": [
    "Тип `float` основан на `double` из C, поэтому поддерживает значения только в определенном диапазоне и с определенной точностью:"
   ]
  },
  {
   "cell_type": "code",
   "execution_count": null,
   "metadata": {
    "colab": {
     "base_uri": "https://localhost:8080/"
    },
    "id": "EjK8OweD_VdV",
    "outputId": "75045bc7-4a18-4110-a3a2-c469ec83dccd"
   },
   "outputs": [
    {
     "data": {
      "text/plain": [
       "(5e-324, 1.7976931348623157e+308, 2.2250738585072014e-308)"
      ]
     },
     "execution_count": 17,
     "metadata": {},
     "output_type": "execute_result"
    }
   ],
   "source": [
    "from sys import float_info\n",
    "\n",
    "precision = float_info.min * float_info.epsilon\n",
    "max_value = float_info.max\n",
    "min_value = float_info.min\n",
    "\n",
    "precision, max_value, min_value"
   ]
  },
  {
   "cell_type": "code",
   "execution_count": null,
   "metadata": {
    "colab": {
     "base_uri": "https://localhost:8080/"
    },
    "id": "pLZj9wlw_iS-",
    "outputId": "70cd3d58-53db-4051-d5ea-d735d0a5c058"
   },
   "outputs": [
    {
     "data": {
      "text/plain": [
       "(1.7976931348623157e+308, inf)"
      ]
     },
     "execution_count": 19,
     "metadata": {},
     "output_type": "execute_result"
    }
   ],
   "source": [
    "max_value, max_value * 2"
   ]
  },
  {
   "cell_type": "code",
   "execution_count": null,
   "metadata": {
    "colab": {
     "base_uri": "https://localhost:8080/"
    },
    "id": "m4DuKNyK_od-",
    "outputId": "40455a69-a7a4-401f-9f9d-6daa43af516b"
   },
   "outputs": [
    {
     "data": {
      "text/plain": [
       "(5e-324, 0.0)"
      ]
     },
     "execution_count": 20,
     "metadata": {},
     "output_type": "execute_result"
    }
   ],
   "source": [
    "precision, precision / 2"
   ]
  },
  {
   "cell_type": "markdown",
   "metadata": {
    "id": "Ze6XoXbJ_8MA"
   },
   "source": [
    "Для округления чисел с плавающей точкой в Python имеется функция `round`, работающая по правилу [\"округления банкира\"](https://ru.wikipedia.org/wiki/%D0%9E%D0%BA%D1%80%D1%83%D0%B3%D0%BB%D0%B5%D0%BD%D0%B8%D0%B5#:~:text=banker's%20rounding%20%E2%80%94%20%C2%AB%D0%BE%D0%BA%D1%80%D1%83%D0%B3%D0%BB%D0%B5%D0%BD%D0%B8%D0%B5%20%D0%B1%D0%B0%D0%BD%D0%BA%D0%B8%D1%80%D0%B0%C2%BB,(%D0%BC%D0%BE%D0%B6%D0%B5%D1%82%20%D0%B8%D1%81%D0%BF%D0%BE%D0%BB%D1%8C%D0%B7%D0%BE%D0%B2%D0%B0%D1%82%D1%8C%D1%81%D1%8F%20%D0%B2%20%D1%81%D1%82%D0%B0%D1%82%D0%B8%D1%81%D1%82%D0%B8%D0%BA%D0%B5)) (**до ближайшего четного числа**):"
   ]
  },
  {
   "cell_type": "code",
   "execution_count": null,
   "metadata": {
    "colab": {
     "base_uri": "https://localhost:8080/"
    },
    "id": "jX3KUJ8X_yGr",
    "outputId": "0cb52d05-d8f3-462b-a52f-41b878d03344"
   },
   "outputs": [
    {
     "data": {
      "text/plain": [
       "(0, 0, 1, 2)"
      ]
     },
     "execution_count": 27,
     "metadata": {},
     "output_type": "execute_result"
    }
   ],
   "source": [
    "round(0.49), round(0.5), round(0.51), round(1.5)"
   ]
  },
  {
   "cell_type": "markdown",
   "metadata": {
    "id": "RgChtB37AQ26"
   },
   "source": [
    "Дополнительно можно указать до какого знака стоит округлять:"
   ]
  },
  {
   "cell_type": "code",
   "execution_count": null,
   "metadata": {
    "colab": {
     "base_uri": "https://localhost:8080/"
    },
    "id": "_zG5wYjWAR3g",
    "outputId": "7f1f0eeb-78aa-4463-aecd-a8566c5f23fd"
   },
   "outputs": [
    {
     "data": {
      "text/plain": [
       "3.14"
      ]
     },
     "execution_count": 28,
     "metadata": {},
     "output_type": "execute_result"
    }
   ],
   "source": [
    "round(3.1415, 2)"
   ]
  },
  {
   "cell_type": "markdown",
   "metadata": {
    "id": "GTqnbUgPAXhu"
   },
   "source": [
    "#### Арифметика с плавающей точкой"
   ]
  },
  {
   "cell_type": "markdown",
   "metadata": {
    "id": "G_fEdeZbAZno"
   },
   "source": [
    "Т.к. в оперативной памяти для записи дробного числа отведено фиксированное кол-во бит (ячеек памяти), то часто мы не можем абсолютно точно записать число и абсолютно точно проводить операции над ними, часто возникает небольшая погрешность:"
   ]
  },
  {
   "cell_type": "code",
   "execution_count": null,
   "metadata": {
    "colab": {
     "base_uri": "https://localhost:8080/"
    },
    "id": "cYZB9HoYAc4L",
    "outputId": "e24f9ac4-244a-4316-f674-67edfe81c5ff"
   },
   "outputs": [
    {
     "data": {
      "text/plain": [
       "0.30000000000000004"
      ]
     },
     "execution_count": 31,
     "metadata": {},
     "output_type": "execute_result"
    }
   ],
   "source": [
    "0.1 + 0.2"
   ]
  },
  {
   "cell_type": "markdown",
   "metadata": {
    "id": "Z9U8I63pAhGP"
   },
   "source": [
    "Этого пугаться не стоит, такое поведение свойственно всем языкам программирования.\n",
    "Подробнее про числа с плавающей точкой - https://habr.com/ru/post/112953/"
   ]
  },
  {
   "cell_type": "code",
   "execution_count": 92,
   "metadata": {},
   "outputs": [
    {
     "name": "stdout",
     "output_type": "stream",
     "text": [
      "0.1 ≈ 0.1000000000000000055511151231257827021181583404541015625\n",
      "0.2 ≈ 0.2000000000000000111022302462515654042363166809082031250\n",
      "0.3 ≈ 0.2999999999999999888977697537484345957636833190917968750\n",
      "0.1+0.2 ≈ 0.3000000000000000444089209850062616169452667236328125000\n"
     ]
    }
   ],
   "source": [
    "numerator, denominator = (0.1).as_integer_ratio()\n",
    "print(f\"0.1 ≈ {format(numerator / denominator, \".55f\")}\")\n",
    "numerator, denominator = (0.2).as_integer_ratio()\n",
    "print(f\"0.2 ≈ {format(numerator / denominator, \".55f\")}\")\n",
    "numerator, denominator = (0.3).as_integer_ratio()\n",
    "print(f\"0.3 ≈ {format(numerator / denominator, \".55f\")}\")\n",
    "numerator, denominator = (0.1+0.2).as_integer_ratio()\n",
    "print(f\"0.1+0.2 ≈ {format(numerator / denominator, \".55f\")}\")"
   ]
  },
  {
   "cell_type": "markdown",
   "metadata": {},
   "source": [
    "### Задачи\n",
    "\n",
    "1. Найти длину окружности и площадь круга. На вход подается радиус\n",
    "\n",
    "2. Найти площадь треугольника. На вход длины трех сторон. Вывести площадь с округлением до одного знака после запятой"
   ]
  },
  {
   "cell_type": "markdown",
   "metadata": {},
   "source": [
    "\n",
    "\n",
    "\n",
    "\n",
    "\n",
    "\n",
    "\n",
    "\n",
    "\n",
    "\n",
    "\n",
    "\n"
   ]
  },
  {
   "cell_type": "code",
   "execution_count": 153,
   "metadata": {},
   "outputs": [
    {
     "name": "stdin",
     "output_type": "stream",
     "text": [
      "Введите радиус:  4\n"
     ]
    },
    {
     "name": "stdout",
     "output_type": "stream",
     "text": [
      "Длина окружности \t25.12\t\n",
      "Площадь круга \t50.24."
     ]
    }
   ],
   "source": [
    "r = float(input(\"Введите радиус: \"))\n",
    "pi = 3.14\n",
    "C = 2*pi*r\n",
    "S=pi*r**2\n",
    "print(\"Длина окружности \", C, \"\\nПлощадь круга \", S, sep='\\t', end = '.')"
   ]
  },
  {
   "cell_type": "code",
   "execution_count": 157,
   "metadata": {},
   "outputs": [
    {
     "name": "stdin",
     "output_type": "stream",
     "text": [
      " 4\n",
      " 5\n",
      " 4\n"
     ]
    },
    {
     "name": "stdout",
     "output_type": "stream",
     "text": [
      "7.8\n"
     ]
    }
   ],
   "source": [
    "a = float(input())\n",
    "b = float(input())\n",
    "c = float(input())\n",
    "p=(a+b+c)/2\n",
    "S=(p*(p-a)*(p-b)*(p-c))**(1/2)\n",
    "print(round(S,1))"
   ]
  },
  {
   "cell_type": "markdown",
   "metadata": {
    "id": "nn3yiHzNA_dw"
   },
   "source": [
    "### Тип данных `complex`"
   ]
  },
  {
   "cell_type": "markdown",
   "metadata": {
    "id": "8_3s9RYSBGWZ"
   },
   "source": [
    "`complex` - тип для работы с комплексными числами. Мнимая часть описывается с помощью символа `j` (вместо `i` в математике):"
   ]
  },
  {
   "cell_type": "code",
   "execution_count": null,
   "metadata": {
    "colab": {
     "base_uri": "https://localhost:8080/"
    },
    "id": "1Nt_Aq6JBDxS",
    "outputId": "634ff794-0edc-4712-c98a-169edcc1efad"
   },
   "outputs": [
    {
     "data": {
      "text/plain": [
       "((2+3j), complex)"
      ]
     },
     "execution_count": 33,
     "metadata": {},
     "output_type": "execute_result"
    }
   ],
   "source": [
    "2 + 3j, type(2 + 3j)"
   ]
  },
  {
   "cell_type": "code",
   "execution_count": null,
   "metadata": {
    "colab": {
     "base_uri": "https://localhost:8080/"
    },
    "id": "97tgzzW7BKzz",
    "outputId": "2f5111dd-0166-4e84-a9cf-3e76690ccde7"
   },
   "outputs": [
    {
     "data": {
      "text/plain": [
       "(-5+12j)"
      ]
     },
     "execution_count": 34,
     "metadata": {},
     "output_type": "execute_result"
    }
   ],
   "source": [
    "(2 + 3j) * (2 + 3j)"
   ]
  },
  {
   "cell_type": "markdown",
   "metadata": {
    "id": "oCLw1PCOBfg0"
   },
   "source": [
    "Создавать `complex` числа можно по-разному, также у типа `complex` есть действительная и мнимая часть, которую можно получить, используя обращение к полям `real` и `imag`:"
   ]
  },
  {
   "cell_type": "code",
   "execution_count": null,
   "metadata": {
    "colab": {
     "base_uri": "https://localhost:8080/"
    },
    "id": "SMgpf5hUB91u",
    "outputId": "ba42486a-4ba6-4bf4-ac8d-4092aaf18c61"
   },
   "outputs": [
    {
     "data": {
      "text/plain": [
       "(5+2j)"
      ]
     },
     "execution_count": 36,
     "metadata": {},
     "output_type": "execute_result"
    }
   ],
   "source": [
    "complex(5+2j)"
   ]
  },
  {
   "cell_type": "code",
   "execution_count": null,
   "metadata": {
    "colab": {
     "base_uri": "https://localhost:8080/"
    },
    "id": "sOnZZs25B1l2",
    "outputId": "d13e366a-e762-4914-924c-e50e2477272e"
   },
   "outputs": [
    {
     "data": {
      "text/plain": [
       "((5+2j), 5.0, 2.0)"
      ]
     },
     "execution_count": 37,
     "metadata": {},
     "output_type": "execute_result"
    }
   ],
   "source": [
    "a, b = 5, 2\n",
    "complex(a, b), complex(a, b).real, complex(a, b).imag"
   ]
  },
  {
   "cell_type": "markdown",
   "metadata": {
    "id": "UzepUC3cDIXk"
   },
   "source": [
    "Чтобы лучше понять, как устроен тип `complex`, можно прочитать вывод после вызова функции `help`:"
   ]
  },
  {
   "cell_type": "code",
   "execution_count": null,
   "metadata": {
    "colab": {
     "base_uri": "https://localhost:8080/"
    },
    "id": "R78_4KkEDD_T",
    "outputId": "b1a8234f-54f8-431e-8514-da907c4d5616"
   },
   "outputs": [
    {
     "name": "stdout",
     "output_type": "stream",
     "text": [
      "Help on class complex in module builtins:\n",
      "\n",
      "class complex(object)\n",
      " |  complex(real=0, imag=0)\n",
      " |  \n",
      " |  Create a complex number from a real part and an optional imaginary part.\n",
      " |  \n",
      " |  This is equivalent to (real + imag*1j) where imag defaults to 0.\n",
      " |  \n",
      " |  Methods defined here:\n",
      " |  \n",
      " |  __abs__(self, /)\n",
      " |      abs(self)\n",
      " |  \n",
      " |  __add__(self, value, /)\n",
      " |      Return self+value.\n",
      " |  \n",
      " |  __bool__(self, /)\n",
      " |      True if self else False\n",
      " |  \n",
      " |  __eq__(self, value, /)\n",
      " |      Return self==value.\n",
      " |  \n",
      " |  __format__(self, format_spec, /)\n",
      " |      Convert to a string according to format_spec.\n",
      " |  \n",
      " |  __ge__(self, value, /)\n",
      " |      Return self>=value.\n",
      " |  \n",
      " |  __getattribute__(self, name, /)\n",
      " |      Return getattr(self, name).\n",
      " |  \n",
      " |  __getnewargs__(self, /)\n",
      " |  \n",
      " |  __gt__(self, value, /)\n",
      " |      Return self>value.\n",
      " |  \n",
      " |  __hash__(self, /)\n",
      " |      Return hash(self).\n",
      " |  \n",
      " |  __le__(self, value, /)\n",
      " |      Return self<=value.\n",
      " |  \n",
      " |  __lt__(self, value, /)\n",
      " |      Return self<value.\n",
      " |  \n",
      " |  __mul__(self, value, /)\n",
      " |      Return self*value.\n",
      " |  \n",
      " |  __ne__(self, value, /)\n",
      " |      Return self!=value.\n",
      " |  \n",
      " |  __neg__(self, /)\n",
      " |      -self\n",
      " |  \n",
      " |  __pos__(self, /)\n",
      " |      +self\n",
      " |  \n",
      " |  __pow__(self, value, mod=None, /)\n",
      " |      Return pow(self, value, mod).\n",
      " |  \n",
      " |  __radd__(self, value, /)\n",
      " |      Return value+self.\n",
      " |  \n",
      " |  __repr__(self, /)\n",
      " |      Return repr(self).\n",
      " |  \n",
      " |  __rmul__(self, value, /)\n",
      " |      Return value*self.\n",
      " |  \n",
      " |  __rpow__(self, value, mod=None, /)\n",
      " |      Return pow(value, self, mod).\n",
      " |  \n",
      " |  __rsub__(self, value, /)\n",
      " |      Return value-self.\n",
      " |  \n",
      " |  __rtruediv__(self, value, /)\n",
      " |      Return value/self.\n",
      " |  \n",
      " |  __sub__(self, value, /)\n",
      " |      Return self-value.\n",
      " |  \n",
      " |  __truediv__(self, value, /)\n",
      " |      Return self/value.\n",
      " |  \n",
      " |  conjugate(self, /)\n",
      " |      Return the complex conjugate of its argument. (3-4j).conjugate() == 3+4j.\n",
      " |  \n",
      " |  ----------------------------------------------------------------------\n",
      " |  Static methods defined here:\n",
      " |  \n",
      " |  __new__(*args, **kwargs) from builtins.type\n",
      " |      Create and return a new object.  See help(type) for accurate signature.\n",
      " |  \n",
      " |  ----------------------------------------------------------------------\n",
      " |  Data descriptors defined here:\n",
      " |  \n",
      " |  imag\n",
      " |      the imaginary part of a complex number\n",
      " |  \n",
      " |  real\n",
      " |      the real part of a complex number\n",
      "\n"
     ]
    }
   ],
   "source": [
    "help(complex)"
   ]
  },
  {
   "cell_type": "markdown",
   "metadata": {
    "id": "ZhKGG9pFCQEp"
   },
   "source": [
    "### Тип данных `bool`"
   ]
  },
  {
   "cell_type": "markdown",
   "metadata": {
    "id": "NaFqyeXtC-5T"
   },
   "source": [
    "`bool` - логический тип данных. Может принимать лишь два значения - `True` и `False` (именно с заглавной буквы):"
   ]
  },
  {
   "cell_type": "code",
   "execution_count": null,
   "metadata": {
    "colab": {
     "base_uri": "https://localhost:8080/"
    },
    "id": "1Qb7uqgFDCBQ",
    "outputId": "626e004e-ba9a-4668-8117-1dfed6a6af97"
   },
   "outputs": [
    {
     "data": {
      "text/plain": [
       "(True, bool, False, bool)"
      ]
     },
     "execution_count": 40,
     "metadata": {},
     "output_type": "execute_result"
    }
   ],
   "source": [
    "True, type(True), False, type(False)"
   ]
  },
  {
   "cell_type": "markdown",
   "metadata": {
    "id": "FUlzgrdFDaIB"
   },
   "source": [
    " Тип `bool` является подтипом `int`, поэтому между ними возможны операции сравнения без явного приведения типов:"
   ]
  },
  {
   "cell_type": "code",
   "execution_count": null,
   "metadata": {
    "colab": {
     "base_uri": "https://localhost:8080/"
    },
    "id": "o5UBIshsDbFe",
    "outputId": "83fb8152-67e6-4e3c-92d7-1ae7d89750dc"
   },
   "outputs": [
    {
     "data": {
      "text/plain": [
       "(True, False)"
      ]
     },
     "execution_count": 44,
     "metadata": {},
     "output_type": "execute_result"
    }
   ],
   "source": [
    "True == 1, True > 2"
   ]
  },
  {
   "cell_type": "markdown",
   "metadata": {
    "id": "7l-1KacsDtUJ"
   },
   "source": [
    "### Тип данных `str`"
   ]
  },
  {
   "cell_type": "markdown",
   "metadata": {
    "id": "ijatzsVNDuPh"
   },
   "source": [
    "`str` - строковый тип данных, т.е. может хранить в себе символьные строки произвольной длины:"
   ]
  },
  {
   "cell_type": "code",
   "execution_count": null,
   "metadata": {
    "colab": {
     "base_uri": "https://localhost:8080/"
    },
    "id": "bLjGHosaDw2t",
    "outputId": "733fa12c-fa2d-4ad8-e34a-5e794043f99f"
   },
   "outputs": [
    {
     "data": {
      "text/plain": [
       "('abc', str)"
      ]
     },
     "execution_count": 45,
     "metadata": {},
     "output_type": "execute_result"
    }
   ],
   "source": [
    "\"abc\", type(\"abc\")"
   ]
  },
  {
   "cell_type": "markdown",
   "metadata": {
    "id": "4qqet6DXD1zo"
   },
   "source": [
    "Выделяется двойными или одинарными кавычками (открывающая и закрывающая должны быть **одинаковы**!):"
   ]
  },
  {
   "cell_type": "code",
   "execution_count": null,
   "metadata": {
    "colab": {
     "base_uri": "https://localhost:8080/"
    },
    "id": "AOlO84yPD1Qf",
    "outputId": "cb38568b-4615-4c43-feee-2fdec411a988"
   },
   "outputs": [
    {
     "data": {
      "text/plain": [
       "('abc', 'abc', \"'abc'\", '\"abc\"')"
      ]
     },
     "execution_count": 46,
     "metadata": {},
     "output_type": "execute_result"
    }
   ],
   "source": [
    "\"abc\", 'abc', \"'abc'\", '\"abc\"'"
   ]
  },
  {
   "cell_type": "code",
   "execution_count": null,
   "metadata": {
    "colab": {
     "base_uri": "https://localhost:8080/",
     "height": 108
    },
    "id": "YvPR6LwjD6lp",
    "outputId": "a4aae7f8-912b-4b95-bad9-e761544368f9"
   },
   "outputs": [
    {
     "ename": "SyntaxError",
     "evalue": "unterminated string literal (detected at line 1) (<ipython-input-47-c87f369d247a>, line 1)",
     "output_type": "error",
     "traceback": [
      "\u001b[0;36m  File \u001b[0;32m\"<ipython-input-47-c87f369d247a>\"\u001b[0;36m, line \u001b[0;32m1\u001b[0m\n\u001b[0;31m    \"abc'\u001b[0m\n\u001b[0m    ^\u001b[0m\n\u001b[0;31mSyntaxError\u001b[0m\u001b[0;31m:\u001b[0m unterminated string literal (detected at line 1)\n"
     ]
    }
   ],
   "source": [
    "\"abc'"
   ]
  },
  {
   "cell_type": "markdown",
   "metadata": {
    "id": "Nnma6VWaEAlf"
   },
   "source": [
    "В Python также возможны многострочные строки (multiline string), для их создания необходимо использовать тройное `\"` или `'`:"
   ]
  },
  {
   "cell_type": "code",
   "execution_count": null,
   "metadata": {
    "colab": {
     "base_uri": "https://localhost:8080/"
    },
    "id": "F9f1r0rdEBZ0",
    "outputId": "93818c29-35bb-4e8b-8cf0-bad7506b9a48"
   },
   "outputs": [
    {
     "name": "stdout",
     "output_type": "stream",
     "text": [
      "и\n",
      "я\n",
      "тоже\n",
      "строка\n"
     ]
    }
   ],
   "source": [
    "string = \"\"\"и\n",
    "я\n",
    "тоже\n",
    "строка\"\"\"\n",
    "\n",
    "print(string)"
   ]
  },
  {
   "cell_type": "markdown",
   "metadata": {
    "id": "tRhBY6nrEfmZ"
   },
   "source": [
    "В Python есть много возможностей для форматирования строк, подробнее почитать можно [тут](https://docs.python.org/3/tutorial/inputoutput.html#fancier-output-formatting), ниже будет несколько примеров форматирования:"
   ]
  },
  {
   "cell_type": "code",
   "execution_count": null,
   "metadata": {
    "colab": {
     "base_uri": "https://localhost:8080/"
    },
    "id": "cALFOVn4E87g",
    "outputId": "c43f830a-8e69-48c8-8b05-a27fe7b5f575"
   },
   "outputs": [
    {
     "data": {
      "text/plain": [
       "('Hello world from MIPT!', 'Hello world from MIPT!')"
      ]
     },
     "execution_count": 53,
     "metadata": {},
     "output_type": "execute_result"
    }
   ],
   "source": [
    "my_name = \"MIPT\"\n",
    "\n",
    "output_str_1 = f\"Hello world from {my_name}!\"\n",
    "output_str_2 = \"Hello world from {name}!\".format(name=my_name)\n",
    "\n",
    "output_str_1, output_str_2"
   ]
  },
  {
   "cell_type": "markdown",
   "metadata": {
    "id": "w11Q3XQXF8Fd"
   },
   "source": [
    "Приведение к строковому типу данных производится за счет функции `str`:"
   ]
  },
  {
   "cell_type": "code",
   "execution_count": null,
   "metadata": {
    "colab": {
     "base_uri": "https://localhost:8080/"
    },
    "id": "apLfjciSF7oy",
    "outputId": "285c3670-f7f5-4f16-b6bb-5ec178471527"
   },
   "outputs": [
    {
     "data": {
      "text/plain": [
       "('0.14', True, False)"
      ]
     },
     "execution_count": 58,
     "metadata": {},
     "output_type": "execute_result"
    }
   ],
   "source": [
    "str(0.14), str(\"MIPT\") == \"MIPT\", str(0) == 0"
   ]
  },
  {
   "cell_type": "markdown",
   "metadata": {
    "id": "13idQjxvGS9S"
   },
   "source": [
    "Со строками можно производить конкатенацию, замену их элементов, поиск подстрок в строках, подробнее об этом будет далее в курсе."
   ]
  },
  {
   "cell_type": "markdown",
   "metadata": {
    "id": "GBuZ-oW3Gsxn"
   },
   "source": [
    "### NoneType"
   ]
  },
  {
   "cell_type": "markdown",
   "metadata": {
    "id": "yewV06t3Gu-y"
   },
   "source": [
    "`NoneType` - специальный тип данных для объекта `None`:"
   ]
  },
  {
   "cell_type": "markdown",
   "metadata": {
    "id": "5JkVwEtQG0ad"
   },
   "source": [
    "#### Что такое `None`?"
   ]
  },
  {
   "cell_type": "markdown",
   "metadata": {
    "id": "KE5MOGiVG4vy"
   },
   "source": [
    "`None` - специальное значение переменной, означающее \"ничего\" или \"отсутствие значения\". Является аналогом `null` из других языков программирования.\n",
    "\n",
    "Существует много случаев, когда следует использовать None.\n",
    "\n",
    "Часто вы хотите выполнить действие, которое может работать либо завершиться неудачно. Используя `None`, вы можете проверить успех действия."
   ]
  },
  {
   "cell_type": "markdown",
   "metadata": {
    "id": "jqw1BsIKIpQD"
   },
   "source": [
    "Например, с помощью библиотеки `re`(подробнее про нее можно прочитать [тут](https://docs.python.org/3/library/re.html)) можно проверять вхождения паттерна в строку, в данном случае проверяется вхождение \"Goodbye\" в строку \"Hello, World!\", поскольку вхождения нет, то возвращаемое значение - None:"
   ]
  },
  {
   "cell_type": "code",
   "execution_count": null,
   "metadata": {
    "colab": {
     "base_uri": "https://localhost:8080/"
    },
    "id": "VpUSfjIoIpmO",
    "outputId": "8a067696-085f-4001-a7d7-7d50b4f6a50f"
   },
   "outputs": [
    {
     "name": "stdout",
     "output_type": "stream",
     "text": [
      "It doesn't match.\n"
     ]
    }
   ],
   "source": [
    "import re\n",
    "matching = re.match(\"Goodbye\", \"Hello, World!\")\n",
    "\n",
    "if matching is None:\n",
    "  print(\"It doesn't match.\")"
   ]
  },
  {
   "cell_type": "markdown",
   "metadata": {
    "id": "kQ7UE2ERHkbX"
   },
   "source": [
    "`None` - такое значение, которое не является ни `True`, ни `False`, ни 0, ни пустой строкой(`\"\"`)"
   ]
  },
  {
   "cell_type": "code",
   "execution_count": null,
   "metadata": {
    "colab": {
     "base_uri": "https://localhost:8080/"
    },
    "id": "pAwGeVtOHYnF",
    "outputId": "9f13fc8e-501f-406a-a54c-8487062ed8c1"
   },
   "outputs": [
    {
     "data": {
      "text/plain": [
       "(False, False, True, False, False)"
      ]
     },
     "execution_count": 64,
     "metadata": {},
     "output_type": "execute_result"
    }
   ],
   "source": [
    "x = None\n",
    "\n",
    "x == True, x == False, x == None, x == 0, x == \"\""
   ]
  },
  {
   "cell_type": "markdown",
   "metadata": {
    "id": "SUERD-0uN0Rr"
   },
   "source": [
    "#### is `None` or == `None`?"
   ]
  },
  {
   "cell_type": "code",
   "execution_count": 39,
   "metadata": {
    "colab": {
     "base_uri": "https://localhost:8080/"
    },
    "id": "UP2hzVbDGz_G",
    "outputId": "0a74acd1-0717-4a3c-9815-c1d631e1d1b9"
   },
   "outputs": [
    {
     "data": {
      "text/plain": [
       "(False, True)"
      ]
     },
     "execution_count": 39,
     "metadata": {},
     "output_type": "execute_result"
    }
   ],
   "source": [
    "a = 500\n",
    "b = 500\n",
    "\n",
    "a is b, a == b"
   ]
  },
  {
   "cell_type": "code",
   "execution_count": 43,
   "metadata": {},
   "outputs": [
    {
     "data": {
      "text/plain": [
       "(1682174405488, 1682174405648)"
      ]
     },
     "execution_count": 43,
     "metadata": {},
     "output_type": "execute_result"
    }
   ],
   "source": [
    "id(a), id(b)"
   ]
  },
  {
   "cell_type": "code",
   "execution_count": 45,
   "metadata": {},
   "outputs": [
    {
     "data": {
      "text/plain": [
       "(True, True)"
      ]
     },
     "execution_count": 45,
     "metadata": {},
     "output_type": "execute_result"
    }
   ],
   "source": [
    "a = 5\n",
    "b = 5\n",
    "\n",
    "a is b, a == b"
   ]
  },
  {
   "cell_type": "code",
   "execution_count": 47,
   "metadata": {},
   "outputs": [
    {
     "data": {
      "text/plain": [
       "(140710802635320, 140710802635320)"
      ]
     },
     "execution_count": 47,
     "metadata": {},
     "output_type": "execute_result"
    }
   ],
   "source": [
    "id(a), id(b)"
   ]
  },
  {
   "cell_type": "code",
   "execution_count": 49,
   "metadata": {},
   "outputs": [
    {
     "data": {
      "text/plain": [
       "140710802635320"
      ]
     },
     "execution_count": 49,
     "metadata": {},
     "output_type": "execute_result"
    }
   ],
   "source": [
    "id(5)"
   ]
  },
  {
   "cell_type": "code",
   "execution_count": 51,
   "metadata": {
    "colab": {
     "base_uri": "https://localhost:8080/"
    },
    "id": "QDqtojwRN_Ao",
    "outputId": "93f5165d-0c32-42bc-ce44-eb8dbac6aab3"
   },
   "outputs": [
    {
     "data": {
      "text/plain": [
       "(True, True)"
      ]
     },
     "execution_count": 51,
     "metadata": {},
     "output_type": "execute_result"
    }
   ],
   "source": [
    "a = None\n",
    "b = None\n",
    "\n",
    "a is b, a == b"
   ]
  },
  {
   "cell_type": "code",
   "execution_count": 55,
   "metadata": {},
   "outputs": [
    {
     "data": {
      "text/plain": [
       "(140710801590224, 140710801590224, 140710801590224)"
      ]
     },
     "execution_count": 55,
     "metadata": {},
     "output_type": "execute_result"
    }
   ],
   "source": [
    "id(a), id(b), id(None)"
   ]
  },
  {
   "cell_type": "code",
   "execution_count": 57,
   "metadata": {},
   "outputs": [
    {
     "name": "stderr",
     "output_type": "stream",
     "text": [
      "<>:1: SyntaxWarning: \"is\" with 'int' literal. Did you mean \"==\"?\n",
      "<>:1: SyntaxWarning: \"is\" with 'int' literal. Did you mean \"==\"?\n",
      "C:\\Users\\Alina\\AppData\\Local\\Temp\\ipykernel_9224\\2813004728.py:1: SyntaxWarning: \"is\" with 'int' literal. Did you mean \"==\"?\n",
      "  500 is 500\n"
     ]
    },
    {
     "data": {
      "text/plain": [
       "True"
      ]
     },
     "execution_count": 57,
     "metadata": {},
     "output_type": "execute_result"
    }
   ],
   "source": [
    "500 is 500"
   ]
  },
  {
   "cell_type": "markdown",
   "metadata": {
    "id": "GKEr5KamO2nh"
   },
   "source": [
    "Проверки на None **всегда** следует делать с использованием ключевого слова `is`, подробнее об этом, а также о разнице между `is` и `==` можно прочиать [тут](https://stackoverflow.com/questions/3257919/what-is-the-difference-between-is-none-and-none) и [тут](https://pythonworld.ru/tipy-dannyx-v-python/none.html)."
   ]
  },
  {
   "cell_type": "markdown",
   "metadata": {
    "id": "zWiwqU6wQNNx"
   },
   "source": [
    "### Приведения базовых типов данных"
   ]
  },
  {
   "cell_type": "markdown",
   "metadata": {
    "id": "zaWNEQf0QRlK"
   },
   "source": [
    "Базовые типы данных часто можно преобразовывать из одного в другой следующим образом:"
   ]
  },
  {
   "cell_type": "code",
   "execution_count": null,
   "metadata": {
    "colab": {
     "base_uri": "https://localhost:8080/"
    },
    "id": "snJ2C6d8QV6w",
    "outputId": "ef729f4e-3967-4fbc-8dc9-54e231078639"
   },
   "outputs": [
    {
     "data": {
      "text/plain": [
       "123"
      ]
     },
     "execution_count": 79,
     "metadata": {},
     "output_type": "execute_result"
    }
   ],
   "source": [
    "int('123')"
   ]
  },
  {
   "cell_type": "code",
   "execution_count": null,
   "metadata": {
    "colab": {
     "base_uri": "https://localhost:8080/",
     "height": 35
    },
    "id": "Lo3CVIeuQXoL",
    "outputId": "38ae478a-839e-4cd9-e059-ffbc6de97d8e"
   },
   "outputs": [
    {
     "data": {
      "application/vnd.google.colaboratory.intrinsic+json": {
       "type": "string"
      },
      "text/plain": [
       "'345'"
      ]
     },
     "execution_count": 80,
     "metadata": {},
     "output_type": "execute_result"
    }
   ],
   "source": [
    "str(345)"
   ]
  },
  {
   "cell_type": "code",
   "execution_count": null,
   "metadata": {
    "colab": {
     "base_uri": "https://localhost:8080/"
    },
    "id": "mFWz-30pQZ_N",
    "outputId": "851f9d19-3441-48ed-9cc5-c206ddbbe348"
   },
   "outputs": [
    {
     "data": {
      "text/plain": [
       "5.0"
      ]
     },
     "execution_count": 81,
     "metadata": {},
     "output_type": "execute_result"
    }
   ],
   "source": [
    "float(5)"
   ]
  },
  {
   "cell_type": "markdown",
   "metadata": {
    "id": "3E-AQmgsQg9k"
   },
   "source": [
    "Для `float` приведение к `int` - отбрасывание дробной части:"
   ]
  },
  {
   "cell_type": "code",
   "execution_count": null,
   "metadata": {
    "colab": {
     "base_uri": "https://localhost:8080/"
    },
    "id": "DV6wQRaDQblR",
    "outputId": "73ef9586-2e50-46a6-bd6b-aa3ee1e17f34"
   },
   "outputs": [
    {
     "data": {
      "text/plain": [
       "234"
      ]
     },
     "execution_count": 83,
     "metadata": {},
     "output_type": "execute_result"
    }
   ],
   "source": [
    "int(234.9)"
   ]
  },
  {
   "cell_type": "code",
   "execution_count": null,
   "metadata": {
    "colab": {
     "base_uri": "https://localhost:8080/"
    },
    "id": "VfualtB8Qf07",
    "outputId": "fdf8c194-3e06-48e2-8843-5a1907e97695"
   },
   "outputs": [
    {
     "data": {
      "text/plain": [
       "-3"
      ]
     },
     "execution_count": 84,
     "metadata": {},
     "output_type": "execute_result"
    }
   ],
   "source": [
    "int(-3.14)"
   ]
  },
  {
   "cell_type": "code",
   "execution_count": null,
   "metadata": {
    "colab": {
     "base_uri": "https://localhost:8080/"
    },
    "id": "HZJhKmlUQ8DL",
    "outputId": "066a6d1b-ccce-4073-a12f-8ad9717f808d"
   },
   "outputs": [
    {
     "data": {
      "text/plain": [
       "(5.1+2j)"
      ]
     },
     "execution_count": 90,
     "metadata": {},
     "output_type": "execute_result"
    }
   ],
   "source": [
    "complex(5.1, 2)"
   ]
  },
  {
   "cell_type": "code",
   "execution_count": null,
   "metadata": {
    "colab": {
     "base_uri": "https://localhost:8080/",
     "height": 35
    },
    "id": "zNoUA6NMRYmR",
    "outputId": "d40f398b-2aa9-4fed-9d45-1f701ef3ea43"
   },
   "outputs": [
    {
     "data": {
      "application/vnd.google.colaboratory.intrinsic+json": {
       "type": "string"
      },
      "text/plain": [
       "'(5.1+2j)'"
      ]
     },
     "execution_count": 94,
     "metadata": {},
     "output_type": "execute_result"
    }
   ],
   "source": [
    "str(complex(5.1, 2))"
   ]
  },
  {
   "cell_type": "markdown",
   "metadata": {
    "id": "C_JQYDQiQoPs"
   },
   "source": [
    "Но не все преобразования допустимы:"
   ]
  },
  {
   "cell_type": "code",
   "execution_count": null,
   "metadata": {
    "colab": {
     "base_uri": "https://localhost:8080/",
     "height": 144
    },
    "id": "uLMQxrt0Qrh4",
    "outputId": "871efd9d-4d3a-43b0-e424-493c166c4941"
   },
   "outputs": [
    {
     "ename": "ValueError",
     "evalue": "could not convert string to float: '12.a'",
     "output_type": "error",
     "traceback": [
      "\u001b[0;31m---------------------------------------------------------------------------\u001b[0m",
      "\u001b[0;31mValueError\u001b[0m                                Traceback (most recent call last)",
      "\u001b[0;32m<ipython-input-87-9e100896e350>\u001b[0m in \u001b[0;36m<cell line: 1>\u001b[0;34m()\u001b[0m\n\u001b[0;32m----> 1\u001b[0;31m \u001b[0mfloat\u001b[0m\u001b[0;34m(\u001b[0m\u001b[0;34m'12.a'\u001b[0m\u001b[0;34m)\u001b[0m\u001b[0;34m\u001b[0m\u001b[0;34m\u001b[0m\u001b[0m\n\u001b[0m",
      "\u001b[0;31mValueError\u001b[0m: could not convert string to float: '12.a'"
     ]
    }
   ],
   "source": [
    "float('12.a')"
   ]
  },
  {
   "cell_type": "code",
   "execution_count": null,
   "metadata": {
    "colab": {
     "base_uri": "https://localhost:8080/",
     "height": 144
    },
    "id": "ve9ENtAuQ2dn",
    "outputId": "17386969-c31e-4984-aa73-021142c5a165"
   },
   "outputs": [
    {
     "ename": "TypeError",
     "evalue": "complex() can't take second arg if first is a string",
     "output_type": "error",
     "traceback": [
      "\u001b[0;31m---------------------------------------------------------------------------\u001b[0m",
      "\u001b[0;31mTypeError\u001b[0m                                 Traceback (most recent call last)",
      "\u001b[0;32m<ipython-input-91-88cf052ee642>\u001b[0m in \u001b[0;36m<cell line: 1>\u001b[0;34m()\u001b[0m\n\u001b[0;32m----> 1\u001b[0;31m \u001b[0mcomplex\u001b[0m\u001b[0;34m(\u001b[0m\u001b[0;34m'5.1'\u001b[0m\u001b[0;34m,\u001b[0m \u001b[0;34m'2'\u001b[0m\u001b[0;34m)\u001b[0m\u001b[0;34m\u001b[0m\u001b[0;34m\u001b[0m\u001b[0m\n\u001b[0m",
      "\u001b[0;31mTypeError\u001b[0m: complex() can't take second arg if first is a string"
     ]
    }
   ],
   "source": [
    "complex('5.1', '2')"
   ]
  },
  {
   "cell_type": "markdown",
   "metadata": {
    "id": "NxAhGmuWQq-a"
   },
   "source": [
    "Таким образом, любое приведение `float`/`int`/`complex` значения в `str` допустимо, но не любое `str` значение можно привести к `float`/`int`/`complex`"
   ]
  },
  {
   "cell_type": "markdown",
   "metadata": {
    "id": "enmue6AzRwWS"
   },
   "source": [
    "Отдельно рассмотрим приведение к bool"
   ]
  },
  {
   "cell_type": "markdown",
   "metadata": {
    "id": "7E-q1jYH9AMl"
   },
   "source": [
    "Для `int` и `float`: `0` и `0.0` переводятся в `False`, все остальное - в `True`:"
   ]
  },
  {
   "cell_type": "code",
   "execution_count": null,
   "metadata": {
    "colab": {
     "base_uri": "https://localhost:8080/"
    },
    "id": "9vUlE2QM9DkW",
    "outputId": "b197390d-2cae-4884-eda3-16fd7e593b4e"
   },
   "outputs": [
    {
     "data": {
      "text/plain": [
       "(False, False)"
      ]
     },
     "execution_count": 95,
     "metadata": {},
     "output_type": "execute_result"
    }
   ],
   "source": [
    "bool(0), bool(0.0)"
   ]
  },
  {
   "cell_type": "code",
   "execution_count": null,
   "metadata": {
    "colab": {
     "base_uri": "https://localhost:8080/"
    },
    "id": "ewRyEAyB9Fbf",
    "outputId": "79871aa4-907c-46e9-f9bc-8a47d1377ca5"
   },
   "outputs": [
    {
     "data": {
      "text/plain": [
       "(True, True)"
      ]
     },
     "execution_count": 96,
     "metadata": {},
     "output_type": "execute_result"
    }
   ],
   "source": [
    "bool(1), bool(24.1)"
   ]
  },
  {
   "cell_type": "code",
   "execution_count": null,
   "metadata": {
    "colab": {
     "base_uri": "https://localhost:8080/"
    },
    "id": "cl5aT5B39Gsx",
    "outputId": "87c7c364-a1b2-406a-eaa6-34fea1af4a55"
   },
   "outputs": [
    {
     "data": {
      "text/plain": [
       "(True, True)"
      ]
     },
     "execution_count": 97,
     "metadata": {},
     "output_type": "execute_result"
    }
   ],
   "source": [
    "bool(-2), bool(-12.3)"
   ]
  },
  {
   "cell_type": "markdown",
   "metadata": {
    "id": "uxPh8Zt99LIr"
   },
   "source": [
    "Для `str`: пустые строки - в `False`, остальное - в `True`:"
   ]
  },
  {
   "cell_type": "code",
   "execution_count": null,
   "metadata": {
    "colab": {
     "base_uri": "https://localhost:8080/"
    },
    "id": "TD-43Rhh9MF2",
    "outputId": "55d450a0-709d-4fba-a12a-f59a1881145b"
   },
   "outputs": [
    {
     "data": {
      "text/plain": [
       "(False, True)"
      ]
     },
     "execution_count": 98,
     "metadata": {},
     "output_type": "execute_result"
    }
   ],
   "source": [
    "bool(''), bool('a')"
   ]
  },
  {
   "cell_type": "code",
   "execution_count": null,
   "metadata": {
    "colab": {
     "base_uri": "https://localhost:8080/"
    },
    "id": "7KSVHDDJ1F-f",
    "outputId": "29b0e425-82ca-4fa3-904c-7d66fa024171"
   },
   "outputs": [
    {
     "data": {
      "text/plain": [
       "False"
      ]
     },
     "execution_count": 99,
     "metadata": {},
     "output_type": "execute_result"
    }
   ],
   "source": [
    "bool(None)"
   ]
  },
  {
   "cell_type": "code",
   "execution_count": null,
   "metadata": {
    "colab": {
     "base_uri": "https://localhost:8080/"
    },
    "id": "jIw0OVzZ1a2G",
    "outputId": "e8f15cd8-8a68-49ab-9328-b1f39dcdd347"
   },
   "outputs": [
    {
     "data": {
      "text/plain": [
       "True"
      ]
     },
     "execution_count": 100,
     "metadata": {},
     "output_type": "execute_result"
    }
   ],
   "source": [
    "bool(1+0j)"
   ]
  },
  {
   "cell_type": "code",
   "execution_count": null,
   "metadata": {
    "colab": {
     "base_uri": "https://localhost:8080/"
    },
    "id": "1GQHB-3i1dbD",
    "outputId": "f37f763f-8e79-40ed-f097-4c02ad03370e"
   },
   "outputs": [
    {
     "data": {
      "text/plain": [
       "True"
      ]
     },
     "execution_count": 101,
     "metadata": {},
     "output_type": "execute_result"
    }
   ],
   "source": [
    "bool(0+1j)"
   ]
  },
  {
   "cell_type": "code",
   "execution_count": null,
   "metadata": {
    "colab": {
     "base_uri": "https://localhost:8080/"
    },
    "id": "I9K6I52u1gbs",
    "outputId": "7d767507-a731-473c-f96d-700b8000e367"
   },
   "outputs": [
    {
     "data": {
      "text/plain": [
       "False"
      ]
     },
     "execution_count": 102,
     "metadata": {},
     "output_type": "execute_result"
    }
   ],
   "source": [
    "bool(0+0j)"
   ]
  },
  {
   "cell_type": "markdown",
   "metadata": {
    "id": "7j6pHZG0quBZ",
    "pycharm": {
     "name": "#%% md\n"
    }
   },
   "source": [
    "### Операторы сравнения"
   ]
  },
  {
   "cell_type": "markdown",
   "metadata": {
    "id": "_-iRqumnEOEo"
   },
   "source": [
    "- `<`, `<=` - \"меньше\", \"меньше или равно\"\n",
    "- `>`, `>=` - \"больше\", \"больше или равно\"\n",
    "- `==`, `!=` - \"равно\", \"не равно\""
   ]
  },
  {
   "cell_type": "code",
   "execution_count": null,
   "metadata": {
    "colab": {
     "base_uri": "https://localhost:8080/"
    },
    "id": "zDXk3vzXquBZ",
    "outputId": "1d3588ff-f65d-4795-9676-f401af2f55bf",
    "pycharm": {
     "name": "#%%\n"
    }
   },
   "outputs": [
    {
     "data": {
      "text/plain": [
       "True"
      ]
     },
     "execution_count": 103,
     "metadata": {},
     "output_type": "execute_result"
    }
   ],
   "source": [
    "4 < 5"
   ]
  },
  {
   "cell_type": "code",
   "execution_count": null,
   "metadata": {
    "colab": {
     "base_uri": "https://localhost:8080/"
    },
    "id": "k7n5RQWXEmcH",
    "outputId": "71660899-2523-4f3f-b094-847cca972a2a"
   },
   "outputs": [
    {
     "data": {
      "text/plain": [
       "True"
      ]
     },
     "execution_count": 104,
     "metadata": {},
     "output_type": "execute_result"
    }
   ],
   "source": [
    "3 >= 2"
   ]
  },
  {
   "cell_type": "code",
   "execution_count": null,
   "metadata": {
    "colab": {
     "base_uri": "https://localhost:8080/"
    },
    "id": "ohEh-Dh_EnhT",
    "outputId": "fbd7ceda-20bb-445a-bae1-c97870f94619"
   },
   "outputs": [
    {
     "data": {
      "text/plain": [
       "False"
      ]
     },
     "execution_count": 105,
     "metadata": {},
     "output_type": "execute_result"
    }
   ],
   "source": [
    "1 != 1"
   ]
  },
  {
   "cell_type": "markdown",
   "metadata": {
    "id": "lVO41WlLquBZ",
    "pycharm": {
     "name": "#%% md\n"
    }
   },
   "source": [
    "Также можно сравнивать строки, списки и кортежи. Сравнение происходит лексикографически (как в словаре):"
   ]
  },
  {
   "cell_type": "markdown",
   "metadata": {
    "id": "UXsked8tOFGT"
   },
   "source": [
    "ASCII"
   ]
  },
  {
   "cell_type": "code",
   "execution_count": null,
   "metadata": {
    "colab": {
     "base_uri": "https://localhost:8080/"
    },
    "id": "nTMo-9HtquBZ",
    "outputId": "ce697319-cfb7-46fd-d3ea-a789f860f7a3",
    "pycharm": {
     "name": "#%%\n"
    }
   },
   "outputs": [
    {
     "data": {
      "text/plain": [
       "True"
      ]
     },
     "execution_count": 106,
     "metadata": {},
     "output_type": "execute_result"
    }
   ],
   "source": [
    "'a' < 'b'"
   ]
  },
  {
   "cell_type": "code",
   "execution_count": null,
   "metadata": {
    "colab": {
     "base_uri": "https://localhost:8080/"
    },
    "id": "uwYCFHc7Eum9",
    "outputId": "748a30cf-c8b9-4b17-8bfe-711e5d796be7"
   },
   "outputs": [
    {
     "data": {
      "text/plain": [
       "True"
      ]
     },
     "execution_count": 107,
     "metadata": {},
     "output_type": "execute_result"
    }
   ],
   "source": [
    "'aa' < 'ab'"
   ]
  },
  {
   "cell_type": "code",
   "execution_count": null,
   "metadata": {
    "colab": {
     "base_uri": "https://localhost:8080/"
    },
    "id": "W6KRrul0EwCB",
    "outputId": "88ee3bcb-06be-433c-c96f-507ce9d82d12"
   },
   "outputs": [
    {
     "data": {
      "text/plain": [
       "True"
      ]
     },
     "execution_count": 108,
     "metadata": {},
     "output_type": "execute_result"
    }
   ],
   "source": [
    "'aaaa' < 'ab'"
   ]
  },
  {
   "cell_type": "code",
   "execution_count": null,
   "metadata": {
    "colab": {
     "base_uri": "https://localhost:8080/"
    },
    "id": "Cbrz3b-jOLRB",
    "outputId": "cb7ed3ed-745c-4133-f7e1-ffd70585b10c"
   },
   "outputs": [
    {
     "data": {
      "text/plain": [
       "True"
      ]
     },
     "execution_count": 109,
     "metadata": {},
     "output_type": "execute_result"
    }
   ],
   "source": [
    "'A' < 'a'"
   ]
  },
  {
   "cell_type": "code",
   "execution_count": null,
   "metadata": {
    "colab": {
     "base_uri": "https://localhost:8080/"
    },
    "id": "0cN58JgUOQqk",
    "outputId": "c2798414-4632-447c-db3a-35a1684554ea"
   },
   "outputs": [
    {
     "data": {
      "text/plain": [
       "True"
      ]
     },
     "execution_count": 110,
     "metadata": {},
     "output_type": "execute_result"
    }
   ],
   "source": [
    "'1' < 'A'"
   ]
  },
  {
   "cell_type": "markdown",
   "metadata": {
    "id": "F7eH0PevSV2G"
   },
   "source": [
    "Помнить какому символу какой порядкой номер в ASCII-таблице соответствует не обязательно, для этого есть функция `ord` и обратная к ней - `chr`:"
   ]
  },
  {
   "cell_type": "code",
   "execution_count": null,
   "metadata": {
    "colab": {
     "base_uri": "https://localhost:8080/"
    },
    "id": "kdN-k8w7SjQb",
    "outputId": "a615dcb4-60cd-48c1-8ba7-0ebc075e6888"
   },
   "outputs": [
    {
     "data": {
      "text/plain": [
       "(49, 65, 90, 1071)"
      ]
     },
     "execution_count": 120,
     "metadata": {},
     "output_type": "execute_result"
    }
   ],
   "source": [
    "ord('1'), ord('A'), ord('Z'), ord('Я')"
   ]
  },
  {
   "cell_type": "code",
   "execution_count": null,
   "metadata": {
    "colab": {
     "base_uri": "https://localhost:8080/"
    },
    "id": "VYbodTBlSvWI",
    "outputId": "579cc27f-aaeb-43eb-da2a-8dd9d0f156bc"
   },
   "outputs": [
    {
     "data": {
      "text/plain": [
       "('1', 'A', 'Z', 'Я')"
      ]
     },
     "execution_count": 121,
     "metadata": {},
     "output_type": "execute_result"
    }
   ],
   "source": [
    "chr(ord('1')), chr(ord('A')), chr(ord('Z')), chr(ord('Я'))"
   ]
  },
  {
   "cell_type": "markdown",
   "metadata": {
    "id": "_nyQDoisquBY",
    "pycharm": {
     "name": "#%% md\n"
    }
   },
   "source": [
    "### Логические операторы"
   ]
  },
  {
   "cell_type": "markdown",
   "metadata": {
    "id": "GmrGTRYf_rm3"
   },
   "source": [
    "Python позволять логические операции:\n",
    "\n",
    "- `and` - логическое И, логическое произведение\n",
    "- `or` - логическое ИЛИ, логическая сумма\n",
    "- `not` - логическое НЕ"
   ]
  },
  {
   "cell_type": "code",
   "execution_count": null,
   "metadata": {
    "id": "XmdFzdRtquBY",
    "pycharm": {
     "name": "#%%\n"
    }
   },
   "outputs": [],
   "source": [
    "a, b = True, False"
   ]
  },
  {
   "cell_type": "code",
   "execution_count": null,
   "metadata": {
    "colab": {
     "base_uri": "https://localhost:8080/"
    },
    "id": "D5SfOexHATPj",
    "outputId": "a3ba1264-4469-43e1-a0b5-42f3a53bfb3d"
   },
   "outputs": [
    {
     "data": {
      "text/plain": [
       "False"
      ]
     },
     "execution_count": 112,
     "metadata": {},
     "output_type": "execute_result"
    }
   ],
   "source": [
    "a and b"
   ]
  },
  {
   "cell_type": "code",
   "execution_count": null,
   "metadata": {
    "colab": {
     "base_uri": "https://localhost:8080/"
    },
    "id": "hYKSDKRlAQie",
    "outputId": "2429e9ac-d1ec-452e-83d7-71f05f2a2a9a"
   },
   "outputs": [
    {
     "data": {
      "text/plain": [
       "True"
      ]
     },
     "execution_count": 113,
     "metadata": {},
     "output_type": "execute_result"
    }
   ],
   "source": [
    "a or b"
   ]
  },
  {
   "cell_type": "code",
   "execution_count": null,
   "metadata": {
    "colab": {
     "base_uri": "https://localhost:8080/"
    },
    "id": "ID4Z83_gAP8T",
    "outputId": "44ae1f24-9db7-4726-c636-a3cf777ca5c5"
   },
   "outputs": [
    {
     "data": {
      "text/plain": [
       "True"
      ]
     },
     "execution_count": 114,
     "metadata": {},
     "output_type": "execute_result"
    }
   ],
   "source": [
    "not b"
   ]
  },
  {
   "cell_type": "markdown",
   "metadata": {
    "id": "LhSnCM7hNTRQ"
   },
   "source": [
    "## Ввод-вывод данных"
   ]
  },
  {
   "cell_type": "markdown",
   "metadata": {
    "id": "95zsf3_M39Ce"
   },
   "source": [
    "Для считывания данных из `stdin` (стандартный ввод) используется функция `input()`:"
   ]
  },
  {
   "cell_type": "code",
   "execution_count": null,
   "metadata": {
    "colab": {
     "base_uri": "https://localhost:8080/",
     "height": 53
    },
    "id": "Bm-LfKbwquBa",
    "outputId": "71bb6a11-b23a-4530-ab92-71e339b4a335",
    "pycharm": {
     "name": "#%%\n"
    }
   },
   "outputs": [
    {
     "name": "stdout",
     "output_type": "stream",
     "text": [
      "Hello!\n"
     ]
    },
    {
     "data": {
      "application/vnd.google.colaboratory.intrinsic+json": {
       "type": "string"
      },
      "text/plain": [
       "'Hello!'"
      ]
     },
     "execution_count": 122,
     "metadata": {},
     "output_type": "execute_result"
    }
   ],
   "source": [
    "t = input()\n",
    "t"
   ]
  },
  {
   "cell_type": "code",
   "execution_count": null,
   "metadata": {
    "colab": {
     "base_uri": "https://localhost:8080/",
     "height": 53
    },
    "id": "yiu_rAxOquBa",
    "outputId": "74f2a7f3-f112-4dfa-9a21-6ceee3bd0406",
    "pycharm": {
     "name": "#%%\n"
    }
   },
   "outputs": [
    {
     "name": "stdout",
     "output_type": "stream",
     "text": [
      "Input here: Hi!\n"
     ]
    },
    {
     "data": {
      "application/vnd.google.colaboratory.intrinsic+json": {
       "type": "string"
      },
      "text/plain": [
       "'Hi!'"
      ]
     },
     "execution_count": 123,
     "metadata": {},
     "output_type": "execute_result"
    }
   ],
   "source": [
    "s = input(\"Input here: \")\n",
    "s"
   ]
  },
  {
   "cell_type": "markdown",
   "metadata": {
    "id": "UEMuMeBBquBa",
    "pycharm": {
     "name": "#%% md\n"
    }
   },
   "source": [
    "Для вывода данных в `stdout` (стандартный вывод) используется `print()`:"
   ]
  },
  {
   "cell_type": "code",
   "execution_count": null,
   "metadata": {
    "colab": {
     "base_uri": "https://localhost:8080/"
    },
    "id": "8o0Ym6ErNXim",
    "outputId": "02f85d07-ba19-483a-d00a-748b7f17bd69"
   },
   "outputs": [
    {
     "name": "stdout",
     "output_type": "stream",
     "text": [
      "Hello!Hi!\n"
     ]
    }
   ],
   "source": [
    "print(t, end='')\n",
    "print(s)"
   ]
  },
  {
   "cell_type": "code",
   "execution_count": null,
   "metadata": {
    "colab": {
     "base_uri": "https://localhost:8080/"
    },
    "id": "D4IKMP58quBb",
    "outputId": "c95ca4af-8372-40c2-8deb-61677d8815a8",
    "pycharm": {
     "name": "#%%\n"
    }
   },
   "outputs": [
    {
     "name": "stdout",
     "output_type": "stream",
     "text": [
      "spam_and_eggs!"
     ]
    }
   ],
   "source": [
    "print('spam', 'and', 'eggs', end='!', sep='_')"
   ]
  },
  {
   "cell_type": "code",
   "execution_count": null,
   "metadata": {
    "colab": {
     "base_uri": "https://localhost:8080/"
    },
    "id": "7gTX2BDNquBb",
    "outputId": "e59d46ce-aa01-4cf1-e846-e77d4434fe4d",
    "pycharm": {
     "name": "#%%\n"
    }
   },
   "outputs": [
    {
     "name": "stdout",
     "output_type": "stream",
     "text": [
      "end"
     ]
    }
   ],
   "source": [
    "print('e', end='')\n",
    "print('n', end='')\n",
    "print('d', end='')"
   ]
  },
  {
   "cell_type": "markdown",
   "metadata": {
    "id": "WoZJngHcl9Am"
   },
   "source": [
    "Также можно считывать сразу числа:"
   ]
  },
  {
   "cell_type": "code",
   "execution_count": null,
   "metadata": {
    "colab": {
     "base_uri": "https://localhost:8080/"
    },
    "id": "SZuxuuYimC1Q",
    "outputId": "062894e7-50bd-48c8-ed02-484f0b8a2c49"
   },
   "outputs": [
    {
     "name": "stdout",
     "output_type": "stream",
     "text": [
      "10\n"
     ]
    },
    {
     "data": {
      "text/plain": [
       "(10, int)"
      ]
     },
     "execution_count": 183,
     "metadata": {},
     "output_type": "execute_result"
    }
   ],
   "source": [
    "a = int(input())\n",
    "\n",
    "a, type(a)"
   ]
  },
  {
   "cell_type": "markdown",
   "metadata": {
    "id": "NfyWjgpYmU5A"
   },
   "source": [
    "Считывать можно сразу массивы чисел(подробнее о том, что происходит на этой строке будет далее в курсе):"
   ]
  },
  {
   "cell_type": "code",
   "execution_count": null,
   "metadata": {
    "colab": {
     "base_uri": "https://localhost:8080/"
    },
    "id": "g0Xi7hiqmQuG",
    "outputId": "21010638-4e36-4c28-8421-2d433d538ab9"
   },
   "outputs": [
    {
     "name": "stdout",
     "output_type": "stream",
     "text": [
      "12 3 4 5 \n"
     ]
    },
    {
     "data": {
      "text/plain": [
       "[12, 3, 4, 5]"
      ]
     },
     "execution_count": 184,
     "metadata": {},
     "output_type": "execute_result"
    }
   ],
   "source": [
    "a = list(map(int, input().strip().split()))\n",
    "\n",
    "a"
   ]
  },
  {
   "cell_type": "markdown",
   "metadata": {
    "id": "AAxAzHdKUN-M"
   },
   "source": [
    "Также можно читать данные из файлов, подробнее об этом [тут](https://docs.python.org/3/tutorial/inputoutput.html#reading-and-writing-files)."
   ]
  },
  {
   "cell_type": "markdown",
   "metadata": {
    "id": "YpTH9u93NXOH"
   },
   "source": [
    "## Списки и кортежи"
   ]
  },
  {
   "cell_type": "markdown",
   "metadata": {
    "id": "f8kGpDiBPW6Q"
   },
   "source": [
    "**Контейнеры** - типы данных, экземпляры (т.е. переменные этих типов данных) которых содержат в себе один или несколько других элементов.\n",
    "\n",
    "**Основные встроенные контейнеры:**\n",
    "- `list` - список\n",
    "- `tuple` - кортеж\n",
    "- `dict` - словарь\n",
    "- `set` - множество"
   ]
  },
  {
   "cell_type": "markdown",
   "metadata": {
    "id": "SJMmTgHYXkvF"
   },
   "source": [
    "В данном ноутбуке будут рассмотрены только `list` и `tuple`, другие контейнеры - в курсе позднее."
   ]
  },
  {
   "cell_type": "markdown",
   "metadata": {
    "id": "sAjK_o5P7g3y"
   },
   "source": [
    "### `list`"
   ]
  },
  {
   "cell_type": "markdown",
   "metadata": {
    "id": "ebtJifoUtZLi"
   },
   "source": [
    "**List** (cписок, массив, лист) - контейнер, в котором доступ к его элементам предоставляется по индексу (порядковому номеру). Можно добавлять, удалять и изменять элемента.\n",
    "\n",
    "Аналогичен `vector` из C++, но может содержать элементы разных типов (в том числе может содержать контейнеры)."
   ]
  },
  {
   "cell_type": "markdown",
   "metadata": {
    "id": "j6KrQRACNrrb"
   },
   "source": [
    "#### Создание списков"
   ]
  },
  {
   "cell_type": "markdown",
   "metadata": {
    "id": "oYKo2bnhNuLr"
   },
   "source": [
    "Чтобы создать пустой список, можно использовать либо пустые квадратные скобки `[]`, либо использовать функцию `list()`:"
   ]
  },
  {
   "cell_type": "code",
   "execution_count": 1,
   "metadata": {
    "colab": {
     "base_uri": "https://localhost:8080/"
    },
    "id": "KAiiJAqh7dS7",
    "outputId": "67085e88-06c4-4bb4-9a12-4112db282ea2"
   },
   "outputs": [
    {
     "name": "stdout",
     "output_type": "stream",
     "text": [
      "True\n"
     ]
    }
   ],
   "source": [
    "a = []\n",
    "b = list()\n",
    "\n",
    "# убедимся, что два варианта создания пустого массива эквивалентны:\n",
    "print(a == b)"
   ]
  },
  {
   "cell_type": "code",
   "execution_count": 3,
   "metadata": {
    "colab": {
     "base_uri": "https://localhost:8080/"
    },
    "id": "qgHqoI3AquBO",
    "outputId": "ebbbdb5b-4bf4-49ef-baba-c54668ee2917"
   },
   "outputs": [
    {
     "data": {
      "text/plain": [
       "[1, 2.0, 'string!', [None], False]"
      ]
     },
     "execution_count": 3,
     "metadata": {},
     "output_type": "execute_result"
    }
   ],
   "source": [
    "list_with_diff_basic_types = [1, 2.0, 'string!', [None], False]  # или list(...)\n",
    "list_with_diff_basic_types"
   ]
  },
  {
   "cell_type": "code",
   "execution_count": 4,
   "metadata": {
    "colab": {
     "base_uri": "https://localhost:8080/"
    },
    "id": "-IhwQZvQahE5",
    "outputId": "35254dd3-fc3c-44d8-c8be-76183669b237"
   },
   "outputs": [
    {
     "data": {
      "text/plain": [
       "['smart-watch', 'notebook', 'iphone']"
      ]
     },
     "execution_count": 4,
     "metadata": {},
     "output_type": "execute_result"
    }
   ],
   "source": [
    "wish_list = [\"smart-watch\", \"notebook\", \"iphone\"]\n",
    "wish_list"
   ]
  },
  {
   "cell_type": "markdown",
   "metadata": {
    "id": "bYDlKirtNwyo"
   },
   "source": [
    "#### Индексация"
   ]
  },
  {
   "cell_type": "markdown",
   "metadata": {
    "id": "coFlITwkaMJo"
   },
   "source": [
    "Можно получить доступ к конкретному элементу по его индексу, нумерация с 0 по индексу:"
   ]
  },
  {
   "cell_type": "code",
   "execution_count": 7,
   "metadata": {
    "colab": {
     "base_uri": "https://localhost:8080/"
    },
    "id": "dJKDF28hquBO",
    "outputId": "23f70905-a3a5-4a7d-9ea7-a32ab81e6fda"
   },
   "outputs": [
    {
     "data": {
      "text/plain": [
       "('smart-watch', 'notebook')"
      ]
     },
     "execution_count": 7,
     "metadata": {},
     "output_type": "execute_result"
    }
   ],
   "source": [
    "wish_list[0], wish_list[1]"
   ]
  },
  {
   "cell_type": "markdown",
   "metadata": {
    "id": "Z03Xtm-s6HhL"
   },
   "source": [
    "Индексы в Python могут быть и отрицательными! С помощью отрицательных индексов можно удобно получать доступ к элементам с конца списка.\n",
    "\n",
    "Например, чтобы получить последний и предпоследний элементы списка, можем использовать индексы `-1` и `-2`, соответственно:"
   ]
  },
  {
   "cell_type": "code",
   "execution_count": 10,
   "metadata": {
    "colab": {
     "base_uri": "https://localhost:8080/"
    },
    "id": "PTtoHBM_6iLC",
    "outputId": "476aaa2d-3404-436a-e7e2-cf41e506c956"
   },
   "outputs": [
    {
     "name": "stdout",
     "output_type": "stream",
     "text": [
      "Список: ['smart-watch', 'notebook', 'iphone']\n",
      "Последний элемент: iphone\n",
      "Предпоследний элемент: notebook\n"
     ]
    }
   ],
   "source": [
    "print(\"Список:\", wish_list)\n",
    "print(\"Последний элемент:\", wish_list[-1])\n",
    "print(\"Предпоследний элемент:\", wish_list[-2])"
   ]
  },
  {
   "cell_type": "markdown",
   "metadata": {
    "id": "5vcrilnH0hkO"
   },
   "source": [
    "Если элемента с запрашиваемым индексом нет, Python выдаст ошибку:"
   ]
  },
  {
   "cell_type": "code",
   "execution_count": 13,
   "metadata": {
    "colab": {
     "base_uri": "https://localhost:8080/",
     "height": 141
    },
    "id": "OH3w6Pgd6nH_",
    "outputId": "b2c63bca-6fa9-44c6-edbb-f81d0391e788"
   },
   "outputs": [
    {
     "ename": "IndexError",
     "evalue": "list index out of range",
     "output_type": "error",
     "traceback": [
      "\u001b[1;31m---------------------------------------------------------------------------\u001b[0m",
      "\u001b[1;31mIndexError\u001b[0m                                Traceback (most recent call last)",
      "Cell \u001b[1;32mIn[13], line 1\u001b[0m\n\u001b[1;32m----> 1\u001b[0m wish_list[\u001b[38;5;241m10\u001b[39m]\n",
      "\u001b[1;31mIndexError\u001b[0m: list index out of range"
     ]
    }
   ],
   "source": [
    "wish_list[10]"
   ]
  },
  {
   "cell_type": "markdown",
   "metadata": {
    "id": "DX6Q8-wLM26s"
   },
   "source": [
    "В качестве индексов можно (и очень часто нужно) использовать переменные! Главное - чтобы они были типа `int`."
   ]
  },
  {
   "cell_type": "code",
   "execution_count": 15,
   "metadata": {
    "colab": {
     "base_uri": "https://localhost:8080/"
    },
    "id": "dZ64uk_w77H9",
    "outputId": "257b1b99-8c90-4e2a-9632-48a4a730795d"
   },
   "outputs": [
    {
     "name": "stdout",
     "output_type": "stream",
     "text": [
      "['smart-watch', 'notebook', 'iphone']\n",
      "smart-watch\n"
     ]
    }
   ],
   "source": [
    "index = 0\n",
    "print(wish_list)\n",
    "print(wish_list[index])"
   ]
  },
  {
   "cell_type": "markdown",
   "metadata": {
    "id": "EKj8QJOQZfD6"
   },
   "source": [
    "Если тип индекса не int, то будет ошибка:\n",
    "\n"
   ]
  },
  {
   "cell_type": "code",
   "execution_count": 18,
   "metadata": {
    "colab": {
     "base_uri": "https://localhost:8080/",
     "height": 141
    },
    "id": "oOsusjZJP2ty",
    "outputId": "daa25621-9b1b-4a64-9e12-4668e67a6a96"
   },
   "outputs": [
    {
     "ename": "TypeError",
     "evalue": "list indices must be integers or slices, not float",
     "output_type": "error",
     "traceback": [
      "\u001b[1;31m---------------------------------------------------------------------------\u001b[0m",
      "\u001b[1;31mTypeError\u001b[0m                                 Traceback (most recent call last)",
      "Cell \u001b[1;32mIn[18], line 1\u001b[0m\n\u001b[1;32m----> 1\u001b[0m wish_list[\u001b[38;5;241m1.0\u001b[39m]\n",
      "\u001b[1;31mTypeError\u001b[0m: list indices must be integers or slices, not float"
     ]
    }
   ],
   "source": [
    "wish_list[1.0]"
   ]
  },
  {
   "cell_type": "markdown",
   "metadata": {
    "id": "5565uhIk8Cdi"
   },
   "source": [
    "Внутри квадратных скобок также можно использовать арифметические операции и вызывать функции:"
   ]
  },
  {
   "cell_type": "code",
   "execution_count": 21,
   "metadata": {
    "colab": {
     "base_uri": "https://localhost:8080/"
    },
    "id": "Ugcpwjkx8Kd3",
    "outputId": "bdf6b51f-6e91-47fb-c93f-0644de0203eb"
   },
   "outputs": [
    {
     "name": "stdout",
     "output_type": "stream",
     "text": [
      "['smart-watch', 'notebook', 'iphone']\n",
      "notebook\n"
     ]
    }
   ],
   "source": [
    "print(wish_list)\n",
    "print(wish_list[2 * index + int(1.0)])"
   ]
  },
  {
   "cell_type": "markdown",
   "metadata": {
    "id": "FwwbotrXN23d"
   },
   "source": [
    "#### Изменение списков"
   ]
  },
  {
   "cell_type": "markdown",
   "metadata": {
    "id": "PCKNefrTaVgj"
   },
   "source": [
    "Например, нам захотелось купить машину, добавим ее в наш список желаний с помощью функции `append`:"
   ]
  },
  {
   "cell_type": "code",
   "execution_count": 25,
   "metadata": {
    "colab": {
     "base_uri": "https://localhost:8080/"
    },
    "id": "oaa2ElzcquBO",
    "outputId": "5f319ae6-d723-41f0-b2d6-cb1aaf1ec23d"
   },
   "outputs": [
    {
     "data": {
      "text/plain": [
       "['smart-watch', 'notebook', 'iphone', 'car']"
      ]
     },
     "execution_count": 25,
     "metadata": {},
     "output_type": "execute_result"
    }
   ],
   "source": [
    "wish_list.append('car')\n",
    "wish_list"
   ]
  },
  {
   "cell_type": "code",
   "execution_count": 27,
   "metadata": {},
   "outputs": [
    {
     "data": {
      "text/plain": [
       "['smart-watch', 'dog', 'notebook', 'iphone', 'car']"
      ]
     },
     "execution_count": 27,
     "metadata": {},
     "output_type": "execute_result"
    }
   ],
   "source": [
    "wish_list.insert(1, 'dog')\n",
    "wish_list"
   ]
  },
  {
   "cell_type": "markdown",
   "metadata": {
    "id": "rqt31L4VQTfx"
   },
   "source": [
    "Например, мы уже купили iphone, удалим его из нашего списка желаний с помощью функции `remove`:"
   ]
  },
  {
   "cell_type": "code",
   "execution_count": 29,
   "metadata": {
    "colab": {
     "base_uri": "https://localhost:8080/"
    },
    "id": "kawQJ1nLquBP",
    "outputId": "134f76f9-45cd-4304-f039-18bc3b93bb89"
   },
   "outputs": [
    {
     "data": {
      "text/plain": [
       "['smart-watch', 'dog', 'notebook', 'car']"
      ]
     },
     "execution_count": 29,
     "metadata": {},
     "output_type": "execute_result"
    }
   ],
   "source": [
    "wish_list.remove(\"iphone\")\n",
    "wish_list"
   ]
  },
  {
   "cell_type": "markdown",
   "metadata": {
    "id": "6iki5eSy7w-H"
   },
   "source": [
    "Удалить и получить элемент с конца массива можно с помощью другой функции - `pop`:"
   ]
  },
  {
   "cell_type": "code",
   "execution_count": 32,
   "metadata": {
    "colab": {
     "base_uri": "https://localhost:8080/"
    },
    "id": "wunFxb7U7v-z",
    "outputId": "3a1c3f26-9456-4e01-e62a-f08b3d235d47"
   },
   "outputs": [
    {
     "name": "stdout",
     "output_type": "stream",
     "text": [
      "['smart-watch', 'dog', 'notebook']\n",
      "car\n"
     ]
    }
   ],
   "source": [
    "a = wish_list.pop()\n",
    "print(wish_list)\n",
    "print(a)\n",
    "wish_list.append(a) # добавим элемент, чтобы далее с ним работать"
   ]
  },
  {
   "cell_type": "markdown",
   "metadata": {
    "id": "frGoltjHeqyr"
   },
   "source": [
    "Если нужно удалить элемент по индексу, можно в методе `pop` указать индекс:"
   ]
  },
  {
   "cell_type": "code",
   "execution_count": 34,
   "metadata": {
    "colab": {
     "base_uri": "https://localhost:8080/"
    },
    "id": "Yd2blgLReyUP",
    "outputId": "417b0d38-8497-4810-cf3d-73473b897725"
   },
   "outputs": [
    {
     "name": "stdout",
     "output_type": "stream",
     "text": [
      "['smart-watch', 'notebook', 'car']\n",
      "dog\n"
     ]
    }
   ],
   "source": [
    "a = wish_list.pop(1)\n",
    "print(wish_list)\n",
    "print(a)\n",
    "wish_list.append(a)"
   ]
  },
  {
   "cell_type": "markdown",
   "metadata": {
    "id": "hVmANw2r06Rn"
   },
   "source": [
    "Уточним модель смарт-часов в нашем `wish_list`\n",
    "\n",
    "Можно изменять отдельные элементы списка:"
   ]
  },
  {
   "cell_type": "code",
   "execution_count": 37,
   "metadata": {
    "colab": {
     "base_uri": "https://localhost:8080/"
    },
    "id": "eXuvMS0H7jnS",
    "outputId": "3348e714-8653-4f43-fc52-7c4174b74f7b"
   },
   "outputs": [
    {
     "name": "stdout",
     "output_type": "stream",
     "text": [
      "До изменения:\t\t['smart-watch', 'notebook', 'car', 'dog']\n",
      "После изменения:\t['smart-watch xiaomi s1', 'notebook', 'car', 'dog']\n"
     ]
    }
   ],
   "source": [
    "# Здесь и далее сепаратор '\\t\\t' и '\\t' добавляется исключительно для красоты\n",
    "\n",
    "print(\"До изменения:\", wish_list, sep='\\t\\t')\n",
    "\n",
    "wish_list[0] = \"smart-watch xiaomi s1\"\n",
    "print(\"После изменения:\", wish_list, sep='\\t')"
   ]
  },
  {
   "cell_type": "markdown",
   "metadata": {
    "id": "22QdlDP7N7GO"
   },
   "source": [
    "#### Арифметические действия со списками"
   ]
  },
  {
   "cell_type": "markdown",
   "metadata": {
    "id": "QLTkbd5HMkZd"
   },
   "source": [
    "Списки можно складывать. Результатом сложения двух списков будет новый список, в котором сначала будут записаны элементы первого списка, затем - второго:"
   ]
  },
  {
   "cell_type": "code",
   "execution_count": null,
   "metadata": {
    "colab": {
     "base_uri": "https://localhost:8080/"
    },
    "id": "uuyrk1lCMw_a",
    "outputId": "72e36873-bf3e-4fa2-f252-cb95f07e0023"
   },
   "outputs": [
    {
     "name": "stdout",
     "output_type": "stream",
     "text": [
      "[1, 2, 3, 4, 5, 6]\n"
     ]
    }
   ],
   "source": [
    "a = [1, 2, 3]\n",
    "b = [4, 5, 6]\n",
    "\n",
    "print(a + b)"
   ]
  },
  {
   "cell_type": "markdown",
   "metadata": {
    "id": "9ww0LNGYNPdd"
   },
   "source": [
    "Вычитать списки нельзя:"
   ]
  },
  {
   "cell_type": "code",
   "execution_count": null,
   "metadata": {
    "colab": {
     "base_uri": "https://localhost:8080/",
     "height": 141
    },
    "id": "C9aTz0a-NQ_p",
    "outputId": "2cfc9399-3614-46a6-de43-cc8dff3d2a17"
   },
   "outputs": [
    {
     "ename": "TypeError",
     "evalue": "unsupported operand type(s) for -: 'list' and 'list'",
     "output_type": "error",
     "traceback": [
      "\u001b[0;31m---------------------------------------------------------------------------\u001b[0m",
      "\u001b[0;31mTypeError\u001b[0m                                 Traceback (most recent call last)",
      "\u001b[0;32m<ipython-input-99-d4b8d57058ea>\u001b[0m in \u001b[0;36m<cell line: 1>\u001b[0;34m()\u001b[0m\n\u001b[0;32m----> 1\u001b[0;31m \u001b[0mprint\u001b[0m\u001b[0;34m(\u001b[0m\u001b[0ma\u001b[0m \u001b[0;34m-\u001b[0m \u001b[0mb\u001b[0m\u001b[0;34m)\u001b[0m\u001b[0;34m\u001b[0m\u001b[0;34m\u001b[0m\u001b[0m\n\u001b[0m",
      "\u001b[0;31mTypeError\u001b[0m: unsupported operand type(s) for -: 'list' and 'list'"
     ]
    }
   ],
   "source": [
    "print(a - b)"
   ]
  },
  {
   "cell_type": "markdown",
   "metadata": {
    "id": "GiEwhxWV2-N7"
   },
   "source": [
    "Как и строки, списки можно домножать на целое число:"
   ]
  },
  {
   "cell_type": "code",
   "execution_count": null,
   "metadata": {
    "colab": {
     "base_uri": "https://localhost:8080/"
    },
    "id": "5mahyqZV4B0V",
    "outputId": "3228ddee-90d6-41f1-c4b4-150f654b4372"
   },
   "outputs": [
    {
     "data": {
      "text/plain": [
       "[2, 3, 4, 2, 3, 4, 2, 3, 4]"
      ]
     },
     "execution_count": 100,
     "metadata": {},
     "output_type": "execute_result"
    }
   ],
   "source": [
    "[2, 3, 4] * 3"
   ]
  },
  {
   "cell_type": "markdown",
   "metadata": {
    "id": "KMhMrsf_N-tA"
   },
   "source": [
    "#### Проверка вхождения элемента"
   ]
  },
  {
   "cell_type": "markdown",
   "metadata": {
    "id": "rl0IUz6cHYc4"
   },
   "source": [
    "Для проверки, есть ли в списке какой-либо элемент, используем оператор `in`:"
   ]
  },
  {
   "cell_type": "code",
   "execution_count": null,
   "metadata": {
    "colab": {
     "base_uri": "https://localhost:8080/"
    },
    "id": "hMteQ6BHHhw2",
    "outputId": "5bfe4c33-f076-4536-c1d2-bb1e0d033eba"
   },
   "outputs": [
    {
     "name": "stdout",
     "output_type": "stream",
     "text": [
      "['smart-watch xiaomi s1', 'car', 'notebook']\n",
      "False\n",
      "True\n"
     ]
    }
   ],
   "source": [
    "print(wish_list)\n",
    "print(\"iphone\" in wish_list)\n",
    "print(\"car\" in wish_list)"
   ]
  },
  {
   "cell_type": "markdown",
   "metadata": {
    "id": "Q5TZhFzDdFIk"
   },
   "source": [
    "#### Cрезы"
   ]
  },
  {
   "cell_type": "markdown",
   "metadata": {
    "id": "woo413yILQic"
   },
   "source": [
    "В Python имеется удобный способ выбирать диапазон элементов из строк, списков и кортежей. Он называется срез (slicing) и выглядит следующим образом:\n",
    "\n",
    "```python\n",
    "variable[start:stop:step]\n",
    "```\n",
    "где `start` - индекс начала выборки (включается), `stop` - индекс завершения выборки (исключается), `step` - шаг выборки. Если не указывать значения, то берутся значения по умолчанию: `start=0`, `end=len(...)`, `step=1`."
   ]
  },
  {
   "cell_type": "markdown",
   "metadata": {
    "id": "f4IT56kFw0TI"
   },
   "source": [
    ">**Примечание**\n",
    ">\n",
    ">Срезы работают для всех контейнеров, у которых можно получить доступ к их элементам по индексу. С этим мы еще встретимся при работе с библиотеками Python, например, с NumPy."
   ]
  },
  {
   "cell_type": "markdown",
   "metadata": {
    "id": "SNn1B6axwl-W"
   },
   "source": [
    "Рассмотрим на примере:"
   ]
  },
  {
   "cell_type": "code",
   "execution_count": null,
   "metadata": {
    "colab": {
     "base_uri": "https://localhost:8080/"
    },
    "id": "EVy5QxXBLrNk",
    "outputId": "afddf54c-bb2b-447b-9abe-8d4602a78d63"
   },
   "outputs": [
    {
     "name": "stdout",
     "output_type": "stream",
     "text": [
      "bdf\n"
     ]
    }
   ],
   "source": [
    "string = \"abcdefgh\"\n",
    "print(string[1:7:2])"
   ]
  },
  {
   "cell_type": "markdown",
   "metadata": {
    "id": "TczNvOmPMGzj"
   },
   "source": [
    "В итоге мы взяли все элементы, начиная с индекса `1` (b) до индекса `7` (h, исключая) с шагом 2.\n",
    "\n",
    "Аналогично срезы работают и для списков и кортежей:"
   ]
  },
  {
   "cell_type": "code",
   "execution_count": null,
   "metadata": {
    "colab": {
     "base_uri": "https://localhost:8080/"
    },
    "id": "i0zaf-PaMWRN",
    "outputId": "e4f2ef5f-cfe9-4030-9bf2-bdd831183ed1"
   },
   "outputs": [
    {
     "name": "stdout",
     "output_type": "stream",
     "text": [
      "[1, 3, 5]\n"
     ]
    }
   ],
   "source": [
    "list_integers_range = [1, 2, 3, 4, 5]\n",
    "\n",
    "print(list_integers_range[::2])"
   ]
  },
  {
   "cell_type": "markdown",
   "metadata": {
    "id": "fA6sB3jVdFxK"
   },
   "source": [
    "В примере выше взяли все элементы на четных местах(индексы - 0, 2, 4)"
   ]
  },
  {
   "cell_type": "markdown",
   "metadata": {
    "id": "d2EkuA3PPCjz"
   },
   "source": [
    "Шаг необязательно должен быть положительным, что помогает быстро переворачивать список:"
   ]
  },
  {
   "cell_type": "code",
   "execution_count": null,
   "metadata": {
    "colab": {
     "base_uri": "https://localhost:8080/"
    },
    "id": "8ki5Sd92PB0l",
    "outputId": "8b6265d4-45ee-49a4-c78b-78f6544999d0"
   },
   "outputs": [
    {
     "name": "stdout",
     "output_type": "stream",
     "text": [
      "[5, 4, 3, 2, 1]\n"
     ]
    }
   ],
   "source": [
    "print(list_integers_range[::-1])"
   ]
  },
  {
   "cell_type": "markdown",
   "metadata": {
    "id": "zPR_U_B854B6"
   },
   "source": [
    "Списки поддерживают получение нескольких элементов с помощью срезов (slices):"
   ]
  },
  {
   "cell_type": "code",
   "execution_count": null,
   "metadata": {
    "colab": {
     "base_uri": "https://localhost:8080/"
    },
    "id": "0yOFZePI9aID",
    "outputId": "750d0074-c030-4031-997f-e9cc7312eed5"
   },
   "outputs": [
    {
     "name": "stdout",
     "output_type": "stream",
     "text": [
      "[1, 2, 3, 4, 5]\n",
      "[2, 4]\n",
      "[2, 3, 4]\n",
      "[1, 2, 3, 4]\n",
      "[2, 3, 4, 5]\n"
     ]
    }
   ],
   "source": [
    "print(list_integers_range)\n",
    "print(list_integers_range[1:4:2])  # формат \"(индекс начала):(индекс конца, исключая):(шаг)\"\n",
    "print(list_integers_range[1:4])    # шаг по-умолчанию 1\n",
    "print(list_integers_range[:4])     # начало по-умолчанию 0\n",
    "print(list_integers_range[1:])     # конец по-умолчанию - последний индекс"
   ]
  },
  {
   "cell_type": "markdown",
   "metadata": {
    "id": "UXLadWXr-03l"
   },
   "source": [
    "Срезы можно использовать не только для списков, но и для строк:"
   ]
  },
  {
   "cell_type": "code",
   "execution_count": null,
   "metadata": {
    "colab": {
     "base_uri": "https://localhost:8080/"
    },
    "id": "TS4bx7Ip-0Kb",
    "outputId": "19abb18a-e930-41e2-a53f-5915b6252b44"
   },
   "outputs": [
    {
     "name": "stdout",
     "output_type": "stream",
     "text": [
      "Vr ogsrn ihlt fwrs\n"
     ]
    }
   ],
   "source": [
    "s = \"Very long string with lots of words\"\n",
    "print(s[0::2])"
   ]
  },
  {
   "cell_type": "markdown",
   "metadata": {
    "id": "YV4_j0qOXpk2"
   },
   "source": [
    "Срезы можно использовать и для изменения нескольких элементов списка, а также вставлять элементы, а примере ниже вместо 2ух чисел вставим 3 числа:"
   ]
  },
  {
   "cell_type": "code",
   "execution_count": null,
   "metadata": {
    "colab": {
     "base_uri": "https://localhost:8080/"
    },
    "id": "wpYBHEz6XwiF",
    "outputId": "05eebdb8-09f1-4134-f745-28fcc10f8029"
   },
   "outputs": [
    {
     "name": "stdout",
     "output_type": "stream",
     "text": [
      "[1, 2, 3, 4, 5]\n",
      "[1, 200, 300, 400, 3, 4, 5]\n"
     ]
    }
   ],
   "source": [
    "print(list_integers_range)\n",
    "list_integers_range[1:2] = [200, 300, 400]\n",
    "print(list_integers_range)"
   ]
  },
  {
   "cell_type": "markdown",
   "metadata": {
    "id": "kdOl8sY5d7eE"
   },
   "source": [
    "#### Поиск элемента"
   ]
  },
  {
   "cell_type": "markdown",
   "metadata": {
    "id": "7oTCnPtgDSXt"
   },
   "source": [
    "Можем не только по индексу получать элемент, но и наоборот - по значению найти где в списке такой элемент есть. Для этого использут метод `index`.\n",
    "\n",
    "`L.index(element)` - возвращает индекс элемента `element` в списке `L`, если он там присутствует, иначе выдаст ошибку:"
   ]
  },
  {
   "cell_type": "code",
   "execution_count": null,
   "metadata": {
    "colab": {
     "base_uri": "https://localhost:8080/",
     "height": 211
    },
    "id": "r7WIQiHEDfva",
    "outputId": "45ba0be9-c867-4c7d-b69f-6eb81156e3b7"
   },
   "outputs": [
    {
     "name": "stdout",
     "output_type": "stream",
     "text": [
      "[1, 200, 300, 400, 3, 4, 5]\n",
      "3\n"
     ]
    },
    {
     "ename": "ValueError",
     "evalue": "10 is not in list",
     "output_type": "error",
     "traceback": [
      "\u001b[0;31m---------------------------------------------------------------------------\u001b[0m",
      "\u001b[0;31mValueError\u001b[0m                                Traceback (most recent call last)",
      "\u001b[0;32m<ipython-input-111-12e9b7dd54af>\u001b[0m in \u001b[0;36m<cell line: 4>\u001b[0;34m()\u001b[0m\n\u001b[1;32m      2\u001b[0m \u001b[0;34m\u001b[0m\u001b[0m\n\u001b[1;32m      3\u001b[0m \u001b[0mprint\u001b[0m\u001b[0;34m(\u001b[0m\u001b[0mlist_integers_range\u001b[0m\u001b[0;34m.\u001b[0m\u001b[0mindex\u001b[0m\u001b[0;34m(\u001b[0m\u001b[0;36m400\u001b[0m\u001b[0;34m)\u001b[0m\u001b[0;34m)\u001b[0m\u001b[0;34m\u001b[0m\u001b[0;34m\u001b[0m\u001b[0m\n\u001b[0;32m----> 4\u001b[0;31m \u001b[0mprint\u001b[0m\u001b[0;34m(\u001b[0m\u001b[0mlist_integers_range\u001b[0m\u001b[0;34m.\u001b[0m\u001b[0mindex\u001b[0m\u001b[0;34m(\u001b[0m\u001b[0;36m10\u001b[0m\u001b[0;34m)\u001b[0m\u001b[0;34m)\u001b[0m\u001b[0;34m\u001b[0m\u001b[0;34m\u001b[0m\u001b[0m\n\u001b[0m",
      "\u001b[0;31mValueError\u001b[0m: 10 is not in list"
     ]
    }
   ],
   "source": [
    "print(list_integers_range)\n",
    "\n",
    "print(list_integers_range.index(400))\n",
    "print(list_integers_range.index(10))\n"
   ]
  },
  {
   "cell_type": "markdown",
   "metadata": {
    "id": "WaybI9v1eHZj"
   },
   "source": [
    "#### Сортировка списка"
   ]
  },
  {
   "cell_type": "markdown",
   "metadata": {
    "id": "AAgyafC4PfoE"
   },
   "source": [
    "Отсортировать список можем двумя способами:"
   ]
  },
  {
   "cell_type": "code",
   "execution_count": null,
   "metadata": {
    "colab": {
     "base_uri": "https://localhost:8080/"
    },
    "id": "kTyzlE3JP0Mm",
    "outputId": "0dc18830-af3a-4607-880a-e42ba40e2c79"
   },
   "outputs": [
    {
     "name": "stdout",
     "output_type": "stream",
     "text": [
      "[1, 200, 300, 400, 3, 4, 5]\n",
      "[1, 200, 300, 400, 3, 4, 5]\n",
      "[1, 3, 4, 5, 200, 300, 400]\n"
     ]
    }
   ],
   "source": [
    "print(list_integers_range)\n",
    "\n",
    "# функция sorted возвращает отсортированную копию\n",
    "list_integers_range_sorted = sorted(list_integers_range)\n",
    "print(list_integers_range)\n",
    "print(list_integers_range_sorted)"
   ]
  },
  {
   "cell_type": "code",
   "execution_count": 126,
   "metadata": {
    "colab": {
     "base_uri": "https://localhost:8080/"
    },
    "id": "94v3TJOiPoFW",
    "outputId": "5172bf24-a6a2-46f7-d516-7fde3390a587"
   },
   "outputs": [
    {
     "name": "stdout",
     "output_type": "stream",
     "text": [
      "[1, 3, 4, 5, 200, 300, 400]\n",
      "None\n"
     ]
    }
   ],
   "source": [
    "list_integers_range = [1, 200, 300, 400, 3, 4, 5]\n",
    "\n",
    "# метод sort изменяет сам список, а не возвращает копию:\n",
    "sort_return = list_integers_range.sort()\n",
    "print(list_integers_range)\n",
    "print(sort_return)"
   ]
  },
  {
   "cell_type": "markdown",
   "metadata": {
    "id": "8Xu1S4eJQ3g3"
   },
   "source": [
    "Сортировать можно не только списки, состоящие из чисел:"
   ]
  },
  {
   "cell_type": "code",
   "execution_count": null,
   "metadata": {
    "colab": {
     "base_uri": "https://localhost:8080/"
    },
    "id": "KxI9KMGcP2y6",
    "outputId": "d5f108ed-4c50-4dea-d32e-3a86ecafa74e"
   },
   "outputs": [
    {
     "name": "stdout",
     "output_type": "stream",
     "text": [
      "['4', '42', '8', '9', 'a', 'bac', 'bb', 'символы']\n"
     ]
    }
   ],
   "source": [
    "list_strings = ['9', '4', '42', '8', 'a', 'bb', 'bac', 'символы']\n",
    "print(sorted(list_strings))"
   ]
  },
  {
   "cell_type": "markdown",
   "metadata": {
    "id": "xzZJfTosSeEJ"
   },
   "source": [
    "Сортировка списка строк выполняется по лексикографическому порядку.\n",
    "\n",
    "А что насчет сортировки списка, состоящего из элементов разных типов? Увы, такая операция в общем случае не поддерживается:"
   ]
  },
  {
   "cell_type": "code",
   "execution_count": null,
   "metadata": {
    "colab": {
     "base_uri": "https://localhost:8080/",
     "height": 159
    },
    "id": "5eKiX3UHQZo7",
    "outputId": "e72d0847-cf8d-4056-a734-f31a75be1d85"
   },
   "outputs": [
    {
     "ename": "TypeError",
     "evalue": "'<' not supported between instances of 'int' and 'list'",
     "output_type": "error",
     "traceback": [
      "\u001b[0;31m---------------------------------------------------------------------------\u001b[0m",
      "\u001b[0;31mTypeError\u001b[0m                                 Traceback (most recent call last)",
      "\u001b[0;32m<ipython-input-115-17570ffb1a57>\u001b[0m in \u001b[0;36m<cell line: 2>\u001b[0;34m()\u001b[0m\n\u001b[1;32m      1\u001b[0m \u001b[0mlist_diff_types\u001b[0m \u001b[0;34m=\u001b[0m \u001b[0;34m[\u001b[0m\u001b[0;34m[\u001b[0m\u001b[0;36m1\u001b[0m\u001b[0;34m,\u001b[0m \u001b[0;36m2\u001b[0m\u001b[0;34m]\u001b[0m\u001b[0;34m,\u001b[0m \u001b[0;36m1\u001b[0m\u001b[0;34m,\u001b[0m \u001b[0;36m2\u001b[0m\u001b[0;34m]\u001b[0m\u001b[0;34m\u001b[0m\u001b[0;34m\u001b[0m\u001b[0m\n\u001b[0;32m----> 2\u001b[0;31m \u001b[0mprint\u001b[0m\u001b[0;34m(\u001b[0m\u001b[0msorted\u001b[0m\u001b[0;34m(\u001b[0m\u001b[0mlist_diff_types\u001b[0m\u001b[0;34m)\u001b[0m\u001b[0;34m)\u001b[0m\u001b[0;34m\u001b[0m\u001b[0;34m\u001b[0m\u001b[0m\n\u001b[0m",
      "\u001b[0;31mTypeError\u001b[0m: '<' not supported between instances of 'int' and 'list'"
     ]
    }
   ],
   "source": [
    "list_diff_types = [[1, 2], 1, 2]\n",
    "print(sorted(list_diff_types))"
   ]
  },
  {
   "cell_type": "markdown",
   "metadata": {
    "id": "rVWqOI8j8net"
   },
   "source": [
    "### `tuple`"
   ]
  },
  {
   "cell_type": "markdown",
   "metadata": {
    "id": "FNayj9XntqQe"
   },
   "source": [
    "**Tuple** (кортеж) - контейнер, в котором доступ к его элементам предоставляется по индексу (порядковому номеру), но который является неизменяемым.\n",
    "\n",
    "**TL;DR** кортеж является неизменяемым списком."
   ]
  },
  {
   "cell_type": "markdown",
   "metadata": {
    "id": "BZ0ODDC9lgPx"
   },
   "source": [
    "#### Создание кортежей"
   ]
  },
  {
   "cell_type": "markdown",
   "metadata": {
    "id": "6Z-A_v8Tk-ap"
   },
   "source": [
    "Создать кортеж можно с помощью круглых скобок:"
   ]
  },
  {
   "cell_type": "code",
   "execution_count": null,
   "metadata": {
    "colab": {
     "base_uri": "https://localhost:8080/"
    },
    "id": "Zyl3nDUJZlds",
    "outputId": "bf3b4895-e9ff-4e16-c1a1-54b4fb8a46e8"
   },
   "outputs": [
    {
     "name": "stdout",
     "output_type": "stream",
     "text": [
      "(1, 2.0, '3', (4,), [None])\n",
      "<class 'tuple'>\n"
     ]
    }
   ],
   "source": [
    "tuple_diff_types_example = (1, 2.0, '3', (4,), [None])\n",
    "\n",
    "print(tuple_diff_types_example)\n",
    "print(type(tuple_diff_types_example))"
   ]
  },
  {
   "cell_type": "markdown",
   "metadata": {
    "id": "XY0GDp70Zxec"
   },
   "source": [
    "**Замечание** - чтобы создать кортеж из одного элемента, необходимо после него поставить запятую:"
   ]
  },
  {
   "cell_type": "code",
   "execution_count": null,
   "metadata": {
    "colab": {
     "base_uri": "https://localhost:8080/"
    },
    "id": "tVj1tjAmZuBO",
    "outputId": "a2f601e7-27ba-48ff-85b7-aaf3c37ae1bd"
   },
   "outputs": [
    {
     "name": "stdout",
     "output_type": "stream",
     "text": [
      "<class 'int'>\n",
      "<class 'tuple'>\n"
     ]
    }
   ],
   "source": [
    "tuple_1 = (4)\n",
    "tuple_2 = (4,)\n",
    "\n",
    "print(type(tuple_1))\n",
    "print(type(tuple_2))"
   ]
  },
  {
   "cell_type": "markdown",
   "metadata": {
    "id": "ziRGM3kRa-py"
   },
   "source": [
    "Возможно создать кортеж и без круглых скобок по бокам (по сути - будет присвоение \"один ко многим\"), но это порой ухудшает читаемость кода:"
   ]
  },
  {
   "cell_type": "code",
   "execution_count": null,
   "metadata": {
    "colab": {
     "base_uri": "https://localhost:8080/"
    },
    "id": "ozpvJBWD8la3",
    "outputId": "5c53f084-35a0-42e2-b07d-98ebd78d5b7a"
   },
   "outputs": [
    {
     "name": "stdout",
     "output_type": "stream",
     "text": [
      "('a', 5, 12.345, (2, 'b'))\n",
      "<class 'tuple'>\n"
     ]
    }
   ],
   "source": [
    "tuple_example = 'a', 5, 12.345, (2, 'b')\n",
    "print(tuple_example)\n",
    "print(type(tuple_example))"
   ]
  },
  {
   "cell_type": "markdown",
   "metadata": {
    "id": "uWq3KOdxD1zq"
   },
   "source": [
    "В Python возможно множественное присваивание:"
   ]
  },
  {
   "cell_type": "code",
   "execution_count": null,
   "metadata": {
    "colab": {
     "base_uri": "https://localhost:8080/"
    },
    "id": "ahySzokfaRWT",
    "outputId": "d19be605-8fa6-410e-ee68-80202861fa88"
   },
   "outputs": [
    {
     "name": "stdout",
     "output_type": "stream",
     "text": [
      "1 2\n",
      "2 1\n"
     ]
    }
   ],
   "source": [
    "a, b = 1, 2\n",
    "print(a, b)\n",
    "a, b = b, a\n",
    "print(a, b)"
   ]
  },
  {
   "cell_type": "markdown",
   "metadata": {
    "id": "mM2mwASXbw6X"
   },
   "source": [
    "По сути, это эквивалентно:"
   ]
  },
  {
   "cell_type": "code",
   "execution_count": null,
   "metadata": {
    "colab": {
     "base_uri": "https://localhost:8080/"
    },
    "id": "pfJ5yUiP2P5T",
    "outputId": "fdae5a2a-b9b2-4392-9627-a071a530a13b"
   },
   "outputs": [
    {
     "name": "stdout",
     "output_type": "stream",
     "text": [
      "1\n",
      "2\n"
     ]
    }
   ],
   "source": [
    "(a, b) = (1, 2)\n",
    "print(a)\n",
    "print(b)"
   ]
  },
  {
   "cell_type": "markdown",
   "metadata": {
    "id": "hcc1lWSgluGP"
   },
   "source": [
    "#### Неизменяемость кортежа"
   ]
  },
  {
   "cell_type": "markdown",
   "metadata": {
    "id": "pNp-uu_b8rpY"
   },
   "source": [
    "Кортеж нельзя изменять. Давайте в этом убедимся:"
   ]
  },
  {
   "cell_type": "code",
   "execution_count": null,
   "metadata": {
    "colab": {
     "base_uri": "https://localhost:8080/",
     "height": 176
    },
    "id": "k2FmUtIYUGOG",
    "outputId": "1f5837a5-574f-4791-d33c-c67091dc845f"
   },
   "outputs": [
    {
     "name": "stdout",
     "output_type": "stream",
     "text": [
      "('a', 5, 12.345, (2, 'b'))\n"
     ]
    },
    {
     "ename": "AttributeError",
     "evalue": "'tuple' object has no attribute 'append'",
     "output_type": "error",
     "traceback": [
      "\u001b[0;31m---------------------------------------------------------------------------\u001b[0m",
      "\u001b[0;31mAttributeError\u001b[0m                            Traceback (most recent call last)",
      "\u001b[0;32m<ipython-input-124-eb1a5da6fcdc>\u001b[0m in \u001b[0;36m<cell line: 2>\u001b[0;34m()\u001b[0m\n\u001b[1;32m      1\u001b[0m \u001b[0mprint\u001b[0m\u001b[0;34m(\u001b[0m\u001b[0mtuple_example\u001b[0m\u001b[0;34m)\u001b[0m\u001b[0;34m\u001b[0m\u001b[0;34m\u001b[0m\u001b[0m\n\u001b[0;32m----> 2\u001b[0;31m \u001b[0mtuple_example\u001b[0m\u001b[0;34m.\u001b[0m\u001b[0mappend\u001b[0m\u001b[0;34m(\u001b[0m\u001b[0;36m5\u001b[0m\u001b[0;34m)\u001b[0m\u001b[0;34m\u001b[0m\u001b[0;34m\u001b[0m\u001b[0m\n\u001b[0m",
      "\u001b[0;31mAttributeError\u001b[0m: 'tuple' object has no attribute 'append'"
     ]
    }
   ],
   "source": [
    "print(tuple_example)\n",
    "tuple_example.append(5)"
   ]
  },
  {
   "cell_type": "code",
   "execution_count": null,
   "metadata": {
    "colab": {
     "base_uri": "https://localhost:8080/",
     "height": 141
    },
    "id": "4UzHGykf8tIm",
    "outputId": "a47a1d91-6bcb-43a1-8f9e-552dfc1e499a"
   },
   "outputs": [
    {
     "ename": "TypeError",
     "evalue": "'tuple' object does not support item assignment",
     "output_type": "error",
     "traceback": [
      "\u001b[0;31m---------------------------------------------------------------------------\u001b[0m",
      "\u001b[0;31mTypeError\u001b[0m                                 Traceback (most recent call last)",
      "\u001b[0;32m<ipython-input-125-865b2b5acc11>\u001b[0m in \u001b[0;36m<cell line: 1>\u001b[0;34m()\u001b[0m\n\u001b[0;32m----> 1\u001b[0;31m \u001b[0mtuple_example\u001b[0m\u001b[0;34m[\u001b[0m\u001b[0;36m0\u001b[0m\u001b[0;34m]\u001b[0m \u001b[0;34m=\u001b[0m \u001b[0;36m9\u001b[0m\u001b[0;34m\u001b[0m\u001b[0;34m\u001b[0m\u001b[0m\n\u001b[0m",
      "\u001b[0;31mTypeError\u001b[0m: 'tuple' object does not support item assignment"
     ]
    }
   ],
   "source": [
    "tuple_example[0] = 9"
   ]
  },
  {
   "cell_type": "markdown",
   "metadata": {
    "id": "wuAhJn0umho1"
   },
   "source": [
    "#### Разрешенные операции с кортежем"
   ]
  },
  {
   "cell_type": "markdown",
   "metadata": {
    "id": "X8fWO93b8vOE"
   },
   "source": [
    "Но получать элементы по индексу и срезам, конечно, можно:"
   ]
  },
  {
   "cell_type": "code",
   "execution_count": null,
   "metadata": {
    "colab": {
     "base_uri": "https://localhost:8080/"
    },
    "id": "aFjAQ4RS8t9u",
    "outputId": "944f16c1-fdd6-4174-e1eb-11a092b67d63"
   },
   "outputs": [
    {
     "name": "stdout",
     "output_type": "stream",
     "text": [
      "('a', 5, 12.345, (2, 'b'))\n",
      "12.345\n",
      "1\n",
      "('a', 5)\n"
     ]
    }
   ],
   "source": [
    "print(tuple_example)\n",
    "print(tuple_example[2])\n",
    "print(tuple_example.index(5))\n",
    "print(tuple_example[:2])"
   ]
  },
  {
   "cell_type": "markdown",
   "metadata": {
    "id": "PA3nqEPe8xsW"
   },
   "source": [
    "Как и списки, кортежи можно складывать:"
   ]
  },
  {
   "cell_type": "code",
   "execution_count": null,
   "metadata": {
    "colab": {
     "base_uri": "https://localhost:8080/"
    },
    "id": "rymxg6rCVA3Q",
    "outputId": "34224b64-e4e0-4de2-b5c0-4e12eaa7ed91"
   },
   "outputs": [
    {
     "name": "stdout",
     "output_type": "stream",
     "text": [
      "('a', 5, 12.345, (2, 'b'))\n",
      "('a', 5, 12.345, (2, 'b'), 1, 2, 3)\n"
     ]
    }
   ],
   "source": [
    "m = (1, 2, 3)\n",
    "print(tuple_example)\n",
    "print(tuple_example + m)"
   ]
  },
  {
   "cell_type": "markdown",
   "metadata": {
    "id": "HAVyHAl6cWUQ"
   },
   "source": [
    "С кортежами можно делать все, что можно делать со списками, если это не изменяет кортеж:"
   ]
  },
  {
   "cell_type": "code",
   "execution_count": null,
   "metadata": {
    "colab": {
     "base_uri": "https://localhost:8080/"
    },
    "id": "JTwqdT9G8w2W",
    "outputId": "18128d1e-c856-4478-a1e1-ebb9ce53289a"
   },
   "outputs": [
    {
     "name": "stdout",
     "output_type": "stream",
     "text": [
      "4\n",
      "True\n"
     ]
    }
   ],
   "source": [
    "# узнать размер\n",
    "print(len(tuple_example))\n",
    "\n",
    "# проверить наличие элемента\n",
    "print(5 in tuple_example)"
   ]
  },
  {
   "cell_type": "markdown",
   "metadata": {
    "id": "nUvEnqR-lzBQ"
   },
   "source": [
    "#### Зачем нужен кортеж?"
   ]
  },
  {
   "cell_type": "markdown",
   "metadata": {
    "id": "yht4_LCgo0kY"
   },
   "source": [
    "**Вопрос** - зачем нужен `tuple`, если есть более удобный в использовании `list`?\n",
    "\n",
    "**Преимущества кортежа:**\n",
    "\n",
    "1. **Кортежи работают быстрее списков.** Если нужен константный массив, то лучше использовать кортежи.\n",
    "2. **Защита данных от записи.** Кортежи позволяют явно защитить данные от изменений.\n",
    "3. **Могут быть использованы как ключи для словарей.** Некоторые кортежи являются хэшируемыми, и поэтому могут использоваться в качестве ключей для словарей."
   ]
  },
  {
   "cell_type": "code",
   "execution_count": null,
   "metadata": {},
   "outputs": [],
   "source": []
  },
  {
   "cell_type": "markdown",
   "metadata": {},
   "source": [
    "### Задачи"
   ]
  },
  {
   "cell_type": "markdown",
   "metadata": {},
   "source": [
    "1. В каком случае можно изменить элемент кортежа? Как это сделать?\n",
    "\n",
    "2. Создать список. Вывести каждое 4-ое число.\n",
    "\n",
    "3. Дан список. Получить кортеж, сортированный в обратном порядке и кортеж, сортированный по возрастанию чисел.\n",
    "\n",
    "4. Поменять местами максимальный и минимальный элементы списка."
   ]
  },
  {
   "cell_type": "markdown",
   "metadata": {},
   "source": [
    "\n",
    "\n",
    "\n",
    "\n",
    "\n",
    "\n",
    "\n"
   ]
  },
  {
   "cell_type": "code",
   "execution_count": null,
   "metadata": {},
   "outputs": [],
   "source": []
  },
  {
   "cell_type": "code",
   "execution_count": 96,
   "metadata": {},
   "outputs": [
    {
     "data": {
      "text/plain": [
       "([1, 2], 5)"
      ]
     },
     "execution_count": 96,
     "metadata": {},
     "output_type": "execute_result"
    }
   ],
   "source": [
    "t = tuple(([1,2],5))\n",
    "t"
   ]
  },
  {
   "cell_type": "code",
   "execution_count": 102,
   "metadata": {},
   "outputs": [],
   "source": [
    "t[0].append(4)"
   ]
  },
  {
   "cell_type": "code",
   "execution_count": 104,
   "metadata": {},
   "outputs": [
    {
     "data": {
      "text/plain": [
       "([1, 2, 4], 5)"
      ]
     },
     "execution_count": 104,
     "metadata": {},
     "output_type": "execute_result"
    }
   ],
   "source": [
    "t"
   ]
  },
  {
   "cell_type": "code",
   "execution_count": null,
   "metadata": {},
   "outputs": [],
   "source": []
  },
  {
   "cell_type": "code",
   "execution_count": 142,
   "metadata": {},
   "outputs": [
    {
     "name": "stdout",
     "output_type": "stream",
     "text": [
      "a =  [1, 2, 5, 9, 3, 4, 6, 0, 7]\n",
      "[1, 3, 7]\n",
      "(7, 0, 6, 4, 3, 9, 5, 2, 1)\n",
      "(0, 1, 2, 3, 4, 5, 6, 7, 9)\n"
     ]
    }
   ],
   "source": [
    "a = [1, 2,5,9,3,4,6,0,7]\n",
    "print(\"a = \", a)\n",
    "print(a[::4])\n",
    "print(tuple(a[::-1]))\n",
    "print(tuple(sorted(a)))"
   ]
  },
  {
   "cell_type": "code",
   "execution_count": 138,
   "metadata": {},
   "outputs": [
    {
     "data": {
      "text/plain": [
       "[0, 1, 2, 3, 4, 5, 6, 7, 9]"
      ]
     },
     "execution_count": 138,
     "metadata": {},
     "output_type": "execute_result"
    }
   ],
   "source": [
    "a.sort()\n",
    "a"
   ]
  },
  {
   "cell_type": "code",
   "execution_count": 140,
   "metadata": {},
   "outputs": [
    {
     "name": "stdout",
     "output_type": "stream",
     "text": [
      "(0, 1, 2, 3, 4, 5, 6, 7, 9)\n"
     ]
    }
   ],
   "source": [
    "print(tuple(a))"
   ]
  },
  {
   "cell_type": "code",
   "execution_count": null,
   "metadata": {},
   "outputs": [],
   "source": []
  },
  {
   "cell_type": "code",
   "execution_count": 146,
   "metadata": {},
   "outputs": [
    {
     "name": "stdout",
     "output_type": "stream",
     "text": [
      "[1, 2, 5, 9, 3, 4, 6, 0, 7]\n"
     ]
    },
    {
     "data": {
      "text/plain": [
       "[1, 2, 5, 0, 3, 4, 6, 9, 7]"
      ]
     },
     "execution_count": 146,
     "metadata": {},
     "output_type": "execute_result"
    }
   ],
   "source": [
    "a = [1, 2,5,9,3,4,6,0,7]\n",
    "print(a)\n",
    "amin = min(a)\n",
    "amax=max(a)\n",
    "kmin=a.index(amin)\n",
    "kmax=a.index(amax)\n",
    "a[kmin], a[kmax] = a[kmax], a[kmin]\n",
    "a"
   ]
  },
  {
   "cell_type": "code",
   "execution_count": null,
   "metadata": {},
   "outputs": [],
   "source": []
  },
  {
   "cell_type": "code",
   "execution_count": null,
   "metadata": {},
   "outputs": [],
   "source": []
  }
 ],
 "metadata": {
  "colab": {
   "provenance": []
  },
  "kernelspec": {
   "display_name": "Python 3 (ipykernel)",
   "language": "python",
   "name": "python3"
  },
  "language_info": {
   "codemirror_mode": {
    "name": "ipython",
    "version": 3
   },
   "file_extension": ".py",
   "mimetype": "text/x-python",
   "name": "python",
   "nbconvert_exporter": "python",
   "pygments_lexer": "ipython3",
   "version": "3.12.4"
  }
 },
 "nbformat": 4,
 "nbformat_minor": 4
}
