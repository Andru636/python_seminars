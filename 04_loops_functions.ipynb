{
 "cells": [
  {
   "cell_type": "markdown",
   "metadata": {
    "id": "G7lV7CBKNL2j"
   },
   "source": [
    "# Циклы"
   ]
  },
  {
   "cell_type": "markdown",
   "metadata": {
    "id": "hMbIX2Z3JEFk"
   },
   "source": [
    "Циклы в программировании позволяют выполнить набор команд некоторое (часто заранее неопределенное) количество раз.\n",
    "\n",
    "В Python для этого есть два типа циклов: `while` и `for`."
   ]
  },
  {
   "cell_type": "markdown",
   "metadata": {
    "id": "tEo3rIoAQfYx"
   },
   "source": [
    "## Цикл `while`"
   ]
  },
  {
   "cell_type": "markdown",
   "metadata": {
    "id": "HjlUaKbSQiS3"
   },
   "source": [
    "Часто необходимо продолжать выполнение каких-либо действий до тех пор, пока условие верно. Для этого пригождается цикл `while`. Его синтаксис выглядит следующим образом:\n",
    "\n",
    "```python\n",
    "while condition:\n",
    "    do_something()\n",
    "```"
   ]
  },
  {
   "cell_type": "markdown",
   "metadata": {
    "id": "Wv2-muxgPWGV"
   },
   "source": [
    "Например, функция, три раза выводящая простое приветствие:"
   ]
  },
  {
   "cell_type": "code",
   "execution_count": null,
   "metadata": {
    "colab": {
     "base_uri": "https://localhost:8080/"
    },
    "id": "32yvOvdbRAoC",
    "outputId": "f4267d77-d3a8-4f04-88b1-802bdc38d907"
   },
   "outputs": [
    {
     "name": "stdout",
     "output_type": "stream",
     "text": [
      "0 Hello!\n",
      "1 Hello!\n",
      "2 Hello!\n"
     ]
    }
   ],
   "source": [
    "greetings = 0\n",
    "\n",
    "while greetings < 3:\n",
    "    print(greetings, 'Hello!')\n",
    "    greetings = greetings + 1"
   ]
  },
  {
   "cell_type": "markdown",
   "metadata": {
    "id": "uyHVKhjAHRjN"
   },
   "source": [
    "### Оператор `break`"
   ]
  },
  {
   "cell_type": "markdown",
   "metadata": {
    "id": "6t0pgwfQRFEs"
   },
   "source": [
    "Можем прервать выполнение цикла с помощью оператора `break`:"
   ]
  },
  {
   "cell_type": "code",
   "execution_count": null,
   "metadata": {
    "colab": {
     "base_uri": "https://localhost:8080/"
    },
    "id": "snCRuqExRaPW",
    "outputId": "77aed260-5623-4200-c834-158bfe572bfe"
   },
   "outputs": [
    {
     "name": "stdout",
     "output_type": "stream",
     "text": [
      "5050\n"
     ]
    }
   ],
   "source": [
    "i = 0\n",
    "int_sum = 0\n",
    "\n",
    "# Сумма первых 100 чисел\n",
    "while True:\n",
    "    i += 1\n",
    "    int_sum += i\n",
    "    if not i < 100: break\n",
    "\n",
    "print(int_sum)"
   ]
  },
  {
   "cell_type": "markdown",
   "metadata": {
    "id": "_Cp8ozmuR1fp"
   },
   "source": [
    "**Замечания:**\n",
    "1. Хотелось бы назвать переменную для суммы как `sum`, но это имя функции из стандартной библиотеки языка. Технически можно переопределить `sum` как переменную, но так крайне не рекомендуется делать. Примеры других имён, которые переопределять не стоит: `int`, `str`, `max`, `min`, `len`, `list`, `lambda`, и т.д.\n"
   ]
  },
  {
   "cell_type": "markdown",
   "metadata": {
    "id": "BjX7NWEHHMYO"
   },
   "source": [
    "### Оператор `continue`"
   ]
  },
  {
   "cell_type": "markdown",
   "metadata": {
    "id": "PxN2kxGV_mG7"
   },
   "source": [
    "В некоторых случаях необходимо форсированно перейти к следующей итерации цикла, не выполняя дальнейший код. Например, не все элементы нам необходимо обрабатывать, а лишь те, что подходят по критерию."
   ]
  },
  {
   "cell_type": "markdown",
   "metadata": {
    "id": "IJt1D9feSMXX"
   },
   "source": [
    "Для форсированного перехода к следующей итерации цикла используется оператор `continue`:"
   ]
  },
  {
   "cell_type": "code",
   "execution_count": 12,
   "metadata": {
    "colab": {
     "base_uri": "https://localhost:8080/"
    },
    "id": "iB-m7Of6SPPb",
    "outputId": "6d1faab0-a0fe-4237-e05c-d8169de901c7"
   },
   "outputs": [
    {
     "name": "stdout",
     "output_type": "stream",
     "text": [
      "4000\n"
     ]
    }
   ],
   "source": [
    "i = 0\n",
    "k = 5\n",
    "\n",
    "summ = 0  # Сумма первых 100 чисел не кратных k\n",
    "\n",
    "while i < 100:\n",
    "    i += 1\n",
    "    if not i % k: continue  # not i % k эквивалентно i % k == 0\n",
    "\n",
    "    summ += i\n",
    "\n",
    "print(summ)"
   ]
  },
  {
   "cell_type": "markdown",
   "metadata": {
    "id": "_i5Jbxq4GzdA"
   },
   "source": [
    "**Упражнение**  🤗\n",
    "\n",
    "Можно ли в цикле выше обойтись без `continue`?"
   ]
  },
  {
   "cell_type": "code",
   "execution_count": null,
   "metadata": {
    "id": "sfmLcIkwugtk"
   },
   "outputs": [],
   "source": [
    "# место для вашего кода"
   ]
  },
  {
   "cell_type": "code",
   "execution_count": 16,
   "metadata": {},
   "outputs": [
    {
     "name": "stdout",
     "output_type": "stream",
     "text": [
      "4000\n"
     ]
    }
   ],
   "source": [
    "i = 0\n",
    "k = 5\n",
    "\n",
    "summ = 0  # Сумма первых 100 чисел не кратных k\n",
    "\n",
    "while i < 100:\n",
    "    if i % k!=0:\n",
    "        summ += i\n",
    "    i += 1\n",
    "\n",
    "print(summ)"
   ]
  },
  {
   "cell_type": "markdown",
   "metadata": {
    "id": "Yoiwt0_8Sjii"
   },
   "source": [
    "## Цикл `for`"
   ]
  },
  {
   "cell_type": "markdown",
   "metadata": {
    "id": "1ggIOjGESoZ5"
   },
   "source": [
    "В Python `for`-цикл устроен следующим образом:\n",
    "\n",
    "```python\n",
    "for variable in iterable_var:\n",
    "    commands(varible)\n",
    "```"
   ]
  },
  {
   "cell_type": "markdown",
   "metadata": {
    "id": "g3BzLVwSuWYF"
   },
   "source": [
    "где `iterable_var` - переменная, которая может выдавать какие-либо значения. Чаще всего, это контейнеры, для каждого из элементов которого мы выполняем одинаковый набор команд, описанный в цикле."
   ]
  },
  {
   "cell_type": "markdown",
   "metadata": {
    "id": "j7Qui5eaunv8"
   },
   "source": [
    "##### **Какие классы подходит для цикла `for` - классы `Iterable`**"
   ]
  },
  {
   "cell_type": "markdown",
   "metadata": {
    "id": "WUzQwoc2uUEM"
   },
   "source": [
    "Технически, в качестве `iterable_var` можно брать любой объект, который является \"итерируемым\" - `Iterable`, т.е. у которых определен метод `__next__`, с помощью которого можно запросить следующий их элемент.\n",
    "\n",
    "**Примеры последовательностей:**\n",
    "- списки\n",
    "- кортежи\n",
    "- строки\n",
    "\n",
    "**Примеры не-последовательностей:**\n",
    "- множества\n",
    "- словари\n",
    "- *генераторы*"
   ]
  },
  {
   "cell_type": "markdown",
   "metadata": {
    "id": "yxYvPNAOvCkw"
   },
   "source": [
    "### Применение `for`-циклов с контейнерами"
   ]
  },
  {
   "cell_type": "markdown",
   "metadata": {
    "id": "u3at3SJuUbwG"
   },
   "source": [
    "Примеры `for`-циклов по спискам, кортежам, строкам:"
   ]
  },
  {
   "cell_type": "code",
   "execution_count": null,
   "metadata": {
    "colab": {
     "base_uri": "https://localhost:8080/"
    },
    "id": "lIuUCCvUUfRx",
    "outputId": "5c322f48-8d6a-40f0-d73f-b365c350633a"
   },
   "outputs": [
    {
     "name": "stdout",
     "output_type": "stream",
     "text": [
      "list 1 2 3 4 5 \n",
      "tuple 1 2 3 4 5 \n",
      "s t r i n g 1 2 3 4 5 "
     ]
    }
   ],
   "source": [
    "list_example = ['list', 1, 2, 3, 4, 5]\n",
    "\n",
    "for item in list_example:  # одно из принятых имен для переменных цикла - item, элемент\n",
    "    print(item, end=' ')\n",
    "\n",
    "print()\n",
    "\n",
    "tuple_example = ('tuple', 1, 2, 3, 4, 5)\n",
    "for item in tuple_example:\n",
    "    print(item, end=' ')\n",
    "\n",
    "print()\n",
    "\n",
    "string_example = \"string12345\"\n",
    "\n",
    "for item in string_example:\n",
    "    print(item, end=' ')"
   ]
  },
  {
   "cell_type": "markdown",
   "metadata": {
    "id": "NRFQESX5UmAw"
   },
   "source": [
    "Примеры `for`-циклов по множествам, словарям:"
   ]
  },
  {
   "cell_type": "code",
   "execution_count": null,
   "metadata": {
    "colab": {
     "base_uri": "https://localhost:8080/"
    },
    "id": "_sRc09bEUmbQ",
    "outputId": "c13ca977-d76c-4874-88c5-8b89887eac02"
   },
   "outputs": [
    {
     "name": "stdout",
     "output_type": "stream",
     "text": [
      "1 2 3 4 5 set "
     ]
    }
   ],
   "source": [
    "set_example = {'set', 1, 2, 3, 4, 5}\n",
    "\n",
    "for item in set_example:\n",
    "    print(item, end=' ')"
   ]
  },
  {
   "cell_type": "markdown",
   "metadata": {
    "id": "rPyRSheRvcFr"
   },
   "source": [
    "Хотя мы и не можем обратиться к конкретному элементу множества по индексу, мы можем пройтись по всем элементам множества с помощью цикла `for`:"
   ]
  },
  {
   "cell_type": "code",
   "execution_count": null,
   "metadata": {
    "colab": {
     "base_uri": "https://localhost:8080/",
     "height": 168
    },
    "id": "GvgkGKPWYBqJ",
    "outputId": "7c2e0c22-773f-4e22-8363-4c1c5ce72bc0"
   },
   "outputs": [
    {
     "ename": "TypeError",
     "evalue": "'set' object is not subscriptable",
     "output_type": "error",
     "traceback": [
      "\u001b[0;31m---------------------------------------------------------------------------\u001b[0m",
      "\u001b[0;31mTypeError\u001b[0m                                 Traceback (most recent call last)",
      "Cell \u001b[0;32mIn[9], line 1\u001b[0m\n\u001b[0;32m----> 1\u001b[0m \u001b[43mset_example\u001b[49m\u001b[43m[\u001b[49m\u001b[38;5;241;43m0\u001b[39;49m\u001b[43m]\u001b[49m\n",
      "\u001b[0;31mTypeError\u001b[0m: 'set' object is not subscriptable"
     ]
    }
   ],
   "source": [
    "set_example[0]"
   ]
  },
  {
   "cell_type": "markdown",
   "metadata": {
    "id": "v4oaURG8vy4b"
   },
   "source": [
    "Аналогично при работе со словарями. Но в случае словарей мы можем пробегаться циклом как по ключам, так и по значениям и даже сразу по парам *ключ-значение*:"
   ]
  },
  {
   "cell_type": "code",
   "execution_count": null,
   "metadata": {
    "id": "qWuut0y0wCiW"
   },
   "outputs": [],
   "source": [
    "dict_example = {'dict': \"value0\", 1: \"value1\", 2: \"value2\", 3: \"value3\", 4: \"value4\", 5: \"value5\"}"
   ]
  },
  {
   "cell_type": "code",
   "execution_count": null,
   "metadata": {
    "colab": {
     "base_uri": "https://localhost:8080/"
    },
    "id": "9fmzNNlKNstF",
    "outputId": "5a5bda6e-4085-42f4-c00b-dd2729039077"
   },
   "outputs": [
    {
     "name": "stdout",
     "output_type": "stream",
     "text": [
      "Проход по словарю: dict 1 2 3 4 5 \n",
      "Проход по ключам словаря: dict 1 2 3 4 5 \n",
      "Проход по значениям словаря: value0 value1 value2 value3 value4 value5 \n",
      "Проход по парам ключ - значение: ('dict', 'value0') (1, 'value1') (2, 'value2') (3, 'value3') (4, 'value4') (5, 'value5') "
     ]
    }
   ],
   "source": [
    "# если просто пройтись по словарю, выведутся ключи, лежащие в нём\n",
    "print('Проход по словарю:', end=' ')\n",
    "for item in dict_example:\n",
    "    print(item, end=' ')\n",
    "\n",
    "# а теперь проитерируемся по ключам словаря и получим то же самое\n",
    "print('\\nПроход по ключам словаря:', end=' ')\n",
    "for key in dict_example.keys():\n",
    "    print(key, end=' ')\n",
    "\n",
    "\n",
    "# а теперь - по значениям, которые соответствуют этим ключам\n",
    "print('\\nПроход по значениям словаря:', end=' ')\n",
    "for value in dict_example.values():\n",
    "    print(value, end=' ')\n",
    "\n",
    "# функция items() возвращает пару \"ключ - значение\" в виде кортежа\n",
    "print('\\nПроход по парам ключ - значение:', end=' ')\n",
    "for item in dict_example.items():\n",
    "    print(item, end=' ')"
   ]
  },
  {
   "cell_type": "markdown",
   "metadata": {
    "id": "4g7IJIWIUssf"
   },
   "source": [
    "**Примечание** - for-цикл для словаря выдаст ключи словаря, не значения."
   ]
  },
  {
   "cell_type": "markdown",
   "metadata": {
    "id": "zJ8-RLxbcv5h"
   },
   "source": [
    "Разница между последовательностями и не-последовательностями в том, гарантии непосредственно **последовательности** элементов. При итерации по последовательности элементы будут пройдены в том же порядке, что и при её задании, тогда как в не-последовательности элементы при проходе могут быть расположены как угодно."
   ]
  },
  {
   "cell_type": "markdown",
   "metadata": {
    "id": "N6yMw-A_dNKw"
   },
   "source": [
    "Например, если создать список и обойти его, выведется достаточно предсказуемый результат:"
   ]
  },
  {
   "cell_type": "code",
   "execution_count": null,
   "metadata": {
    "colab": {
     "base_uri": "https://localhost:8080/"
    },
    "id": "7uZ9-U88dTVO",
    "outputId": "e23eca74-4db0-4806-d30c-f972ed35ab90"
   },
   "outputs": [
    {
     "name": "stdout",
     "output_type": "stream",
     "text": [
      "fish dog cat "
     ]
    }
   ],
   "source": [
    "list_example = ['fish', 'dog', 'cat']\n",
    "for item in list_example:\n",
    "  print(item, end=' ')"
   ]
  },
  {
   "cell_type": "markdown",
   "metadata": {
    "id": "dHMrFzX2eDK8"
   },
   "source": [
    "Тогда как при создании непоследовательного контейнера отнюдь не гарантируется, что элементы окажутся расположены в изначальном порядке:"
   ]
  },
  {
   "cell_type": "code",
   "execution_count": null,
   "metadata": {
    "colab": {
     "base_uri": "https://localhost:8080/"
    },
    "id": "84IDAPs2diJC",
    "outputId": "546461a0-dbc5-4b73-fcdd-760414c9feda"
   },
   "outputs": [
    {
     "name": "stdout",
     "output_type": "stream",
     "text": [
      "cat dog fish "
     ]
    }
   ],
   "source": [
    "set_example = {'fish', 'dog', 'cat',}\n",
    "for item in set_example:\n",
    "  print(item, end=' ')"
   ]
  },
  {
   "cell_type": "markdown",
   "metadata": {
    "id": "cfPBOP8TVyN5"
   },
   "source": [
    "# list comprehensions"
   ]
  },
  {
   "cell_type": "markdown",
   "metadata": {
    "id": "KuFOuPuzx0TD"
   },
   "source": [
    "Часто приходится создавать производные списки - новые списки, элементы которых вычисляются из соответствующих элементов другого контейнера. Например, список квадратов чисел:"
   ]
  },
  {
   "cell_type": "code",
   "execution_count": null,
   "metadata": {
    "colab": {
     "base_uri": "https://localhost:8080/"
    },
    "id": "GwhwJtyYyClQ",
    "outputId": "b03b8eb3-30dc-4136-c461-0f8d587a074c"
   },
   "outputs": [
    {
     "name": "stdout",
     "output_type": "stream",
     "text": [
      "[9, 196, 225, 8464, 4225, 1225, 7921, 6241, 104329, 7161559876]\n"
     ]
    }
   ],
   "source": [
    "input_list = [3, 14, 15, 92, 65, 35, 89, 79, 323, 84626]\n",
    "\n",
    "output_list = [0] * len(input_list)  # создаем список из нулей длины как input_list\n",
    "for i, item in enumerate(input_list):  # \"функция\" enumerate позволяет получать не только элеметы, но и их порядковый номер\n",
    "    output_list[i] = item ** 2\n",
    "\n",
    "print(output_list)"
   ]
  },
  {
   "cell_type": "markdown",
   "metadata": {
    "id": "0RZXvo0sV04_"
   },
   "source": [
    "Чтобы упростить создание подобных списков, в Python есть очень удобная штука под названием **list comprehension**, выглядит она вот так:\n",
    "\n",
    "```python\n",
    "[выражение for var in container if condition]\n",
    "\n",
    "[выражение if первый вариант else второй вариант for var in container]\n",
    "```\n",
    "\n",
    "Аналогично определяются comprehensions для других видов контейнеров."
   ]
  },
  {
   "cell_type": "markdown",
   "metadata": {
    "id": "ROep4iGEy4Hr"
   },
   "source": [
    "Тогда наш пример выше перепишется как:"
   ]
  },
  {
   "cell_type": "code",
   "execution_count": null,
   "metadata": {
    "colab": {
     "base_uri": "https://localhost:8080/"
    },
    "id": "jhpfM-Czy0yr",
    "outputId": "a27b33d4-c765-4128-859a-98961c42a3e8"
   },
   "outputs": [
    {
     "name": "stdout",
     "output_type": "stream",
     "text": [
      "[9, 196, 225, 8464, 4225, 1225, 7921, 6241, 104329, 7161559876]\n"
     ]
    }
   ],
   "source": [
    "output_list = [item ** 2 for item in input_list]\n",
    "print(output_list)"
   ]
  },
  {
   "cell_type": "markdown",
   "metadata": {
    "id": "msDsNRgwzPpG"
   },
   "source": [
    "Рассмотрим пример использования условия (`condition`) при создании производных списков. Для этого будем сохранять в выходной список только те элементы, которые делятся на `2`:"
   ]
  },
  {
   "cell_type": "code",
   "execution_count": null,
   "metadata": {
    "colab": {
     "base_uri": "https://localhost:8080/"
    },
    "id": "gm1Skimzzi4G",
    "outputId": "a177a34d-6a86-4961-f7da-ef19d1599519"
   },
   "outputs": [
    {
     "name": "stdout",
     "output_type": "stream",
     "text": [
      "[196, 8464, 7161559876]\n"
     ]
    }
   ],
   "source": [
    "output_list = [item ** 2 for item in input_list if item % 2 == 0]\n",
    "print(output_list)"
   ]
  },
  {
   "cell_type": "markdown",
   "metadata": {
    "id": "GXtv2zxB2ciO"
   },
   "source": [
    "`list comprehension` можно использовать в связке с тернарным оператором:"
   ]
  },
  {
   "cell_type": "code",
   "execution_count": null,
   "metadata": {
    "colab": {
     "base_uri": "https://localhost:8080/"
    },
    "id": "gfWLWnh0Fot-",
    "outputId": "d991466e-1277-4541-890a-9c98866769be"
   },
   "outputs": [
    {
     "name": "stdout",
     "output_type": "stream",
     "text": [
      "[0, 1, 2, 3, 4, 5, 6, 1341068619663964900807, 8, 9]\n"
     ]
    }
   ],
   "source": [
    "result = [x if x != 7 else 7 ** 25 for x in range(10)]\n",
    "print(result)"
   ]
  },
  {
   "cell_type": "markdown",
   "metadata": {
    "id": "Hw4e7gqocDlv"
   },
   "source": [
    "Можно делать и вложенные list comprehension, но это ухудшает читаемость.\n",
    "\n",
    "\n",
    "\n",
    "**Упражнение**  🤗\n",
    "\n",
    "Перепишите эти вложенные циклы как list comprehension и поймите, почему повторять это в будущем совсем не хочется!"
   ]
  },
  {
   "cell_type": "code",
   "execution_count": null,
   "metadata": {
    "colab": {
     "base_uri": "https://localhost:8080/"
    },
    "id": "TnOekBlk0RO7",
    "outputId": "1fc3ca74-0b79-4231-c05b-aab311d6c1a5"
   },
   "outputs": [
    {
     "name": "stdout",
     "output_type": "stream",
     "text": [
      "[(4, 2), (6, 2), (8, 2), (6, 3), (9, 3), (8, 4)]\n"
     ]
    }
   ],
   "source": [
    "result = []\n",
    "for x in range(2, 10):\n",
    "    for y in range(x+1, 10):\n",
    "        if y % x == 0:\n",
    "            result.append((y, x))\n",
    "print(result)\n",
    "\n",
    "# место для вашего comprehension!\n"
   ]
  },
  {
   "cell_type": "code",
   "execution_count": null,
   "metadata": {},
   "outputs": [],
   "source": []
  },
  {
   "cell_type": "code",
   "execution_count": null,
   "metadata": {},
   "outputs": [],
   "source": []
  },
  {
   "cell_type": "code",
   "execution_count": 24,
   "metadata": {},
   "outputs": [
    {
     "name": "stdout",
     "output_type": "stream",
     "text": [
      "[(4, 2), (6, 2), (8, 2), (6, 3), (9, 3), (8, 4)]\n"
     ]
    }
   ],
   "source": [
    "result = [(y, x) for  x in range(2, 10) for  y in range(x+1, 10) if y % x == 0 ]\n",
    "print(result)"
   ]
  },
  {
   "cell_type": "markdown",
   "metadata": {
    "id": "NOA4JE7G0mir"
   },
   "source": [
    "### `dict comprehension` и `set comprehension`"
   ]
  },
  {
   "cell_type": "markdown",
   "metadata": {
    "id": "uN1PbcdDcL_A"
   },
   "source": [
    "Можно ли так же удобно создавать не только списки, но и множества и словари?\n",
    "\n",
    "Да, аналогично существуют `dict comprehension` и `set comprehension`:\n",
    "\n",
    "```python\n",
    "# set comprehension\n",
    "{значение for var in container if условие}\n",
    "\n",
    "# dict comprehension\n",
    "{ключ : значение for var in container if условие}\n",
    "{ключ : одно_значение if условие else другое_значение for var in container}\n",
    "```"
   ]
  },
  {
   "cell_type": "code",
   "execution_count": null,
   "metadata": {
    "id": "nioZX8GFugtq",
    "outputId": "8b0c21cf-4993-4ff0-b623-77f3bf72ec83"
   },
   "outputs": [
    {
     "name": "stdout",
     "output_type": "stream",
     "text": [
      "set comprehension: <class 'set'> {0, 1, 64, 4, 36, 9, 16, 49, 81, 25}\n",
      "dict comprehension: <class 'dict'> {0: 0, 1: 1, 2: 4, 3: 9, 4: 16, 5: 25, 6: 36, 7: 49, 8: 64, 9: 81}\n"
     ]
    }
   ],
   "source": [
    "# set comprehension\n",
    "result = {x ** 2 for x in range(10)}\n",
    "print('set comprehension:', type(result), result)\n",
    "\n",
    "# dict comprehension\n",
    "result = {x: x ** 2 for x in range(10)}\n",
    "print('dict comprehension:', type(result), result)"
   ]
  },
  {
   "cell_type": "markdown",
   "metadata": {
    "id": "Yd25SAulugtr"
   },
   "source": [
    "**Упражнение**  🤗\n",
    "\n",
    "А можно ли в dict comprehension задать условие не только на значение, но и на ключ?"
   ]
  },
  {
   "cell_type": "code",
   "execution_count": null,
   "metadata": {
    "id": "AeREHXNRugtr"
   },
   "outputs": [],
   "source": [
    "# место для ваших экспериментов"
   ]
  },
  {
   "cell_type": "code",
   "execution_count": 26,
   "metadata": {},
   "outputs": [
    {
     "name": "stdout",
     "output_type": "stream",
     "text": [
      "dict comprehension: <class 'dict'> {0: 0, 1: 1, 4: 2, 9: 3, 16: 4, 25: 5, 36: 6, 49: 7, 64: 8, 81: 9}\n"
     ]
    }
   ],
   "source": [
    "# dict comprehension\n",
    "result = {x ** 2: x for x in range(10)}\n",
    "print('dict comprehension:', type(result), result)"
   ]
  },
  {
   "cell_type": "markdown",
   "metadata": {
    "id": "pW4IUYOg1Ixd"
   },
   "source": [
    "А что делать, если хотим объединить строки или пройтись по их символам?\n",
    "\n",
    "Здесь используется следующий трюк. Метод строки `join` позволяет записать элементы контейнера в одну строку с заданным разделителем. Синтаксис:\n",
    "```Python\n",
    "'строка-разделитель'.join(какой-то Iterable объект)\n",
    "```\n",
    "Например:"
   ]
  },
  {
   "cell_type": "code",
   "execution_count": 4,
   "metadata": {
    "id": "zKtkKHy8fVWQ"
   },
   "outputs": [
    {
     "data": {
      "text/plain": [
       "'hello ^_^ world ^_^ uwu'"
      ]
     },
     "execution_count": 4,
     "metadata": {},
     "output_type": "execute_result"
    }
   ],
   "source": [
    "list_of_strings = ['hello', 'world', 'uwu']\n",
    "' ^_^ '.join(list_of_strings)"
   ]
  },
  {
   "cell_type": "markdown",
   "metadata": {
    "id": "5dSlAiMWfijf"
   },
   "source": [
    "Таким образом, можно записать подходящие буквы в список, а затем соединить список символов с помощью метода `join`, при этом соединить их с помощью пустой строки."
   ]
  },
  {
   "cell_type": "code",
   "execution_count": 2,
   "metadata": {
    "id": "h23WcCFFbi_p"
   },
   "outputs": [
    {
     "data": {
      "text/plain": [
       "'ab'"
      ]
     },
     "execution_count": 2,
     "metadata": {},
     "output_type": "execute_result"
    }
   ],
   "source": [
    "string = \"abc\"\n",
    "\n",
    "result = ''.join([char for char in string if char != 'c'])\n",
    "result"
   ]
  },
  {
   "cell_type": "markdown",
   "metadata": {
    "id": "6eH8ECOw2JTg"
   },
   "source": [
    "А что насчет кортежей? Можем ли мы так же легко создать производный кортеж, заменив скобки на круглые?"
   ]
  },
  {
   "cell_type": "markdown",
   "metadata": {
    "id": "iOe32dAYg5hL"
   },
   "source": [
    "Увы, `tuple comprehension` не существует. Вместо этого круглые скобочки дают нам генераторное выражение (generator expression):"
   ]
  },
  {
   "cell_type": "code",
   "execution_count": null,
   "metadata": {
    "id": "_iuE5Xlt2q23"
   },
   "outputs": [],
   "source": [
    "result = (x ** 2 for x in range(10))\n",
    "print(type(result), result)"
   ]
  },
  {
   "cell_type": "markdown",
   "metadata": {
    "id": "McgC-_O56Paw"
   },
   "source": [
    "**Генераторы** - более продвинутая часть Python. Мы обсудим ее в блоке EXTRA на одном из следующих занятий."
   ]
  },
  {
   "cell_type": "markdown",
   "metadata": {
    "id": "hsOk4qrOGDZA"
   },
   "source": [
    "# Функции"
   ]
  },
  {
   "cell_type": "markdown",
   "metadata": {
    "id": "JRyWnPk7XAf7"
   },
   "source": [
    "## Базовый синтаксис"
   ]
  },
  {
   "cell_type": "markdown",
   "metadata": {
    "id": "GYh3y1vHGZEz"
   },
   "source": [
    "Объявление функции в Python выглядит следующим образом:\n",
    "\n",
    "```python\n",
    "def function_name(args):\n",
    "    do_something()\n",
    "    return something_else\n",
    "```"
   ]
  },
  {
   "cell_type": "markdown",
   "metadata": {
    "id": "VHdc6JNJoTYz"
   },
   "source": [
    " **Примечание 1.** В Python функция всегда возвращает значение. В теле функции может отсутствовать `return`, тогда она вернёт специальное значение `None`\n",
    "\n",
    "**Примечание 2.** В Python нет строгой типизации и, соответственно, проверок входных аргументов на корректность типа и операции, которые можно совершать с этими аргументами. Будьте внимательны и следите за тем, что передаёте в функцию!"
   ]
  },
  {
   "cell_type": "markdown",
   "metadata": {
    "id": "dsFxE1Y5G_ys"
   },
   "source": [
    "Создадим простейшую функцию, которая будет возвращать частное двух ее аргументов:"
   ]
  },
  {
   "cell_type": "code",
   "execution_count": 8,
   "metadata": {
    "id": "-XV8_T_TG_Fj"
   },
   "outputs": [
    {
     "name": "stdout",
     "output_type": "stream",
     "text": [
      "Function received a=6, b=2\n"
     ]
    },
    {
     "data": {
      "text/plain": [
       "3.0"
      ]
     },
     "execution_count": 8,
     "metadata": {},
     "output_type": "execute_result"
    }
   ],
   "source": [
    "def simple_division(a, b):\n",
    "    print(f\"Function received {a=}, {b=}\")\n",
    "    return a / b\n",
    "simple_division(6, 2)"
   ]
  },
  {
   "cell_type": "code",
   "execution_count": null,
   "metadata": {
    "id": "ZdoyJMAw34yE",
    "outputId": "a653f155-6986-4b58-c6f7-a14cff63633b"
   },
   "outputs": [
    {
     "name": "stdout",
     "output_type": "stream",
     "text": [
      "Result: 2.0\n",
      "None <class 'NoneType'>\n"
     ]
    }
   ],
   "source": [
    "# аналогичная функция, возвращающая \"ничего\"\n",
    "def print_division(a, b):\n",
    "    print(\"Result:\", a / b)\n",
    "\n",
    "result = print_division(4, 2)\n",
    "print(result, type(result))"
   ]
  },
  {
   "cell_type": "markdown",
   "metadata": {
    "id": "HmjXLxXmSV5v"
   },
   "source": [
    "Функции в Python могут возвращать и несколько значений. В таком случае эти значения неявно оборачиваются в кортеж и возвращаются тоже кортежем:"
   ]
  },
  {
   "cell_type": "code",
   "execution_count": 10,
   "metadata": {
    "id": "QfR6o41-SeGT"
   },
   "outputs": [],
   "source": [
    "def divide_and_return_args(a, b):\n",
    "    return a / b, a, b"
   ]
  },
  {
   "cell_type": "code",
   "execution_count": 12,
   "metadata": {
    "colab": {
     "base_uri": "https://localhost:8080/"
    },
    "id": "I-5KEP6a6kJI",
    "outputId": "5c625af8-f694-4127-a22d-314faa3ed5ed"
   },
   "outputs": [
    {
     "name": "stdout",
     "output_type": "stream",
     "text": [
      "Кортеж, вернувшийся из функции: (2.0, 4, 2)\n",
      "Распакованный кортеж: 2.0 4 2\n"
     ]
    }
   ],
   "source": [
    "result = divide_and_return_args(4, 2)\n",
    "result1, result2, result3 = divide_and_return_args(4, 2)\n",
    "print('Кортеж, вернувшийся из функции:', result)\n",
    "print('Распакованный кортеж:', result1, result2, result3)"
   ]
  },
  {
   "cell_type": "markdown",
   "metadata": {
    "id": "1OGujE1YXGnL"
   },
   "source": [
    "##  Изменяемые и неизменяемые аргументы"
   ]
  },
  {
   "cell_type": "markdown",
   "metadata": {
    "id": "A0GM_rjQGDZD"
   },
   "source": [
    "Правило передачи аргументов в функцию:\n",
    "\n",
    ">- Изменяемые аргументы передаются по ссылке\n",
    ">- Неизменяемые аргументы передаются по значению"
   ]
  },
  {
   "cell_type": "markdown",
   "metadata": {
    "id": "gPMi4Fh0qecA"
   },
   "source": [
    "Рассмотрим пример. Функция принимает 2 аргумента - словарь `team` (изменяемый аргумент) и целое число `number` (неизменяемый аргумент). Функция изменяет оба аргумента внутри себя:"
   ]
  },
  {
   "cell_type": "code",
   "execution_count": null,
   "metadata": {
    "id": "bO7yrqhkGDZD"
   },
   "outputs": [],
   "source": [
    "def get_my_hero_team(team, number):\n",
    "    number = 10\n",
    "    team['Chuck'] = 'Norris'\n",
    "    team['Sylvester'] = 'Stallone'"
   ]
  },
  {
   "cell_type": "markdown",
   "metadata": {
    "id": "SByPFEzErOtg"
   },
   "source": [
    "Посмотрим, что произойдет с нашими переменными снаружи функции. Поменяются ли они при вызове функции?"
   ]
  },
  {
   "cell_type": "code",
   "execution_count": null,
   "metadata": {
    "id": "TripdWpiYywD"
   },
   "outputs": [],
   "source": [
    "number = 5\n",
    "hero_team = {'Bruce': 'Willis', 'Chuck': 'Lorre'}\n",
    "get_my_hero_team(hero_team, number)"
   ]
  },
  {
   "cell_type": "markdown",
   "metadata": {
    "id": "8Tn4bcUMraPP"
   },
   "source": [
    "Переменная `number` не изменила свое значение:"
   ]
  },
  {
   "cell_type": "code",
   "execution_count": null,
   "metadata": {
    "colab": {
     "base_uri": "https://localhost:8080/"
    },
    "id": "LEJn4r3qY0Up",
    "outputId": "d4021a99-1832-4226-90e1-44685541e6b1"
   },
   "outputs": [
    {
     "data": {
      "text/plain": [
       "5"
      ]
     },
     "execution_count": 21,
     "metadata": {},
     "output_type": "execute_result"
    }
   ],
   "source": [
    "number"
   ]
  },
  {
   "cell_type": "markdown",
   "metadata": {
    "id": "aFauwSAmri8V"
   },
   "source": [
    "Переменная `hero_team` значение поменяла:"
   ]
  },
  {
   "cell_type": "code",
   "execution_count": null,
   "metadata": {
    "colab": {
     "base_uri": "https://localhost:8080/"
    },
    "id": "pCsjz_TsY1oI",
    "outputId": "d86ef93e-39c5-42be-aa57-472ae73f460c"
   },
   "outputs": [
    {
     "data": {
      "text/plain": [
       "{'Bruce': 'Willis', 'Chuck': 'Norris', 'Sylvester': 'Stallone'}"
      ]
     },
     "execution_count": 16,
     "metadata": {},
     "output_type": "execute_result"
    }
   ],
   "source": [
    "hero_team"
   ]
  },
  {
   "cell_type": "markdown",
   "metadata": {
    "id": "fBQOvCVYugty"
   },
   "source": [
    "Почему так произошло? Потому что числа (`int`, `float`), строки, кортежи, булевы значения (`True`, `False`), байты в Python не изменяются. Каждый раз, как-либо изменяя значения таких объектов, Python на самом деле производит копирование. Так же и при передаче в функцию: для неизменяемых (`immutable`) типов создаётся копия, и с копией производятся все операции внутри функции.\n"
   ]
  },
  {
   "cell_type": "markdown",
   "metadata": {
    "id": "FbczA5wmugty"
   },
   "source": [
    "## Позиционные и именованные аргументы"
   ]
  },
  {
   "cell_type": "markdown",
   "metadata": {
    "id": "kyoXw5sVKMg0"
   },
   "source": [
    "Аргументы в функцию можно передавать двумя способами:"
   ]
  },
  {
   "cell_type": "markdown",
   "metadata": {
    "id": "fkLywO326F6v"
   },
   "source": [
    "- по позиции - просто перечисляем значения аргументов, в таком случае первый указанный при вызове функции аргумент будет соотнесен с первым указанным при объявлении функции аргументов:"
   ]
  },
  {
   "cell_type": "code",
   "execution_count": null,
   "metadata": {
    "colab": {
     "base_uri": "https://localhost:8080/"
    },
    "id": "BnEFc1yi6cfr",
    "outputId": "1eab7b22-62fc-4fad-cd34-0474aae204d0"
   },
   "outputs": [
    {
     "name": "stdout",
     "output_type": "stream",
     "text": [
      "Function received a=4, b=2\n"
     ]
    },
    {
     "data": {
      "text/plain": [
       "2.0"
      ]
     },
     "execution_count": 78,
     "metadata": {},
     "output_type": "execute_result"
    }
   ],
   "source": [
    "simple_division(4, 2)  # при вызове функции в переменную a запишется 10, в b - 19"
   ]
  },
  {
   "cell_type": "markdown",
   "metadata": {
    "id": "OmWTtJKg6VwZ"
   },
   "source": [
    "- по ключу - необходимо явно указать, какому аргументу мы хотим присвоить значение:"
   ]
  },
  {
   "cell_type": "code",
   "execution_count": null,
   "metadata": {
    "colab": {
     "base_uri": "https://localhost:8080/"
    },
    "id": "sYhq3C4t7DHM",
    "outputId": "96e6cafc-7c29-4b06-aa3c-3617eef9be8b"
   },
   "outputs": [
    {
     "name": "stdout",
     "output_type": "stream",
     "text": [
      "Function received a=4, b=2\n"
     ]
    },
    {
     "data": {
      "text/plain": [
       "2.0"
      ]
     },
     "execution_count": 80,
     "metadata": {},
     "output_type": "execute_result"
    }
   ],
   "source": [
    "simple_division(b=2, a=4)  # необязательно перечислять аргументы в том же порядке"
   ]
  },
  {
   "cell_type": "markdown",
   "metadata": {
    "id": "wvWyHlwB7e2L"
   },
   "source": [
    "Можно смешивать способы указания аргументов, например, `a` указать с помощью позиции, а `b` - с помощью ключа:"
   ]
  },
  {
   "cell_type": "code",
   "execution_count": 20,
   "metadata": {
    "colab": {
     "base_uri": "https://localhost:8080/"
    },
    "id": "aFqLEuzf7pOz",
    "outputId": "e9f99ba6-7109-47e8-fac7-8ad5b3866fad"
   },
   "outputs": [
    {
     "name": "stdout",
     "output_type": "stream",
     "text": [
      "Function received a=4, b=2\n"
     ]
    },
    {
     "data": {
      "text/plain": [
       "2.0"
      ]
     },
     "execution_count": 20,
     "metadata": {},
     "output_type": "execute_result"
    }
   ],
   "source": [
    "simple_division(4, b=2)"
   ]
  },
  {
   "cell_type": "markdown",
   "metadata": {
    "id": "eqi1WUD4_WvW"
   },
   "source": [
    "**Но** нужно помнить правило - сначала аргументы по позиции, затем по ключам:"
   ]
  },
  {
   "cell_type": "code",
   "execution_count": 14,
   "metadata": {
    "colab": {
     "base_uri": "https://localhost:8080/",
     "height": 133
    },
    "id": "60iEn-Ml_yTN",
    "outputId": "1ca6a97c-9e6f-4340-f9ff-0558d6c2481a"
   },
   "outputs": [
    {
     "ename": "SyntaxError",
     "evalue": "positional argument follows keyword argument (49851465.py, line 1)",
     "output_type": "error",
     "traceback": [
      "\u001b[1;36m  Cell \u001b[1;32mIn[14], line 1\u001b[1;36m\u001b[0m\n\u001b[1;33m    simple_division(b=2, 4)\u001b[0m\n\u001b[1;37m                          ^\u001b[0m\n\u001b[1;31mSyntaxError\u001b[0m\u001b[1;31m:\u001b[0m positional argument follows keyword argument\n"
     ]
    }
   ],
   "source": [
    "simple_division(b=2, 4)"
   ]
  },
  {
   "cell_type": "code",
   "execution_count": 22,
   "metadata": {},
   "outputs": [
    {
     "ename": "SyntaxError",
     "evalue": "positional argument follows keyword argument (4120315797.py, line 1)",
     "output_type": "error",
     "traceback": [
      "\u001b[1;36m  Cell \u001b[1;32mIn[22], line 1\u001b[1;36m\u001b[0m\n\u001b[1;33m    simple_division(a=4, 2)\u001b[0m\n\u001b[1;37m                          ^\u001b[0m\n\u001b[1;31mSyntaxError\u001b[0m\u001b[1;31m:\u001b[0m positional argument follows keyword argument\n"
     ]
    }
   ],
   "source": [
    "simple_division(a=4, 2)"
   ]
  },
  {
   "cell_type": "code",
   "execution_count": 16,
   "metadata": {
    "colab": {
     "base_uri": "https://localhost:8080/",
     "height": 168
    },
    "id": "BIgXh-GOAAet",
    "outputId": "1ba8976a-718f-46e2-9508-e588c99f9c6b"
   },
   "outputs": [
    {
     "ename": "TypeError",
     "evalue": "simple_division() got multiple values for argument 'a'",
     "output_type": "error",
     "traceback": [
      "\u001b[1;31m---------------------------------------------------------------------------\u001b[0m",
      "\u001b[1;31mTypeError\u001b[0m                                 Traceback (most recent call last)",
      "Cell \u001b[1;32mIn[16], line 1\u001b[0m\n\u001b[1;32m----> 1\u001b[0m simple_division(\u001b[38;5;241m2\u001b[39m, a\u001b[38;5;241m=\u001b[39m\u001b[38;5;241m4\u001b[39m)\n",
      "\u001b[1;31mTypeError\u001b[0m: simple_division() got multiple values for argument 'a'"
     ]
    }
   ],
   "source": [
    "simple_division(2, a=4)"
   ]
  },
  {
   "cell_type": "code",
   "execution_count": 18,
   "metadata": {
    "colab": {
     "base_uri": "https://localhost:8080/",
     "height": 168
    },
    "id": "Jwk_SdpJfkpS",
    "outputId": "ae3ff8f4-fa6c-4bc2-b344-e9ecd6869e27"
   },
   "outputs": [
    {
     "ename": "TypeError",
     "evalue": "simple_division() missing 1 required positional argument: 'b'",
     "output_type": "error",
     "traceback": [
      "\u001b[1;31m---------------------------------------------------------------------------\u001b[0m",
      "\u001b[1;31mTypeError\u001b[0m                                 Traceback (most recent call last)",
      "Cell \u001b[1;32mIn[18], line 1\u001b[0m\n\u001b[1;32m----> 1\u001b[0m simple_division(a\u001b[38;5;241m=\u001b[39m\u001b[38;5;241m4\u001b[39m)\n",
      "\u001b[1;31mTypeError\u001b[0m: simple_division() missing 1 required positional argument: 'b'"
     ]
    }
   ],
   "source": [
    "simple_division(a=4)"
   ]
  },
  {
   "cell_type": "markdown",
   "metadata": {
    "id": "IEf8RgylMJzq"
   },
   "source": [
    "В Python всё является объектом: и привычные переменные, и функции, и модули... Поэтому, если не вызвать функцию явно (ничего ей не передать), она будет распознана как отдельный объект (\"переменная\") со своим адресом в памяти и уникальным именем:"
   ]
  },
  {
   "cell_type": "code",
   "execution_count": null,
   "metadata": {
    "colab": {
     "base_uri": "https://localhost:8080/"
    },
    "id": "IUc2T3EnMRSe",
    "outputId": "6e1a8d01-f393-4e20-e60a-684aa788a324"
   },
   "outputs": [
    {
     "data": {
      "text/plain": [
       "<function __main__.simple_division(a, b)>"
      ]
     },
     "execution_count": 85,
     "metadata": {},
     "output_type": "execute_result"
    }
   ],
   "source": [
    "simple_division"
   ]
  },
  {
   "cell_type": "markdown",
   "metadata": {
    "id": "nvzwXHfSHlhF"
   },
   "source": [
    "## Аргументы по умолчанию"
   ]
  },
  {
   "cell_type": "markdown",
   "metadata": {
    "id": "L0FwMyuF59LB"
   },
   "source": [
    "Для аргумента можно задать значение по умолчанию. Тогда, если при вызове функции не было передано значение, оно будет установлено по умолчанию:"
   ]
  },
  {
   "cell_type": "code",
   "execution_count": null,
   "metadata": {
    "id": "_vd85R0sQSSL"
   },
   "outputs": [],
   "source": [
    "def safe_division(a, b, check_zero=True):\n",
    "    \"\"\"\n",
    "    This function returns division of two arguments and checks whether the divisor is equal to zero\n",
    "    \"\"\"\n",
    "    if check_zero and b == 0:\n",
    "        print('Caught division by zero!')\n",
    "        return None\n",
    "    else:\n",
    "        return a / b"
   ]
  },
  {
   "cell_type": "code",
   "execution_count": null,
   "metadata": {
    "colab": {
     "base_uri": "https://localhost:8080/"
    },
    "id": "ohuDp_2gQgLe",
    "outputId": "42159f7d-c6fd-47df-c063-d2f0fbdec51e"
   },
   "outputs": [
    {
     "name": "stdout",
     "output_type": "stream",
     "text": [
      "Caught division by zero!\n"
     ]
    }
   ],
   "source": [
    "safe_division(4, 0)"
   ]
  },
  {
   "cell_type": "code",
   "execution_count": null,
   "metadata": {
    "colab": {
     "base_uri": "https://localhost:8080/"
    },
    "id": "2_LMAgxUQj36",
    "outputId": "51b14608-c083-4926-c4d6-02881bc2a5e3"
   },
   "outputs": [
    {
     "ename": "ZeroDivisionError",
     "evalue": "division by zero",
     "output_type": "error",
     "traceback": [
      "\u001b[0;31m---------------------------------------------------------------------------\u001b[0m",
      "\u001b[0;31mZeroDivisionError\u001b[0m                         Traceback (most recent call last)",
      "Cell \u001b[0;32mIn[30], line 1\u001b[0m\n\u001b[0;32m----> 1\u001b[0m \u001b[43msafe_division\u001b[49m\u001b[43m(\u001b[49m\u001b[38;5;241;43m4\u001b[39;49m\u001b[43m,\u001b[49m\u001b[43m \u001b[49m\u001b[38;5;241;43m0\u001b[39;49m\u001b[43m,\u001b[49m\u001b[43m \u001b[49m\u001b[43mcheck_zero\u001b[49m\u001b[38;5;241;43m=\u001b[39;49m\u001b[38;5;28;43;01mFalse\u001b[39;49;00m\u001b[43m)\u001b[49m\n",
      "Cell \u001b[0;32mIn[28], line 9\u001b[0m, in \u001b[0;36msafe_division\u001b[0;34m(a, b, check_zero)\u001b[0m\n\u001b[1;32m      7\u001b[0m     \u001b[38;5;28;01mreturn\u001b[39;00m \u001b[38;5;28;01mNone\u001b[39;00m\n\u001b[1;32m      8\u001b[0m \u001b[38;5;28;01melse\u001b[39;00m:\n\u001b[0;32m----> 9\u001b[0m     \u001b[38;5;28;01mreturn\u001b[39;00m \u001b[43ma\u001b[49m\u001b[43m \u001b[49m\u001b[38;5;241;43m/\u001b[39;49m\u001b[43m \u001b[49m\u001b[43mb\u001b[49m\n",
      "\u001b[0;31mZeroDivisionError\u001b[0m: division by zero"
     ]
    }
   ],
   "source": [
    "safe_division(4, 0, check_zero=False)"
   ]
  },
  {
   "cell_type": "markdown",
   "metadata": {
    "id": "BB5SjGcMHlhH"
   },
   "source": [
    "## Starred expressions"
   ]
  },
  {
   "cell_type": "markdown",
   "metadata": {
    "id": "l0u068keUMIS"
   },
   "source": [
    "Функции в Python могут принимать при вызове не только фиксированное, но и переменное число элементов.\n",
    "\n",
    "Для этого используются **операторы распаковки** (`starred expressions`) `*` и `**`, которые распаковывают список / кортеж / множество и словарь соответственно. Продемонстрируем это на примере:"
   ]
  },
  {
   "cell_type": "code",
   "execution_count": null,
   "metadata": {
    "colab": {
     "base_uri": "https://localhost:8080/"
    },
    "id": "Ooa01u8_UtZB",
    "outputId": "5494c43d-4876-4be5-d519-4a7e0e1bb445"
   },
   "outputs": [
    {
     "name": "stdout",
     "output_type": "stream",
     "text": [
      "['1', 1, False, [3], (-5+1j)]\n",
      "1 1 False [3] (-5+1j)\n",
      "1 1 False [3] (-5+1j)\n"
     ]
    }
   ],
   "source": [
    "test_list = ['1', 1, False, [3], -5+1j]\n",
    "\n",
    "print(test_list)\n",
    "\n",
    "print(*test_list)\n",
    "print(test_list[0], test_list[1], test_list[2], test_list[3], test_list[4])"
   ]
  },
  {
   "cell_type": "markdown",
   "metadata": {
    "id": "tMs2hmBIVAq-"
   },
   "source": [
    "Т.е. оператор распаковки `*` преобразует контейнер в набор позиционных аргументов.\n",
    "\n",
    "Оператор распаковки `**` действует аналогично для словаря, но преобразует его в набор ключевых аргументов."
   ]
  },
  {
   "cell_type": "code",
   "execution_count": null,
   "metadata": {
    "colab": {
     "base_uri": "https://localhost:8080/"
    },
    "id": "hny0sj2UVXJe",
    "outputId": "9aac7b37-74d8-4cfb-95b5-83ce68107724"
   },
   "outputs": [
    {
     "name": "stdout",
     "output_type": "stream",
     "text": [
      "Hello, world!\n",
      "This is my first program!END OF PRINT\n",
      "\n",
      "Hello, world!\n",
      "This is my first program!END OF PRINT"
     ]
    }
   ],
   "source": [
    "test_dict = {\"sep\": \"\\n\", 'end': 'END OF PRINT'}\n",
    "# передаём в качестве разделителя \"\\n\", в качестве завершающей строки \"END OF PRINT\"\n",
    "print(\"Hello, world!\", \"This is my first program!\", **test_dict)\n",
    "\n",
    "print()\n",
    "print()\n",
    "\n",
    "print(\"Hello, world!\", \"This is my first program!\", sep=\"\\n\", end='END OF PRINT')"
   ]
  },
  {
   "cell_type": "markdown",
   "metadata": {
    "id": "DpdpAJX6V1Hj"
   },
   "source": [
    "Оператор распаковки также применяют, когда количество возвращаемых значений неизвестно или переменно:"
   ]
  },
  {
   "cell_type": "code",
   "execution_count": 26,
   "metadata": {
    "colab": {
     "base_uri": "https://localhost:8080/"
    },
    "id": "_drFhCZ1WKtE",
    "outputId": "5e757fd9-3c51-48d1-ef5b-01a54e60c2c9"
   },
   "outputs": [
    {
     "name": "stdout",
     "output_type": "stream",
     "text": [
      "1 1 [2, 3, 5, 8, 13]\n"
     ]
    }
   ],
   "source": [
    "test_list = [1, 1, 2, 3, 5, 8, 13]\n",
    "\n",
    "first_value, second_value, *other_values = test_list\n",
    "print(first_value, second_value, other_values)"
   ]
  },
  {
   "cell_type": "markdown",
   "metadata": {
    "id": "SppmeK5YWXfY"
   },
   "source": [
    "В `result_other` может попасть и 0 переменных:"
   ]
  },
  {
   "cell_type": "code",
   "execution_count": 28,
   "metadata": {
    "colab": {
     "base_uri": "https://localhost:8080/"
    },
    "id": "T65D10ZOWcek",
    "outputId": "51b7cb48-01b1-429d-df83-cbca9653c2c3"
   },
   "outputs": [
    {
     "name": "stdout",
     "output_type": "stream",
     "text": [
      "1 []\n"
     ]
    }
   ],
   "source": [
    "shorter_list = test_list[:1]\n",
    "\n",
    "first_value, *other_values = shorter_list\n",
    "print(first_value, other_values)"
   ]
  },
  {
   "cell_type": "markdown",
   "metadata": {
    "id": "YpePbrmuWnW8"
   },
   "source": [
    "Однако, остальные переменные обязательно должны быть заполнены:"
   ]
  },
  {
   "cell_type": "code",
   "execution_count": 30,
   "metadata": {
    "colab": {
     "base_uri": "https://localhost:8080/",
     "height": 220
    },
    "id": "q5XnzoKaWlx6",
    "outputId": "9010e751-39ec-4057-8c35-15a99ea68d27"
   },
   "outputs": [
    {
     "name": "stdout",
     "output_type": "stream",
     "text": [
      "1 1 [2, 3, 5, 8, 13]\n"
     ]
    }
   ],
   "source": [
    "test_list_shortest = test_list[:1]\n",
    "\n",
    "first_value, second_value, *other_values = test_list\n",
    "print(first_value, second_value, other_values)"
   ]
  },
  {
   "cell_type": "markdown",
   "metadata": {
    "id": "6o9csFGOugt3"
   },
   "source": [
    "Аналогично, если забыть добавить звёздочку, Python посчитает, что присвоить нужно конкретные значения, а не переменный список, и в случае вышше будет ожидать три конкретных значения. При получении больше трёх значений для присваивания выбросится ошибка. Как говорится, проще показать, чем объяснить:"
   ]
  },
  {
   "cell_type": "code",
   "execution_count": 32,
   "metadata": {
    "id": "26COZE5xugt3",
    "outputId": "045b6fc4-e6f6-4037-d6c9-bb89a09cb579"
   },
   "outputs": [
    {
     "ename": "ValueError",
     "evalue": "too many values to unpack (expected 3)",
     "output_type": "error",
     "traceback": [
      "\u001b[1;31m---------------------------------------------------------------------------\u001b[0m",
      "\u001b[1;31mValueError\u001b[0m                                Traceback (most recent call last)",
      "Cell \u001b[1;32mIn[32], line 1\u001b[0m\n\u001b[1;32m----> 1\u001b[0m first_value, second_value, other_values \u001b[38;5;241m=\u001b[39m test_list\n\u001b[0;32m      2\u001b[0m \u001b[38;5;28mprint\u001b[39m(first_value, second_value, other_values)\n",
      "\u001b[1;31mValueError\u001b[0m: too many values to unpack (expected 3)"
     ]
    }
   ],
   "source": [
    "first_value, second_value, other_values = test_list\n",
    "print(first_value, second_value, other_values)"
   ]
  },
  {
   "cell_type": "markdown",
   "metadata": {
    "id": "pJuzcPZeugt3"
   },
   "source": [
    "**Лайфхак**\n",
    "\n",
    "Для того чтобы отбросить лишние возвращаемые значения, можно использовать общепризнанный символ `_`. По сути, это объявит переменную, называющуюся \"_\", и можно будет к ней обратиться дальше в коде, но обычно этот символ используют, чтобы закинуть туда что-нибудь ненужное:"
   ]
  },
  {
   "cell_type": "code",
   "execution_count": null,
   "metadata": {
    "id": "H4c-bP5Ougt3",
    "outputId": "a2681ce7-7d1f-4cb1-c97c-a348fe76b04f"
   },
   "outputs": [
    {
     "name": "stdout",
     "output_type": "stream",
     "text": [
      "1 [1, 2, 3, 5, 8, 13]\n"
     ]
    }
   ],
   "source": [
    "first_value, *_ = test_list\n",
    "print(first_value, _)"
   ]
  },
  {
   "cell_type": "markdown",
   "metadata": {
    "id": "SKYdyALUugt3"
   },
   "source": [
    "**Упражнение**  🤗\n",
    "\n",
    "А что произойдёт, если взять одну звёздочку от словаря?"
   ]
  },
  {
   "cell_type": "code",
   "execution_count": null,
   "metadata": {
    "id": "bttxkjW9ugt3"
   },
   "outputs": [],
   "source": [
    "# рубрика ээээээксперименты"
   ]
  },
  {
   "cell_type": "code",
   "execution_count": null,
   "metadata": {},
   "outputs": [],
   "source": []
  },
  {
   "cell_type": "code",
   "execution_count": 34,
   "metadata": {},
   "outputs": [
    {
     "name": "stdout",
     "output_type": "stream",
     "text": [
      "1 2 3\n"
     ]
    }
   ],
   "source": [
    "d = {1:'a',2:'b',3:'c'}\n",
    "print(*d)"
   ]
  },
  {
   "cell_type": "markdown",
   "metadata": {
    "id": "7YyjFmQIugt3"
   },
   "source": [
    "## Переменное число аргументов"
   ]
  },
  {
   "cell_type": "markdown",
   "metadata": {
    "id": "yhEetvlaVrNR"
   },
   "source": [
    "Операторы распаковки можно использовать и при объявлении функции, чтобы она могла принимать произвольное количество аргументов. В общем случае объявление функции выглядит так:\n",
    "\n",
    "```python\n",
    "def foo(\n",
    "    positional or keyword args, # аргументы, которые могут передаваться как именованно, так и позиционно\n",
    "    *[other positional args], # обычно обозначается *args или просто *, переменный список позиционных аргументов. Представляет собой кортеж\n",
    "    keyword-only args, # именованные аргументы, которые нельзя передавать позиционно\n",
    "    **[other keyword args] # обычно обозначается **kwargs или просто **, переменный список именованных аргументов. Представляет собой словарь\n",
    ")\n",
    "```\n",
    "\n",
    "Разумеется, можно использовать любое подмножество этих типов аргументов, не обязательно указывать их все."
   ]
  },
  {
   "cell_type": "markdown",
   "metadata": {
    "id": "vc2j36Djugt4"
   },
   "source": [
    "Мы можем задать функцию с переменным числом позиционных аргументов. Например, это можно использовать для того, чтобы собрать вместе несколько списков (функция `chain` в пакете `itertools` делает то же самое):"
   ]
  },
  {
   "cell_type": "code",
   "execution_count": null,
   "metadata": {
    "id": "bUcVxKYfql4m",
    "outputId": "a6822e8b-be57-4cf8-85a1-6641f98b134d"
   },
   "outputs": [
    {
     "name": "stdout",
     "output_type": "stream",
     "text": [
      "Input elements: ([1], ['a', 'b'])\n",
      "[1, 'a', 'b']\n",
      "Input elements: ([1], ['a', 'b'], [True, False])\n",
      "[1, 'a', 'b', True, False]\n",
      "Input elements: ()\n",
      "[]\n"
     ]
    }
   ],
   "source": [
    "def merge_lists(*lists):\n",
    "    print(\"Input elements:\", lists)\n",
    "    main_list = []\n",
    "    for lst in lists:\n",
    "        main_list.extend(lst)\n",
    "    return main_list\n",
    "\n",
    "print(merge_lists([1], ['a', 'b']))\n",
    "print(merge_lists([1], ['a', 'b'], [True, False]))\n",
    "print(merge_lists())"
   ]
  },
  {
   "cell_type": "markdown",
   "metadata": {
    "id": "VtNSc8JHXQLn"
   },
   "source": [
    "Аналогично и для оператора `**` и ключевых аргументов:"
   ]
  },
  {
   "cell_type": "code",
   "execution_count": null,
   "metadata": {
    "id": "YHgrjI4BXWBL",
    "outputId": "937340d4-a4ef-4bcd-ed3d-df953c5bd78f"
   },
   "outputs": [
    {
     "name": "stdout",
     "output_type": "stream",
     "text": [
      "Input kwargs: {'a': '1', 'b': [2], 'answer': 42}\n",
      "Answer: 42\n"
     ]
    }
   ],
   "source": [
    "def print_keyword_args(**kwargs):\n",
    "    print(\"Input kwargs:\", kwargs)\n",
    "    print(\"Answer:\", kwargs.get(\"answer\", \"Not Found\"))\n",
    "\n",
    "print_keyword_args(a=\"1\", b=[2], answer=42)"
   ]
  },
  {
   "cell_type": "markdown",
   "metadata": {
    "id": "8vs1AHt2YG23"
   },
   "source": [
    "Таким образом, можем объявить функцию, которая принимает любое количество любых аргументов:"
   ]
  },
  {
   "cell_type": "code",
   "execution_count": null,
   "metadata": {
    "id": "Sh8RHFC1HlhK",
    "outputId": "42cf457c-2aa2-430e-ad26-548857e5460c"
   },
   "outputs": [
    {
     "name": "stdout",
     "output_type": "stream",
     "text": [
      "args = () kwargs = {}\n",
      "args = (1, 2, 3) kwargs = {'a': 4}\n",
      "args = () kwargs = {'answer': 42}\n"
     ]
    }
   ],
   "source": [
    "def uberfunc(*args, **kwargs):\n",
    "    print('args =', args, 'kwargs =', kwargs)\n",
    "\n",
    "uberfunc()\n",
    "uberfunc(1, 2, 3, a=4)\n",
    "uberfunc(answer=42)"
   ]
  },
  {
   "cell_type": "markdown",
   "metadata": {
    "id": "vEguxNiZugt5"
   },
   "source": [
    "**Упражнение**  🤗\n",
    "\n",
    "Что выведется при вызовах функции, определённой ниже?\n",
    "\n",
    "```python\n",
    "\n",
    "def read_and_merge_files(base_path: str, *files: str, binary: str = False) -> None:\n",
    "    print(f'{base_path=}, {files=}, {binary=}')\n",
    "\n",
    "1) read_and_merge_files('a', 'b', 'c', 'd')\n",
    "2) read_and_merge_files('a', 'b', 'c', 'd', True)\n",
    "3) read_and_merge_files('a', 'b', 'c', 'd', binary=True)\n",
    "    \n",
    "```"
   ]
  },
  {
   "cell_type": "code",
   "execution_count": 36,
   "metadata": {},
   "outputs": [
    {
     "name": "stdout",
     "output_type": "stream",
     "text": [
      "base_path='a', files=('b', 'c', 'd'), binary=False\n",
      "base_path='a', files=('b', 'c', 'd', True), binary=False\n",
      "base_path='a', files=('b', 'c', 'd'), binary=True\n"
     ]
    }
   ],
   "source": [
    "def read_and_merge_files(base_path: str, *files: str, binary: str = False) -> None:\n",
    "    print(f'{base_path=}, {files=}, {binary=}')\n",
    "\n",
    "read_and_merge_files('a', 'b', 'c', 'd')\n",
    "read_and_merge_files('a', 'b', 'c', 'd', True)\n",
    "read_and_merge_files('a', 'b', 'c', 'd', binary=True)"
   ]
  },
  {
   "cell_type": "markdown",
   "metadata": {
    "id": "tRnVg25Nugt5"
   },
   "source": [
    "**Примечание**\n",
    "\n",
    "Обычно позиционность используется для того, чтобы передать наиболее важные аргументы в функцию, а именованные аргументы - для изменения каких-то несущественных деталей поведения функции.\n",
    "\n",
    "**Примечание для смешариков**\n",
    "\n",
    "Часто конструкция `(*args, **kwargs)` применяется при наследовании классов, чтобы инициализировать родительский класс какими-то параметрами, которые дочерний класс может не использовать. Например:\n",
    "\n",
    "```python\n",
    "class Son(Parent):\n",
    "\n",
    "    def __init__(self, specific_argument, *args, **kwargs):\n",
    "        super().__init__(*args, **kwargs) # инициадизируем родителя и отдаём ему все \"лишние\" аргументы\n",
    "        do_something(specific_argument)\n",
    "```\n",
    "\n",
    "Тот же принцип используется и внутри функций некоторых библиотек, чтобы передавать \"низлежащим\" функциям аргументы на обработку."
   ]
  },
  {
   "cell_type": "markdown",
   "metadata": {
    "id": "oB8vpUQ0tKK7"
   },
   "source": [
    "[Звездочки в питоне - как они используются](https://tproger.ru/translations/asterisks-in-python-what-they-are-and-how-to-use-them/)"
   ]
  },
  {
   "cell_type": "markdown",
   "metadata": {
    "id": "4EnFZjOqHlhR"
   },
   "source": [
    "## Анонимные функции"
   ]
  },
  {
   "cell_type": "markdown",
   "metadata": {
    "id": "Urx5cHDFx-HI"
   },
   "source": [
    "**Анонимная функция** - особый вид функций, которые объявляются в месте использования и не получают уникального идентификатора (имени) для доступа к ним. В Python они реализованы как **лямбда-функции**. Лямбда-функция может принимать любое количество аргументов, но имеет только одно выражение (одну строку), которое и возвращает при вызове."
   ]
  },
  {
   "cell_type": "markdown",
   "metadata": {
    "id": "3_jWYIsMzbjo"
   },
   "source": [
    "Основной синтаксис лямбда-функции выглядит следующим образом:\n",
    "\n",
    "```python\n",
    "lambda x: command()\n",
    "```"
   ]
  },
  {
   "cell_type": "markdown",
   "metadata": {
    "id": "L1d4BUVtqsqe"
   },
   "source": [
    "Создадим анонимную функцию и запишем ее в переменную:"
   ]
  },
  {
   "cell_type": "code",
   "execution_count": 36,
   "metadata": {
    "id": "YjPCJ0MHq6Ip"
   },
   "outputs": [],
   "source": [
    "f_lambda = lambda x: print(x, end='EOL')"
   ]
  },
  {
   "cell_type": "markdown",
   "metadata": {
    "id": "2Pc2WMgkrNVc"
   },
   "source": [
    "Проверим, что мы действительно создали функцию:"
   ]
  },
  {
   "cell_type": "code",
   "execution_count": 39,
   "metadata": {
    "id": "NEP033u1rM4m"
   },
   "outputs": [
    {
     "data": {
      "text/plain": [
       "function"
      ]
     },
     "execution_count": 39,
     "metadata": {},
     "output_type": "execute_result"
    }
   ],
   "source": [
    "type(f_lambda)"
   ]
  },
  {
   "cell_type": "markdown",
   "metadata": {
    "id": "N3L3-WbGrZJy"
   },
   "source": [
    "Проверим как работает наша лямбда-функция:"
   ]
  },
  {
   "cell_type": "code",
   "execution_count": 42,
   "metadata": {
    "id": "_0PM4aserdwT"
   },
   "outputs": [
    {
     "name": "stdout",
     "output_type": "stream",
     "text": [
      "Hello!EOL"
     ]
    }
   ],
   "source": [
    "f_lambda(\"Hello!\")"
   ]
  },
  {
   "cell_type": "markdown",
   "metadata": {
    "id": "dFsPcHppq6bZ"
   },
   "source": [
    "Записав нашу лямбда-функцию в переменную мы ей как бы дали имя, на практике так не делают - всегда лучше явно объявить функцию через `def ...`, если планируется использовать её больше одного раза."
   ]
  },
  {
   "cell_type": "markdown",
   "metadata": {
    "id": "qKjc-KEIrEDa"
   },
   "source": [
    "Созданная нами функция полностью эквивалентна следующей обычной (именованной) функции:"
   ]
  },
  {
   "cell_type": "code",
   "execution_count": 44,
   "metadata": {
    "id": "INpcKkYgHlhR",
    "outputId": "3e847b73-7f04-4409-c769-5742c563997e"
   },
   "outputs": [
    {
     "name": "stdout",
     "output_type": "stream",
     "text": [
      "Hello!EOL"
     ]
    }
   ],
   "source": [
    "def f(x):\n",
    "    return print(x, end='EOL')\n",
    "\n",
    "f(\"Hello!\")"
   ]
  },
  {
   "cell_type": "markdown",
   "metadata": {
    "id": "BpLetvDvsJ4g"
   },
   "source": [
    "Как и обычная функция, лямбда-функция может принимать на вход несколько аргументов и иметь значения по умолчанию:"
   ]
  },
  {
   "cell_type": "code",
   "execution_count": null,
   "metadata": {
    "colab": {
     "base_uri": "https://localhost:8080/"
    },
    "id": "O0CR6LbjsTyv",
    "outputId": "c939548d-79cb-4b1a-fc02-42765ef2403f"
   },
   "outputs": [
    {
     "name": "stdout",
     "output_type": "stream",
     "text": [
      "13010\n",
      "14\n",
      "13114\n"
     ]
    }
   ],
   "source": [
    "print((lambda x, y=4: x + y)(10, 13000))\n",
    "print((lambda x, y=4: x + y)(10))\n",
    "print((lambda x, y=4, *args: x + y + sum(args))(10, 13000, 4, 100))"
   ]
  },
  {
   "cell_type": "markdown",
   "metadata": {
    "id": "LY-n6bMWxrlt"
   },
   "source": [
    "### Применения лямбда-функций"
   ]
  },
  {
   "cell_type": "markdown",
   "metadata": {
    "id": "vHSJFdnvxvEF"
   },
   "source": [
    "**Зачем нужны лямбда-функции?** Некоторые функции принимают в качестве аргумента не обычную переменную, например, числовую или строку, а другую функцию. Эта переданная функция-аргумент используется для каких-либо вычислений внутри и обычно является достаточно простой.\n",
    "\n",
    "Ярким примером такой функции является функция `sorted`. Она используется для сортировки контейнеров по возрастанию и по умолчанию для этого она сравнивает элементы контейнера между собой."
   ]
  },
  {
   "cell_type": "code",
   "execution_count": null,
   "metadata": {
    "id": "1qpp_q82Bk4q",
    "outputId": "004e9a6f-943d-4841-a77c-7cf07f2e3656"
   },
   "outputs": [
    {
     "data": {
      "text/plain": [
       "[2, 3, 14, 15, 73]"
      ]
     },
     "execution_count": 15,
     "metadata": {},
     "output_type": "execute_result"
    }
   ],
   "source": [
    "test_list = [3, 14, 15, 2, 73]\n",
    "\n",
    "sorted(test_list)"
   ]
  },
  {
   "cell_type": "markdown",
   "metadata": {
    "id": "rTp4TnH0y6gv"
   },
   "source": [
    "Иногда в качестве элементов нашего сортируемого контейнера используются другие контейнеры, например, кортежи и списки. Часто в таких случаях мы хотим выполнить не стандартную лексикографическую сортировку, а, например, сортировку по какому-либо конкретному индексу контейнера-элемента.\n",
    "\n",
    "Разберем это на примере. Пусть имеем список `customer_data`, который содержит пары элементов (кортеж из двух элементов) \"имя клиента\", \"полученный доход\"."
   ]
  },
  {
   "cell_type": "code",
   "execution_count": 1,
   "metadata": {
    "id": "GKj7ZLRTB4DA"
   },
   "outputs": [],
   "source": [
    "customer_data = [(\"ivan\", 2), (\"george\", 4), (\"carl\", 1), (\"liz\", 20), (\"vlad\", 10)]"
   ]
  },
  {
   "cell_type": "markdown",
   "metadata": {
    "id": "8Iht36M6zwkR"
   },
   "source": [
    "Попробуем отсортировать этот список стандартным способом:"
   ]
  },
  {
   "cell_type": "code",
   "execution_count": null,
   "metadata": {
    "colab": {
     "base_uri": "https://localhost:8080/"
    },
    "id": "8Er2X9TGCQ9h",
    "outputId": "d99bdc03-2823-4ab6-aad8-7c32cd00f84b"
   },
   "outputs": [
    {
     "data": {
      "text/plain": [
       "[('carl', 1), ('george', 4), ('ivan', 2), ('liz', 20), ('vlad', 10)]"
      ]
     },
     "execution_count": 17,
     "metadata": {},
     "output_type": "execute_result"
    }
   ],
   "source": [
    "sorted(customer_data)"
   ]
  },
  {
   "cell_type": "markdown",
   "metadata": {
    "id": "XHZ9z-Fw1HPy"
   },
   "source": [
    "Сортировка выполнилась в первую очередь по первому полю (как и полагается лексикографически). Но нам бы хотелось отсортировать список по доходу с клиентов.\n",
    "\n",
    "Здесь нам поможет один из необязательных аргументов функции `sorted` - `key`. Он принимает на вход функцию (не путать со значением/результатом функции), которая принимает один аргумент - элемент списка, и возвращает одно значение, по которому и будет выполняться сортировка.\n",
    "\n",
    "В таких случаях, когда функция используется лишь один раз для небольшой работы, и применяют лямбда-функции. Выполним сортировку с использованием аргумента `key`:"
   ]
  },
  {
   "cell_type": "code",
   "execution_count": 3,
   "metadata": {
    "id": "x8sJL0PoCh0k"
   },
   "outputs": [
    {
     "data": {
      "text/plain": [
       "[('carl', 1), ('ivan', 2), ('george', 4), ('vlad', 10), ('liz', 20)]"
      ]
     },
     "execution_count": 3,
     "metadata": {},
     "output_type": "execute_result"
    }
   ],
   "source": [
    "sorted(customer_data, key=lambda x: x[1])  # сортируем по элементу с индексом 1"
   ]
  },
  {
   "cell_type": "markdown",
   "metadata": {
    "id": "P7Y8GYWK2eF6"
   },
   "source": [
    "Как видим, получили сортировку по элементу с индексом 1, но хотелось бы иметь сортировку по убыванию. Здесь нам может помочь другой аргумент - `reverse`, который позволяет выполнить сортировку по убыванию (в обратном порядке)."
   ]
  },
  {
   "cell_type": "markdown",
   "metadata": {
    "id": "A3wByLc83vg6"
   },
   "source": [
    "Еще один способ выполнить сортировку по полю 1 по убыванию - изменить нашу лямбда-фукнцию:"
   ]
  },
  {
   "cell_type": "markdown",
   "metadata": {
    "id": "ybkeOPZ94c-X"
   },
   "source": [
    "**Упражнение**  🤗\n",
    "\n",
    "Отсортируйте массив `customer_data` по убыванию длины имен, которые стоят на первом месте"
   ]
  },
  {
   "cell_type": "code",
   "execution_count": null,
   "metadata": {
    "id": "bswka_yoF8UW"
   },
   "outputs": [],
   "source": [
    "# место для вашего кода"
   ]
  },
  {
   "cell_type": "code",
   "execution_count": null,
   "metadata": {},
   "outputs": [],
   "source": []
  },
  {
   "cell_type": "code",
   "execution_count": null,
   "metadata": {},
   "outputs": [],
   "source": []
  },
  {
   "cell_type": "code",
   "execution_count": 40,
   "metadata": {},
   "outputs": [
    {
     "data": {
      "text/plain": [
       "[('george', 4), ('ivan', 2), ('carl', 1), ('vlad', 10), ('liz', 20)]"
      ]
     },
     "execution_count": 40,
     "metadata": {},
     "output_type": "execute_result"
    }
   ],
   "source": [
    "customer_data = [(\"ivan\", 2), (\"george\", 4), (\"carl\", 1), (\"liz\", 20), (\"vlad\", 10)]\n",
    "sorted(customer_data, key=lambda x: len(x[0]), reverse=True) "
   ]
  },
  {
   "cell_type": "markdown",
   "metadata": {
    "id": "31Uf03XS5Sbs"
   },
   "source": [
    "Еще одним примером встроенной функции, которая в качестве аргументов принимает другую функцию, является функция `map`."
   ]
  },
  {
   "cell_type": "markdown",
   "metadata": {
    "id": "F7Bm_yJ-Dh-c"
   },
   "source": [
    "Функция `map` позволяет применить одну функцию ко всем элементам контейнера. Функция `map` возвращает результат в специальном служебном типе данных, поэтому преобразуем его в список."
   ]
  },
  {
   "cell_type": "code",
   "execution_count": null,
   "metadata": {
    "id": "98y1K-7RHlhR"
   },
   "outputs": [],
   "source": [
    "list(map(lambda x: x ** 2, [1, 2, 3]))"
   ]
  },
  {
   "cell_type": "markdown",
   "metadata": {
    "id": "2n3POXtN8wd3"
   },
   "source": [
    "Один из частых сценариев применения функции `map` - считывание набора чисел, вводимых из строки."
   ]
  },
  {
   "cell_type": "markdown",
   "metadata": {
    "id": "vxmGaW7wAI9J"
   },
   "source": [
    "Предположим, мы считали строку в переменную `input_str`:"
   ]
  },
  {
   "cell_type": "code",
   "execution_count": null,
   "metadata": {
    "id": "IvnoKIRgBJ84"
   },
   "outputs": [],
   "source": [
    "input_str = \"123 456 123778 8898\""
   ]
  },
  {
   "cell_type": "markdown",
   "metadata": {
    "id": "79lk7aUZBKVh"
   },
   "source": [
    "Затем можем разбить строку эту строку на отдельные элементы по пробелу:"
   ]
  },
  {
   "cell_type": "code",
   "execution_count": null,
   "metadata": {
    "id": "d6Ax6jCpD7Wk"
   },
   "outputs": [],
   "source": [
    "input_str_list = input_str.split(' ')\n",
    "input_str_list"
   ]
  },
  {
   "cell_type": "markdown",
   "metadata": {
    "id": "uVr5Bt1RBV2F"
   },
   "source": [
    "Остается лишь преобразовать элементы из строкового типа в целочисленный:"
   ]
  },
  {
   "cell_type": "code",
   "execution_count": null,
   "metadata": {
    "id": "Jkv3QiKVFcke"
   },
   "outputs": [],
   "source": [
    "list(map(int, input_str_list))"
   ]
  },
  {
   "cell_type": "markdown",
   "metadata": {
    "id": "pTRXcR5k3ZPM"
   },
   "source": [
    "Где еще применяются лямбда-функции:\n",
    "- встроенные функции `min()`, `max()`\n",
    "- функции `nlargest()` и `nsmallest()` из модуля `heapq`\n",
    "- функция `filter` - фильтрование элементов списка, применяем к элементам функцию, если вернула `True`, то оставляем\n",
    "- многие библиотеки\n"
   ]
  },
  {
   "cell_type": "markdown",
   "metadata": {
    "id": "vj3iH5ORGDZG"
   },
   "source": [
    "## Рекурсия"
   ]
  },
  {
   "cell_type": "markdown",
   "metadata": {
    "id": "DG0N1qRcaKn8"
   },
   "source": [
    "Функция называется **рекурсивной**, если в ходе своего исполнения она вызывает саму себя. Рассмотрим рекурсию на примере одного из простейших алгоритмов сортировки.\n",
    "\n",
    "Общая идея алгоритма:\n",
    "1. Текущий список = входной список\n",
    "2. Найти минимальный элемент в текущем списке\n",
    "3. Удалить минимальный элемент из текущего списка, получим новый список\n",
    "4. Повторить п. 2-3 для нового списка, тогда `sorted_input_list = [min_elem] + sorted_current_list`"
   ]
  },
  {
   "cell_type": "code",
   "execution_count": 46,
   "metadata": {
    "id": "JAuR_ofnHlhK"
   },
   "outputs": [],
   "source": [
    "def easy_sort(x):\n",
    "    if len(x) == 1:\n",
    "         return x  # при вызове return функция возвращает значение и ее выполнение завершается\n",
    "    first = min(x)\n",
    "    x.remove(first)\n",
    "    print(\"Min:\", first, \"rest:\", x)\n",
    "    result = [first] + easy_sort(x)\n",
    "    print(\"Result:\", result)\n",
    "    return result"
   ]
  },
  {
   "cell_type": "markdown",
   "metadata": {
    "id": "DxP7aSdlvQvh"
   },
   "source": [
    "Проверим его работу:"
   ]
  },
  {
   "cell_type": "code",
   "execution_count": 49,
   "metadata": {
    "colab": {
     "base_uri": "https://localhost:8080/"
    },
    "id": "hS5rD7LUvYt2",
    "outputId": "eedacb4b-3b4d-4dad-bad7-c9774081e441"
   },
   "outputs": [
    {
     "name": "stdout",
     "output_type": "stream",
     "text": [
      "Min: 1 rest: [4, 2, 3, 7, 5]\n",
      "Min: 2 rest: [4, 3, 7, 5]\n",
      "Min: 3 rest: [4, 7, 5]\n",
      "Min: 4 rest: [7, 5]\n",
      "Min: 5 rest: [7]\n",
      "Result: [5, 7]\n",
      "Result: [4, 5, 7]\n",
      "Result: [3, 4, 5, 7]\n",
      "Result: [2, 3, 4, 5, 7]\n",
      "Result: [1, 2, 3, 4, 5, 7]\n"
     ]
    },
    {
     "data": {
      "text/plain": [
       "[1, 2, 3, 4, 5, 7]"
      ]
     },
     "execution_count": 49,
     "metadata": {},
     "output_type": "execute_result"
    }
   ],
   "source": [
    "easy_sort([4, 2, 3, 1, 7, 5])"
   ]
  },
  {
   "cell_type": "markdown",
   "metadata": {
    "id": "GnTm_ZncZ9bu"
   },
   "source": [
    "Важным моментом любой рекурсивной функции является условие остановки - иначе функция будет бесконечно вызывать саму себя."
   ]
  },
  {
   "cell_type": "markdown",
   "metadata": {
    "id": "Rj8d6dznvs8s"
   },
   "source": [
    "**Как работает рекурсия?**\n",
    "\n",
    "Перед новым вызовом функции Python запоминает текущее состояние предыдущего (родительского) вызова и помещает его в стек вызовов в память компьютера.\n",
    "\n",
    "В этом и заключается опасность рекурсии - память ограничена, поэтому и глубина рекурсии (сколько функций внутри функций внутри функций... можно вызвать)."
   ]
  },
  {
   "cell_type": "markdown",
   "metadata": {
    "id": "ZH3A4fKpxAOh",
    "tags": []
   },
   "source": [
    "##### **Примечание для смешариков - максимальная глубина рекурсии в Python и как это обойти**"
   ]
  },
  {
   "cell_type": "markdown",
   "metadata": {
    "id": "fNn20WSWwFJG"
   },
   "source": [
    "В Python имеется жесткий лимит на глубину рекурсии во избежании заполнения памяти:"
   ]
  },
  {
   "cell_type": "code",
   "execution_count": null,
   "metadata": {
    "colab": {
     "base_uri": "https://localhost:8080/"
    },
    "id": "52zFvrR8uUDD",
    "outputId": "2e4edcdf-7703-4479-dc50-1f8eeb95a425"
   },
   "outputs": [
    {
     "data": {
      "text/plain": [
       "3000"
      ]
     },
     "execution_count": 9,
     "metadata": {},
     "output_type": "execute_result"
    }
   ],
   "source": [
    "import sys\n",
    "sys.getrecursionlimit()"
   ]
  },
  {
   "cell_type": "markdown",
   "metadata": {
    "id": "j7S8-6bhwmC1"
   },
   "source": [
    "Этот лимит можно обойти с помощью:"
   ]
  },
  {
   "cell_type": "code",
   "execution_count": null,
   "metadata": {
    "id": "JRFcGM2vwp7Z"
   },
   "outputs": [],
   "source": [
    "sys.setrecursionlimit(1_000_000)"
   ]
  },
  {
   "cell_type": "markdown",
   "metadata": {
    "id": "cjoLdxrNwuX7"
   },
   "source": [
    "но так делать не рекомендуется!\n",
    "\n",
    "Этот лимит существует именно таким маленьким, чтобы ваша программа упала намного раньше, чем у вас закончится оперативная память и кроме вашей программы начнут падать и остальные расположенные на том же компьютере"
   ]
  },
  {
   "cell_type": "markdown",
   "metadata": {
    "id": "jzi25oWazvVM"
   },
   "source": [
    "По этой причине рекомендуется по возможности заменить рекурсивные функции на содержащие внутри себя циклы.\n",
    "\n",
    "**Упражнение** 🤗\n",
    "Разверните рекурсию в циклы в коде ниже!"
   ]
  },
  {
   "cell_type": "code",
   "execution_count": null,
   "metadata": {
    "id": "OU0Cra8Rzunp"
   },
   "outputs": [],
   "source": [
    "def easy_sort_nonrecursive(x):\n",
    "    # место для вашего кода!\n",
    "    result = ...\n",
    "\n",
    "    return result\n",
    "\n",
    "easy_sort_nonrecursive([4, 2, 3, 1, 7, 5])"
   ]
  },
  {
   "cell_type": "markdown",
   "metadata": {},
   "source": [
    "## Задачи\n",
    "\n"
   ]
  },
  {
   "cell_type": "markdown",
   "metadata": {},
   "source": [
    "###### 1\n",
    "\n",
    "Напишите функцию sum_range(start, end), которая суммирует все целые числа от значения «start» до величины «end» включительно. \n",
    "\n",
    "Если пользователь задаст первое число большее чем второе, просто поменяйте их местами."
   ]
  },
  {
   "cell_type": "markdown",
   "metadata": {},
   "source": [
    "###### 2\n",
    "\n",
    "Напишите функцию fibonacci(index), которая находит число Фибоначчи с нужным номером. Аргумент функции index — целое положительное число.\n",
    "\n",
    "Последовательность Фибоначчи задается формулой:\n",
    "\n",
    "F(1) = 0\n",
    "\n",
    "F(2) = 1\n",
    "\n",
    "F(N) = F(N - 1) + F(N - 2) для N >= 3\n",
    "\n",
    "\n",
    "###### 3\n",
    "\n",
    "Напишите функцию last_discharge(a), которая в качестве аргумента получает строку, содержащую число a, и возвращает это же число, уменьшенное на единицу в последнем его разряде в виде строки.\n",
    "\n",
    "Обратите внимание:\n",
    "\n",
    "●     в последнем разряде может быть ноль,\n",
    "\n",
    "●     входная строка может представлять как целое число, так и число с плавающей точкой,\n",
    "\n",
    "●     входная строка содержит число строго больше нуля.\n",
    "\n",
    "\n",
    "    Аргументы  Возвращаемое значение\n",
    "\n",
    "        42           41\n",
    "\n",
    "        45.12       45.11\n",
    "\n",
    "        1.00        0.99\n",
    "\n",
    "        1.0         0.9\n",
    "\n",
    "###### 4\n",
    "Дано действительное положительное число a и целое неотрицательное число n. Вычислите $a^n$ не используя циклы и стандартную функцию pow, а используя рекуррентное соотношение $a^n=a\\cdot a^{n-1}a $\n",
    "\n",
    "Решение оформите в виде функции power(a, n).\n",
    "\n",
    "###### 5\n",
    "\n",
    "В григорианском календаре, который был введен в 1582 году папой римским Григорием XIII обычный год состоит из 365 дней. Но т.к. период обращения Земли вокруг Солнца составляет 365.2425 дней, для устранения накапливающейся ошибки было решено ввести в календарь дополнительные «високосные года» в 366 дней. Таковыми условились считать года кратные 4. Однако этого оказалось недостаточно, поэтому для сведения ошибки к минимуму в григорианский календарь ввели дополнительную коррекцию: каждый год, который делится без остатка на 100, является високосным только тогда, когда он делится еще и на 400. Например, високосным считается 1760 год, т.к. он делится на четыре, но год 1700 високосным не является, т.к. он делится на четыре и сто, но не делится на четыреста. Зная все эти нюансы, напишите функцию, которая будет определять, является ли переданный ей год високосным. Проверьте и выведите на экран годы 1782, 1900, 2000 и 2023.\n",
    "\n",
    "\n",
    "###### 6\n",
    "\n",
    " Напишите функцию для нахождения НОД произвольного количества чисел. Затем найдите и выведите на экран наибольший общий делитель чисел 165, 435 и 300.\n"
   ]
  },
  {
   "cell_type": "code",
   "execution_count": 54,
   "metadata": {},
   "outputs": [
    {
     "name": "stdout",
     "output_type": "stream",
     "text": [
      "77\n",
      "0\n",
      "5\n"
     ]
    }
   ],
   "source": [
    "#1\n",
    "def sum_range(start, end):\n",
    "    if start > end:\n",
    "        end, start = start, end\n",
    "    return sum(range(start, end + 1))\n",
    "\n",
    "print(sum_range(2, 12))\n",
    "print(sum_range(-4, 4))\n",
    "print(sum_range(3, 2))"
   ]
  },
  {
   "cell_type": "code",
   "execution_count": 60,
   "metadata": {},
   "outputs": [
    {
     "data": {
      "text/plain": [
       "1"
      ]
     },
     "execution_count": 60,
     "metadata": {},
     "output_type": "execute_result"
    }
   ],
   "source": [
    "#2\n",
    "def fibonacci(index):\n",
    "    if index ==2:\n",
    "        return 1\n",
    "    elif index==1:\n",
    "        return 0\n",
    "    return fibonacci(index - 1) + fibonacci(index - 2)\n",
    " \n",
    "fibonacci(3)"
   ]
  },
  {
   "cell_type": "code",
   "execution_count": 66,
   "metadata": {},
   "outputs": [
    {
     "data": {
      "text/plain": [
       "'540'"
      ]
     },
     "execution_count": 66,
     "metadata": {},
     "output_type": "execute_result"
    }
   ],
   "source": [
    "#3\n",
    "def last_discharge(a):\n",
    "    #b = input()\n",
    "    if a.find('.') != -1:\n",
    "        b = float(a)\n",
    "        c = b-0.1**(len(a)-a.find('.')-1)\n",
    "        return str(round(c, (len(a)-a.find('.')-1)))\n",
    "    else:\n",
    "        b = int(a)\n",
    "        return str(b-1)\n",
    "last_discharge('541')       "
   ]
  },
  {
   "cell_type": "code",
   "execution_count": 72,
   "metadata": {},
   "outputs": [
    {
     "data": {
      "text/plain": [
       "32"
      ]
     },
     "execution_count": 72,
     "metadata": {},
     "output_type": "execute_result"
    }
   ],
   "source": [
    "def a_n(a,n):\n",
    "    if n==1:\n",
    "        return a\n",
    "    else:\n",
    "        return a_n(a,n-1)*a\n",
    "a_n(2,5)"
   ]
  },
  {
   "cell_type": "code",
   "execution_count": 81,
   "metadata": {},
   "outputs": [
    {
     "name": "stdout",
     "output_type": "stream",
     "text": [
      "1782  - Невисокосный год\n",
      "\n",
      "\n",
      "1900  - Невисокосный год\n",
      "\n",
      "\n",
      "2000  - Високосный год\n",
      "\n",
      "\n",
      "2023  - Невисокосный год\n",
      "\n",
      "\n"
     ]
    }
   ],
   "source": [
    "def leap(year):\n",
    "    if (year%4==0 and year%100!=0) or year%400==0:\n",
    "        print(year, \" - Високосный год\")\n",
    "    else:\n",
    "        print(year, \" - Невисокосный год\")\n",
    "    return '\\n'\n",
    "print(leap(1782))\n",
    "print(leap(1900))\n",
    "print(leap(2000))\n",
    "print(leap(2023))"
   ]
  },
  {
   "cell_type": "code",
   "execution_count": 101,
   "metadata": {},
   "outputs": [
    {
     "name": "stdout",
     "output_type": "stream",
     "text": [
      "3\n",
      "15\n",
      "15\n"
     ]
    }
   ],
   "source": [
    "def nod(a,b,*l):\n",
    "    c=2\n",
    "    while c>1:\n",
    "        a,b = max(a,b), min(a,b)\n",
    "        c=a-b\n",
    "        a,b = max(c,b), min(c,b)\n",
    "\n",
    "    if len(l)==0:\n",
    "        return a\n",
    "    else:\n",
    "        l1, *l2 = l\n",
    "        return nod(a,l1,*l2)\n",
    "print(nod(6,15))\n",
    "print(nod(165,435,300))\n",
    "print(nod(15,45,30))"
   ]
  },
  {
   "cell_type": "code",
   "execution_count": null,
   "metadata": {},
   "outputs": [],
   "source": []
  }
 ],
 "metadata": {
  "colab": {
   "provenance": []
  },
  "kernelspec": {
   "display_name": "Python 3 (ipykernel)",
   "language": "python",
   "name": "python3"
  },
  "language_info": {
   "codemirror_mode": {
    "name": "ipython",
    "version": 3
   },
   "file_extension": ".py",
   "mimetype": "text/x-python",
   "name": "python",
   "nbconvert_exporter": "python",
   "pygments_lexer": "ipython3",
   "version": "3.12.4"
  }
 },
 "nbformat": 4,
 "nbformat_minor": 4
}
