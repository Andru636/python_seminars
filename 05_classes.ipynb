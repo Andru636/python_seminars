{
 "cells": [
  {
   "cell_type": "markdown",
   "metadata": {
    "id": "m0fMdvd6HlhA"
   },
   "source": [
    "#  Объектно-ориентированное программирование в Python\n"
   ]
  },
  {
   "cell_type": "markdown",
   "metadata": {
    "id": "vXAtu9f16Fx1"
   },
   "source": [
    "# Что такое ООП?"
   ]
  },
  {
   "cell_type": "markdown",
   "metadata": {
    "id": "qzJYg59S6yLI"
   },
   "source": [
    "**Парадигма программирования** — совокупность идей и понятий, определяющих стиль написания компьютерных программ (подход к программированию).\n",
    "\n"
   ]
  },
  {
   "cell_type": "markdown",
   "metadata": {
    "id": "Xkuyxigi7sGw"
   },
   "source": [
    "**Парадигмы программирования:**\n",
    "- **императивное программирование** - последовательность команд, которые выполняются одна за другой\n",
    "- **процедурное программирование** - создание процедур и функций для сокращения дублирования кода\n",
    "- **декларативное программирование** - фокус на то \"что\" должна делать программа, а не \"как\" (примерно как SQL)\n",
    "- **функциональное программирование** - разбиение программы на функции, выход одной функции - вход другой\n",
    "- **структурное программирование** - веха в области программирования, структурировали основные элементы написания программ - последовательность, ветвление (if/else), цикл while, подпрограммы (функции)\n",
    "- **объектно-ориентированное программирование**"
   ]
  },
  {
   "cell_type": "markdown",
   "metadata": {
    "id": "px2ehBfw-KLf"
   },
   "source": [
    "**Объектно-ориентированное программирование** - парадигма программирования, основанная на представлении программы в виде совокупности взаимодействующих объектов со своими свойствами и поведениями, каждый из которых является экземпляром определённого класса, которые образуют иерархию наследования.\n",
    "\n",
    "**Основные термины в ООП:**\n",
    "- Класс\n",
    "- Объекты\n",
    "- Абстракция\n",
    "- Инкапсуляция\n",
    "- Наследование\n",
    "- Полиморфизм\n",
    "\n",
    "\n",
    "\n"
   ]
  },
  {
   "cell_type": "markdown",
   "metadata": {
    "id": "BMC8KSIf8B0T"
   },
   "source": [
    "## Объекты и классы"
   ]
  },
  {
   "cell_type": "markdown",
   "metadata": {
    "id": "4VM3sUmn_AXl"
   },
   "source": [
    "Основная идея ООП - выделить в программе отдельные сущности - объекты.\n",
    "\n",
    "**Примеры объектов из реальной жизни** - стол, чашка, человек, книга, здание и т.д.\n",
    "**Примеры объектов в программах** - пользователь, кнопка, сообщение.\n",
    "\n",
    "У объектов могут быть свои свойства, например, цвет, содержание или имя пользователя. Такие переменные (конкретные характеристики объекта) называются **атрибутами**.\n",
    "\n",
    "Возможные действия, например, \"отправить сообщение\", \"нанять сотрудника\", \"нажать кнопку\", называются **методами**. Это функции, которые описаны внутри объекта или класса. Они относятся к определенному объекту и позволяют взаимодействовать с ними или другими частями кода. \n",
    "\n",
    "Чтобы не создавать для каждого отдельного объекта свои методы (переиспользование кода), существуют классы. \n",
    "**Класс** — это «шаблон» для объекта, который описывает его атрибуты и методы Каждый объект — это экземпляр какого-нибудь класса.\n",
    "\n",
    "**Пример** - пишем систему учета сотрудников. Создадим класс \"Сотрудник\" с атрибутами: ФИО, должность, подразделение, руководитель, зарплата; и методами: \"перевести в другой отдел\", \"повысить зарплату\", \"сменить должность\", \"уволить\". Отдельный сотрудник, Вася Петров, является объектом - экземпляром класса \"Сотрудник\"."
   ]
  },
  {
   "cell_type": "markdown",
   "metadata": {
    "id": "hrE9HrLK_GuI"
   },
   "source": [
    "## Абстракция"
   ]
  },
  {
   "cell_type": "markdown",
   "metadata": {
    "id": "Uynr0X-X_LHF"
   },
   "source": [
    "Абстрагирование — это способ выделить набор наиболее важных атрибутов и методов и исключить незначимые. Соответственно, абстракция — это использование всех таких характеристик для описания объекта. Важно представить объект минимальным набором полей и методов без ущерба для решаемой задачи.\n",
    "\n",
    "Пример: объекту класса «программист» вряд ли понадобятся свойства «умение готовить еду» или «любимый цвет». Они не влияют на его особенности как программиста. А вот «основной язык программирования» и «рабочие навыки» — важные свойства, без которых программиста не опишешь.\n",
    "\n",
    "Набор атрибутов и методов, доступный извне, работает как интерфейс для доступа к объекту. Через них к нему могут обращаться другие структуры данных, причем им не обязательно знать, как именно объект устроен внутри.\n",
    "\n"
   ]
  },
  {
   "cell_type": "markdown",
   "metadata": {
    "id": "OnditD-g_Pyk"
   },
   "source": [
    "## Инкапсуляция"
   ]
  },
  {
   "cell_type": "markdown",
   "metadata": {
    "id": "oVy65Crc_RJX"
   },
   "source": [
    "**Каждый объект — независимая структура.** Он содержит в себе все, что ему нужно для работы. Если ему нужна какая-либо переменная, она будет описана в теле объекта, а не наружном коде. Это делает объекты более гибкими. Даже если внешний код перепишут, логика работы не изменится.\n",
    "\n",
    "Инкапсуляция позволяет спрятать от внешнего кода и других объектов детали реализации того или иного метода. Другим объектам не важно (и не нужно) знать как именно объект выполняет свою задачу, главное - что выполняет :)\n",
    "\n",
    "Таким образом, внутреннее устройство одного объекта закрыто от других: извне «видны» только значения атрибутов и результаты выполнения методов."
   ]
  },
  {
   "cell_type": "markdown",
   "metadata": {
    "id": "aUSzkku8BAJ5"
   },
   "source": [
    "## Наследование"
   ]
  },
  {
   "cell_type": "markdown",
   "metadata": {
    "id": "4OywS9aYBDFa"
   },
   "source": [
    "Позволяет создавать классы и объекты, которые похожи друг на друга, но немного отличаются, например, имеют дополнительные атрибуты или другие методы. Более общий класс в таком случае становится «родителем», а более специфичный и подробный — «наследником».\n",
    "\n",
    "Например, класс \"сотрудник\" может иметь наследные классы \"программист\", \"аналитик\" и \"тестировщик\", каждый из которых имеет собственные методы, например, \"запрограммировать\", \"проанализировать\", \"протестировать\", а остальные методы и атрибуты класса \"сотрудник\" будут присутствовать во всех дочерних классах. И наш Вася Пупкин будет и экземпляром класса \"сотрудник\", и класса \"программист\".\n",
    "\n",
    "У одного \"родителя\" может быть несколько дочерних классов, у одного дочернего класса может быть и несколько родительских.\n",
    "\n",
    "Наследование позволяет создавать сложные схемы с четкой иерархией \"от общего к частному\". Это облегчает понимание и масштабирование кода. Не нужно много раз переписывать в разных объектах одни и те же свойства. Достаточно унаследовать эти объекты от одного \"родителя\", и родительские свойства применятся автоматически."
   ]
  },
  {
   "cell_type": "markdown",
   "metadata": {
    "id": "oOrMvc2RDck9"
   },
   "source": [
    "## Полиморфизм"
   ]
  },
  {
   "cell_type": "markdown",
   "metadata": {
    "id": "gknaFCIADc7d"
   },
   "source": [
    "Одинаковые методы разных классов могут выполнять задачи разными способами. Например, у \"сотрудника\" есть метод \"работать\". У \"программиста\" реализация этого метода будет означать написание кода, а у \"тестировщика\" — рассмотрение управленческих вопросов. Но глобально и то, и другое будет работой.\n",
    "\n",
    "Тут важны единый подход и договоренности между специалистами. Если метод называется delete, то он должен что-то удалять. Как именно — зависит от объекта, но заниматься такой метод должен именно удалением. Более того: если оговорено, что «удаляющий» метод называется delete, то не нужно для какого-то объекта называть его remove или иначе. Это вносит путаницу в код."
   ]
  },
  {
   "cell_type": "markdown",
   "metadata": {
    "id": "Czcfs6ui_0yE"
   },
   "source": [
    "---"
   ]
  },
  {
   "cell_type": "markdown",
   "metadata": {
    "id": "qUsPA2zh8tvc"
   },
   "source": [
    "# ООП в Python"
   ]
  },
  {
   "cell_type": "markdown",
   "metadata": {
    "id": "nYKt3cfpOqMG"
   },
   "source": [
    "## Объявление класса и экземпляра"
   ]
  },
  {
   "cell_type": "markdown",
   "metadata": {
    "id": "dzJYh-_ACI8B"
   },
   "source": [
    "В Python объявление класса выполняется следующим образом:"
   ]
  },
  {
   "cell_type": "code",
   "execution_count": null,
   "metadata": {
    "id": "7mwbk4sk8tvd"
   },
   "outputs": [],
   "source": [
    "class MyLittleClass(object):  # название класса и родительский класс, родительский класс по умолчанию - object, его можно и не указывать\n",
    "#class MyLittleClass:\n",
    "    # Атрибут класса\n",
    "    color = \"blue\"\n",
    "    \n",
    "    # Метод\n",
    "    def set_color(self, new_color):\n",
    "        color = new_color\n",
    "        print('set color to', color)"
   ]
  },
  {
   "cell_type": "markdown",
   "metadata": {
    "id": "FvCFgvBICTi5"
   },
   "source": [
    "Создание объекта - экземпляра класса выглядит так:"
   ]
  },
  {
   "cell_type": "code",
   "execution_count": null,
   "metadata": {
    "id": "xak2eN558tvf"
   },
   "outputs": [],
   "source": [
    "obj = MyLittleClass()"
   ]
  },
  {
   "cell_type": "code",
   "execution_count": null,
   "metadata": {
    "colab": {
     "base_uri": "https://localhost:8080/"
    },
    "id": "ICwYtCfMqvaT",
    "outputId": "0f12ac6b-f599-41a7-e851-67a08b5fcb55"
   },
   "outputs": [
    {
     "data": {
      "text/plain": [
       "__main__.MyLittleClass"
      ]
     },
     "execution_count": 14,
     "metadata": {},
     "output_type": "execute_result"
    }
   ],
   "source": [
    "type(obj)"
   ]
  },
  {
   "cell_type": "markdown",
   "metadata": {
    "id": "R2JLIMiiCpia"
   },
   "source": [
    "Обращение к атрибуту экземпляра выглядит следующим образом:"
   ]
  },
  {
   "cell_type": "code",
   "execution_count": null,
   "metadata": {
    "colab": {
     "base_uri": "https://localhost:8080/",
     "height": 34
    },
    "id": "u6o089eZCm4h",
    "outputId": "211bb3fb-5fe1-4b61-d23e-98698e697146"
   },
   "outputs": [
    {
     "data": {
      "application/vnd.google.colaboratory.intrinsic+json": {
       "type": "string"
      },
      "text/plain": [
       "'blue'"
      ]
     },
     "execution_count": 15,
     "metadata": {},
     "output_type": "execute_result"
    }
   ],
   "source": [
    "obj.color"
   ]
  },
  {
   "cell_type": "markdown",
   "metadata": {
    "id": "tUaHwCf4CuVn"
   },
   "source": [
    "Вызов метода экземпляра выглядит так:"
   ]
  },
  {
   "cell_type": "code",
   "execution_count": null,
   "metadata": {
    "colab": {
     "base_uri": "https://localhost:8080/",
     "height": 52
    },
    "id": "H-W9CDTFCmbv",
    "outputId": "6e25684d-2f4c-4623-98ce-55103567a1c5"
   },
   "outputs": [
    {
     "name": "stdout",
     "output_type": "stream",
     "text": [
      "set color to red\n"
     ]
    },
    {
     "data": {
      "application/vnd.google.colaboratory.intrinsic+json": {
       "type": "string"
      },
      "text/plain": [
       "'blue'"
      ]
     },
     "execution_count": 16,
     "metadata": {},
     "output_type": "execute_result"
    }
   ],
   "source": [
    "obj.set_color('red')\n",
    "obj.color"
   ]
  },
  {
   "cell_type": "markdown",
   "metadata": {
    "id": "V_XErrJi8tvg"
   },
   "source": [
    "**Почему `color` внутри объекта не поменялся?**\n",
    "\n",
    "Потому что обращение к атрибутам класса должно иметь форму `self.attribute_name`, а `color` в методе `set_color` -- просто локальная переменная :)"
   ]
  },
  {
   "cell_type": "code",
   "execution_count": 1,
   "metadata": {
    "id": "-a85FGS78tvh"
   },
   "outputs": [],
   "source": [
    "class MyLittleClass2:\n",
    "    color = \"blue\"\n",
    "    \n",
    "    def set_color(self, new_color):\n",
    "        self.color = new_color\n",
    "        print('set color to', self.color)"
   ]
  },
  {
   "cell_type": "code",
   "execution_count": 2,
   "metadata": {
    "colab": {
     "base_uri": "https://localhost:8080/",
     "height": 34
    },
    "id": "ik326jQ18tvi",
    "outputId": "1d8a2bac-b37e-4e4c-ac85-dbb5eafc8c1c"
   },
   "outputs": [
    {
     "data": {
      "text/plain": [
       "'blue'"
      ]
     },
     "execution_count": 2,
     "metadata": {},
     "output_type": "execute_result"
    }
   ],
   "source": [
    "obj = MyLittleClass2()\n",
    "obj.color"
   ]
  },
  {
   "cell_type": "code",
   "execution_count": 3,
   "metadata": {
    "colab": {
     "base_uri": "https://localhost:8080/",
     "height": 52
    },
    "id": "wDbRqmcOFGAq",
    "outputId": "7d1e8182-cccc-4461-fbc6-f68b42e49864"
   },
   "outputs": [
    {
     "name": "stdout",
     "output_type": "stream",
     "text": [
      "set color to red\n"
     ]
    },
    {
     "data": {
      "text/plain": [
       "'red'"
      ]
     },
     "execution_count": 3,
     "metadata": {},
     "output_type": "execute_result"
    }
   ],
   "source": [
    "obj.set_color('red')\n",
    "obj.color"
   ]
  },
  {
   "cell_type": "markdown",
   "metadata": {
    "id": "cnjP70NqEcEL"
   },
   "source": [
    "`self` - ссылка на \"себя\", на экземпляр класса, для которого хотим получить значение атрибута или вызвать метод. Является первым аргументом метода и используется внутри методов. "
   ]
  },
  {
   "cell_type": "markdown",
   "metadata": {
    "id": "UKOPmAXnEvMG"
   },
   "source": [
    "Можем ли мы напрямую поменять значение атрибута экземпляра?\n",
    "\n",
    "Можем, но это считается нехорошей практикой. Предпочтительнее писать т.н. методы-геттеры (для чтения значений атрибутов) и методы-сеттеры (для записи значений атрибутов)"
   ]
  },
  {
   "cell_type": "code",
   "execution_count": null,
   "metadata": {
    "colab": {
     "base_uri": "https://localhost:8080/",
     "height": 34
    },
    "id": "7HDAwT0n8tvj",
    "outputId": "c27116e5-6bb2-44a2-d61f-98ead73a55d9"
   },
   "outputs": [
    {
     "data": {
      "application/vnd.google.colaboratory.intrinsic+json": {
       "type": "string"
      },
      "text/plain": [
       "'green'"
      ]
     },
     "execution_count": 20,
     "metadata": {},
     "output_type": "execute_result"
    }
   ],
   "source": [
    "obj.color = 'green'\n",
    "obj.color"
   ]
  },
  {
   "cell_type": "markdown",
   "metadata": {
    "id": "edl4FNGXFLdW"
   },
   "source": [
    "**Замечание** - в Python все является объектом, даже сам класс, поэтому важно разделять методы и атрибуты экземпляров класса и самого класса:"
   ]
  },
  {
   "cell_type": "code",
   "execution_count": 4,
   "metadata": {
    "colab": {
     "base_uri": "https://localhost:8080/",
     "height": 34
    },
    "id": "dUyKySTlFXOG",
    "outputId": "768e1f5b-1bae-425f-cc7d-9654db202e11"
   },
   "outputs": [
    {
     "data": {
      "text/plain": [
       "'blue'"
      ]
     },
     "execution_count": 4,
     "metadata": {},
     "output_type": "execute_result"
    }
   ],
   "source": [
    "MyLittleClass2.color"
   ]
  },
  {
   "cell_type": "code",
   "execution_count": 5,
   "metadata": {
    "colab": {
     "base_uri": "https://localhost:8080/",
     "height": 34
    },
    "id": "So8VAVkNFYE3",
    "outputId": "30bed1f8-9502-4fab-8305-8db30c09adf6"
   },
   "outputs": [
    {
     "data": {
      "text/plain": [
       "'blue'"
      ]
     },
     "execution_count": 5,
     "metadata": {},
     "output_type": "execute_result"
    }
   ],
   "source": [
    "MyLittleClass2().color"
   ]
  },
  {
   "cell_type": "markdown",
   "metadata": {
    "id": "g2RBsWzbO-mK"
   },
   "source": [
    "## Метод-конструктор"
   ]
  },
  {
   "cell_type": "markdown",
   "metadata": {
    "id": "Tkof5ShdPDEm"
   },
   "source": [
    "Чтобы каждый раз не устанавливать состояние (значения аргументов) экземпляра класса, можем воспользоваться **конструктором** - особым методом, который вызывается при создании экземпляра класса:"
   ]
  },
  {
   "cell_type": "code",
   "execution_count": 11,
   "metadata": {
    "id": "yTI69f1KPchK"
   },
   "outputs": [],
   "source": [
    "class MyLittleClass3:\n",
    "    #color = \"blue\"\n",
    "    \n",
    "    def __init__(self, name, color):\n",
    "        self.color = color\n",
    "        self.name = name\n",
    "\n",
    "    def set_color(self, new_color):\n",
    "        self.color = new_color\n",
    "        print('set color to', self.color)"
   ]
  },
  {
   "cell_type": "code",
   "execution_count": null,
   "metadata": {
    "colab": {
     "base_uri": "https://localhost:8080/",
     "height": 34
    },
    "id": "XZ26t2h4PljM",
    "outputId": "b865aa08-3831-4ccb-a36c-dd8a966fd047"
   },
   "outputs": [
    {
     "data": {
      "application/vnd.google.colaboratory.intrinsic+json": {
       "type": "string"
      },
      "text/plain": [
       "'White'"
      ]
     },
     "execution_count": 25,
     "metadata": {},
     "output_type": "execute_result"
    }
   ],
   "source": [
    "obj = MyLittleClass3(\"Walter\", \"White\")\n",
    "obj.color"
   ]
  },
  {
   "cell_type": "code",
   "execution_count": null,
   "metadata": {
    "colab": {
     "base_uri": "https://localhost:8080/",
     "height": 34
    },
    "id": "rZbQHwH3uBPp",
    "outputId": "29d83284-46fc-461d-cde8-a303e474fde5"
   },
   "outputs": [
    {
     "data": {
      "application/vnd.google.colaboratory.intrinsic+json": {
       "type": "string"
      },
      "text/plain": [
       "'Walter'"
      ]
     },
     "execution_count": 26,
     "metadata": {},
     "output_type": "execute_result"
    }
   ],
   "source": [
    "obj.name"
   ]
  },
  {
   "cell_type": "code",
   "execution_count": null,
   "metadata": {
    "colab": {
     "base_uri": "https://localhost:8080/",
     "height": 167
    },
    "id": "RYDQFxK3uRwx",
    "outputId": "61348933-32fe-4bce-8703-62101bc3c7a1"
   },
   "outputs": [
    {
     "ename": "AttributeError",
     "evalue": "ignored",
     "output_type": "error",
     "traceback": [
      "\u001b[0;31m---------------------------------------------------------------------------\u001b[0m",
      "\u001b[0;31mAttributeError\u001b[0m                            Traceback (most recent call last)",
      "\u001b[0;32m<ipython-input-27-9bd4031d9c8b>\u001b[0m in \u001b[0;36m<module>\u001b[0;34m\u001b[0m\n\u001b[0;32m----> 1\u001b[0;31m \u001b[0mobj\u001b[0m\u001b[0;34m.\u001b[0m\u001b[0moccupation\u001b[0m\u001b[0;34m\u001b[0m\u001b[0;34m\u001b[0m\u001b[0m\n\u001b[0m",
      "\u001b[0;31mAttributeError\u001b[0m: 'MyLittleClass3' object has no attribute 'occupation'"
     ]
    }
   ],
   "source": [
    "obj.occupation"
   ]
  },
  {
   "cell_type": "markdown",
   "metadata": {
    "id": "zGxFo74ZPplK"
   },
   "source": [
    "## Динамичность атрибутов"
   ]
  },
  {
   "cell_type": "markdown",
   "metadata": {
    "id": "PIe8Vc4X8tvk"
   },
   "source": [
    "Мы также можем динамически определить атрибуты, которых вообще не было в определении класса:"
   ]
  },
  {
   "cell_type": "code",
   "execution_count": null,
   "metadata": {
    "colab": {
     "base_uri": "https://localhost:8080/"
    },
    "id": "THNbsf8_8tvl",
    "outputId": "50468a79-38bd-47ab-a979-3c4f779938ca"
   },
   "outputs": [
    {
     "data": {
      "text/plain": [
       "42"
      ]
     },
     "execution_count": 30,
     "metadata": {},
     "output_type": "execute_result"
    }
   ],
   "source": [
    "obj.some_attribute = 42\n",
    "obj.some_attribute"
   ]
  },
  {
   "cell_type": "markdown",
   "metadata": {
    "id": "68Z7ar6J8tvm"
   },
   "source": [
    "Поговорим об аргументе `self` в определении метода. Когда мы вызываем метод как `obj.methodname()`, неявно первым аргументом передается ссылка на `obj` в качестве аргумента `self`:"
   ]
  },
  {
   "cell_type": "code",
   "execution_count": 14,
   "metadata": {
    "id": "uSvwudNN8tvm"
   },
   "outputs": [],
   "source": [
    "class MyLittleClass4:\n",
    "    def method_without_self(arg):\n",
    "        print(arg)\n",
    "        \n",
    "    def method_with_self(self, arg):\n",
    "        print(arg)"
   ]
  },
  {
   "cell_type": "code",
   "execution_count": null,
   "metadata": {
    "colab": {
     "base_uri": "https://localhost:8080/",
     "height": 219
    },
    "id": "A2qvSIra8tvm",
    "outputId": "d05d4147-2356-43e1-a173-db31c1e1960f"
   },
   "outputs": [
    {
     "name": "stdout",
     "output_type": "stream",
     "text": [
      "i am an argument\n"
     ]
    },
    {
     "ename": "TypeError",
     "evalue": "ignored",
     "output_type": "error",
     "traceback": [
      "\u001b[0;31m---------------------------------------------------------------------------\u001b[0m",
      "\u001b[0;31mTypeError\u001b[0m                                 Traceback (most recent call last)",
      "\u001b[0;32m<ipython-input-29-4317c6c3712c>\u001b[0m in \u001b[0;36m<module>\u001b[0;34m\u001b[0m\n\u001b[1;32m      1\u001b[0m \u001b[0mobj\u001b[0m \u001b[0;34m=\u001b[0m \u001b[0mMyLittleClass4\u001b[0m\u001b[0;34m(\u001b[0m\u001b[0;34m)\u001b[0m\u001b[0;34m\u001b[0m\u001b[0;34m\u001b[0m\u001b[0m\n\u001b[1;32m      2\u001b[0m \u001b[0mobj\u001b[0m\u001b[0;34m.\u001b[0m\u001b[0mmethod_with_self\u001b[0m\u001b[0;34m(\u001b[0m\u001b[0;34m'i am an argument'\u001b[0m\u001b[0;34m)\u001b[0m\u001b[0;34m\u001b[0m\u001b[0;34m\u001b[0m\u001b[0m\n\u001b[0;32m----> 3\u001b[0;31m \u001b[0mobj\u001b[0m\u001b[0;34m.\u001b[0m\u001b[0mmethod_without_self\u001b[0m\u001b[0;34m(\u001b[0m\u001b[0;34m'i am another argument'\u001b[0m\u001b[0;34m)\u001b[0m \u001b[0;31m# здесь мы на самом деле передаем по два аргумента, self и arg\u001b[0m\u001b[0;34m\u001b[0m\u001b[0;34m\u001b[0m\u001b[0m\n\u001b[0m",
      "\u001b[0;31mTypeError\u001b[0m: method_without_self() takes 1 positional argument but 2 were given"
     ]
    }
   ],
   "source": [
    "obj = MyLittleClass4()\n",
    "obj.method_with_self('i am an argument')\n",
    "obj.method_without_self('i am another argument') # здесь мы на самом деле передаем по два аргумента, self и arg"
   ]
  },
  {
   "cell_type": "markdown",
   "metadata": {
    "id": "K98X82Tz8tvn"
   },
   "source": [
    "Как вызвать методы без `self`? Они не привязаны к экземпляру класса (потому что не имеют доступа к его локальным данным), зато привязаны к классу:"
   ]
  },
  {
   "cell_type": "code",
   "execution_count": 10,
   "metadata": {
    "colab": {
     "base_uri": "https://localhost:8080/"
    },
    "id": "rQqFL-2z8tvn",
    "outputId": "80d6113d-fe74-4720-dce5-25eb62648ba8"
   },
   "outputs": [
    {
     "name": "stdout",
     "output_type": "stream",
     "text": [
      "i am another argument\n"
     ]
    }
   ],
   "source": [
    "MyLittleClass4.method_without_self('i am another argument') # а здесь мы передаем только один аргумент"
   ]
  },
  {
   "cell_type": "markdown",
   "metadata": {
    "id": "E5jKxFNQ8tvo"
   },
   "source": [
    "Поскольку все является объектом, то можно и \"оторвать\" метод от экземпляра:"
   ]
  },
  {
   "cell_type": "code",
   "execution_count": null,
   "metadata": {
    "colab": {
     "base_uri": "https://localhost:8080/"
    },
    "id": "GKGqoPRw8tvo",
    "outputId": "99f1868f-0a9e-4985-cd5e-6be317440ab9"
   },
   "outputs": [
    {
     "name": "stdout",
     "output_type": "stream",
     "text": [
      "hello\n"
     ]
    }
   ],
   "source": [
    "func = MyLittleClass4.method_without_self\n",
    "func(\"hello\")"
   ]
  },
  {
   "cell_type": "code",
   "execution_count": 15,
   "metadata": {
    "colab": {
     "base_uri": "https://localhost:8080/",
     "height": 184
    },
    "id": "AyFT2kgS8tvp",
    "outputId": "dd4e78bc-c111-4ee9-9f4c-c69f4cee7d76"
   },
   "outputs": [
    {
     "ename": "TypeError",
     "evalue": "method_with_self() missing 1 required positional argument: 'arg'",
     "output_type": "error",
     "traceback": [
      "\u001b[1;31m---------------------------------------------------------------------------\u001b[0m",
      "\u001b[1;31mTypeError\u001b[0m                                 Traceback (most recent call last)",
      "\u001b[1;32m<ipython-input-15-f24f4c94cf25>\u001b[0m in \u001b[0;36m<module>\u001b[1;34m\u001b[0m\n\u001b[0;32m      1\u001b[0m \u001b[0mfunc2\u001b[0m \u001b[1;33m=\u001b[0m \u001b[0mMyLittleClass4\u001b[0m\u001b[1;33m.\u001b[0m\u001b[0mmethod_with_self\u001b[0m\u001b[1;33m\u001b[0m\u001b[1;33m\u001b[0m\u001b[0m\n\u001b[1;32m----> 2\u001b[1;33m \u001b[0mfunc2\u001b[0m\u001b[1;33m(\u001b[0m\u001b[1;34m\"hello\"\u001b[0m\u001b[1;33m)\u001b[0m \u001b[1;31m# передаем один аргумент\u001b[0m\u001b[1;33m\u001b[0m\u001b[1;33m\u001b[0m\u001b[0m\n\u001b[0m",
      "\u001b[1;31mTypeError\u001b[0m: method_with_self() missing 1 required positional argument: 'arg'"
     ]
    }
   ],
   "source": [
    "func2 = MyLittleClass4.method_with_self\n",
    "func2(\"hello\") # передаем один аргумент"
   ]
  },
  {
   "cell_type": "markdown",
   "metadata": {
    "id": "TPpq6-79F72s"
   },
   "source": [
    "Получили ошибку, т.к. не передали объект для аргумента `self`."
   ]
  },
  {
   "cell_type": "code",
   "execution_count": 16,
   "metadata": {
    "colab": {
     "base_uri": "https://localhost:8080/"
    },
    "id": "W8w9YwHh8tvp",
    "outputId": "4b2c02e7-2fa7-464a-d99e-06d165da2bce"
   },
   "outputs": [
    {
     "name": "stdout",
     "output_type": "stream",
     "text": [
      "hello\n"
     ]
    }
   ],
   "source": [
    "obj = MyLittleClass4()\n",
    "func2(obj, \"hello\")"
   ]
  },
  {
   "cell_type": "markdown",
   "metadata": {
    "id": "gcYz4_tw8tvq"
   },
   "source": [
    "А можем и наоборот привязать существующую функцию к объекту:"
   ]
  },
  {
   "cell_type": "code",
   "execution_count": 17,
   "metadata": {
    "colab": {
     "base_uri": "https://localhost:8080/",
     "height": 167
    },
    "id": "pL_qjxrV8tvq",
    "outputId": "ffe237b2-5a78-4601-d52f-f678d3df12a4"
   },
   "outputs": [
    {
     "ename": "AttributeError",
     "evalue": "'MyLittleClass4' object has no attribute 'get_color'",
     "output_type": "error",
     "traceback": [
      "\u001b[1;31m---------------------------------------------------------------------------\u001b[0m",
      "\u001b[1;31mAttributeError\u001b[0m                            Traceback (most recent call last)",
      "\u001b[1;32m<ipython-input-17-78f1df7c55df>\u001b[0m in \u001b[0;36m<module>\u001b[1;34m\u001b[0m\n\u001b[1;32m----> 1\u001b[1;33m \u001b[0mobj\u001b[0m\u001b[1;33m.\u001b[0m\u001b[0mget_color\u001b[0m\u001b[1;33m(\u001b[0m\u001b[1;33m)\u001b[0m\u001b[1;33m\u001b[0m\u001b[1;33m\u001b[0m\u001b[0m\n\u001b[0m",
      "\u001b[1;31mAttributeError\u001b[0m: 'MyLittleClass4' object has no attribute 'get_color'"
     ]
    }
   ],
   "source": [
    "obj.get_color()"
   ]
  },
  {
   "cell_type": "code",
   "execution_count": 18,
   "metadata": {
    "id": "tK0Tt1gf8tvr"
   },
   "outputs": [],
   "source": [
    "def get_color_function(self):\n",
    "    return self.color"
   ]
  },
  {
   "cell_type": "code",
   "execution_count": 61,
   "metadata": {
    "colab": {
     "base_uri": "https://localhost:8080/",
     "height": 271
    },
    "id": "1c5UXM1DGM-e",
    "outputId": "ff860cd2-f35c-432c-f553-c365cd02d20c"
   },
   "outputs": [],
   "source": [
    "MyLittleClass4.get_color = get_color_function\n",
    "obj = MyLittleClass4()\n",
    "#obj.get_color()"
   ]
  },
  {
   "cell_type": "markdown",
   "metadata": {
    "id": "ld9rbN5t8tvr"
   },
   "source": [
    "Ах да, цвета-то у нас нет. Не проблема - добавим атрибут `color` к экземпляру?"
   ]
  },
  {
   "cell_type": "code",
   "execution_count": null,
   "metadata": {
    "colab": {
     "base_uri": "https://localhost:8080/",
     "height": 34
    },
    "id": "ipimnuWx8tvr",
    "outputId": "9ed80ee5-983b-4f5f-d908-89bb9b6a485d"
   },
   "outputs": [
    {
     "data": {
      "application/vnd.google.colaboratory.intrinsic+json": {
       "type": "string"
      },
      "text/plain": [
       "'pink'"
      ]
     },
     "execution_count": 40,
     "metadata": {},
     "output_type": "execute_result"
    }
   ],
   "source": [
    "obj.color = 'pink'\n",
    "obj.get_color()"
   ]
  },
  {
   "cell_type": "markdown",
   "metadata": {
    "id": "NrHb_ABjRIX-"
   },
   "source": [
    "Но сейчас атрибут `color` есть только у объекта `obj`, создадим новый объект и посмотрим есть ли у него атрибут `color`:"
   ]
  },
  {
   "cell_type": "code",
   "execution_count": null,
   "metadata": {
    "colab": {
     "base_uri": "https://localhost:8080/",
     "height": 254
    },
    "id": "DIWap6XsGBKn",
    "outputId": "a7f75af2-4c10-44f1-afbc-707952f87d15"
   },
   "outputs": [
    {
     "ename": "AttributeError",
     "evalue": "ignored",
     "output_type": "error",
     "traceback": [
      "\u001b[0;31m---------------------------------------------------------------------------\u001b[0m",
      "\u001b[0;31mAttributeError\u001b[0m                            Traceback (most recent call last)",
      "\u001b[0;32m<ipython-input-41-9cd63bb3ffb8>\u001b[0m in \u001b[0;36m<module>\u001b[0;34m\u001b[0m\n\u001b[1;32m      1\u001b[0m \u001b[0mobj2\u001b[0m \u001b[0;34m=\u001b[0m \u001b[0mMyLittleClass4\u001b[0m\u001b[0;34m(\u001b[0m\u001b[0;34m)\u001b[0m\u001b[0;34m\u001b[0m\u001b[0;34m\u001b[0m\u001b[0m\n\u001b[0;32m----> 2\u001b[0;31m \u001b[0mobj2\u001b[0m\u001b[0;34m.\u001b[0m\u001b[0mget_color\u001b[0m\u001b[0;34m(\u001b[0m\u001b[0;34m)\u001b[0m\u001b[0;34m\u001b[0m\u001b[0;34m\u001b[0m\u001b[0m\n\u001b[0m",
      "\u001b[0;32m<ipython-input-37-609aef6711c8>\u001b[0m in \u001b[0;36mget_color_function\u001b[0;34m(self)\u001b[0m\n\u001b[1;32m      1\u001b[0m \u001b[0;32mdef\u001b[0m \u001b[0mget_color_function\u001b[0m\u001b[0;34m(\u001b[0m\u001b[0mself\u001b[0m\u001b[0;34m)\u001b[0m\u001b[0;34m:\u001b[0m\u001b[0;34m\u001b[0m\u001b[0;34m\u001b[0m\u001b[0m\n\u001b[0;32m----> 2\u001b[0;31m     \u001b[0;32mreturn\u001b[0m \u001b[0mself\u001b[0m\u001b[0;34m.\u001b[0m\u001b[0mcolor\u001b[0m\u001b[0;34m\u001b[0m\u001b[0;34m\u001b[0m\u001b[0m\n\u001b[0m",
      "\u001b[0;31mAttributeError\u001b[0m: 'MyLittleClass4' object has no attribute 'color'"
     ]
    }
   ],
   "source": [
    "obj2 = MyLittleClass4()\n",
    "obj2.get_color()"
   ]
  },
  {
   "cell_type": "markdown",
   "metadata": {
    "id": "2cDbGDkwGVh-"
   },
   "source": [
    "Нужно добавить атрибут не к одному экземпляру класса, а ко всему классу:"
   ]
  },
  {
   "cell_type": "code",
   "execution_count": null,
   "metadata": {
    "colab": {
     "base_uri": "https://localhost:8080/",
     "height": 34
    },
    "id": "p_-Yi9W1GKoU",
    "outputId": "60eb9093-22c5-44d7-dcfd-f8f72d5335c2"
   },
   "outputs": [
    {
     "data": {
      "application/vnd.google.colaboratory.intrinsic+json": {
       "type": "string"
      },
      "text/plain": [
       "'green'"
      ]
     },
     "execution_count": 42,
     "metadata": {},
     "output_type": "execute_result"
    }
   ],
   "source": [
    "MyLittleClass4.color = 'green'\n",
    "obj3 = MyLittleClass4()\n",
    "obj3.get_color()"
   ]
  },
  {
   "cell_type": "code",
   "execution_count": null,
   "metadata": {
    "colab": {
     "base_uri": "https://localhost:8080/"
    },
    "id": "yyUbYFSzI-iI",
    "outputId": "fa1c2e27-ac7a-4d39-eca7-9dfaac20f4f9"
   },
   "outputs": [
    {
     "data": {
      "text/plain": [
       "True"
      ]
     },
     "execution_count": 43,
     "metadata": {},
     "output_type": "execute_result"
    }
   ],
   "source": [
    "obj3.color == MyLittleClass4.color"
   ]
  },
  {
   "cell_type": "code",
   "execution_count": null,
   "metadata": {
    "colab": {
     "base_uri": "https://localhost:8080/",
     "height": 34
    },
    "id": "eYrAwfYzxZIS",
    "outputId": "c440c919-e08a-42d5-ab4f-8fb1400ee31a"
   },
   "outputs": [
    {
     "data": {
      "application/vnd.google.colaboratory.intrinsic+json": {
       "type": "string"
      },
      "text/plain": [
       "'pink'"
      ]
     },
     "execution_count": 44,
     "metadata": {},
     "output_type": "execute_result"
    }
   ],
   "source": [
    "obj.color"
   ]
  },
  {
   "cell_type": "code",
   "execution_count": null,
   "metadata": {
    "colab": {
     "base_uri": "https://localhost:8080/",
     "height": 34
    },
    "id": "G-vC6P_oxeQh",
    "outputId": "e18fccbf-b120-4946-a8d9-4f240e2d6ecc"
   },
   "outputs": [
    {
     "data": {
      "application/vnd.google.colaboratory.intrinsic+json": {
       "type": "string"
      },
      "text/plain": [
       "'green'"
      ]
     },
     "execution_count": 45,
     "metadata": {},
     "output_type": "execute_result"
    }
   ],
   "source": [
    "obj2.color"
   ]
  },
  {
   "cell_type": "markdown",
   "metadata": {
    "id": "YkIi1KOXGdi0"
   },
   "source": [
    "## Функция `dir`"
   ]
  },
  {
   "cell_type": "markdown",
   "metadata": {
    "id": "n9Sf-XUO8tvs"
   },
   "source": [
    "Чтобы посмотреть методы и атрибуты любого объекта, можно воспользоваться функцией `dir`:"
   ]
  },
  {
   "cell_type": "code",
   "execution_count": null,
   "metadata": {
    "colab": {
     "base_uri": "https://localhost:8080/"
    },
    "id": "ExBy9Dni8tvs",
    "outputId": "3ca6d5fa-a22a-49b4-90bc-b55f81c28b91"
   },
   "outputs": [
    {
     "name": "stdout",
     "output_type": "stream",
     "text": [
      "['__class__', '__delattr__', '__dict__', '__dir__', '__doc__', '__eq__', '__format__', '__ge__', '__getattribute__', '__gt__', '__hash__', '__init__', '__init_subclass__', '__le__', '__lt__', '__module__', '__ne__', '__new__', '__reduce__', '__reduce_ex__', '__repr__', '__setattr__', '__sizeof__', '__str__', '__subclasshook__', '__weakref__', 'color', 'get_color', 'method_with_self', 'method_without_self']\n"
     ]
    }
   ],
   "source": [
    "print(dir(obj3))"
   ]
  },
  {
   "cell_type": "code",
   "execution_count": null,
   "metadata": {
    "colab": {
     "base_uri": "https://localhost:8080/"
    },
    "id": "wMQGxhIpHral",
    "outputId": "16e1939e-8429-4094-841c-e3d3589b2490"
   },
   "outputs": [
    {
     "name": "stdout",
     "output_type": "stream",
     "text": [
      "['__class__', '__delattr__', '__dict__', '__dir__', '__doc__', '__eq__', '__format__', '__ge__', '__getattribute__', '__gt__', '__hash__', '__init__', '__init_subclass__', '__le__', '__lt__', '__module__', '__ne__', '__new__', '__reduce__', '__reduce_ex__', '__repr__', '__setattr__', '__sizeof__', '__str__', '__subclasshook__', '__weakref__', 'color', 'get_color', 'method_with_self', 'method_without_self']\n"
     ]
    }
   ],
   "source": [
    "print(dir(MyLittleClass4))"
   ]
  },
  {
   "cell_type": "code",
   "execution_count": null,
   "metadata": {
    "id": "synIfJ5GzED9"
   },
   "outputs": [],
   "source": [
    "obj3.extra = 17"
   ]
  },
  {
   "cell_type": "code",
   "execution_count": null,
   "metadata": {
    "colab": {
     "base_uri": "https://localhost:8080/"
    },
    "id": "mpapyIzyzHJk",
    "outputId": "43e57a81-ba7c-4287-af0c-921c55352d75"
   },
   "outputs": [
    {
     "name": "stdout",
     "output_type": "stream",
     "text": [
      "['__class__', '__delattr__', '__dict__', '__dir__', '__doc__', '__eq__', '__format__', '__ge__', '__getattribute__', '__gt__', '__hash__', '__init__', '__init_subclass__', '__le__', '__lt__', '__module__', '__ne__', '__new__', '__reduce__', '__reduce_ex__', '__repr__', '__setattr__', '__sizeof__', '__str__', '__subclasshook__', '__weakref__', 'color', 'extra', 'get_color', 'method_with_self', 'method_without_self']\n"
     ]
    }
   ],
   "source": [
    "print(dir(obj3))"
   ]
  },
  {
   "cell_type": "code",
   "execution_count": null,
   "metadata": {
    "colab": {
     "base_uri": "https://localhost:8080/"
    },
    "id": "FUeS7Zy_zIM5",
    "outputId": "d181966b-ff00-41ff-cd96-cad9fe7eaecd"
   },
   "outputs": [
    {
     "name": "stdout",
     "output_type": "stream",
     "text": [
      "['__class__', '__delattr__', '__dict__', '__dir__', '__doc__', '__eq__', '__format__', '__ge__', '__getattribute__', '__gt__', '__hash__', '__init__', '__init_subclass__', '__le__', '__lt__', '__module__', '__ne__', '__new__', '__reduce__', '__reduce_ex__', '__repr__', '__setattr__', '__sizeof__', '__str__', '__subclasshook__', '__weakref__', 'color', 'get_color', 'method_with_self', 'method_without_self']\n"
     ]
    }
   ],
   "source": [
    "print(dir(MyLittleClass4))"
   ]
  },
  {
   "cell_type": "markdown",
   "metadata": {
    "id": "KtMf5FfZGkt-"
   },
   "source": [
    "Чтобы оставить только методы в выдаваемом списке, воспользуемся функцией `getattr` (для получения занчения атрибута по переменной) и функцией `callable` (проверяет можем ли \"вызвать\" объект как функцию):"
   ]
  },
  {
   "cell_type": "code",
   "execution_count": null,
   "metadata": {
    "colab": {
     "base_uri": "https://localhost:8080/"
    },
    "id": "ZdI_fHiW8tvs",
    "outputId": "a3b2d411-b0dd-457a-c837-bac951968b44"
   },
   "outputs": [
    {
     "name": "stdout",
     "output_type": "stream",
     "text": [
      "['__class__', '__delattr__', '__dir__', '__eq__', '__format__', '__ge__', '__getattribute__', '__gt__', '__hash__', '__init__', '__init_subclass__', '__le__', '__lt__', '__ne__', '__new__', '__reduce__', '__reduce_ex__', '__repr__', '__setattr__', '__sizeof__', '__str__', '__subclasshook__', 'get_color', 'method_with_self', 'method_without_self']\n"
     ]
    }
   ],
   "source": [
    "print([name for name in dir(obj) if callable(getattr(obj, name))])"
   ]
  },
  {
   "cell_type": "code",
   "execution_count": null,
   "metadata": {
    "colab": {
     "base_uri": "https://localhost:8080/"
    },
    "id": "vGwI4MKJzoZs",
    "outputId": "7aeeacc9-acae-40f5-82e4-17e51ac859bd"
   },
   "outputs": [
    {
     "data": {
      "text/plain": [
       "False"
      ]
     },
     "execution_count": 60,
     "metadata": {},
     "output_type": "execute_result"
    }
   ],
   "source": [
    "callable(obj3.color)"
   ]
  },
  {
   "cell_type": "code",
   "execution_count": null,
   "metadata": {
    "colab": {
     "base_uri": "https://localhost:8080/"
    },
    "id": "Ehe7y7YlzuOC",
    "outputId": "eacf9d4b-3e17-4295-cf24-9e067cb9d2e6"
   },
   "outputs": [
    {
     "data": {
      "text/plain": [
       "['__add__',\n",
       " '__class__',\n",
       " '__contains__',\n",
       " '__delattr__',\n",
       " '__dir__',\n",
       " '__doc__',\n",
       " '__eq__',\n",
       " '__format__',\n",
       " '__ge__',\n",
       " '__getattribute__',\n",
       " '__getitem__',\n",
       " '__getnewargs__',\n",
       " '__gt__',\n",
       " '__hash__',\n",
       " '__init__',\n",
       " '__init_subclass__',\n",
       " '__iter__',\n",
       " '__le__',\n",
       " '__len__',\n",
       " '__lt__',\n",
       " '__mod__',\n",
       " '__mul__',\n",
       " '__ne__',\n",
       " '__new__',\n",
       " '__reduce__',\n",
       " '__reduce_ex__',\n",
       " '__repr__',\n",
       " '__rmod__',\n",
       " '__rmul__',\n",
       " '__setattr__',\n",
       " '__sizeof__',\n",
       " '__str__',\n",
       " '__subclasshook__',\n",
       " 'capitalize',\n",
       " 'casefold',\n",
       " 'center',\n",
       " 'count',\n",
       " 'encode',\n",
       " 'endswith',\n",
       " 'expandtabs',\n",
       " 'find',\n",
       " 'format',\n",
       " 'format_map',\n",
       " 'index',\n",
       " 'isalnum',\n",
       " 'isalpha',\n",
       " 'isascii',\n",
       " 'isdecimal',\n",
       " 'isdigit',\n",
       " 'isidentifier',\n",
       " 'islower',\n",
       " 'isnumeric',\n",
       " 'isprintable',\n",
       " 'isspace',\n",
       " 'istitle',\n",
       " 'isupper',\n",
       " 'join',\n",
       " 'ljust',\n",
       " 'lower',\n",
       " 'lstrip',\n",
       " 'maketrans',\n",
       " 'partition',\n",
       " 'replace',\n",
       " 'rfind',\n",
       " 'rindex',\n",
       " 'rjust',\n",
       " 'rpartition',\n",
       " 'rsplit',\n",
       " 'rstrip',\n",
       " 'split',\n",
       " 'splitlines',\n",
       " 'startswith',\n",
       " 'strip',\n",
       " 'swapcase',\n",
       " 'title',\n",
       " 'translate',\n",
       " 'upper',\n",
       " 'zfill']"
      ]
     },
     "execution_count": 62,
     "metadata": {},
     "output_type": "execute_result"
    }
   ],
   "source": [
    "dir(obj3.color)"
   ]
  },
  {
   "cell_type": "markdown",
   "metadata": {
    "id": "I3GbBdJJHXiX"
   },
   "source": [
    "## Переопределение класса"
   ]
  },
  {
   "cell_type": "markdown",
   "metadata": {
    "id": "ztBSh3HCG90b"
   },
   "source": [
    "Что будет, если сначала создадим экземпляр класса, а затем переопределим его атрибут? Проверим:"
   ]
  },
  {
   "cell_type": "code",
   "execution_count": null,
   "metadata": {
    "id": "_4f7_qoPJ_yG"
   },
   "outputs": [],
   "source": [
    "class MCLS:\n",
    "    attr1 = 'hello'"
   ]
  },
  {
   "cell_type": "code",
   "execution_count": null,
   "metadata": {
    "colab": {
     "base_uri": "https://localhost:8080/",
     "height": 34
    },
    "id": "W7Q1a3J_HL7m",
    "outputId": "87eed199-24ec-45f5-e2b0-155c1a0ab4e9"
   },
   "outputs": [
    {
     "data": {
      "application/vnd.google.colaboratory.intrinsic+json": {
       "type": "string"
      },
      "text/plain": [
       "'hello'"
      ]
     },
     "execution_count": 62,
     "metadata": {},
     "output_type": "execute_result"
    }
   ],
   "source": [
    "obj = MCLS()\n",
    "obj.attr1"
   ]
  },
  {
   "cell_type": "code",
   "execution_count": null,
   "metadata": {
    "colab": {
     "base_uri": "https://localhost:8080/",
     "height": 34
    },
    "id": "9OTegEor03_c",
    "outputId": "5b2e2a4f-43e4-4f34-8025-5eadfcf799f4"
   },
   "outputs": [
    {
     "data": {
      "application/vnd.google.colaboratory.intrinsic+json": {
       "type": "string"
      },
      "text/plain": [
       "'Hola!'"
      ]
     },
     "execution_count": 63,
     "metadata": {},
     "output_type": "execute_result"
    }
   ],
   "source": [
    "MCLS.attr1 = \"Hola!\"\n",
    "obj.attr1"
   ]
  },
  {
   "cell_type": "code",
   "execution_count": null,
   "metadata": {
    "id": "NqWY4uXvHLUH"
   },
   "outputs": [],
   "source": [
    "class MCLS:\n",
    "    attr1 = 'bye'"
   ]
  },
  {
   "cell_type": "code",
   "execution_count": null,
   "metadata": {
    "colab": {
     "base_uri": "https://localhost:8080/",
     "height": 34
    },
    "id": "eYIHqR-uHPRX",
    "outputId": "a3d36c6f-96a3-4223-f961-97f2aa8cffc0"
   },
   "outputs": [
    {
     "data": {
      "application/vnd.google.colaboratory.intrinsic+json": {
       "type": "string"
      },
      "text/plain": [
       "'bye'"
      ]
     },
     "execution_count": 65,
     "metadata": {},
     "output_type": "execute_result"
    }
   ],
   "source": [
    "obj2 = MCLS()\n",
    "obj2.attr1"
   ]
  },
  {
   "cell_type": "code",
   "execution_count": null,
   "metadata": {
    "colab": {
     "base_uri": "https://localhost:8080/",
     "height": 34
    },
    "id": "OZwq0aW7HSFq",
    "outputId": "58180330-5803-44c6-b85c-74724371e3e6"
   },
   "outputs": [
    {
     "data": {
      "application/vnd.google.colaboratory.intrinsic+json": {
       "type": "string"
      },
      "text/plain": [
       "'Hola!'"
      ]
     },
     "execution_count": 66,
     "metadata": {},
     "output_type": "execute_result"
    }
   ],
   "source": [
    "obj.attr1"
   ]
  },
  {
   "cell_type": "code",
   "execution_count": null,
   "metadata": {
    "id": "EyideOfM1rFi"
   },
   "outputs": [],
   "source": [
    "obj.__class__.attr1 = \"Aloha\""
   ]
  },
  {
   "cell_type": "code",
   "execution_count": 63,
   "metadata": {},
   "outputs": [
    {
     "data": {
      "text/plain": [
       "__main__.MyLittleClass4"
      ]
     },
     "execution_count": 63,
     "metadata": {},
     "output_type": "execute_result"
    }
   ],
   "source": [
    "type(obj)"
   ]
  },
  {
   "cell_type": "markdown",
   "metadata": {},
   "source": [
    "`obj.__class__`  - Содержит ссылку на тип экземпляра.\n",
    "\n",
    "Данный атрибут содержит ссылку на класс (тип), к которому принадлежит экземпляр (self).\n"
   ]
  },
  {
   "cell_type": "code",
   "execution_count": null,
   "metadata": {
    "colab": {
     "base_uri": "https://localhost:8080/",
     "height": 34
    },
    "id": "dfJ5x-8V1vaJ",
    "outputId": "e4ec2ff4-66a6-4449-e43f-4800d4a9a7f8"
   },
   "outputs": [
    {
     "data": {
      "application/vnd.google.colaboratory.intrinsic+json": {
       "type": "string"
      },
      "text/plain": [
       "'Aloha'"
      ]
     },
     "execution_count": 68,
     "metadata": {},
     "output_type": "execute_result"
    }
   ],
   "source": [
    "obj.attr1"
   ]
  },
  {
   "cell_type": "code",
   "execution_count": null,
   "metadata": {
    "id": "M2aGhaf71zS6"
   },
   "outputs": [],
   "source": [
    "MCLS = obj.__class__"
   ]
  },
  {
   "cell_type": "code",
   "execution_count": null,
   "metadata": {
    "colab": {
     "base_uri": "https://localhost:8080/",
     "height": 167
    },
    "id": "cKIes-bq2U5j",
    "outputId": "a799ebaa-115d-450a-a6f0-ca509f3e7276"
   },
   "outputs": [
    {
     "ename": "TypeError",
     "evalue": "ignored",
     "output_type": "error",
     "traceback": [
      "\u001b[0;31m---------------------------------------------------------------------------\u001b[0m",
      "\u001b[0;31mTypeError\u001b[0m                                 Traceback (most recent call last)",
      "\u001b[0;32m<ipython-input-70-5dcea0709618>\u001b[0m in \u001b[0;36m<module>\u001b[0;34m\u001b[0m\n\u001b[0;32m----> 1\u001b[0;31m \u001b[0;32mdel\u001b[0m \u001b[0mobj\u001b[0m\u001b[0;34m.\u001b[0m\u001b[0m__class__\u001b[0m\u001b[0;34m\u001b[0m\u001b[0;34m\u001b[0m\u001b[0m\n\u001b[0m",
      "\u001b[0;31mTypeError\u001b[0m: can't delete __class__ attribute"
     ]
    }
   ],
   "source": [
    "del obj.__class__"
   ]
  },
  {
   "cell_type": "markdown",
   "metadata": {
    "id": "AaACvqbHHa3O"
   },
   "source": [
    "## Методы и атрибуты по умолчанию"
   ]
  },
  {
   "cell_type": "markdown",
   "metadata": {
    "id": "ag-KQS8YU1fR"
   },
   "source": [
    "Посмотрим какие методы и атрибуты создаются для класса и экземпляра по умолчанию. Для этого нам поможет функция `dir`:"
   ]
  },
  {
   "cell_type": "code",
   "execution_count": null,
   "metadata": {
    "colab": {
     "base_uri": "https://localhost:8080/"
    },
    "id": "FoaK__4b8tvt",
    "outputId": "5b4c3c0b-4069-478d-b6dc-08ef2479c644"
   },
   "outputs": [
    {
     "name": "stdout",
     "output_type": "stream",
     "text": [
      "Help on built-in function dir in module builtins:\n",
      "\n",
      "dir(...)\n",
      "    dir([object]) -> list of strings\n",
      "    \n",
      "    If called without an argument, return the names in the current scope.\n",
      "    Else, return an alphabetized list of names comprising (some of) the attributes\n",
      "    of the given object, and of attributes reachable from it.\n",
      "    If the object supplies a method named __dir__, it will be used; otherwise\n",
      "    the default dir() logic is used and returns:\n",
      "      for a module object: the module's attributes.\n",
      "      for a class object:  its attributes, and recursively the attributes\n",
      "        of its bases.\n",
      "      for any other object: its attributes, its class's attributes, and\n",
      "        recursively the attributes of its class's base classes.\n",
      "\n"
     ]
    }
   ],
   "source": [
    "help(dir)"
   ]
  },
  {
   "cell_type": "markdown",
   "metadata": {
    "id": "NzJmlYEBH2H8"
   },
   "source": [
    "Создадим \"пустой\" класс:"
   ]
  },
  {
   "cell_type": "code",
   "execution_count": 24,
   "metadata": {
    "id": "5Vx7Lsxn8tvt"
   },
   "outputs": [],
   "source": [
    "#class ClassWithNothing(object):\n",
    "class ClassWithNothing:\n",
    "    pass"
   ]
  },
  {
   "cell_type": "markdown",
   "metadata": {
    "id": "XBnN6ObkIEID"
   },
   "source": [
    "Создаем экземпляра \"пустого\" класса:"
   ]
  },
  {
   "cell_type": "code",
   "execution_count": 25,
   "metadata": {
    "id": "34P9XLQDHgY8"
   },
   "outputs": [],
   "source": [
    "nobject = ClassWithNothing()"
   ]
  },
  {
   "cell_type": "markdown",
   "metadata": {
    "id": "3_xKLnSdIIPV"
   },
   "source": [
    "Напишем простую функцию для вывода атрибутов и методов:"
   ]
  },
  {
   "cell_type": "code",
   "execution_count": 20,
   "metadata": {
    "id": "MEO2qc0WHia4"
   },
   "outputs": [],
   "source": [
    "def print_custom_attrs(obj=None):\n",
    "    if obj is None:\n",
    "        # в локальной области видимости!\n",
    "        attrs = dir()\n",
    "    else:\n",
    "        attrs = dir(obj)\n",
    "    print([name for name in attrs if not name.startswith('__')])  # Исключаем служебные методы"
   ]
  },
  {
   "cell_type": "code",
   "execution_count": 21,
   "metadata": {
    "colab": {
     "base_uri": "https://localhost:8080/"
    },
    "id": "zxbAVoLDNie4",
    "outputId": "92cbe3b3-8f8c-4004-ef78-10401c37e0a6"
   },
   "outputs": [
    {
     "name": "stdout",
     "output_type": "stream",
     "text": [
      "Help on method_descriptor:\n",
      "\n",
      "startswith(...)\n",
      "    S.startswith(prefix[, start[, end]]) -> bool\n",
      "    \n",
      "    Return True if S starts with the specified prefix, False otherwise.\n",
      "    With optional start, test S beginning at that position.\n",
      "    With optional end, stop comparing S at that position.\n",
      "    prefix can also be a tuple of strings to try.\n",
      "\n"
     ]
    }
   ],
   "source": [
    "help(str.startswith)"
   ]
  },
  {
   "cell_type": "markdown",
   "metadata": {
    "id": "1ia_w-F5IPy-"
   },
   "source": [
    "Посмотрим на работу функции `print_custom_attrs`:"
   ]
  },
  {
   "cell_type": "code",
   "execution_count": 26,
   "metadata": {
    "colab": {
     "base_uri": "https://localhost:8080/"
    },
    "id": "z45OHIFzHqJW",
    "outputId": "e8b42485-c2c0-4be7-991c-4daf53de410a"
   },
   "outputs": [
    {
     "name": "stdout",
     "output_type": "stream",
     "text": [
      "[]\n"
     ]
    }
   ],
   "source": [
    "print_custom_attrs(ClassWithNothing)"
   ]
  },
  {
   "cell_type": "code",
   "execution_count": 27,
   "metadata": {
    "colab": {
     "base_uri": "https://localhost:8080/"
    },
    "id": "y_zG4jdbHfF_",
    "outputId": "cf45b809-8b6a-43ec-feb9-f54652d993b4"
   },
   "outputs": [
    {
     "name": "stdout",
     "output_type": "stream",
     "text": [
      "[]\n"
     ]
    }
   ],
   "source": [
    "print_custom_attrs(nobject)"
   ]
  },
  {
   "cell_type": "code",
   "execution_count": 28,
   "metadata": {
    "colab": {
     "base_uri": "https://localhost:8080/"
    },
    "id": "ZkvfvfIw8tvu",
    "outputId": "68dbf38f-65d0-4193-c487-fd8b05aee7aa"
   },
   "outputs": [
    {
     "name": "stdout",
     "output_type": "stream",
     "text": [
      "['my_instance_attribute']\n"
     ]
    }
   ],
   "source": [
    "nobject.my_instance_attribute = \"my value 2\"\n",
    "print_custom_attrs(nobject)"
   ]
  },
  {
   "cell_type": "code",
   "execution_count": 29,
   "metadata": {
    "colab": {
     "base_uri": "https://localhost:8080/"
    },
    "id": "qsEFyhgeIlqv",
    "outputId": "0b0575cf-c539-49cf-e23b-9914c9fd8c8a"
   },
   "outputs": [
    {
     "name": "stdout",
     "output_type": "stream",
     "text": [
      "['my_attribute']\n"
     ]
    }
   ],
   "source": [
    "ClassWithNothing.my_attribute = 'my value'\n",
    "print_custom_attrs(ClassWithNothing)"
   ]
  },
  {
   "cell_type": "code",
   "execution_count": 30,
   "metadata": {
    "colab": {
     "base_uri": "https://localhost:8080/"
    },
    "id": "NquUKt9-3cpm",
    "outputId": "782c1e00-abd9-4d57-a3c4-7a735a4db292"
   },
   "outputs": [
    {
     "name": "stdout",
     "output_type": "stream",
     "text": [
      "['my_attribute', 'my_instance_attribute']\n"
     ]
    }
   ],
   "source": [
    "print_custom_attrs(nobject)"
   ]
  },
  {
   "cell_type": "markdown",
   "metadata": {
    "id": "C63rBf-xIW4i"
   },
   "source": [
    "## Приватность атрибутов"
   ]
  },
  {
   "cell_type": "markdown",
   "metadata": {
    "id": "7b_vCFaFJYad"
   },
   "source": [
    "Во многих языках программирования можно регулировать доступ до атрибутов класса от внешнего кода и других классов. Обычно выделяют три уровня доступа:\n",
    "- публичный - атрибуты доступны как внутри класса, так и из наружнего кода\n",
    "- защищенный - атрибуты доступны внутри класса и для наследников класса\n",
    "- приватный - атрибуты доступны только внутри класса"
   ]
  },
  {
   "cell_type": "markdown",
   "metadata": {
    "id": "svmbSvN18tvy"
   },
   "source": [
    "А есть ли в Python приватность атрибутов? Можем ли мы запретить читать и менять атрибуты объекта снаружи (внешним кодом)?"
   ]
  },
  {
   "cell_type": "code",
   "execution_count": 8,
   "metadata": {
    "id": "_iuASScu8tvy"
   },
   "outputs": [],
   "source": [
    "class VeryPrivateDataHolder:\n",
    "    not_secret = 0     # public\n",
    "    _secret = 1        # protected\n",
    "    __very_secret = 2  # private "
   ]
  },
  {
   "cell_type": "code",
   "execution_count": 9,
   "metadata": {
    "id": "mRYfzczI8tvy"
   },
   "outputs": [],
   "source": [
    "obj = VeryPrivateDataHolder()"
   ]
  },
  {
   "cell_type": "code",
   "execution_count": 10,
   "metadata": {
    "colab": {
     "base_uri": "https://localhost:8080/"
    },
    "id": "P5ZSyeW9Kye5",
    "outputId": "14840107-0ba5-46b6-853d-1bede6feea79"
   },
   "outputs": [
    {
     "data": {
      "text/plain": [
       "0"
      ]
     },
     "execution_count": 10,
     "metadata": {},
     "output_type": "execute_result"
    }
   ],
   "source": [
    "obj.not_secret"
   ]
  },
  {
   "cell_type": "code",
   "execution_count": 11,
   "metadata": {
    "colab": {
     "base_uri": "https://localhost:8080/"
    },
    "id": "finNrT9CKv52",
    "outputId": "9e859ac6-76ac-47f8-e5ae-1759d797941b"
   },
   "outputs": [
    {
     "data": {
      "text/plain": [
       "1"
      ]
     },
     "execution_count": 11,
     "metadata": {},
     "output_type": "execute_result"
    }
   ],
   "source": [
    "obj._secret"
   ]
  },
  {
   "cell_type": "code",
   "execution_count": null,
   "metadata": {
    "colab": {
     "base_uri": "https://localhost:8080/",
     "height": 167
    },
    "id": "biUg4WByKxkK",
    "outputId": "a85fe46e-587b-40d1-e3f2-11218158f602"
   },
   "outputs": [
    {
     "ename": "AttributeError",
     "evalue": "ignored",
     "output_type": "error",
     "traceback": [
      "\u001b[0;31m---------------------------------------------------------------------------\u001b[0m",
      "\u001b[0;31mAttributeError\u001b[0m                            Traceback (most recent call last)",
      "\u001b[0;32m<ipython-input-85-bc0a326e6db6>\u001b[0m in \u001b[0;36m<module>\u001b[0;34m\u001b[0m\n\u001b[0;32m----> 1\u001b[0;31m \u001b[0mobj\u001b[0m\u001b[0;34m.\u001b[0m\u001b[0m__very_secret\u001b[0m\u001b[0;34m\u001b[0m\u001b[0;34m\u001b[0m\u001b[0m\n\u001b[0m",
      "\u001b[0;31mAttributeError\u001b[0m: 'VeryPrivateDataHolder' object has no attribute '__very_secret'"
     ]
    }
   ],
   "source": [
    "obj.__very_secret"
   ]
  },
  {
   "cell_type": "markdown",
   "metadata": {
    "id": "bbciyFza8tvy"
   },
   "source": [
    "Казалось бы, в Python всё-таки есть приватность, но есть нюанс:"
   ]
  },
  {
   "cell_type": "code",
   "execution_count": 6,
   "metadata": {
    "colab": {
     "base_uri": "https://localhost:8080/"
    },
    "id": "8CAL_QRy8tvy",
    "outputId": "224f2ed0-a0aa-41f4-9833-42e4dd7fda13"
   },
   "outputs": [
    {
     "data": {
      "text/plain": [
       "2"
      ]
     },
     "execution_count": 6,
     "metadata": {},
     "output_type": "execute_result"
    }
   ],
   "source": [
    "obj._VeryPrivateDataHolder__very_secret"
   ]
  },
  {
   "cell_type": "markdown",
   "metadata": {
    "id": "17sN5LhkItL5"
   },
   "source": [
    "Т.е. при желании все же можем получить доступ к \"приватным\" атрибутом, но делать так не рекомендуется, особенно не со своими классами!"
   ]
  },
  {
   "cell_type": "code",
   "execution_count": null,
   "metadata": {
    "colab": {
     "base_uri": "https://localhost:8080/",
     "height": 34
    },
    "id": "pXLwM5g88tvz",
    "outputId": "45fc46fa-9c83-46be-86fb-8e41e3505b12"
   },
   "outputs": [
    {
     "data": {
      "application/vnd.google.colaboratory.intrinsic+json": {
       "type": "string"
      },
      "text/plain": [
       "'new secret'"
      ]
     },
     "execution_count": 87,
     "metadata": {},
     "output_type": "execute_result"
    }
   ],
   "source": [
    "obj._VeryPrivateDataHolder__very_secret = 'new secret'\n",
    "obj._VeryPrivateDataHolder__very_secret"
   ]
  },
  {
   "cell_type": "code",
   "execution_count": null,
   "metadata": {
    "colab": {
     "base_uri": "https://localhost:8080/",
     "height": 167
    },
    "id": "k2oC_WE4PbjW",
    "outputId": "c57666b1-dd6d-4ed6-d3bc-a1dd9a940774"
   },
   "outputs": [
    {
     "ename": "AttributeError",
     "evalue": "ignored",
     "output_type": "error",
     "traceback": [
      "\u001b[0;31m---------------------------------------------------------------------------\u001b[0m",
      "\u001b[0;31mAttributeError\u001b[0m                            Traceback (most recent call last)",
      "\u001b[0;32m<ipython-input-88-d29ba4079f4b>\u001b[0m in \u001b[0;36m<module>\u001b[0;34m\u001b[0m\n\u001b[0;32m----> 1\u001b[0;31m \u001b[0mVeryPrivateDataHolder\u001b[0m\u001b[0;34m.\u001b[0m\u001b[0m__very_secret\u001b[0m\u001b[0;34m\u001b[0m\u001b[0;34m\u001b[0m\u001b[0m\n\u001b[0m",
      "\u001b[0;31mAttributeError\u001b[0m: type object 'VeryPrivateDataHolder' has no attribute '__very_secret'"
     ]
    }
   ],
   "source": [
    "VeryPrivateDataHolder.__very_secret"
   ]
  },
  {
   "cell_type": "markdown",
   "metadata": {
    "id": "_nwkm282NnE1"
   },
   "source": [
    "## Наследование"
   ]
  },
  {
   "cell_type": "markdown",
   "metadata": {
    "id": "yJBRpQ-nNwtK"
   },
   "source": [
    "Рассмотрим как работает наследование в Python с помощью следующих классов:"
   ]
  },
  {
   "cell_type": "code",
   "execution_count": null,
   "metadata": {
    "id": "4Q1J9BqmN59a"
   },
   "outputs": [],
   "source": [
    "class Animal:  # неявно наследуется от класса object\n",
    "    some_value = \"animal\"\n",
    "\n",
    "    def __init__(self):\n",
    "        print(\"i am an animal\")\n",
    "    \n",
    "    def speak(self):\n",
    "        raise NotImplementedError('i don\\'t know how to speak')  # ошибка, показывающая что метод еще не реализован"
   ]
  },
  {
   "cell_type": "markdown",
   "metadata": {},
   "source": [
    "Инструкция `raise`, принудительно поднимает указанное исключение,позволяет программисту принудительно вызвать указанное исключение. \n",
    "\n",
    "В общем случае инструкция raise повторно вызывает последнее исключение, которое было активным в текущей области видимости."
   ]
  },
  {
   "cell_type": "code",
   "execution_count": null,
   "metadata": {
    "id": "UZoLugjoOAM7"
   },
   "outputs": [],
   "source": [
    "class Cat(Animal):\n",
    "    some_value = \"cat\"\n",
    "\n",
    "    def __init__(self):\n",
    "        super().__init__()\n",
    "        print(\"i am a cat\")\n",
    "    \n",
    "    def speak(self):\n",
    "        print('meoooow')"
   ]
  },
  {
   "cell_type": "code",
   "execution_count": null,
   "metadata": {
    "id": "nOawrxOhOBrP"
   },
   "outputs": [],
   "source": [
    "class Dog(Animal):\n",
    "    some_value = \"dog\"\n",
    "    \n",
    "    def __init__(self):\n",
    "        super().__init__()\n",
    "        print(\"i am a dog\")"
   ]
  },
  {
   "cell_type": "code",
   "execution_count": null,
   "metadata": {
    "id": "c4GYd4F9Ntw7"
   },
   "outputs": [],
   "source": [
    "class Hedgehog(Animal):\n",
    "    def __init__(self):\n",
    "        super().__init__()\n",
    "        print(\"i am a hedgehog\")"
   ]
  },
  {
   "cell_type": "code",
   "execution_count": null,
   "metadata": {
    "colab": {
     "base_uri": "https://localhost:8080/",
     "height": 323
    },
    "id": "THacMee3NxRd",
    "outputId": "e73391db-9f14-4f2a-8e43-f01b6cfd27a8"
   },
   "outputs": [
    {
     "name": "stdout",
     "output_type": "stream",
     "text": [
      "i am an animal\n",
      "animal\n"
     ]
    },
    {
     "ename": "NotImplementedError",
     "evalue": "ignored",
     "output_type": "error",
     "traceback": [
      "\u001b[0;31m---------------------------------------------------------------------------\u001b[0m",
      "\u001b[0;31mNotImplementedError\u001b[0m                       Traceback (most recent call last)",
      "\u001b[0;32m<ipython-input-94-cfe177368ca9>\u001b[0m in \u001b[0;36m<module>\u001b[0;34m\u001b[0m\n\u001b[1;32m      1\u001b[0m \u001b[0manimal\u001b[0m \u001b[0;34m=\u001b[0m \u001b[0mAnimal\u001b[0m\u001b[0;34m(\u001b[0m\u001b[0;34m)\u001b[0m\u001b[0;34m\u001b[0m\u001b[0;34m\u001b[0m\u001b[0m\n\u001b[1;32m      2\u001b[0m \u001b[0mprint\u001b[0m\u001b[0;34m(\u001b[0m\u001b[0manimal\u001b[0m\u001b[0;34m.\u001b[0m\u001b[0msome_value\u001b[0m\u001b[0;34m)\u001b[0m\u001b[0;34m\u001b[0m\u001b[0;34m\u001b[0m\u001b[0m\n\u001b[0;32m----> 3\u001b[0;31m \u001b[0manimal\u001b[0m\u001b[0;34m.\u001b[0m\u001b[0mspeak\u001b[0m\u001b[0;34m(\u001b[0m\u001b[0;34m)\u001b[0m\u001b[0;34m\u001b[0m\u001b[0;34m\u001b[0m\u001b[0m\n\u001b[0m",
      "\u001b[0;32m<ipython-input-90-337e3dba9ed0>\u001b[0m in \u001b[0;36mspeak\u001b[0;34m(self)\u001b[0m\n\u001b[1;32m      6\u001b[0m \u001b[0;34m\u001b[0m\u001b[0m\n\u001b[1;32m      7\u001b[0m     \u001b[0;32mdef\u001b[0m \u001b[0mspeak\u001b[0m\u001b[0;34m(\u001b[0m\u001b[0mself\u001b[0m\u001b[0;34m)\u001b[0m\u001b[0;34m:\u001b[0m\u001b[0;34m\u001b[0m\u001b[0;34m\u001b[0m\u001b[0m\n\u001b[0;32m----> 8\u001b[0;31m         \u001b[0;32mraise\u001b[0m \u001b[0mNotImplementedError\u001b[0m\u001b[0;34m(\u001b[0m\u001b[0;34m'i don\\'t know how to speak'\u001b[0m\u001b[0;34m)\u001b[0m  \u001b[0;31m# ошибка, показывающая что метод еще не реализован\u001b[0m\u001b[0;34m\u001b[0m\u001b[0;34m\u001b[0m\u001b[0m\n\u001b[0m",
      "\u001b[0;31mNotImplementedError\u001b[0m: i don't know how to speak"
     ]
    }
   ],
   "source": [
    "animal = Animal()\n",
    "print(animal.some_value)\n",
    "animal.speak()"
   ]
  },
  {
   "cell_type": "code",
   "execution_count": null,
   "metadata": {
    "colab": {
     "base_uri": "https://localhost:8080/"
    },
    "id": "-cXPv8xvXe0m",
    "outputId": "8492742b-a66f-4c45-a7f0-eceebc3b77a0"
   },
   "outputs": [
    {
     "name": "stdout",
     "output_type": "stream",
     "text": [
      "i am an animal\n",
      "i am a cat\n"
     ]
    }
   ],
   "source": [
    "cat = Cat()"
   ]
  },
  {
   "cell_type": "code",
   "execution_count": null,
   "metadata": {
    "colab": {
     "base_uri": "https://localhost:8080/",
     "height": 35
    },
    "id": "3gwKICmpCQ4b",
    "outputId": "600c6e3f-1e58-47d6-bbb7-70cd8646c6df"
   },
   "outputs": [
    {
     "data": {
      "application/vnd.google.colaboratory.intrinsic+json": {
       "type": "string"
      },
      "text/plain": [
       "'cat'"
      ]
     },
     "execution_count": 118,
     "metadata": {},
     "output_type": "execute_result"
    }
   ],
   "source": [
    "cat.some_value # переопределено"
   ]
  },
  {
   "cell_type": "code",
   "execution_count": null,
   "metadata": {
    "colab": {
     "base_uri": "https://localhost:8080/"
    },
    "id": "T9AZV0xXCSfN",
    "outputId": "fc3470d5-2e30-4afe-97a7-24e821ece274"
   },
   "outputs": [
    {
     "name": "stdout",
     "output_type": "stream",
     "text": [
      "meoooow\n"
     ]
    }
   ],
   "source": [
    "cat.speak()"
   ]
  },
  {
   "cell_type": "code",
   "execution_count": null,
   "metadata": {
    "colab": {
     "base_uri": "https://localhost:8080/"
    },
    "id": "dd7WBjq0XgJ5",
    "outputId": "2fbff0ab-dc92-4864-fc20-094b36ee1437"
   },
   "outputs": [
    {
     "name": "stdout",
     "output_type": "stream",
     "text": [
      "i am an animal\n",
      "i am a dog\n"
     ]
    }
   ],
   "source": [
    "dog = Dog()"
   ]
  },
  {
   "cell_type": "code",
   "execution_count": null,
   "metadata": {
    "colab": {
     "base_uri": "https://localhost:8080/",
     "height": 34
    },
    "id": "USoFSSFfCvgu",
    "outputId": "039786bd-57b9-497a-e009-2be28f680f7c"
   },
   "outputs": [
    {
     "data": {
      "application/vnd.google.colaboratory.intrinsic+json": {
       "type": "string"
      },
      "text/plain": [
       "'dog'"
      ]
     },
     "execution_count": 98,
     "metadata": {},
     "output_type": "execute_result"
    }
   ],
   "source": [
    "dog.some_value # переопределено"
   ]
  },
  {
   "cell_type": "code",
   "execution_count": null,
   "metadata": {
    "colab": {
     "base_uri": "https://localhost:8080/",
     "height": 254
    },
    "id": "vZNgGiF4CwqS",
    "outputId": "646c1e30-566e-4c60-933d-44ce7cedde73"
   },
   "outputs": [
    {
     "ename": "NotImplementedError",
     "evalue": "ignored",
     "output_type": "error",
     "traceback": [
      "\u001b[0;31m---------------------------------------------------------------------------\u001b[0m",
      "\u001b[0;31mNotImplementedError\u001b[0m                       Traceback (most recent call last)",
      "\u001b[0;32m<ipython-input-99-35a36b50d121>\u001b[0m in \u001b[0;36m<module>\u001b[0;34m\u001b[0m\n\u001b[0;32m----> 1\u001b[0;31m \u001b[0mdog\u001b[0m\u001b[0;34m.\u001b[0m\u001b[0mspeak\u001b[0m\u001b[0;34m(\u001b[0m\u001b[0;34m)\u001b[0m\u001b[0;34m\u001b[0m\u001b[0;34m\u001b[0m\u001b[0m\n\u001b[0m",
      "\u001b[0;32m<ipython-input-90-337e3dba9ed0>\u001b[0m in \u001b[0;36mspeak\u001b[0;34m(self)\u001b[0m\n\u001b[1;32m      6\u001b[0m \u001b[0;34m\u001b[0m\u001b[0m\n\u001b[1;32m      7\u001b[0m     \u001b[0;32mdef\u001b[0m \u001b[0mspeak\u001b[0m\u001b[0;34m(\u001b[0m\u001b[0mself\u001b[0m\u001b[0;34m)\u001b[0m\u001b[0;34m:\u001b[0m\u001b[0;34m\u001b[0m\u001b[0;34m\u001b[0m\u001b[0m\n\u001b[0;32m----> 8\u001b[0;31m         \u001b[0;32mraise\u001b[0m \u001b[0mNotImplementedError\u001b[0m\u001b[0;34m(\u001b[0m\u001b[0;34m'i don\\'t know how to speak'\u001b[0m\u001b[0;34m)\u001b[0m  \u001b[0;31m# ошибка, показывающая что метод еще не реализован\u001b[0m\u001b[0;34m\u001b[0m\u001b[0;34m\u001b[0m\u001b[0m\n\u001b[0m",
      "\u001b[0;31mNotImplementedError\u001b[0m: i don't know how to speak"
     ]
    }
   ],
   "source": [
    "dog.speak()"
   ]
  },
  {
   "cell_type": "code",
   "execution_count": null,
   "metadata": {
    "colab": {
     "base_uri": "https://localhost:8080/"
    },
    "id": "Ixm_WBFLC_sv",
    "outputId": "b276f7ee-ee96-4632-b815-0548bf8f2994"
   },
   "outputs": [
    {
     "name": "stdout",
     "output_type": "stream",
     "text": [
      "i am an animal\n",
      "i am a hedgehog\n"
     ]
    }
   ],
   "source": [
    "hedgehog = Hedgehog()"
   ]
  },
  {
   "cell_type": "code",
   "execution_count": null,
   "metadata": {
    "colab": {
     "base_uri": "https://localhost:8080/",
     "height": 34
    },
    "id": "T3f630xBDDZ8",
    "outputId": "c61dda3c-8c89-4cf2-d3dc-0aa8faf634e4"
   },
   "outputs": [
    {
     "data": {
      "application/vnd.google.colaboratory.intrinsic+json": {
       "type": "string"
      },
      "text/plain": [
       "'animal'"
      ]
     },
     "execution_count": 101,
     "metadata": {},
     "output_type": "execute_result"
    }
   ],
   "source": [
    "hedgehog.some_value"
   ]
  },
  {
   "cell_type": "code",
   "execution_count": null,
   "metadata": {
    "colab": {
     "base_uri": "https://localhost:8080/",
     "height": 254
    },
    "id": "zPCUxdvODP98",
    "outputId": "3f6cbb4b-a945-472a-fbde-e4cd78570c26"
   },
   "outputs": [
    {
     "ename": "NotImplementedError",
     "evalue": "ignored",
     "output_type": "error",
     "traceback": [
      "\u001b[0;31m---------------------------------------------------------------------------\u001b[0m",
      "\u001b[0;31mNotImplementedError\u001b[0m                       Traceback (most recent call last)",
      "\u001b[0;32m<ipython-input-102-3a474e511955>\u001b[0m in \u001b[0;36m<module>\u001b[0;34m\u001b[0m\n\u001b[0;32m----> 1\u001b[0;31m \u001b[0mhedgehog\u001b[0m\u001b[0;34m.\u001b[0m\u001b[0mspeak\u001b[0m\u001b[0;34m(\u001b[0m\u001b[0;34m)\u001b[0m\u001b[0;34m\u001b[0m\u001b[0;34m\u001b[0m\u001b[0m\n\u001b[0m",
      "\u001b[0;32m<ipython-input-90-337e3dba9ed0>\u001b[0m in \u001b[0;36mspeak\u001b[0;34m(self)\u001b[0m\n\u001b[1;32m      6\u001b[0m \u001b[0;34m\u001b[0m\u001b[0m\n\u001b[1;32m      7\u001b[0m     \u001b[0;32mdef\u001b[0m \u001b[0mspeak\u001b[0m\u001b[0;34m(\u001b[0m\u001b[0mself\u001b[0m\u001b[0;34m)\u001b[0m\u001b[0;34m:\u001b[0m\u001b[0;34m\u001b[0m\u001b[0;34m\u001b[0m\u001b[0m\n\u001b[0;32m----> 8\u001b[0;31m         \u001b[0;32mraise\u001b[0m \u001b[0mNotImplementedError\u001b[0m\u001b[0;34m(\u001b[0m\u001b[0;34m'i don\\'t know how to speak'\u001b[0m\u001b[0;34m)\u001b[0m  \u001b[0;31m# ошибка, показывающая что метод еще не реализован\u001b[0m\u001b[0;34m\u001b[0m\u001b[0;34m\u001b[0m\u001b[0m\n\u001b[0m",
      "\u001b[0;31mNotImplementedError\u001b[0m: i don't know how to speak"
     ]
    }
   ],
   "source": [
    "hedgehog.speak()"
   ]
  },
  {
   "cell_type": "markdown",
   "metadata": {
    "id": "JfgQNmBsNxuW"
   },
   "source": [
    "Ромбовидное наследование возможно, но не делайте так, пожалуйста!"
   ]
  },
  {
   "cell_type": "code",
   "execution_count": null,
   "metadata": {
    "id": "_OQul2rKRPYU"
   },
   "outputs": [],
   "source": [
    "#      Animal\n",
    "#    /       \\ \n",
    "#  Cat       Dog\n",
    "#    \\       /\n",
    "#      CatDog"
   ]
  },
  {
   "cell_type": "markdown",
   "metadata": {},
   "source": [
    "Ромбовидное наследование — ситуация в объектно-ориентированных языках программирования с поддержкой множественного наследования, когда два класса B и C наследуют от A, а класс D наследует от обоих классов B и C. При этой схеме наследования может возникнуть неоднозначность: если объект класса D вызывает метод, определенный в классе A (и этот метод не был переопределен в классе D), а классы B и C по-своему переопределили этот метод, то от какого класса его наследовать: B или C?"
   ]
  },
  {
   "cell_type": "markdown",
   "metadata": {},
   "source": [
    "В Python проблема ромба остро встала после введения классов с общим предком object; начиная c версии 2.3 было решено создавать список разрешения.\n"
   ]
  },
  {
   "cell_type": "code",
   "execution_count": null,
   "metadata": {},
   "outputs": [],
   "source": [
    "#      A\n",
    "#   /    \\ \n",
    "#  B      C\n",
    "#   \\   /\n",
    "#     D\n"
   ]
  },
  {
   "cell_type": "markdown",
   "metadata": {},
   "source": [
    "В случае ромба это означает поиск в глубину, начиная слева $(D, B, A, C, A)$, а затем удаление из списка всех, кроме последнего включения каждого класса, который в списке повторяется. Следовательно, итоговый порядок разрешения выглядит так: $[D, B, C, A]$."
   ]
  },
  {
   "cell_type": "markdown",
   "metadata": {},
   "source": [
    "Как результат, мы движемся по слоям, не обращаемся к классу-предку до того, как обратимся ко всем его потомкам, даже если потомков у этого предка несколько."
   ]
  },
  {
   "cell_type": "code",
   "execution_count": null,
   "metadata": {
    "id": "C3O0wR3LN2Z9"
   },
   "outputs": [],
   "source": [
    "class CatDog(Cat, Dog): \n",
    "    def __init__(self):\n",
    "        super().__init__()\n",
    "        print(\"i am a CatDog!\")"
   ]
  },
  {
   "cell_type": "code",
   "execution_count": null,
   "metadata": {
    "colab": {
     "base_uri": "https://localhost:8080/",
     "height": 104
    },
    "id": "mkKBiyZsODGu",
    "outputId": "03158292-6225-4cec-ef85-27032957be3a"
   },
   "outputs": [
    {
     "name": "stdout",
     "output_type": "stream",
     "text": [
      "i am an animal\n",
      "i am a dog\n",
      "i am a cat\n",
      "i am a CatDog!\n"
     ]
    },
    {
     "data": {
      "application/vnd.google.colaboratory.intrinsic+json": {
       "type": "string"
      },
      "text/plain": [
       "'cat'"
      ]
     },
     "execution_count": 104,
     "metadata": {},
     "output_type": "execute_result"
    }
   ],
   "source": [
    "catdog = CatDog()\n",
    "catdog.some_value"
   ]
  },
  {
   "cell_type": "markdown",
   "metadata": {
    "id": "TFbElcmmOBjL"
   },
   "source": [
    "Порядок перечисления родителей важен!"
   ]
  },
  {
   "cell_type": "code",
   "execution_count": null,
   "metadata": {
    "colab": {
     "base_uri": "https://localhost:8080/",
     "height": 104
    },
    "id": "eFUlsOS2OFTb",
    "outputId": "67cf0520-5818-466c-94a8-b4c1397c2094"
   },
   "outputs": [
    {
     "name": "stdout",
     "output_type": "stream",
     "text": [
      "i am an animal\n",
      "i am a cat\n",
      "i am a dog\n",
      "i am a CatDog!\n"
     ]
    },
    {
     "data": {
      "application/vnd.google.colaboratory.intrinsic+json": {
       "type": "string"
      },
      "text/plain": [
       "'dog'"
      ]
     },
     "execution_count": 105,
     "metadata": {},
     "output_type": "execute_result"
    }
   ],
   "source": [
    "class DogCat(Dog, Cat):  # теперь наоборот\n",
    "    def __init__(self):\n",
    "        super().__init__()#Функция super(), возвращает объект-посредник,\n",
    "        #который делегирует вызовы метода родительскому или родственному классу, указанного type типа\n",
    "        print(\"i am a CatDog!\")\n",
    "\n",
    "dogcat = DogCat()\n",
    "dogcat.some_value"
   ]
  },
  {
   "cell_type": "markdown",
   "metadata": {
    "id": "44IYzZofRc1s"
   },
   "source": [
    "Что с методами?"
   ]
  },
  {
   "cell_type": "markdown",
   "metadata": {},
   "source": [
    "Методы и атрибуты ищутся в следующем порядке:\n",
    "\n",
    "1)имя ищется в объекте (т.е. в его __dict__)\n",
    "\n",
    "2)дальше в классе объекта\n",
    "\n",
    "3)дальше в предках класса"
   ]
  },
  {
   "cell_type": "code",
   "execution_count": null,
   "metadata": {
    "colab": {
     "base_uri": "https://localhost:8080/"
    },
    "id": "bNVREkAsRgDl",
    "outputId": "961f0119-c9aa-4e50-d936-42c132aeaa0c"
   },
   "outputs": [
    {
     "data": {
      "text/plain": [
       "(__main__.CatDog, __main__.Cat, __main__.Dog, __main__.Animal, object)"
      ]
     },
     "execution_count": 106,
     "metadata": {},
     "output_type": "execute_result"
    }
   ],
   "source": [
    "CatDog.__mro__ \n",
    "#Метод .__mro__ возвращает список классов ровно в том порядке,\n",
    "#в котором Python будет искать методы в иерархии классов \n",
    "#пока не найдет нужный или не выдаст ошибку."
   ]
  },
  {
   "cell_type": "code",
   "execution_count": null,
   "metadata": {
    "colab": {
     "base_uri": "https://localhost:8080/"
    },
    "id": "KLQcjmliEuHV",
    "outputId": "b9be64c9-e383-4a67-aa47-27946c087aa6"
   },
   "outputs": [
    {
     "data": {
      "text/plain": [
       "(__main__.DogCat, __main__.Dog, __main__.Cat, __main__.Animal, object)"
      ]
     },
     "execution_count": 107,
     "metadata": {},
     "output_type": "execute_result"
    }
   ],
   "source": [
    "DogCat.__mro__"
   ]
  },
  {
   "cell_type": "code",
   "execution_count": null,
   "metadata": {
    "colab": {
     "base_uri": "https://localhost:8080/"
    },
    "id": "GROiV3ECRhna",
    "outputId": "add1d8fb-6f39-408b-cd8f-aec0201a6661"
   },
   "outputs": [
    {
     "data": {
      "text/plain": [
       "(__main__.D, __main__.B, __main__.A, __main__.C, object)"
      ]
     },
     "execution_count": 108,
     "metadata": {},
     "output_type": "execute_result"
    }
   ],
   "source": [
    "class A: pass\n",
    "class B(A): pass\n",
    "class C: pass\n",
    "class D(B, C): pass\n",
    "\n",
    "D.__mro__"
   ]
  },
  {
   "cell_type": "markdown",
   "metadata": {
    "id": "Py_kHYJUGUTb"
   },
   "source": [
    "Множественное наследование здорового человека - mixins."
   ]
  },
  {
   "cell_type": "markdown",
   "metadata": {},
   "source": [
    "Mixin классы - это концепция в программировании, в которой класс предоставляет функциональные возможности, но не предназначен для самостоятельного использования. Основная цель миксинов - предоставить какие-то дополнительные методы.\n",
    "\n",
    "Другими словами классы миксины или как еще их называют примеси - это ограниченная форма множественного наследования. В частности, в контексте языка Python, миксин - это родительский класс, который предоставляет функциональные возможности подклассам, но не предназначен для создания экземпляров самого себя. И было бы лучше, если бы сами миксины не имели наследования от других миксинов, а также избегали какого либо состояния."
   ]
  },
  {
   "cell_type": "code",
   "execution_count": 42,
   "metadata": {},
   "outputs": [],
   "source": [
    "class MusicPlayerMixin:\n",
    "     def play_music(self, song):\n",
    "        print(\"Now playing: {}\".format(song))"
   ]
  },
  {
   "cell_type": "code",
   "execution_count": 55,
   "metadata": {},
   "outputs": [],
   "source": [
    "class Auto:\n",
    "    def ride(self):\n",
    "        print(\"Riding on a ground\")\n",
    "\n",
    "class Boat:\n",
    "    def swim(self):\n",
    "        print(\"Sailing in the ocean\")\n",
    "\n",
    "class Amphibian(Auto, Boat,MusicPlayerMixin):\n",
    "    def __init__(self):\n",
    "        super().__init__()"
   ]
  },
  {
   "cell_type": "code",
   "execution_count": 57,
   "metadata": {},
   "outputs": [
    {
     "name": "stdout",
     "output_type": "stream",
     "text": [
      "Riding on a ground\n",
      "Sailing in the ocean\n",
      "Now playing: hi\n"
     ]
    }
   ],
   "source": [
    "a = Amphibian()\n",
    "a.ride()\n",
    "a.swim()\n",
    "a.play_music('hi')"
   ]
  },
  {
   "cell_type": "markdown",
   "metadata": {
    "id": "CkgV-2_h8tv3"
   },
   "source": [
    "# Подключение сторонних модулей"
   ]
  },
  {
   "cell_type": "code",
   "execution_count": null,
   "metadata": {
    "id": "q9xC9VV-ILf7"
   },
   "outputs": [],
   "source": [
    "import math"
   ]
  },
  {
   "cell_type": "code",
   "execution_count": null,
   "metadata": {
    "colab": {
     "base_uri": "https://localhost:8080/"
    },
    "id": "pvIQhm3XIPEu",
    "outputId": "ad2c0bbd-737a-4b35-9415-549c8c827cbd"
   },
   "outputs": [
    {
     "data": {
      "text/plain": [
       "3.141592653589793"
      ]
     },
     "execution_count": 146,
     "metadata": {},
     "output_type": "execute_result"
    }
   ],
   "source": [
    "math.pi"
   ]
  },
  {
   "cell_type": "code",
   "execution_count": null,
   "metadata": {
    "colab": {
     "base_uri": "https://localhost:8080/"
    },
    "id": "2pdpMNTZ8tv3",
    "outputId": "70c1c296-327a-4802-d00d-368a955bb9f5"
   },
   "outputs": [
    {
     "data": {
      "text/plain": [
       "1.0"
      ]
     },
     "execution_count": 147,
     "metadata": {},
     "output_type": "execute_result"
    }
   ],
   "source": [
    "math.sin(math.pi / 2)"
   ]
  },
  {
   "cell_type": "code",
   "execution_count": null,
   "metadata": {
    "colab": {
     "base_uri": "https://localhost:8080/"
    },
    "id": "qbly3cK55VPn",
    "outputId": "9d4b43c5-642e-4ca4-fbcc-7f56df3e03e2"
   },
   "outputs": [
    {
     "data": {
      "text/plain": [
       "module"
      ]
     },
     "execution_count": 148,
     "metadata": {},
     "output_type": "execute_result"
    }
   ],
   "source": [
    "type(math)"
   ]
  },
  {
   "cell_type": "code",
   "execution_count": null,
   "metadata": {
    "colab": {
     "base_uri": "https://localhost:8080/"
    },
    "id": "HeuFjU2z5bdq",
    "outputId": "d8677afa-1dd7-45aa-b2c5-753ad4add7e0"
   },
   "outputs": [
    {
     "data": {
      "text/plain": [
       "['__doc__',\n",
       " '__loader__',\n",
       " '__name__',\n",
       " '__package__',\n",
       " '__spec__',\n",
       " 'acos',\n",
       " 'acosh',\n",
       " 'asin',\n",
       " 'asinh',\n",
       " 'atan',\n",
       " 'atan2',\n",
       " 'atanh',\n",
       " 'ceil',\n",
       " 'copysign',\n",
       " 'cos',\n",
       " 'cosh',\n",
       " 'degrees',\n",
       " 'e',\n",
       " 'erf',\n",
       " 'erfc',\n",
       " 'exp',\n",
       " 'expm1',\n",
       " 'fabs',\n",
       " 'factorial',\n",
       " 'floor',\n",
       " 'fmod',\n",
       " 'frexp',\n",
       " 'fsum',\n",
       " 'gamma',\n",
       " 'gcd',\n",
       " 'hypot',\n",
       " 'inf',\n",
       " 'isclose',\n",
       " 'isfinite',\n",
       " 'isinf',\n",
       " 'isnan',\n",
       " 'ldexp',\n",
       " 'lgamma',\n",
       " 'log',\n",
       " 'log10',\n",
       " 'log1p',\n",
       " 'log2',\n",
       " 'modf',\n",
       " 'nan',\n",
       " 'pi',\n",
       " 'pow',\n",
       " 'radians',\n",
       " 'remainder',\n",
       " 'sin',\n",
       " 'sinh',\n",
       " 'sqrt',\n",
       " 'tan',\n",
       " 'tanh',\n",
       " 'tau',\n",
       " 'trunc']"
      ]
     },
     "execution_count": 149,
     "metadata": {},
     "output_type": "execute_result"
    }
   ],
   "source": [
    "dir(math)"
   ]
  },
  {
   "cell_type": "markdown",
   "metadata": {},
   "source": [
    "###### 1 \n",
    "\n",
    "Создайте класс Soda (для определения типа газированной воды), принимающий 1 аргумент при инициализации (отвечающий за добавку к выбираемому лимонаду). \n",
    "В этом классе реализуйте метод show_my_drink(), выводящий на печать «Газировка и {ДОБАВКА}» в случае наличия добавки, а иначе отобразится следующая фраза: «Обычная газировка»."
   ]
  },
  {
   "cell_type": "markdown",
   "metadata": {},
   "source": [
    "###### 2 \n",
    "\n",
    "Николаю требуется проверить, возможно ли из представленных отрезков условной длины сформировать треугольник. \n",
    "Для этого он решил создать класс TriangleChecker, принимающий только положительные числа. \n",
    "С помощью метода is_triangle() возвращаются следующие значения (в зависимости от ситуации):\n",
    "– Ура, можно построить треугольник!;\n",
    "– С отрицательными числами ничего не выйдет!;\n",
    "– Нужно вводить только числа!;\n",
    "– Жаль, но из этого треугольник не сделать."
   ]
  },
  {
   "cell_type": "markdown",
   "metadata": {},
   "source": [
    "##### 3\n",
    "\n",
    "Николай – оригинальный человек. \n",
    "Он решил создать класс Nikola, принимающий при инициализации 2 параметра: имя и возраст. Но на этом он не успокоился. \n",
    "Не важно, какое имя передаст пользователь при создании экземпляра, оно всегда будет содержать “Николая”. \n",
    "В частности - если пользователя на самом деле зовут Николаем, то с именем ничего не произойдет, а если его зовут, например, Максим, то оно преобразуется в “Я не Максим, а Николай”.\n",
    "Более того, никаких других атрибутов и методов у экземпляра не может быть добавлено, даже если кто-то и вздумает так поступить (т.е. если некий пользователь решит прибавить к экземпляру свойство «отчество» или метод «приветствие», то ничего у такого хитреца не получится)."
   ]
  },
  {
   "cell_type": "markdown",
   "metadata": {},
   "source": [
    "###### 4 \n",
    "\n",
    "Строки в Питоне сравниваются на основании значений символов. \n",
    "Т.е. если мы захотим выяснить, что больше: «Apple» или «Яблоко», – то «Яблоко» окажется бОльшим. \n",
    "А все потому, что английская буква «A» имеет значение 65 (берется из таблицы кодировки), а русская буква «Я» – 1071 (с помощью функции ord() это можно выяснить). \n",
    "Такое положение дел не устроило Анну. \n",
    "Она считает, что строки нужно сравнивать по количеству входящих в них символов.\n",
    "Для этого девушка создала класс RealString и реализовала озвученный инструментарий. Сравнивать между собой можно как объекты класса, так и обычные строки с экземплярами класса RealString. \n",
    "К слову, Анне понадобилось только 3 метода внутри класса (включая __init__()) для воплощения задуманного."
   ]
  },
  {
   "cell_type": "markdown",
   "metadata": {},
   "source": [
    "###### 5 \n",
    "\n",
    "Реализуйте класс Point3D, представляющий точку в трехмерном пространстве. Конструктор должен принимать три аргумента: x, y и z — координаты точки. Класс должен реализовывать метод distance_to, принимающий в качестве аргумента другую точку и возвращающий расстояние между ними.\n"
   ]
  },
  {
   "cell_type": "markdown",
   "metadata": {},
   "source": [
    "###### 6\n",
    "\n",
    "Добавьте к реализованному в задании № 1 классу Point3D класс Segment3D, представляющий отрезок. Конструктор должен принимать пару точек — концы отрезка. Класс должен реализовывать два метода:\n",
    "\n",
    "●     length — не принимает аргументов, возвращает длину отрезка;\n",
    "\n",
    "●     middle — не принимает аргументов, возвращает точку (экземпляр класса Point3D), находящуюся в середине отрезка.\n",
    "\n",
    " "
   ]
  },
  {
   "cell_type": "markdown",
   "metadata": {},
   "source": [
    "###### 7 \n",
    "\n",
    "Добавьте к реализованному в прошлом задании классу Segment3D метод cos_to, принимающий в качестве аргумента еще один объект класса Segment3D и возвращающий косинус угла между отрезками.\n",
    "\n",
    "При решении задачи воспользуйтесь определением скалярного произведения векторов. Поскольку отрезки в отличие от векторов не имеют направления, косинус угла должен быть всегда положительным."
   ]
  },
  {
   "cell_type": "code",
   "execution_count": 1,
   "metadata": {},
   "outputs": [
    {
     "name": "stdout",
     "output_type": "stream",
     "text": [
      "Обычная газировка\n",
      "Газировка и малина\n",
      "Обычная газировка\n"
     ]
    }
   ],
   "source": [
    "#1\n",
    "class Soda:\n",
    "    def __init__(self, ingredient = None):\n",
    "        if isinstance(ingredient, str):\n",
    "            self.ingredient = ingredient\n",
    "        else:\n",
    "            self.ingredient = None\n",
    "\n",
    "    def show_my_drink(self):\n",
    "        if self.ingredient:\n",
    "            print(f'Газировка и {self.ingredient}')\n",
    "        else:\n",
    "            print('Обычная газировка')\n",
    "\n",
    " # Тесты\n",
    "drink1 = Soda()\n",
    "drink2 = Soda('мали    тна')\n",
    "drink3 = Soda(5)\n",
    "drink1.show_my_drink()\n",
    "drink2.show_my_drink()\n",
    "drink3.show_my_drink()"
   ]
  },
  {
   "cell_type": "code",
   "execution_count": 3,
   "metadata": {},
   "outputs": [
    {
     "name": "stdout",
     "output_type": "stream",
     "text": [
      "Ура, можно построить треугольник!\n",
      "Жаль, но из этого треугольник не сделать\n",
      "Нужно вводить только числа!\n",
      "С отрицательными числами ничего не выйдет!\n"
     ]
    }
   ],
   "source": [
    "#2\n",
    "class TriangleChecker:\n",
    "    def __init__(self, sides):\n",
    "        self.sides = sides\n",
    "\n",
    "    def is_triangle(self):\n",
    "        if all(isinstance(side, (int, float)) for side in self.sides):\n",
    "            if all(side > 0 for side in self.sides):\n",
    "                sorted_sides = sorted(self.sides)\n",
    "                if sorted_sides[0] + sorted_sides[1] > sorted_sides[2]:\n",
    "                    return 'Ура, можно построить треугольник!'\n",
    "                return 'Жаль, но из этого треугольник не сделать'\n",
    "            return 'С отрицательными числами ничего не выйдет!'\n",
    "        return 'Нужно вводить только числа!'\n",
    " \n",
    " \n",
    "# Тесты\n",
    "triangle1 = TriangleChecker([2, 3, 4])\n",
    "print(triangle1.is_triangle())\n",
    "triangle2 = TriangleChecker([77, 3, 4])\n",
    "print(triangle2.is_triangle())\n",
    "triangle3 = TriangleChecker([77, 3, 'Сторона3'])\n",
    "print(triangle3.is_triangle())\n",
    "triangle4 = TriangleChecker([77, -3, 4])\n",
    "print(triangle4.is_triangle())"
   ]
  },
  {
   "cell_type": "code",
   "execution_count": 17,
   "metadata": {},
   "outputs": [
    {
     "name": "stdout",
     "output_type": "stream",
     "text": [
      "Я не Иван, а Николай\n",
      "Николай\n"
     ]
    },
    {
     "ename": "AttributeError",
     "evalue": "'Nikola' object has no attribute 'surname'",
     "output_type": "error",
     "traceback": [
      "\u001b[1;31m---------------------------------------------------------------------------\u001b[0m",
      "\u001b[1;31mAttributeError\u001b[0m                            Traceback (most recent call last)",
      "Cell \u001b[1;32mIn[17], line 19\u001b[0m\n\u001b[0;32m     17\u001b[0m \u001b[38;5;28mprint\u001b[39m(person1\u001b[38;5;241m.\u001b[39mname)\n\u001b[0;32m     18\u001b[0m \u001b[38;5;28mprint\u001b[39m(person2\u001b[38;5;241m.\u001b[39mname)\n\u001b[1;32m---> 19\u001b[0m person2\u001b[38;5;241m.\u001b[39msurname \u001b[38;5;241m=\u001b[39m \u001b[38;5;124m'\u001b[39m\u001b[38;5;124mПетров\u001b[39m\u001b[38;5;124m'\u001b[39m\n",
      "\u001b[1;31mAttributeError\u001b[0m: 'Nikola' object has no attribute 'surname'"
     ]
    }
   ],
   "source": [
    "#3\n",
    "\n",
    "class Nikola:\n",
    "    __slots__ = ['name', 'age']\n",
    " \n",
    "    def __init__(self, name, age):\n",
    "        if name == 'Николай':\n",
    "            self.name = name\n",
    "        else:\n",
    "            self.name = f'Я не {name}, а Николай'\n",
    "        self.age = age\n",
    " \n",
    " \n",
    "# Тесты\n",
    "person1 = Nikola('Иван', 31)\n",
    "person2 = Nikola('Николай', 14)\n",
    "print(person1.name)\n",
    "print(person2.name)\n",
    "person2.surname = 'Петров'"
   ]
  },
  {
   "cell_type": "code",
   "execution_count": 7,
   "metadata": {},
   "outputs": [
    {
     "name": "stdout",
     "output_type": "stream",
     "text": [
      "True\n",
      "False\n",
      "True\n"
     ]
    }
   ],
   "source": [
    "class RealString:\n",
    "    def __init__(self, some_str):\n",
    "        self.some_str = str(some_str)\n",
    " \n",
    "    def __eq__(self, other):\n",
    "        if not isinstance(other, RealString):\n",
    "            other = RealString(other)\n",
    "        return len(self.some_str) == len(other.some_str)\n",
    " \n",
    "    def __lt__(self, other):\n",
    "        if not isinstance(other, RealString):\n",
    "            other = RealString(other)\n",
    "        return len(self.some_str) < len(other.some_str)\n",
    " \n",
    "    def __le__(self, other):\n",
    "        return self == other or self < other\n",
    "# Тесты\n",
    "str1 = RealString('Молоко')\n",
    "str2 = RealString('Абрикосы растут')\n",
    "str3 = 'Золото'\n",
    "str4 = [1, 2, 3]\n",
    "print(str1 < str4)\n",
    "print(str1 >= str2)\n",
    "print(str1 == str3)"
   ]
  },
  {
   "cell_type": "code",
   "execution_count": 33,
   "metadata": {},
   "outputs": [
    {
     "data": {
      "text/plain": [
       "1.118033988749895"
      ]
     },
     "execution_count": 33,
     "metadata": {},
     "output_type": "execute_result"
    }
   ],
   "source": [
    "#5\n",
    "class Point3D:\n",
    "    def __init__(self, x, y, z):\n",
    "        self.x=x\n",
    "        self.y=y\n",
    "        self.z=z\n",
    "    def distance_to(self, p2):\n",
    "        d2=(p2.x-self.x)**2\n",
    "        d2+=(p2.y-self.y)**2\n",
    "        d2+=(p2.z-self.z)**2\n",
    "        d1=d2**(1/2)\n",
    "        return d1\n",
    "p1=Point3D(1,0.5,0)\n",
    "p2 = Point3D(0,0,0)\n",
    "p1.distance_to(p2)"
   ]
  },
  {
   "cell_type": "code",
   "execution_count": 31,
   "metadata": {},
   "outputs": [
    {
     "name": "stdout",
     "output_type": "stream",
     "text": [
      "1.118033988749895\n"
     ]
    }
   ],
   "source": [
    "#6\n",
    "class Point3D:\n",
    "    def __init__(self, x, y, z):\n",
    "        self.x=x\n",
    "        self.y=y\n",
    "        self.z=z\n",
    "    def distance_to(self, p2):\n",
    "        d2=(p2.x-self.x)**2\n",
    "        d2+=(p2.y-self.y)**2\n",
    "        d2+=(p2.z-self.z)**2\n",
    "        d1=d2**(1/2)\n",
    "        return d1\n",
    "class Segment3D:\n",
    "    def __init__(self, p1,p2):\n",
    "        self.p1=p1\n",
    "        self.p2=p2\n",
    "    def length(self):\n",
    "        return self.p1.distance_to(self.p2) \n",
    "    def middle(self):\n",
    "        p3 = Point3D(0,0,0)\n",
    "        p3.x = (self.p1.x +self.p2.x)/2\n",
    "        p3.y = (self.p1.y +self.p2.y)/2 \n",
    "        p3.z = (self.p1.z +self.p2.z)/2 \n",
    "        return p3\n",
    "p1=Point3D(1,0.5,0)\n",
    "p2 = Point3D(0,0,0)\n",
    "s = Segment3D(p1,p2)\n",
    "print(s.length())\n"
   ]
  },
  {
   "cell_type": "code",
   "execution_count": 13,
   "metadata": {},
   "outputs": [],
   "source": [
    "#7\n",
    "class Point3D:\n",
    "    def __init__(self, x, y, z):\n",
    "        self.x=x\n",
    "        self.y=y\n",
    "        self.z=z\n",
    "    def distance_to(self, p2):\n",
    "        d2=(p2.x-self.x)**2\n",
    "        d2+=(p2.y-self.y)**2\n",
    "        d2+=(p2.z-self.z)**2\n",
    "        d1=d2**(1/2)\n",
    "        return d1\n",
    "class Segment3D:\n",
    "    def __init__(self, p1,p2):\n",
    "        self.p1=p1\n",
    "        self.p2=p2\n",
    "    def length(self):\n",
    "        return self.p1.distance_to(self.p2) \n",
    "    def middle(self):\n",
    "        p3 = Point3D(0,0,0)\n",
    "        p3.x = (self.p1.x +self.p2.x)/2\n",
    "        p3.y = (self.p1.y +self.p2.y)/2 \n",
    "        p3.z = (self.p1.z +self.p2.z)/2 \n",
    "        return p3\n",
    "    def cos_to(self, s2):\n",
    "        p2 = Point3D(0,0,0)\n",
    "        p2.x = (s2.p1.x -s2.p2.x)\n",
    "        p2.y = (s2.p1.y -s2.p2.y) \n",
    "        p2.z = (s2.p1.z -s2.p2.z)\n",
    "        p3 = Point3D(0,0,0)\n",
    "        p3.x = (self.p1.x -self.p2.x)\n",
    "        p3.y = (self.p1.y -self.p2.y) \n",
    "        p3.z = (self.p1.z -self.p2.z)\n",
    "        c = p3.x*p2.x + p3.y*p2.y+p3.z*p2.z\n",
    "        c2 = ((p3.x**2+p3.y**2+p3.z**2)*(p2.x**2+p2.y**2+p2.z**2))**(1/2)\n",
    "        return abs((c/c2))"
   ]
  },
  {
   "cell_type": "code",
   "execution_count": null,
   "metadata": {},
   "outputs": [],
   "source": []
  }
 ],
 "metadata": {
  "colab": {
   "collapsed_sections": [],
   "provenance": []
  },
  "kernelspec": {
   "display_name": "Python 3 (ipykernel)",
   "language": "python",
   "name": "python3"
  },
  "language_info": {
   "codemirror_mode": {
    "name": "ipython",
    "version": 3
   },
   "file_extension": ".py",
   "mimetype": "text/x-python",
   "name": "python",
   "nbconvert_exporter": "python",
   "pygments_lexer": "ipython3",
   "version": "3.12.4"
  }
 },
 "nbformat": 4,
 "nbformat_minor": 4
}
