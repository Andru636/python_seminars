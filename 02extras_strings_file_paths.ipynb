{
 "cells": [
  {
   "cell_type": "markdown",
   "metadata": {
    "id": "icDOU2PPGTbM"
   },
   "source": [
    "# Строки в Python"
   ]
  },
  {
   "cell_type": "markdown",
   "metadata": {
    "id": "Axk5x3VQG92P"
   },
   "source": [
    "## Базовый синтаксис"
   ]
  },
  {
   "cell_type": "markdown",
   "metadata": {
    "id": "CT4fiKNqG_bj"
   },
   "source": [
    "Объявление строк в Python:"
   ]
  },
  {
   "cell_type": "code",
   "execution_count": null,
   "metadata": {
    "colab": {
     "base_uri": "https://localhost:8080/"
    },
    "id": "KvBhWXuHGTbN",
    "outputId": "7b413a19-f922-456a-a3c8-b61e6883756b"
   },
   "outputs": [
    {
     "name": "stdout",
     "output_type": "stream",
     "text": [
      "s:       Lorem ipsum dolor sit amet, consectetur adipiscing elit\n",
      "also_s:  Lorem ipsum dolor sit amet, consectetur adipiscing elit\n"
     ]
    }
   ],
   "source": [
    "s = 'Lorem ipsum dolor sit amet, consectetur adipiscing elit'\n",
    "also_s = \"Lorem ipsum dolor sit amet, consectetur adipiscing elit\"\n",
    "\n",
    "print('s:      ', s)\n",
    "print('also_s: ', also_s)"
   ]
  },
  {
   "cell_type": "markdown",
   "metadata": {
    "id": "MPorQ5gJHDr5"
   },
   "source": [
    "Строки поддерживают срезы:"
   ]
  },
  {
   "cell_type": "code",
   "execution_count": null,
   "metadata": {
    "colab": {
     "base_uri": "https://localhost:8080/",
     "height": 35
    },
    "id": "vFxy4KjlzIw4",
    "outputId": "bbe4888d-196e-4784-b046-66eb363d9ad2"
   },
   "outputs": [
    {
     "data": {
      "application/vnd.google.colaboratory.intrinsic+json": {
       "type": "string"
      },
      "text/plain": [
       "'mori'"
      ]
     },
     "execution_count": 14,
     "metadata": {},
     "output_type": "execute_result"
    }
   ],
   "source": [
    "# str[START:STOP:STEP]\n",
    "\n",
    "s[10:20:3]"
   ]
  },
  {
   "cell_type": "markdown",
   "metadata": {
    "id": "GmBSWLjWGTbO"
   },
   "source": [
    "Поддерживают базовые арифметические операции:"
   ]
  },
  {
   "cell_type": "code",
   "execution_count": null,
   "metadata": {
    "colab": {
     "base_uri": "https://localhost:8080/"
    },
    "id": "lnviROHivEPP",
    "outputId": "d6a11199-a47a-4fb2-c78e-9f00a79fa42a"
   },
   "outputs": [
    {
     "name": "stdout",
     "output_type": "stream",
     "text": [
      "football!!\n"
     ]
    }
   ],
   "source": [
    "s_1 = 'foot'\n",
    "s_2 = 'ball'\n",
    "\n",
    "s_3 = s_1 + s_2 + '!' * 2\n",
    "print(s_3)"
   ]
  },
  {
   "cell_type": "markdown",
   "metadata": {
    "id": "NXVzok_muGW_"
   },
   "source": [
    "Строки являются неизменяемыми объектами."
   ]
  },
  {
   "cell_type": "code",
   "execution_count": null,
   "metadata": {
    "colab": {
     "base_uri": "https://localhost:8080/",
     "height": 139
    },
    "id": "IgCsYLUXGTbO",
    "outputId": "9c716b97-d4fb-4553-9bba-e9b5e75079c8"
   },
   "outputs": [
    {
     "ename": "TypeError",
     "evalue": "'str' object does not support item assignment",
     "output_type": "error",
     "traceback": [
      "\u001b[0;31m---------------------------------------------------------------------------\u001b[0m",
      "\u001b[0;31mTypeError\u001b[0m                                 Traceback (most recent call last)",
      "\u001b[0;32m<ipython-input-16-785f119f67a1>\u001b[0m in \u001b[0;36m<cell line: 1>\u001b[0;34m()\u001b[0m\n\u001b[0;32m----> 1\u001b[0;31m \u001b[0ms\u001b[0m\u001b[0;34m[\u001b[0m\u001b[0;34m-\u001b[0m\u001b[0;36m1\u001b[0m\u001b[0;34m]\u001b[0m \u001b[0;34m=\u001b[0m \u001b[0;34m'o'\u001b[0m\u001b[0;34m\u001b[0m\u001b[0;34m\u001b[0m\u001b[0m\n\u001b[0m",
      "\u001b[0;31mTypeError\u001b[0m: 'str' object does not support item assignment"
     ]
    }
   ],
   "source": [
    "s[-1] = 'o'"
   ]
  },
  {
   "cell_type": "markdown",
   "metadata": {
    "id": "iATJBDzShFD_"
   },
   "source": [
    "## Экранирование символов"
   ]
  },
  {
   "cell_type": "markdown",
   "metadata": {
    "id": "scevwcoFhWyd"
   },
   "source": [
    "Чтобы использовать кавычки как один из символов внутри строки, а не ее начало или конец (и не ловить ошибки), используют **символ экранирования: `\\`**.\n",
    "Он ставится перед соответсвующей кавычкой."
   ]
  },
  {
   "cell_type": "code",
   "execution_count": null,
   "metadata": {
    "colab": {
     "base_uri": "https://localhost:8080/"
    },
    "id": "wK5C08C0lkaR",
    "outputId": "ce532c95-ac04-42a5-fe4c-2092d9b04924"
   },
   "outputs": [
    {
     "name": "stdout",
     "output_type": "stream",
     "text": [
      "Dragon's mother said \"No\"\n",
      "Dragon's mother said \"No\"\n"
     ]
    }
   ],
   "source": [
    "string_1 = \"Dragon's mother said \\\"No\\\"\"\n",
    "\n",
    "string_2 = 'Dragon\\'s mother said \"No\"'\n",
    "\n",
    "print(string_1, string_2, sep='\\n')  # печать с новой строки"
   ]
  },
  {
   "cell_type": "markdown",
   "metadata": {
    "id": "kI-f-cceluY7"
   },
   "source": [
    "Если нужно вывести сам обратный слеш, его тоже надо экранировать, как и любой другой специальный символ:"
   ]
  },
  {
   "cell_type": "code",
   "execution_count": null,
   "metadata": {
    "colab": {
     "base_uri": "https://localhost:8080/"
    },
    "id": "60YcmtrOlzN1",
    "outputId": "d50ba31e-fd81-46c8-aa41-3c661a61ea1b"
   },
   "outputs": [
    {
     "name": "stdout",
     "output_type": "stream",
     "text": [
      "\\\n"
     ]
    }
   ],
   "source": [
    "print(\"\\\\\")"
   ]
  },
  {
   "cell_type": "markdown",
   "metadata": {
    "id": "mwDA5X4xGTbN"
   },
   "source": [
    "## Методы строк"
   ]
  },
  {
   "cell_type": "markdown",
   "metadata": {
    "id": "ulOvwhQNGTbP"
   },
   "source": [
    "Для удобства работы в строки встроено множество полезных методов. Рассмотрим неоторые из них:"
   ]
  },
  {
   "cell_type": "markdown",
   "metadata": {
    "id": "MRV6RsK8GTbO"
   },
   "source": [
    "### Разбиение и соединение"
   ]
  },
  {
   "cell_type": "markdown",
   "metadata": {
    "id": "_RW3hGumGXV9"
   },
   "source": [
    "1. **`str.partition(sep[arator]) -> tuple`**\n",
    "\n",
    "Разбивает строку на три составляющие (начало, разделитель, конец) и возвращает в виде кортежа"
   ]
  },
  {
   "cell_type": "code",
   "execution_count": null,
   "metadata": {
    "colab": {
     "base_uri": "https://localhost:8080/"
    },
    "id": "gbMJOEBw5Y1J",
    "outputId": "b477e696-45c0-4652-9f50-7b8590a4b774"
   },
   "outputs": [
    {
     "data": {
      "text/plain": [
       "('Lor', 'em', ' ipsum dolor sit amet, consectetur adipiscing elit')"
      ]
     },
     "execution_count": 22,
     "metadata": {},
     "output_type": "execute_result"
    }
   ],
   "source": [
    "s.partition('em')"
   ]
  },
  {
   "cell_type": "markdown",
   "metadata": {
    "id": "csAriPNFGg9R"
   },
   "source": [
    "2. **`str.split(sep[, maxsplit]) -> list`**\n",
    "\n",
    "Разбивает строку на части, используя разделитель, и возвращает эти части списком."
   ]
  },
  {
   "cell_type": "code",
   "execution_count": null,
   "metadata": {
    "colab": {
     "base_uri": "https://localhost:8080/"
    },
    "id": "f-JrQ-hkHOmY",
    "outputId": "2ba96c75-cd55-476c-d63a-50759b33cf29"
   },
   "outputs": [
    {
     "name": "stdout",
     "output_type": "stream",
     "text": [
      "['Lorem', 'ipsum', 'dolor', 'sit', 'amet,', 'consectetur', 'adipiscing', 'elit']\n",
      " \n",
      "['Lor', 'm ipsum dolor sit am', 't, cons', 'ct', 'tur adipiscing ', 'lit']\n",
      "['Lor', 'm ipsum dolor sit am', 't, consectetur adipiscing elit']\n"
     ]
    }
   ],
   "source": [
    "a = s.split()         # или s.split(' ')\n",
    "b = s.split('e')      # sep='e'\n",
    "c = s.split('e', 2)   # maxsplit=2\n",
    "\n",
    "print(a, ' ', b, c, sep='\\n')"
   ]
  },
  {
   "cell_type": "code",
   "execution_count": null,
   "metadata": {
    "colab": {
     "base_uri": "https://localhost:8080/",
     "height": 35
    },
    "id": "gmLz9PzwkLUe",
    "outputId": "440ff2b4-9415-4f95-fd34-589abc272459"
   },
   "outputs": [
    {
     "data": {
      "application/vnd.google.colaboratory.intrinsic+json": {
       "type": "string"
      },
      "text/plain": [
       "'Lorem'"
      ]
     },
     "execution_count": 90,
     "metadata": {},
     "output_type": "execute_result"
    }
   ],
   "source": [
    "words = s.split()\n",
    "words[0]"
   ]
  },
  {
   "cell_type": "code",
   "execution_count": null,
   "metadata": {
    "colab": {
     "base_uri": "https://localhost:8080/"
    },
    "id": "2q46c_iDIUvH",
    "outputId": "b9b40f52-4221-4cf6-c910-997d5aff439a"
   },
   "outputs": [
    {
     "data": {
      "text/plain": [
       "['L', 'o', 'r', 'e', 'm']"
      ]
     },
     "execution_count": 91,
     "metadata": {},
     "output_type": "execute_result"
    }
   ],
   "source": [
    "list(words[0])"
   ]
  },
  {
   "cell_type": "markdown",
   "metadata": {
    "id": "7oeOW2m9GTbP"
   },
   "source": [
    "3. **`str.join(words)  -> str`**\n",
    "\n",
    "Соединяет строки, используя указанный разделитель."
   ]
  },
  {
   "cell_type": "code",
   "execution_count": null,
   "metadata": {
    "colab": {
     "base_uri": "https://localhost:8080/"
    },
    "id": "yTwlIoT6HTj2",
    "outputId": "8db1a60a-3900-4e6d-f2ad-e59134c0f36c"
   },
   "outputs": [
    {
     "name": "stdout",
     "output_type": "stream",
     "text": [
      "Loremipsumdolorsitamet,consecteturadipiscingelit\n",
      "Lorem ipsum dolor sit amet, consectetur adipiscing elit\n",
      "Lorem ^_^ ipsum ^_^ dolor ^_^ sit ^_^ amet, ^_^ consectetur ^_^ adipiscing ^_^ elit\n"
     ]
    }
   ],
   "source": [
    "a = ''.join(words)\n",
    "b = ' '.join(words)\n",
    "c = ' ^_^ '.join(words)\n",
    "\n",
    "print(a, b, c, sep='\\n')"
   ]
  },
  {
   "cell_type": "markdown",
   "metadata": {
    "id": "DoAPSuNu1fQI"
   },
   "source": [
    "### Регистр символов"
   ]
  },
  {
   "cell_type": "code",
   "execution_count": null,
   "metadata": {
    "colab": {
     "base_uri": "https://localhost:8080/",
     "height": 34
    },
    "id": "L_8teZ96HYcD",
    "outputId": "b007ee46-96e9-4d99-be88-6fb567a2dce1"
   },
   "outputs": [
    {
     "data": {
      "application/vnd.google.colaboratory.intrinsic+json": {
       "type": "string"
      },
      "text/plain": [
       "'Lorem ipsum dolor sit amet, consectetur adipiscing elit!!'"
      ]
     },
     "execution_count": 24,
     "metadata": {},
     "output_type": "execute_result"
    }
   ],
   "source": [
    "s"
   ]
  },
  {
   "cell_type": "code",
   "execution_count": null,
   "metadata": {
    "colab": {
     "base_uri": "https://localhost:8080/",
     "height": 34
    },
    "id": "0HbsbYPhHZM3",
    "outputId": "7b77d80b-def2-4f5d-c37c-204e1a256851"
   },
   "outputs": [
    {
     "data": {
      "application/vnd.google.colaboratory.intrinsic+json": {
       "type": "string"
      },
      "text/plain": [
       "'LOREM IPSUM DOLOR SIT AMET, CONSECTETUR ADIPISCING ELIT!!'"
      ]
     },
     "execution_count": 25,
     "metadata": {},
     "output_type": "execute_result"
    }
   ],
   "source": [
    "s.upper()"
   ]
  },
  {
   "cell_type": "code",
   "execution_count": null,
   "metadata": {
    "colab": {
     "base_uri": "https://localhost:8080/",
     "height": 34
    },
    "id": "5p3dmHjOHaDK",
    "outputId": "35a7426d-98b2-490a-b729-fcde44536a45"
   },
   "outputs": [
    {
     "data": {
      "application/vnd.google.colaboratory.intrinsic+json": {
       "type": "string"
      },
      "text/plain": [
       "'lorem ipsum dolor sit amet, consectetur adipiscing elit!!'"
      ]
     },
     "execution_count": 26,
     "metadata": {},
     "output_type": "execute_result"
    }
   ],
   "source": [
    "s.lower()"
   ]
  },
  {
   "cell_type": "code",
   "execution_count": null,
   "metadata": {
    "colab": {
     "base_uri": "https://localhost:8080/",
     "height": 34
    },
    "id": "JUdqB983HbEH",
    "outputId": "49a3e642-29cf-4d00-b679-ed4d52d2ed91"
   },
   "outputs": [
    {
     "data": {
      "application/vnd.google.colaboratory.intrinsic+json": {
       "type": "string"
      },
      "text/plain": [
       "'Lorem ipsum dolor sit amet, consectetur adipiscing elit!!'"
      ]
     },
     "execution_count": 27,
     "metadata": {},
     "output_type": "execute_result"
    }
   ],
   "source": [
    "s.lower().capitalize()"
   ]
  },
  {
   "cell_type": "code",
   "execution_count": null,
   "metadata": {
    "colab": {
     "base_uri": "https://localhost:8080/",
     "height": 34
    },
    "id": "U1Yv7v-NGTbP",
    "outputId": "928c6a78-02a5-4526-a404-f6dcaf118163"
   },
   "outputs": [
    {
     "data": {
      "application/vnd.google.colaboratory.intrinsic+json": {
       "type": "string"
      },
      "text/plain": [
       "'Lorem Ipsum Dolor Sit Amet, Consectetur Adipiscing Elit!!'"
      ]
     },
     "execution_count": 28,
     "metadata": {},
     "output_type": "execute_result"
    }
   ],
   "source": [
    "s.title()"
   ]
  },
  {
   "cell_type": "markdown",
   "metadata": {},
   "source": [
    "Метод swapcase() строки преобразует все символы верхнего регистра в нижний регистр и все символы нижнего регистра в символы верхнего регистра данной строки и возвращает ее.\n"
   ]
  },
  {
   "cell_type": "code",
   "execution_count": null,
   "metadata": {
    "colab": {
     "base_uri": "https://localhost:8080/",
     "height": 34
    },
    "id": "1zlQDLYj1psN",
    "outputId": "08f5c65b-5e69-4b96-d5ac-467c6eb3eecd"
   },
   "outputs": [
    {
     "data": {
      "application/vnd.google.colaboratory.intrinsic+json": {
       "type": "string"
      },
      "text/plain": [
       "'lOREM IPSUM DOLOR SIT AMET, CONSECTETUR ADIPISCING ELIT!!'"
      ]
     },
     "execution_count": 29,
     "metadata": {},
     "output_type": "execute_result"
    }
   ],
   "source": [
    "s.swapcase()"
   ]
  },
  {
   "cell_type": "markdown",
   "metadata": {
    "id": "dnF1ImSvGTbP"
   },
   "source": [
    "### Поиск и замена"
   ]
  },
  {
   "cell_type": "markdown",
   "metadata": {
    "id": "ck60UitEHlDs"
   },
   "source": [
    "Для проверки есть ли в строке искомая подстрока можно использовать оператор `in`:"
   ]
  },
  {
   "cell_type": "code",
   "execution_count": null,
   "metadata": {
    "colab": {
     "base_uri": "https://localhost:8080/"
    },
    "id": "Q_ALSMSDGTbQ",
    "outputId": "53f742bd-2b84-4cfd-be6e-824d4fc8f09e"
   },
   "outputs": [
    {
     "data": {
      "text/plain": [
       "False"
      ]
     },
     "execution_count": 37,
     "metadata": {},
     "output_type": "execute_result"
    }
   ],
   "source": [
    "'lorem' in s"
   ]
  },
  {
   "cell_type": "code",
   "execution_count": null,
   "metadata": {
    "colab": {
     "base_uri": "https://localhost:8080/"
    },
    "id": "yw5IQWxJHmky",
    "outputId": "c35bca09-87ec-43de-b075-e194476e3b36"
   },
   "outputs": [
    {
     "data": {
      "text/plain": [
       "True"
      ]
     },
     "execution_count": 38,
     "metadata": {},
     "output_type": "execute_result"
    }
   ],
   "source": [
    "'lorem' in s.lower()"
   ]
  },
  {
   "cell_type": "markdown",
   "metadata": {
    "id": "uBXhkI_LGTbQ"
   },
   "source": [
    "Чтобы найти где именно есть подстрока в строке удобно использовать методы `find` и `index`:\n",
    "\n",
    "Метод find принимает три параметра:\r\n",
    "\r\n",
    "substring (символ/подстрока) — подстрока, которую нужно найти в данной строке\n",
    ".\r\n",
    "start (необязательный) — первый индекс, с которого нужно начинать поиск. По умолчанию значение равно 0.\r\n",
    "end (необязательный) — индекс, на котором нужно закончить поиск. По умолчанию равно длине строки."
   ]
  },
  {
   "cell_type": "code",
   "execution_count": null,
   "metadata": {
    "colab": {
     "base_uri": "https://localhost:8080/"
    },
    "id": "kAnd6kP0GTbQ",
    "outputId": "be05e5f9-777f-4328-bf16-f8cb63b45c1d"
   },
   "outputs": [
    {
     "name": "stdout",
     "output_type": "stream",
     "text": [
      "20 54 -1\n"
     ]
    }
   ],
   "source": [
    "a = s.find('t')           # возвращает индекс первого вхождения\n",
    "b = s.rfind('t')          # возвращает индекс последнего вхождения\n",
    "c = s.find('nonexistent') # возвращает -1 если строка не найдена\n",
    "\n",
    "print(a, b, c)"
   ]
  },
  {
   "cell_type": "code",
   "execution_count": null,
   "metadata": {
    "colab": {
     "base_uri": "https://localhost:8080/"
    },
    "id": "MmCkMgdDGTbQ",
    "outputId": "4f22b7b2-f26d-47b8-de90-87a2d52f58bf"
   },
   "outputs": [
    {
     "name": "stdout",
     "output_type": "stream",
     "text": [
      "6 6\n"
     ]
    }
   ],
   "source": [
    "a = s.index('ipsum')\n",
    "b = s.rindex('ipsum')\n",
    "\n",
    "print(a, b)"
   ]
  },
  {
   "cell_type": "code",
   "execution_count": null,
   "metadata": {
    "colab": {
     "base_uri": "https://localhost:8080/",
     "height": 139
    },
    "id": "y9ecBVgkHqur",
    "outputId": "07a8dacd-1268-4130-9a4a-0922e24dffd0"
   },
   "outputs": [
    {
     "ename": "ValueError",
     "evalue": "substring not found",
     "output_type": "error",
     "traceback": [
      "\u001b[0;31m---------------------------------------------------------------------------\u001b[0m",
      "\u001b[0;31mValueError\u001b[0m                                Traceback (most recent call last)",
      "\u001b[0;32m<ipython-input-50-4477f6a0d8b1>\u001b[0m in \u001b[0;36m<cell line: 1>\u001b[0;34m()\u001b[0m\n\u001b[0;32m----> 1\u001b[0;31m \u001b[0mc\u001b[0m \u001b[0;34m=\u001b[0m \u001b[0ms\u001b[0m\u001b[0;34m.\u001b[0m\u001b[0mindex\u001b[0m\u001b[0;34m(\u001b[0m\u001b[0;34m'nonexistent'\u001b[0m\u001b[0;34m)\u001b[0m\u001b[0;34m\u001b[0m\u001b[0;34m\u001b[0m\u001b[0m\n\u001b[0m",
      "\u001b[0;31mValueError\u001b[0m: substring not found"
     ]
    }
   ],
   "source": [
    "c = s.index('nonexistent')"
   ]
  },
  {
   "cell_type": "code",
   "execution_count": null,
   "metadata": {
    "colab": {
     "base_uri": "https://localhost:8080/"
    },
    "id": "hzCoIbmF3STs",
    "outputId": "e5c0bd95-7ca4-4668-dd8d-f1ab41abb58d"
   },
   "outputs": [
    {
     "name": "stdout",
     "output_type": "stream",
     "text": [
      "I like apples, apples\n",
      "ike bananas, b\n"
     ]
    }
   ],
   "source": [
    "txt = \"I like bananas, bananas\"\n",
    "\n",
    "a = txt.replace(\"bananas\", \"apples\")\n",
    "b = txt.strip(\"Ilans \")                # удаляет символы из аргументов с начала и конца строки\n",
    "\n",
    "print(a, b, sep='\\n')"
   ]
  },
  {
   "cell_type": "markdown",
   "metadata": {
    "id": "MKFCKalFGTbQ"
   },
   "source": [
    "### Анализ строки"
   ]
  },
  {
   "cell_type": "markdown",
   "metadata": {
    "id": "TFFlVE4EHs2u"
   },
   "source": [
    "Можем проверять из каких символов состоит строка:"
   ]
  },
  {
   "cell_type": "code",
   "execution_count": null,
   "metadata": {
    "colab": {
     "base_uri": "https://localhost:8080/"
    },
    "id": "Gu82EaONGTbR",
    "outputId": "66dde46d-a0e8-4bca-8073-8ebfe302f043"
   },
   "outputs": [
    {
     "name": "stdout",
     "output_type": "stream",
     "text": [
      "string\t\tisalpha\t\tisdigit\t\tisspace\n",
      "'abc'\t\tTrue\t\tFalse\t\tFalse\n",
      "'2'\t\tFalse\t\tTrue\t\tFalse\n",
      "'   '\t\tFalse\t\tFalse\t\tTrue\n"
     ]
    }
   ],
   "source": [
    "strings = ['abc', '2', '   ']\n",
    "\n",
    "print('\\t\\t'.join('string isalpha isdigit isspace'.split()))\n",
    "\n",
    "for s in strings:\n",
    "    print(\"'\" + s + \"'\", s.isalpha(), s.isdigit(), s.isspace(), sep='\\t\\t')"
   ]
  },
  {
   "cell_type": "markdown",
   "metadata": {
    "id": "AxKD2bOMGTbR"
   },
   "source": [
    "Дополнительные методы - `startswith`, `endswith`, `strip`."
   ]
  },
  {
   "cell_type": "code",
   "execution_count": null,
   "metadata": {
    "colab": {
     "base_uri": "https://localhost:8080/"
    },
    "id": "kBBD6_ahGTbR",
    "outputId": "ecf291e6-f0b5-4060-c195-873d833e3718"
   },
   "outputs": [
    {
     "data": {
      "text/plain": [
       "True"
      ]
     },
     "execution_count": 6,
     "metadata": {},
     "output_type": "execute_result"
    }
   ],
   "source": [
    "'Hello, world!'.startswith('Hel')"
   ]
  },
  {
   "cell_type": "code",
   "execution_count": null,
   "metadata": {
    "colab": {
     "base_uri": "https://localhost:8080/"
    },
    "id": "zYb2dLxdHy4e",
    "outputId": "6aa1ccde-a6dd-413c-ce52-711e92a03e22"
   },
   "outputs": [
    {
     "data": {
      "text/plain": [
       "False"
      ]
     },
     "execution_count": 7,
     "metadata": {},
     "output_type": "execute_result"
    }
   ],
   "source": [
    "'Hello, world!'.endswith('world')"
   ]
  },
  {
   "cell_type": "code",
   "execution_count": null,
   "metadata": {
    "colab": {
     "base_uri": "https://localhost:8080/",
     "height": 34
    },
    "id": "x7n0kHhYHzyW",
    "outputId": "252bf8e2-1873-43ff-d3b2-7383be7aff90"
   },
   "outputs": [
    {
     "data": {
      "application/vnd.google.colaboratory.intrinsic+json": {
       "type": "string"
      },
      "text/plain": [
       "'Hello world'"
      ]
     },
     "execution_count": 44,
     "metadata": {},
     "output_type": "execute_result"
    }
   ],
   "source": [
    "'    Hello world    '.strip()"
   ]
  },
  {
   "cell_type": "code",
   "execution_count": 20,
   "metadata": {},
   "outputs": [
    {
     "data": {
      "text/plain": [
       "'g'"
      ]
     },
     "execution_count": 20,
     "metadata": {},
     "output_type": "execute_result"
    }
   ],
   "source": [
    "'hahafghahafff'.strip('haf')"
   ]
  },
  {
   "cell_type": "code",
   "execution_count": 24,
   "metadata": {},
   "outputs": [
    {
     "data": {
      "text/plain": [
       "'e'"
      ]
     },
     "execution_count": 24,
     "metadata": {},
     "output_type": "execute_result"
    }
   ],
   "source": [
    "'adcdefg'.strip('gfcda')"
   ]
  },
  {
   "cell_type": "markdown",
   "metadata": {
    "id": "0DjoKt0BGTbR"
   },
   "source": [
    "## Форматирование строк"
   ]
  },
  {
   "cell_type": "markdown",
   "metadata": {
    "id": "ThQAP0HLH3LY"
   },
   "source": [
    "### Классическое форматирование"
   ]
  },
  {
   "cell_type": "markdown",
   "metadata": {
    "id": "LGcoHz5eCmDY"
   },
   "source": [
    "#### Оператор `%`"
   ]
  },
  {
   "cell_type": "markdown",
   "metadata": {
    "id": "M8GfRMfWH5PM"
   },
   "source": [
    "Так же, как и в C, в Python можно форматировать строки:"
   ]
  },
  {
   "cell_type": "markdown",
   "metadata": {
    "id": "Qtsn8LI-DSf0"
   },
   "source": [
    "- `%s` - строка (или объект со строковым представлением, например, числа)"
   ]
  },
  {
   "cell_type": "code",
   "execution_count": null,
   "metadata": {
    "colab": {
     "base_uri": "https://localhost:8080/",
     "height": 34
    },
    "id": "P86_nBpjGTbR",
    "outputId": "bf6b6124-bd96-4d08-8d55-03d630a9cb0f"
   },
   "outputs": [
    {
     "data": {
      "application/vnd.google.colaboratory.intrinsic+json": {
       "type": "string"
      },
      "text/plain": [
       "'Hello, Alice and [1, 2]'"
      ]
     },
     "execution_count": 46,
     "metadata": {},
     "output_type": "execute_result"
    }
   ],
   "source": [
    "name1, name2 = 'Alice', [1, 2]\n",
    "'Hello, %s and %s' % (name1, name2)"
   ]
  },
  {
   "cell_type": "markdown",
   "metadata": {
    "id": "4xihbNR-D5AO"
   },
   "source": [
    "- `%d` - целые числа"
   ]
  },
  {
   "cell_type": "code",
   "execution_count": null,
   "metadata": {
    "colab": {
     "base_uri": "https://localhost:8080/",
     "height": 35
    },
    "id": "DDff0SghHBOo",
    "outputId": "449b5f11-4ec9-410a-978a-798a0c070dbc"
   },
   "outputs": [
    {
     "data": {
      "application/vnd.google.colaboratory.intrinsic+json": {
       "type": "string"
      },
      "text/plain": [
       "'Your score: 99'"
      ]
     },
     "execution_count": 94,
     "metadata": {},
     "output_type": "execute_result"
    }
   ],
   "source": [
    "result = 99.99\n",
    "'Your score: %d' % result"
   ]
  },
  {
   "cell_type": "markdown",
   "metadata": {
    "id": "GVQEgbzmD6ke"
   },
   "source": [
    "- `%f` - числа с плавающей точкой"
   ]
  },
  {
   "cell_type": "code",
   "execution_count": null,
   "metadata": {
    "colab": {
     "base_uri": "https://localhost:8080/",
     "height": 35
    },
    "id": "QN5hWFTCHXja",
    "outputId": "0f1e3a54-f12e-48cc-aed0-a37e88d3d5e6"
   },
   "outputs": [
    {
     "data": {
      "application/vnd.google.colaboratory.intrinsic+json": {
       "type": "string"
      },
      "text/plain": [
       "'Your score: 99.990000'"
      ]
     },
     "execution_count": 95,
     "metadata": {},
     "output_type": "execute_result"
    }
   ],
   "source": [
    "result = 99.99\n",
    "'Your score: %f' % result"
   ]
  },
  {
   "cell_type": "markdown",
   "metadata": {
    "id": "7G5B343lD74m"
   },
   "source": [
    "- `%.<number of digits>f` - числа с плавающей точкой с фиксированным кол-вом чисел после запятой"
   ]
  },
  {
   "cell_type": "code",
   "execution_count": null,
   "metadata": {
    "colab": {
     "base_uri": "https://localhost:8080/",
     "height": 35
    },
    "id": "JNKmvNf4HppG",
    "outputId": "e1399d4b-57d6-4565-f1d1-75a20a94a612"
   },
   "outputs": [
    {
     "data": {
      "application/vnd.google.colaboratory.intrinsic+json": {
       "type": "string"
      },
      "text/plain": [
       "'Your score: 100.0'"
      ]
     },
     "execution_count": 97,
     "metadata": {},
     "output_type": "execute_result"
    }
   ],
   "source": [
    "result = 99.99\n",
    "'Your score: %.1f' % result    # округление до 1 числа после запятой"
   ]
  },
  {
   "cell_type": "markdown",
   "metadata": {
    "id": "ZRHdURwWD9RN"
   },
   "source": [
    "- `%x`/`%X` - целые числа в шестнадцатеричном представлении (lowercase/uppercase)"
   ]
  },
  {
   "cell_type": "code",
   "execution_count": null,
   "metadata": {
    "colab": {
     "base_uri": "https://localhost:8080/",
     "height": 34
    },
    "id": "FoofB023lQKO",
    "outputId": "28dc494e-9b7d-45d1-ce1b-3b8f5f9b9a2d"
   },
   "outputs": [
    {
     "data": {
      "application/vnd.google.colaboratory.intrinsic+json": {
       "type": "string"
      },
      "text/plain": [
       "'Your score: 6e'"
      ]
     },
     "execution_count": 54,
     "metadata": {},
     "output_type": "execute_result"
    }
   ],
   "source": [
    "result = 110\n",
    "'Your score: %x' % result"
   ]
  },
  {
   "cell_type": "markdown",
   "metadata": {
    "id": "jeXauMDwC-AF"
   },
   "source": [
    "#### Метод `format`"
   ]
  },
  {
   "cell_type": "code",
   "execution_count": null,
   "metadata": {
    "colab": {
     "base_uri": "https://localhost:8080/",
     "height": 34
    },
    "id": "xIZEQRhNGTbR",
    "outputId": "de2ec5db-0dc3-4e8c-e844-ed519bb25867"
   },
   "outputs": [
    {
     "data": {
      "application/vnd.google.colaboratory.intrinsic+json": {
       "type": "string"
      },
      "text/plain": [
       "'Hello, Bob'"
      ]
     },
     "execution_count": 55,
     "metadata": {},
     "output_type": "execute_result"
    }
   ],
   "source": [
    "name = 'Bob'\n",
    "'Hello, {}'.format(name)"
   ]
  },
  {
   "cell_type": "markdown",
   "metadata": {
    "id": "qhgSveURGTbR"
   },
   "source": [
    "В функцию `format` можно передавать и несколько аргументов:"
   ]
  },
  {
   "cell_type": "code",
   "execution_count": null,
   "metadata": {
    "colab": {
     "base_uri": "https://localhost:8080/",
     "height": 35
    },
    "id": "J6U5lGBrGTbS",
    "outputId": "be876425-096f-4d45-dee1-ad20ac44ec7a"
   },
   "outputs": [
    {
     "data": {
      "application/vnd.google.colaboratory.intrinsic+json": {
       "type": "string"
      },
      "text/plain": [
       "'Hello, Bob! Hello, Alice!'"
      ]
     },
     "execution_count": 36,
     "metadata": {},
     "output_type": "execute_result"
    }
   ],
   "source": [
    "'Hello, {}! Hello, {}!'.format('Bob','Alice')"
   ]
  },
  {
   "cell_type": "markdown",
   "metadata": {
    "id": "e8Qin4j5GTbS"
   },
   "source": [
    "Для точного указания параметра можно использовать индексы и ключи:"
   ]
  },
  {
   "cell_type": "code",
   "execution_count": null,
   "metadata": {
    "colab": {
     "base_uri": "https://localhost:8080/",
     "height": 34
    },
    "id": "NPgLLIwiGTbS",
    "outputId": "015b9bba-1315-43cc-9d97-b49e11f2b394"
   },
   "outputs": [
    {
     "data": {
      "application/vnd.google.colaboratory.intrinsic+json": {
       "type": "string"
      },
      "text/plain": [
       "'Hello, Alice! Hello, Bob!'"
      ]
     },
     "execution_count": 56,
     "metadata": {},
     "output_type": "execute_result"
    }
   ],
   "source": [
    "'Hello, {1}! Hello, {0}!'.format('Bob','Alice')"
   ]
  },
  {
   "cell_type": "markdown",
   "metadata": {
    "id": "zMEPJSczGTbS"
   },
   "source": [
    "Кроме строк можно подставлять и другие типы данных:"
   ]
  },
  {
   "cell_type": "code",
   "execution_count": null,
   "metadata": {
    "colab": {
     "base_uri": "https://localhost:8080/",
     "height": 34
    },
    "id": "eX01Z6cWIGdD",
    "outputId": "82f44345-e555-4bff-fd58-676684e2ef78"
   },
   "outputs": [
    {
     "data": {
      "application/vnd.google.colaboratory.intrinsic+json": {
       "type": "string"
      },
      "text/plain": [
       "'Coordinates: 37.24, -115.81'"
      ]
     },
     "execution_count": 59,
     "metadata": {},
     "output_type": "execute_result"
    }
   ],
   "source": [
    "'Coordinates: {latitude}, {longitude}'.format(latitude=37.24, longitude=-115.81)"
   ]
  },
  {
   "cell_type": "markdown",
   "metadata": {
    "id": "lj6dsDcEKxaG"
   },
   "source": [
    "Можно использовать те же флаги, что и с оператором `%`:"
   ]
  },
  {
   "cell_type": "code",
   "execution_count": null,
   "metadata": {
    "colab": {
     "base_uri": "https://localhost:8080/",
     "height": 34
    },
    "id": "DrufbtRtLNoC",
    "outputId": "7fc70b03-7270-4486-d5b5-77e9da559129"
   },
   "outputs": [
    {
     "data": {
      "application/vnd.google.colaboratory.intrinsic+json": {
       "type": "string"
      },
      "text/plain": [
       "'Your score: 99.90'"
      ]
     },
     "execution_count": 63,
     "metadata": {},
     "output_type": "execute_result"
    }
   ],
   "source": [
    "result = 99.9\n",
    "'Your score: {:.2f}'.format(result)"
   ]
  },
  {
   "cell_type": "markdown",
   "metadata": {
    "id": "lY0huDq-GTbS"
   },
   "source": [
    "### f-строки"
   ]
  },
  {
   "cell_type": "markdown",
   "metadata": {
    "id": "C9b73xI2IL42"
   },
   "source": [
    "**f-строки** - более новый и удобный способ форматирования строк, добавлен в Python 3.6:"
   ]
  },
  {
   "cell_type": "code",
   "execution_count": null,
   "metadata": {
    "colab": {
     "base_uri": "https://localhost:8080/",
     "height": 35
    },
    "id": "ezmRFCKDGTbS",
    "outputId": "ef0478a0-b4fb-48a0-b6ab-26f0715ad337"
   },
   "outputs": [
    {
     "data": {
      "application/vnd.google.colaboratory.intrinsic+json": {
       "type": "string"
      },
      "text/plain": [
       "'В 2024-м году состоится 8-й сезон курса Python 3'"
      ]
     },
     "execution_count": 8,
     "metadata": {},
     "output_type": "execute_result"
    }
   ],
   "source": [
    "year = 2024\n",
    "season = 8\n",
    "f'В {year}-м году состоится {season}-й сезон курса Python 3'  # Обратите внимание на символ f перед строкой"
   ]
  },
  {
   "cell_type": "markdown",
   "metadata": {
    "id": "RGcgcktSGTbT"
   },
   "source": [
    "f-строки поддерживают форматирование чисел:"
   ]
  },
  {
   "cell_type": "code",
   "execution_count": null,
   "metadata": {
    "colab": {
     "base_uri": "https://localhost:8080/",
     "height": 35
    },
    "id": "0ERUtMMVGTbT",
    "outputId": "29656be2-4504-410e-8387-5af2fe019197"
   },
   "outputs": [
    {
     "data": {
      "application/vnd.google.colaboratory.intrinsic+json": {
       "type": "string"
      },
      "text/plain": [
       "'В 2024-м году состоится 8.00-й сезон курса Python 3'"
      ]
     },
     "execution_count": 9,
     "metadata": {},
     "output_type": "execute_result"
    }
   ],
   "source": [
    "year = 2024\n",
    "season = 8\n",
    "\n",
    "# .2f - вещественное число с двумя знаками после запятой\n",
    "f'В {year}-м году состоится {season:.2f}-й сезон курса Python 3'"
   ]
  },
  {
   "cell_type": "markdown",
   "metadata": {
    "id": "Ot3YG90OGTbT"
   },
   "source": [
    "Внутри f-строк можно выполнять различные операции:"
   ]
  },
  {
   "cell_type": "code",
   "execution_count": null,
   "metadata": {
    "colab": {
     "base_uri": "https://localhost:8080/",
     "height": 35
    },
    "id": "omJoT9BkGTbT",
    "outputId": "1402d8b0-6de5-4080-e29e-becb14b01b44"
   },
   "outputs": [
    {
     "data": {
      "application/vnd.google.colaboratory.intrinsic+json": {
       "type": "string"
      },
      "text/plain": [
       "'В 2024-м году состоится 8-й сезон курса Python 3'"
      ]
     },
     "execution_count": 10,
     "metadata": {},
     "output_type": "execute_result"
    }
   ],
   "source": [
    "year = 2024\n",
    "\n",
    "f'В {year}-м году состоится {year-2017+1}-й сезон курса Python 3'"
   ]
  },
  {
   "cell_type": "markdown",
   "metadata": {
    "id": "B8Mvov97GTbT"
   },
   "source": [
    "Можно обращаться к элементам списков по индексу:"
   ]
  },
  {
   "cell_type": "code",
   "execution_count": null,
   "metadata": {
    "colab": {
     "base_uri": "https://localhost:8080/",
     "height": 35
    },
    "id": "75iktgkgGTbT",
    "outputId": "6882caff-8e6c-418e-93fc-d5fd398c9a50"
   },
   "outputs": [
    {
     "data": {
      "application/vnd.google.colaboratory.intrinsic+json": {
       "type": "string"
      },
      "text/plain": [
       "'В 2024-м году состоится 8-й сезон курса Python 3'"
      ]
     },
     "execution_count": 11,
     "metadata": {},
     "output_type": "execute_result"
    }
   ],
   "source": [
    "years = [2016, 2017, 2018, 2019, 2020, 2021, 2022, 2023, 2024]\n",
    "season = 8\n",
    "\n",
    "f'В {years[season]}-м году состоится {season}-й сезон курса Python 3'"
   ]
  },
  {
   "cell_type": "markdown",
   "metadata": {
    "id": "wYB_la7ZGTbT"
   },
   "source": [
    "И даже использовать функции и методы:"
   ]
  },
  {
   "cell_type": "code",
   "execution_count": null,
   "metadata": {
    "colab": {
     "base_uri": "https://localhost:8080/",
     "height": 35
    },
    "id": "OSXbawm6GTbU",
    "outputId": "246271bc-28f2-4cb7-ecb0-2603b24185da"
   },
   "outputs": [
    {
     "data": {
      "application/vnd.google.colaboratory.intrinsic+json": {
       "type": "string"
      },
      "text/plain": [
       "'В 2024-м году состоится 8-й сезон PYTHON 3'"
      ]
     },
     "execution_count": 12,
     "metadata": {},
     "output_type": "execute_result"
    }
   ],
   "source": [
    "year = 2024\n",
    "season = 8\n",
    "name = 'Python 3'\n",
    "\n",
    "f'В {year}-м году состоится {season}-й сезон {name.upper()}'"
   ]
  },
  {
   "cell_type": "markdown",
   "metadata": {
    "id": "lnYOaMzIhhWV"
   },
   "source": [
    "#### Как вывести фигурные скобки?"
   ]
  },
  {
   "cell_type": "markdown",
   "metadata": {
    "id": "nxBO_sIThpHg"
   },
   "source": [
    "Ок, значит для подстановки переменных и выражений в f-строках мы используем фигурные скобки. Но как тогда мы можем просто отрисовать фигурную скобку в f-строках? Просто продублируем их!"
   ]
  },
  {
   "cell_type": "code",
   "execution_count": null,
   "metadata": {
    "colab": {
     "base_uri": "https://localhost:8080/",
     "height": 35
    },
    "id": "7DWgjk-NrPeL",
    "outputId": "6b7a2188-09a0-4607-b236-ebd0adb658b8"
   },
   "outputs": [
    {
     "data": {
      "application/vnd.google.colaboratory.intrinsic+json": {
       "type": "string"
      },
      "text/plain": [
       "'{70 + 4}'"
      ]
     },
     "execution_count": 103,
     "metadata": {},
     "output_type": "execute_result"
    }
   ],
   "source": [
    "f\"{{70 + 4}}\""
   ]
  },
  {
   "cell_type": "markdown",
   "metadata": {
    "id": "r73mLUzirRvc"
   },
   "source": [
    "Если используем тройные фигурные скобки:\n",
    "\n"
   ]
  },
  {
   "cell_type": "code",
   "execution_count": null,
   "metadata": {
    "colab": {
     "base_uri": "https://localhost:8080/",
     "height": 35
    },
    "id": "gxGZdPwHrUCk",
    "outputId": "d6cdabc9-e722-4673-ae60-b77bd9bcdefb"
   },
   "outputs": [
    {
     "data": {
      "application/vnd.google.colaboratory.intrinsic+json": {
       "type": "string"
      },
      "text/plain": [
       "'{74}'"
      ]
     },
     "execution_count": 13,
     "metadata": {},
     "output_type": "execute_result"
    }
   ],
   "source": [
    "f\"{{{70 + 4}}}\""
   ]
  },
  {
   "cell_type": "markdown",
   "metadata": {
    "id": "kWeo5d9adryl"
   },
   "source": [
    "#### `f\"{var=}\"`"
   ]
  },
  {
   "cell_type": "markdown",
   "metadata": {
    "id": "mZ9FCJ_khgAz"
   },
   "source": [
    "Еще одна удобна фича f-строк - вывод имени выводимой переменной:"
   ]
  },
  {
   "cell_type": "code",
   "execution_count": null,
   "metadata": {
    "colab": {
     "base_uri": "https://localhost:8080/",
     "height": 35
    },
    "id": "F3tQDMhvsysh",
    "outputId": "fa3b1f6b-90d3-447b-dbe1-163689bd29d4"
   },
   "outputs": [
    {
     "data": {
      "application/vnd.google.colaboratory.intrinsic+json": {
       "type": "string"
      },
      "text/plain": [
       "'debug_var=42'"
      ]
     },
     "execution_count": 104,
     "metadata": {},
     "output_type": "execute_result"
    }
   ],
   "source": [
    "debug_var = 42\n",
    "f\"{debug_var=}\""
   ]
  },
  {
   "cell_type": "markdown",
   "metadata": {
    "id": "LI6-iit4s6BL"
   },
   "source": [
    "Помогает при отладке приложения с помощью `print` и f-строк."
   ]
  },
  {
   "cell_type": "code",
   "execution_count": null,
   "metadata": {},
   "outputs": [],
   "source": []
  },
  {
   "cell_type": "code",
   "execution_count": null,
   "metadata": {},
   "outputs": [],
   "source": []
  },
  {
   "cell_type": "code",
   "execution_count": null,
   "metadata": {},
   "outputs": [],
   "source": []
  },
  {
   "cell_type": "code",
   "execution_count": null,
   "metadata": {},
   "outputs": [],
   "source": []
  },
  {
   "cell_type": "markdown",
   "metadata": {
    "id": "whLPGgAoGTbU"
   },
   "source": [
    "## Модуль `string`"
   ]
  },
  {
   "cell_type": "markdown",
   "metadata": {
    "id": "oGD7SnVUIdBg"
   },
   "source": [
    "В Python есть специальный модуль для облегчения работы со строками:"
   ]
  },
  {
   "cell_type": "code",
   "execution_count": null,
   "metadata": {
    "colab": {
     "base_uri": "https://localhost:8080/",
     "height": 34
    },
    "id": "YU0dKTHCGTbU",
    "outputId": "b9f51efa-f860-4893-b585-1b8100c548cc"
   },
   "outputs": [
    {
     "data": {
      "application/vnd.google.colaboratory.intrinsic+json": {
       "type": "string"
      },
      "text/plain": [
       "'abcdefghijklmnopqrstuvwxyzABCDEFGHIJKLMNOPQRSTUVWXYZ'"
      ]
     },
     "execution_count": 68,
     "metadata": {},
     "output_type": "execute_result"
    }
   ],
   "source": [
    "import string\n",
    "\n",
    "string.ascii_letters"
   ]
  },
  {
   "cell_type": "code",
   "execution_count": null,
   "metadata": {
    "colab": {
     "base_uri": "https://localhost:8080/",
     "height": 35
    },
    "id": "N_Vd3hYHIquP",
    "outputId": "c6d04d7c-e450-4a2d-d9fb-3cfdcaff77c9"
   },
   "outputs": [
    {
     "data": {
      "application/vnd.google.colaboratory.intrinsic+json": {
       "type": "string"
      },
      "text/plain": [
       "'abcdefghijklmnopqrstuvwxyz'"
      ]
     },
     "execution_count": 43,
     "metadata": {},
     "output_type": "execute_result"
    }
   ],
   "source": [
    "string.ascii_lowercase"
   ]
  },
  {
   "cell_type": "code",
   "execution_count": null,
   "metadata": {
    "colab": {
     "base_uri": "https://localhost:8080/",
     "height": 35
    },
    "id": "1OzvqcK9Irp4",
    "outputId": "b5dde983-a74e-45cb-e6ab-d451eb0a0012"
   },
   "outputs": [
    {
     "data": {
      "application/vnd.google.colaboratory.intrinsic+json": {
       "type": "string"
      },
      "text/plain": [
       "'0123456789'"
      ]
     },
     "execution_count": 44,
     "metadata": {},
     "output_type": "execute_result"
    }
   ],
   "source": [
    "string.digits"
   ]
  },
  {
   "cell_type": "code",
   "execution_count": null,
   "metadata": {
    "colab": {
     "base_uri": "https://localhost:8080/",
     "height": 35
    },
    "id": "Km-_GJhMIscb",
    "outputId": "8217b123-e4ac-4e97-bab2-a955b93ea0bc"
   },
   "outputs": [
    {
     "data": {
      "application/vnd.google.colaboratory.intrinsic+json": {
       "type": "string"
      },
      "text/plain": [
       "' \\t\\n\\r\\x0b\\x0c'"
      ]
     },
     "execution_count": 45,
     "metadata": {},
     "output_type": "execute_result"
    }
   ],
   "source": [
    "string.whitespace"
   ]
  },
  {
   "cell_type": "markdown",
   "metadata": {
    "id": "0eC3nCYYXy75"
   },
   "source": [
    "### `Template`"
   ]
  },
  {
   "cell_type": "markdown",
   "metadata": {
    "id": "NlrSKA0tGTbU"
   },
   "source": [
    "Также модуль позволяет создавать шаблоны c помощью `Template` и метода `substitute`:"
   ]
  },
  {
   "cell_type": "code",
   "execution_count": null,
   "metadata": {
    "colab": {
     "base_uri": "https://localhost:8080/",
     "height": 35
    },
    "id": "v1ruy3T8GTbU",
    "outputId": "9e84492d-2e65-4505-90de-f45908fec70f"
   },
   "outputs": [
    {
     "data": {
      "application/vnd.google.colaboratory.intrinsic+json": {
       "type": "string"
      },
      "text/plain": [
       "'tim likes kung pao'"
      ]
     },
     "execution_count": 46,
     "metadata": {},
     "output_type": "execute_result"
    }
   ],
   "source": [
    "from string import Template\n",
    "\n",
    "s = Template('$who likes $what')\n",
    "s.substitute(who='tim', what='kung pao')"
   ]
  },
  {
   "cell_type": "markdown",
   "metadata": {
    "id": "rBRNirAyGTbU"
   },
   "source": [
    "Если в словаре отсутствует один из ключей, то вылезет ошибка."
   ]
  },
  {
   "cell_type": "code",
   "execution_count": null,
   "metadata": {
    "colab": {
     "base_uri": "https://localhost:8080/",
     "height": 330
    },
    "collapsed": true,
    "id": "DK436h8UGTbU",
    "jupyter": {
     "outputs_hidden": true
    },
    "outputId": "eb7fbafd-3186-426f-85f4-b994ae63bec9"
   },
   "outputs": [
    {
     "ename": "KeyError",
     "evalue": "ignored",
     "output_type": "error",
     "traceback": [
      "\u001b[0;31m---------------------------------------------------------------------------\u001b[0m",
      "\u001b[0;31mKeyError\u001b[0m                                  Traceback (most recent call last)",
      "\u001b[0;32m<ipython-input-47-2e7b7ec59cdd>\u001b[0m in \u001b[0;36m<module>\u001b[0;34m\u001b[0m\n\u001b[1;32m      1\u001b[0m \u001b[0md\u001b[0m \u001b[0;34m=\u001b[0m \u001b[0mdict\u001b[0m\u001b[0;34m(\u001b[0m\u001b[0mwho\u001b[0m\u001b[0;34m=\u001b[0m\u001b[0;34m'tim'\u001b[0m\u001b[0;34m)\u001b[0m\u001b[0;34m\u001b[0m\u001b[0;34m\u001b[0m\u001b[0m\n\u001b[0;32m----> 2\u001b[0;31m \u001b[0mTemplate\u001b[0m\u001b[0;34m(\u001b[0m\u001b[0;34m'$who likes $what'\u001b[0m\u001b[0;34m)\u001b[0m\u001b[0;34m.\u001b[0m\u001b[0msubstitute\u001b[0m\u001b[0;34m(\u001b[0m\u001b[0md\u001b[0m\u001b[0;34m)\u001b[0m\u001b[0;34m\u001b[0m\u001b[0;34m\u001b[0m\u001b[0m\n\u001b[0m",
      "\u001b[0;32m/usr/lib/python3.7/string.py\u001b[0m in \u001b[0;36msubstitute\u001b[0;34m(*args, **kws)\u001b[0m\n\u001b[1;32m    130\u001b[0m             raise ValueError('Unrecognized named group in pattern',\n\u001b[1;32m    131\u001b[0m                              self.pattern)\n\u001b[0;32m--> 132\u001b[0;31m         \u001b[0;32mreturn\u001b[0m \u001b[0mself\u001b[0m\u001b[0;34m.\u001b[0m\u001b[0mpattern\u001b[0m\u001b[0;34m.\u001b[0m\u001b[0msub\u001b[0m\u001b[0;34m(\u001b[0m\u001b[0mconvert\u001b[0m\u001b[0;34m,\u001b[0m \u001b[0mself\u001b[0m\u001b[0;34m.\u001b[0m\u001b[0mtemplate\u001b[0m\u001b[0;34m)\u001b[0m\u001b[0;34m\u001b[0m\u001b[0;34m\u001b[0m\u001b[0m\n\u001b[0m\u001b[1;32m    133\u001b[0m \u001b[0;34m\u001b[0m\u001b[0m\n\u001b[1;32m    134\u001b[0m     \u001b[0;32mdef\u001b[0m \u001b[0msafe_substitute\u001b[0m\u001b[0;34m(\u001b[0m\u001b[0;34m*\u001b[0m\u001b[0margs\u001b[0m\u001b[0;34m,\u001b[0m \u001b[0;34m**\u001b[0m\u001b[0mkws\u001b[0m\u001b[0;34m)\u001b[0m\u001b[0;34m:\u001b[0m\u001b[0;34m\u001b[0m\u001b[0;34m\u001b[0m\u001b[0m\n",
      "\u001b[0;32m/usr/lib/python3.7/string.py\u001b[0m in \u001b[0;36mconvert\u001b[0;34m(mo)\u001b[0m\n\u001b[1;32m    123\u001b[0m             \u001b[0mnamed\u001b[0m \u001b[0;34m=\u001b[0m \u001b[0mmo\u001b[0m\u001b[0;34m.\u001b[0m\u001b[0mgroup\u001b[0m\u001b[0;34m(\u001b[0m\u001b[0;34m'named'\u001b[0m\u001b[0;34m)\u001b[0m \u001b[0;32mor\u001b[0m \u001b[0mmo\u001b[0m\u001b[0;34m.\u001b[0m\u001b[0mgroup\u001b[0m\u001b[0;34m(\u001b[0m\u001b[0;34m'braced'\u001b[0m\u001b[0;34m)\u001b[0m\u001b[0;34m\u001b[0m\u001b[0;34m\u001b[0m\u001b[0m\n\u001b[1;32m    124\u001b[0m             \u001b[0;32mif\u001b[0m \u001b[0mnamed\u001b[0m \u001b[0;32mis\u001b[0m \u001b[0;32mnot\u001b[0m \u001b[0;32mNone\u001b[0m\u001b[0;34m:\u001b[0m\u001b[0;34m\u001b[0m\u001b[0;34m\u001b[0m\u001b[0m\n\u001b[0;32m--> 125\u001b[0;31m                 \u001b[0;32mreturn\u001b[0m \u001b[0mstr\u001b[0m\u001b[0;34m(\u001b[0m\u001b[0mmapping\u001b[0m\u001b[0;34m[\u001b[0m\u001b[0mnamed\u001b[0m\u001b[0;34m]\u001b[0m\u001b[0;34m)\u001b[0m\u001b[0;34m\u001b[0m\u001b[0;34m\u001b[0m\u001b[0m\n\u001b[0m\u001b[1;32m    126\u001b[0m             \u001b[0;32mif\u001b[0m \u001b[0mmo\u001b[0m\u001b[0;34m.\u001b[0m\u001b[0mgroup\u001b[0m\u001b[0;34m(\u001b[0m\u001b[0;34m'escaped'\u001b[0m\u001b[0;34m)\u001b[0m \u001b[0;32mis\u001b[0m \u001b[0;32mnot\u001b[0m \u001b[0;32mNone\u001b[0m\u001b[0;34m:\u001b[0m\u001b[0;34m\u001b[0m\u001b[0;34m\u001b[0m\u001b[0m\n\u001b[1;32m    127\u001b[0m                 \u001b[0;32mreturn\u001b[0m \u001b[0mself\u001b[0m\u001b[0;34m.\u001b[0m\u001b[0mdelimiter\u001b[0m\u001b[0;34m\u001b[0m\u001b[0;34m\u001b[0m\u001b[0m\n",
      "\u001b[0;31mKeyError\u001b[0m: 'what'"
     ]
    }
   ],
   "source": [
    "d = dict(who='tim')\n",
    "Template('$who likes $what').substitute(d)"
   ]
  },
  {
   "cell_type": "code",
   "execution_count": null,
   "metadata": {
    "colab": {
     "base_uri": "https://localhost:8080/",
     "height": 35
    },
    "id": "_7EM3kE6GTbV",
    "outputId": "eaa501a2-ee5c-445e-eeca-5c5166e6abf5"
   },
   "outputs": [
    {
     "data": {
      "application/vnd.google.colaboratory.intrinsic+json": {
       "type": "string"
      },
      "text/plain": [
       "'tim likes $what'"
      ]
     },
     "execution_count": 48,
     "metadata": {},
     "output_type": "execute_result"
    }
   ],
   "source": [
    "# метод safe_substitute позволяет избежать ошибки отсутствия ключа\n",
    "\n",
    "Template('$who likes $what').safe_substitute(d)"
   ]
  },
  {
   "cell_type": "markdown",
   "metadata": {
    "id": "eBkbGU9nGTbV"
   },
   "source": [
    "# Кодировки"
   ]
  },
  {
   "cell_type": "markdown",
   "metadata": {
    "id": "fGGpYYIlI6w0"
   },
   "source": [
    "**Определения:**\n",
    "- **Символ** (韩) - абстракция\n",
    "- **Charset** - набор \"допустимых\" символов\n",
    "- **Кодировка** - правила, как записывать символы в компьютере\n",
    "\n",
    "Операции перевода символьного представления в байтовое и обратно - **кодирование** и **декодирование**."
   ]
  },
  {
   "cell_type": "markdown",
   "metadata": {
    "id": "FCw1hKHEJMBt"
   },
   "source": [
    "Кодировки:\n",
    "- **ASCII** - кодировка для 128 символов. Каждый символ занимает 7 бит.\n",
    "- **КОИ-8** - кодировка для 256 символов (расширение ASCII для русского языка). Символ занимает 8 бит.\n",
    "- **Unicode** - стандарт, включающий в себя несколько кодировок:\n",
    "    - UTF-8 - от 1 до 4 байт\n",
    "    - UTF-16 - 2 или 4 байта\n",
    "    - UTF-32 - 4 байта\n",
    "\n",
    "В Unicode уникальный идентификатор символа (например, r, Я или 韩) != байтовое представление."
   ]
  },
  {
   "cell_type": "markdown",
   "metadata": {
    "id": "sv_W14noJSpZ"
   },
   "source": [
    "В Python для всего этого есть `string` - для последовательности символов, и `bytes` - для последовательности байтов."
   ]
  },
  {
   "cell_type": "markdown",
   "metadata": {
    "id": "tPj3tYSfGTbV"
   },
   "source": [
    "Можно переходить между символом Unicode (напр., \"U+1D11E\") и его целочисленным идентификатором с помощью функций `ord` и `chr`:"
   ]
  },
  {
   "cell_type": "code",
   "execution_count": null,
   "metadata": {
    "colab": {
     "base_uri": "https://localhost:8080/"
    },
    "id": "h9oIhJsjGTbV",
    "outputId": "2080d95a-db43-4c35-cf8f-765a9681eec2"
   },
   "outputs": [
    {
     "name": "stdout",
     "output_type": "stream",
     "text": [
      "119070\n",
      "119070\n",
      "𝄞\n"
     ]
    }
   ],
   "source": [
    "a = ord('𝄞')\n",
    "b = ord('\\U0001D11E')\n",
    "c = chr(ord('\\U0001D11E'))\n",
    "\n",
    "print(a, b, c, sep='\\n')"
   ]
  },
  {
   "cell_type": "markdown",
   "metadata": {
    "id": "7XtRmOG0GTbV"
   },
   "source": [
    "Рассмотрим еще пример:"
   ]
  },
  {
   "cell_type": "code",
   "execution_count": null,
   "metadata": {
    "colab": {
     "base_uri": "https://localhost:8080/"
    },
    "id": "v9UuaRsbGTbV",
    "outputId": "1459fcc0-b505-4cb4-e974-f9933a9f2ba9"
   },
   "outputs": [
    {
     "data": {
      "text/plain": [
       "4"
      ]
     },
     "execution_count": 108,
     "metadata": {},
     "output_type": "execute_result"
    }
   ],
   "source": [
    "s = 'café'\n",
    "len(s)"
   ]
  },
  {
   "cell_type": "code",
   "execution_count": null,
   "metadata": {
    "colab": {
     "base_uri": "https://localhost:8080/"
    },
    "id": "yJYkgN8vJnMO",
    "outputId": "6fc5edcf-f853-4e37-f93f-ddf5530ce0de"
   },
   "outputs": [
    {
     "name": "stdout",
     "output_type": "stream",
     "text": [
      "b'caf\\xc3\\xa9'\n",
      "5\n",
      "<class 'bytes'>\n"
     ]
    }
   ],
   "source": [
    "b = s.encode('utf8')                 # binary representation\n",
    "print(b, len(b), type(b), sep='\\n')"
   ]
  },
  {
   "cell_type": "markdown",
   "metadata": {
    "id": "2ZI-Dv1NGTbV"
   },
   "source": [
    "Длина символьного представления - 4, а байтового - 5. В чем дело?\n",
    "\n",
    "Посмотрим на то, как выглядит каждый байт в отдельности:"
   ]
  },
  {
   "cell_type": "code",
   "execution_count": null,
   "metadata": {
    "colab": {
     "base_uri": "https://localhost:8080/"
    },
    "id": "LPVjFBF1GTbW",
    "outputId": "500ecc94-4552-4e62-a246-34924362fd32"
   },
   "outputs": [
    {
     "name": "stdout",
     "output_type": "stream",
     "text": [
      "b'caf\\xc3\\xa9'\n",
      "0x63 99 c\n",
      "0x61 97 a\n",
      "0x66 102 f\n",
      "0xc3 195 Ã\n",
      "0xa9 169 ©\n"
     ]
    }
   ],
   "source": [
    "print(b)\n",
    "for byte in b:\n",
    "    print(hex(byte), byte, chr(byte))"
   ]
  },
  {
   "cell_type": "markdown",
   "metadata": {
    "id": "1k_-UZvoGTbW"
   },
   "source": [
    "Какие кодировки можем использовать? Разные:"
   ]
  },
  {
   "cell_type": "code",
   "execution_count": null,
   "metadata": {
    "colab": {
     "base_uri": "https://localhost:8080/"
    },
    "id": "cYgAsv0OGTbW",
    "outputId": "cd2fc31c-77ff-4ce9-94c5-1049b0a4fead"
   },
   "outputs": [
    {
     "name": "stdout",
     "output_type": "stream",
     "text": [
      "latin_1\t\tEl Niño\t\tb'El Ni\\xf1o'\n",
      "utf_8\t\tEl Niño\t\tb'El Ni\\xc3\\xb1o'\n",
      "utf_16\t\tEl Niño\t\tb'\\xff\\xfeE\\x00l\\x00 \\x00N\\x00i\\x00\\xf1\\x00o\\x00'\n",
      "cp437\t\tEl Niño\t\tb'El Ni\\xa4o'\n"
     ]
    }
   ],
   "source": [
    "string = 'El Niño'\n",
    "\n",
    "for codec in ['latin_1', 'utf_8', 'utf_16', 'cp437']:\n",
    "    encoded = string.encode(codec)\n",
    "    print(codec, encoded.decode(codec), encoded, sep='\\t\\t')"
   ]
  },
  {
   "cell_type": "markdown",
   "metadata": {
    "id": "kSxxuAjMGTbW"
   },
   "source": [
    "Не все кодировки работают для всех строк:"
   ]
  },
  {
   "cell_type": "code",
   "execution_count": null,
   "metadata": {
    "colab": {
     "base_uri": "https://localhost:8080/"
    },
    "id": "nQTvUjIQGTbW",
    "outputId": "a0908b5c-38b7-47b0-ae3a-2f3080c268c1"
   },
   "outputs": [
    {
     "data": {
      "text/plain": [
       "b'S\\xe3o Paulo'"
      ]
     },
     "execution_count": 110,
     "metadata": {},
     "output_type": "execute_result"
    }
   ],
   "source": [
    "city = 'São Paulo'\n",
    "city.encode('iso8859_1')"
   ]
  },
  {
   "cell_type": "code",
   "execution_count": null,
   "metadata": {
    "colab": {
     "base_uri": "https://localhost:8080/",
     "height": 258
    },
    "collapsed": true,
    "id": "Xm3XyEzmJ8-T",
    "jupyter": {
     "outputs_hidden": true
    },
    "outputId": "63e6b9c9-e178-4429-fa66-4b69a95b811e"
   },
   "outputs": [
    {
     "ename": "UnicodeEncodeError",
     "evalue": "'charmap' codec can't encode character '\\xe3' in position 1: character maps to <undefined>",
     "output_type": "error",
     "traceback": [
      "\u001b[0;31m---------------------------------------------------------------------------\u001b[0m",
      "\u001b[0;31mUnicodeEncodeError\u001b[0m                        Traceback (most recent call last)",
      "\u001b[0;32m<ipython-input-111-064a572fd5b6>\u001b[0m in \u001b[0;36m<cell line: 1>\u001b[0;34m()\u001b[0m\n\u001b[0;32m----> 1\u001b[0;31m \u001b[0mcity\u001b[0m\u001b[0;34m.\u001b[0m\u001b[0mencode\u001b[0m\u001b[0;34m(\u001b[0m\u001b[0;34m'cp437'\u001b[0m\u001b[0;34m)\u001b[0m\u001b[0;34m\u001b[0m\u001b[0;34m\u001b[0m\u001b[0m\n\u001b[0m",
      "\u001b[0;32m/usr/lib/python3.10/encodings/cp437.py\u001b[0m in \u001b[0;36mencode\u001b[0;34m(self, input, errors)\u001b[0m\n\u001b[1;32m     10\u001b[0m \u001b[0;34m\u001b[0m\u001b[0m\n\u001b[1;32m     11\u001b[0m     \u001b[0;32mdef\u001b[0m \u001b[0mencode\u001b[0m\u001b[0;34m(\u001b[0m\u001b[0mself\u001b[0m\u001b[0;34m,\u001b[0m\u001b[0minput\u001b[0m\u001b[0;34m,\u001b[0m\u001b[0merrors\u001b[0m\u001b[0;34m=\u001b[0m\u001b[0;34m'strict'\u001b[0m\u001b[0;34m)\u001b[0m\u001b[0;34m:\u001b[0m\u001b[0;34m\u001b[0m\u001b[0;34m\u001b[0m\u001b[0m\n\u001b[0;32m---> 12\u001b[0;31m         \u001b[0;32mreturn\u001b[0m \u001b[0mcodecs\u001b[0m\u001b[0;34m.\u001b[0m\u001b[0mcharmap_encode\u001b[0m\u001b[0;34m(\u001b[0m\u001b[0minput\u001b[0m\u001b[0;34m,\u001b[0m\u001b[0merrors\u001b[0m\u001b[0;34m,\u001b[0m\u001b[0mencoding_map\u001b[0m\u001b[0;34m)\u001b[0m\u001b[0;34m\u001b[0m\u001b[0;34m\u001b[0m\u001b[0m\n\u001b[0m\u001b[1;32m     13\u001b[0m \u001b[0;34m\u001b[0m\u001b[0m\n\u001b[1;32m     14\u001b[0m     \u001b[0;32mdef\u001b[0m \u001b[0mdecode\u001b[0m\u001b[0;34m(\u001b[0m\u001b[0mself\u001b[0m\u001b[0;34m,\u001b[0m\u001b[0minput\u001b[0m\u001b[0;34m,\u001b[0m\u001b[0merrors\u001b[0m\u001b[0;34m=\u001b[0m\u001b[0;34m'strict'\u001b[0m\u001b[0;34m)\u001b[0m\u001b[0;34m:\u001b[0m\u001b[0;34m\u001b[0m\u001b[0;34m\u001b[0m\u001b[0m\n",
      "\u001b[0;31mUnicodeEncodeError\u001b[0m: 'charmap' codec can't encode character '\\xe3' in position 1: character maps to <undefined>"
     ]
    }
   ],
   "source": [
    "city.encode('cp437')"
   ]
  },
  {
   "cell_type": "markdown",
   "metadata": {
    "id": "j2lTOhUeGTbW"
   },
   "source": [
    "Что делать с такими ошибками? Обрабатывать:"
   ]
  },
  {
   "cell_type": "code",
   "execution_count": null,
   "metadata": {
    "colab": {
     "base_uri": "https://localhost:8080/"
    },
    "id": "UzwATrFSGTbW",
    "outputId": "01b7c525-7bcf-4e6c-839e-c7fef1e2d586"
   },
   "outputs": [
    {
     "data": {
      "text/plain": [
       "b'So Paulo'"
      ]
     },
     "execution_count": 176,
     "metadata": {},
     "output_type": "execute_result"
    }
   ],
   "source": [
    "city.encode('cp437', errors='ignore') # bad"
   ]
  },
  {
   "cell_type": "code",
   "execution_count": null,
   "metadata": {
    "colab": {
     "base_uri": "https://localhost:8080/"
    },
    "id": "6K3NNgnJqQzf",
    "outputId": "e45f9133-e16d-44a4-df77-c3a48ee9b5f1"
   },
   "outputs": [
    {
     "data": {
      "text/plain": [
       "b'S?o Paulo'"
      ]
     },
     "execution_count": 177,
     "metadata": {},
     "output_type": "execute_result"
    }
   ],
   "source": [
    "city.encode('cp437', errors='replace') # better"
   ]
  },
  {
   "cell_type": "code",
   "execution_count": null,
   "metadata": {
    "colab": {
     "base_uri": "https://localhost:8080/"
    },
    "id": "x2XO2Gv2qTr3",
    "outputId": "d3aa4770-ddb5-4bad-9e15-7e816f8fa3d7"
   },
   "outputs": [
    {
     "data": {
      "text/plain": [
       "b'S&#227;o Paulo'"
      ]
     },
     "execution_count": 178,
     "metadata": {},
     "output_type": "execute_result"
    }
   ],
   "source": [
    "city.encode('cp437', errors='xmlcharrefreplace') # still not perfect"
   ]
  },
  {
   "cell_type": "markdown",
   "metadata": {
    "id": "ekE0PrkFPZRm"
   },
   "source": [
    "# Чтение и запись в файл"
   ]
  },
  {
   "cell_type": "markdown",
   "metadata": {
    "id": "PFbcasuXPkKJ"
   },
   "source": [
    "Создадим простой файл:"
   ]
  },
  {
   "cell_type": "code",
   "execution_count": null,
   "metadata": {
    "colab": {
     "base_uri": "https://localhost:8080/"
    },
    "id": "UzTXFi-8PdH_",
    "outputId": "f42463ab-4acd-4ee5-a44c-641feffb4972"
   },
   "outputs": [
    {
     "name": "stdout",
     "output_type": "stream",
     "text": [
      "Overwriting testfile.txt\n"
     ]
    }
   ],
   "source": [
    "%%file testfile.txt\n",
    "Hello, world!\n",
    "This is a test file."
   ]
  },
  {
   "cell_type": "markdown",
   "metadata": {
    "id": "BU8AxwIYPn1u"
   },
   "source": [
    "## Открытие файла"
   ]
  },
  {
   "cell_type": "markdown",
   "metadata": {
    "id": "kNRhMMTkP85K"
   },
   "source": [
    "Для открытия файла используем команду open. Она принимает 2 аргумента - путь до файла и режим (по-умолчанию, 'r'):"
   ]
  },
  {
   "cell_type": "code",
   "execution_count": null,
   "metadata": {
    "colab": {
     "base_uri": "https://localhost:8080/"
    },
    "id": "FxWVGwj4Pqin",
    "outputId": "1b2beab0-97fb-4b53-ee43-28749902b462"
   },
   "outputs": [
    {
     "data": {
      "text/plain": [
       "<_io.TextIOWrapper name='testfile.txt' mode='r' encoding='UTF-8'>"
      ]
     },
     "execution_count": 114,
     "metadata": {},
     "output_type": "execute_result"
    }
   ],
   "source": [
    "f = open('testfile.txt', 'r')\n",
    "f"
   ]
  },
  {
   "cell_type": "markdown",
   "metadata": {
    "id": "VEEk_ZTvQA0X"
   },
   "source": [
    "Существуют следующие режимы открытия файлов:\n",
    "- `r`- чтение файла, курсор в начале файла, выдает ошибку, если файла нет\n",
    "- `r+` - чтение и запись файла, курсор в начале файла, выдает ошибку, если файла нет, при записи не перезатирает файл полностью\n",
    "- `w` - запись файла, курсор в начале файла, перезатирает файл полностью\n",
    "- `w+` - запись и чтение файла, курсор в начале файла, перезатирает файл полностью\n",
    "- `a` - запись файла, курсор в конце файла\n",
    "- `a+` - запись и чтение файла, курсор в конце файла\n",
    "- <font color=\"#ABABAB\">`r+b` - чтение и запись в бинарном формате"
   ]
  },
  {
   "cell_type": "markdown",
   "metadata": {
    "id": "4JRCTIyrQ-p3"
   },
   "source": [
    "### Контекстный менеджер функции `open`"
   ]
  },
  {
   "cell_type": "markdown",
   "metadata": {
    "id": "zmrBNTfeRAAr"
   },
   "source": [
    "После работы с файлом его необходимо закрыть:"
   ]
  },
  {
   "cell_type": "code",
   "execution_count": null,
   "metadata": {
    "colab": {
     "base_uri": "https://localhost:8080/"
    },
    "id": "o1gUdVmaQBNI",
    "outputId": "a0699a1d-5d62-4544-e250-9e7d9c91a37d"
   },
   "outputs": [
    {
     "data": {
      "text/plain": [
       "True"
      ]
     },
     "execution_count": 116,
     "metadata": {},
     "output_type": "execute_result"
    }
   ],
   "source": [
    "f.close()\n",
    "f.closed   # проверка"
   ]
  },
  {
   "cell_type": "markdown",
   "metadata": {
    "id": "ootdH4yaRUQE"
   },
   "source": [
    "Однако, если до вызова метода `close` при исполнении программы встретится ошибка и выполнение программы будет прервано - файл не будет корректно закрыт!\n",
    "\n",
    "Чтобы даже при возникновении ошибки файл закрывался, функцию open можно использовать в виде менеджера контекста.\n",
    "\n",
    "**Менеджер контекста** - конструкция, оборачивающая набор команд, которая позволяет выполнять определенные операции непосредственно перед обернутым набором команд и после (разные наборы команд перед и после), даже если во время исполнения обернутого набора команд возникнет ошибка.\n",
    "\n",
    "```python\n",
    "with <context_manager> as <variable>:\n",
    "    some_code()\n",
    "```"
   ]
  },
  {
   "cell_type": "markdown",
   "metadata": {
    "id": "sGOZ8S6sST-U"
   },
   "source": [
    "При открытии файлов вместо:\n",
    "\n",
    "\n",
    "\n",
    "\n"
   ]
  },
  {
   "cell_type": "code",
   "execution_count": null,
   "metadata": {
    "colab": {
     "base_uri": "https://localhost:8080/"
    },
    "id": "PWdPnlUpSulc",
    "outputId": "004c8b79-9d60-40f8-eee8-d0c994c2c2cf"
   },
   "outputs": [
    {
     "name": "stdout",
     "output_type": "stream",
     "text": [
      "testfile.txt\n"
     ]
    }
   ],
   "source": [
    "f = open('testfile.txt', 'r')\n",
    "print(f.name)\n",
    "# do something else\n",
    "f.close()"
   ]
  },
  {
   "cell_type": "markdown",
   "metadata": {
    "id": "WAJ7jdlKSxMn"
   },
   "source": [
    "\n",
    "рекоммендуется использовать следующее:\n"
   ]
  },
  {
   "cell_type": "code",
   "execution_count": null,
   "metadata": {
    "colab": {
     "base_uri": "https://localhost:8080/"
    },
    "id": "7FiX1VAYRaPl",
    "outputId": "8ed7e43a-f43a-4b27-9bc8-052d89d75e62"
   },
   "outputs": [
    {
     "name": "stdout",
     "output_type": "stream",
     "text": [
      "testfile.txt\n"
     ]
    }
   ],
   "source": [
    "with open('testfile.txt', 'r') as f:\n",
    "    print(f.name)\n",
    "    # do something else"
   ]
  },
  {
   "cell_type": "markdown",
   "metadata": {
    "id": "ZqZi1jJ8S2CE"
   },
   "source": [
    "### Пример:"
   ]
  },
  {
   "cell_type": "code",
   "execution_count": null,
   "metadata": {
    "colab": {
     "base_uri": "https://localhost:8080/",
     "height": 241
    },
    "collapsed": true,
    "id": "H1k9RQDzS4yz",
    "jupyter": {
     "outputs_hidden": true
    },
    "outputId": "3248ef49-c6d3-4fb0-d0a6-e7283d91ff90"
   },
   "outputs": [
    {
     "name": "stdout",
     "output_type": "stream",
     "text": [
      "File opened testfile.txt\n"
     ]
    },
    {
     "ename": "ZeroDivisionError",
     "evalue": "division by zero",
     "output_type": "error",
     "traceback": [
      "\u001b[0;31m---------------------------------------------------------------------------\u001b[0m",
      "\u001b[0;31mZeroDivisionError\u001b[0m                         Traceback (most recent call last)",
      "\u001b[0;32m<ipython-input-119-44d323c35369>\u001b[0m in \u001b[0;36m<cell line: 4>\u001b[0;34m()\u001b[0m\n\u001b[1;32m      2\u001b[0m \u001b[0mprint\u001b[0m\u001b[0;34m(\u001b[0m\u001b[0;34mf\"File opened {f.name}\"\u001b[0m\u001b[0;34m)\u001b[0m\u001b[0;34m\u001b[0m\u001b[0;34m\u001b[0m\u001b[0m\n\u001b[1;32m      3\u001b[0m \u001b[0mline\u001b[0m \u001b[0;34m=\u001b[0m \u001b[0mf\u001b[0m\u001b[0;34m.\u001b[0m\u001b[0mreadline\u001b[0m\u001b[0;34m(\u001b[0m\u001b[0;34m)\u001b[0m\u001b[0;34m\u001b[0m\u001b[0;34m\u001b[0m\u001b[0m\n\u001b[0;32m----> 4\u001b[0;31m \u001b[0mn\u001b[0m \u001b[0;34m=\u001b[0m \u001b[0;36m1\u001b[0m \u001b[0;34m/\u001b[0m \u001b[0;36m0\u001b[0m\u001b[0;34m\u001b[0m\u001b[0;34m\u001b[0m\u001b[0m\n\u001b[0m\u001b[1;32m      5\u001b[0m \u001b[0mf\u001b[0m\u001b[0;34m.\u001b[0m\u001b[0mclose\u001b[0m\u001b[0;34m(\u001b[0m\u001b[0;34m)\u001b[0m\u001b[0;34m\u001b[0m\u001b[0;34m\u001b[0m\u001b[0m\n",
      "\u001b[0;31mZeroDivisionError\u001b[0m: division by zero"
     ]
    }
   ],
   "source": [
    "# пара open-closed\n",
    "\n",
    "f = open('testfile.txt', 'r')\n",
    "print(f\"File opened {f.name}\")\n",
    "line = f.readline()\n",
    "n = 1 / 0\n",
    "f.close()"
   ]
  },
  {
   "cell_type": "code",
   "execution_count": null,
   "metadata": {
    "colab": {
     "base_uri": "https://localhost:8080/"
    },
    "id": "h5XAwKzCS81M",
    "outputId": "24db75bd-cb98-492c-fcb1-1862f381a967"
   },
   "outputs": [
    {
     "data": {
      "text/plain": [
       "False"
      ]
     },
     "execution_count": 120,
     "metadata": {},
     "output_type": "execute_result"
    }
   ],
   "source": [
    "f.closed"
   ]
  },
  {
   "cell_type": "markdown",
   "metadata": {
    "id": "Dc8tfYJtTED6"
   },
   "source": [
    "Произошло исключение, мы завершили выполнение кода ячейки до строчки `close`, и файл не закрылся. Закроем файл."
   ]
  },
  {
   "cell_type": "code",
   "execution_count": null,
   "metadata": {
    "colab": {
     "base_uri": "https://localhost:8080/"
    },
    "id": "bPA5sT8FTGH4",
    "outputId": "71b9d8e4-c08a-45cf-ffaf-3ec9efa5fa0c"
   },
   "outputs": [
    {
     "data": {
      "text/plain": [
       "True"
      ]
     },
     "execution_count": 121,
     "metadata": {},
     "output_type": "execute_result"
    }
   ],
   "source": [
    "f.close()\n",
    "f.closed"
   ]
  },
  {
   "cell_type": "code",
   "execution_count": null,
   "metadata": {
    "colab": {
     "base_uri": "https://localhost:8080/",
     "height": 224
    },
    "collapsed": true,
    "id": "ltv811RwTIc4",
    "jupyter": {
     "outputs_hidden": true
    },
    "outputId": "919edce1-44e3-4c1e-a6e9-1881fb9404af"
   },
   "outputs": [
    {
     "name": "stdout",
     "output_type": "stream",
     "text": [
      "File opened testfile.txt\n"
     ]
    },
    {
     "ename": "ZeroDivisionError",
     "evalue": "division by zero",
     "output_type": "error",
     "traceback": [
      "\u001b[0;31m---------------------------------------------------------------------------\u001b[0m",
      "\u001b[0;31mZeroDivisionError\u001b[0m                         Traceback (most recent call last)",
      "\u001b[0;32m<ipython-input-122-eb3a2596b0ec>\u001b[0m in \u001b[0;36m<cell line: 1>\u001b[0;34m()\u001b[0m\n\u001b[1;32m      2\u001b[0m     \u001b[0mprint\u001b[0m\u001b[0;34m(\u001b[0m\u001b[0;34mf\"File opened {f.name}\"\u001b[0m\u001b[0;34m)\u001b[0m\u001b[0;34m\u001b[0m\u001b[0;34m\u001b[0m\u001b[0m\n\u001b[1;32m      3\u001b[0m     \u001b[0mline\u001b[0m \u001b[0;34m=\u001b[0m \u001b[0mf\u001b[0m\u001b[0;34m.\u001b[0m\u001b[0mreadline\u001b[0m\u001b[0;34m(\u001b[0m\u001b[0;34m)\u001b[0m\u001b[0;34m\u001b[0m\u001b[0;34m\u001b[0m\u001b[0m\n\u001b[0;32m----> 4\u001b[0;31m     \u001b[0mn\u001b[0m \u001b[0;34m=\u001b[0m \u001b[0;36m1\u001b[0m \u001b[0;34m/\u001b[0m \u001b[0;36m0\u001b[0m\u001b[0;34m\u001b[0m\u001b[0;34m\u001b[0m\u001b[0m\n\u001b[0m",
      "\u001b[0;31mZeroDivisionError\u001b[0m: division by zero"
     ]
    }
   ],
   "source": [
    "# контекстный менеджер\n",
    "\n",
    "with open('testfile.txt', 'r') as f:\n",
    "    print(f\"File opened {f.name}\")\n",
    "    line = f.readline()\n",
    "    n = 1 / 0"
   ]
  },
  {
   "cell_type": "code",
   "execution_count": null,
   "metadata": {
    "colab": {
     "base_uri": "https://localhost:8080/"
    },
    "id": "zmF7DJ04TMkt",
    "outputId": "495fa094-7673-4bf6-e180-07a4b5a69f7e"
   },
   "outputs": [
    {
     "data": {
      "text/plain": [
       "True"
      ]
     },
     "execution_count": 123,
     "metadata": {},
     "output_type": "execute_result"
    }
   ],
   "source": [
    "f.closed"
   ]
  },
  {
   "cell_type": "markdown",
   "metadata": {
    "id": "uxR7GY-MT5RT"
   },
   "source": [
    "## Чтение файла"
   ]
  },
  {
   "cell_type": "markdown",
   "metadata": {
    "id": "844PEERgUHFV"
   },
   "source": [
    "### Цикл `for`"
   ]
  },
  {
   "cell_type": "code",
   "execution_count": null,
   "metadata": {
    "colab": {
     "base_uri": "https://localhost:8080/"
    },
    "id": "XW3xe3NiT7j0",
    "outputId": "1bf2b0d5-9444-404a-c9ed-f90743a60d83"
   },
   "outputs": [
    {
     "name": "stdout",
     "output_type": "stream",
     "text": [
      "0 Hello, world!\n",
      "1 This is a test file.\n"
     ]
    }
   ],
   "source": [
    "with open('testfile.txt', 'r') as f:\n",
    "    for i, line in enumerate(f):\n",
    "        print(i, line, end='')"
   ]
  },
  {
   "cell_type": "markdown",
   "metadata": {
    "id": "P0Vt-eHrUO0C"
   },
   "source": [
    "### Метод `readline`"
   ]
  },
  {
   "cell_type": "markdown",
   "metadata": {
    "id": "HTEfq_dAUt0L"
   },
   "source": [
    "Для чтения файла построчно"
   ]
  },
  {
   "cell_type": "code",
   "execution_count": null,
   "metadata": {
    "colab": {
     "base_uri": "https://localhost:8080/"
    },
    "id": "ArE2vogiURGT",
    "outputId": "b9a7af86-8b5d-457d-db2c-5a7ec8cd0168"
   },
   "outputs": [
    {
     "name": "stdout",
     "output_type": "stream",
     "text": [
      "count: 0, 'Hello, world!\\n'\n",
      "count: 1, 'This is a test file.\\n'\n"
     ]
    }
   ],
   "source": [
    "with open('testfile.txt') as f:\n",
    "    count = 0\n",
    "    while True:\n",
    "        s = f.readline()\n",
    "        if s == '':\n",
    "            break\n",
    "        print(f'count: {count}, {s.__repr__()}')\n",
    "        count += 1"
   ]
  },
  {
   "cell_type": "code",
   "execution_count": null,
   "metadata": {
    "colab": {
     "base_uri": "https://localhost:8080/"
    },
    "id": "G31v8SxPUsCl",
    "outputId": "611c1295-7fe7-4e07-a86e-894dba5b1a58"
   },
   "outputs": [
    {
     "name": "stdout",
     "output_type": "stream",
     "text": [
      "Hello, world!\n",
      "This is a test file.\n",
      "\n"
     ]
    }
   ],
   "source": [
    "with open('testfile.txt') as f:\n",
    "    s1 = f.readline()[:-1]\n",
    "    s2 = f.readline()[:-1]\n",
    "    s3 = f.readline()[:-1]\n",
    "\n",
    "print(s1, s2, s3, sep='\\n')"
   ]
  },
  {
   "cell_type": "markdown",
   "metadata": {
    "id": "oQ2vrBCTUTBh"
   },
   "source": [
    "### Метод `readlines`"
   ]
  },
  {
   "cell_type": "code",
   "execution_count": null,
   "metadata": {
    "colab": {
     "base_uri": "https://localhost:8080/"
    },
    "id": "u_9tWsOyUXEx",
    "outputId": "a325d852-9e51-4b93-e71e-2e5bc8b355b9"
   },
   "outputs": [
    {
     "data": {
      "text/plain": [
       "['Hello, world!\\n', 'This is a test file.\\n']"
      ]
     },
     "execution_count": 128,
     "metadata": {},
     "output_type": "execute_result"
    }
   ],
   "source": [
    "# возвращает список строк (его лучше не применять для очень больших файлов).\n",
    "\n",
    "with open('testfile.txt') as f:\n",
    "    lst_of_words = f.readlines()\n",
    "lst_of_words"
   ]
  },
  {
   "cell_type": "markdown",
   "metadata": {
    "id": "Vej1QGkEUZTD"
   },
   "source": [
    "### Метод `read`"
   ]
  },
  {
   "cell_type": "markdown",
   "metadata": {
    "id": "XTzarSGmVNr6"
   },
   "source": [
    "Позволяет считать файл двумя способами:\n",
    "\n",
    "1. Считывание файла целиком"
   ]
  },
  {
   "cell_type": "code",
   "execution_count": null,
   "metadata": {
    "colab": {
     "base_uri": "https://localhost:8080/"
    },
    "id": "qd-jKlK4UbTK",
    "outputId": "ad04085e-de98-40f5-ef9b-462b559ec7e1"
   },
   "outputs": [
    {
     "name": "stdout",
     "output_type": "stream",
     "text": [
      "Hello, world!\n",
      "This is a test file.\n",
      "\n"
     ]
    }
   ],
   "source": [
    "with open('testfile.txt') as f:\n",
    "    content = f.read()  # Не указываем аргумент - читаем файл целиком\n",
    "    print(content)"
   ]
  },
  {
   "cell_type": "markdown",
   "metadata": {
    "id": "GnbxEbK2VUlT"
   },
   "source": [
    "2. Считывание N символов"
   ]
  },
  {
   "cell_type": "code",
   "execution_count": null,
   "metadata": {
    "colab": {
     "base_uri": "https://localhost:8080/"
    },
    "id": "7dlUNkvhVLuH",
    "outputId": "a77a2d53-99f0-4da8-d51d-d67a73b69a13"
   },
   "outputs": [
    {
     "name": "stdout",
     "output_type": "stream",
     "text": [
      "Hello, wor\n"
     ]
    }
   ],
   "source": [
    "with open('testfile.txt') as f:\n",
    "    chars = f.read(10)  # Указываем аргумент 10 - читаем 10 символов\n",
    "    print(chars)"
   ]
  },
  {
   "cell_type": "markdown",
   "metadata": {
    "id": "tZkgeQvdVeGQ"
   },
   "source": [
    ">**Примечание** - читать файл полностью нужно с большой осторожностью!\n",
    ">\n",
    ">Если вы заранее не знаете размер файла или ваша программа даже теоретически может быть запущена для файла крайне большого размера (больше размера вашей оперативной памяти), то ни в коем случае не считывайте файл полностью:\n",
    ">- не используйте метод `readlines`!\n",
    ">- не используйте метод `read` без аргумента\n",
    ">\n",
    ">Иначе заполните всю оперативку вашим текстом и все упадет!\n",
    ">\n",
    ">Безопаснее считывать файл построчно (`readline`) или пакетами символов (указывая аргумент метода `read`)."
   ]
  },
  {
   "cell_type": "markdown",
   "metadata": {
    "id": "Klw5pRytVl8C"
   },
   "source": []
  },
  {
   "cell_type": "code",
   "execution_count": null,
   "metadata": {
    "id": "CHG9D-tTVea-"
   },
   "outputs": [],
   "source": []
  },
  {
   "cell_type": "markdown",
   "metadata": {
    "id": "mtrkIWfJV5hF"
   },
   "source": [
    "## Запись в файл"
   ]
  },
  {
   "cell_type": "markdown",
   "metadata": {
    "id": "afSpYH6uWmvx"
   },
   "source": [
    "Чтобы открыть файл на запись, можно указать в качестве второго аргумента `'w'` и использовать метод `write`:"
   ]
  },
  {
   "cell_type": "code",
   "execution_count": null,
   "metadata": {
    "id": "NJDURtW2V8R1"
   },
   "outputs": [],
   "source": [
    "with open('newtext.txt', 'w') as f:\n",
    "    f.write('aaa\\n')\n",
    "    f.write('bbb\\n')\n",
    "    f.write('bbb\\n')"
   ]
  },
  {
   "cell_type": "code",
   "execution_count": null,
   "metadata": {
    "colab": {
     "base_uri": "https://localhost:8080/"
    },
    "id": "jnqZg4nGWsnf",
    "outputId": "17c632ff-ed8f-406f-d5dd-688b023ea6b8"
   },
   "outputs": [
    {
     "name": "stdout",
     "output_type": "stream",
     "text": [
      "cat: newtext.txt: No such file or directory\n"
     ]
    }
   ],
   "source": [
    "!cat newtext.txt"
   ]
  },
  {
   "cell_type": "markdown",
   "metadata": {
    "id": "yZD3svI-WsHo"
   },
   "source": [
    "#### Копирование текстового файла"
   ]
  },
  {
   "cell_type": "code",
   "execution_count": null,
   "metadata": {
    "id": "WD77fdDdWucb"
   },
   "outputs": [],
   "source": [
    "old_name = 'testfile.txt'\n",
    "new_name = 'new_testfile.txt'\n",
    "\n",
    "with open(old_name) as old, open(new_name, 'w') as new:\n",
    "    for line in old:\n",
    "        new.write(line)"
   ]
  },
  {
   "cell_type": "code",
   "execution_count": null,
   "metadata": {
    "colab": {
     "base_uri": "https://localhost:8080/"
    },
    "id": "Yqm50Cc3W4mP",
    "outputId": "cfbebec8-2bb4-4d88-b2ac-6b6f47508655"
   },
   "outputs": [
    {
     "name": "stdout",
     "output_type": "stream",
     "text": [
      "Hello, world!\n",
      "This is a test file.\n"
     ]
    }
   ],
   "source": [
    "!cat new_testfile.txt"
   ]
  },
  {
   "cell_type": "markdown",
   "metadata": {
    "id": "8Canj9YSXNcr"
   },
   "source": [
    "## Файлы с разными кодировками"
   ]
  },
  {
   "cell_type": "code",
   "execution_count": null,
   "metadata": {
    "id": "3UphRbW0W6Og"
   },
   "outputs": [],
   "source": [
    "with open('unicode_file.txt', 'w', encoding='utf-16le') as f:\n",
    "    f.write('韩国烧酒')"
   ]
  },
  {
   "cell_type": "code",
   "execution_count": null,
   "metadata": {
    "colab": {
     "base_uri": "https://localhost:8080/"
    },
    "id": "jFuOpyetXakA",
    "outputId": "ad9852ae-af8a-4820-8c13-826dc008f072"
   },
   "outputs": [
    {
     "name": "stdout",
     "output_type": "stream",
     "text": [
      "韩国烧酒\n"
     ]
    }
   ],
   "source": [
    "with open('unicode_file.txt', 'r', encoding='utf-16le') as f:\n",
    "    print(f.read())"
   ]
  },
  {
   "cell_type": "code",
   "execution_count": null,
   "metadata": {
    "colab": {
     "base_uri": "https://localhost:8080/",
     "height": 343
    },
    "collapsed": true,
    "id": "d2k9jktJXa40",
    "jupyter": {
     "outputs_hidden": true
    },
    "outputId": "067ac677-d32f-4c86-96b0-a969633a125b"
   },
   "outputs": [
    {
     "ename": "UnicodeDecodeError",
     "evalue": "'utf-8' codec can't decode bytes in position 0-1: invalid continuation byte",
     "output_type": "error",
     "traceback": [
      "\u001b[0;31m---------------------------------------------------------------------------\u001b[0m",
      "\u001b[0;31mUnicodeDecodeError\u001b[0m                        Traceback (most recent call last)",
      "\u001b[0;32m<ipython-input-136-35fe901e1e13>\u001b[0m in \u001b[0;36m<cell line: 1>\u001b[0;34m()\u001b[0m\n\u001b[1;32m      1\u001b[0m \u001b[0;32mwith\u001b[0m \u001b[0mopen\u001b[0m\u001b[0;34m(\u001b[0m\u001b[0;34m'unicode_file.txt'\u001b[0m\u001b[0;34m,\u001b[0m \u001b[0;34m'r'\u001b[0m\u001b[0;34m)\u001b[0m \u001b[0;32mas\u001b[0m \u001b[0mf\u001b[0m\u001b[0;34m:\u001b[0m\u001b[0;34m\u001b[0m\u001b[0;34m\u001b[0m\u001b[0m\n\u001b[0;32m----> 2\u001b[0;31m     \u001b[0mprint\u001b[0m\u001b[0;34m(\u001b[0m\u001b[0mf\u001b[0m\u001b[0;34m.\u001b[0m\u001b[0mread\u001b[0m\u001b[0;34m(\u001b[0m\u001b[0;34m)\u001b[0m\u001b[0;34m)\u001b[0m\u001b[0;34m\u001b[0m\u001b[0;34m\u001b[0m\u001b[0m\n\u001b[0m",
      "\u001b[0;32m/usr/lib/python3.10/codecs.py\u001b[0m in \u001b[0;36mdecode\u001b[0;34m(self, input, final)\u001b[0m\n\u001b[1;32m    320\u001b[0m         \u001b[0;31m# decode input (taking the buffer into account)\u001b[0m\u001b[0;34m\u001b[0m\u001b[0;34m\u001b[0m\u001b[0m\n\u001b[1;32m    321\u001b[0m         \u001b[0mdata\u001b[0m \u001b[0;34m=\u001b[0m \u001b[0mself\u001b[0m\u001b[0;34m.\u001b[0m\u001b[0mbuffer\u001b[0m \u001b[0;34m+\u001b[0m \u001b[0minput\u001b[0m\u001b[0;34m\u001b[0m\u001b[0;34m\u001b[0m\u001b[0m\n\u001b[0;32m--> 322\u001b[0;31m         \u001b[0;34m(\u001b[0m\u001b[0mresult\u001b[0m\u001b[0;34m,\u001b[0m \u001b[0mconsumed\u001b[0m\u001b[0;34m)\u001b[0m \u001b[0;34m=\u001b[0m \u001b[0mself\u001b[0m\u001b[0;34m.\u001b[0m\u001b[0m_buffer_decode\u001b[0m\u001b[0;34m(\u001b[0m\u001b[0mdata\u001b[0m\u001b[0;34m,\u001b[0m \u001b[0mself\u001b[0m\u001b[0;34m.\u001b[0m\u001b[0merrors\u001b[0m\u001b[0;34m,\u001b[0m \u001b[0mfinal\u001b[0m\u001b[0;34m)\u001b[0m\u001b[0;34m\u001b[0m\u001b[0;34m\u001b[0m\u001b[0m\n\u001b[0m\u001b[1;32m    323\u001b[0m         \u001b[0;31m# keep undecoded input until the next call\u001b[0m\u001b[0;34m\u001b[0m\u001b[0;34m\u001b[0m\u001b[0m\n\u001b[1;32m    324\u001b[0m         \u001b[0mself\u001b[0m\u001b[0;34m.\u001b[0m\u001b[0mbuffer\u001b[0m \u001b[0;34m=\u001b[0m \u001b[0mdata\u001b[0m\u001b[0;34m[\u001b[0m\u001b[0mconsumed\u001b[0m\u001b[0;34m:\u001b[0m\u001b[0;34m]\u001b[0m\u001b[0;34m\u001b[0m\u001b[0;34m\u001b[0m\u001b[0m\n",
      "\u001b[0;31mUnicodeDecodeError\u001b[0m: 'utf-8' codec can't decode bytes in position 0-1: invalid continuation byte"
     ]
    }
   ],
   "source": [
    "# при некорректно указанной категории вылезет ошибка\n",
    "\n",
    "with open('unicode_file.txt', 'r') as f:\n",
    "    print(f.read())"
   ]
  },
  {
   "cell_type": "markdown",
   "metadata": {
    "id": "nQXMb-ZhXuAn"
   },
   "source": [
    "# Работа с путями в Python. Библиотека Pathlib"
   ]
  },
  {
   "cell_type": "markdown",
   "metadata": {
    "id": "W1Rcnvc4X4Zg"
   },
   "source": [
    "При работе с файлами часто приходится открывать файлы, находящиеся не в одной директории с исполняемой программой. Поэтому важно иметь возможность корректно указать путь до необходимого файла.\n",
    "\n",
    "Плохим вариантом будет относиться к путям как строкам:\n",
    "\n",
    "```python\n",
    "data_folder = \"source_data/text_files/\"\n",
    "file_to_open = data_folder + \"raw_data.txt\"\n",
    "f = open(file_to_open)\n",
    "print(f.read())\n",
    "```\n",
    "\n",
    "Такой код может не сработать для некоторых библиотек на некоторых ОС.\n",
    "\n",
    "Более хороший вариант - использовать модуль `os.path`:\n",
    "\n",
    "```python\n",
    "import os.path\n",
    "\n",
    "data_folder = os.path.join(\"source_data\", \"text_files\")\n",
    "file_to_open = os.path.join(data_folder, \"raw_data.txt\")\n",
    "f = open(file_to_open)\n",
    "print(f.read())\n",
    "```\n",
    "\n",
    "Этот код корректно сработает на всех ОС, но использовать его очень больно."
   ]
  },
  {
   "cell_type": "markdown",
   "metadata": {
    "id": "IOolm-AKYXqH"
   },
   "source": [
    "На текущий момент лучшее решение - модуль [`pathlib`](https://docs.python.org/3/library/pathlib.html) и его класс `Path`:"
   ]
  },
  {
   "cell_type": "code",
   "execution_count": null,
   "metadata": {
    "colab": {
     "base_uri": "https://localhost:8080/"
    },
    "id": "q4QySc6xXcis",
    "outputId": "680d326c-6658-4a7a-df94-f785799a6732"
   },
   "outputs": [
    {
     "data": {
      "text/plain": [
       "type"
      ]
     },
     "execution_count": 137,
     "metadata": {},
     "output_type": "execute_result"
    }
   ],
   "source": [
    "from pathlib import Path\n",
    "type(Path)"
   ]
  },
  {
   "cell_type": "code",
   "execution_count": null,
   "metadata": {
    "colab": {
     "base_uri": "https://localhost:8080/"
    },
    "id": "-6dum_CpYrZL",
    "outputId": "ba2dbdc6-1f42-4232-9363-9336fae08855"
   },
   "outputs": [
    {
     "name": "stdout",
     "output_type": "stream",
     "text": [
      ".\n"
     ]
    },
    {
     "data": {
      "text/plain": [
       "(PosixPath('.'), None)"
      ]
     },
     "execution_count": 141,
     "metadata": {},
     "output_type": "execute_result"
    }
   ],
   "source": [
    "# Path() возвращает текущую директорию\n",
    "\n",
    "p = Path()\n",
    "p, print(p)"
   ]
  },
  {
   "cell_type": "code",
   "execution_count": null,
   "metadata": {
    "colab": {
     "base_uri": "https://localhost:8080/"
    },
    "id": "oBCk1zDMYtyn",
    "outputId": "4476619e-1559-4012-d84b-980e959f5e07"
   },
   "outputs": [
    {
     "data": {
      "text/plain": [
       "pathlib.PosixPath"
      ]
     },
     "execution_count": 144,
     "metadata": {},
     "output_type": "execute_result"
    }
   ],
   "source": [
    "type(p)"
   ]
  },
  {
   "cell_type": "code",
   "execution_count": null,
   "metadata": {
    "colab": {
     "base_uri": "https://localhost:8080/"
    },
    "id": "3FO_HhpRY_7d",
    "outputId": "eea2548b-1ba3-4d41-be86-5e1ecf9a9197"
   },
   "outputs": [
    {
     "data": {
      "text/plain": [
       "PosixPath('/book')"
      ]
     },
     "execution_count": 156,
     "metadata": {},
     "output_type": "execute_result"
    }
   ],
   "source": [
    "# метод resolve приводит путь к каноническому виду\n",
    "\n",
    "p = Path('.././/book')\n",
    "p = p.resolve()\n",
    "p"
   ]
  },
  {
   "cell_type": "code",
   "execution_count": null,
   "metadata": {
    "colab": {
     "base_uri": "https://localhost:8080/"
    },
    "id": "vEoJqdC8ZPYe",
    "outputId": "6b23fbe1-e58d-4101-8f04-dcf465ed750d"
   },
   "outputs": [
    {
     "data": {
      "text/plain": [
       "PosixPath('/content')"
      ]
     },
     "execution_count": 153,
     "metadata": {},
     "output_type": "execute_result"
    }
   ],
   "source": [
    "# метод cwd возвращает текущую директорию (current working directory)\n",
    "\n",
    "Path.cwd()"
   ]
  },
  {
   "cell_type": "code",
   "execution_count": null,
   "metadata": {
    "colab": {
     "base_uri": "https://localhost:8080/"
    },
    "id": "doajItofZkjD",
    "outputId": "bf37ab06-9269-47bb-8e85-be0e5460536d"
   },
   "outputs": [
    {
     "name": "stdout",
     "output_type": "stream",
     "text": [
      "sample_data/anscombe.json\n",
      "sample_data/README.md\n",
      "sample_data/mnist_test.csv\n",
      "sample_data/california_housing_test.csv\n",
      "sample_data/mnist_train_small.csv\n",
      "sample_data/california_housing_train.csv\n"
     ]
    }
   ],
   "source": [
    "# метод iterdir позволяет посмотреть все файлы в директории (проитерироваться по ней):\n",
    "\n",
    "p = Path('./sample_data')\n",
    "\n",
    "for f in p.iterdir():\n",
    "    print(f)"
   ]
  },
  {
   "cell_type": "code",
   "execution_count": null,
   "metadata": {
    "colab": {
     "base_uri": "https://localhost:8080/"
    },
    "id": "aUMSJGHOaCOj",
    "outputId": "de3e9240-8142-4a74-92f1-3cbf5bc389da"
   },
   "outputs": [
    {
     "data": {
      "text/plain": [
       "generator"
      ]
     },
     "execution_count": 162,
     "metadata": {},
     "output_type": "execute_result"
    }
   ],
   "source": [
    "type(p.iterdir())"
   ]
  },
  {
   "cell_type": "markdown",
   "metadata": {
    "id": "BK52F0R4frP3"
   },
   "source": [
    "Если `p` - путь к директории, то `p/'fname'` - путь к файлу (или директории) `fname` в ней"
   ]
  },
  {
   "cell_type": "code",
   "execution_count": null,
   "metadata": {
    "id": "1ylwJMo1Z8fO"
   },
   "outputs": [],
   "source": [
    "%%bash\n",
    "mkdir sample_data/dir1\n",
    "mkdir sample_data/dir2\n",
    "mkdir sample_data/dir3/\n",
    "mkdir sample_data/dir3/subdir3"
   ]
  },
  {
   "cell_type": "code",
   "execution_count": null,
   "metadata": {
    "colab": {
     "base_uri": "https://localhost:8080/"
    },
    "id": "zRqthRhVZ99-",
    "outputId": "7e21a697-307c-428e-a550-12d6aaf11c3d"
   },
   "outputs": [
    {
     "data": {
      "text/plain": [
       "PosixPath('sample_data')"
      ]
     },
     "execution_count": 166,
     "metadata": {},
     "output_type": "execute_result"
    }
   ],
   "source": [
    "p"
   ]
  },
  {
   "cell_type": "code",
   "execution_count": null,
   "metadata": {
    "colab": {
     "base_uri": "https://localhost:8080/"
    },
    "id": "P03Mu_j3fy2V",
    "outputId": "1e3d993e-35eb-47a8-f3fb-01c8483031a8"
   },
   "outputs": [
    {
     "data": {
      "text/plain": [
       "PosixPath('sample_data/dir3')"
      ]
     },
     "execution_count": 168,
     "metadata": {},
     "output_type": "execute_result"
    }
   ],
   "source": [
    "d = Path('dir3')\n",
    "p2 = p / d\n",
    "p2"
   ]
  },
  {
   "cell_type": "code",
   "execution_count": null,
   "metadata": {
    "colab": {
     "base_uri": "https://localhost:8080/"
    },
    "id": "eCo5JIIif1ex",
    "outputId": "7f7f6468-9fb7-4368-9dcd-f4bd5be84fe7"
   },
   "outputs": [
    {
     "data": {
      "text/plain": [
       "True"
      ]
     },
     "execution_count": 169,
     "metadata": {},
     "output_type": "execute_result"
    }
   ],
   "source": [
    "p2.exists()"
   ]
  },
  {
   "cell_type": "code",
   "execution_count": null,
   "metadata": {
    "colab": {
     "base_uri": "https://localhost:8080/"
    },
    "id": "uBS-PiwFgG3M",
    "outputId": "a594a10e-7fed-4620-cbe3-205efb5985d6"
   },
   "outputs": [
    {
     "data": {
      "text/plain": [
       "(False, True, False)"
      ]
     },
     "execution_count": 170,
     "metadata": {},
     "output_type": "execute_result"
    }
   ],
   "source": [
    "# методы определить, что находится по этому пути (файл, папка или символьная ссылка):\n",
    "\n",
    "p2.is_file(), p2.is_dir(), p2.is_symlink()"
   ]
  },
  {
   "cell_type": "code",
   "execution_count": null,
   "metadata": {
    "colab": {
     "base_uri": "https://localhost:8080/"
    },
    "id": "HpZYPiGYgTP6",
    "outputId": "c307da7a-291c-4bba-c0fd-60f8c51830e5"
   },
   "outputs": [
    {
     "data": {
      "text/plain": [
       "('/', 'content', 'sample_data', 'mnist_test.csv')"
      ]
     },
     "execution_count": 171,
     "metadata": {},
     "output_type": "execute_result"
    }
   ],
   "source": [
    "# метод parts разбирает путь на отдельные составляющие\n",
    "\n",
    "Path('/content/sample_data/mnist_test.csv').parts"
   ]
  },
  {
   "cell_type": "code",
   "execution_count": null,
   "metadata": {
    "colab": {
     "base_uri": "https://localhost:8080/"
    },
    "id": "gGfG61vVgmsk",
    "outputId": "09e6a8d5-0dbb-4bac-ed9f-ec41648660a6"
   },
   "outputs": [
    {
     "name": "stdout",
     "output_type": "stream",
     "text": [
      "('/', 'content', 'sample_data', 'dir3') sample_data/dir3\n"
     ]
    }
   ],
   "source": [
    "# методом absolute получается абсолютный путь\n",
    "\n",
    "print(p2.absolute().parts, p2)"
   ]
  },
  {
   "cell_type": "code",
   "execution_count": null,
   "metadata": {
    "colab": {
     "base_uri": "https://localhost:8080/"
    },
    "id": "3DaKjZTRgrM3",
    "outputId": "adde4d95-aa05-41d0-ef5c-c2a6c9a0c221"
   },
   "outputs": [
    {
     "data": {
      "text/plain": [
       "(PosixPath('sample_data'), PosixPath('.'))"
      ]
     },
     "execution_count": 173,
     "metadata": {},
     "output_type": "execute_result"
    }
   ],
   "source": [
    "# метод parent - узнать родительскую директорию\n",
    "\n",
    "p2.parent, p2.parent.parent"
   ]
  },
  {
   "cell_type": "code",
   "execution_count": null,
   "metadata": {
    "colab": {
     "base_uri": "https://localhost:8080/"
    },
    "id": "nLLL6dgsg6k1",
    "outputId": "efa0fc8d-2add-4ef4-cd23-9887f46f9a81"
   },
   "outputs": [
    {
     "data": {
      "text/plain": [
       "('mnist_test.csv', 'mnist_test', '.csv')"
      ]
     },
     "execution_count": 175,
     "metadata": {},
     "output_type": "execute_result"
    }
   ],
   "source": [
    "# узнать из названия файла его имя и расширение\n",
    "\n",
    "p2 = Path('/content/sample_data/mnist_test.csv')\n",
    "p2.name, p2.stem, p2.suffix"
   ]
  },
  {
   "cell_type": "code",
   "execution_count": null,
   "metadata": {
    "id": "roxXevWShI0F"
   },
   "outputs": [],
   "source": [
    "# методо rglob находит в папке все файлы по заданной маске\n",
    "\n",
    "for item in p.rglob(\"*.csv\"):\n",
    "    print(item)"
   ]
  }
 ],
 "metadata": {
  "celltoolbar": "Слайд-шоу",
  "colab": {
   "collapsed_sections": [
    "jeXauMDwC-AF",
    "whLPGgAoGTbU",
    "0eC3nCYYXy75",
    "ekE0PrkFPZRm",
    "BU8AxwIYPn1u",
    "4JRCTIyrQ-p3",
    "ZqZi1jJ8S2CE",
    "uxR7GY-MT5RT",
    "844PEERgUHFV",
    "P0Vt-eHrUO0C",
    "oQ2vrBCTUTBh",
    "Vej1QGkEUZTD",
    "mtrkIWfJV5hF",
    "yZD3svI-WsHo",
    "8Canj9YSXNcr"
   ],
   "provenance": [],
   "toc_visible": true
  },
  "kernelspec": {
   "display_name": "Python 3 (ipykernel)",
   "language": "python",
   "name": "python3"
  },
  "language_info": {
   "codemirror_mode": {
    "name": "ipython",
    "version": 3
   },
   "file_extension": ".py",
   "mimetype": "text/x-python",
   "name": "python",
   "nbconvert_exporter": "python",
   "pygments_lexer": "ipython3",
   "version": "3.12.4"
  }
 },
 "nbformat": 4,
 "nbformat_minor": 4
}
