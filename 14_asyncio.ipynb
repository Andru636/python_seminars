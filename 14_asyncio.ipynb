{
 "cells": [
  {
   "cell_type": "markdown",
   "id": "6906ec7a",
   "metadata": {
    "id": "6906ec7a"
   },
   "source": [
    "# Асинхронное программирование на Python. Библиотека [asyncio](https://docs.python.org/3/library/asyncio.html)"
   ]
  },
  {
   "cell_type": "markdown",
   "id": "d501da86",
   "metadata": {
    "id": "d501da86"
   },
   "source": [
    "Слыша слова \"асинхронное программирование\" в основном представляется, что имея одну большую задачу мы хотим разбить ее на несколько небольших кусочков и выполнить их независимо друг от друга, а после склеить результаты и получить полное решение.\n",
    "\n",
    "Однако как же это правильно реализовать на самом деле?"
   ]
  },
  {
   "cell_type": "markdown",
   "id": "024eba80",
   "metadata": {
    "id": "024eba80"
   },
   "source": [
    "Задачи, которые перед нами возникают принято делить на 2 типа:\n",
    "- **I/O-bound**\n",
    "\n",
    "    Это тип задач, которые которые в основном зависят от скорости ввода/вывода информации (input/output)\n",
    "\n",
    "\n",
    "- **CPU-bound**\n",
    "\n",
    "    Вычислительные задачи, которые в основном зависят от ресурсов процессора. Примерами таких задач могут служить математические вычисления, майнинг криптовалют или взлом шифров по ключу с помощью подбора простых множителей.\n",
    "\n",
    "\n",
    "В зависимости от типа задачи используют разные подходы к её делению на подзадачи.\n"
   ]
  },
  {
   "cell_type": "markdown",
   "id": "4f862b4c",
   "metadata": {
    "id": "4f862b4c"
   },
   "source": [
    "## IO-bound задачи"
   ]
  },
  {
   "cell_type": "markdown",
   "id": "qRKg33B6QRdT",
   "metadata": {
    "id": "qRKg33B6QRdT"
   },
   "source": [
    "**Идея** - будем распределять множество задач одному работнику, причем пока одна из задач не требует непосредственного его участия он начинает делать следующую."
   ]
  },
  {
   "cell_type": "markdown",
   "id": "OobvmRSTQTMt",
   "metadata": {
    "id": "OobvmRSTQTMt"
   },
   "source": [
    "Множество задач внутри которых есть какое-либо ожидание (например, ожидание ответа от сервера) запускаются по очереди, причем пока одна задача находится в режиме ожидания другая начинает работать. Стоит отметить, что все происходит в **одном** потоке."
   ]
  },
  {
   "cell_type": "markdown",
   "id": "R4I5nL8BQlvF",
   "metadata": {
    "id": "R4I5nL8BQlvF"
   },
   "source": [
    "**Как же будет устроена работа асинхронного кода?**\n",
    "\n",
    "У нас будут функции, которые умеют засыпать и просыпаться в нужное время, а так же обработчик (*event loop*). Мы собираем функции в обработчик. Когда одна из функций засыпает управление получает обработчик, после чего отдает управление очередной функции.\n"
   ]
  },
  {
   "cell_type": "markdown",
   "id": "81b060b9",
   "metadata": {
    "id": "81b060b9"
   },
   "source": [
    "Рассмотрим простейший пример:"
   ]
  },
  {
   "cell_type": "code",
   "execution_count": 57,
   "id": "3c7ec84e",
   "metadata": {
    "id": "3c7ec84e"
   },
   "outputs": [
    {
     "name": "stdout",
     "output_type": "stream",
     "text": [
      "0\n",
      "1\n",
      "2\n",
      "Go!\n",
      "3\n",
      "4\n",
      "5\n",
      "Go!\n",
      "6\n",
      "7\n",
      "8\n",
      "Go!\n",
      "9\n"
     ]
    }
   ],
   "source": [
    "import time\n",
    "queue = []\n",
    "\n",
    "def counter():\n",
    "    cnt = 0\n",
    "    while True:\n",
    "        print(cnt)\n",
    "        cnt += 1\n",
    "        yield\n",
    "\n",
    "\n",
    "def printer():\n",
    "    cnt = 1\n",
    "    while True:\n",
    "        if cnt%3 == 0:\n",
    "            print(\"Go!\")\n",
    "        cnt += 1\n",
    "        yield\n",
    "\n",
    "\n",
    "g1 = counter()\n",
    "queue.append(g1)\n",
    "\n",
    "g2 = printer()\n",
    "queue.append(g2)\n",
    "\n",
    "i = 0\n",
    "while True:\n",
    "    g = queue.pop(0)\n",
    "    time.sleep(0.5)\n",
    "    next(g)\n",
    "    queue.append(g)\n",
    "    i += 1\n",
    "    if i == 20: break"
   ]
  },
  {
   "cell_type": "markdown",
   "id": "0560fbf9",
   "metadata": {
    "id": "0560fbf9"
   },
   "source": [
    "В Python много библиотек для асинхронного программирования, наиболее популярными являются Tornado, Asyncio и Gevent. Давайте посмотрим, как работает Asyncio."
   ]
  },
  {
   "cell_type": "markdown",
   "id": "2164a8e9",
   "metadata": {
    "id": "2164a8e9"
   },
   "source": [
    "# Asyncio"
   ]
  },
  {
   "cell_type": "code",
   "execution_count": 1,
   "id": "aff57c6b",
   "metadata": {
    "id": "aff57c6b"
   },
   "outputs": [],
   "source": [
    "import asyncio"
   ]
  },
  {
   "cell_type": "markdown",
   "id": "7b100875",
   "metadata": {
    "id": "7b100875"
   },
   "source": [
    "Объект корутины (асинхронная функция) объявляется с помощью `async def` и исполняется с помощью `await`:"
   ]
  },
  {
   "cell_type": "code",
   "execution_count": 3,
   "id": "1d512267",
   "metadata": {
    "colab": {
     "base_uri": "https://localhost:8080/"
    },
    "id": "1d512267",
    "outputId": "92090469-f261-4e0d-abf9-6c6c1aa0a06f"
   },
   "outputs": [
    {
     "name": "stdout",
     "output_type": "stream",
     "text": [
      "1\n",
      "2\n",
      "3\n",
      "Go!\n"
     ]
    }
   ],
   "source": [
    "async def rocket():\n",
    "    print(1)\n",
    "    await asyncio.sleep(1)\n",
    "    print(2)\n",
    "    await asyncio.sleep(1)\n",
    "    print(3)\n",
    "    await asyncio.sleep(1)\n",
    "    print(\"Go!\")\n",
    "\n",
    "await rocket()"
   ]
  },
  {
   "cell_type": "markdown",
   "id": "ab5882f2",
   "metadata": {
    "id": "ab5882f2"
   },
   "source": [
    "Заметим, что просто написав rocket() у нас ничего не выполнится."
   ]
  },
  {
   "cell_type": "code",
   "execution_count": 8,
   "id": "4a7307d2",
   "metadata": {
    "colab": {
     "base_uri": "https://localhost:8080/"
    },
    "id": "4a7307d2",
    "outputId": "bfe6c92a-2e5c-4f7a-eaf7-7ce279d654f6"
   },
   "outputs": [
    {
     "data": {
      "text/plain": [
       "<coroutine object rocket at 0x0000020517ECDE40>"
      ]
     },
     "execution_count": 8,
     "metadata": {},
     "output_type": "execute_result"
    }
   ],
   "source": [
    "rocket()"
   ]
  },
  {
   "cell_type": "markdown",
   "id": "a016119f",
   "metadata": {
    "id": "a016119f"
   },
   "source": [
    "Разберем следующий пример:"
   ]
  },
  {
   "cell_type": "code",
   "execution_count": 10,
   "id": "b55e1843",
   "metadata": {
    "colab": {
     "base_uri": "https://localhost:8080/"
    },
    "id": "b55e1843",
    "outputId": "790f609a-b7b5-4dcb-dc5e-4e4ff8a3b856"
   },
   "outputs": [
    {
     "name": "stdout",
     "output_type": "stream",
     "text": [
      "hello\n",
      " world\n",
      "Time: 3.0129308700561523\n"
     ]
    }
   ],
   "source": [
    "import time\n",
    "\n",
    "\n",
    "async def say_after(delay, msg):\n",
    "    await asyncio.sleep(delay)\n",
    "    print(msg)\n",
    "\n",
    "async def main():\n",
    "    started = time.time()\n",
    "\n",
    "    await say_after(1, 'hello')\n",
    "    await say_after(2, ' world')\n",
    "\n",
    "    print(f\"Time: {time.time() - started}\")\n",
    "\n",
    "await main()"
   ]
  },
  {
   "cell_type": "markdown",
   "id": "We8a-dtJQy35",
   "metadata": {
    "id": "We8a-dtJQy35"
   },
   "source": [
    "Хм, что-то не то, ждем все три секунды, где же профит?"
   ]
  },
  {
   "cell_type": "markdown",
   "id": "d27c7033",
   "metadata": {
    "id": "d27c7033"
   },
   "source": [
    "Проблема заключается в том, что в нашем коде задачи выполняются последовательно с использованием `await`. Каждый вызов `await` блокирует выполнение текущей корутины до завершения задачи. Поэтому корутины `say_after` выполняются последовательно, а не параллельно."
   ]
  },
  {
   "cell_type": "markdown",
   "id": "oYAUOBj7Q1Ap",
   "metadata": {
    "id": "oYAUOBj7Q1Ap"
   },
   "source": [
    "Теперь рассмотрим как можно исправить такую проблему. Поговорим про `Task()`."
   ]
  },
  {
   "cell_type": "markdown",
   "id": "-IXo72GiQ_xm",
   "metadata": {
    "id": "-IXo72GiQ_xm"
   },
   "source": [
    "## `Task`"
   ]
  },
  {
   "cell_type": "markdown",
   "id": "nhmMHkVYQ_k5",
   "metadata": {
    "id": "nhmMHkVYQ_k5"
   },
   "source": [
    "`Task()` - это объект, который запускает корутину. Объект `Task` используется для запуска корутин в циклах событий при помощи оператора `await`."
   ]
  },
  {
   "cell_type": "markdown",
   "id": "eb4561b1",
   "metadata": {
    "id": "eb4561b1"
   },
   "source": [
    "Циклы событий используют **совместное планирование**. Другими словами, цикл событий запускает одну задачу за раз. Пока объект задачи Task ожидает готовности, цикл событий запускает другие задачи, обратные вызовы или выполняет операции ввода-вывода."
   ]
  },
  {
   "cell_type": "markdown",
   "id": "F5k1U7UCQ6bi",
   "metadata": {
    "id": "F5k1U7UCQ6bi"
   },
   "source": [
    "Теперь создадим задачи и посмотрим, исправило ли эту проблему:"
   ]
  },
  {
   "cell_type": "code",
   "execution_count": 18,
   "id": "c3bc8049",
   "metadata": {
    "colab": {
     "base_uri": "https://localhost:8080/"
    },
    "id": "c3bc8049",
    "outputId": "e9d566dd-40e8-4509-f66c-aa8283411099"
   },
   "outputs": [
    {
     "name": "stdout",
     "output_type": "stream",
     "text": [
      "hello\n",
      "world\n",
      "Time: 2.0081896781921387\n"
     ]
    }
   ],
   "source": [
    "async def main():\n",
    "    task1 = asyncio.create_task(\n",
    "        say_after(1, 'hello'))\n",
    "\n",
    "    task2 = asyncio.create_task(\n",
    "        say_after(2, 'world'))\n",
    "\n",
    "    started = time.time()\n",
    "\n",
    "    await task1\n",
    "    await task2\n",
    "\n",
    "    print(f\"Time: {time.time() - started}\")\n",
    "\n",
    "await main()"
   ]
  },
  {
   "cell_type": "markdown",
   "id": "f661d941",
   "metadata": {
    "id": "f661d941"
   },
   "source": [
    "Как мы видим, это нам помогло исправить нашу проблему!"
   ]
  },
  {
   "cell_type": "markdown",
   "id": "70d8db41",
   "metadata": {
    "id": "70d8db41"
   },
   "source": [
    "Теперь рассмотрим некоторые полезные метода класса `Task()`:"
   ]
  },
  {
   "cell_type": "code",
   "execution_count": 21,
   "id": "aa4661da",
   "metadata": {
    "colab": {
     "base_uri": "https://localhost:8080/"
    },
    "id": "aa4661da",
    "outputId": "422d7081-88fa-4bf4-ae5f-7d00baa7e9ec"
   },
   "outputs": [
    {
     "name": "stdout",
     "output_type": "stream",
     "text": [
      "hello\n"
     ]
    }
   ],
   "source": [
    "task = asyncio.create_task(\n",
    "    say_after(1, 'hello')\n",
    ")\n",
    "\n",
    "await task"
   ]
  },
  {
   "cell_type": "markdown",
   "id": "02b97217",
   "metadata": {
    "id": "02b97217"
   },
   "source": [
    "Метод `Task.cancelled()` возвращает `True`, если задача `Task` отменена.\n",
    "\n",
    "Задача отменяется, когда отмена была запрошена с помощью метода `Task.cancel()` и обернутая сопрограмма распространила переданное в нее исключение `asyncio.CancelledError`."
   ]
  },
  {
   "cell_type": "code",
   "execution_count": 23,
   "id": "b51a45d9",
   "metadata": {
    "colab": {
     "base_uri": "https://localhost:8080/"
    },
    "id": "b51a45d9",
    "outputId": "ef5c4616-4de5-4173-d9c3-94a0fda3fb4a"
   },
   "outputs": [
    {
     "data": {
      "text/plain": [
       "False"
      ]
     },
     "execution_count": 23,
     "metadata": {},
     "output_type": "execute_result"
    }
   ],
   "source": [
    "task.cancelled()"
   ]
  },
  {
   "cell_type": "markdown",
   "id": "424d1428",
   "metadata": {
    "id": "424d1428"
   },
   "source": [
    "Метод `Task.done()` возвращает `True`, если задача `Task` выполнена.\n",
    "\n",
    "Задача считается выполненной, когда обернутая сопрограмма либо отработала и вернула результат, либо вызвала исключение, либо была отменена."
   ]
  },
  {
   "cell_type": "code",
   "execution_count": 25,
   "id": "e71b0495",
   "metadata": {
    "colab": {
     "base_uri": "https://localhost:8080/"
    },
    "id": "e71b0495",
    "outputId": "baed382a-4ead-4ab6-d896-ef91cf7697c3"
   },
   "outputs": [
    {
     "data": {
      "text/plain": [
       "True"
      ]
     },
     "execution_count": 25,
     "metadata": {},
     "output_type": "execute_result"
    }
   ],
   "source": [
    "task.done()"
   ]
  },
  {
   "cell_type": "markdown",
   "id": "1e705484",
   "metadata": {
    "id": "1e705484"
   },
   "source": [
    "В примере ниже задача `my_coroutine()` выполняется асинхронно с помощью `asyncio.create_task()`. Если вызовете `task.done()` непосредственно после создания задачи, она вернет `False`, так как задача еще не завершилась."
   ]
  },
  {
   "cell_type": "code",
   "execution_count": 27,
   "id": "2ae6ed1e",
   "metadata": {
    "colab": {
     "base_uri": "https://localhost:8080/"
    },
    "id": "2ae6ed1e",
    "outputId": "d5e603a6-4cc0-44cd-d6a8-539ef64c830f"
   },
   "outputs": [
    {
     "name": "stdout",
     "output_type": "stream",
     "text": [
      "Задача все еще выполняется\n"
     ]
    }
   ],
   "source": [
    "async def my_coroutine():\n",
    "    await asyncio.sleep(3)\n",
    "    print(\"Задача завершена\")\n",
    "\n",
    "\n",
    "async def main():\n",
    "    task = asyncio.create_task(my_coroutine())\n",
    "    if task.done():\n",
    "        print(\"Задача уже завершена\")\n",
    "    else:\n",
    "        print(\"Задача все еще выполняется\")\n",
    "\n",
    "\n",
    "await main()"
   ]
  },
  {
   "cell_type": "markdown",
   "id": "4db348ce",
   "metadata": {
    "id": "4db348ce"
   },
   "source": [
    "Метод `Task.set_name()` устанавливает имя для задачи `Task`. Аргументом значения может быть любой объект, который затем преобразуется в строку."
   ]
  },
  {
   "cell_type": "code",
   "execution_count": 29,
   "id": "4866ac62",
   "metadata": {
    "id": "4866ac62"
   },
   "outputs": [],
   "source": [
    "task.set_name(123)"
   ]
  },
  {
   "cell_type": "markdown",
   "id": "24893373",
   "metadata": {
    "id": "24893373"
   },
   "source": [
    "Метод `Task.get_name()` возвращает имя name задачи Task. Если имя задачи Task не было явно установлено, то по умолчанию оно генерируется во время создания:"
   ]
  },
  {
   "cell_type": "code",
   "execution_count": 31,
   "id": "6dd7267e",
   "metadata": {
    "colab": {
     "base_uri": "https://localhost:8080/",
     "height": 35
    },
    "id": "6dd7267e",
    "outputId": "0766efa6-c889-4463-a2b2-eb8490decb7a"
   },
   "outputs": [
    {
     "data": {
      "text/plain": [
       "'123'"
      ]
     },
     "execution_count": 31,
     "metadata": {},
     "output_type": "execute_result"
    }
   ],
   "source": [
    "task.get_name()"
   ]
  },
  {
   "cell_type": "code",
   "execution_count": 32,
   "id": "64e6ad56",
   "metadata": {
    "colab": {
     "base_uri": "https://localhost:8080/"
    },
    "id": "64e6ad56",
    "outputId": "1a226207-9902-43d0-fda6-b9e1853793c3"
   },
   "outputs": [],
   "source": [
    "task2 = asyncio.create_task(my_coroutine())\n",
    "task3 = asyncio.create_task(my_coroutine())"
   ]
  },
  {
   "cell_type": "code",
   "execution_count": 33,
   "id": "b0Z6W-jk2dky",
   "metadata": {
    "colab": {
     "base_uri": "https://localhost:8080/",
     "height": 35
    },
    "id": "b0Z6W-jk2dky",
    "outputId": "a4b97d35-20a7-481a-b667-39b8f1f7f4a2"
   },
   "outputs": [
    {
     "data": {
      "text/plain": [
       "'Task-17'"
      ]
     },
     "execution_count": 33,
     "metadata": {},
     "output_type": "execute_result"
    }
   ],
   "source": [
    "task2.get_name()"
   ]
  },
  {
   "cell_type": "code",
   "execution_count": 34,
   "id": "XlST_Ne82fKP",
   "metadata": {
    "colab": {
     "base_uri": "https://localhost:8080/",
     "height": 35
    },
    "id": "XlST_Ne82fKP",
    "outputId": "4ca33fbc-e5a4-47d0-8966-13d218a85ad8"
   },
   "outputs": [
    {
     "data": {
      "text/plain": [
       "'Task-18'"
      ]
     },
     "execution_count": 34,
     "metadata": {},
     "output_type": "execute_result"
    }
   ],
   "source": [
    "task3.get_name()"
   ]
  },
  {
   "cell_type": "markdown",
   "id": "16c729ca",
   "metadata": {
    "id": "16c729ca"
   },
   "source": [
    "Так же важно знать про объекты `Future`.\n",
    "\n",
    "Класс `asyncio.Future()` представляет собой конечный результат асинхронной операции. Класс `Task()` является подклассом класса `Future()`."
   ]
  },
  {
   "cell_type": "code",
   "execution_count": 36,
   "id": "e092e0e6",
   "metadata": {
    "colab": {
     "base_uri": "https://localhost:8080/"
    },
    "id": "e092e0e6",
    "outputId": "0b41488a-13c8-48bd-d84c-7d5e2125cc3d"
   },
   "outputs": [
    {
     "name": "stdout",
     "output_type": "stream",
     "text": [
      "Завершено!\n"
     ]
    }
   ],
   "source": [
    "async def slow_operation():\n",
    "    await asyncio.sleep(2)\n",
    "    return \"Завершено!\"\n",
    "\n",
    "\n",
    "async def main():\n",
    "    future = asyncio.ensure_future(slow_operation())  # Создание объекта Future\n",
    "    await asyncio.sleep(1)\n",
    "    future_result = await future  # Ожидание завершения Future\n",
    "    print(future_result)\n",
    "\n",
    "\n",
    "await main()"
   ]
  },
  {
   "cell_type": "markdown",
   "id": "b4997448",
   "metadata": {
    "id": "b4997448"
   },
   "source": [
    "### Функция `gather`"
   ]
  },
  {
   "cell_type": "markdown",
   "id": "d0b9a958",
   "metadata": {
    "id": "d0b9a958"
   },
   "source": [
    "Функция `gather()` одновременно запускает объекты, переданные в функцию."
   ]
  },
  {
   "cell_type": "markdown",
   "id": "0qkYBDAbRgTq",
   "metadata": {
    "id": "0qkYBDAbRgTq"
   },
   "source": [
    "Рассмотрим это на примере - мы хотим подключаться к пользователю и отправлять ему тестовое сообщение:"
   ]
  },
  {
   "cell_type": "code",
   "execution_count": 40,
   "id": "83911cd8",
   "metadata": {
    "colab": {
     "base_uri": "https://localhost:8080/"
    },
    "id": "83911cd8",
    "outputId": "57f7bbbd-d58c-40fe-ebc1-8de6196ba012"
   },
   "outputs": [
    {
     "name": "stdout",
     "output_type": "stream",
     "text": [
      "Подключаюсь к 1\n",
      "Подключаюсь к 2\n",
      "Подключаюсь к 3\n",
      "Подключаюсь к 4\n",
      "Задача завершена\n",
      "Задача завершена\n",
      "Задача завершена\n",
      "Отправляю команду test пользователю 3\n",
      "Отправляю команду test пользователю 4\n",
      "Отправляю команду test пользователю 2\n",
      "Отправляю команду test пользователю 1\n"
     ]
    }
   ],
   "source": [
    "id_list = [1, 2, 3, 4]\n",
    "\n",
    "async def connect_to_user(usr_id):\n",
    "    print(f'Подключаюсь к {usr_id}')\n",
    "    await asyncio.sleep(2)\n",
    "    print(f'Отправляю команду test пользователю {usr_id}')\n",
    "    await asyncio.sleep(2)\n",
    "\n",
    "\n",
    "async def send_msg(id_list):\n",
    "    coroutines = map(connect_to_user, id_list)\n",
    "    result = await asyncio.gather(*coroutines,return_exceptions=False )\n",
    "    return result\n",
    "\n",
    "res = await send_msg(id_list)"
   ]
  },
  {
   "cell_type": "markdown",
   "id": "a57d307d",
   "metadata": {
    "id": "a57d307d"
   },
   "source": [
    "А что произойдет, если попытка подключения окажется неудачной и выбросится исключение? Как мы будем его обрабатывать?\n",
    "\n",
    "Для этого есть аргумент `return_exceptions`:\n",
    "- `return_exceptions=False` (по умолчанию) - первое появившееся исключение, немедленно распространяется на ту задачу, в которой оно возникло в момент ожидания `asyncio.gather()`, при этом другие объекты в последовательности не будут отменены и продолжат выполнение.\n",
    "- `return_exceptions=True` - исключения обрабатываются так же, как успешные результаты и передаются в совокупный список результатов."
   ]
  },
  {
   "cell_type": "code",
   "execution_count": 65,
   "id": "295f56da",
   "metadata": {
    "colab": {
     "base_uri": "https://localhost:8080/",
     "height": 391
    },
    "id": "295f56da",
    "outputId": "b0ca3f28-3c5f-41b0-cd52-83e574e43402"
   },
   "outputs": [
    {
     "name": "stdout",
     "output_type": "stream",
     "text": [
      "Подключаюсь к 1\n",
      "Подключаюсь к 2\n",
      "Подключаюсь к 3\n",
      "Подключаюсь к 4\n"
     ]
    },
    {
     "ename": "OSError",
     "evalue": "Не могу подключиться к 4",
     "output_type": "error",
     "traceback": [
      "\u001b[1;31m---------------------------------------------------------------------------\u001b[0m",
      "\u001b[1;31mOSError\u001b[0m                                   Traceback (most recent call last)",
      "Cell \u001b[1;32mIn[65], line 15\u001b[0m\n\u001b[0;32m     12\u001b[0m     result \u001b[38;5;241m=\u001b[39m \u001b[38;5;28;01mawait\u001b[39;00m asyncio\u001b[38;5;241m.\u001b[39mgather(\u001b[38;5;241m*\u001b[39mcoroutines,return_exceptions\u001b[38;5;241m=\u001b[39mreturn_ex)\n\u001b[0;32m     13\u001b[0m     \u001b[38;5;28;01mreturn\u001b[39;00m result\n\u001b[1;32m---> 15\u001b[0m \u001b[38;5;28;01mawait\u001b[39;00m send_msg(id_list, \u001b[38;5;28;01mFalse\u001b[39;00m)\n",
      "Cell \u001b[1;32mIn[65], line 12\u001b[0m, in \u001b[0;36msend_msg\u001b[1;34m(id_list, return_ex)\u001b[0m\n\u001b[0;32m     10\u001b[0m \u001b[38;5;28;01masync\u001b[39;00m \u001b[38;5;28;01mdef\u001b[39;00m \u001b[38;5;21msend_msg\u001b[39m(id_list, return_ex \u001b[38;5;241m=\u001b[39m \u001b[38;5;28;01mFalse\u001b[39;00m):\n\u001b[0;32m     11\u001b[0m     coroutines \u001b[38;5;241m=\u001b[39m \u001b[38;5;28mmap\u001b[39m(connect_to_user, id_list)\n\u001b[1;32m---> 12\u001b[0m     result \u001b[38;5;241m=\u001b[39m \u001b[38;5;28;01mawait\u001b[39;00m asyncio\u001b[38;5;241m.\u001b[39mgather(\u001b[38;5;241m*\u001b[39mcoroutines,return_exceptions\u001b[38;5;241m=\u001b[39mreturn_ex)\n\u001b[0;32m     13\u001b[0m     \u001b[38;5;28;01mreturn\u001b[39;00m result\n",
      "Cell \u001b[1;32mIn[65], line 4\u001b[0m, in \u001b[0;36mconnect_to_user\u001b[1;34m(usr_id)\u001b[0m\n\u001b[0;32m      2\u001b[0m \u001b[38;5;28mprint\u001b[39m(\u001b[38;5;124mf\u001b[39m\u001b[38;5;124m'\u001b[39m\u001b[38;5;124mПодключаюсь к \u001b[39m\u001b[38;5;132;01m{\u001b[39;00musr_id\u001b[38;5;132;01m}\u001b[39;00m\u001b[38;5;124m'\u001b[39m)\n\u001b[0;32m      3\u001b[0m \u001b[38;5;28;01mif\u001b[39;00m usr_id \u001b[38;5;241m==\u001b[39m \u001b[38;5;241m4\u001b[39m:\n\u001b[1;32m----> 4\u001b[0m     \u001b[38;5;28;01mraise\u001b[39;00m \u001b[38;5;167;01mOSError\u001b[39;00m(\u001b[38;5;124mf\u001b[39m\u001b[38;5;124m'\u001b[39m\u001b[38;5;124mНе могу подключиться к \u001b[39m\u001b[38;5;132;01m{\u001b[39;00musr_id\u001b[38;5;132;01m}\u001b[39;00m\u001b[38;5;124m'\u001b[39m)\n\u001b[0;32m      5\u001b[0m \u001b[38;5;28;01mawait\u001b[39;00m asyncio\u001b[38;5;241m.\u001b[39msleep(\u001b[38;5;241m1\u001b[39m)\n\u001b[0;32m      6\u001b[0m \u001b[38;5;28mprint\u001b[39m(\u001b[38;5;124mf\u001b[39m\u001b[38;5;124m'\u001b[39m\u001b[38;5;124mОтправляю команду test пользователю \u001b[39m\u001b[38;5;132;01m{\u001b[39;00musr_id\u001b[38;5;132;01m}\u001b[39;00m\u001b[38;5;124m'\u001b[39m)\n",
      "\u001b[1;31mOSError\u001b[0m: Не могу подключиться к 4"
     ]
    }
   ],
   "source": [
    "async def connect_to_user(usr_id):\n",
    "    print(f'Подключаюсь к {usr_id}')\n",
    "    if usr_id == 4:\n",
    "        raise OSError(f'Не могу подключиться к {usr_id}')\n",
    "    await asyncio.sleep(1)\n",
    "    print(f'Отправляю команду test пользователю {usr_id}')\n",
    "    await asyncio.sleep(1)\n",
    "\n",
    "\n",
    "async def send_msg(id_list, return_ex = False):\n",
    "    coroutines = map(connect_to_user, id_list)\n",
    "    result = await asyncio.gather(*coroutines,return_exceptions=return_ex)\n",
    "    return result\n",
    "\n",
    "await send_msg(id_list, False)"
   ]
  },
  {
   "cell_type": "code",
   "execution_count": 67,
   "id": "8b91a02e",
   "metadata": {
    "colab": {
     "base_uri": "https://localhost:8080/"
    },
    "id": "8b91a02e",
    "outputId": "97b73296-9146-49e6-a554-e9d953ff97c9"
   },
   "outputs": [
    {
     "name": "stdout",
     "output_type": "stream",
     "text": [
      "Подключаюсь к 1\n",
      "Подключаюсь к 2\n",
      "Подключаюсь к 3\n",
      "Подключаюсь к 4\n",
      "Отправляю команду test пользователю 3\n",
      "Отправляю команду test пользователю 1\n",
      "Отправляю команду test пользователю 2\n"
     ]
    },
    {
     "data": {
      "text/plain": [
       "[None, None, None, OSError('Не могу подключиться к 4')]"
      ]
     },
     "execution_count": 67,
     "metadata": {},
     "output_type": "execute_result"
    }
   ],
   "source": [
    "await send_msg(id_list, True)"
   ]
  },
  {
   "cell_type": "markdown",
   "id": "f63aa92b",
   "metadata": {
    "id": "f63aa92b"
   },
   "source": [
    "Три корутины с usr_id 1, 2 и 3 выполнились успешно и вернули `None` в качестве результата. Это потому, что функция `connect_to_user(usr_id)` не возвращает явно никакого значения, кроме `None`.\n",
    "Четвертая корутина с usr_id 4 вызвала `OSError` и исключение было сохранено в списке результатов."
   ]
  },
  {
   "cell_type": "markdown",
   "id": "0e248a13",
   "metadata": {
    "id": "0e248a13"
   },
   "source": [
    "Теперь пример с использованием `Future` и `gather()` для ожидания нескольких асинхронных операций:"
   ]
  },
  {
   "cell_type": "code",
   "execution_count": 73,
   "id": "36883634",
   "metadata": {
    "colab": {
     "base_uri": "https://localhost:8080/"
    },
    "id": "36883634",
    "outputId": "58672a43-a213-47b7-d31d-95775103fed6"
   },
   "outputs": [
    {
     "name": "stdout",
     "output_type": "stream",
     "text": [
      "Операция 0 завершена\n",
      "Операция 1 завершена\n",
      "Операция 2 завершена\n"
     ]
    }
   ],
   "source": [
    "async def slow_operation(num):\n",
    "    await asyncio.sleep(2)\n",
    "    return f\"Операция {num} завершена\"\n",
    "\n",
    "async def main():\n",
    "    futures = [asyncio.ensure_future(slow_operation(i)) for i in range(3)]  # Создание нескольких объектов Future\n",
    "    results = await asyncio.gather(*futures)  # Ожидание завершения всех Future\n",
    "    for result in results:\n",
    "        print(result)\n",
    "await main()"
   ]
  },
  {
   "cell_type": "markdown",
   "id": "2e89c222",
   "metadata": {
    "id": "2e89c222"
   },
   "source": [
    "### Функция `shield`"
   ]
  },
  {
   "cell_type": "markdown",
   "id": "ed68aca3",
   "metadata": {
    "id": "ed68aca3"
   },
   "source": [
    "Представьте, что у вас есть асинхронная функция, которая выполняет важную задачу: отправку критической команды на удаленное устройство. Вы не хотите, чтобы эта задача была отменена, даже если другие части программы пытаются отменить выполнение. В таком случае в `asyncio` есть функция `shield`, которая защищает задачи от отмены методом `Task.cancel()`:"
   ]
  },
  {
   "cell_type": "code",
   "execution_count": 75,
   "id": "c8a0b085",
   "metadata": {
    "colab": {
     "base_uri": "https://localhost:8080/"
    },
    "id": "c8a0b085",
    "outputId": "3244351b-5a7e-4da5-df5d-35a3c79958e7"
   },
   "outputs": [
    {
     "name": "stdout",
     "output_type": "stream",
     "text": [
      "Старт задачи...\n",
      "Отмена!\n",
      "А что со мной хотели сделать?\n"
     ]
    }
   ],
   "source": [
    "async def start_task():\n",
    "    print('Старт задачи...')\n",
    "    await asyncio.sleep(2)\n",
    "    print('А что со мной хотели сделать?')\n",
    "\n",
    "\n",
    "async def cancel(some_task):\n",
    "    await asyncio.sleep(0.5)\n",
    "    some_task.cancel()\n",
    "    print('Отмена!')\n",
    "\n",
    "\n",
    "async def main():\n",
    "    real_task = asyncio.create_task(start_task())\n",
    "    shield = asyncio.shield(real_task)\n",
    "    asyncio.create_task(cancel(shield))\n",
    "    await real_task\n",
    "\n",
    "\n",
    "await main()"
   ]
  },
  {
   "cell_type": "markdown",
   "id": "17a953b9",
   "metadata": {
    "id": "17a953b9"
   },
   "source": [
    "### Функция `wait_for`"
   ]
  },
  {
   "cell_type": "markdown",
   "id": "9b381b13",
   "metadata": {
    "id": "9b381b13"
   },
   "source": [
    "Следит за тем, чтобы корутина не выполнялась больше заданного времени. Если истекает таймаут, то отменяет задачу и бросает `TimeoutError`."
   ]
  },
  {
   "cell_type": "markdown",
   "id": "9cYN_ha1SAfq",
   "metadata": {
    "id": "9cYN_ha1SAfq"
   },
   "source": [
    "Если необходимо избежать отмены задачи, то лучше обренуть в `shield()`."
   ]
  },
  {
   "cell_type": "code",
   "execution_count": 7,
   "id": "c4db378c",
   "metadata": {
    "colab": {
     "base_uri": "https://localhost:8080/"
    },
    "id": "c4db378c",
    "outputId": "c2e2ccfb-6559-4cbc-e0cb-4236cf9269bb"
   },
   "outputs": [
    {
     "name": "stdout",
     "output_type": "stream",
     "text": [
      "Какая-то не очень быстрая ...\n"
     ]
    }
   ],
   "source": [
    "async def fast_func():\n",
    "    await asyncio.sleep(360)\n",
    "    print('Да не долго я работаю')\n",
    "\n",
    "\n",
    "async def main():\n",
    "    try:\n",
    "        await asyncio.wait_for(fast_func(), timeout=5.0)\n",
    "    except asyncio.TimeoutError:\n",
    "        print('Какая-то не очень быстрая ...')\n",
    "\n",
    "await main()"
   ]
  },
  {
   "cell_type": "code",
   "execution_count": 86,
   "id": "2aae070c",
   "metadata": {
    "colab": {
     "base_uri": "https://localhost:8080/"
    },
    "id": "2aae070c",
    "outputId": "1bc61f67-0989-4d59-e45b-8806e34b0ec6"
   },
   "outputs": [
    {
     "name": "stdout",
     "output_type": "stream",
     "text": [
      "Отправка сообщения 'Привет!' пользователю 123\n",
      "Время ожидания ответа от пользователя 123 истекло\n"
     ]
    }
   ],
   "source": [
    "async def send_message(user_id, message):\n",
    "    print(f\"Отправка сообщения '{message}' пользователю {user_id}\")\n",
    "    await asyncio.sleep(5)\n",
    "    print(f\"Сообщение '{message}' доставлено пользователю {user_id}\")\n",
    "\n",
    "\n",
    "async def receive_message(user_id):\n",
    "    try:\n",
    "        await asyncio.wait_for(send_message(user_id, \"Привет!\"), timeout=3)\n",
    "        print(f\"Получен ответ: Привет!\")\n",
    "    except asyncio.TimeoutError:\n",
    "        print(f\"Время ожидания ответа от пользователя {user_id} истекло\")\n",
    "\n",
    "async def main():\n",
    "    user_id = 123\n",
    "    await receive_message(user_id)\n",
    "\n",
    "\n",
    "await main()"
   ]
  },
  {
   "cell_type": "code",
   "execution_count": 89,
   "id": "2d77ff03",
   "metadata": {
    "colab": {
     "base_uri": "https://localhost:8080/",
     "height": 315
    },
    "id": "2d77ff03",
    "outputId": "18a41f1b-ab8c-4e3b-db50-8168d762579a"
   },
   "outputs": [
    {
     "name": "stdout",
     "output_type": "stream",
     "text": [
      "Начало отправки важного сообщения\n"
     ]
    },
    {
     "ename": "CancelledError",
     "evalue": "",
     "output_type": "error",
     "traceback": [
      "\u001b[1;31m---------------------------------------------------------------------------\u001b[0m",
      "\u001b[1;31mCancelledError\u001b[0m                            Traceback (most recent call last)",
      "Cell \u001b[1;32mIn[89], line 18\u001b[0m\n\u001b[0;32m     14\u001b[0m     \u001b[38;5;28;01mexcept\u001b[39;00m asyncio\u001b[38;5;241m.\u001b[39mTimeoutError:\n\u001b[0;32m     15\u001b[0m         \u001b[38;5;28mprint\u001b[39m(\u001b[38;5;124m\"\u001b[39m\u001b[38;5;124mВремя на отправку важного сообщения истекло\u001b[39m\u001b[38;5;124m\"\u001b[39m)\n\u001b[1;32m---> 18\u001b[0m \u001b[38;5;28;01mawait\u001b[39;00m main()\n",
      "Cell \u001b[1;32mIn[89], line 12\u001b[0m, in \u001b[0;36mmain\u001b[1;34m()\u001b[0m\n\u001b[0;32m     10\u001b[0m     task\u001b[38;5;241m.\u001b[39mcancel()\n\u001b[0;32m     11\u001b[0m     \u001b[38;5;66;03m# Здесь используем shield() для гарантированной отправки важного сообщения\u001b[39;00m\n\u001b[1;32m---> 12\u001b[0m     \u001b[38;5;28;01mawait\u001b[39;00m asyncio\u001b[38;5;241m.\u001b[39mshield(asyncio\u001b[38;5;241m.\u001b[39mwait_for(task, timeout\u001b[38;5;241m=\u001b[39m\u001b[38;5;241m5\u001b[39m))\n\u001b[0;32m     13\u001b[0m     \u001b[38;5;28mprint\u001b[39m(\u001b[38;5;124m\"\u001b[39m\u001b[38;5;124mОтправлено!\u001b[39m\u001b[38;5;124m\"\u001b[39m)\n\u001b[0;32m     14\u001b[0m \u001b[38;5;28;01mexcept\u001b[39;00m asyncio\u001b[38;5;241m.\u001b[39mTimeoutError:\n",
      "\u001b[1;31mCancelledError\u001b[0m: "
     ]
    }
   ],
   "source": [
    "async def send_important_message():\n",
    "    print(\"Начало отправки важного сообщения\")\n",
    "    await asyncio.sleep(7)\n",
    "\n",
    "\n",
    "async def main():\n",
    "    task = asyncio.create_task(send_important_message())\n",
    "    try:\n",
    "        await asyncio.sleep(5)\n",
    "        task.cancel()\n",
    "        # Здесь используем shield() для гарантированной отправки важного сообщения\n",
    "        await asyncio.shield(asyncio.wait_for(task, timeout=5))\n",
    "        print(\"Отправлено!\")\n",
    "    except asyncio.TimeoutError:\n",
    "        print(\"Время на отправку важного сообщения истекло\")\n",
    "\n",
    "\n",
    "await main()"
   ]
  },
  {
   "cell_type": "markdown",
   "id": "66c023cd",
   "metadata": {
    "id": "66c023cd"
   },
   "source": [
    "### Функция `wait`"
   ]
  },
  {
   "cell_type": "markdown",
   "id": "ba958f19",
   "metadata": {
    "id": "ba958f19"
   },
   "source": [
    "Выполняет корутины до таймаута или до параметра функции `return_when`.\n",
    "\n",
    "Возваращает 2 множества корутин: выполненных и нет."
   ]
  },
  {
   "cell_type": "markdown",
   "id": "bdea1e08",
   "metadata": {
    "id": "bdea1e08"
   },
   "source": [
    "Параметр `return_when` в методе `wait()` определяет, когда метод должен вернуть результат в зависимости от состояния задач. `return_when` является одним из значений перечисления `asyncio.ReturnWhen`, и у него есть следующие возможные значения:\n",
    "\n",
    "- `FIRST_COMPLETED`: Метод вернет управление, когда хотя бы одна задача из переданного множества завершится (успешно или с исключением).\n",
    "\n",
    "- `FIRST_EXCEPTION`: Метод вернет управление, когда произойдет первое исключение в задаче. Это может быть полезно, если вы хотите получить первое исключение из множества задач.\n",
    "\n",
    "- `ALL_COMPLETED` (по умолчанию): Метод вернет управление, когда все задачи из переданного множества завершатся (успешно или с исключением)."
   ]
  },
  {
   "cell_type": "code",
   "execution_count": 91,
   "id": "6c07a068",
   "metadata": {
    "colab": {
     "base_uri": "https://localhost:8080/"
    },
    "id": "6c07a068",
    "outputId": "a41fae09-73b1-4ef7-85fa-d16b835fa3d4"
   },
   "outputs": [
    {
     "name": "stdout",
     "output_type": "stream",
     "text": [
      "hello ...\n",
      "{<Task finished name='Task-84' coro=<foo() done, defined at C:\\Users\\Alina\\AppData\\Local\\Temp\\ipykernel_24692\\1340159633.py:1> result=None>}\n",
      "{<Task pending name='Task-85' coro=<bar() running at C:\\Users\\Alina\\AppData\\Local\\Temp\\ipykernel_24692\\1340159633.py:7> wait_for=<Future pending cb=[Task.task_wakeup()]>>}\n"
     ]
    }
   ],
   "source": [
    "async def foo():\n",
    "    await asyncio.sleep(1)\n",
    "    print('hello ...')\n",
    "\n",
    "\n",
    "async def bar():\n",
    "    await asyncio.sleep(2)\n",
    "    print('... world!')\n",
    "\n",
    "\n",
    "print_hello = asyncio.create_task(foo())\n",
    "print_world = asyncio.create_task(bar())\n",
    "\n",
    "done, pending = await asyncio.wait({print_hello,print_world}, return_when=asyncio.FIRST_COMPLETED)\n",
    "\n",
    "print(done)\n",
    "print(pending)"
   ]
  },
  {
   "cell_type": "code",
   "execution_count": 93,
   "id": "548d4836",
   "metadata": {
    "colab": {
     "base_uri": "https://localhost:8080/"
    },
    "id": "548d4836",
    "outputId": "7bd2ec11-03bb-43f9-c86c-34ca39cd2bce"
   },
   "outputs": [
    {
     "name": "stdout",
     "output_type": "stream",
     "text": [
      "hello ...\n",
      "{<Task finished name='Task-87' coro=<foo() done, defined at C:\\Users\\Alina\\AppData\\Local\\Temp\\ipykernel_24692\\1340159633.py:1> result=None>}\n",
      "{<Task pending name='Task-88' coro=<bar() running at C:\\Users\\Alina\\AppData\\Local\\Temp\\ipykernel_24692\\1340159633.py:7> wait_for=<Future pending cb=[Task.task_wakeup()]>>}\n"
     ]
    }
   ],
   "source": [
    "print_hello = asyncio.create_task(foo())\n",
    "print_world = asyncio.create_task(bar())\n",
    "\n",
    "done, pending = await asyncio.wait({print_hello,print_world}, timeout=1.5)\n",
    "\n",
    "print(done)\n",
    "print(pending)"
   ]
  },
  {
   "cell_type": "code",
   "execution_count": 95,
   "id": "d15d08d7",
   "metadata": {
    "colab": {
     "base_uri": "https://localhost:8080/"
    },
    "id": "d15d08d7",
    "outputId": "fb2af4ff-656e-41b6-cd81-2b61fa8f2010"
   },
   "outputs": [
    {
     "name": "stdout",
     "output_type": "stream",
     "text": [
      "hello ...\n",
      "... world!\n",
      "{<Task finished name='Task-91' coro=<bar() done, defined at C:\\Users\\Alina\\AppData\\Local\\Temp\\ipykernel_24692\\1340159633.py:6> result=None>, <Task finished name='Task-90' coro=<foo() done, defined at C:\\Users\\Alina\\AppData\\Local\\Temp\\ipykernel_24692\\1340159633.py:1> result=None>}\n",
      "set()\n"
     ]
    }
   ],
   "source": [
    "print_hello = asyncio.create_task(foo())\n",
    "print_world = asyncio.create_task(bar())\n",
    "\n",
    "done, pending = await asyncio.wait({print_hello,print_world}, return_when=asyncio.ALL_COMPLETED)\n",
    "\n",
    "print(done)\n",
    "print(pending)"
   ]
  },
  {
   "cell_type": "markdown",
   "id": "b160a2f0",
   "metadata": {
    "id": "b160a2f0"
   },
   "source": [
    "**Замечание** - `wait` в отличии от `wait_for` не отменяет задачи."
   ]
  },
  {
   "cell_type": "code",
   "execution_count": 97,
   "id": "9e5cb5e0",
   "metadata": {
    "colab": {
     "base_uri": "https://localhost:8080/"
    },
    "id": "9e5cb5e0",
    "outputId": "fe5feb8d-88be-416c-f54b-b509a969cf97"
   },
   "outputs": [
    {
     "name": "stdout",
     "output_type": "stream",
     "text": [
      "Задача 1 завершилась\n",
      "Завершилась задача: Task-93\n"
     ]
    },
    {
     "name": "stderr",
     "output_type": "stream",
     "text": [
      "Task exception was never retrieved\n",
      "future: <Task finished name='Task-94' coro=<task2() done, defined at C:\\Users\\Alina\\AppData\\Local\\Temp\\ipykernel_24692\\1179653594.py:6> exception=ValueError('Исключение в задаче 2')>\n",
      "Traceback (most recent call last):\n",
      "  File \"C:\\Users\\Alina\\AppData\\Local\\Temp\\ipykernel_24692\\1179653594.py\", line 8, in task2\n",
      "    raise ValueError(\"Исключение в задаче 2\")\n",
      "ValueError: Исключение в задаче 2\n"
     ]
    }
   ],
   "source": [
    "async def task1():\n",
    "    await asyncio.sleep(2)\n",
    "    print(\"Задача 1 завершилась\")\n",
    "\n",
    "\n",
    "async def task2():\n",
    "    await asyncio.sleep(3)\n",
    "    raise ValueError(\"Исключение в задаче 2\")\n",
    "\n",
    "\n",
    "async def main():\n",
    "    tasks = {asyncio.create_task(task1()), asyncio.create_task(task2())}\n",
    "\n",
    "    # Вернуть управление после первой завершившейся задачи\n",
    "    done, _ = await asyncio.wait(tasks, return_when=asyncio.FIRST_COMPLETED)\n",
    "    for task in done:\n",
    "        print(f\"Завершилась задача: {task.get_name()}\")\n",
    "\n",
    "    # Вернуть управление после первого исключения\n",
    "    _, exceptions = await asyncio.wait(tasks, return_when=asyncio.FIRST_EXCEPTION)\n",
    "    for task, exception in exceptions:\n",
    "        print(f\"Исключение в задаче: {task.get_name()}, {exception}\")\n",
    "\n",
    "\n",
    "await main()"
   ]
  },
  {
   "cell_type": "markdown",
   "id": "LSTxd-2rSkv8",
   "metadata": {
    "id": "LSTxd-2rSkv8"
   },
   "source": [
    "## Проблемы"
   ]
  },
  {
   "cell_type": "markdown",
   "id": "2f19cf56",
   "metadata": {
    "id": "2f19cf56"
   },
   "source": [
    "Давайте рассмотрим какие проблемы часто возникают при многопоточном/асинхронном программировании"
   ]
  },
  {
   "cell_type": "markdown",
   "id": "27e09971",
   "metadata": {
    "id": "27e09971"
   },
   "source": [
    "1) Состояние гонки (**race condition**) возникает, когда два или более потока одновременно пытаются получить доступ к общей переменной."
   ]
  },
  {
   "cell_type": "markdown",
   "id": "1c9d6e44",
   "metadata": {
    "id": "1c9d6e44"
   },
   "source": [
    "2) Взаимная блокировка(**deadlock**) - ситуация, в которой один или несколько потоков ожидают события, которое никогда не произойдет. Наиболее распространенная ситуация - это когда каждый из двух потоков удерживает объект синхронизации, который нужен другому потоку, и у одного потока нет возможности освободить объект, который он удерживает, чтобы позволить другому потоку продолжить работу."
   ]
  },
  {
   "cell_type": "markdown",
   "id": "q6gQv1pwSosh",
   "metadata": {
    "id": "q6gQv1pwSosh"
   },
   "source": [
    "### Race Condition"
   ]
  },
  {
   "cell_type": "markdown",
   "id": "82808d87",
   "metadata": {
    "id": "82808d87"
   },
   "source": [
    "Рассмотрим такой пример на `race condition`:"
   ]
  },
  {
   "cell_type": "code",
   "execution_count": 99,
   "id": "1359551d",
   "metadata": {
    "colab": {
     "base_uri": "https://localhost:8080/"
    },
    "id": "1359551d",
    "outputId": "d100a99e-e71f-48cd-f0c2-c20bfb3d0026"
   },
   "outputs": [
    {
     "name": "stdout",
     "output_type": "stream",
     "text": [
      "1\n"
     ]
    }
   ],
   "source": [
    "async def increment_counter():\n",
    "    global counter\n",
    "    current = counter\n",
    "    await asyncio.sleep(0)\n",
    "    current += 1\n",
    "    await asyncio.sleep(0)\n",
    "    counter = current\n",
    "\n",
    "\n",
    "async def main():\n",
    "    global counter\n",
    "    counter = 0\n",
    "    coroutines = [increment_counter() for _ in range(10000)] # создаем корутины для обновления counter\n",
    "    await asyncio.gather(*coroutines) # запускаем их\n",
    "    print(counter)\n",
    "\n",
    "\n",
    "await main()"
   ]
  },
  {
   "cell_type": "markdown",
   "id": "23a93c26",
   "metadata": {
    "id": "23a93c26"
   },
   "source": [
    "Казалось мы должны были получить в результате 10000 (количетсов корутин), т.к каждая корутина должна была заинкрементить `counter` на 1. Но на выходе получили 1."
   ]
  },
  {
   "cell_type": "markdown",
   "id": "7qapir5MS3Vm",
   "metadata": {
    "id": "7qapir5MS3Vm"
   },
   "source": [
    "Давайте разберемся почему так получилось:\n",
    "- Мы могли бы ожидать, что каждая корутина будет выполняться как атомарный блок, но этого не произошло.\n",
    "- Каждая корутина приостанавливалась (как переключение контекста) два раза: один раз после копирования `counter` и один раз после увеличения `current`.\n",
    "- Первая корутина запускается и приостанавливается в первой точке, вторая корутина запускается и приостанавливается в первой точке и так далее. Это продолжается для всех 10 000 корутин.\n",
    "- Все они скопировали текущее значение `counter`, равное нулю, в `current`.\n",
    "- Первая корутина возобновляет работу и увеличивает `current` с нуля до единицы, а затем приостанавливает выполнение. Вторая корутина выполняет то же самое, и так далее для всех 10 000 корутин.\n",
    "- Все они имеют значение единицы в своих временных переменных.\n",
    "Наконец, первая корутина копирует `current` в `counter`. Вторая корутина выполняет то же самое и так далее для всех 10 000 корутин.\n",
    "- `counter` каждый раз устанавливается равной единице."
   ]
  },
  {
   "cell_type": "markdown",
   "id": "245c2c95",
   "metadata": {
    "id": "245c2c95"
   },
   "source": [
    "Для предотвращения гонки данных в нашем примере можно использовать один из примитивов синхронизации - мьютекс (`asyncio.Lock`):"
   ]
  },
  {
   "cell_type": "code",
   "execution_count": 101,
   "id": "aafdd343",
   "metadata": {
    "colab": {
     "base_uri": "https://localhost:8080/"
    },
    "id": "aafdd343",
    "outputId": "ab53b911-b33c-44db-8d91-37a463f016fa"
   },
   "outputs": [
    {
     "name": "stdout",
     "output_type": "stream",
     "text": [
      "10000\n"
     ]
    }
   ],
   "source": [
    "async def increment_counter(lock):\n",
    "    global counter\n",
    "    async with lock:\n",
    "        current = counter\n",
    "        await asyncio.sleep(0)\n",
    "        current += 1\n",
    "        await asyncio.sleep(0)\n",
    "        counter = current\n",
    "\n",
    "\n",
    "async def main():\n",
    "    global counter\n",
    "    counter = 0\n",
    "    lock = asyncio.Lock()\n",
    "    coroutines = [increment_counter(lock) for _ in range(10000)]  # создаем корутины для обновления counter\n",
    "    await asyncio.gather(*coroutines)  # запускаем их\n",
    "    print(counter)\n",
    "\n",
    "\n",
    "await main()"
   ]
  },
  {
   "cell_type": "markdown",
   "id": "f824d9a3",
   "metadata": {
    "id": "f824d9a3"
   },
   "source": [
    "Теперь видим, что у нас код правильно работает. Каждая корутина перед обновлением `counter` захватывает мьютекс с помощью оператора `async with`, что предотвращает гонку данных."
   ]
  },
  {
   "cell_type": "markdown",
   "id": "8c9dcf64",
   "metadata": {
    "id": "8c9dcf64"
   },
   "source": [
    "**Рекомендую** ознакомиться с этой замечательной [статьей](https://habr.com/ru/articles/767792/) на Хабре о примитивах синхронизации в Python."
   ]
  },
  {
   "cell_type": "markdown",
   "id": "Ojnqi89eTQi9",
   "metadata": {
    "id": "Ojnqi89eTQi9"
   },
   "source": [
    "### Deadlock"
   ]
  },
  {
   "cell_type": "markdown",
   "id": "d91b8ab9",
   "metadata": {
    "id": "d91b8ab9"
   },
   "source": [
    "Теперь давайте рассмотрим несколько примеров с `deadlock`:"
   ]
  },
  {
   "cell_type": "markdown",
   "id": "1b86b482",
   "metadata": {
    "id": "1b86b482"
   },
   "source": [
    "Пример с одной корутиной:"
   ]
  },
  {
   "cell_type": "code",
   "execution_count": 103,
   "id": "31c32566",
   "metadata": {
    "colab": {
     "base_uri": "https://localhost:8080/",
     "height": 356
    },
    "id": "31c32566",
    "outputId": "19243771-abdc-4b88-8af3-b1c7b45371dc"
   },
   "outputs": [
    {
     "name": "stdout",
     "output_type": "stream",
     "text": [
      "Task acquiring lock...\n",
      "Task acquiring lock again...\n"
     ]
    },
    {
     "ename": "CancelledError",
     "evalue": "",
     "output_type": "error",
     "traceback": [
      "\u001b[1;31m---------------------------------------------------------------------------\u001b[0m",
      "\u001b[1;31mCancelledError\u001b[0m                            Traceback (most recent call last)",
      "Cell \u001b[1;32mIn[103], line 18\u001b[0m\n\u001b[0;32m     14\u001b[0m     \u001b[38;5;66;03m# execute and await the coroutine\u001b[39;00m\n\u001b[0;32m     15\u001b[0m     \u001b[38;5;28;01mawait\u001b[39;00m task(lock)\n\u001b[1;32m---> 18\u001b[0m \u001b[38;5;28;01mawait\u001b[39;00m main()\n",
      "Cell \u001b[1;32mIn[103], line 15\u001b[0m, in \u001b[0;36mmain\u001b[1;34m()\u001b[0m\n\u001b[0;32m     13\u001b[0m lock \u001b[38;5;241m=\u001b[39m asyncio\u001b[38;5;241m.\u001b[39mLock()\n\u001b[0;32m     14\u001b[0m \u001b[38;5;66;03m# execute and await the coroutine\u001b[39;00m\n\u001b[1;32m---> 15\u001b[0m \u001b[38;5;28;01mawait\u001b[39;00m task(lock)\n",
      "Cell \u001b[1;32mIn[103], line 7\u001b[0m, in \u001b[0;36mtask\u001b[1;34m(lock)\u001b[0m\n\u001b[0;32m      5\u001b[0m \u001b[38;5;28mprint\u001b[39m(\u001b[38;5;124m'\u001b[39m\u001b[38;5;124mTask acquiring lock again...\u001b[39m\u001b[38;5;124m'\u001b[39m)\n\u001b[0;32m      6\u001b[0m \u001b[38;5;66;03m# acquire the lock\u001b[39;00m\n\u001b[1;32m----> 7\u001b[0m \u001b[38;5;28;01masync\u001b[39;00m \u001b[38;5;28;01mwith\u001b[39;00m lock:\n\u001b[0;32m      8\u001b[0m     \u001b[38;5;66;03m# will never get here\u001b[39;00m\n\u001b[0;32m      9\u001b[0m     \u001b[38;5;28;01mpass\u001b[39;00m\n",
      "File \u001b[1;32m~\\anaconda3\\Lib\\asyncio\\locks.py:14\u001b[0m, in \u001b[0;36m_ContextManagerMixin.__aenter__\u001b[1;34m(self)\u001b[0m\n\u001b[0;32m     13\u001b[0m \u001b[38;5;28;01masync\u001b[39;00m \u001b[38;5;28;01mdef\u001b[39;00m \u001b[38;5;21m__aenter__\u001b[39m(\u001b[38;5;28mself\u001b[39m):\n\u001b[1;32m---> 14\u001b[0m     \u001b[38;5;28;01mawait\u001b[39;00m \u001b[38;5;28mself\u001b[39m\u001b[38;5;241m.\u001b[39macquire()\n\u001b[0;32m     15\u001b[0m     \u001b[38;5;66;03m# We have no use for the \"as ...\"  clause in the with\u001b[39;00m\n\u001b[0;32m     16\u001b[0m     \u001b[38;5;66;03m# statement for locks.\u001b[39;00m\n\u001b[0;32m     17\u001b[0m     \u001b[38;5;28;01mreturn\u001b[39;00m \u001b[38;5;28;01mNone\u001b[39;00m\n",
      "File \u001b[1;32m~\\anaconda3\\Lib\\asyncio\\locks.py:113\u001b[0m, in \u001b[0;36mLock.acquire\u001b[1;34m(self)\u001b[0m\n\u001b[0;32m    111\u001b[0m \u001b[38;5;28;01mtry\u001b[39;00m:\n\u001b[0;32m    112\u001b[0m     \u001b[38;5;28;01mtry\u001b[39;00m:\n\u001b[1;32m--> 113\u001b[0m         \u001b[38;5;28;01mawait\u001b[39;00m fut\n\u001b[0;32m    114\u001b[0m     \u001b[38;5;28;01mfinally\u001b[39;00m:\n\u001b[0;32m    115\u001b[0m         \u001b[38;5;28mself\u001b[39m\u001b[38;5;241m.\u001b[39m_waiters\u001b[38;5;241m.\u001b[39mremove(fut)\n",
      "\u001b[1;31mCancelledError\u001b[0m: "
     ]
    }
   ],
   "source": [
    "async def task(lock):\n",
    "    print('Task acquiring lock...')\n",
    "    # acquire the lock\n",
    "    async with lock:\n",
    "        print('Task acquiring lock again...')\n",
    "        # acquire the lock\n",
    "        async with lock:\n",
    "            # will never get here\n",
    "            pass\n",
    "\n",
    "async def main():\n",
    "    # create the shared lock\n",
    "    lock = asyncio.Lock()\n",
    "    # execute and await the coroutine\n",
    "    await task(lock)\n",
    "\n",
    "\n",
    "await main()"
   ]
  },
  {
   "cell_type": "markdown",
   "id": "48c47be0",
   "metadata": {
    "id": "48c47be0"
   },
   "source": [
    "В приведенном примере возможен deadlock, поскольку корутина `task()` пытается дважды захватить один и тот же асинхронный мьютекс."
   ]
  },
  {
   "cell_type": "markdown",
   "id": "f1ec7bdd",
   "metadata": {
    "id": "f1ec7bdd"
   },
   "source": [
    "Пример с несколькими корутинами:"
   ]
  },
  {
   "cell_type": "code",
   "execution_count": null,
   "id": "9ced4a26",
   "metadata": {
    "colab": {
     "base_uri": "https://localhost:8080/",
     "height": 478
    },
    "id": "9ced4a26",
    "outputId": "f14954d7-9e99-453d-ff64-2d6f0f2b50fb"
   },
   "outputs": [],
   "source": [
    "async def task(number, lock1, lock2):\n",
    "    print(f'Task {number} acquiring lock 1...')\n",
    "    async with lock1:\n",
    "        await asyncio.sleep(1)\n",
    "        print(f'Task {number} acquiring lock 2...')\n",
    "        async with lock2:\n",
    "            pass\n",
    "\n",
    "\n",
    "async def main():\n",
    "    lock1 = asyncio.Lock()\n",
    "    lock2 = asyncio.Lock()\n",
    "    coro1 = task(1, lock1, lock2)\n",
    "    coro2 = task(2, lock2, lock1)\n",
    "    await asyncio.gather(coro1, coro2)\n",
    "\n",
    "await main()"
   ]
  },
  {
   "cell_type": "markdown",
   "id": "742568a5",
   "metadata": {
    "id": "742568a5"
   },
   "source": [
    "Пример когда не удается снять блокировку"
   ]
  },
  {
   "cell_type": "code",
   "execution_count": 107,
   "id": "028bb72e",
   "metadata": {
    "id": "028bb72e"
   },
   "outputs": [
    {
     "name": "stderr",
     "output_type": "stream",
     "text": [
      "Task exception was never retrieved\n",
      "future: <Task finished name='Task-20099' coro=<task() done, defined at C:\\Users\\Alina\\AppData\\Local\\Temp\\ipykernel_24692\\1887123863.py:1> exception=Exception('Something bad happened')>\n",
      "Traceback (most recent call last):\n",
      "  File \"C:\\Users\\Alina\\AppData\\Local\\Temp\\ipykernel_24692\\1887123863.py\", line 6, in task\n",
      "    raise Exception('Something bad happened')\n",
      "Exception: Something bad happened\n"
     ]
    },
    {
     "name": "stdout",
     "output_type": "stream",
     "text": [
      "Task acquiring lock...\n",
      "Main acquiring lock...\n"
     ]
    },
    {
     "ename": "CancelledError",
     "evalue": "",
     "output_type": "error",
     "traceback": [
      "\u001b[1;31m---------------------------------------------------------------------------\u001b[0m",
      "\u001b[1;31mCancelledError\u001b[0m                            Traceback (most recent call last)",
      "Cell \u001b[1;32mIn[107], line 26\u001b[0m\n\u001b[0;32m     22\u001b[0m     \u001b[38;5;66;03m# do something...\u001b[39;00m\n\u001b[0;32m     23\u001b[0m     \u001b[38;5;66;03m# release lock (never gets here)\u001b[39;00m\n\u001b[0;32m     24\u001b[0m     lock\u001b[38;5;241m.\u001b[39mrelease()\n\u001b[1;32m---> 26\u001b[0m \u001b[38;5;28;01mawait\u001b[39;00m main()\n",
      "Cell \u001b[1;32mIn[107], line 21\u001b[0m, in \u001b[0;36mmain\u001b[1;34m()\u001b[0m\n\u001b[0;32m     19\u001b[0m \u001b[38;5;66;03m# acquire the lock\u001b[39;00m\n\u001b[0;32m     20\u001b[0m \u001b[38;5;28mprint\u001b[39m(\u001b[38;5;124m'\u001b[39m\u001b[38;5;124mMain acquiring lock...\u001b[39m\u001b[38;5;124m'\u001b[39m)\n\u001b[1;32m---> 21\u001b[0m \u001b[38;5;28;01mawait\u001b[39;00m lock\u001b[38;5;241m.\u001b[39macquire()\n\u001b[0;32m     22\u001b[0m \u001b[38;5;66;03m# do something...\u001b[39;00m\n\u001b[0;32m     23\u001b[0m \u001b[38;5;66;03m# release lock (never gets here)\u001b[39;00m\n\u001b[0;32m     24\u001b[0m lock\u001b[38;5;241m.\u001b[39mrelease()\n",
      "File \u001b[1;32m~\\anaconda3\\Lib\\asyncio\\locks.py:113\u001b[0m, in \u001b[0;36mLock.acquire\u001b[1;34m(self)\u001b[0m\n\u001b[0;32m    111\u001b[0m \u001b[38;5;28;01mtry\u001b[39;00m:\n\u001b[0;32m    112\u001b[0m     \u001b[38;5;28;01mtry\u001b[39;00m:\n\u001b[1;32m--> 113\u001b[0m         \u001b[38;5;28;01mawait\u001b[39;00m fut\n\u001b[0;32m    114\u001b[0m     \u001b[38;5;28;01mfinally\u001b[39;00m:\n\u001b[0;32m    115\u001b[0m         \u001b[38;5;28mself\u001b[39m\u001b[38;5;241m.\u001b[39m_waiters\u001b[38;5;241m.\u001b[39mremove(fut)\n",
      "\u001b[1;31mCancelledError\u001b[0m: "
     ]
    }
   ],
   "source": [
    "async def task(lock):\n",
    "    # acquire the lock\n",
    "    print('Task acquiring lock...')\n",
    "    await lock.acquire()\n",
    "    # fail\n",
    "    raise Exception('Something bad happened')\n",
    "    # release the lock (never gets here)\n",
    "    print('Task releasing lock...')\n",
    "    lock.release()\n",
    "\n",
    "\n",
    "async def main():\n",
    "    # create the mutex lock\n",
    "    lock = asyncio.Lock()\n",
    "    # create and start the new task\n",
    "    asyncio.create_task(task(lock))\n",
    "    # wait a moment\n",
    "    await asyncio.sleep(1)\n",
    "    # acquire the lock\n",
    "    print('Main acquiring lock...')\n",
    "    await lock.acquire()\n",
    "    # do something...\n",
    "    # release lock (never gets here)\n",
    "    lock.release()\n",
    "\n",
    "await main()"
   ]
  },
  {
   "cell_type": "markdown",
   "id": "e35fa194",
   "metadata": {
    "id": "e35fa194"
   },
   "source": [
    "Теперь рассмотрим некоторые из важных рекомендаций по предотвращению `deadlock`."
   ]
  },
  {
   "cell_type": "markdown",
   "id": "a9430558",
   "metadata": {
    "id": "a9430558"
   },
   "source": [
    "1) **Context Managers**\n",
    "\n",
    "По возможности получайте и снимайте блокировку с помощью контекстного менеджера.\n",
    "Блокировки могут быть получены вручную с помощью вызова функции `acquire()` в начале критической секции, за которым следует вызов функции `release()` в конце критической секции.\n",
    "\n",
    "По возможности следует избегать такого подхода:\n",
    "``` python\n",
    "# acquire the lock manually\n",
    "lock.acquire()\n",
    "# critical section...\n",
    "# release the lock\n",
    "lock.release()\n",
    "```"
   ]
  },
  {
   "cell_type": "markdown",
   "id": "b530373d",
   "metadata": {
    "id": "b530373d"
   },
   "source": [
    "Традиционно рекомендовалось всегда устанавливать и снимать блокировку в структуре `try-finally`.\n",
    "Блокировка получена, критическая секция выполняется в блоке try, и блокировка всегда снимается в блоке finally. Например:\n",
    "```python\n",
    "# acquire the lock\n",
    "lock.acquire()\n",
    "try:\n",
    "\t# critical section...\n",
    "finally:\n",
    "\t# always release the lock\n",
    "\tlock.release()\n",
    "```\n",
    "Но тех пор это было заменено интерфейсом context manager, который обеспечивает то же самое с меньшим количеством кода.\n",
    "```python\n",
    "# acquire the lock\n",
    "with lock:\n",
    "\t# critical section...\n",
    "```"
   ]
  },
  {
   "cell_type": "markdown",
   "id": "fe796bba",
   "metadata": {
    "id": "fe796bba"
   },
   "source": [
    "2) **Используйте тайм-ауты при ожидании**\n",
    "\n",
    "Всегда используйте тайм-аут при ожидании корутины или задачи.\n",
    "Многие вызовы, выполняемые с помощью примитивов синхронизации, могут блокироваться.\n",
    "Например:\n",
    "Ожидание получения `asyncio.Lock` с помощью `acquire()`.\n",
    "Ожидание завершения корутины с помощью выражения `await`.\n",
    "Ожидает получения уведомления о `asyncio.Condition` через `wait()`.\n",
    "\n",
    "В отличие от потоков и процессов, блокирующие вызовы примитивов синхронизации `asyncio` не принимают аргумент “тайм-аут”. Вместо этого мы должны использовать функцию `asyncio.wait_for()` для ожидания доступной (корутины или задачи) с тайм-аутом. Например:\n",
    "```python\n",
    "try:\n",
    "    await asyncio.wait_for(lock.acquire(), timeout=10)\n",
    "except asyncio.TimeoutError:\n",
    "```\n",
    "Это позволит ожидающей корутине прекратить ожидание по истечении установленного срока, а затем попытаться исправить ситуацию, например, сообщить об ошибке, принудительно завершить работу и т.д."
   ]
  },
  {
   "cell_type": "markdown",
   "id": "76107146",
   "metadata": {
    "id": "76107146"
   },
   "source": [
    "3) **Устанавливайте блокировки в одном и том же порядке по всему приложению, где это возможно.**"
   ]
  },
  {
   "cell_type": "markdown",
   "id": "d46e3f4c",
   "metadata": {
    "id": "d46e3f4c"
   },
   "source": [
    "## Примитивы синхронизации в asyncio"
   ]
  },
  {
   "cell_type": "markdown",
   "id": "7217b7ea",
   "metadata": {
    "id": "7217b7ea"
   },
   "source": [
    "При решении проблемы `race condition` на примере выше мы использовали асинхронный мьютекс, который является одним из примитивов синхронизации. Давайте более подробно расскажем о них."
   ]
  },
  {
   "cell_type": "markdown",
   "id": "d359ec43",
   "metadata": {
    "id": "d359ec43"
   },
   "source": [
    "Некоторые ошибки, встречающиеся в многопоточных и многопроцессных приложениях, исключены в силу однопоточной природы `asyncio`, но это не совсем так. Вам редко потребуется прибегать к синхронизации при работе с `asyncio`, однако остаются ситуации, когда с этим нужно что‑то делать. Примитивы синхронизации `asyncio` могут помочь предотвратить ошибки, свойственные только модели однопоточной конкурентности."
   ]
  },
  {
   "cell_type": "markdown",
   "id": "004c3335",
   "metadata": {
    "id": "004c3335"
   },
   "source": [
    "### `asyncio.Semaphore`"
   ]
  },
  {
   "cell_type": "markdown",
   "id": "bd7bbe3d",
   "metadata": {
    "id": "bd7bbe3d"
   },
   "source": [
    "Иногда нам необходимо получить доступ к ресурсу с ограниченным количеством одновременных запросов. Например, конкретная база данных допускает одновременное открытие только пяти соединений. Или, в зависимости от типа подписки, веб-интерфейс поддерживает только определенное количество одновременных запросов. В этом случае необходимо использовать `asyncio.Semaphore`."
   ]
  },
  {
   "cell_type": "markdown",
   "id": "FcQ4HxltYwya",
   "metadata": {
    "id": "FcQ4HxltYwya"
   },
   "source": [
    "`asyncio.Semaphore` использует внутренний счетчик, который уменьшается на единицу при каждом получении блокировки `Semaphore`, пока не достигнет нуля.\n",
    "\n",
    "Когда счетчик `asyncio.Semaphore` равен нулю, другие задачи, которым нужна блокировка, будут ждать. При вызове метода `release` после выполнения других задач счетчик будет увеличен на единицу. Ожидающие задачи могут продолжить выполнение."
   ]
  },
  {
   "cell_type": "code",
   "execution_count": 109,
   "id": "6bee17e8",
   "metadata": {
    "colab": {
     "base_uri": "https://localhost:8080/"
    },
    "id": "6bee17e8",
    "outputId": "b47ab189-2fcd-4ebf-8498-74ce8272f41c"
   },
   "outputs": [
    {
     "name": "stdout",
     "output_type": "stream",
     "text": [
      "Waiting to acquire semaphore...\n",
      "Semaphore acquired, requesting...\n",
      "Waiting to acquire semaphore...\n",
      "Semaphore acquired, requesting...\n",
      "Waiting to acquire semaphore...\n",
      "Semaphore acquired, requesting...\n",
      "Waiting to acquire semaphore...\n",
      "Semaphore acquired, requesting...\n",
      "Waiting to acquire semaphore...\n",
      "Semaphore acquired, requesting...\n",
      "Waiting to acquire semaphore...\n",
      "Semaphore acquired, requesting...\n",
      "Waiting to acquire semaphore...\n",
      "Semaphore acquired, requesting...\n",
      "Waiting to acquire semaphore...\n",
      "Semaphore acquired, requesting...\n",
      "Waiting to acquire semaphore...\n",
      "Semaphore acquired, requesting...\n",
      "Waiting to acquire semaphore...\n",
      "Semaphore acquired, requesting...\n",
      "Waiting to acquire semaphore...\n",
      "Waiting to acquire semaphore...\n",
      "Waiting to acquire semaphore...\n",
      "Waiting to acquire semaphore...\n",
      "Waiting to acquire semaphore...\n",
      "Waiting to acquire semaphore...\n",
      "Waiting to acquire semaphore...\n",
      "Waiting to acquire semaphore...\n",
      "Waiting to acquire semaphore...\n",
      "Waiting to acquire semaphore...\n",
      "Waiting to acquire semaphore...\n",
      "Waiting to acquire semaphore...\n",
      "Waiting to acquire semaphore...\n",
      "Waiting to acquire semaphore...\n",
      "Waiting to acquire semaphore...\n",
      "Waiting to acquire semaphore...\n",
      "Waiting to acquire semaphore...\n",
      "Waiting to acquire semaphore...\n",
      "Waiting to acquire semaphore...\n",
      "Waiting to acquire semaphore...\n",
      "Waiting to acquire semaphore...\n",
      "Waiting to acquire semaphore...\n",
      "Waiting to acquire semaphore...\n",
      "Waiting to acquire semaphore...\n",
      "Waiting to acquire semaphore...\n",
      "Waiting to acquire semaphore...\n",
      "Waiting to acquire semaphore...\n",
      "Waiting to acquire semaphore...\n",
      "Waiting to acquire semaphore...\n",
      "Waiting to acquire semaphore...\n",
      "Waiting to acquire semaphore...\n",
      "Waiting to acquire semaphore...\n",
      "Waiting to acquire semaphore...\n",
      "Waiting to acquire semaphore...\n",
      "Waiting to acquire semaphore...\n",
      "Waiting to acquire semaphore...\n",
      "Waiting to acquire semaphore...\n",
      "Waiting to acquire semaphore...\n",
      "Waiting to acquire semaphore...\n",
      "Waiting to acquire semaphore...\n",
      "Waiting to acquire semaphore...\n",
      "Waiting to acquire semaphore...\n",
      "Waiting to acquire semaphore...\n",
      "Waiting to acquire semaphore...\n",
      "Waiting to acquire semaphore...\n",
      "Waiting to acquire semaphore...\n",
      "Waiting to acquire semaphore...\n",
      "Waiting to acquire semaphore...\n",
      "Waiting to acquire semaphore...\n",
      "Waiting to acquire semaphore...\n",
      "Waiting to acquire semaphore...\n",
      "Waiting to acquire semaphore...\n",
      "Waiting to acquire semaphore...\n",
      "Waiting to acquire semaphore...\n",
      "Waiting to acquire semaphore...\n",
      "Waiting to acquire semaphore...\n",
      "Waiting to acquire semaphore...\n",
      "Waiting to acquire semaphore...\n",
      "Waiting to acquire semaphore...\n",
      "Waiting to acquire semaphore...\n",
      "Waiting to acquire semaphore...\n",
      "Waiting to acquire semaphore...\n",
      "Waiting to acquire semaphore...\n",
      "Waiting to acquire semaphore...\n",
      "Waiting to acquire semaphore...\n",
      "Waiting to acquire semaphore...\n",
      "Waiting to acquire semaphore...\n",
      "Waiting to acquire semaphore...\n",
      "Waiting to acquire semaphore...\n",
      "Waiting to acquire semaphore...\n",
      "Waiting to acquire semaphore...\n",
      "Waiting to acquire semaphore...\n",
      "Waiting to acquire semaphore...\n",
      "Waiting to acquire semaphore...\n",
      "Waiting to acquire semaphore...\n",
      "Waiting to acquire semaphore...\n",
      "Waiting to acquire semaphore...\n",
      "Waiting to acquire semaphore...\n",
      "Waiting to acquire semaphore...\n",
      "Waiting to acquire semaphore...\n",
      "Waiting to acquire semaphore...\n",
      "Waiting to acquire semaphore...\n",
      "Waiting to acquire semaphore...\n",
      "Waiting to acquire semaphore...\n",
      "Waiting to acquire semaphore...\n",
      "Waiting to acquire semaphore...\n",
      "Waiting to acquire semaphore...\n",
      "Waiting to acquire semaphore...\n",
      "Waiting to acquire semaphore...\n",
      "Waiting to acquire semaphore...\n",
      "Finishing requesting\n",
      "Semaphore acquired, requesting...\n",
      "Finishing requesting\n",
      "Semaphore acquired, requesting...\n",
      "Finishing requesting\n",
      "Semaphore acquired, requesting...\n",
      "Finishing requesting\n",
      "Semaphore acquired, requesting...\n",
      "Finishing requesting\n",
      "Semaphore acquired, requesting...\n",
      "Finishing requesting\n",
      "Semaphore acquired, requesting...\n",
      "Finishing requesting\n",
      "Finishing requesting\n",
      "Semaphore acquired, requesting...\n",
      "Semaphore acquired, requesting...\n",
      "Finishing requesting\n",
      "Semaphore acquired, requesting...\n",
      "Finishing requesting\n",
      "Semaphore acquired, requesting...\n",
      "Finishing requesting\n",
      "Semaphore acquired, requesting...\n",
      "Finishing requesting\n",
      "Semaphore acquired, requesting...\n",
      "Finishing requesting\n",
      "Semaphore acquired, requesting...\n",
      "Finishing requesting\n",
      "Semaphore acquired, requesting...\n",
      "Finishing requesting\n",
      "Semaphore acquired, requesting...\n",
      "Finishing requesting\n",
      "Semaphore acquired, requesting...\n",
      "Finishing requesting\n",
      "Semaphore acquired, requesting...\n",
      "Finishing requesting\n",
      "Semaphore acquired, requesting...\n",
      "Finishing requesting\n",
      "Semaphore acquired, requesting...\n",
      "Finishing requesting\n",
      "Semaphore acquired, requesting...\n",
      "Finishing requesting\n",
      "Semaphore acquired, requesting...\n",
      "Finishing requesting\n",
      "Semaphore acquired, requesting...\n",
      "Finishing requesting\n",
      "Semaphore acquired, requesting...\n",
      "Finishing requesting\n",
      "Semaphore acquired, requesting...\n",
      "Finishing requesting\n",
      "Semaphore acquired, requesting...\n",
      "Finishing requesting\n",
      "Semaphore acquired, requesting...\n",
      "Finishing requesting\n",
      "Semaphore acquired, requesting...\n",
      "Finishing requesting\n",
      "Semaphore acquired, requesting...\n",
      "Finishing requesting\n",
      "Semaphore acquired, requesting...\n",
      "Finishing requesting\n",
      "Semaphore acquired, requesting...\n",
      "Finishing requesting\n",
      "Semaphore acquired, requesting...\n",
      "Finishing requesting\n",
      "Semaphore acquired, requesting...\n",
      "Finishing requesting\n",
      "Semaphore acquired, requesting...\n",
      "Finishing requesting\n",
      "Finishing requesting\n",
      "Semaphore acquired, requesting...\n",
      "Semaphore acquired, requesting...\n",
      "Finishing requesting\n",
      "Semaphore acquired, requesting...\n",
      "Finishing requesting\n",
      "Semaphore acquired, requesting...\n",
      "Finishing requesting\n",
      "Semaphore acquired, requesting...\n",
      "Finishing requesting\n",
      "Semaphore acquired, requesting...\n",
      "Finishing requesting\n",
      "Semaphore acquired, requesting...\n",
      "Finishing requesting\n",
      "Semaphore acquired, requesting...\n",
      "Finishing requesting\n",
      "Semaphore acquired, requesting...\n",
      "Finishing requesting\n",
      "Semaphore acquired, requesting...\n",
      "Finishing requesting\n",
      "Semaphore acquired, requesting...\n",
      "Finishing requesting\n",
      "Semaphore acquired, requesting...\n",
      "Finishing requesting\n",
      "Semaphore acquired, requesting...\n",
      "Finishing requesting\n",
      "Semaphore acquired, requesting...\n",
      "Finishing requesting\n",
      "Semaphore acquired, requesting...\n",
      "Finishing requesting\n",
      "Semaphore acquired, requesting...\n",
      "Finishing requesting\n",
      "Semaphore acquired, requesting...\n",
      "Finishing requesting\n",
      "Semaphore acquired, requesting...\n",
      "Finishing requesting\n",
      "Semaphore acquired, requesting...\n",
      "Finishing requesting\n",
      "Semaphore acquired, requesting...\n",
      "Finishing requesting\n",
      "Semaphore acquired, requesting...\n",
      "Finishing requesting\n",
      "Semaphore acquired, requesting...\n",
      "Finishing requesting\n",
      "Semaphore acquired, requesting...\n",
      "Finishing requesting\n",
      "Semaphore acquired, requesting...\n",
      "Finishing requesting\n",
      "Semaphore acquired, requesting...\n",
      "Finishing requesting\n",
      "Semaphore acquired, requesting...\n",
      "Finishing requesting\n",
      "Semaphore acquired, requesting...\n",
      "Finishing requesting\n",
      "Semaphore acquired, requesting...\n",
      "Finishing requesting\n",
      "Semaphore acquired, requesting...\n",
      "Finishing requesting\n",
      "Semaphore acquired, requesting...\n",
      "Finishing requesting\n",
      "Semaphore acquired, requesting...\n",
      "Finishing requesting\n",
      "Semaphore acquired, requesting...\n",
      "Finishing requesting\n",
      "Semaphore acquired, requesting...\n",
      "Finishing requesting\n",
      "Finishing requesting\n",
      "Finishing requesting\n",
      "Semaphore acquired, requesting...\n",
      "Semaphore acquired, requesting...\n",
      "Semaphore acquired, requesting...\n",
      "Finishing requesting\n",
      "Semaphore acquired, requesting...\n",
      "Finishing requesting\n",
      "Semaphore acquired, requesting...\n",
      "Finishing requesting\n",
      "Finishing requesting\n",
      "Semaphore acquired, requesting...\n",
      "Semaphore acquired, requesting...\n",
      "Finishing requesting\n",
      "Semaphore acquired, requesting...\n",
      "Finishing requesting\n",
      "Semaphore acquired, requesting...\n",
      "Finishing requesting\n",
      "Semaphore acquired, requesting...\n",
      "Finishing requesting\n",
      "Semaphore acquired, requesting...\n",
      "Finishing requesting\n",
      "Finishing requesting\n",
      "Semaphore acquired, requesting...\n",
      "Semaphore acquired, requesting...\n",
      "Finishing requesting\n",
      "Semaphore acquired, requesting...\n",
      "Finishing requesting\n",
      "Semaphore acquired, requesting...\n",
      "Finishing requesting\n",
      "Semaphore acquired, requesting...\n",
      "Finishing requesting\n",
      "Semaphore acquired, requesting...\n",
      "Finishing requesting\n",
      "Semaphore acquired, requesting...\n",
      "Finishing requesting\n",
      "Semaphore acquired, requesting...\n",
      "Finishing requesting\n",
      "Semaphore acquired, requesting...\n",
      "Finishing requesting\n",
      "Semaphore acquired, requesting...\n",
      "Finishing requesting\n",
      "Semaphore acquired, requesting...\n",
      "Finishing requesting\n",
      "Semaphore acquired, requesting...\n",
      "Finishing requesting\n",
      "Semaphore acquired, requesting...\n",
      "Finishing requesting\n",
      "Finishing requesting\n",
      "Finishing requesting\n",
      "Finishing requesting\n",
      "Finishing requesting\n",
      "Finishing requesting\n",
      "Finishing requesting\n",
      "Finishing requesting\n",
      "Finishing requesting\n",
      "Finishing requesting\n"
     ]
    }
   ],
   "source": [
    "from asyncio import Semaphore\n",
    "from aiohttp import ClientSession\n",
    "\n",
    "\n",
    "async def get_url(url: str, session: ClientSession, semaphore: Semaphore):\n",
    "    print('Waiting to acquire semaphore...')\n",
    "    async with semaphore:\n",
    "        print('Semaphore acquired, requesting...')\n",
    "        response = await session.get(url)\n",
    "        print('Finishing requesting')\n",
    "        return response.status\n",
    "\n",
    "\n",
    "async def main():\n",
    "    # Хотя мы запускаем 100 задач, одновременно будут выполняться только 10 задач.\n",
    "    semaphore: Semaphore = Semaphore(10)\n",
    "    async with ClientSession() as session:\n",
    "        tasks = [asyncio.create_task(get_url(\"https://www.example.com\", session, semaphore))\n",
    "                 for _ in range(100)]\n",
    "        await asyncio.gather(*tasks)\n",
    "\n",
    "await main()"
   ]
  },
  {
   "cell_type": "markdown",
   "id": "3eccd042",
   "metadata": {
    "id": "3eccd042"
   },
   "source": [
    "### `asyncio.Event`"
   ]
  },
  {
   "cell_type": "markdown",
   "id": "268b7ed8",
   "metadata": {
    "id": "268b7ed8"
   },
   "source": [
    "`Event` поддерживает внутреннюю булеву переменную в качестве флага. `asyncio.Event` имеет три общих метода: `wait`, `set` и `clear`.\n"
   ]
  },
  {
   "cell_type": "markdown",
   "id": "jQuUo1B9Y8kN",
   "metadata": {
    "id": "jQuUo1B9Y8kN"
   },
   "source": [
    "Когда задача добегает до `event.wait()`, она находится в состоянии ожидания. В этот момент можно вызвать `event.set()`, чтобы установить внутренний маркер в `True`, и все ожидающие задачи могут продолжить выполнение."
   ]
  },
  {
   "cell_type": "markdown",
   "id": "nEINnJc7Y-Lh",
   "metadata": {
    "id": "nEINnJc7Y-Lh"
   },
   "source": [
    "Когда задача завершится, необходимо вызвать метод `event.clear()`, чтобы сбросить значение маркера в `False`, вернуть событие в исходное состояние, и можно продолжать использовать событие в следующий раз."
   ]
  },
  {
   "cell_type": "code",
   "execution_count": 111,
   "id": "f6425d9f",
   "metadata": {
    "id": "f6425d9f"
   },
   "outputs": [
    {
     "name": "stdout",
     "output_type": "stream",
     "text": [
      "coro1: Waiting for the event to be set\n",
      "coro2: Setting the event\n",
      "coro1: Event has been set\n"
     ]
    }
   ],
   "source": [
    "async def coro1(event):\n",
    "    print(\"coro1: Waiting for the event to be set\")\n",
    "    await event.wait()  # Ждем, пока событие не будет установлено\n",
    "    print(\"coro1: Event has been set\")\n",
    "\n",
    "async def coro2(event):\n",
    "    await asyncio.sleep(10)  # Подождем 2 секунды\n",
    "    print(\"coro2: Setting the event\")\n",
    "    event.set()  # Устанавливаем событие\n",
    "\n",
    "async def main():\n",
    "    # Создаем объект события\n",
    "    event = asyncio.Event()\n",
    "\n",
    "    # Запускаем два таска\n",
    "    task1 = asyncio.create_task(coro1(event))\n",
    "    task2 = asyncio.create_task(coro2(event))\n",
    "\n",
    "    # Ждем, пока оба таска завершат выполнение\n",
    "    await asyncio.gather(task1, task2)\n",
    "\n",
    "await main()"
   ]
  },
  {
   "cell_type": "markdown",
   "id": "f3bedd91",
   "metadata": {
    "id": "f3bedd91"
   },
   "source": [
    "### `asyncio.Condition`"
   ]
  },
  {
   "cell_type": "markdown",
   "id": "debece46",
   "metadata": {
    "id": "debece46"
   },
   "source": [
    "`asyncio.Event` хорош, когда нужно просто уведомить о том, что произошло нечто, но бывают ситуации посложнее. Допустим, что по событию требуется получить доступ к разделяемому ресурсу, т.е. захватить блокировку. Или что перед продолжением работы нужно дождаться более сложного сочетания условий, чем простое событие. Или что нужно разбудить не все задачи, а только определенное число. Во всех этих случаях может выручить `asyncio.Condition`."
   ]
  },
  {
   "cell_type": "markdown",
   "id": "xqvTxdr1ZJ8l",
   "metadata": {
    "id": "xqvTxdr1ZJ8l"
   },
   "source": [
    "`asyncio.Condition` похож на `asyncio.Lock` и `asyncio.Event` вместе взятые. Сначала мы используем `async with`, чтобы обеспечить получение блокировки условия, а затем вызываем `condition.wait()`, чтобы освободить блокировку условия и заставить задачу временно подождать."
   ]
  },
  {
   "cell_type": "markdown",
   "id": "iL30yO2qZLlh",
   "metadata": {
    "id": "iL30yO2qZLlh"
   },
   "source": [
    "Когда `condition.wait()` проходит, мы возвращаем блокировку условия, чтобы гарантировать одновременное выполнение только одной задачи. Пока задача временно освобождает блокировку и переходит в состояние ожидания по методу `condition.wait()`, другая задача может либо асинхронизироваться с блокировкой условия и уведомить все ожидающие задачи о необходимости продолжить выполнение по методу `condition.notify_all()`."
   ]
  },
  {
   "cell_type": "code",
   "execution_count": 113,
   "id": "7d922322",
   "metadata": {
    "id": "7d922322"
   },
   "outputs": [
    {
     "name": "stdout",
     "output_type": "stream",
     "text": [
      "do_work: захватываю блокировку условия...\n",
      "do_work: Блокировка захвачена, освобождаю и жду выполнения условия...\n",
      "do_work: захватываю блокировку условия...\n",
      "do_work: Блокировка захвачена, освобождаю и жду выполнения условия...\n",
      "fire_event: захватываю блокировку условия...\n",
      "fire_event: Блокировка захвачена, уведомляю всех исполнителей\n",
      "fire_event: Исполнители уведомлены, освобождаю блокировку.\n",
      "do_work: Условие выполнено, вновь захватываю блокировку и начинаю работать...\n",
      "do_work: Работа закончена, блокировка освобождена.\n",
      "do_work: Условие выполнено, вновь захватываю блокировку и начинаю работать...\n",
      "do_work: Работа закончена, блокировка освобождена.\n"
     ]
    }
   ],
   "source": [
    "from asyncio import Condition\n",
    "\n",
    "\n",
    "async def do_work(condition: Condition):\n",
    "    print(\"do_work: захватываю блокировку условия...\")\n",
    "    async with condition:\n",
    "        print(\"do_work: Блокировка захвачена, освобождаю и жду выполнения условия...\")\n",
    "        await condition.wait()\n",
    "        print(\"do_work: Условие выполнено, вновь захватываю блокировку и начинаю работать...\")\n",
    "        await asyncio.sleep(1)\n",
    "        print(\"do_work: Работа закончена, блокировка освобождена.\")\n",
    "\n",
    "\n",
    "async def fire_event(condition: Condition):\n",
    "    await asyncio.sleep(5)\n",
    "    print(\"fire_event: захватываю блокировку условия...\")\n",
    "    async with condition:\n",
    "        print(\"fire_event: Блокировка захвачена, уведомляю всех исполнителей\")\n",
    "        condition.notify_all()\n",
    "        print(\"fire_event: Исполнители уведомлены, освобождаю блокировку.\")\n",
    "\n",
    "\n",
    "async def main():\n",
    "    condition = Condition()\n",
    "    asyncio.create_task(fire_event(condition))\n",
    "\n",
    "    await asyncio.gather(do_work(condition), do_work(condition))\n",
    "\n",
    "\n",
    "if __name__ == \"__main__\":\n",
    "    await main()"
   ]
  },
  {
   "cell_type": "markdown",
   "id": "ecc75ce7",
   "metadata": {
    "id": "ecc75ce7"
   },
   "source": [
    "Иногда мы используем `asyncio.Condition`, чтобы ждать выполнения определенного условия перед переходом к следующему шагу. Мы можем вызвать `condition.wait_for()` и передать метод в качестве аргумента. При каждом вызове `condition.notify_all` метод `condition.wait_for` проверяет результат выполнения переданного метода. Если результат равен `True`, ожидание завершается, если `False` - ожидание продолжается."
   ]
  },
  {
   "cell_type": "markdown",
   "id": "bmw7-iNNZS7U",
   "metadata": {
    "id": "bmw7-iNNZS7U"
   },
   "source": [
    "Пример использования `condition.wait_for` может быть проиллюстрирован на следующем коде. Мы моделируем подключение к базе данных, проверяя, инициализировано ли соединение, и выполняем запрос, если инициализация завершена. В противном случае код ждет завершения инициализации соединения."
   ]
  },
  {
   "cell_type": "code",
   "execution_count": 115,
   "id": "5b9d534b",
   "metadata": {
    "id": "5b9d534b"
   },
   "outputs": [],
   "source": [
    "from asyncio import Condition\n",
    "from enum import Enum"
   ]
  },
  {
   "cell_type": "code",
   "execution_count": 117,
   "id": "2013c965",
   "metadata": {
    "id": "2013c965"
   },
   "outputs": [],
   "source": [
    "class ConnectionState(Enum):\n",
    "    WAIT_INIT = 0\n",
    "    INITIALING = 1\n",
    "    INITIALIZED = 2"
   ]
  },
  {
   "cell_type": "code",
   "execution_count": 119,
   "id": "04ddca74",
   "metadata": {
    "id": "04ddca74"
   },
   "outputs": [],
   "source": [
    "class Connection:\n",
    "    def __init__(self):\n",
    "        self._state = ConnectionState.WAIT_INIT\n",
    "        self._condition = Condition()\n",
    "\n",
    "    async def initialize(self):\n",
    "        print(\"initialize: Preparing initialize the connection.\")\n",
    "        await self._change_state(ConnectionState.INITIALING)\n",
    "        await asyncio.sleep(5)\n",
    "        print(\"initialize: Connection initialized\")\n",
    "        await self._change_state(ConnectionState.INITIALIZED)\n",
    "\n",
    "    async def execute(self, query: str):\n",
    "        async with self._condition:\n",
    "            print(\"execute: Waiting for connection initialized\")\n",
    "            await self._condition.wait_for(self._is_initialized)\n",
    "            print(f\"execute: Connection initialized, executing query: {query}\")\n",
    "            await asyncio.sleep(5)\n",
    "            print(\"execute: Execute finished.\")\n",
    "\n",
    "    async def _change_state(self, state: ConnectionState):\n",
    "        print(f\"_change_state: Will change state from {self._state} to {state}\")\n",
    "        self._state = state\n",
    "        print(\"_change_state: Change the state and notify all..\")\n",
    "        async with self._condition:\n",
    "            self._condition.notify_all()\n",
    "\n",
    "    def _is_initialized(self):\n",
    "        if self._state is not ConnectionState.INITIALIZED:\n",
    "            print(\"_is_initialized: The connection is not initialized.\")\n",
    "            return False\n",
    "        print(\"_is_initialized: The connection is ready.\")\n",
    "        return True"
   ]
  },
  {
   "cell_type": "code",
   "execution_count": 121,
   "id": "9ebd1fb2",
   "metadata": {
    "id": "9ebd1fb2"
   },
   "outputs": [
    {
     "name": "stdout",
     "output_type": "stream",
     "text": [
      "execute: Waiting for connection initialized\n",
      "_is_initialized: The connection is not initialized.\n",
      "execute: Waiting for connection initialized\n",
      "_is_initialized: The connection is not initialized.\n",
      "initialize: Preparing initialize the connection.\n",
      "_change_state: Will change state from ConnectionState.WAIT_INIT to ConnectionState.INITIALING\n",
      "_change_state: Change the state and notify all..\n",
      "_is_initialized: The connection is not initialized.\n",
      "_is_initialized: The connection is not initialized.\n",
      "initialize: Connection initialized\n",
      "_change_state: Will change state from ConnectionState.INITIALING to ConnectionState.INITIALIZED\n",
      "_change_state: Change the state and notify all..\n",
      "_is_initialized: The connection is ready.\n",
      "execute: Connection initialized, executing query: SELECT * FROM table\n",
      "execute: Execute finished.\n",
      "_is_initialized: The connection is ready.\n",
      "execute: Connection initialized, executing query: SELECT * FROM other_table\n",
      "execute: Execute finished.\n"
     ]
    }
   ],
   "source": [
    "async def main():\n",
    "    connection = Connection()\n",
    "    task_one = asyncio.create_task(connection.execute(\"SELECT * FROM table\"))\n",
    "    task_two = asyncio.create_task(connection.execute(\"SELECT * FROM other_table\"))\n",
    "\n",
    "    asyncio.create_task(connection.initialize())\n",
    "    await asyncio.gather(task_one, task_two)\n",
    "await main()"
   ]
  },
  {
   "cell_type": "markdown",
   "id": "1beaa91c",
   "metadata": {
    "id": "1beaa91c"
   },
   "source": [
    "## Библиотека `concurrent.futures`"
   ]
  },
  {
   "cell_type": "markdown",
   "id": "c58fdb31",
   "metadata": {
    "id": "c58fdb31"
   },
   "source": [
    "Кроме библиотеки `asyncio` в `Python` есть не менее интересная библиотека `concurrent.futures`."
   ]
  },
  {
   "cell_type": "markdown",
   "id": "3b614c82",
   "metadata": {
    "id": "3b614c82"
   },
   "source": [
    "Какие преимущества предоставляет этот модуль?\n",
    "\n",
    "1) **Простота использования:** `concurrent.futures` предоставляет простой и интуитивно понятный API для запуска задач параллельно. Это позволяет сосредоточиться на решении задачи, а не на деталях многозадачности.\n",
    "\n",
    "2) **Автоматическое масштабирование:** Модуль позволяет легко масштабировать задачи, выполняемые в пулах потоков (ThreadPoolExecutor) и пулах процессов (ProcessPoolExecutor). Вы можете использовать их в зависимости от характера задачи и доступных ресурсов.\n",
    "\n",
    "3) **Удобная обработка результатов:** `concurrent.futures` предоставляет `Future` объекты, которые позволяют отслеживать выполнение задач и получать результаты, когда они готовы.\n",
    "\n",
    "4) **Отсутствие необходимости заботиться о GIL:** В отличие от многих других способов параллельного выполнения в Python, concurrent.futures позволяет избежать проблем, связанных с `Global Interpreter Lock (GIL)`, что делает его отличным выбором для многозадачных приложений.\n",
    "Подробно [тут](https://habr.com/ru/companies/otus/articles/771346/)."
   ]
  },
  {
   "cell_type": "markdown",
   "id": "45eaa740",
   "metadata": {
    "id": "45eaa740"
   },
   "source": [
    "Полезные ссылки по теме семинара:\n",
    "* Документация Asyncio : https://docs.python.org/3/library/asyncio.html\n",
    "* Документация Tornado : https://www.tornadoweb.org/en/stable/guide/async.html\n",
    "* Документация Gevent : http://www.gevent.org/index.html\n",
    "* Документация Multiproccesing : https://docs.python.org/3/library/multiprocessing.html\n",
    "* Документация Threading: https://docs.python.org/3/library/threading.html\n",
    "* GIL: https://wiki.python.org/moin/GlobalInterpreterLock"
   ]
  },
  {
   "cell_type": "markdown",
   "id": "95ad8ad8-88a2-4918-9343-98af6f519b4b",
   "metadata": {},
   "source": [
    "Написать функцию, которая выводит слово заданное число раз (2 раза), после каждого вывода ожидание sleep(0.5)\n",
    "\n",
    "Выполнять несколько задач\n",
    "\n",
    "Если корутины выполнены успешно вернуть None, иначе return_exceptions\n",
    "\n",
    "Сравнить с синхронным программированием"
   ]
  },
  {
   "cell_type": "code",
   "execution_count": 141,
   "id": "b6f97bb0-fbc1-47ad-a98b-345118f83861",
   "metadata": {},
   "outputs": [
    {
     "name": "stdout",
     "output_type": "stream",
     "text": [
      "Hello\n",
      "Good bye\n",
      "Hello\n",
      "Good bye\n",
      "[None, None]\n",
      "Time: 1.002906322479248\n"
     ]
    }
   ],
   "source": [
    "async def say(text, times):\n",
    "    for _ in range(times):\n",
    "        print(text)\n",
    "        await asyncio.sleep(0.5)\n",
    "\n",
    "\n",
    "async def main():\n",
    "    started = time.time()\n",
    "\n",
    "    results = await asyncio.gather(\n",
    "        say('Hello', 2),\n",
    "  #      say('Wait.....', 3),\n",
    "        say('Good bye', 2)\n",
    "    )\n",
    "    print(results)\n",
    "    print(f\"Time: {time.time() - started}\")\n",
    "\n",
    "await main()\n"
   ]
  },
  {
   "cell_type": "code",
   "execution_count": 145,
   "id": "bb6a8d8f-8ff1-42ac-88ed-5ef7b1651d13",
   "metadata": {},
   "outputs": [
    {
     "name": "stdout",
     "output_type": "stream",
     "text": [
      "Hello\n",
      "Hello\n",
      "Good bye\n",
      "Good bye\n",
      "Time: 2.003037691116333\n"
     ]
    }
   ],
   "source": [
    "def say(text, times):\n",
    "    for _ in range(times):\n",
    "        print(text)\n",
    "        time.sleep(0.5)\n",
    "\n",
    "\n",
    "def main():\n",
    "    started = time.time()\n",
    "\n",
    "    say('Hello', 2),\n",
    "  #      say('Wait.....', 3),\n",
    "    say('Good bye', 2)\n",
    "    print(f\"Time: {time.time() - started}\")\n",
    "\n",
    "main()\n"
   ]
  },
  {
   "cell_type": "code",
   "execution_count": null,
   "id": "372c5e2c-c759-4a2a-abe8-ad424c39db25",
   "metadata": {},
   "outputs": [],
   "source": []
  }
 ],
 "metadata": {
  "colab": {
   "provenance": [],
   "toc_visible": true
  },
  "kernelspec": {
   "display_name": "Python 3 (ipykernel)",
   "language": "python",
   "name": "python3"
  },
  "language_info": {
   "codemirror_mode": {
    "name": "ipython",
    "version": 3
   },
   "file_extension": ".py",
   "mimetype": "text/x-python",
   "name": "python",
   "nbconvert_exporter": "python",
   "pygments_lexer": "ipython3",
   "version": "3.12.4"
  }
 },
 "nbformat": 4,
 "nbformat_minor": 5
}
