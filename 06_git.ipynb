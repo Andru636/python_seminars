{
 "cells": [
  {
   "cell_type": "markdown",
   "metadata": {
    "id": "gRBv0nk4a-lI"
   },
   "source": [
    "# Система контроля версий"
   ]
  },
  {
   "cell_type": "markdown",
   "metadata": {
    "id": "rbE3jYV2bEK3"
   },
   "source": [
    "Зачем нужны? Версии программ."
   ]
  },
  {
   "cell_type": "markdown",
   "metadata": {
    "id": "r-TY_5ljbRCr"
   },
   "source": [
    "**Система контроля версий** (VCS) - инструмент для отслеживания изменений файлов. VCS используется практически во всех хоть сколько то серьезных проектах. Почти наверняка вы будете столкнетесь с VCS по работе.\n",
    "\n",
    "**Преимущества VCS:**\n",
    "\n",
    "- **простота сотрудничества** - легче организовать работу нескольких человек над одним проектом\n",
    "- **возможность к откатам** - можно полностью откатить неудачные изменения\n",
    "- **отслеживание прогресса выполнения** - можно проследить историю изменений и доработок"
   ]
  },
  {
   "cell_type": "markdown",
   "metadata": {
    "id": "LXREbilzrSa3"
   },
   "source": [
    "Сейчас одной из основных VCS является **Git**.\n",
    "\n",
    "**Почему Git?**\n",
    "- децентрализованная система - можно работать независимо от других\n",
    "- гибкая система прав и доступов - легко давать необходимый доступ нужным людям\n",
    "- гибкое и легковесное ветвление - просто создавать нужные версии и объединять их\n",
    "- хорошо работает с текстовыми файлами (не особо хорошо - с бинарными) - отлично работает с кодом"
   ]
  },
  {
   "cell_type": "markdown",
   "metadata": {
    "id": "Nx-O_Zh7blSC"
   },
   "source": [
    "**Основные концепции в Git**"
   ]
  },
  {
   "cell_type": "markdown",
   "metadata": {
    "id": "qxIsx4acxNPq"
   },
   "source": [
    "**Репозиторий** - хранилище всех версий кода. Может быть локальным и удаленным.\n",
    "\n",
    "**Коммит** - \"снимок\" вашего кода, одна из его версий. Хранится в виде изменений по сравнению с предыдущим коммитом вашего кода. К каждому коммиту можно (и нужно) оставлять сообщения, где указывают что именно изменилось в вашем проекте.\n",
    "\n",
    "**Ветка** - отдельная линия разработки кода. Позволяет работать над разными \"фичами\" параллельно."
   ]
  },
  {
   "cell_type": "markdown",
   "metadata": {
    "id": "9bIQ0w3N109D"
   },
   "source": [
    "**Git != GitHub**\n",
    "\n",
    "- **Git** - система контроля версий\n",
    "- **GitHub** - сервис хранения репозиториев"
   ]
  },
  {
   "cell_type": "markdown",
   "metadata": {
    "id": "_9ht0aqv3-o9"
   },
   "source": [
    "Как подробнее вкатиться в Git?\n",
    "\n",
    "- Книга по Git - https://git-scm.com/book/ru/v2\n",
    "- LearnGitBranching - https://learngitbranching.js.org/?locale=ru_RU"
   ]
  },
  {
   "cell_type": "markdown",
   "metadata": {
    "id": "Xkw1LpwtZBCT"
   },
   "source": [
    "## Пример - минимальная работа с git"
   ]
  },
  {
   "cell_type": "markdown",
   "metadata": {},
   "source": [
    "Установка\n",
    "\n",
    "Основой интерфейс для работы с Git-ом является консоль/терминал. \n",
    "\n",
    "Windows: https://git-scm.com/download/win  скачиваем и устанавливаем.\n",
    "\n",
    "Linux: sudo apt install git"
   ]
  },
  {
   "cell_type": "code",
   "execution_count": 1,
   "metadata": {},
   "outputs": [
    {
     "name": "stdout",
     "output_type": "stream",
     "text": [
      "Couldn't find program: 'bash'\n"
     ]
    }
   ],
   "source": [
    "%%bash\n",
    "#Установим имя для вашего пользователя\n",
    "#Вместо <ваше_имя> можно ввести, например, Grisha_Popov\n",
    "#Кавычки оставляем\n",
    "git config --global user.name \"<ваше_имя>\"\n",
    "\n",
    "#Теперь установим email. Принцип тот же.\n",
    "git config --global user.email \"<адрес_почты@email.com>\"\n",
    "\n",
    "cd <путь_к_вашему_проекту>"
   ]
  },
  {
   "cell_type": "code",
   "execution_count": null,
   "metadata": {},
   "outputs": [],
   "source": []
  },
  {
   "cell_type": "markdown",
   "metadata": {
    "id": "3iG__y81ZUPe"
   },
   "source": [
    "Создадим git-репозиторий:"
   ]
  },
  {
   "cell_type": "markdown",
   "metadata": {},
   "source": [
    "GNU Bash или просто Bash - это оболочка Unix и командный язык.\n",
    "\n",
    "`%%bash` Означает, что следующий код будет выполняться bash."
   ]
  },
  {
   "cell_type": "code",
   "execution_count": null,
   "metadata": {
    "colab": {
     "base_uri": "https://localhost:8080/"
    },
    "id": "8kOMhKC1ZZwT",
    "outputId": "f69dea15-bf81-4d77-b05f-ee7f58e87ffb"
   },
   "outputs": [
    {
     "name": "stdout",
     "output_type": "stream",
     "text": [
      "Initialized empty Git repository in /content/.git/\n"
     ]
    }
   ],
   "source": [
    "%%bash\n",
    "#Инициализация/создание репозитория\n",
    "git init"
   ]
  },
  {
   "cell_type": "markdown",
   "metadata": {
    "id": "5REqjAu7Zehg"
   },
   "source": [
    "Добавим нужные файлы, которые хотим залить:"
   ]
  },
  {
   "cell_type": "code",
   "execution_count": null,
   "metadata": {
    "id": "a_vd5CMmaQTO"
   },
   "outputs": [],
   "source": [
    "%%bash\n",
    "echo \"print('Winter is coming...')\" > super_code.py"
   ]
  },
  {
   "cell_type": "markdown",
   "metadata": {
    "id": "FTTJ7nuvaPbQ"
   },
   "source": [
    "Укажем гиту, чтобы следил за файлом:"
   ]
  },
  {
   "cell_type": "code",
   "execution_count": null,
   "metadata": {
    "id": "_-EgkPnVahGY"
   },
   "outputs": [],
   "source": [
    "%%bash\n",
    "git add super_code.py"
   ]
  },
  {
   "cell_type": "code",
   "execution_count": null,
   "metadata": {},
   "outputs": [],
   "source": [
    "%%bash\n",
    "#Добавим все файлы проекта в будующий commit\n",
    "git add .\n",
    "#Или так\n",
    "git add --all\n",
    "\n",
    "#Если хотим добавить конкретный файл то можно так\n",
    "git add <имя_файла> \n",
    "\n",
    "#Теперь создаем commit. Обязательно указываем комментарий.\n",
    "#И не забываем про кавычки\n",
    "git commit -m \"<комментарий>\""
   ]
  },
  {
   "cell_type": "markdown",
   "metadata": {
    "id": "8oLD0brlammk"
   },
   "source": [
    "Сделаем первый коммит:"
   ]
  },
  {
   "cell_type": "code",
   "execution_count": null,
   "metadata": {
    "colab": {
     "base_uri": "https://localhost:8080/"
    },
    "id": "xGuUwupWao32",
    "outputId": "5868f18a-d466-4c79-e305-6cfe625a3c90"
   },
   "outputs": [
    {
     "name": "stdout",
     "output_type": "stream",
     "text": [
      "[master (root-commit) 215d64b] Init commit\n",
      " 1 file changed, 1 insertion(+)\n",
      " create mode 100644 super_code.py\n"
     ]
    }
   ],
   "source": [
    "%%bash\n",
    "git commit -m \"Init commit\""
   ]
  },
  {
   "cell_type": "markdown",
   "metadata": {},
   "source": [
    "Не стоит после каждого изменения файла делать commit. Чаще всего их создают, когда:\n",
    "\n",
    "    Создан новый функционал\n",
    "\n",
    "    Добавлен новый блок на верстке\n",
    "\n",
    "    Исправлены ошибки по коду\n",
    "\n",
    "    Вы завершили работу и хотите сохранить код\n"
   ]
  },
  {
   "cell_type": "markdown",
   "metadata": {},
   "source": [
    "Как посмотреть коммиты"
   ]
  },
  {
   "cell_type": "code",
   "execution_count": null,
   "metadata": {},
   "outputs": [],
   "source": [
    "%%bash\n",
    "git log\n"
   ]
  },
  {
   "cell_type": "markdown",
   "metadata": {},
   "source": [
    "Сейчас наш коммит является локальным — существует только в директории .git на нашей файловой системе. Несмотря на то, что сам по себе локальный репозиторий полезен, в большинстве случаев мы хотим поделиться нашей работой или доставить код на сервер, где он будет выполняться."
   ]
  },
  {
   "cell_type": "markdown",
   "metadata": {},
   "source": [
    "Репозиторий, хранящийся в облаке, на стороннем сервисе, специально созданном для работы с git имеет ряд преимуществ. Во-первых - это своего рода резервная копия вашего проекта, предоставляющая возможность безболезненной работы в команде. А еще в таком репозитории можно пользоваться дополнительными возможностями хостинга. К примеру -визуализацией истории или возможностью разрабатывать вашу программу непосредственно в веб-интерфейсе."
   ]
  },
  {
   "cell_type": "markdown",
   "metadata": {},
   "source": [
    "Клонирование - это когда вы копируете удаленный репозиторий к себе на локальный ПК. Это то, с чего обычно начинается любой проект. При этом вы переносите себе все файлы и папки проекта, а также всю его историю с момента его создания. Чтобы склонировать проект, сперва, необходимо узнать где он расположен и скопировать ссылку на него."
   ]
  },
  {
   "cell_type": "code",
   "execution_count": null,
   "metadata": {},
   "outputs": [],
   "source": [
    "%%bash\n",
    "git clone https://github.com/.......  new"
   ]
  },
  {
   "cell_type": "markdown",
   "metadata": {
    "id": "p_0O3o2jbE_J"
   },
   "source": [
    "Теперь нужно загрузить наши изменения на удаленный сервер. Чтобы загрузить что-нибудь в удаленный репозиторий, сначала нужно к нему подключиться. Укажем его:"
   ]
  },
  {
   "cell_type": "code",
   "execution_count": null,
   "metadata": {
    "id": "AJaIxbNFbDs0"
   },
   "outputs": [],
   "source": [
    "%%bash\n",
    "git remote add origin https://github.com/<свой URL>.git"
   ]
  },
  {
   "cell_type": "markdown",
   "metadata": {
    "id": "PFDZfTK4bXL0"
   },
   "source": [
    "Отправим изменения на сервер:"
   ]
  },
  {
   "cell_type": "code",
   "execution_count": null,
   "metadata": {
    "id": "P8JgoT_LbaBC"
   },
   "outputs": [],
   "source": [
    "%%bash\n",
    "git push origin"
   ]
  },
  {
   "cell_type": "markdown",
   "metadata": {
    "id": "ObtnsfDjbqse"
   },
   "source": [
    "Создадим новую локальную ветку:"
   ]
  },
  {
   "cell_type": "code",
   "execution_count": null,
   "metadata": {
    "id": "k5DlmHazbwiU"
   },
   "outputs": [],
   "source": [
    "%%bash\n",
    "git branch dev"
   ]
  },
  {
   "cell_type": "markdown",
   "metadata": {
    "id": "eVh8YVWedoFU"
   },
   "source": [
    "Переключимся на нее:"
   ]
  },
  {
   "cell_type": "code",
   "execution_count": null,
   "metadata": {
    "colab": {
     "base_uri": "https://localhost:8080/"
    },
    "id": "jKnKUlBqdtLM",
    "outputId": "bc76e25a-e6a1-404b-b40b-ae6664f4aa87"
   },
   "outputs": [
    {
     "name": "stderr",
     "output_type": "stream",
     "text": [
      "Switched to branch 'dev'\n"
     ]
    }
   ],
   "source": [
    "%%bash\n",
    "git checkout dev"
   ]
  },
  {
   "cell_type": "markdown",
   "metadata": {
    "id": "hcFxsVateCo4"
   },
   "source": [
    "Дополним файл:"
   ]
  },
  {
   "cell_type": "code",
   "execution_count": null,
   "metadata": {
    "id": "0faciBbbeBip"
   },
   "outputs": [],
   "source": [
    "%%bash\n",
    "echo \"\\nprint('something else')\" >> super_code.py"
   ]
  },
  {
   "cell_type": "markdown",
   "metadata": {
    "id": "DkjsQmCeegOX"
   },
   "source": [
    "Сделаем еще один коммит:"
   ]
  },
  {
   "cell_type": "code",
   "execution_count": null,
   "metadata": {
    "colab": {
     "base_uri": "https://localhost:8080/"
    },
    "id": "HcEPy-79ej2D",
    "outputId": "7ad96e9a-2a24-4572-cfe6-2756482f4b14"
   },
   "outputs": [
    {
     "name": "stdout",
     "output_type": "stream",
     "text": [
      "[dev b4aa3c0] Added new functionality\n",
      " 1 file changed, 1 insertion(+)\n"
     ]
    }
   ],
   "source": [
    "%%bash\n",
    "git add super_code.py\n",
    "git commit -m \"Added new functionality\""
   ]
  },
  {
   "cell_type": "markdown",
   "metadata": {},
   "source": [
    "Слияние веток:\n",
    "\n",
    "Переключиться на основную ветку:  git checkout master\n",
    "\n",
    "\n"
   ]
  },
  {
   "cell_type": "markdown",
   "metadata": {},
   "source": [
    "Выполнить слияние: git merge new_branch"
   ]
  },
  {
   "cell_type": "markdown",
   "metadata": {},
   "source": [
    "## Задача 1\n",
    "\n",
    "Папка wild_animals содержит файлы:\n",
    "\n",
    "  ├── elephant.txt\n",
    "  \n",
    "  ├── giraffe.txt\n",
    "  \n",
    "\n",
    "1. Создайте репозиторий внутри папки wild_animals.\n",
    "\n",
    "\n",
    "2. Сделайте 1й коммит:\n",
    "\n",
    "   1) Сделайте файлы папки wild_animals отслеживаемыми\n",
    "   \n",
    "   2) Сделайте коммит\n",
    "\n",
    "4. Сделайте 2й коммит\n",
    "   \n",
    "   1) Измените текст в файле elephant.txt\n",
    "       \n",
    "    2) Добавьте изменения\n",
    "   \n",
    "   3) Сделайте коммит\n",
    "\n",
    "5. Сделайте 3й коммит\n",
    "\n",
    "\n",
    "   1) Добавьте в файл для еще одного животного (например, для кенгуру)\n",
    "   \n",
    "    2) Добавьте изменения \n",
    "   \n",
    "   3) Сделайте коммит"
   ]
  },
  {
   "cell_type": "markdown",
   "metadata": {},
   "source": [
    "## Задача 2\n",
    "\n",
    "1) Выполните команду git clone https://github.com/smartiqaorg/geometric_lib. Она скопирует наш репозиторий к вам на компьютер.\n",
    "\n",
    "2) Создайте новую ветку с названием new_features и переключитесь на нее.\n",
    "\n",
    "3) Добавьте новый файл в эту ветку c вычислениями площади для фигуры Прямоугольник.\n",
    "4) \n",
    "Его название: rectangle.py\n",
    "\n",
    "def area(a, b):\n",
    "\n",
    "    ...\n",
    "    \n",
    "4) Сделайте коммит с сообщением \"L-03: Added rectangle.py\".\n",
    "\n",
    "5) Добавьте еще один файл в эту ветку с вычислениями периметра и площади для фигуры Треугольник.\n",
    "6) \n",
    "Его название: triangle.py\n",
    "\n",
    "Его содержимое:\n",
    "\n",
    "def area(a, h):\n",
    "\n",
    "    ...\n",
    "   \n",
    "def perimeter(a, b, c):\n",
    "\n",
    "    ...\n",
    "    \n",
    "7) Добавьте периметра в файле rectangle.py, теперь он должен стать таким:\n",
    "\n",
    "def area(a, b):\n",
    "\n",
    "    ...\n",
    "    \n",
    "def perimeter(a, b):\n",
    "\n",
    "    ...\n",
    "\n",
    "\n",
    "7) Создайте еще один коммит внутри этой же ветки, его сообщение: \"L-03: Added triangle.py and fixed rectangle perimeter bug\".\n",
    "\n",
    "8) Посмотрите историю коммитов.\n",
    "\n",
    "9) Переключиться на основную ветку и выполнить слияние\n"
   ]
  },
  {
   "cell_type": "code",
   "execution_count": null,
   "metadata": {},
   "outputs": [],
   "source": []
  },
  {
   "cell_type": "code",
   "execution_count": null,
   "metadata": {},
   "outputs": [],
   "source": []
  }
 ],
 "metadata": {
  "colab": {
   "collapsed_sections": [],
   "provenance": []
  },
  "kernelspec": {
   "display_name": "Python 3 (ipykernel)",
   "language": "python",
   "name": "python3"
  },
  "language_info": {
   "codemirror_mode": {
    "name": "ipython",
    "version": 3
   },
   "file_extension": ".py",
   "mimetype": "text/x-python",
   "name": "python",
   "nbconvert_exporter": "python",
   "pygments_lexer": "ipython3",
   "version": "3.12.4"
  }
 },
 "nbformat": 4,
 "nbformat_minor": 4
}
